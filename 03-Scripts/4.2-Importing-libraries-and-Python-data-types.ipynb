{
 "cells": [
  {
   "cell_type": "markdown",
   "id": "15923d42-7f60-4382-8a56-e90378e27858",
   "metadata": {
    "tags": []
   },
   "source": [
    "# 01. Importing libraries"
   ]
  },
  {
   "cell_type": "code",
   "execution_count": 5,
   "id": "2cf88e9e-a7c9-4613-9491-c46b385c2f66",
   "metadata": {
    "tags": []
   },
   "outputs": [],
   "source": [
    "# Import libraries\n",
    "import pandas as pd\n",
    "import numpy as np\n",
    "import os"
   ]
  },
  {
   "cell_type": "markdown",
   "id": "3e1ca2b2-5b89-4703-965a-04d2d569f54b",
   "metadata": {},
   "source": [
    "# 02. Working with Python Data Types"
   ]
  },
  {
   "cell_type": "code",
   "execution_count": 41,
   "id": "573debc7-a67b-456e-880b-7bc6517fb91f",
   "metadata": {},
   "outputs": [],
   "source": [
    "# Code 3 different ways of reaching a result of 100 by adding or subtracting numeric variables."
   ]
  },
  {
   "cell_type": "code",
   "execution_count": 42,
   "id": "6f7cb3e3-a9f3-4bb2-911c-4f8e199ca7e8",
   "metadata": {},
   "outputs": [],
   "source": [
    "x = (90 + 10)"
   ]
  },
  {
   "cell_type": "code",
   "execution_count": 43,
   "id": "5e107aca-4ff2-4132-bb08-10517a56c44f",
   "metadata": {},
   "outputs": [
    {
     "name": "stdout",
     "output_type": "stream",
     "text": [
      "100\n"
     ]
    }
   ],
   "source": [
    "print (x)"
   ]
  },
  {
   "cell_type": "code",
   "execution_count": 45,
   "id": "cc3d91fa-c93b-4da0-a3c2-c7be6d07ca0f",
   "metadata": {},
   "outputs": [
    {
     "name": "stdout",
     "output_type": "stream",
     "text": [
      "100\n"
     ]
    }
   ],
   "source": [
    "print (50 + 200 - 150)"
   ]
  },
  {
   "cell_type": "code",
   "execution_count": 47,
   "id": "3853c8b6-612b-49df-94a4-ebe652452972",
   "metadata": {},
   "outputs": [],
   "source": [
    "y = (20)"
   ]
  },
  {
   "cell_type": "code",
   "execution_count": 48,
   "id": "deb5e4fa-5241-4d16-a061-0e26f1ea391f",
   "metadata": {},
   "outputs": [],
   "source": [
    "c = (56)"
   ]
  },
  {
   "cell_type": "code",
   "execution_count": 49,
   "id": "a7eef04a-000e-4d58-9d90-4ca9da310eb7",
   "metadata": {},
   "outputs": [],
   "source": [
    "e = (24)"
   ]
  },
  {
   "cell_type": "code",
   "execution_count": 50,
   "id": "350137f0-fa26-41ae-8aa7-a2debd555b7d",
   "metadata": {},
   "outputs": [
    {
     "data": {
      "text/plain": [
       "100"
      ]
     },
     "execution_count": 50,
     "metadata": {},
     "output_type": "execute_result"
    }
   ],
   "source": [
    "y + c + e"
   ]
  },
  {
   "cell_type": "code",
   "execution_count": 51,
   "id": "7530356b-8257-4888-bb69-30f67e45ef4e",
   "metadata": {},
   "outputs": [],
   "source": [
    "# Code 2 floating-point variables and divide them by each other."
   ]
  },
  {
   "cell_type": "code",
   "execution_count": 56,
   "id": "3a2945e1-0efe-4364-a2e3-df0e7f33f25f",
   "metadata": {},
   "outputs": [],
   "source": [
    "float1 = (3.14)"
   ]
  },
  {
   "cell_type": "code",
   "execution_count": 59,
   "id": "5b945025-2aa6-456d-973a-c3039371c106",
   "metadata": {},
   "outputs": [],
   "source": [
    "float2 = (1.25)"
   ]
  },
  {
   "cell_type": "code",
   "execution_count": 60,
   "id": "52b49105-dc07-468f-aac7-2f7ab8412239",
   "metadata": {},
   "outputs": [
    {
     "name": "stdout",
     "output_type": "stream",
     "text": [
      "2.512\n"
     ]
    }
   ],
   "source": [
    "print (float1 / float2)"
   ]
  },
  {
   "cell_type": "code",
   "execution_count": 55,
   "id": "e8f01ae8-dcde-48b2-9c8b-ac2261e108e2",
   "metadata": {},
   "outputs": [],
   "source": [
    "# Construct a short word made of separate strings (you’ll need to concatenate some strings!)."
   ]
  },
  {
   "cell_type": "code",
   "execution_count": 61,
   "id": "9cf6c47d-2554-49ca-8daf-27cb82fd870e",
   "metadata": {},
   "outputs": [],
   "source": [
    "str = (\"wo\")"
   ]
  },
  {
   "cell_type": "code",
   "execution_count": 62,
   "id": "d85ef248-061e-437e-8f93-7aafea7a4623",
   "metadata": {},
   "outputs": [],
   "source": [
    "ing = (\"rd\")"
   ]
  },
  {
   "cell_type": "code",
   "execution_count": 63,
   "id": "089c6852-76de-4b61-8cb5-fc861ff01e73",
   "metadata": {},
   "outputs": [
    {
     "name": "stdout",
     "output_type": "stream",
     "text": [
      "word\n"
     ]
    }
   ],
   "source": [
    "print (str + ing)"
   ]
  },
  {
   "cell_type": "code",
   "execution_count": 64,
   "id": "a49f64fc-3148-4384-acc5-a79713e85d7c",
   "metadata": {},
   "outputs": [],
   "source": [
    "# Construct 2 short sentences made of separate strings."
   ]
  },
  {
   "cell_type": "code",
   "execution_count": 52,
   "id": "63c272a8-ee38-4844-81a7-2cb20d76f864",
   "metadata": {},
   "outputs": [],
   "source": [
    "string1 = (\"Practice ma\")"
   ]
  },
  {
   "cell_type": "code",
   "execution_count": 53,
   "id": "a949d3a2-597e-4564-8966-c24ac1ed3c94",
   "metadata": {},
   "outputs": [],
   "source": [
    "string2 = (\"kes perfect.\")"
   ]
  },
  {
   "cell_type": "code",
   "execution_count": 54,
   "id": "96381afc-ecbd-48b6-9b09-aba8872de0a5",
   "metadata": {},
   "outputs": [
    {
     "name": "stdout",
     "output_type": "stream",
     "text": [
      "Practice makes perfect.\n"
     ]
    }
   ],
   "source": [
    "print (string1 + string2)"
   ]
  },
  {
   "cell_type": "code",
   "execution_count": 65,
   "id": "23e8215e-7993-4e35-b3c9-a4278f564dc1",
   "metadata": {},
   "outputs": [],
   "source": [
    "string1 = (\"What'\")"
   ]
  },
  {
   "cell_type": "code",
   "execution_count": 66,
   "id": "e4fd3577-cc7e-40a1-8b62-3e57c178facb",
   "metadata": {},
   "outputs": [],
   "source": [
    "string2 = ('s for dinner?')"
   ]
  },
  {
   "cell_type": "code",
   "execution_count": 67,
   "id": "038e6926-e4b8-49f1-bba3-9728b65ca274",
   "metadata": {},
   "outputs": [
    {
     "name": "stdout",
     "output_type": "stream",
     "text": [
      "What's for dinner?\n"
     ]
    }
   ],
   "source": [
    "print (string1 + string2)"
   ]
  },
  {
   "cell_type": "code",
   "execution_count": 68,
   "id": "b84075a8-e82f-4646-bd9f-abc098600b3a",
   "metadata": {},
   "outputs": [],
   "source": [
    "# Bonus Task\n",
    "\n",
    "# At the bottom of your file, include a command that makes a string appear 100 times."
   ]
  },
  {
   "cell_type": "code",
   "execution_count": 69,
   "id": "219628e3-dfe6-4f2f-88d7-2e9bb584f251",
   "metadata": {},
   "outputs": [],
   "source": [
    "snippet = (\"a string \")"
   ]
  },
  {
   "cell_type": "code",
   "execution_count": 71,
   "id": "461fd913-88df-4b92-bdb7-d1d28385f16f",
   "metadata": {},
   "outputs": [
    {
     "name": "stdout",
     "output_type": "stream",
     "text": [
      "a string a string a string a string a string a string a string a string a string a string a string a string a string a string a string a string a string a string a string a string a string a string a string a string a string a string a string a string a string a string a string a string a string a string a string a string a string a string a string a string a string a string a string a string a string a string a string a string a string a string a string a string a string a string a string a string a string a string a string a string a string a string a string a string a string a string a string a string a string a string a string a string a string a string a string a string a string a string a string a string a string a string a string a string a string a string a string a string a string a string a string a string a string a string a string a string a string a string a string a string \n"
     ]
    }
   ],
   "source": [
    "print (snippet * 100)"
   ]
  }
 ],
 "metadata": {
  "kernelspec": {
   "display_name": "Python 3 (ipykernel)",
   "language": "python",
   "name": "python3"
  },
  "language_info": {
   "codemirror_mode": {
    "name": "ipython",
    "version": 3
   },
   "file_extension": ".py",
   "mimetype": "text/x-python",
   "name": "python",
   "nbconvert_exporter": "python",
   "pygments_lexer": "ipython3",
   "version": "3.9.12"
  }
 },
 "nbformat": 4,
 "nbformat_minor": 5
}
