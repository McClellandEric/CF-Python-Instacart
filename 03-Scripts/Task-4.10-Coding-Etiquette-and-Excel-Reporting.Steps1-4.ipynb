{
 "cells": [
  {
   "cell_type": "markdown",
   "id": "c4e1f19e-cacd-47e4-ae17-9eaa3d464c6d",
   "metadata": {
    "tags": []
   },
   "source": [
    "# Task 4.10: Coding Etiquette & Excel Reporting, Steps 1-4"
   ]
  },
  {
   "cell_type": "markdown",
   "id": "dc4d02be-dd6a-46a5-b5e6-3d547ee3c66a",
   "metadata": {},
   "source": [
    "### Contents\n",
    "** **\n",
    "A) Standard prerequisites, including library loading and path setup.\n",
    "\n",
    "Step 1:  Import data from Exercise 4.9.\n",
    "\n",
    "Step 2:  Security implications.\n",
    "\n",
    "Step 3:  Regional segmentation of the data.\n",
    "\n",
    "Step 4:  Exclusion of low-activity customers."
   ]
  },
  {
   "cell_type": "markdown",
   "id": "6f1f8e97-4f3c-4640-a301-eaee1397f1ed",
   "metadata": {},
   "source": [
    "## Standard prerequisites.  Now with additional libraries seaborn, matplotlib, and scipy."
   ]
  },
  {
   "cell_type": "code",
   "execution_count": 1,
   "id": "081d0d6d-c6f3-4d56-926f-51f033f30178",
   "metadata": {
    "ExecuteTime": {
     "end_time": "2023-03-16T05:13:58.104429Z",
     "start_time": "2023-03-16T05:13:55.458556Z"
    },
    "execution": {
     "iopub.execute_input": "2023-05-04T19:34:18.276842Z",
     "iopub.status.busy": "2023-05-04T19:34:18.276558Z",
     "iopub.status.idle": "2023-05-04T19:34:20.392169Z",
     "shell.execute_reply": "2023-05-04T19:34:20.391353Z",
     "shell.execute_reply.started": "2023-05-04T19:34:18.276770Z"
    },
    "tags": []
   },
   "outputs": [],
   "source": [
    "# Import libraries\n",
    "import pandas as pd\n",
    "import numpy as np\n",
    "import os\n",
    "import matplotlib.pyplot as plt\n",
    "import seaborn as sns\n",
    "import scipy"
   ]
  },
  {
   "cell_type": "code",
   "execution_count": 2,
   "id": "b3199b10-ffee-40f6-a730-0c998c56c6ee",
   "metadata": {
    "ExecuteTime": {
     "end_time": "2023-03-16T05:13:58.110007Z",
     "start_time": "2023-03-16T05:13:58.106940Z"
    },
    "execution": {
     "iopub.execute_input": "2023-05-04T19:34:20.393621Z",
     "iopub.status.busy": "2023-05-04T19:34:20.393385Z",
     "iopub.status.idle": "2023-05-04T19:34:20.399051Z",
     "shell.execute_reply": "2023-05-04T19:34:20.398419Z",
     "shell.execute_reply.started": "2023-05-04T19:34:20.393596Z"
    }
   },
   "outputs": [],
   "source": [
    "# Starting with Exercise 4.7, import additional libraries I've discovered thanks to Lubov, especially the time library.\n",
    "import time\n",
    "import string\n",
    "import random"
   ]
  },
  {
   "cell_type": "code",
   "execution_count": 3,
   "id": "b03b1e90-01b4-44ef-88a3-c289f56963b2",
   "metadata": {
    "ExecuteTime": {
     "end_time": "2023-03-16T05:13:58.116676Z",
     "start_time": "2023-03-16T05:13:58.111662Z"
    },
    "execution": {
     "iopub.execute_input": "2023-05-04T19:34:20.400652Z",
     "iopub.status.busy": "2023-05-04T19:34:20.399924Z",
     "iopub.status.idle": "2023-05-04T19:34:20.404297Z",
     "shell.execute_reply": "2023-05-04T19:34:20.403726Z",
     "shell.execute_reply.started": "2023-05-04T19:34:20.400615Z"
    }
   },
   "outputs": [],
   "source": [
    "# Set a PATH variable."
   ]
  },
  {
   "cell_type": "code",
   "execution_count": 4,
   "id": "a0378b2d-3a8a-45b1-9f1e-a35e0997ec2d",
   "metadata": {
    "ExecuteTime": {
     "end_time": "2023-03-16T05:13:58.122247Z",
     "start_time": "2023-03-16T05:13:58.119034Z"
    },
    "execution": {
     "iopub.execute_input": "2023-05-04T19:34:20.406313Z",
     "iopub.status.busy": "2023-05-04T19:34:20.405693Z",
     "iopub.status.idle": "2023-05-04T19:34:20.410136Z",
     "shell.execute_reply": "2023-05-04T19:34:20.409382Z",
     "shell.execute_reply.started": "2023-05-04T19:34:20.406289Z"
    }
   },
   "outputs": [],
   "source": [
    "# Linux PATH - Sadly, my Linux system with 8GB of total RAM could not import the new df_ords_prior DataFrame.\n",
    "# BUT, now I have moved again, to an AWS EC2 instance that should be able to handle this."
   ]
  },
  {
   "cell_type": "code",
   "execution_count": 5,
   "id": "7f5adcaf-3d1e-4a8e-b332-576299e968c7",
   "metadata": {
    "ExecuteTime": {
     "end_time": "2023-03-16T05:13:58.129043Z",
     "start_time": "2023-03-16T05:13:58.124442Z"
    },
    "execution": {
     "iopub.execute_input": "2023-05-04T19:34:20.411207Z",
     "iopub.status.busy": "2023-05-04T19:34:20.411023Z",
     "iopub.status.idle": "2023-05-04T19:34:20.415060Z",
     "shell.execute_reply": "2023-05-04T19:34:20.414284Z",
     "shell.execute_reply.started": "2023-05-04T19:34:20.411185Z"
    }
   },
   "outputs": [],
   "source": [
    "## path = (r'~/careerfoundry/tasks/data-immersion/Achievement4/Instacart-Basket-Analysis')"
   ]
  },
  {
   "cell_type": "markdown",
   "id": "a20684f4-ee7d-4efd-93e0-b59537daad28",
   "metadata": {},
   "source": [
    "### # Oh, wow, matplotlib.pyplot.savefig function does not expand the tilde (~) reference in directory paths.  LAME. :("
   ]
  },
  {
   "cell_type": "code",
   "execution_count": 6,
   "id": "67401e67-01ee-4473-aef8-c44d3f2bac06",
   "metadata": {
    "ExecuteTime": {
     "end_time": "2023-03-16T05:13:58.133903Z",
     "start_time": "2023-03-16T05:13:58.130743Z"
    },
    "execution": {
     "iopub.execute_input": "2023-05-04T19:34:20.416699Z",
     "iopub.status.busy": "2023-05-04T19:34:20.416074Z",
     "iopub.status.idle": "2023-05-04T19:34:20.420122Z",
     "shell.execute_reply": "2023-05-04T19:34:20.419499Z",
     "shell.execute_reply.started": "2023-05-04T19:34:20.416670Z"
    }
   },
   "outputs": [],
   "source": [
    "path = (r'/home/ubuntu/careerfoundry/tasks/data-immersion/Achievement4/Instacart-Basket-Analysis')"
   ]
  },
  {
   "cell_type": "code",
   "execution_count": 7,
   "id": "ae3e2b73-3555-4f41-8cff-ad935b1bcb9a",
   "metadata": {
    "ExecuteTime": {
     "end_time": "2023-03-16T05:13:58.140204Z",
     "start_time": "2023-03-16T05:13:58.135602Z"
    },
    "execution": {
     "iopub.execute_input": "2023-05-04T19:34:20.421763Z",
     "iopub.status.busy": "2023-05-04T19:34:20.421218Z",
     "iopub.status.idle": "2023-05-04T19:34:20.425563Z",
     "shell.execute_reply": "2023-05-04T19:34:20.424557Z",
     "shell.execute_reply.started": "2023-05-04T19:34:20.421736Z"
    }
   },
   "outputs": [],
   "source": [
    "# windoze PATH - The windoze laptop I bought for Excel and Tableau also has 16GB of RAM, so I migrated there."
   ]
  },
  {
   "cell_type": "code",
   "execution_count": 8,
   "id": "e01e8688-9cbf-4c2f-8a09-220be42a8d20",
   "metadata": {
    "ExecuteTime": {
     "end_time": "2023-03-16T05:13:58.144930Z",
     "start_time": "2023-03-16T05:13:58.142052Z"
    },
    "execution": {
     "iopub.execute_input": "2023-05-04T19:34:20.427383Z",
     "iopub.status.busy": "2023-05-04T19:34:20.426896Z",
     "iopub.status.idle": "2023-05-04T19:34:20.431754Z",
     "shell.execute_reply": "2023-05-04T19:34:20.430724Z",
     "shell.execute_reply.started": "2023-05-04T19:34:20.427348Z"
    }
   },
   "outputs": [],
   "source": [
    "## path = (r'C:\\Users\\emccc\\OneDrive\\Documents\\CareerFoundry\\Achievement-4\\Instacart-Basket-Analysis')"
   ]
  },
  {
   "cell_type": "markdown",
   "id": "c3abc462-c5ae-4a36-ab7c-92fde3257120",
   "metadata": {
    "tags": []
   },
   "source": [
    "## Step 1:   Import the data set you exported in Exercise 4.9 into a new Jupyter notebook. This should be the merged version of your data that contains the new customers column."
   ]
  },
  {
   "cell_type": "code",
   "execution_count": 9,
   "id": "2eae4d42-a0f2-4bc7-ada5-37bb6103b1b9",
   "metadata": {
    "ExecuteTime": {
     "end_time": "2023-03-16T05:13:58.150563Z",
     "start_time": "2023-03-16T05:13:58.146555Z"
    },
    "execution": {
     "iopub.execute_input": "2023-05-04T19:34:20.433217Z",
     "iopub.status.busy": "2023-05-04T19:34:20.432932Z",
     "iopub.status.idle": "2023-05-04T19:34:20.437355Z",
     "shell.execute_reply": "2023-05-04T19:34:20.436507Z",
     "shell.execute_reply.started": "2023-05-04T19:34:20.433187Z"
    }
   },
   "outputs": [],
   "source": [
    "# Standard library import and path set up, above.  Now to import the latest version of our data set,\n",
    "# containing customer, order, and product data."
   ]
  },
  {
   "cell_type": "code",
   "execution_count": 10,
   "id": "29019231-a7e9-4b75-8411-2c6629e1d35e",
   "metadata": {
    "ExecuteTime": {
     "end_time": "2023-03-16T05:15:00.384312Z",
     "start_time": "2023-03-16T05:13:58.153671Z"
    },
    "execution": {
     "iopub.execute_input": "2023-05-04T19:34:20.441501Z",
     "iopub.status.busy": "2023-05-04T19:34:20.441225Z",
     "iopub.status.idle": "2023-05-04T19:35:19.450951Z",
     "shell.execute_reply": "2023-05-04T19:35:19.450232Z",
     "shell.execute_reply.started": "2023-05-04T19:34:20.441475Z"
    }
   },
   "outputs": [],
   "source": [
    "cust_ords_prods_merge = pd.read_pickle(os.path.join(path, '02-Data','Prepared-Data', 'cust_ords_prods_merge.pkl'))"
   ]
  },
  {
   "cell_type": "code",
   "execution_count": 11,
   "id": "c9eb3faa-256e-4049-af8b-04d62dde69aa",
   "metadata": {
    "ExecuteTime": {
     "end_time": "2023-03-16T05:15:00.389108Z",
     "start_time": "2023-03-16T05:15:00.386272Z"
    },
    "execution": {
     "iopub.execute_input": "2023-05-04T19:35:19.452355Z",
     "iopub.status.busy": "2023-05-04T19:35:19.451943Z",
     "iopub.status.idle": "2023-05-04T19:35:19.455388Z",
     "shell.execute_reply": "2023-05-04T19:35:19.454728Z",
     "shell.execute_reply.started": "2023-05-04T19:35:19.452328Z"
    },
    "tags": []
   },
   "outputs": [],
   "source": [
    "# Confirming that our dartaframe loaded and appears sane."
   ]
  },
  {
   "cell_type": "code",
   "execution_count": 12,
   "id": "bbd1af47-a621-4bc3-be81-9d984c5662d9",
   "metadata": {
    "ExecuteTime": {
     "end_time": "2023-03-16T05:15:00.398536Z",
     "start_time": "2023-03-16T05:15:00.390838Z"
    },
    "execution": {
     "iopub.execute_input": "2023-05-04T19:35:19.456459Z",
     "iopub.status.busy": "2023-05-04T19:35:19.456276Z",
     "iopub.status.idle": "2023-05-04T19:35:19.463406Z",
     "shell.execute_reply": "2023-05-04T19:35:19.462684Z",
     "shell.execute_reply.started": "2023-05-04T19:35:19.456438Z"
    }
   },
   "outputs": [
    {
     "data": {
      "text/plain": [
       "(32404859, 35)"
      ]
     },
     "execution_count": 12,
     "metadata": {},
     "output_type": "execute_result"
    }
   ],
   "source": [
    "cust_ords_prods_merge.shape"
   ]
  },
  {
   "cell_type": "code",
   "execution_count": 13,
   "id": "4fb81ecc-00f5-403f-953f-e0c93e8864e8",
   "metadata": {
    "ExecuteTime": {
     "end_time": "2023-03-16T05:15:00.403290Z",
     "start_time": "2023-03-16T05:15:00.400232Z"
    },
    "execution": {
     "iopub.execute_input": "2023-05-04T19:35:19.465594Z",
     "iopub.status.busy": "2023-05-04T19:35:19.465285Z",
     "iopub.status.idle": "2023-05-04T19:35:19.468382Z",
     "shell.execute_reply": "2023-05-04T19:35:19.467571Z",
     "shell.execute_reply.started": "2023-05-04T19:35:19.465570Z"
    }
   },
   "outputs": [],
   "source": [
    "# Adding \"memory_usage = 'deep'\" takes more time and gives a much larger estimate of RAM usage:  34.2GB vs. 8GB.\n",
    "# We'll see whether the larger number is truly accurate, but I know it's at least about double the 8GB estimate."
   ]
  },
  {
   "cell_type": "code",
   "execution_count": 14,
   "id": "f6f777ca-5182-4b1d-be01-0d2b88fbd07f",
   "metadata": {
    "ExecuteTime": {
     "end_time": "2023-03-16T05:15:47.571154Z",
     "start_time": "2023-03-16T05:15:00.404866Z"
    },
    "execution": {
     "iopub.execute_input": "2023-05-04T19:35:19.469726Z",
     "iopub.status.busy": "2023-05-04T19:35:19.469518Z",
     "iopub.status.idle": "2023-05-04T19:36:18.302631Z",
     "shell.execute_reply": "2023-05-04T19:36:18.302121Z",
     "shell.execute_reply.started": "2023-05-04T19:35:19.469700Z"
    }
   },
   "outputs": [
    {
     "name": "stdout",
     "output_type": "stream",
     "text": [
      "<class 'pandas.core.frame.DataFrame'>\n",
      "Int64Index: 32404859 entries, 0 to 32404858\n",
      "Data columns (total 35 columns):\n",
      " #   Column                  Dtype   \n",
      "---  ------                  -----   \n",
      " 0   Unnamed: 0              int64   \n",
      " 1   product_id              int64   \n",
      " 2   product_name            object  \n",
      " 3   aisle_id                int64   \n",
      " 4   department_id           int64   \n",
      " 5   prices                  float64 \n",
      " 6   order_id                int64   \n",
      " 7   customer_id             int64   \n",
      " 8   order_number            int64   \n",
      " 9   orders_day_of_week      int64   \n",
      " 10  order_hour_of_day       int64   \n",
      " 11  days_since_prior_order  float64 \n",
      " 12  add_to_cart_order       int64   \n",
      " 13  reordered               int64   \n",
      " 14  _merge                  category\n",
      " 15  _merge2                 category\n",
      " 16  price_range             object  \n",
      " 17  price_range_loc         object  \n",
      " 18  busiest_days            object  \n",
      " 19  busiest_hours           object  \n",
      " 20  max_order               int64   \n",
      " 21  loyalty_flag            object  \n",
      " 22  avg_order               float64 \n",
      " 23  spending_flag           object  \n",
      " 24  avg_order_frequency     float64 \n",
      " 25  frequency_flag          object  \n",
      " 26  given_name              object  \n",
      " 27  family_name             object  \n",
      " 28  gender                  object  \n",
      " 29  state                   object  \n",
      " 30  age                     int64   \n",
      " 31  date_joined             object  \n",
      " 32  num_dependents          int64   \n",
      " 33  fam_status              object  \n",
      " 34  income                  int64   \n",
      "dtypes: category(2), float64(4), int64(15), object(14)\n",
      "memory usage: 34.2 GB\n"
     ]
    }
   ],
   "source": [
    "cust_ords_prods_merge.info(memory_usage = 'deep')"
   ]
  },
  {
   "cell_type": "code",
   "execution_count": 15,
   "id": "e5c2aad9-0f66-4e92-9340-89b58687370f",
   "metadata": {
    "ExecuteTime": {
     "end_time": "2023-03-16T05:15:47.597112Z",
     "start_time": "2023-03-16T05:15:47.573660Z"
    },
    "execution": {
     "iopub.execute_input": "2023-05-04T19:36:18.303945Z",
     "iopub.status.busy": "2023-05-04T19:36:18.303626Z",
     "iopub.status.idle": "2023-05-04T19:36:18.328507Z",
     "shell.execute_reply": "2023-05-04T19:36:18.327959Z",
     "shell.execute_reply.started": "2023-05-04T19:36:18.303921Z"
    },
    "scrolled": true,
    "tags": []
   },
   "outputs": [
    {
     "data": {
      "text/html": [
       "<div>\n",
       "<style scoped>\n",
       "    .dataframe tbody tr th:only-of-type {\n",
       "        vertical-align: middle;\n",
       "    }\n",
       "\n",
       "    .dataframe tbody tr th {\n",
       "        vertical-align: top;\n",
       "    }\n",
       "\n",
       "    .dataframe thead th {\n",
       "        text-align: right;\n",
       "    }\n",
       "</style>\n",
       "<table border=\"1\" class=\"dataframe\">\n",
       "  <thead>\n",
       "    <tr style=\"text-align: right;\">\n",
       "      <th></th>\n",
       "      <th>Unnamed: 0</th>\n",
       "      <th>product_id</th>\n",
       "      <th>product_name</th>\n",
       "      <th>aisle_id</th>\n",
       "      <th>department_id</th>\n",
       "      <th>prices</th>\n",
       "      <th>order_id</th>\n",
       "      <th>customer_id</th>\n",
       "      <th>order_number</th>\n",
       "      <th>orders_day_of_week</th>\n",
       "      <th>...</th>\n",
       "      <th>frequency_flag</th>\n",
       "      <th>given_name</th>\n",
       "      <th>family_name</th>\n",
       "      <th>gender</th>\n",
       "      <th>state</th>\n",
       "      <th>age</th>\n",
       "      <th>date_joined</th>\n",
       "      <th>num_dependents</th>\n",
       "      <th>fam_status</th>\n",
       "      <th>income</th>\n",
       "    </tr>\n",
       "  </thead>\n",
       "  <tbody>\n",
       "    <tr>\n",
       "      <th>0</th>\n",
       "      <td>0</td>\n",
       "      <td>1</td>\n",
       "      <td>Chocolate Sandwich Cookies</td>\n",
       "      <td>61</td>\n",
       "      <td>19</td>\n",
       "      <td>5.8</td>\n",
       "      <td>3139998</td>\n",
       "      <td>138</td>\n",
       "      <td>28</td>\n",
       "      <td>6</td>\n",
       "      <td>...</td>\n",
       "      <td>Frequent customer</td>\n",
       "      <td>Charles</td>\n",
       "      <td>Cox</td>\n",
       "      <td>Male</td>\n",
       "      <td>Minnesota</td>\n",
       "      <td>81</td>\n",
       "      <td>8/1/2019</td>\n",
       "      <td>1</td>\n",
       "      <td>married</td>\n",
       "      <td>49620</td>\n",
       "    </tr>\n",
       "    <tr>\n",
       "      <th>1</th>\n",
       "      <td>0</td>\n",
       "      <td>1</td>\n",
       "      <td>Chocolate Sandwich Cookies</td>\n",
       "      <td>61</td>\n",
       "      <td>19</td>\n",
       "      <td>5.8</td>\n",
       "      <td>1977647</td>\n",
       "      <td>138</td>\n",
       "      <td>30</td>\n",
       "      <td>6</td>\n",
       "      <td>...</td>\n",
       "      <td>Frequent customer</td>\n",
       "      <td>Charles</td>\n",
       "      <td>Cox</td>\n",
       "      <td>Male</td>\n",
       "      <td>Minnesota</td>\n",
       "      <td>81</td>\n",
       "      <td>8/1/2019</td>\n",
       "      <td>1</td>\n",
       "      <td>married</td>\n",
       "      <td>49620</td>\n",
       "    </tr>\n",
       "    <tr>\n",
       "      <th>2</th>\n",
       "      <td>907</td>\n",
       "      <td>907</td>\n",
       "      <td>Premium Sliced Bacon</td>\n",
       "      <td>106</td>\n",
       "      <td>12</td>\n",
       "      <td>20.0</td>\n",
       "      <td>3160996</td>\n",
       "      <td>138</td>\n",
       "      <td>1</td>\n",
       "      <td>5</td>\n",
       "      <td>...</td>\n",
       "      <td>Frequent customer</td>\n",
       "      <td>Charles</td>\n",
       "      <td>Cox</td>\n",
       "      <td>Male</td>\n",
       "      <td>Minnesota</td>\n",
       "      <td>81</td>\n",
       "      <td>8/1/2019</td>\n",
       "      <td>1</td>\n",
       "      <td>married</td>\n",
       "      <td>49620</td>\n",
       "    </tr>\n",
       "    <tr>\n",
       "      <th>3</th>\n",
       "      <td>907</td>\n",
       "      <td>907</td>\n",
       "      <td>Premium Sliced Bacon</td>\n",
       "      <td>106</td>\n",
       "      <td>12</td>\n",
       "      <td>20.0</td>\n",
       "      <td>2254091</td>\n",
       "      <td>138</td>\n",
       "      <td>10</td>\n",
       "      <td>5</td>\n",
       "      <td>...</td>\n",
       "      <td>Frequent customer</td>\n",
       "      <td>Charles</td>\n",
       "      <td>Cox</td>\n",
       "      <td>Male</td>\n",
       "      <td>Minnesota</td>\n",
       "      <td>81</td>\n",
       "      <td>8/1/2019</td>\n",
       "      <td>1</td>\n",
       "      <td>married</td>\n",
       "      <td>49620</td>\n",
       "    </tr>\n",
       "    <tr>\n",
       "      <th>4</th>\n",
       "      <td>1000</td>\n",
       "      <td>1000</td>\n",
       "      <td>Apricots</td>\n",
       "      <td>18</td>\n",
       "      <td>10</td>\n",
       "      <td>12.9</td>\n",
       "      <td>505689</td>\n",
       "      <td>138</td>\n",
       "      <td>9</td>\n",
       "      <td>6</td>\n",
       "      <td>...</td>\n",
       "      <td>Frequent customer</td>\n",
       "      <td>Charles</td>\n",
       "      <td>Cox</td>\n",
       "      <td>Male</td>\n",
       "      <td>Minnesota</td>\n",
       "      <td>81</td>\n",
       "      <td>8/1/2019</td>\n",
       "      <td>1</td>\n",
       "      <td>married</td>\n",
       "      <td>49620</td>\n",
       "    </tr>\n",
       "  </tbody>\n",
       "</table>\n",
       "<p>5 rows × 35 columns</p>\n",
       "</div>"
      ],
      "text/plain": [
       "   Unnamed: 0  product_id                product_name  aisle_id  \\\n",
       "0           0           1  Chocolate Sandwich Cookies        61   \n",
       "1           0           1  Chocolate Sandwich Cookies        61   \n",
       "2         907         907        Premium Sliced Bacon       106   \n",
       "3         907         907        Premium Sliced Bacon       106   \n",
       "4        1000        1000                    Apricots        18   \n",
       "\n",
       "   department_id  prices  order_id  customer_id  order_number  \\\n",
       "0             19     5.8   3139998          138            28   \n",
       "1             19     5.8   1977647          138            30   \n",
       "2             12    20.0   3160996          138             1   \n",
       "3             12    20.0   2254091          138            10   \n",
       "4             10    12.9    505689          138             9   \n",
       "\n",
       "   orders_day_of_week  ...     frequency_flag  given_name  family_name  \\\n",
       "0                   6  ...  Frequent customer     Charles          Cox   \n",
       "1                   6  ...  Frequent customer     Charles          Cox   \n",
       "2                   5  ...  Frequent customer     Charles          Cox   \n",
       "3                   5  ...  Frequent customer     Charles          Cox   \n",
       "4                   6  ...  Frequent customer     Charles          Cox   \n",
       "\n",
       "   gender      state age date_joined num_dependents fam_status income  \n",
       "0    Male  Minnesota  81    8/1/2019              1    married  49620  \n",
       "1    Male  Minnesota  81    8/1/2019              1    married  49620  \n",
       "2    Male  Minnesota  81    8/1/2019              1    married  49620  \n",
       "3    Male  Minnesota  81    8/1/2019              1    married  49620  \n",
       "4    Male  Minnesota  81    8/1/2019              1    married  49620  \n",
       "\n",
       "[5 rows x 35 columns]"
      ]
     },
     "execution_count": 15,
     "metadata": {},
     "output_type": "execute_result"
    }
   ],
   "source": [
    "cust_ords_prods_merge.head()"
   ]
  },
  {
   "cell_type": "code",
   "execution_count": 16,
   "id": "2a337854-f244-4178-b5b6-48709f8d4279",
   "metadata": {
    "ExecuteTime": {
     "end_time": "2023-03-16T05:15:47.601586Z",
     "start_time": "2023-03-16T05:15:47.598908Z"
    },
    "execution": {
     "iopub.execute_input": "2023-05-04T19:36:18.329897Z",
     "iopub.status.busy": "2023-05-04T19:36:18.329579Z",
     "iopub.status.idle": "2023-05-04T19:36:18.332637Z",
     "shell.execute_reply": "2023-05-04T19:36:18.332071Z",
     "shell.execute_reply.started": "2023-05-04T19:36:18.329873Z"
    }
   },
   "outputs": [],
   "source": [
    "# I don't need those old _merge and _merge2 columns, so I shall drop them to save some RAM."
   ]
  },
  {
   "cell_type": "code",
   "execution_count": 17,
   "id": "962eb600-0f00-4d0a-a862-7c773a9765ed",
   "metadata": {
    "ExecuteTime": {
     "end_time": "2023-03-16T05:16:09.058559Z",
     "start_time": "2023-03-16T05:15:47.603409Z"
    },
    "execution": {
     "iopub.execute_input": "2023-05-04T19:36:18.334233Z",
     "iopub.status.busy": "2023-05-04T19:36:18.333508Z",
     "iopub.status.idle": "2023-05-04T19:36:34.675518Z",
     "shell.execute_reply": "2023-05-04T19:36:34.674797Z",
     "shell.execute_reply.started": "2023-05-04T19:36:18.334188Z"
    }
   },
   "outputs": [],
   "source": [
    "cust_ords_prods_merge = cust_ords_prods_merge.drop(columns=['_merge','_merge2'])"
   ]
  },
  {
   "cell_type": "markdown",
   "id": "f8c0b99d-4f42-47cd-97e2-7506d892c6ef",
   "metadata": {},
   "source": [
    "### I am also importing our previously-wrangled Departments data."
   ]
  },
  {
   "cell_type": "code",
   "execution_count": 18,
   "id": "a1b04954-4b70-409b-8e87-226cb35d1e24",
   "metadata": {
    "ExecuteTime": {
     "end_time": "2023-03-16T05:16:09.070623Z",
     "start_time": "2023-03-16T05:16:09.060774Z"
    },
    "execution": {
     "iopub.execute_input": "2023-05-04T19:36:34.676601Z",
     "iopub.status.busy": "2023-05-04T19:36:34.676414Z",
     "iopub.status.idle": "2023-05-04T19:36:34.684022Z",
     "shell.execute_reply": "2023-05-04T19:36:34.683450Z",
     "shell.execute_reply.started": "2023-05-04T19:36:34.676578Z"
    }
   },
   "outputs": [],
   "source": [
    "depts_df = pd.read_csv(os.path.join(path, '02-Data','Prepared-Data', 'departments_wrangled.csv'), index_col = False)"
   ]
  },
  {
   "cell_type": "code",
   "execution_count": 19,
   "id": "deca964a-f90f-4149-a3c8-8f408e038c9c",
   "metadata": {
    "ExecuteTime": {
     "end_time": "2023-03-16T05:16:09.079307Z",
     "start_time": "2023-03-16T05:16:09.072301Z"
    },
    "execution": {
     "iopub.execute_input": "2023-05-04T19:36:34.685578Z",
     "iopub.status.busy": "2023-05-04T19:36:34.685160Z",
     "iopub.status.idle": "2023-05-04T19:36:34.693675Z",
     "shell.execute_reply": "2023-05-04T19:36:34.692954Z",
     "shell.execute_reply.started": "2023-05-04T19:36:34.685553Z"
    }
   },
   "outputs": [
    {
     "data": {
      "text/html": [
       "<div>\n",
       "<style scoped>\n",
       "    .dataframe tbody tr th:only-of-type {\n",
       "        vertical-align: middle;\n",
       "    }\n",
       "\n",
       "    .dataframe tbody tr th {\n",
       "        vertical-align: top;\n",
       "    }\n",
       "\n",
       "    .dataframe thead th {\n",
       "        text-align: right;\n",
       "    }\n",
       "</style>\n",
       "<table border=\"1\" class=\"dataframe\">\n",
       "  <thead>\n",
       "    <tr style=\"text-align: right;\">\n",
       "      <th></th>\n",
       "      <th>Unnamed: 0</th>\n",
       "      <th>department</th>\n",
       "    </tr>\n",
       "  </thead>\n",
       "  <tbody>\n",
       "    <tr>\n",
       "      <th>0</th>\n",
       "      <td>1</td>\n",
       "      <td>frozen</td>\n",
       "    </tr>\n",
       "    <tr>\n",
       "      <th>1</th>\n",
       "      <td>2</td>\n",
       "      <td>other</td>\n",
       "    </tr>\n",
       "    <tr>\n",
       "      <th>2</th>\n",
       "      <td>3</td>\n",
       "      <td>bakery</td>\n",
       "    </tr>\n",
       "    <tr>\n",
       "      <th>3</th>\n",
       "      <td>4</td>\n",
       "      <td>produce</td>\n",
       "    </tr>\n",
       "    <tr>\n",
       "      <th>4</th>\n",
       "      <td>5</td>\n",
       "      <td>alcohol</td>\n",
       "    </tr>\n",
       "    <tr>\n",
       "      <th>5</th>\n",
       "      <td>6</td>\n",
       "      <td>international</td>\n",
       "    </tr>\n",
       "    <tr>\n",
       "      <th>6</th>\n",
       "      <td>7</td>\n",
       "      <td>beverages</td>\n",
       "    </tr>\n",
       "    <tr>\n",
       "      <th>7</th>\n",
       "      <td>8</td>\n",
       "      <td>pets</td>\n",
       "    </tr>\n",
       "    <tr>\n",
       "      <th>8</th>\n",
       "      <td>9</td>\n",
       "      <td>dry goods pasta</td>\n",
       "    </tr>\n",
       "    <tr>\n",
       "      <th>9</th>\n",
       "      <td>10</td>\n",
       "      <td>bulk</td>\n",
       "    </tr>\n",
       "    <tr>\n",
       "      <th>10</th>\n",
       "      <td>11</td>\n",
       "      <td>personal care</td>\n",
       "    </tr>\n",
       "    <tr>\n",
       "      <th>11</th>\n",
       "      <td>12</td>\n",
       "      <td>meat seafood</td>\n",
       "    </tr>\n",
       "    <tr>\n",
       "      <th>12</th>\n",
       "      <td>13</td>\n",
       "      <td>pantry</td>\n",
       "    </tr>\n",
       "    <tr>\n",
       "      <th>13</th>\n",
       "      <td>14</td>\n",
       "      <td>breakfast</td>\n",
       "    </tr>\n",
       "    <tr>\n",
       "      <th>14</th>\n",
       "      <td>15</td>\n",
       "      <td>canned goods</td>\n",
       "    </tr>\n",
       "    <tr>\n",
       "      <th>15</th>\n",
       "      <td>16</td>\n",
       "      <td>dairy eggs</td>\n",
       "    </tr>\n",
       "    <tr>\n",
       "      <th>16</th>\n",
       "      <td>17</td>\n",
       "      <td>household</td>\n",
       "    </tr>\n",
       "    <tr>\n",
       "      <th>17</th>\n",
       "      <td>18</td>\n",
       "      <td>babies</td>\n",
       "    </tr>\n",
       "    <tr>\n",
       "      <th>18</th>\n",
       "      <td>19</td>\n",
       "      <td>snacks</td>\n",
       "    </tr>\n",
       "    <tr>\n",
       "      <th>19</th>\n",
       "      <td>20</td>\n",
       "      <td>deli</td>\n",
       "    </tr>\n",
       "    <tr>\n",
       "      <th>20</th>\n",
       "      <td>21</td>\n",
       "      <td>missing</td>\n",
       "    </tr>\n",
       "  </tbody>\n",
       "</table>\n",
       "</div>"
      ],
      "text/plain": [
       "    Unnamed: 0       department\n",
       "0            1           frozen\n",
       "1            2            other\n",
       "2            3           bakery\n",
       "3            4          produce\n",
       "4            5          alcohol\n",
       "5            6    international\n",
       "6            7        beverages\n",
       "7            8             pets\n",
       "8            9  dry goods pasta\n",
       "9           10             bulk\n",
       "10          11    personal care\n",
       "11          12     meat seafood\n",
       "12          13           pantry\n",
       "13          14        breakfast\n",
       "14          15     canned goods\n",
       "15          16       dairy eggs\n",
       "16          17        household\n",
       "17          18           babies\n",
       "18          19           snacks\n",
       "19          20             deli\n",
       "20          21          missing"
      ]
     },
     "execution_count": 19,
     "metadata": {},
     "output_type": "execute_result"
    }
   ],
   "source": [
    "depts_df"
   ]
  },
  {
   "cell_type": "markdown",
   "id": "4128435c-4add-46dc-aae0-c50d0ee90b37",
   "metadata": {
    "tags": []
   },
   "source": [
    "## Step 2:  Consider any security implications that might exist for this new data. You’ll need to address any PII data in the data before continuing your analysis."
   ]
  },
  {
   "cell_type": "code",
   "execution_count": 20,
   "id": "6eaceaa6-8f4b-4a30-8f38-5600dc8c9316",
   "metadata": {
    "ExecuteTime": {
     "end_time": "2023-03-16T05:16:09.083476Z",
     "start_time": "2023-03-16T05:16:09.080966Z"
    },
    "execution": {
     "iopub.execute_input": "2023-05-04T19:36:34.694688Z",
     "iopub.status.busy": "2023-05-04T19:36:34.694502Z",
     "iopub.status.idle": "2023-05-04T19:36:34.698161Z",
     "shell.execute_reply": "2023-05-04T19:36:34.697497Z",
     "shell.execute_reply.started": "2023-05-04T19:36:34.694666Z"
    },
    "tags": []
   },
   "outputs": [],
   "source": [
    "# The columns 'given_name' and 'family_name' are clearly PII.  Drop them from the dataframe."
   ]
  },
  {
   "cell_type": "code",
   "execution_count": 21,
   "id": "3f1f0879-e938-41ae-8a14-b9f7bb189f7a",
   "metadata": {
    "ExecuteTime": {
     "end_time": "2023-03-16T05:16:16.273348Z",
     "start_time": "2023-03-16T05:16:09.085033Z"
    },
    "execution": {
     "iopub.execute_input": "2023-05-04T19:36:34.699379Z",
     "iopub.status.busy": "2023-05-04T19:36:34.699009Z",
     "iopub.status.idle": "2023-05-04T19:36:40.933638Z",
     "shell.execute_reply": "2023-05-04T19:36:40.932889Z",
     "shell.execute_reply.started": "2023-05-04T19:36:34.699356Z"
    },
    "tags": []
   },
   "outputs": [],
   "source": [
    "cust_ords_prods_merge = cust_ords_prods_merge.drop(columns=['given_name','family_name'])"
   ]
  },
  {
   "cell_type": "code",
   "execution_count": 22,
   "id": "89013013-c8c0-45d1-be73-5658794f592a",
   "metadata": {
    "ExecuteTime": {
     "end_time": "2023-03-16T05:22:21.867622Z",
     "start_time": "2023-03-16T05:22:21.864922Z"
    },
    "execution": {
     "iopub.execute_input": "2023-05-04T19:36:40.935224Z",
     "iopub.status.busy": "2023-05-04T19:36:40.934626Z",
     "iopub.status.idle": "2023-05-04T19:36:40.939014Z",
     "shell.execute_reply": "2023-05-04T19:36:40.938118Z",
     "shell.execute_reply.started": "2023-05-04T19:36:40.935199Z"
    },
    "tags": []
   },
   "outputs": [],
   "source": [
    "# Check results:  we should have 31 columns now."
   ]
  },
  {
   "cell_type": "code",
   "execution_count": 23,
   "id": "a5defb6a-7f13-4e40-be77-2c67fb2bb9e8",
   "metadata": {
    "ExecuteTime": {
     "end_time": "2023-03-16T05:16:16.284349Z",
     "start_time": "2023-03-16T05:16:16.279949Z"
    },
    "execution": {
     "iopub.execute_input": "2023-05-04T19:36:40.940827Z",
     "iopub.status.busy": "2023-05-04T19:36:40.939989Z",
     "iopub.status.idle": "2023-05-04T19:36:40.945880Z",
     "shell.execute_reply": "2023-05-04T19:36:40.945140Z",
     "shell.execute_reply.started": "2023-05-04T19:36:40.940795Z"
    }
   },
   "outputs": [
    {
     "data": {
      "text/plain": [
       "(32404859, 31)"
      ]
     },
     "execution_count": 23,
     "metadata": {},
     "output_type": "execute_result"
    }
   ],
   "source": [
    "cust_ords_prods_merge.shape"
   ]
  },
  {
   "cell_type": "code",
   "execution_count": 24,
   "id": "54684ce1-3bea-463f-b8d5-f93f69ff030e",
   "metadata": {
    "ExecuteTime": {
     "end_time": "2023-03-16T05:16:57.027901Z",
     "start_time": "2023-03-16T05:16:16.286268Z"
    },
    "execution": {
     "iopub.execute_input": "2023-05-04T19:36:40.947890Z",
     "iopub.status.busy": "2023-05-04T19:36:40.947564Z",
     "iopub.status.idle": "2023-05-04T19:37:31.000707Z",
     "shell.execute_reply": "2023-05-04T19:37:31.000209Z",
     "shell.execute_reply.started": "2023-05-04T19:36:40.947856Z"
    }
   },
   "outputs": [
    {
     "name": "stdout",
     "output_type": "stream",
     "text": [
      "<class 'pandas.core.frame.DataFrame'>\n",
      "Int64Index: 32404859 entries, 0 to 32404858\n",
      "Data columns (total 31 columns):\n",
      " #   Column                  Dtype  \n",
      "---  ------                  -----  \n",
      " 0   Unnamed: 0              int64  \n",
      " 1   product_id              int64  \n",
      " 2   product_name            object \n",
      " 3   aisle_id                int64  \n",
      " 4   department_id           int64  \n",
      " 5   prices                  float64\n",
      " 6   order_id                int64  \n",
      " 7   customer_id             int64  \n",
      " 8   order_number            int64  \n",
      " 9   orders_day_of_week      int64  \n",
      " 10  order_hour_of_day       int64  \n",
      " 11  days_since_prior_order  float64\n",
      " 12  add_to_cart_order       int64  \n",
      " 13  reordered               int64  \n",
      " 14  price_range             object \n",
      " 15  price_range_loc         object \n",
      " 16  busiest_days            object \n",
      " 17  busiest_hours           object \n",
      " 18  max_order               int64  \n",
      " 19  loyalty_flag            object \n",
      " 20  avg_order               float64\n",
      " 21  spending_flag           object \n",
      " 22  avg_order_frequency     float64\n",
      " 23  frequency_flag          object \n",
      " 24  gender                  object \n",
      " 25  state                   object \n",
      " 26  age                     int64  \n",
      " 27  date_joined             object \n",
      " 28  num_dependents          int64  \n",
      " 29  fam_status              object \n",
      " 30  income                  int64  \n",
      "dtypes: float64(4), int64(15), object(12)\n",
      "memory usage: 30.3 GB\n"
     ]
    }
   ],
   "source": [
    "cust_ords_prods_merge.info(memory_usage = 'deep')"
   ]
  },
  {
   "cell_type": "code",
   "execution_count": 25,
   "id": "775d7d5f-9471-4cc5-96a9-35930e1083af",
   "metadata": {
    "ExecuteTime": {
     "end_time": "2023-03-16T05:16:57.048444Z",
     "start_time": "2023-03-16T05:16:57.029831Z"
    },
    "execution": {
     "iopub.execute_input": "2023-05-04T19:37:31.002303Z",
     "iopub.status.busy": "2023-05-04T19:37:31.001676Z",
     "iopub.status.idle": "2023-05-04T19:37:31.023044Z",
     "shell.execute_reply": "2023-05-04T19:37:31.022352Z",
     "shell.execute_reply.started": "2023-05-04T19:37:31.002277Z"
    },
    "tags": []
   },
   "outputs": [
    {
     "data": {
      "text/html": [
       "<div>\n",
       "<style scoped>\n",
       "    .dataframe tbody tr th:only-of-type {\n",
       "        vertical-align: middle;\n",
       "    }\n",
       "\n",
       "    .dataframe tbody tr th {\n",
       "        vertical-align: top;\n",
       "    }\n",
       "\n",
       "    .dataframe thead th {\n",
       "        text-align: right;\n",
       "    }\n",
       "</style>\n",
       "<table border=\"1\" class=\"dataframe\">\n",
       "  <thead>\n",
       "    <tr style=\"text-align: right;\">\n",
       "      <th></th>\n",
       "      <th>Unnamed: 0</th>\n",
       "      <th>product_id</th>\n",
       "      <th>product_name</th>\n",
       "      <th>aisle_id</th>\n",
       "      <th>department_id</th>\n",
       "      <th>prices</th>\n",
       "      <th>order_id</th>\n",
       "      <th>customer_id</th>\n",
       "      <th>order_number</th>\n",
       "      <th>orders_day_of_week</th>\n",
       "      <th>...</th>\n",
       "      <th>spending_flag</th>\n",
       "      <th>avg_order_frequency</th>\n",
       "      <th>frequency_flag</th>\n",
       "      <th>gender</th>\n",
       "      <th>state</th>\n",
       "      <th>age</th>\n",
       "      <th>date_joined</th>\n",
       "      <th>num_dependents</th>\n",
       "      <th>fam_status</th>\n",
       "      <th>income</th>\n",
       "    </tr>\n",
       "  </thead>\n",
       "  <tbody>\n",
       "    <tr>\n",
       "      <th>0</th>\n",
       "      <td>0</td>\n",
       "      <td>1</td>\n",
       "      <td>Chocolate Sandwich Cookies</td>\n",
       "      <td>61</td>\n",
       "      <td>19</td>\n",
       "      <td>5.8</td>\n",
       "      <td>3139998</td>\n",
       "      <td>138</td>\n",
       "      <td>28</td>\n",
       "      <td>6</td>\n",
       "      <td>...</td>\n",
       "      <td>Low spender</td>\n",
       "      <td>9.837838</td>\n",
       "      <td>Frequent customer</td>\n",
       "      <td>Male</td>\n",
       "      <td>Minnesota</td>\n",
       "      <td>81</td>\n",
       "      <td>8/1/2019</td>\n",
       "      <td>1</td>\n",
       "      <td>married</td>\n",
       "      <td>49620</td>\n",
       "    </tr>\n",
       "    <tr>\n",
       "      <th>1</th>\n",
       "      <td>0</td>\n",
       "      <td>1</td>\n",
       "      <td>Chocolate Sandwich Cookies</td>\n",
       "      <td>61</td>\n",
       "      <td>19</td>\n",
       "      <td>5.8</td>\n",
       "      <td>1977647</td>\n",
       "      <td>138</td>\n",
       "      <td>30</td>\n",
       "      <td>6</td>\n",
       "      <td>...</td>\n",
       "      <td>Low spender</td>\n",
       "      <td>9.837838</td>\n",
       "      <td>Frequent customer</td>\n",
       "      <td>Male</td>\n",
       "      <td>Minnesota</td>\n",
       "      <td>81</td>\n",
       "      <td>8/1/2019</td>\n",
       "      <td>1</td>\n",
       "      <td>married</td>\n",
       "      <td>49620</td>\n",
       "    </tr>\n",
       "    <tr>\n",
       "      <th>2</th>\n",
       "      <td>907</td>\n",
       "      <td>907</td>\n",
       "      <td>Premium Sliced Bacon</td>\n",
       "      <td>106</td>\n",
       "      <td>12</td>\n",
       "      <td>20.0</td>\n",
       "      <td>3160996</td>\n",
       "      <td>138</td>\n",
       "      <td>1</td>\n",
       "      <td>5</td>\n",
       "      <td>...</td>\n",
       "      <td>Low spender</td>\n",
       "      <td>9.837838</td>\n",
       "      <td>Frequent customer</td>\n",
       "      <td>Male</td>\n",
       "      <td>Minnesota</td>\n",
       "      <td>81</td>\n",
       "      <td>8/1/2019</td>\n",
       "      <td>1</td>\n",
       "      <td>married</td>\n",
       "      <td>49620</td>\n",
       "    </tr>\n",
       "    <tr>\n",
       "      <th>3</th>\n",
       "      <td>907</td>\n",
       "      <td>907</td>\n",
       "      <td>Premium Sliced Bacon</td>\n",
       "      <td>106</td>\n",
       "      <td>12</td>\n",
       "      <td>20.0</td>\n",
       "      <td>2254091</td>\n",
       "      <td>138</td>\n",
       "      <td>10</td>\n",
       "      <td>5</td>\n",
       "      <td>...</td>\n",
       "      <td>Low spender</td>\n",
       "      <td>9.837838</td>\n",
       "      <td>Frequent customer</td>\n",
       "      <td>Male</td>\n",
       "      <td>Minnesota</td>\n",
       "      <td>81</td>\n",
       "      <td>8/1/2019</td>\n",
       "      <td>1</td>\n",
       "      <td>married</td>\n",
       "      <td>49620</td>\n",
       "    </tr>\n",
       "    <tr>\n",
       "      <th>4</th>\n",
       "      <td>1000</td>\n",
       "      <td>1000</td>\n",
       "      <td>Apricots</td>\n",
       "      <td>18</td>\n",
       "      <td>10</td>\n",
       "      <td>12.9</td>\n",
       "      <td>505689</td>\n",
       "      <td>138</td>\n",
       "      <td>9</td>\n",
       "      <td>6</td>\n",
       "      <td>...</td>\n",
       "      <td>Low spender</td>\n",
       "      <td>9.837838</td>\n",
       "      <td>Frequent customer</td>\n",
       "      <td>Male</td>\n",
       "      <td>Minnesota</td>\n",
       "      <td>81</td>\n",
       "      <td>8/1/2019</td>\n",
       "      <td>1</td>\n",
       "      <td>married</td>\n",
       "      <td>49620</td>\n",
       "    </tr>\n",
       "  </tbody>\n",
       "</table>\n",
       "<p>5 rows × 31 columns</p>\n",
       "</div>"
      ],
      "text/plain": [
       "   Unnamed: 0  product_id                product_name  aisle_id  \\\n",
       "0           0           1  Chocolate Sandwich Cookies        61   \n",
       "1           0           1  Chocolate Sandwich Cookies        61   \n",
       "2         907         907        Premium Sliced Bacon       106   \n",
       "3         907         907        Premium Sliced Bacon       106   \n",
       "4        1000        1000                    Apricots        18   \n",
       "\n",
       "   department_id  prices  order_id  customer_id  order_number  \\\n",
       "0             19     5.8   3139998          138            28   \n",
       "1             19     5.8   1977647          138            30   \n",
       "2             12    20.0   3160996          138             1   \n",
       "3             12    20.0   2254091          138            10   \n",
       "4             10    12.9    505689          138             9   \n",
       "\n",
       "   orders_day_of_week  ...  spending_flag  avg_order_frequency  \\\n",
       "0                   6  ...    Low spender             9.837838   \n",
       "1                   6  ...    Low spender             9.837838   \n",
       "2                   5  ...    Low spender             9.837838   \n",
       "3                   5  ...    Low spender             9.837838   \n",
       "4                   6  ...    Low spender             9.837838   \n",
       "\n",
       "      frequency_flag  gender      state age date_joined num_dependents  \\\n",
       "0  Frequent customer    Male  Minnesota  81    8/1/2019              1   \n",
       "1  Frequent customer    Male  Minnesota  81    8/1/2019              1   \n",
       "2  Frequent customer    Male  Minnesota  81    8/1/2019              1   \n",
       "3  Frequent customer    Male  Minnesota  81    8/1/2019              1   \n",
       "4  Frequent customer    Male  Minnesota  81    8/1/2019              1   \n",
       "\n",
       "   fam_status income  \n",
       "0     married  49620  \n",
       "1     married  49620  \n",
       "2     married  49620  \n",
       "3     married  49620  \n",
       "4     married  49620  \n",
       "\n",
       "[5 rows x 31 columns]"
      ]
     },
     "execution_count": 25,
     "metadata": {},
     "output_type": "execute_result"
    }
   ],
   "source": [
    "cust_ords_prods_merge.head()"
   ]
  },
  {
   "cell_type": "markdown",
   "id": "4e1154e7-063c-4d3e-b4ce-f96688615205",
   "metadata": {},
   "source": [
    "## Step 3:  The Instacart officers are interested in comparing customer behavior in different geographic areas. Create a regional segmentation of the data. You’ll need to create a “Region” column based on the “State” column from your customers data set.\n",
    "\n",
    "    Use the region information in this Wikipedia article (https://simple.wikipedia.org/wiki/List_of_regions_of_the_United_States) to create your column (you only need to create regions, not divisions).\n",
    "    Determine whether there’s a difference in spending habits between the different U.S. regions. (Hint: You can do this by crossing the variable you just created with the spending flag.)\n"
   ]
  },
  {
   "cell_type": "code",
   "execution_count": 26,
   "id": "0d8390d2-16b8-4015-9ebc-cd60fed8cef3",
   "metadata": {
    "ExecuteTime": {
     "end_time": "2023-03-16T05:16:57.053060Z",
     "start_time": "2023-03-16T05:16:57.050584Z"
    },
    "execution": {
     "iopub.execute_input": "2023-05-04T19:37:31.024094Z",
     "iopub.status.busy": "2023-05-04T19:37:31.023906Z",
     "iopub.status.idle": "2023-05-04T19:37:31.027316Z",
     "shell.execute_reply": "2023-05-04T19:37:31.026653Z",
     "shell.execute_reply.started": "2023-05-04T19:37:31.024071Z"
    },
    "tags": []
   },
   "outputs": [],
   "source": [
    "# Ugh.  In real life I would hope we would look states/locations up in a database, but for now, it's static lists."
   ]
  },
  {
   "cell_type": "code",
   "execution_count": 27,
   "id": "2be42129-02d5-4da5-b273-0552d2b76074",
   "metadata": {
    "ExecuteTime": {
     "end_time": "2023-03-16T05:16:57.060021Z",
     "start_time": "2023-03-16T05:16:57.055165Z"
    },
    "execution": {
     "iopub.execute_input": "2023-05-04T19:37:31.028419Z",
     "iopub.status.busy": "2023-05-04T19:37:31.028250Z",
     "iopub.status.idle": "2023-05-04T19:37:31.034336Z",
     "shell.execute_reply": "2023-05-04T19:37:31.033690Z",
     "shell.execute_reply.started": "2023-05-04T19:37:31.028397Z"
    },
    "tags": []
   },
   "outputs": [],
   "source": [
    "reg_1_ne = ['Maine', 'New Hampshire', 'Vermont', 'Massachusetts', 'Rhode Island', 'Connecticut', 'New York', 'Pennsylvania', 'New Jersey']\n",
    "reg_2_mw = ['Wisconsin', 'Michigan', 'Illinois', 'Indiana', 'Ohio', 'North Dakota', 'South Dakota', 'Nebraska', 'Kansas', 'Minnesota', 'Iowa', 'Missouri']\n",
    "reg_3_so = ['Delaware', 'Maryland', 'District of Columbia', 'Virginia', 'West Virginia', 'North Carolina', 'South Carolina', 'Georgia', 'Florida', 'Kentucky', 'Tennessee', 'Mississippi', 'Alabama', 'Oklahoma', 'Texas', 'Arkansas', 'Louisiana']\n",
    "reg_4_we = ['Idaho', 'Montana', 'Wyoming', 'Nevada', 'Utah', 'Colorado', 'Arizona', 'New Mexico', 'Alaska', 'Washington', 'Oregon', 'California', 'Hawaii']"
   ]
  },
  {
   "cell_type": "code",
   "execution_count": 28,
   "id": "1251e859-a6b1-4f41-8481-39d45249eec7",
   "metadata": {
    "ExecuteTime": {
     "end_time": "2023-03-16T05:16:57.068120Z",
     "start_time": "2023-03-16T05:16:57.065645Z"
    },
    "execution": {
     "iopub.execute_input": "2023-05-04T19:37:31.038980Z",
     "iopub.status.busy": "2023-05-04T19:37:31.038775Z",
     "iopub.status.idle": "2023-05-04T19:37:31.042149Z",
     "shell.execute_reply": "2023-05-04T19:37:31.041576Z",
     "shell.execute_reply.started": "2023-05-04T19:37:31.038957Z"
    }
   },
   "outputs": [],
   "source": [
    "# Checking that the lists look correct."
   ]
  },
  {
   "cell_type": "code",
   "execution_count": 29,
   "id": "6aa9fc00-5851-4e3a-aeac-183ada18c4e6",
   "metadata": {
    "ExecuteTime": {
     "end_time": "2023-03-16T05:16:57.074053Z",
     "start_time": "2023-03-16T05:16:57.069644Z"
    },
    "execution": {
     "iopub.execute_input": "2023-05-04T19:37:31.043598Z",
     "iopub.status.busy": "2023-05-04T19:37:31.043071Z",
     "iopub.status.idle": "2023-05-04T19:37:31.049892Z",
     "shell.execute_reply": "2023-05-04T19:37:31.049014Z",
     "shell.execute_reply.started": "2023-05-04T19:37:31.043564Z"
    },
    "tags": []
   },
   "outputs": [
    {
     "data": {
      "text/plain": [
       "['Maine',\n",
       " 'New Hampshire',\n",
       " 'Vermont',\n",
       " 'Massachusetts',\n",
       " 'Rhode Island',\n",
       " 'Connecticut',\n",
       " 'New York',\n",
       " 'Pennsylvania',\n",
       " 'New Jersey']"
      ]
     },
     "execution_count": 29,
     "metadata": {},
     "output_type": "execute_result"
    }
   ],
   "source": [
    "reg_1_ne"
   ]
  },
  {
   "cell_type": "code",
   "execution_count": 30,
   "id": "9a28d6c7-4c50-475f-8bec-0ab5c3d21684",
   "metadata": {
    "ExecuteTime": {
     "end_time": "2023-03-16T05:16:57.079792Z",
     "start_time": "2023-03-16T05:16:57.075593Z"
    },
    "execution": {
     "iopub.execute_input": "2023-05-04T19:37:31.051407Z",
     "iopub.status.busy": "2023-05-04T19:37:31.050760Z",
     "iopub.status.idle": "2023-05-04T19:37:31.056709Z",
     "shell.execute_reply": "2023-05-04T19:37:31.055967Z",
     "shell.execute_reply.started": "2023-05-04T19:37:31.051382Z"
    }
   },
   "outputs": [
    {
     "data": {
      "text/plain": [
       "['Wisconsin',\n",
       " 'Michigan',\n",
       " 'Illinois',\n",
       " 'Indiana',\n",
       " 'Ohio',\n",
       " 'North Dakota',\n",
       " 'South Dakota',\n",
       " 'Nebraska',\n",
       " 'Kansas',\n",
       " 'Minnesota',\n",
       " 'Iowa',\n",
       " 'Missouri']"
      ]
     },
     "execution_count": 30,
     "metadata": {},
     "output_type": "execute_result"
    }
   ],
   "source": [
    "reg_2_mw"
   ]
  },
  {
   "cell_type": "code",
   "execution_count": 31,
   "id": "c52079e0-8dd3-46da-b018-9ac6344fca8b",
   "metadata": {
    "ExecuteTime": {
     "end_time": "2023-03-16T05:16:57.085395Z",
     "start_time": "2023-03-16T05:16:57.081427Z"
    },
    "execution": {
     "iopub.execute_input": "2023-05-04T19:37:31.057844Z",
     "iopub.status.busy": "2023-05-04T19:37:31.057637Z",
     "iopub.status.idle": "2023-05-04T19:37:31.063177Z",
     "shell.execute_reply": "2023-05-04T19:37:31.062541Z",
     "shell.execute_reply.started": "2023-05-04T19:37:31.057821Z"
    }
   },
   "outputs": [
    {
     "data": {
      "text/plain": [
       "['Delaware',\n",
       " 'Maryland',\n",
       " 'District of Columbia',\n",
       " 'Virginia',\n",
       " 'West Virginia',\n",
       " 'North Carolina',\n",
       " 'South Carolina',\n",
       " 'Georgia',\n",
       " 'Florida',\n",
       " 'Kentucky',\n",
       " 'Tennessee',\n",
       " 'Mississippi',\n",
       " 'Alabama',\n",
       " 'Oklahoma',\n",
       " 'Texas',\n",
       " 'Arkansas',\n",
       " 'Louisiana']"
      ]
     },
     "execution_count": 31,
     "metadata": {},
     "output_type": "execute_result"
    }
   ],
   "source": [
    "reg_3_so"
   ]
  },
  {
   "cell_type": "code",
   "execution_count": 32,
   "id": "a6069488-0d8a-4110-8754-3094182b4d7b",
   "metadata": {
    "ExecuteTime": {
     "end_time": "2023-03-16T05:16:57.091023Z",
     "start_time": "2023-03-16T05:16:57.086991Z"
    },
    "execution": {
     "iopub.execute_input": "2023-05-04T19:37:31.064954Z",
     "iopub.status.busy": "2023-05-04T19:37:31.064475Z",
     "iopub.status.idle": "2023-05-04T19:37:31.069917Z",
     "shell.execute_reply": "2023-05-04T19:37:31.069155Z",
     "shell.execute_reply.started": "2023-05-04T19:37:31.064928Z"
    },
    "tags": []
   },
   "outputs": [
    {
     "data": {
      "text/plain": [
       "['Idaho',\n",
       " 'Montana',\n",
       " 'Wyoming',\n",
       " 'Nevada',\n",
       " 'Utah',\n",
       " 'Colorado',\n",
       " 'Arizona',\n",
       " 'New Mexico',\n",
       " 'Alaska',\n",
       " 'Washington',\n",
       " 'Oregon',\n",
       " 'California',\n",
       " 'Hawaii']"
      ]
     },
     "execution_count": 32,
     "metadata": {},
     "output_type": "execute_result"
    }
   ],
   "source": [
    "reg_4_we"
   ]
  },
  {
   "cell_type": "code",
   "execution_count": 33,
   "id": "48f23089-cc07-44c6-ba36-3ed71825c934",
   "metadata": {
    "ExecuteTime": {
     "end_time": "2023-03-16T05:16:57.096176Z",
     "start_time": "2023-03-16T05:16:57.092582Z"
    },
    "execution": {
     "iopub.execute_input": "2023-05-04T19:37:31.071676Z",
     "iopub.status.busy": "2023-05-04T19:37:31.071064Z",
     "iopub.status.idle": "2023-05-04T19:37:31.074491Z",
     "shell.execute_reply": "2023-05-04T19:37:31.073909Z",
     "shell.execute_reply.started": "2023-05-04T19:37:31.071649Z"
    },
    "tags": []
   },
   "outputs": [],
   "source": [
    "# Assign values to a new column, 'region', based on values in 'state'."
   ]
  },
  {
   "cell_type": "code",
   "execution_count": 34,
   "id": "8364fee4-e340-4242-b5c6-1bf2de9716bf",
   "metadata": {
    "ExecuteTime": {
     "end_time": "2023-03-16T05:17:05.568228Z",
     "start_time": "2023-03-16T05:16:57.097853Z"
    },
    "execution": {
     "iopub.execute_input": "2023-05-04T19:37:31.076101Z",
     "iopub.status.busy": "2023-05-04T19:37:31.075813Z",
     "iopub.status.idle": "2023-05-04T19:37:38.908838Z",
     "shell.execute_reply": "2023-05-04T19:37:38.908146Z",
     "shell.execute_reply.started": "2023-05-04T19:37:31.076074Z"
    },
    "tags": []
   },
   "outputs": [],
   "source": [
    "cust_ords_prods_merge.loc[cust_ords_prods_merge['state'].isin(reg_1_ne), 'region'] = 'Northeast'\n",
    "cust_ords_prods_merge.loc[cust_ords_prods_merge['state'].isin(reg_2_mw), 'region'] = 'Midwest'\n",
    "cust_ords_prods_merge.loc[cust_ords_prods_merge['state'].isin(reg_3_so), 'region'] = 'South'\n",
    "cust_ords_prods_merge.loc[cust_ords_prods_merge['state'].isin(reg_4_we), 'region'] = 'West'"
   ]
  },
  {
   "cell_type": "code",
   "execution_count": 35,
   "id": "2e43d3d2-b087-4bdc-8c0d-49d61cd7de83",
   "metadata": {
    "ExecuteTime": {
     "end_time": "2023-03-16T05:17:05.572940Z",
     "start_time": "2023-03-16T05:17:05.570205Z"
    },
    "execution": {
     "iopub.execute_input": "2023-05-04T19:37:38.910024Z",
     "iopub.status.busy": "2023-05-04T19:37:38.909832Z",
     "iopub.status.idle": "2023-05-04T19:37:38.913541Z",
     "shell.execute_reply": "2023-05-04T19:37:38.912628Z",
     "shell.execute_reply.started": "2023-05-04T19:37:38.910002Z"
    },
    "tags": []
   },
   "outputs": [],
   "source": [
    "# Check results."
   ]
  },
  {
   "cell_type": "code",
   "execution_count": 36,
   "id": "f0c4bf6d-69e9-439c-86f3-3dc627c8ac5c",
   "metadata": {
    "ExecuteTime": {
     "end_time": "2023-03-16T05:17:05.594217Z",
     "start_time": "2023-03-16T05:17:05.574512Z"
    },
    "execution": {
     "iopub.execute_input": "2023-05-04T19:37:38.914675Z",
     "iopub.status.busy": "2023-05-04T19:37:38.914466Z",
     "iopub.status.idle": "2023-05-04T19:37:38.936547Z",
     "shell.execute_reply": "2023-05-04T19:37:38.935718Z",
     "shell.execute_reply.started": "2023-05-04T19:37:38.914652Z"
    },
    "tags": []
   },
   "outputs": [
    {
     "data": {
      "text/html": [
       "<div>\n",
       "<style scoped>\n",
       "    .dataframe tbody tr th:only-of-type {\n",
       "        vertical-align: middle;\n",
       "    }\n",
       "\n",
       "    .dataframe tbody tr th {\n",
       "        vertical-align: top;\n",
       "    }\n",
       "\n",
       "    .dataframe thead th {\n",
       "        text-align: right;\n",
       "    }\n",
       "</style>\n",
       "<table border=\"1\" class=\"dataframe\">\n",
       "  <thead>\n",
       "    <tr style=\"text-align: right;\">\n",
       "      <th></th>\n",
       "      <th>Unnamed: 0</th>\n",
       "      <th>product_id</th>\n",
       "      <th>product_name</th>\n",
       "      <th>aisle_id</th>\n",
       "      <th>department_id</th>\n",
       "      <th>prices</th>\n",
       "      <th>order_id</th>\n",
       "      <th>customer_id</th>\n",
       "      <th>order_number</th>\n",
       "      <th>orders_day_of_week</th>\n",
       "      <th>...</th>\n",
       "      <th>avg_order_frequency</th>\n",
       "      <th>frequency_flag</th>\n",
       "      <th>gender</th>\n",
       "      <th>state</th>\n",
       "      <th>age</th>\n",
       "      <th>date_joined</th>\n",
       "      <th>num_dependents</th>\n",
       "      <th>fam_status</th>\n",
       "      <th>income</th>\n",
       "      <th>region</th>\n",
       "    </tr>\n",
       "  </thead>\n",
       "  <tbody>\n",
       "    <tr>\n",
       "      <th>0</th>\n",
       "      <td>0</td>\n",
       "      <td>1</td>\n",
       "      <td>Chocolate Sandwich Cookies</td>\n",
       "      <td>61</td>\n",
       "      <td>19</td>\n",
       "      <td>5.8</td>\n",
       "      <td>3139998</td>\n",
       "      <td>138</td>\n",
       "      <td>28</td>\n",
       "      <td>6</td>\n",
       "      <td>...</td>\n",
       "      <td>9.837838</td>\n",
       "      <td>Frequent customer</td>\n",
       "      <td>Male</td>\n",
       "      <td>Minnesota</td>\n",
       "      <td>81</td>\n",
       "      <td>8/1/2019</td>\n",
       "      <td>1</td>\n",
       "      <td>married</td>\n",
       "      <td>49620</td>\n",
       "      <td>Midwest</td>\n",
       "    </tr>\n",
       "    <tr>\n",
       "      <th>1</th>\n",
       "      <td>0</td>\n",
       "      <td>1</td>\n",
       "      <td>Chocolate Sandwich Cookies</td>\n",
       "      <td>61</td>\n",
       "      <td>19</td>\n",
       "      <td>5.8</td>\n",
       "      <td>1977647</td>\n",
       "      <td>138</td>\n",
       "      <td>30</td>\n",
       "      <td>6</td>\n",
       "      <td>...</td>\n",
       "      <td>9.837838</td>\n",
       "      <td>Frequent customer</td>\n",
       "      <td>Male</td>\n",
       "      <td>Minnesota</td>\n",
       "      <td>81</td>\n",
       "      <td>8/1/2019</td>\n",
       "      <td>1</td>\n",
       "      <td>married</td>\n",
       "      <td>49620</td>\n",
       "      <td>Midwest</td>\n",
       "    </tr>\n",
       "    <tr>\n",
       "      <th>2</th>\n",
       "      <td>907</td>\n",
       "      <td>907</td>\n",
       "      <td>Premium Sliced Bacon</td>\n",
       "      <td>106</td>\n",
       "      <td>12</td>\n",
       "      <td>20.0</td>\n",
       "      <td>3160996</td>\n",
       "      <td>138</td>\n",
       "      <td>1</td>\n",
       "      <td>5</td>\n",
       "      <td>...</td>\n",
       "      <td>9.837838</td>\n",
       "      <td>Frequent customer</td>\n",
       "      <td>Male</td>\n",
       "      <td>Minnesota</td>\n",
       "      <td>81</td>\n",
       "      <td>8/1/2019</td>\n",
       "      <td>1</td>\n",
       "      <td>married</td>\n",
       "      <td>49620</td>\n",
       "      <td>Midwest</td>\n",
       "    </tr>\n",
       "    <tr>\n",
       "      <th>3</th>\n",
       "      <td>907</td>\n",
       "      <td>907</td>\n",
       "      <td>Premium Sliced Bacon</td>\n",
       "      <td>106</td>\n",
       "      <td>12</td>\n",
       "      <td>20.0</td>\n",
       "      <td>2254091</td>\n",
       "      <td>138</td>\n",
       "      <td>10</td>\n",
       "      <td>5</td>\n",
       "      <td>...</td>\n",
       "      <td>9.837838</td>\n",
       "      <td>Frequent customer</td>\n",
       "      <td>Male</td>\n",
       "      <td>Minnesota</td>\n",
       "      <td>81</td>\n",
       "      <td>8/1/2019</td>\n",
       "      <td>1</td>\n",
       "      <td>married</td>\n",
       "      <td>49620</td>\n",
       "      <td>Midwest</td>\n",
       "    </tr>\n",
       "    <tr>\n",
       "      <th>4</th>\n",
       "      <td>1000</td>\n",
       "      <td>1000</td>\n",
       "      <td>Apricots</td>\n",
       "      <td>18</td>\n",
       "      <td>10</td>\n",
       "      <td>12.9</td>\n",
       "      <td>505689</td>\n",
       "      <td>138</td>\n",
       "      <td>9</td>\n",
       "      <td>6</td>\n",
       "      <td>...</td>\n",
       "      <td>9.837838</td>\n",
       "      <td>Frequent customer</td>\n",
       "      <td>Male</td>\n",
       "      <td>Minnesota</td>\n",
       "      <td>81</td>\n",
       "      <td>8/1/2019</td>\n",
       "      <td>1</td>\n",
       "      <td>married</td>\n",
       "      <td>49620</td>\n",
       "      <td>Midwest</td>\n",
       "    </tr>\n",
       "  </tbody>\n",
       "</table>\n",
       "<p>5 rows × 32 columns</p>\n",
       "</div>"
      ],
      "text/plain": [
       "   Unnamed: 0  product_id                product_name  aisle_id  \\\n",
       "0           0           1  Chocolate Sandwich Cookies        61   \n",
       "1           0           1  Chocolate Sandwich Cookies        61   \n",
       "2         907         907        Premium Sliced Bacon       106   \n",
       "3         907         907        Premium Sliced Bacon       106   \n",
       "4        1000        1000                    Apricots        18   \n",
       "\n",
       "   department_id  prices  order_id  customer_id  order_number  \\\n",
       "0             19     5.8   3139998          138            28   \n",
       "1             19     5.8   1977647          138            30   \n",
       "2             12    20.0   3160996          138             1   \n",
       "3             12    20.0   2254091          138            10   \n",
       "4             10    12.9    505689          138             9   \n",
       "\n",
       "   orders_day_of_week  ...  avg_order_frequency     frequency_flag  gender  \\\n",
       "0                   6  ...             9.837838  Frequent customer    Male   \n",
       "1                   6  ...             9.837838  Frequent customer    Male   \n",
       "2                   5  ...             9.837838  Frequent customer    Male   \n",
       "3                   5  ...             9.837838  Frequent customer    Male   \n",
       "4                   6  ...             9.837838  Frequent customer    Male   \n",
       "\n",
       "       state age date_joined num_dependents fam_status  income   region  \n",
       "0  Minnesota  81    8/1/2019              1    married   49620  Midwest  \n",
       "1  Minnesota  81    8/1/2019              1    married   49620  Midwest  \n",
       "2  Minnesota  81    8/1/2019              1    married   49620  Midwest  \n",
       "3  Minnesota  81    8/1/2019              1    married   49620  Midwest  \n",
       "4  Minnesota  81    8/1/2019              1    married   49620  Midwest  \n",
       "\n",
       "[5 rows x 32 columns]"
      ]
     },
     "execution_count": 36,
     "metadata": {},
     "output_type": "execute_result"
    }
   ],
   "source": [
    "cust_ords_prods_merge.head()"
   ]
  },
  {
   "cell_type": "code",
   "execution_count": 37,
   "id": "a05784e7-7ceb-4034-b692-f66d33e85dad",
   "metadata": {
    "ExecuteTime": {
     "end_time": "2023-03-16T05:17:05.600345Z",
     "start_time": "2023-03-16T05:17:05.596209Z"
    },
    "execution": {
     "iopub.execute_input": "2023-05-04T19:37:38.938007Z",
     "iopub.status.busy": "2023-05-04T19:37:38.937767Z",
     "iopub.status.idle": "2023-05-04T19:37:38.944784Z",
     "shell.execute_reply": "2023-05-04T19:37:38.943993Z",
     "shell.execute_reply.started": "2023-05-04T19:37:38.937983Z"
    },
    "tags": []
   },
   "outputs": [
    {
     "data": {
      "text/plain": [
       "(32404859, 32)"
      ]
     },
     "execution_count": 37,
     "metadata": {},
     "output_type": "execute_result"
    }
   ],
   "source": [
    "cust_ords_prods_merge.shape"
   ]
  },
  {
   "cell_type": "code",
   "execution_count": 38,
   "id": "db38c752-d6aa-4e84-8583-df787e69e6e1",
   "metadata": {
    "ExecuteTime": {
     "end_time": "2023-03-16T05:17:49.164353Z",
     "start_time": "2023-03-16T05:17:05.601913Z"
    },
    "execution": {
     "iopub.execute_input": "2023-05-04T19:37:38.946133Z",
     "iopub.status.busy": "2023-05-04T19:37:38.945844Z",
     "iopub.status.idle": "2023-05-04T19:38:33.072283Z",
     "shell.execute_reply": "2023-05-04T19:38:33.071534Z",
     "shell.execute_reply.started": "2023-05-04T19:37:38.946097Z"
    },
    "tags": []
   },
   "outputs": [
    {
     "name": "stdout",
     "output_type": "stream",
     "text": [
      "<class 'pandas.core.frame.DataFrame'>\n",
      "Int64Index: 32404859 entries, 0 to 32404858\n",
      "Data columns (total 32 columns):\n",
      " #   Column                  Dtype  \n",
      "---  ------                  -----  \n",
      " 0   Unnamed: 0              int64  \n",
      " 1   product_id              int64  \n",
      " 2   product_name            object \n",
      " 3   aisle_id                int64  \n",
      " 4   department_id           int64  \n",
      " 5   prices                  float64\n",
      " 6   order_id                int64  \n",
      " 7   customer_id             int64  \n",
      " 8   order_number            int64  \n",
      " 9   orders_day_of_week      int64  \n",
      " 10  order_hour_of_day       int64  \n",
      " 11  days_since_prior_order  float64\n",
      " 12  add_to_cart_order       int64  \n",
      " 13  reordered               int64  \n",
      " 14  price_range             object \n",
      " 15  price_range_loc         object \n",
      " 16  busiest_days            object \n",
      " 17  busiest_hours           object \n",
      " 18  max_order               int64  \n",
      " 19  loyalty_flag            object \n",
      " 20  avg_order               float64\n",
      " 21  spending_flag           object \n",
      " 22  avg_order_frequency     float64\n",
      " 23  frequency_flag          object \n",
      " 24  gender                  object \n",
      " 25  state                   object \n",
      " 26  age                     int64  \n",
      " 27  date_joined             object \n",
      " 28  num_dependents          int64  \n",
      " 29  fam_status              object \n",
      " 30  income                  int64  \n",
      " 31  region                  object \n",
      "dtypes: float64(4), int64(15), object(13)\n",
      "memory usage: 32.2 GB\n"
     ]
    }
   ],
   "source": [
    "cust_ords_prods_merge.info(memory_usage = 'deep')"
   ]
  },
  {
   "cell_type": "code",
   "execution_count": 39,
   "id": "d7fa3e36-e1dd-484e-a0d9-e1098d725b53",
   "metadata": {
    "ExecuteTime": {
     "end_time": "2023-03-16T05:17:49.658103Z",
     "start_time": "2023-03-16T05:17:49.170932Z"
    },
    "execution": {
     "iopub.execute_input": "2023-05-04T19:38:33.074634Z",
     "iopub.status.busy": "2023-05-04T19:38:33.073171Z",
     "iopub.status.idle": "2023-05-04T19:38:33.535617Z",
     "shell.execute_reply": "2023-05-04T19:38:33.534843Z",
     "shell.execute_reply.started": "2023-05-04T19:38:33.074603Z"
    },
    "tags": []
   },
   "outputs": [
    {
     "data": {
      "text/plain": [
       "South        10791885\n",
       "West          8292913\n",
       "Midwest       7597325\n",
       "Northeast     5722736\n",
       "Name: region, dtype: int64"
      ]
     },
     "execution_count": 39,
     "metadata": {},
     "output_type": "execute_result"
    }
   ],
   "source": [
    "cust_ords_prods_merge['region'].value_counts(dropna = False)"
   ]
  },
  {
   "cell_type": "code",
   "execution_count": 40,
   "id": "0568d35e-0593-4f95-b4ed-1ef0c72d178b",
   "metadata": {
    "ExecuteTime": {
     "end_time": "2023-03-16T05:17:49.662823Z",
     "start_time": "2023-03-16T05:17:49.659933Z"
    },
    "execution": {
     "iopub.execute_input": "2023-05-04T19:38:33.536910Z",
     "iopub.status.busy": "2023-05-04T19:38:33.536678Z",
     "iopub.status.idle": "2023-05-04T19:38:33.543268Z",
     "shell.execute_reply": "2023-05-04T19:38:33.542421Z",
     "shell.execute_reply.started": "2023-05-04T19:38:33.536884Z"
    },
    "tags": []
   },
   "outputs": [],
   "source": [
    "# Now we compare \"spending habits\" (total sales) across regions."
   ]
  },
  {
   "cell_type": "code",
   "execution_count": 41,
   "id": "772277f7-ad73-4bb7-9b0c-fcecb33f73a2",
   "metadata": {
    "ExecuteTime": {
     "end_time": "2023-03-16T05:17:56.307958Z",
     "start_time": "2023-03-16T05:17:49.664573Z"
    },
    "execution": {
     "iopub.execute_input": "2023-05-04T19:38:33.544935Z",
     "iopub.status.busy": "2023-05-04T19:38:33.544343Z",
     "iopub.status.idle": "2023-05-04T19:38:39.886047Z",
     "shell.execute_reply": "2023-05-04T19:38:39.885271Z",
     "shell.execute_reply.started": "2023-05-04T19:38:33.544909Z"
    },
    "tags": []
   },
   "outputs": [],
   "source": [
    "crosstab_regional_sales = pd.crosstab (cust_ords_prods_merge['spending_flag'], cust_ords_prods_merge['region'], dropna = False)"
   ]
  },
  {
   "cell_type": "code",
   "execution_count": 42,
   "id": "14d82e7b-18b3-4854-a3e1-ac581f496cba",
   "metadata": {
    "ExecuteTime": {
     "end_time": "2023-03-16T05:17:56.317357Z",
     "start_time": "2023-03-16T05:17:56.309915Z"
    },
    "execution": {
     "iopub.execute_input": "2023-05-04T19:38:39.887204Z",
     "iopub.status.busy": "2023-05-04T19:38:39.887014Z",
     "iopub.status.idle": "2023-05-04T19:38:39.895515Z",
     "shell.execute_reply": "2023-05-04T19:38:39.894752Z",
     "shell.execute_reply.started": "2023-05-04T19:38:39.887182Z"
    },
    "tags": []
   },
   "outputs": [
    {
     "data": {
      "text/html": [
       "<div>\n",
       "<style scoped>\n",
       "    .dataframe tbody tr th:only-of-type {\n",
       "        vertical-align: middle;\n",
       "    }\n",
       "\n",
       "    .dataframe tbody tr th {\n",
       "        vertical-align: top;\n",
       "    }\n",
       "\n",
       "    .dataframe thead th {\n",
       "        text-align: right;\n",
       "    }\n",
       "</style>\n",
       "<table border=\"1\" class=\"dataframe\">\n",
       "  <thead>\n",
       "    <tr style=\"text-align: right;\">\n",
       "      <th>region</th>\n",
       "      <th>Midwest</th>\n",
       "      <th>Northeast</th>\n",
       "      <th>South</th>\n",
       "      <th>West</th>\n",
       "    </tr>\n",
       "    <tr>\n",
       "      <th>spending_flag</th>\n",
       "      <th></th>\n",
       "      <th></th>\n",
       "      <th></th>\n",
       "      <th></th>\n",
       "    </tr>\n",
       "  </thead>\n",
       "  <tbody>\n",
       "    <tr>\n",
       "      <th>High spender</th>\n",
       "      <td>155932</td>\n",
       "      <td>108180</td>\n",
       "      <td>209481</td>\n",
       "      <td>160271</td>\n",
       "    </tr>\n",
       "    <tr>\n",
       "      <th>Low spender</th>\n",
       "      <td>7441393</td>\n",
       "      <td>5614556</td>\n",
       "      <td>10582404</td>\n",
       "      <td>8132642</td>\n",
       "    </tr>\n",
       "  </tbody>\n",
       "</table>\n",
       "</div>"
      ],
      "text/plain": [
       "region         Midwest  Northeast     South     West\n",
       "spending_flag                                       \n",
       "High spender    155932     108180    209481   160271\n",
       "Low spender    7441393    5614556  10582404  8132642"
      ]
     },
     "execution_count": 42,
     "metadata": {},
     "output_type": "execute_result"
    }
   ],
   "source": [
    "crosstab_regional_sales"
   ]
  },
  {
   "cell_type": "markdown",
   "id": "3be3e3ab-e874-4949-b71c-b8c11a3aeed5",
   "metadata": {},
   "source": [
    "## Step 4:  The Instacart CFO isn’t interested in customers who don’t generate much revenue for the app. Create an exclusion flag for low-activity customers (customers with less than 5 orders) and exclude them from the data. Make sure you export this sample."
   ]
  },
  {
   "cell_type": "code",
   "execution_count": 43,
   "id": "f67f12e1-0a97-4931-911e-0d5427e0bc7e",
   "metadata": {
    "ExecuteTime": {
     "end_time": "2023-03-16T05:17:56.321847Z",
     "start_time": "2023-03-16T05:17:56.319485Z"
    },
    "execution": {
     "iopub.execute_input": "2023-05-04T19:38:39.897762Z",
     "iopub.status.busy": "2023-05-04T19:38:39.896580Z",
     "iopub.status.idle": "2023-05-04T19:38:39.902251Z",
     "shell.execute_reply": "2023-05-04T19:38:39.900875Z",
     "shell.execute_reply.started": "2023-05-04T19:38:39.897727Z"
    },
    "tags": []
   },
   "outputs": [],
   "source": [
    "# I'm curious about the 'max_order' column."
   ]
  },
  {
   "cell_type": "code",
   "execution_count": 44,
   "id": "319fe7f8-7c4b-4a9a-abe2-d37d766545a8",
   "metadata": {
    "ExecuteTime": {
     "end_time": "2023-03-16T05:17:56.917205Z",
     "start_time": "2023-03-16T05:17:56.323957Z"
    },
    "execution": {
     "iopub.execute_input": "2023-05-04T19:38:39.904534Z",
     "iopub.status.busy": "2023-05-04T19:38:39.903647Z",
     "iopub.status.idle": "2023-05-04T19:38:40.384252Z",
     "shell.execute_reply": "2023-05-04T19:38:40.383100Z",
     "shell.execute_reply.started": "2023-05-04T19:38:39.904502Z"
    },
    "tags": []
   },
   "outputs": [
    {
     "data": {
      "text/plain": [
       "count    3.240486e+07\n",
       "mean     3.305217e+01\n",
       "std      2.515525e+01\n",
       "min      1.000000e+00\n",
       "25%      1.300000e+01\n",
       "50%      2.600000e+01\n",
       "75%      4.700000e+01\n",
       "max      9.900000e+01\n",
       "Name: max_order, dtype: float64"
      ]
     },
     "execution_count": 44,
     "metadata": {},
     "output_type": "execute_result"
    }
   ],
   "source": [
    "cust_ords_prods_merge['max_order'].describe()"
   ]
  },
  {
   "cell_type": "code",
   "execution_count": 45,
   "id": "3f955b7f-1ef4-43c2-8fd9-1c96dddc3c4a",
   "metadata": {
    "ExecuteTime": {
     "end_time": "2023-03-16T05:17:56.921954Z",
     "start_time": "2023-03-16T05:17:56.919240Z"
    },
    "execution": {
     "iopub.execute_input": "2023-05-04T19:38:40.386705Z",
     "iopub.status.busy": "2023-05-04T19:38:40.385917Z",
     "iopub.status.idle": "2023-05-04T19:38:40.390538Z",
     "shell.execute_reply": "2023-05-04T19:38:40.389688Z",
     "shell.execute_reply.started": "2023-05-04T19:38:40.386665Z"
    }
   },
   "outputs": [],
   "source": [
    "# Flag customers based on this 'activity' measure."
   ]
  },
  {
   "cell_type": "code",
   "execution_count": 46,
   "id": "c4bd37f9-8102-4851-8c01-2691c316d35c",
   "metadata": {
    "ExecuteTime": {
     "end_time": "2023-03-16T05:17:58.857946Z",
     "start_time": "2023-03-16T05:17:56.923515Z"
    },
    "execution": {
     "iopub.execute_input": "2023-05-04T19:38:40.392618Z",
     "iopub.status.busy": "2023-05-04T19:38:40.392120Z",
     "iopub.status.idle": "2023-05-04T19:38:41.915351Z",
     "shell.execute_reply": "2023-05-04T19:38:41.914790Z",
     "shell.execute_reply.started": "2023-05-04T19:38:40.392581Z"
    }
   },
   "outputs": [],
   "source": [
    "cust_ords_prods_merge.loc[cust_ords_prods_merge['max_order'] < 5, 'activity'] = 'low'"
   ]
  },
  {
   "cell_type": "code",
   "execution_count": 47,
   "id": "95976483-7279-4c45-a208-4cf1d5d8c112",
   "metadata": {
    "ExecuteTime": {
     "end_time": "2023-03-16T05:18:00.505306Z",
     "start_time": "2023-03-16T05:17:58.859869Z"
    },
    "execution": {
     "iopub.execute_input": "2023-05-04T19:38:41.916590Z",
     "iopub.status.busy": "2023-05-04T19:38:41.916383Z",
     "iopub.status.idle": "2023-05-04T19:38:43.483208Z",
     "shell.execute_reply": "2023-05-04T19:38:43.482500Z",
     "shell.execute_reply.started": "2023-05-04T19:38:41.916564Z"
    }
   },
   "outputs": [],
   "source": [
    "cust_ords_prods_merge.loc[cust_ords_prods_merge['max_order'] >= 5, 'activity'] = 'high'"
   ]
  },
  {
   "cell_type": "code",
   "execution_count": 48,
   "id": "b0cd2a41-3da3-4e7f-bd08-f0585d797cec",
   "metadata": {
    "ExecuteTime": {
     "end_time": "2023-03-16T05:18:00.509993Z",
     "start_time": "2023-03-16T05:18:00.507321Z"
    },
    "execution": {
     "iopub.execute_input": "2023-05-04T19:38:43.484712Z",
     "iopub.status.busy": "2023-05-04T19:38:43.484155Z",
     "iopub.status.idle": "2023-05-04T19:38:43.488661Z",
     "shell.execute_reply": "2023-05-04T19:38:43.487648Z",
     "shell.execute_reply.started": "2023-05-04T19:38:43.484679Z"
    }
   },
   "outputs": [],
   "source": [
    "# Based on the describe(), above, most customers should be 'high'."
   ]
  },
  {
   "cell_type": "code",
   "execution_count": 49,
   "id": "d32113c0-e202-4ae8-8f91-5d4c1262f9db",
   "metadata": {
    "ExecuteTime": {
     "end_time": "2023-03-16T05:18:01.657847Z",
     "start_time": "2023-03-16T05:18:00.511903Z"
    },
    "execution": {
     "iopub.execute_input": "2023-05-04T19:38:43.489848Z",
     "iopub.status.busy": "2023-05-04T19:38:43.489622Z",
     "iopub.status.idle": "2023-05-04T19:38:44.790634Z",
     "shell.execute_reply": "2023-05-04T19:38:44.789658Z",
     "shell.execute_reply.started": "2023-05-04T19:38:43.489824Z"
    }
   },
   "outputs": [
    {
     "data": {
      "text/plain": [
       "high    30964564\n",
       "low      1440295\n",
       "Name: activity, dtype: int64"
      ]
     },
     "execution_count": 49,
     "metadata": {},
     "output_type": "execute_result"
    }
   ],
   "source": [
    "cust_ords_prods_merge['activity'].value_counts()"
   ]
  },
  {
   "cell_type": "code",
   "execution_count": 50,
   "id": "07866272-f568-400c-a9d5-a5d60aa0ddc9",
   "metadata": {
    "ExecuteTime": {
     "end_time": "2023-03-16T05:18:01.663673Z",
     "start_time": "2023-03-16T05:18:01.660100Z"
    },
    "execution": {
     "iopub.execute_input": "2023-05-04T19:38:44.792254Z",
     "iopub.status.busy": "2023-05-04T19:38:44.791933Z",
     "iopub.status.idle": "2023-05-04T19:38:44.796623Z",
     "shell.execute_reply": "2023-05-04T19:38:44.795605Z",
     "shell.execute_reply.started": "2023-05-04T19:38:44.792220Z"
    }
   },
   "outputs": [],
   "source": [
    "# Checking the dataframe again."
   ]
  },
  {
   "cell_type": "code",
   "execution_count": 51,
   "id": "83e8ecf6-99ca-4353-a60c-d4493f102732",
   "metadata": {
    "ExecuteTime": {
     "end_time": "2023-03-16T05:18:48.530373Z",
     "start_time": "2023-03-16T05:18:01.665300Z"
    },
    "execution": {
     "iopub.execute_input": "2023-05-04T19:38:44.798570Z",
     "iopub.status.busy": "2023-05-04T19:38:44.797886Z",
     "iopub.status.idle": "2023-05-04T19:39:42.764510Z",
     "shell.execute_reply": "2023-05-04T19:39:42.763764Z",
     "shell.execute_reply.started": "2023-05-04T19:38:44.798534Z"
    },
    "tags": []
   },
   "outputs": [
    {
     "name": "stdout",
     "output_type": "stream",
     "text": [
      "<class 'pandas.core.frame.DataFrame'>\n",
      "Int64Index: 32404859 entries, 0 to 32404858\n",
      "Data columns (total 33 columns):\n",
      " #   Column                  Dtype  \n",
      "---  ------                  -----  \n",
      " 0   Unnamed: 0              int64  \n",
      " 1   product_id              int64  \n",
      " 2   product_name            object \n",
      " 3   aisle_id                int64  \n",
      " 4   department_id           int64  \n",
      " 5   prices                  float64\n",
      " 6   order_id                int64  \n",
      " 7   customer_id             int64  \n",
      " 8   order_number            int64  \n",
      " 9   orders_day_of_week      int64  \n",
      " 10  order_hour_of_day       int64  \n",
      " 11  days_since_prior_order  float64\n",
      " 12  add_to_cart_order       int64  \n",
      " 13  reordered               int64  \n",
      " 14  price_range             object \n",
      " 15  price_range_loc         object \n",
      " 16  busiest_days            object \n",
      " 17  busiest_hours           object \n",
      " 18  max_order               int64  \n",
      " 19  loyalty_flag            object \n",
      " 20  avg_order               float64\n",
      " 21  spending_flag           object \n",
      " 22  avg_order_frequency     float64\n",
      " 23  frequency_flag          object \n",
      " 24  gender                  object \n",
      " 25  state                   object \n",
      " 26  age                     int64  \n",
      " 27  date_joined             object \n",
      " 28  num_dependents          int64  \n",
      " 29  fam_status              object \n",
      " 30  income                  int64  \n",
      " 31  region                  object \n",
      " 32  activity                object \n",
      "dtypes: float64(4), int64(15), object(14)\n",
      "memory usage: 34.0 GB\n"
     ]
    }
   ],
   "source": [
    "cust_ords_prods_merge.info(memory_usage = 'deep')"
   ]
  },
  {
   "cell_type": "code",
   "execution_count": 52,
   "id": "37c94282-90be-4bb9-a18b-7d5e5822baa0",
   "metadata": {
    "ExecuteTime": {
     "end_time": "2023-03-16T05:18:48.535034Z",
     "start_time": "2023-03-16T05:18:48.532717Z"
    },
    "execution": {
     "iopub.execute_input": "2023-05-04T19:39:42.765800Z",
     "iopub.status.busy": "2023-05-04T19:39:42.765584Z",
     "iopub.status.idle": "2023-05-04T19:39:42.769577Z",
     "shell.execute_reply": "2023-05-04T19:39:42.768609Z",
     "shell.execute_reply.started": "2023-05-04T19:39:42.765778Z"
    }
   },
   "outputs": [],
   "source": [
    "# Split highly active customers off into their own dataframe."
   ]
  },
  {
   "cell_type": "code",
   "execution_count": 53,
   "id": "656dbe2c-64dc-4373-8daf-5b4d180bac12",
   "metadata": {
    "ExecuteTime": {
     "end_time": "2023-03-16T05:19:09.325184Z",
     "start_time": "2023-03-16T05:18:48.537033Z"
    },
    "execution": {
     "iopub.execute_input": "2023-05-04T19:39:42.770803Z",
     "iopub.status.busy": "2023-05-04T19:39:42.770583Z",
     "iopub.status.idle": "2023-05-04T19:39:59.140237Z",
     "shell.execute_reply": "2023-05-04T19:39:59.139691Z",
     "shell.execute_reply.started": "2023-05-04T19:39:42.770778Z"
    }
   },
   "outputs": [],
   "source": [
    "high_cust_df = cust_ords_prods_merge[cust_ords_prods_merge['activity'] == 'high']"
   ]
  },
  {
   "cell_type": "code",
   "execution_count": 54,
   "id": "41204737-76c2-4b6e-b4c4-9ae890f7a764",
   "metadata": {
    "ExecuteTime": {
     "end_time": "2023-03-16T05:19:54.026546Z",
     "start_time": "2023-03-16T05:19:09.327145Z"
    },
    "execution": {
     "iopub.execute_input": "2023-05-04T19:39:59.141711Z",
     "iopub.status.busy": "2023-05-04T19:39:59.141064Z",
     "iopub.status.idle": "2023-05-04T19:40:54.538608Z",
     "shell.execute_reply": "2023-05-04T19:40:54.537852Z",
     "shell.execute_reply.started": "2023-05-04T19:39:59.141672Z"
    }
   },
   "outputs": [
    {
     "name": "stdout",
     "output_type": "stream",
     "text": [
      "<class 'pandas.core.frame.DataFrame'>\n",
      "Int64Index: 30964564 entries, 0 to 32404847\n",
      "Data columns (total 33 columns):\n",
      " #   Column                  Dtype  \n",
      "---  ------                  -----  \n",
      " 0   Unnamed: 0              int64  \n",
      " 1   product_id              int64  \n",
      " 2   product_name            object \n",
      " 3   aisle_id                int64  \n",
      " 4   department_id           int64  \n",
      " 5   prices                  float64\n",
      " 6   order_id                int64  \n",
      " 7   customer_id             int64  \n",
      " 8   order_number            int64  \n",
      " 9   orders_day_of_week      int64  \n",
      " 10  order_hour_of_day       int64  \n",
      " 11  days_since_prior_order  float64\n",
      " 12  add_to_cart_order       int64  \n",
      " 13  reordered               int64  \n",
      " 14  price_range             object \n",
      " 15  price_range_loc         object \n",
      " 16  busiest_days            object \n",
      " 17  busiest_hours           object \n",
      " 18  max_order               int64  \n",
      " 19  loyalty_flag            object \n",
      " 20  avg_order               float64\n",
      " 21  spending_flag           object \n",
      " 22  avg_order_frequency     float64\n",
      " 23  frequency_flag          object \n",
      " 24  gender                  object \n",
      " 25  state                   object \n",
      " 26  age                     int64  \n",
      " 27  date_joined             object \n",
      " 28  num_dependents          int64  \n",
      " 29  fam_status              object \n",
      " 30  income                  int64  \n",
      " 31  region                  object \n",
      " 32  activity                object \n",
      "dtypes: float64(4), int64(15), object(14)\n",
      "memory usage: 32.5 GB\n"
     ]
    }
   ],
   "source": [
    "high_cust_df.info(memory_usage = 'deep')"
   ]
  },
  {
   "cell_type": "code",
   "execution_count": 55,
   "id": "cae5c87d-e0ab-4536-86c6-c02f60e11272",
   "metadata": {
    "ExecuteTime": {
     "end_time": "2023-03-16T05:19:54.046518Z",
     "start_time": "2023-03-16T05:19:54.028492Z"
    },
    "execution": {
     "iopub.execute_input": "2023-05-04T19:40:54.539760Z",
     "iopub.status.busy": "2023-05-04T19:40:54.539540Z",
     "iopub.status.idle": "2023-05-04T19:40:54.561428Z",
     "shell.execute_reply": "2023-05-04T19:40:54.560836Z",
     "shell.execute_reply.started": "2023-05-04T19:40:54.539734Z"
    }
   },
   "outputs": [
    {
     "data": {
      "text/html": [
       "<div>\n",
       "<style scoped>\n",
       "    .dataframe tbody tr th:only-of-type {\n",
       "        vertical-align: middle;\n",
       "    }\n",
       "\n",
       "    .dataframe tbody tr th {\n",
       "        vertical-align: top;\n",
       "    }\n",
       "\n",
       "    .dataframe thead th {\n",
       "        text-align: right;\n",
       "    }\n",
       "</style>\n",
       "<table border=\"1\" class=\"dataframe\">\n",
       "  <thead>\n",
       "    <tr style=\"text-align: right;\">\n",
       "      <th></th>\n",
       "      <th>Unnamed: 0</th>\n",
       "      <th>product_id</th>\n",
       "      <th>product_name</th>\n",
       "      <th>aisle_id</th>\n",
       "      <th>department_id</th>\n",
       "      <th>prices</th>\n",
       "      <th>order_id</th>\n",
       "      <th>customer_id</th>\n",
       "      <th>order_number</th>\n",
       "      <th>orders_day_of_week</th>\n",
       "      <th>...</th>\n",
       "      <th>frequency_flag</th>\n",
       "      <th>gender</th>\n",
       "      <th>state</th>\n",
       "      <th>age</th>\n",
       "      <th>date_joined</th>\n",
       "      <th>num_dependents</th>\n",
       "      <th>fam_status</th>\n",
       "      <th>income</th>\n",
       "      <th>region</th>\n",
       "      <th>activity</th>\n",
       "    </tr>\n",
       "  </thead>\n",
       "  <tbody>\n",
       "    <tr>\n",
       "      <th>0</th>\n",
       "      <td>0</td>\n",
       "      <td>1</td>\n",
       "      <td>Chocolate Sandwich Cookies</td>\n",
       "      <td>61</td>\n",
       "      <td>19</td>\n",
       "      <td>5.8</td>\n",
       "      <td>3139998</td>\n",
       "      <td>138</td>\n",
       "      <td>28</td>\n",
       "      <td>6</td>\n",
       "      <td>...</td>\n",
       "      <td>Frequent customer</td>\n",
       "      <td>Male</td>\n",
       "      <td>Minnesota</td>\n",
       "      <td>81</td>\n",
       "      <td>8/1/2019</td>\n",
       "      <td>1</td>\n",
       "      <td>married</td>\n",
       "      <td>49620</td>\n",
       "      <td>Midwest</td>\n",
       "      <td>high</td>\n",
       "    </tr>\n",
       "    <tr>\n",
       "      <th>1</th>\n",
       "      <td>0</td>\n",
       "      <td>1</td>\n",
       "      <td>Chocolate Sandwich Cookies</td>\n",
       "      <td>61</td>\n",
       "      <td>19</td>\n",
       "      <td>5.8</td>\n",
       "      <td>1977647</td>\n",
       "      <td>138</td>\n",
       "      <td>30</td>\n",
       "      <td>6</td>\n",
       "      <td>...</td>\n",
       "      <td>Frequent customer</td>\n",
       "      <td>Male</td>\n",
       "      <td>Minnesota</td>\n",
       "      <td>81</td>\n",
       "      <td>8/1/2019</td>\n",
       "      <td>1</td>\n",
       "      <td>married</td>\n",
       "      <td>49620</td>\n",
       "      <td>Midwest</td>\n",
       "      <td>high</td>\n",
       "    </tr>\n",
       "    <tr>\n",
       "      <th>2</th>\n",
       "      <td>907</td>\n",
       "      <td>907</td>\n",
       "      <td>Premium Sliced Bacon</td>\n",
       "      <td>106</td>\n",
       "      <td>12</td>\n",
       "      <td>20.0</td>\n",
       "      <td>3160996</td>\n",
       "      <td>138</td>\n",
       "      <td>1</td>\n",
       "      <td>5</td>\n",
       "      <td>...</td>\n",
       "      <td>Frequent customer</td>\n",
       "      <td>Male</td>\n",
       "      <td>Minnesota</td>\n",
       "      <td>81</td>\n",
       "      <td>8/1/2019</td>\n",
       "      <td>1</td>\n",
       "      <td>married</td>\n",
       "      <td>49620</td>\n",
       "      <td>Midwest</td>\n",
       "      <td>high</td>\n",
       "    </tr>\n",
       "    <tr>\n",
       "      <th>3</th>\n",
       "      <td>907</td>\n",
       "      <td>907</td>\n",
       "      <td>Premium Sliced Bacon</td>\n",
       "      <td>106</td>\n",
       "      <td>12</td>\n",
       "      <td>20.0</td>\n",
       "      <td>2254091</td>\n",
       "      <td>138</td>\n",
       "      <td>10</td>\n",
       "      <td>5</td>\n",
       "      <td>...</td>\n",
       "      <td>Frequent customer</td>\n",
       "      <td>Male</td>\n",
       "      <td>Minnesota</td>\n",
       "      <td>81</td>\n",
       "      <td>8/1/2019</td>\n",
       "      <td>1</td>\n",
       "      <td>married</td>\n",
       "      <td>49620</td>\n",
       "      <td>Midwest</td>\n",
       "      <td>high</td>\n",
       "    </tr>\n",
       "    <tr>\n",
       "      <th>4</th>\n",
       "      <td>1000</td>\n",
       "      <td>1000</td>\n",
       "      <td>Apricots</td>\n",
       "      <td>18</td>\n",
       "      <td>10</td>\n",
       "      <td>12.9</td>\n",
       "      <td>505689</td>\n",
       "      <td>138</td>\n",
       "      <td>9</td>\n",
       "      <td>6</td>\n",
       "      <td>...</td>\n",
       "      <td>Frequent customer</td>\n",
       "      <td>Male</td>\n",
       "      <td>Minnesota</td>\n",
       "      <td>81</td>\n",
       "      <td>8/1/2019</td>\n",
       "      <td>1</td>\n",
       "      <td>married</td>\n",
       "      <td>49620</td>\n",
       "      <td>Midwest</td>\n",
       "      <td>high</td>\n",
       "    </tr>\n",
       "  </tbody>\n",
       "</table>\n",
       "<p>5 rows × 33 columns</p>\n",
       "</div>"
      ],
      "text/plain": [
       "   Unnamed: 0  product_id                product_name  aisle_id  \\\n",
       "0           0           1  Chocolate Sandwich Cookies        61   \n",
       "1           0           1  Chocolate Sandwich Cookies        61   \n",
       "2         907         907        Premium Sliced Bacon       106   \n",
       "3         907         907        Premium Sliced Bacon       106   \n",
       "4        1000        1000                    Apricots        18   \n",
       "\n",
       "   department_id  prices  order_id  customer_id  order_number  \\\n",
       "0             19     5.8   3139998          138            28   \n",
       "1             19     5.8   1977647          138            30   \n",
       "2             12    20.0   3160996          138             1   \n",
       "3             12    20.0   2254091          138            10   \n",
       "4             10    12.9    505689          138             9   \n",
       "\n",
       "   orders_day_of_week  ...     frequency_flag  gender      state  age  \\\n",
       "0                   6  ...  Frequent customer    Male  Minnesota   81   \n",
       "1                   6  ...  Frequent customer    Male  Minnesota   81   \n",
       "2                   5  ...  Frequent customer    Male  Minnesota   81   \n",
       "3                   5  ...  Frequent customer    Male  Minnesota   81   \n",
       "4                   6  ...  Frequent customer    Male  Minnesota   81   \n",
       "\n",
       "  date_joined num_dependents fam_status income   region activity  \n",
       "0    8/1/2019              1    married  49620  Midwest     high  \n",
       "1    8/1/2019              1    married  49620  Midwest     high  \n",
       "2    8/1/2019              1    married  49620  Midwest     high  \n",
       "3    8/1/2019              1    married  49620  Midwest     high  \n",
       "4    8/1/2019              1    married  49620  Midwest     high  \n",
       "\n",
       "[5 rows x 33 columns]"
      ]
     },
     "execution_count": 55,
     "metadata": {},
     "output_type": "execute_result"
    }
   ],
   "source": [
    "high_cust_df.head()"
   ]
  },
  {
   "cell_type": "code",
   "execution_count": 56,
   "id": "ed0a6e93-b736-41dd-983f-7ba0c2d4c869",
   "metadata": {
    "ExecuteTime": {
     "end_time": "2023-03-16T05:19:54.051263Z",
     "start_time": "2023-03-16T05:19:54.048620Z"
    },
    "execution": {
     "iopub.execute_input": "2023-05-04T19:40:54.563052Z",
     "iopub.status.busy": "2023-05-04T19:40:54.562465Z",
     "iopub.status.idle": "2023-05-04T19:40:54.567235Z",
     "shell.execute_reply": "2023-05-04T19:40:54.566580Z",
     "shell.execute_reply.started": "2023-05-04T19:40:54.563018Z"
    }
   },
   "outputs": [],
   "source": [
    "# Split low-activity customers off into their own dataframe."
   ]
  },
  {
   "cell_type": "code",
   "execution_count": 57,
   "id": "ae250e2c-66fc-477f-882a-baef4c9a72ce",
   "metadata": {
    "ExecuteTime": {
     "end_time": "2023-03-16T05:19:56.232068Z",
     "start_time": "2023-03-16T05:19:54.052982Z"
    },
    "execution": {
     "iopub.execute_input": "2023-05-04T19:40:54.568436Z",
     "iopub.status.busy": "2023-05-04T19:40:54.568225Z",
     "iopub.status.idle": "2023-05-04T19:40:56.822124Z",
     "shell.execute_reply": "2023-05-04T19:40:56.821249Z",
     "shell.execute_reply.started": "2023-05-04T19:40:54.568410Z"
    }
   },
   "outputs": [],
   "source": [
    "low_cust_df = cust_ords_prods_merge[cust_ords_prods_merge['activity'] == 'low']"
   ]
  },
  {
   "cell_type": "code",
   "execution_count": 58,
   "id": "a7a318e0-9179-4d20-b35b-5fe0f45443be",
   "metadata": {
    "ExecuteTime": {
     "end_time": "2023-03-16T05:20:00.873182Z",
     "start_time": "2023-03-16T05:19:56.234411Z"
    },
    "execution": {
     "iopub.execute_input": "2023-05-04T19:40:56.823557Z",
     "iopub.status.busy": "2023-05-04T19:40:56.823333Z",
     "iopub.status.idle": "2023-05-04T19:41:02.441394Z",
     "shell.execute_reply": "2023-05-04T19:41:02.440628Z",
     "shell.execute_reply.started": "2023-05-04T19:40:56.823533Z"
    }
   },
   "outputs": [
    {
     "name": "stdout",
     "output_type": "stream",
     "text": [
      "<class 'pandas.core.frame.DataFrame'>\n",
      "Int64Index: 1440295 entries, 340 to 32404858\n",
      "Data columns (total 33 columns):\n",
      " #   Column                  Non-Null Count    Dtype  \n",
      "---  ------                  --------------    -----  \n",
      " 0   Unnamed: 0              1440295 non-null  int64  \n",
      " 1   product_id              1440295 non-null  int64  \n",
      " 2   product_name            1440295 non-null  object \n",
      " 3   aisle_id                1440295 non-null  int64  \n",
      " 4   department_id           1440295 non-null  int64  \n",
      " 5   prices                  1440045 non-null  float64\n",
      " 6   order_id                1440295 non-null  int64  \n",
      " 7   customer_id             1440295 non-null  int64  \n",
      " 8   order_number            1440295 non-null  int64  \n",
      " 9   orders_day_of_week      1440295 non-null  int64  \n",
      " 10  order_hour_of_day       1440295 non-null  int64  \n",
      " 11  days_since_prior_order  1440295 non-null  float64\n",
      " 12  add_to_cart_order       1440295 non-null  int64  \n",
      " 13  reordered               1440295 non-null  int64  \n",
      " 14  price_range             1440295 non-null  object \n",
      " 15  price_range_loc         1440295 non-null  object \n",
      " 16  busiest_days            1440295 non-null  object \n",
      " 17  busiest_hours           1440295 non-null  object \n",
      " 18  max_order               1440295 non-null  int64  \n",
      " 19  loyalty_flag            1440295 non-null  object \n",
      " 20  avg_order               1440295 non-null  float64\n",
      " 21  spending_flag           1440295 non-null  object \n",
      " 22  avg_order_frequency     1440295 non-null  float64\n",
      " 23  frequency_flag          1440295 non-null  object \n",
      " 24  gender                  1440295 non-null  object \n",
      " 25  state                   1440295 non-null  object \n",
      " 26  age                     1440295 non-null  int64  \n",
      " 27  date_joined             1440295 non-null  object \n",
      " 28  num_dependents          1440295 non-null  int64  \n",
      " 29  fam_status              1440295 non-null  object \n",
      " 30  income                  1440295 non-null  int64  \n",
      " 31  region                  1440295 non-null  object \n",
      " 32  activity                1440295 non-null  object \n",
      "dtypes: float64(4), int64(15), object(14)\n",
      "memory usage: 1.5 GB\n"
     ]
    }
   ],
   "source": [
    "low_cust_df.info(memory_usage = 'deep')"
   ]
  },
  {
   "cell_type": "code",
   "execution_count": 59,
   "id": "7ff821fe-d8a4-4579-8b9b-ee56d24e9e22",
   "metadata": {
    "ExecuteTime": {
     "end_time": "2023-03-16T05:20:00.892701Z",
     "start_time": "2023-03-16T05:20:00.875190Z"
    },
    "execution": {
     "iopub.execute_input": "2023-05-04T19:41:02.443250Z",
     "iopub.status.busy": "2023-05-04T19:41:02.442591Z",
     "iopub.status.idle": "2023-05-04T19:41:02.463941Z",
     "shell.execute_reply": "2023-05-04T19:41:02.463060Z",
     "shell.execute_reply.started": "2023-05-04T19:41:02.443213Z"
    }
   },
   "outputs": [
    {
     "data": {
      "text/html": [
       "<div>\n",
       "<style scoped>\n",
       "    .dataframe tbody tr th:only-of-type {\n",
       "        vertical-align: middle;\n",
       "    }\n",
       "\n",
       "    .dataframe tbody tr th {\n",
       "        vertical-align: top;\n",
       "    }\n",
       "\n",
       "    .dataframe thead th {\n",
       "        text-align: right;\n",
       "    }\n",
       "</style>\n",
       "<table border=\"1\" class=\"dataframe\">\n",
       "  <thead>\n",
       "    <tr style=\"text-align: right;\">\n",
       "      <th></th>\n",
       "      <th>Unnamed: 0</th>\n",
       "      <th>product_id</th>\n",
       "      <th>product_name</th>\n",
       "      <th>aisle_id</th>\n",
       "      <th>department_id</th>\n",
       "      <th>prices</th>\n",
       "      <th>order_id</th>\n",
       "      <th>customer_id</th>\n",
       "      <th>order_number</th>\n",
       "      <th>orders_day_of_week</th>\n",
       "      <th>...</th>\n",
       "      <th>frequency_flag</th>\n",
       "      <th>gender</th>\n",
       "      <th>state</th>\n",
       "      <th>age</th>\n",
       "      <th>date_joined</th>\n",
       "      <th>num_dependents</th>\n",
       "      <th>fam_status</th>\n",
       "      <th>income</th>\n",
       "      <th>region</th>\n",
       "      <th>activity</th>\n",
       "    </tr>\n",
       "  </thead>\n",
       "  <tbody>\n",
       "    <tr>\n",
       "      <th>340</th>\n",
       "      <td>0</td>\n",
       "      <td>1</td>\n",
       "      <td>Chocolate Sandwich Cookies</td>\n",
       "      <td>61</td>\n",
       "      <td>19</td>\n",
       "      <td>5.8</td>\n",
       "      <td>652770</td>\n",
       "      <td>764</td>\n",
       "      <td>1</td>\n",
       "      <td>3</td>\n",
       "      <td>...</td>\n",
       "      <td>Frequent customer</td>\n",
       "      <td>Female</td>\n",
       "      <td>Wisconsin</td>\n",
       "      <td>40</td>\n",
       "      <td>2/9/2020</td>\n",
       "      <td>3</td>\n",
       "      <td>married</td>\n",
       "      <td>31308</td>\n",
       "      <td>Midwest</td>\n",
       "      <td>low</td>\n",
       "    </tr>\n",
       "    <tr>\n",
       "      <th>341</th>\n",
       "      <td>0</td>\n",
       "      <td>1</td>\n",
       "      <td>Chocolate Sandwich Cookies</td>\n",
       "      <td>61</td>\n",
       "      <td>19</td>\n",
       "      <td>5.8</td>\n",
       "      <td>1813452</td>\n",
       "      <td>764</td>\n",
       "      <td>3</td>\n",
       "      <td>4</td>\n",
       "      <td>...</td>\n",
       "      <td>Frequent customer</td>\n",
       "      <td>Female</td>\n",
       "      <td>Wisconsin</td>\n",
       "      <td>40</td>\n",
       "      <td>2/9/2020</td>\n",
       "      <td>3</td>\n",
       "      <td>married</td>\n",
       "      <td>31308</td>\n",
       "      <td>Midwest</td>\n",
       "      <td>low</td>\n",
       "    </tr>\n",
       "    <tr>\n",
       "      <th>342</th>\n",
       "      <td>3260</td>\n",
       "      <td>3260</td>\n",
       "      <td>Chips Ahoy!/Nutter Butter/Oreo Cookies</td>\n",
       "      <td>61</td>\n",
       "      <td>19</td>\n",
       "      <td>1.7</td>\n",
       "      <td>652770</td>\n",
       "      <td>764</td>\n",
       "      <td>1</td>\n",
       "      <td>3</td>\n",
       "      <td>...</td>\n",
       "      <td>Frequent customer</td>\n",
       "      <td>Female</td>\n",
       "      <td>Wisconsin</td>\n",
       "      <td>40</td>\n",
       "      <td>2/9/2020</td>\n",
       "      <td>3</td>\n",
       "      <td>married</td>\n",
       "      <td>31308</td>\n",
       "      <td>Midwest</td>\n",
       "      <td>low</td>\n",
       "    </tr>\n",
       "    <tr>\n",
       "      <th>343</th>\n",
       "      <td>3260</td>\n",
       "      <td>3260</td>\n",
       "      <td>Chips Ahoy!/Nutter Butter/Oreo Cookies</td>\n",
       "      <td>61</td>\n",
       "      <td>19</td>\n",
       "      <td>1.7</td>\n",
       "      <td>705212</td>\n",
       "      <td>764</td>\n",
       "      <td>2</td>\n",
       "      <td>2</td>\n",
       "      <td>...</td>\n",
       "      <td>Frequent customer</td>\n",
       "      <td>Female</td>\n",
       "      <td>Wisconsin</td>\n",
       "      <td>40</td>\n",
       "      <td>2/9/2020</td>\n",
       "      <td>3</td>\n",
       "      <td>married</td>\n",
       "      <td>31308</td>\n",
       "      <td>Midwest</td>\n",
       "      <td>low</td>\n",
       "    </tr>\n",
       "    <tr>\n",
       "      <th>344</th>\n",
       "      <td>3260</td>\n",
       "      <td>3260</td>\n",
       "      <td>Chips Ahoy!/Nutter Butter/Oreo Cookies</td>\n",
       "      <td>61</td>\n",
       "      <td>19</td>\n",
       "      <td>1.7</td>\n",
       "      <td>1813452</td>\n",
       "      <td>764</td>\n",
       "      <td>3</td>\n",
       "      <td>4</td>\n",
       "      <td>...</td>\n",
       "      <td>Frequent customer</td>\n",
       "      <td>Female</td>\n",
       "      <td>Wisconsin</td>\n",
       "      <td>40</td>\n",
       "      <td>2/9/2020</td>\n",
       "      <td>3</td>\n",
       "      <td>married</td>\n",
       "      <td>31308</td>\n",
       "      <td>Midwest</td>\n",
       "      <td>low</td>\n",
       "    </tr>\n",
       "  </tbody>\n",
       "</table>\n",
       "<p>5 rows × 33 columns</p>\n",
       "</div>"
      ],
      "text/plain": [
       "     Unnamed: 0  product_id                            product_name  aisle_id  \\\n",
       "340           0           1              Chocolate Sandwich Cookies        61   \n",
       "341           0           1              Chocolate Sandwich Cookies        61   \n",
       "342        3260        3260  Chips Ahoy!/Nutter Butter/Oreo Cookies        61   \n",
       "343        3260        3260  Chips Ahoy!/Nutter Butter/Oreo Cookies        61   \n",
       "344        3260        3260  Chips Ahoy!/Nutter Butter/Oreo Cookies        61   \n",
       "\n",
       "     department_id  prices  order_id  customer_id  order_number  \\\n",
       "340             19     5.8    652770          764             1   \n",
       "341             19     5.8   1813452          764             3   \n",
       "342             19     1.7    652770          764             1   \n",
       "343             19     1.7    705212          764             2   \n",
       "344             19     1.7   1813452          764             3   \n",
       "\n",
       "     orders_day_of_week  ...     frequency_flag  gender      state  age  \\\n",
       "340                   3  ...  Frequent customer  Female  Wisconsin   40   \n",
       "341                   4  ...  Frequent customer  Female  Wisconsin   40   \n",
       "342                   3  ...  Frequent customer  Female  Wisconsin   40   \n",
       "343                   2  ...  Frequent customer  Female  Wisconsin   40   \n",
       "344                   4  ...  Frequent customer  Female  Wisconsin   40   \n",
       "\n",
       "    date_joined num_dependents fam_status income   region activity  \n",
       "340    2/9/2020              3    married  31308  Midwest      low  \n",
       "341    2/9/2020              3    married  31308  Midwest      low  \n",
       "342    2/9/2020              3    married  31308  Midwest      low  \n",
       "343    2/9/2020              3    married  31308  Midwest      low  \n",
       "344    2/9/2020              3    married  31308  Midwest      low  \n",
       "\n",
       "[5 rows x 33 columns]"
      ]
     },
     "execution_count": 59,
     "metadata": {},
     "output_type": "execute_result"
    }
   ],
   "source": [
    "low_cust_df.head()"
   ]
  },
  {
   "cell_type": "code",
   "execution_count": 60,
   "id": "2191d27e-2549-4459-b47b-5f5aa92db18a",
   "metadata": {
    "ExecuteTime": {
     "end_time": "2023-03-16T05:20:00.897137Z",
     "start_time": "2023-03-16T05:20:00.894774Z"
    },
    "execution": {
     "iopub.execute_input": "2023-05-04T19:41:02.466053Z",
     "iopub.status.busy": "2023-05-04T19:41:02.465204Z",
     "iopub.status.idle": "2023-05-04T19:41:02.469661Z",
     "shell.execute_reply": "2023-05-04T19:41:02.468978Z",
     "shell.execute_reply.started": "2023-05-04T19:41:02.466012Z"
    }
   },
   "outputs": [],
   "source": [
    "# It looks like even my 32GB EC2 instance runs out of RAM when I try to export the 'high_cust_df' dataframe\n",
    "# to a file, so I am going to try deleting the orginal 'cust_ords_prods_merge' dataframe from memory, first."
   ]
  },
  {
   "cell_type": "code",
   "execution_count": 61,
   "id": "3b394da2-983e-4cc3-8a8f-a5177220c916",
   "metadata": {
    "ExecuteTime": {
     "end_time": "2023-03-16T05:20:02.043099Z",
     "start_time": "2023-03-16T05:20:00.899088Z"
    },
    "execution": {
     "iopub.execute_input": "2023-05-04T19:41:02.471998Z",
     "iopub.status.busy": "2023-05-04T19:41:02.471317Z",
     "iopub.status.idle": "2023-05-04T19:41:04.109927Z",
     "shell.execute_reply": "2023-05-04T19:41:04.109110Z",
     "shell.execute_reply.started": "2023-05-04T19:41:02.471957Z"
    }
   },
   "outputs": [],
   "source": [
    "del cust_ords_prods_merge"
   ]
  },
  {
   "cell_type": "code",
   "execution_count": 62,
   "id": "f4a0f517-3745-4253-bcac-e6fb74107ba4",
   "metadata": {
    "ExecuteTime": {
     "end_time": "2023-03-16T05:20:02.048356Z",
     "start_time": "2023-03-16T05:20:02.045326Z"
    },
    "execution": {
     "iopub.execute_input": "2023-05-04T19:41:04.111142Z",
     "iopub.status.busy": "2023-05-04T19:41:04.110944Z",
     "iopub.status.idle": "2023-05-04T19:41:04.115768Z",
     "shell.execute_reply": "2023-05-04T19:41:04.114803Z",
     "shell.execute_reply.started": "2023-05-04T19:41:04.111119Z"
    }
   },
   "outputs": [],
   "source": [
    "# Export the high_cust_df to a pickle file."
   ]
  },
  {
   "cell_type": "code",
   "execution_count": 63,
   "id": "4720d5b3-9663-4e7c-80d1-2aaf406d8986",
   "metadata": {
    "ExecuteTime": {
     "end_time": "2023-03-16T05:20:57.066622Z",
     "start_time": "2023-03-16T05:20:02.050175Z"
    },
    "execution": {
     "iopub.execute_input": "2023-05-04T19:41:04.117023Z",
     "iopub.status.busy": "2023-05-04T19:41:04.116758Z",
     "iopub.status.idle": "2023-05-04T19:41:58.993701Z",
     "shell.execute_reply": "2023-05-04T19:41:58.993116Z",
     "shell.execute_reply.started": "2023-05-04T19:41:04.116991Z"
    }
   },
   "outputs": [],
   "source": [
    "high_cust_df.to_pickle(os.path.join(path, '02-Data', 'Prepared-Data', 'high_cust_df.pkl'))"
   ]
  },
  {
   "cell_type": "code",
   "execution_count": 64,
   "id": "cc0a5b8b-99d8-4680-8c88-46d752c86b6b",
   "metadata": {
    "ExecuteTime": {
     "end_time": "2023-03-16T05:20:57.071177Z",
     "start_time": "2023-03-16T05:20:57.068605Z"
    },
    "execution": {
     "iopub.execute_input": "2023-05-04T19:41:58.995047Z",
     "iopub.status.busy": "2023-05-04T19:41:58.994516Z",
     "iopub.status.idle": "2023-05-04T19:41:58.998137Z",
     "shell.execute_reply": "2023-05-04T19:41:58.997449Z",
     "shell.execute_reply.started": "2023-05-04T19:41:58.995021Z"
    }
   },
   "outputs": [],
   "source": [
    "# Export the low_cust_df to a pickle file."
   ]
  },
  {
   "cell_type": "code",
   "execution_count": 65,
   "id": "c21a35d4-5cd6-48ac-a55d-854325e2bcbb",
   "metadata": {
    "ExecuteTime": {
     "end_time": "2023-03-16T05:20:59.680249Z",
     "start_time": "2023-03-16T05:20:57.072724Z"
    },
    "execution": {
     "iopub.execute_input": "2023-05-04T19:41:58.999536Z",
     "iopub.status.busy": "2023-05-04T19:41:58.999261Z",
     "iopub.status.idle": "2023-05-04T19:42:01.467805Z",
     "shell.execute_reply": "2023-05-04T19:42:01.467195Z",
     "shell.execute_reply.started": "2023-05-04T19:41:58.999461Z"
    }
   },
   "outputs": [],
   "source": [
    "low_cust_df.to_pickle(os.path.join(path, '02-Data', 'Prepared-Data', 'low_cust_df.pkl'))"
   ]
  },
  {
   "cell_type": "code",
   "execution_count": 66,
   "id": "deed1adb-5a63-44e1-8bc1-fcbfc68ecf26",
   "metadata": {
    "ExecuteTime": {
     "end_time": "2023-03-16T05:20:59.684864Z",
     "start_time": "2023-03-16T05:20:59.682165Z"
    },
    "execution": {
     "iopub.execute_input": "2023-05-04T19:42:01.469781Z",
     "iopub.status.busy": "2023-05-04T19:42:01.469445Z",
     "iopub.status.idle": "2023-05-04T19:42:01.473746Z",
     "shell.execute_reply": "2023-05-04T19:42:01.472930Z",
     "shell.execute_reply.started": "2023-05-04T19:42:01.469758Z"
    }
   },
   "outputs": [],
   "source": [
    "# We're not interested in processing information about low-activity customers further, so let's free some RAM."
   ]
  },
  {
   "cell_type": "code",
   "execution_count": 67,
   "id": "d4b17f4d-a5eb-47b6-b777-76a32e476564",
   "metadata": {
    "ExecuteTime": {
     "end_time": "2023-03-16T05:20:59.706848Z",
     "start_time": "2023-03-16T05:20:59.686598Z"
    },
    "execution": {
     "iopub.execute_input": "2023-05-04T19:42:01.475316Z",
     "iopub.status.busy": "2023-05-04T19:42:01.474682Z",
     "iopub.status.idle": "2023-05-04T19:42:01.492889Z",
     "shell.execute_reply": "2023-05-04T19:42:01.492018Z",
     "shell.execute_reply.started": "2023-05-04T19:42:01.475292Z"
    },
    "tags": []
   },
   "outputs": [],
   "source": [
    "del low_cust_df"
   ]
  }
 ],
 "metadata": {
  "kernelspec": {
   "display_name": "Python 3 (ipykernel)",
   "language": "python",
   "name": "python3"
  },
  "language_info": {
   "codemirror_mode": {
    "name": "ipython",
    "version": 3
   },
   "file_extension": ".py",
   "mimetype": "text/x-python",
   "name": "python",
   "nbconvert_exporter": "python",
   "pygments_lexer": "ipython3",
   "version": "3.9.12"
  }
 },
 "nbformat": 4,
 "nbformat_minor": 5
}
