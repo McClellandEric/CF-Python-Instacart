{
 "cells": [
  {
   "cell_type": "markdown",
   "id": "f796445c",
   "metadata": {},
   "source": [
    "# Task 4.9: Intro to Data Visualization with Python, part 2"
   ]
  },
  {
   "cell_type": "markdown",
   "id": "ae591bf1",
   "metadata": {},
   "source": [
    "## Standard prerequisites.  Now with additional libraries seaborn, matplotlib, and scipy."
   ]
  },
  {
   "cell_type": "code",
   "execution_count": 1,
   "id": "c28cad55",
   "metadata": {
    "ExecuteTime": {
     "end_time": "2023-03-14T20:30:32.169107Z",
     "start_time": "2023-03-14T20:30:29.497780Z"
    },
    "execution": {
     "iopub.execute_input": "2023-05-01T22:16:34.123818Z",
     "iopub.status.busy": "2023-05-01T22:16:34.123484Z",
     "iopub.status.idle": "2023-05-01T22:16:35.827946Z",
     "shell.execute_reply": "2023-05-01T22:16:35.827237Z",
     "shell.execute_reply.started": "2023-05-01T22:16:34.123676Z"
    }
   },
   "outputs": [],
   "source": [
    "# Import libraries\n",
    "import pandas as pd\n",
    "import numpy as np\n",
    "import os\n",
    "import matplotlib.pyplot as plt\n",
    "import seaborn as sns\n",
    "import scipy"
   ]
  },
  {
   "cell_type": "code",
   "execution_count": 2,
   "id": "82c2be48",
   "metadata": {
    "ExecuteTime": {
     "end_time": "2023-03-14T20:30:32.174332Z",
     "start_time": "2023-03-14T20:30:32.171587Z"
    },
    "execution": {
     "iopub.execute_input": "2023-05-01T22:16:35.829895Z",
     "iopub.status.busy": "2023-05-01T22:16:35.829680Z",
     "iopub.status.idle": "2023-05-01T22:16:35.834194Z",
     "shell.execute_reply": "2023-05-01T22:16:35.833336Z",
     "shell.execute_reply.started": "2023-05-01T22:16:35.829872Z"
    }
   },
   "outputs": [],
   "source": [
    "# Starting with Exercise 4.7, import additional libraries I've discovered thanks to Lubov, especially the time library.\n",
    "import time\n",
    "import string\n",
    "import random"
   ]
  },
  {
   "cell_type": "code",
   "execution_count": 3,
   "id": "1a9ae03c",
   "metadata": {
    "ExecuteTime": {
     "end_time": "2023-03-14T20:30:32.179538Z",
     "start_time": "2023-03-14T20:30:32.176059Z"
    },
    "execution": {
     "iopub.execute_input": "2023-05-01T22:16:35.836027Z",
     "iopub.status.busy": "2023-05-01T22:16:35.835349Z",
     "iopub.status.idle": "2023-05-01T22:16:35.839995Z",
     "shell.execute_reply": "2023-05-01T22:16:35.839302Z",
     "shell.execute_reply.started": "2023-05-01T22:16:35.835988Z"
    }
   },
   "outputs": [],
   "source": [
    "# Set a PATH variable."
   ]
  },
  {
   "cell_type": "code",
   "execution_count": 4,
   "id": "14835c38",
   "metadata": {
    "ExecuteTime": {
     "end_time": "2023-03-14T20:30:32.185277Z",
     "start_time": "2023-03-14T20:30:32.181685Z"
    },
    "execution": {
     "iopub.execute_input": "2023-05-01T22:16:35.841474Z",
     "iopub.status.busy": "2023-05-01T22:16:35.841099Z",
     "iopub.status.idle": "2023-05-01T22:16:35.846249Z",
     "shell.execute_reply": "2023-05-01T22:16:35.845440Z",
     "shell.execute_reply.started": "2023-05-01T22:16:35.841449Z"
    }
   },
   "outputs": [],
   "source": [
    "# Linux PATH - Sadly, my Linux system with 8GB of total RAM could not import the new df_ords_prior DataFrame.\n",
    "# BUT, now I have moved again, to an AWS EC2 instance that should be able to handle this."
   ]
  },
  {
   "cell_type": "code",
   "execution_count": 5,
   "id": "b341b24d",
   "metadata": {
    "ExecuteTime": {
     "end_time": "2023-03-14T20:30:32.190241Z",
     "start_time": "2023-03-14T20:30:32.187300Z"
    },
    "execution": {
     "iopub.execute_input": "2023-05-01T22:16:35.847502Z",
     "iopub.status.busy": "2023-05-01T22:16:35.847293Z",
     "iopub.status.idle": "2023-05-01T22:16:35.853288Z",
     "shell.execute_reply": "2023-05-01T22:16:35.852239Z",
     "shell.execute_reply.started": "2023-05-01T22:16:35.847479Z"
    }
   },
   "outputs": [],
   "source": [
    "## path = (r'~/careerfoundry/tasks/data-immersion/Achievement4/Instacart-Basket-Analysis')"
   ]
  },
  {
   "cell_type": "markdown",
   "id": "cee315ae",
   "metadata": {},
   "source": [
    "### # Oh, wow, matplotlib.pyplot.savefig function does not expand the tilde (~) reference in directory paths.  LAME. :("
   ]
  },
  {
   "cell_type": "code",
   "execution_count": 6,
   "id": "1bb68571",
   "metadata": {
    "ExecuteTime": {
     "end_time": "2023-03-14T20:30:32.195161Z",
     "start_time": "2023-03-14T20:30:32.191980Z"
    },
    "execution": {
     "iopub.execute_input": "2023-05-01T22:16:35.855085Z",
     "iopub.status.busy": "2023-05-01T22:16:35.854845Z",
     "iopub.status.idle": "2023-05-01T22:16:35.859683Z",
     "shell.execute_reply": "2023-05-01T22:16:35.858780Z",
     "shell.execute_reply.started": "2023-05-01T22:16:35.855062Z"
    }
   },
   "outputs": [],
   "source": [
    "path = (r'/home/ubuntu/careerfoundry/tasks/data-immersion/Achievement4/Instacart-Basket-Analysis')"
   ]
  },
  {
   "cell_type": "code",
   "execution_count": 7,
   "id": "1f4e62b8",
   "metadata": {
    "ExecuteTime": {
     "end_time": "2023-03-14T20:30:32.199887Z",
     "start_time": "2023-03-14T20:30:32.197124Z"
    },
    "execution": {
     "iopub.execute_input": "2023-05-01T22:16:35.861796Z",
     "iopub.status.busy": "2023-05-01T22:16:35.861139Z",
     "iopub.status.idle": "2023-05-01T22:16:35.866003Z",
     "shell.execute_reply": "2023-05-01T22:16:35.865106Z",
     "shell.execute_reply.started": "2023-05-01T22:16:35.861757Z"
    }
   },
   "outputs": [],
   "source": [
    "# windoze PATH - The windoze laptop I bought for Excel and Tableau also has 16GB of RAM, so I migrated there."
   ]
  },
  {
   "cell_type": "code",
   "execution_count": 8,
   "id": "f61d9b62",
   "metadata": {
    "ExecuteTime": {
     "end_time": "2023-03-14T20:30:32.204537Z",
     "start_time": "2023-03-14T20:30:32.201543Z"
    },
    "execution": {
     "iopub.execute_input": "2023-05-01T22:16:35.870004Z",
     "iopub.status.busy": "2023-05-01T22:16:35.869532Z",
     "iopub.status.idle": "2023-05-01T22:16:35.873157Z",
     "shell.execute_reply": "2023-05-01T22:16:35.872317Z",
     "shell.execute_reply.started": "2023-05-01T22:16:35.869975Z"
    }
   },
   "outputs": [],
   "source": [
    "## path = (r'C:\\Users\\emccc\\OneDrive\\Documents\\CareerFoundry\\Achievement-4\\Instacart-Basket-Analysis')"
   ]
  },
  {
   "cell_type": "markdown",
   "id": "f68e70e8",
   "metadata": {},
   "source": [
    "## Step 1:   Create a new notebook, import the necessary analysis and visualization libraries, then import your most up-to-date project data (i.e., the data set with your new customer data from the first part of this task)."
   ]
  },
  {
   "cell_type": "code",
   "execution_count": 9,
   "id": "6b5a3964",
   "metadata": {
    "ExecuteTime": {
     "end_time": "2023-03-14T20:30:32.209442Z",
     "start_time": "2023-03-14T20:30:32.206322Z"
    },
    "execution": {
     "iopub.execute_input": "2023-05-01T22:16:35.874775Z",
     "iopub.status.busy": "2023-05-01T22:16:35.874084Z",
     "iopub.status.idle": "2023-05-01T22:16:35.883689Z",
     "shell.execute_reply": "2023-05-01T22:16:35.882564Z",
     "shell.execute_reply.started": "2023-05-01T22:16:35.874735Z"
    }
   },
   "outputs": [],
   "source": [
    "# Standard library import and path set up, above.  Now to import the latest version of our data set,\n",
    "# containing customer, order, and product data."
   ]
  },
  {
   "cell_type": "code",
   "execution_count": 10,
   "id": "f38b03a3",
   "metadata": {
    "ExecuteTime": {
     "end_time": "2023-03-14T20:31:36.255576Z",
     "start_time": "2023-03-14T20:30:32.212729Z"
    },
    "execution": {
     "iopub.execute_input": "2023-05-01T22:16:35.885393Z",
     "iopub.status.busy": "2023-05-01T22:16:35.884945Z",
     "iopub.status.idle": "2023-05-01T22:16:55.344136Z",
     "shell.execute_reply": "2023-05-01T22:16:55.343448Z",
     "shell.execute_reply.started": "2023-05-01T22:16:35.885341Z"
    }
   },
   "outputs": [],
   "source": [
    "cust_ords_prods_merge = pd.read_pickle(os.path.join(path, '02-Data','Prepared-Data', 'cust_ords_prods_merge.pkl'))"
   ]
  },
  {
   "cell_type": "code",
   "execution_count": 11,
   "id": "5bbf3dec",
   "metadata": {
    "ExecuteTime": {
     "end_time": "2023-03-14T20:31:36.263543Z",
     "start_time": "2023-03-14T20:31:36.257578Z"
    },
    "execution": {
     "iopub.execute_input": "2023-05-01T22:16:55.345700Z",
     "iopub.status.busy": "2023-05-01T22:16:55.345082Z",
     "iopub.status.idle": "2023-05-01T22:16:55.353561Z",
     "shell.execute_reply": "2023-05-01T22:16:55.352618Z",
     "shell.execute_reply.started": "2023-05-01T22:16:55.345675Z"
    }
   },
   "outputs": [
    {
     "data": {
      "text/plain": [
       "(32404859, 35)"
      ]
     },
     "execution_count": 11,
     "metadata": {},
     "output_type": "execute_result"
    }
   ],
   "source": [
    "cust_ords_prods_merge.shape"
   ]
  },
  {
   "cell_type": "code",
   "execution_count": 12,
   "id": "daee9cb6",
   "metadata": {
    "ExecuteTime": {
     "end_time": "2023-03-14T20:31:36.268463Z",
     "start_time": "2023-03-14T20:31:36.265208Z"
    },
    "execution": {
     "iopub.execute_input": "2023-05-01T22:16:55.354713Z",
     "iopub.status.busy": "2023-05-01T22:16:55.354509Z",
     "iopub.status.idle": "2023-05-01T22:16:55.358881Z",
     "shell.execute_reply": "2023-05-01T22:16:55.358213Z",
     "shell.execute_reply.started": "2023-05-01T22:16:55.354690Z"
    }
   },
   "outputs": [],
   "source": [
    "# Adding \"memory_usage = 'deep'\" takes more time and gives a much larger estimate of RAM usage:  34.2GB vs. 8GB.\n",
    "# We'll see whether the larger number is truly accurate, but I know it's at least about double the 8GB estimate."
   ]
  },
  {
   "cell_type": "code",
   "execution_count": 13,
   "id": "73e9c3da",
   "metadata": {
    "ExecuteTime": {
     "end_time": "2023-03-14T20:32:23.423069Z",
     "start_time": "2023-03-14T20:31:36.271220Z"
    },
    "execution": {
     "iopub.execute_input": "2023-05-01T22:16:55.360857Z",
     "iopub.status.busy": "2023-05-01T22:16:55.359938Z",
     "iopub.status.idle": "2023-05-01T22:17:54.441122Z",
     "shell.execute_reply": "2023-05-01T22:17:54.440179Z",
     "shell.execute_reply.started": "2023-05-01T22:16:55.360828Z"
    }
   },
   "outputs": [
    {
     "name": "stdout",
     "output_type": "stream",
     "text": [
      "<class 'pandas.core.frame.DataFrame'>\n",
      "Int64Index: 32404859 entries, 0 to 32404858\n",
      "Data columns (total 35 columns):\n",
      " #   Column                  Dtype   \n",
      "---  ------                  -----   \n",
      " 0   Unnamed: 0              int64   \n",
      " 1   product_id              int64   \n",
      " 2   product_name            object  \n",
      " 3   aisle_id                int64   \n",
      " 4   department_id           int64   \n",
      " 5   prices                  float64 \n",
      " 6   order_id                int64   \n",
      " 7   customer_id             int64   \n",
      " 8   order_number            int64   \n",
      " 9   orders_day_of_week      int64   \n",
      " 10  order_hour_of_day       int64   \n",
      " 11  days_since_prior_order  float64 \n",
      " 12  add_to_cart_order       int64   \n",
      " 13  reordered               int64   \n",
      " 14  _merge                  category\n",
      " 15  _merge2                 category\n",
      " 16  price_range             object  \n",
      " 17  price_range_loc         object  \n",
      " 18  busiest_days            object  \n",
      " 19  busiest_hours           object  \n",
      " 20  max_order               int64   \n",
      " 21  loyalty_flag            object  \n",
      " 22  avg_order               float64 \n",
      " 23  spending_flag           object  \n",
      " 24  avg_order_frequency     float64 \n",
      " 25  frequency_flag          object  \n",
      " 26  given_name              object  \n",
      " 27  family_name             object  \n",
      " 28  gender                  object  \n",
      " 29  state                   object  \n",
      " 30  age                     int64   \n",
      " 31  date_joined             object  \n",
      " 32  num_dependents          int64   \n",
      " 33  fam_status              object  \n",
      " 34  income                  int64   \n",
      "dtypes: category(2), float64(4), int64(15), object(14)\n",
      "memory usage: 34.2 GB\n"
     ]
    }
   ],
   "source": [
    "cust_ords_prods_merge.info(memory_usage = 'deep')"
   ]
  },
  {
   "cell_type": "code",
   "execution_count": 14,
   "id": "93959ee2",
   "metadata": {
    "ExecuteTime": {
     "end_time": "2023-03-14T20:32:23.447309Z",
     "start_time": "2023-03-14T20:32:23.424854Z"
    },
    "execution": {
     "iopub.execute_input": "2023-05-01T22:17:54.443394Z",
     "iopub.status.busy": "2023-05-01T22:17:54.442658Z",
     "iopub.status.idle": "2023-05-01T22:17:54.474412Z",
     "shell.execute_reply": "2023-05-01T22:17:54.473677Z",
     "shell.execute_reply.started": "2023-05-01T22:17:54.443352Z"
    }
   },
   "outputs": [
    {
     "data": {
      "text/html": [
       "<div>\n",
       "<style scoped>\n",
       "    .dataframe tbody tr th:only-of-type {\n",
       "        vertical-align: middle;\n",
       "    }\n",
       "\n",
       "    .dataframe tbody tr th {\n",
       "        vertical-align: top;\n",
       "    }\n",
       "\n",
       "    .dataframe thead th {\n",
       "        text-align: right;\n",
       "    }\n",
       "</style>\n",
       "<table border=\"1\" class=\"dataframe\">\n",
       "  <thead>\n",
       "    <tr style=\"text-align: right;\">\n",
       "      <th></th>\n",
       "      <th>Unnamed: 0</th>\n",
       "      <th>product_id</th>\n",
       "      <th>product_name</th>\n",
       "      <th>aisle_id</th>\n",
       "      <th>department_id</th>\n",
       "      <th>prices</th>\n",
       "      <th>order_id</th>\n",
       "      <th>customer_id</th>\n",
       "      <th>order_number</th>\n",
       "      <th>orders_day_of_week</th>\n",
       "      <th>...</th>\n",
       "      <th>frequency_flag</th>\n",
       "      <th>given_name</th>\n",
       "      <th>family_name</th>\n",
       "      <th>gender</th>\n",
       "      <th>state</th>\n",
       "      <th>age</th>\n",
       "      <th>date_joined</th>\n",
       "      <th>num_dependents</th>\n",
       "      <th>fam_status</th>\n",
       "      <th>income</th>\n",
       "    </tr>\n",
       "  </thead>\n",
       "  <tbody>\n",
       "    <tr>\n",
       "      <th>0</th>\n",
       "      <td>0</td>\n",
       "      <td>1</td>\n",
       "      <td>Chocolate Sandwich Cookies</td>\n",
       "      <td>61</td>\n",
       "      <td>19</td>\n",
       "      <td>5.8</td>\n",
       "      <td>3139998</td>\n",
       "      <td>138</td>\n",
       "      <td>28</td>\n",
       "      <td>6</td>\n",
       "      <td>...</td>\n",
       "      <td>Frequent customer</td>\n",
       "      <td>Charles</td>\n",
       "      <td>Cox</td>\n",
       "      <td>Male</td>\n",
       "      <td>Minnesota</td>\n",
       "      <td>81</td>\n",
       "      <td>8/1/2019</td>\n",
       "      <td>1</td>\n",
       "      <td>married</td>\n",
       "      <td>49620</td>\n",
       "    </tr>\n",
       "    <tr>\n",
       "      <th>1</th>\n",
       "      <td>0</td>\n",
       "      <td>1</td>\n",
       "      <td>Chocolate Sandwich Cookies</td>\n",
       "      <td>61</td>\n",
       "      <td>19</td>\n",
       "      <td>5.8</td>\n",
       "      <td>1977647</td>\n",
       "      <td>138</td>\n",
       "      <td>30</td>\n",
       "      <td>6</td>\n",
       "      <td>...</td>\n",
       "      <td>Frequent customer</td>\n",
       "      <td>Charles</td>\n",
       "      <td>Cox</td>\n",
       "      <td>Male</td>\n",
       "      <td>Minnesota</td>\n",
       "      <td>81</td>\n",
       "      <td>8/1/2019</td>\n",
       "      <td>1</td>\n",
       "      <td>married</td>\n",
       "      <td>49620</td>\n",
       "    </tr>\n",
       "    <tr>\n",
       "      <th>2</th>\n",
       "      <td>907</td>\n",
       "      <td>907</td>\n",
       "      <td>Premium Sliced Bacon</td>\n",
       "      <td>106</td>\n",
       "      <td>12</td>\n",
       "      <td>20.0</td>\n",
       "      <td>3160996</td>\n",
       "      <td>138</td>\n",
       "      <td>1</td>\n",
       "      <td>5</td>\n",
       "      <td>...</td>\n",
       "      <td>Frequent customer</td>\n",
       "      <td>Charles</td>\n",
       "      <td>Cox</td>\n",
       "      <td>Male</td>\n",
       "      <td>Minnesota</td>\n",
       "      <td>81</td>\n",
       "      <td>8/1/2019</td>\n",
       "      <td>1</td>\n",
       "      <td>married</td>\n",
       "      <td>49620</td>\n",
       "    </tr>\n",
       "    <tr>\n",
       "      <th>3</th>\n",
       "      <td>907</td>\n",
       "      <td>907</td>\n",
       "      <td>Premium Sliced Bacon</td>\n",
       "      <td>106</td>\n",
       "      <td>12</td>\n",
       "      <td>20.0</td>\n",
       "      <td>2254091</td>\n",
       "      <td>138</td>\n",
       "      <td>10</td>\n",
       "      <td>5</td>\n",
       "      <td>...</td>\n",
       "      <td>Frequent customer</td>\n",
       "      <td>Charles</td>\n",
       "      <td>Cox</td>\n",
       "      <td>Male</td>\n",
       "      <td>Minnesota</td>\n",
       "      <td>81</td>\n",
       "      <td>8/1/2019</td>\n",
       "      <td>1</td>\n",
       "      <td>married</td>\n",
       "      <td>49620</td>\n",
       "    </tr>\n",
       "    <tr>\n",
       "      <th>4</th>\n",
       "      <td>1000</td>\n",
       "      <td>1000</td>\n",
       "      <td>Apricots</td>\n",
       "      <td>18</td>\n",
       "      <td>10</td>\n",
       "      <td>12.9</td>\n",
       "      <td>505689</td>\n",
       "      <td>138</td>\n",
       "      <td>9</td>\n",
       "      <td>6</td>\n",
       "      <td>...</td>\n",
       "      <td>Frequent customer</td>\n",
       "      <td>Charles</td>\n",
       "      <td>Cox</td>\n",
       "      <td>Male</td>\n",
       "      <td>Minnesota</td>\n",
       "      <td>81</td>\n",
       "      <td>8/1/2019</td>\n",
       "      <td>1</td>\n",
       "      <td>married</td>\n",
       "      <td>49620</td>\n",
       "    </tr>\n",
       "  </tbody>\n",
       "</table>\n",
       "<p>5 rows × 35 columns</p>\n",
       "</div>"
      ],
      "text/plain": [
       "   Unnamed: 0  product_id                product_name  aisle_id  \\\n",
       "0           0           1  Chocolate Sandwich Cookies        61   \n",
       "1           0           1  Chocolate Sandwich Cookies        61   \n",
       "2         907         907        Premium Sliced Bacon       106   \n",
       "3         907         907        Premium Sliced Bacon       106   \n",
       "4        1000        1000                    Apricots        18   \n",
       "\n",
       "   department_id  prices  order_id  customer_id  order_number  \\\n",
       "0             19     5.8   3139998          138            28   \n",
       "1             19     5.8   1977647          138            30   \n",
       "2             12    20.0   3160996          138             1   \n",
       "3             12    20.0   2254091          138            10   \n",
       "4             10    12.9    505689          138             9   \n",
       "\n",
       "   orders_day_of_week  ...     frequency_flag  given_name  family_name  \\\n",
       "0                   6  ...  Frequent customer     Charles          Cox   \n",
       "1                   6  ...  Frequent customer     Charles          Cox   \n",
       "2                   5  ...  Frequent customer     Charles          Cox   \n",
       "3                   5  ...  Frequent customer     Charles          Cox   \n",
       "4                   6  ...  Frequent customer     Charles          Cox   \n",
       "\n",
       "   gender      state age date_joined num_dependents fam_status income  \n",
       "0    Male  Minnesota  81    8/1/2019              1    married  49620  \n",
       "1    Male  Minnesota  81    8/1/2019              1    married  49620  \n",
       "2    Male  Minnesota  81    8/1/2019              1    married  49620  \n",
       "3    Male  Minnesota  81    8/1/2019              1    married  49620  \n",
       "4    Male  Minnesota  81    8/1/2019              1    married  49620  \n",
       "\n",
       "[5 rows x 35 columns]"
      ]
     },
     "execution_count": 14,
     "metadata": {},
     "output_type": "execute_result"
    }
   ],
   "source": [
    "cust_ords_prods_merge.head()"
   ]
  },
  {
   "cell_type": "markdown",
   "id": "d78d9a13",
   "metadata": {},
   "source": [
    "## Step 2:  If you haven’t done so already, follow the instructions in the Exercise to create a bar chart, a histogram, a scatterplot, and a line chart, using a sample subset for the line chart."
   ]
  },
  {
   "cell_type": "code",
   "execution_count": 15,
   "id": "3b9f1eda",
   "metadata": {
    "ExecuteTime": {
     "end_time": "2023-03-14T20:32:23.819508Z",
     "start_time": "2023-03-14T20:32:23.449105Z"
    },
    "execution": {
     "iopub.execute_input": "2023-05-01T22:17:54.475994Z",
     "iopub.status.busy": "2023-05-01T22:17:54.475619Z",
     "iopub.status.idle": "2023-05-01T22:17:54.848484Z",
     "shell.execute_reply": "2023-05-01T22:17:54.847784Z",
     "shell.execute_reply.started": "2023-05-01T22:17:54.475963Z"
    }
   },
   "outputs": [
    {
     "data": {
      "image/png": "[encoded data removed]",
      "text/plain": [
       "<Figure size 432x288 with 1 Axes>"
      ]
     },
     "metadata": {
      "needs_background": "light"
     },
     "output_type": "display_data"
    }
   ],
   "source": [
    "bar_all = cust_ords_prods_merge['orders_day_of_week'].value_counts().sort_index().plot.bar()"
   ]
  },
  {
   "cell_type": "code",
   "execution_count": 16,
   "id": "7b64c5b9",
   "metadata": {
    "ExecuteTime": {
     "end_time": "2023-03-14T20:32:23.859742Z",
     "start_time": "2023-03-14T20:32:23.821684Z"
    },
    "execution": {
     "iopub.execute_input": "2023-05-01T22:17:54.850204Z",
     "iopub.status.busy": "2023-05-01T22:17:54.849553Z",
     "iopub.status.idle": "2023-05-01T22:17:54.890736Z",
     "shell.execute_reply": "2023-05-01T22:17:54.890161Z",
     "shell.execute_reply.started": "2023-05-01T22:17:54.850175Z"
    }
   },
   "outputs": [],
   "source": [
    "bar_all.figure.savefig(os.path.join(path, '04-Analysis','Visualizations', 'bar_all_orders_dow.png'))"
   ]
  },
  {
   "cell_type": "code",
   "execution_count": 21,
   "id": "149594ab",
   "metadata": {
    "ExecuteTime": {
     "end_time": "2023-03-14T20:32:26.917633Z",
     "start_time": "2023-03-14T20:32:23.861775Z"
    },
    "execution": {
     "iopub.execute_input": "2023-05-02T01:45:32.592373Z",
     "iopub.status.busy": "2023-05-02T01:45:32.592016Z",
     "iopub.status.idle": "2023-05-02T01:45:35.468549Z",
     "shell.execute_reply": "2023-05-02T01:45:35.468024Z",
     "shell.execute_reply.started": "2023-05-02T01:45:32.592335Z"
    },
    "tags": []
   },
   "outputs": [
    {
     "data": {
      "text/plain": [
       "Text(0, 0.5, 'Order Frequency')"
      ]
     },
     "execution_count": 21,
     "metadata": {},
     "output_type": "execute_result"
    },
    {
     "data": {
      "image/png": "[encoded data removed]",
      "text/plain": [
       "<Figure size 432x288 with 1 Axes>"
      ]
     },
     "metadata": {
      "needs_background": "light"
     },
     "output_type": "display_data"
    }
   ],
   "source": [
    "histogram_all = cust_ords_prods_merge['prices'].plot.hist(bins = 70)\n",
    "plt.title('Prices of Purchases Over All Orders', fontsize = 18, pad=20)\n",
    "plt.xlabel('Price')\n",
    "plt.ylabel('Order Frequency')"
   ]
  },
  {
   "cell_type": "code",
   "execution_count": 22,
   "id": "5ce2749a",
   "metadata": {
    "ExecuteTime": {
     "end_time": "2023-03-14T20:32:26.977363Z",
     "start_time": "2023-03-14T20:32:26.919524Z"
    },
    "execution": {
     "iopub.execute_input": "2023-05-02T01:45:46.367452Z",
     "iopub.status.busy": "2023-05-02T01:45:46.367200Z",
     "iopub.status.idle": "2023-05-02T01:45:46.441037Z",
     "shell.execute_reply": "2023-05-02T01:45:46.440195Z",
     "shell.execute_reply.started": "2023-05-02T01:45:46.367427Z"
    },
    "tags": []
   },
   "outputs": [],
   "source": [
    "histogram_all.figure.savefig(os.path.join(path, '04-Analysis','Visualizations', 'histogram_all_prices.png'), facecolor='white')"
   ]
  },
  {
   "cell_type": "code",
   "execution_count": 20,
   "id": "d73c3551",
   "metadata": {
    "ExecuteTime": {
     "end_time": "2023-03-14T20:33:27.546845Z",
     "start_time": "2023-03-14T20:32:26.979778Z"
    },
    "execution": {
     "iopub.execute_input": "2023-05-01T22:17:58.048095Z",
     "iopub.status.busy": "2023-05-01T22:17:58.047843Z",
     "iopub.status.idle": "2023-05-01T22:19:24.204643Z",
     "shell.execute_reply": "2023-05-01T22:19:24.203702Z",
     "shell.execute_reply.started": "2023-05-01T22:17:58.048071Z"
    },
    "tags": []
   },
   "outputs": [
    {
     "data": {
      "image/png": "[encoded data removed]",
      "text/plain": [
       "<Figure size 432x288 with 1 Axes>"
      ]
     },
     "metadata": {
      "needs_background": "light"
     },
     "output_type": "display_data"
    }
   ],
   "source": [
    "scatterplot_all = sns.scatterplot(x = 'prices', y = 'prices',data = cust_ords_prods_merge)"
   ]
  },
  {
   "cell_type": "code",
   "execution_count": 20,
   "id": "ffe46374",
   "metadata": {
    "ExecuteTime": {
     "end_time": "2023-03-14T20:34:23.822757Z",
     "start_time": "2023-03-14T20:33:27.548675Z"
    },
    "execution": {
     "iopub.execute_input": "2023-05-01T19:30:09.673614Z",
     "iopub.status.busy": "2023-05-01T19:30:09.673230Z",
     "iopub.status.idle": "2023-05-01T19:31:32.902728Z",
     "shell.execute_reply": "2023-05-01T19:31:32.901939Z",
     "shell.execute_reply.started": "2023-05-01T19:30:09.673590Z"
    }
   },
   "outputs": [],
   "source": [
    "scatterplot_all.figure.savefig(os.path.join(path, '04-Analysis','Visualizations', 'scatterplot_all_prices.png'))"
   ]
  },
  {
   "cell_type": "code",
   "execution_count": 21,
   "id": "65152ec9",
   "metadata": {
    "ExecuteTime": {
     "end_time": "2023-03-14T20:34:23.827663Z",
     "start_time": "2023-03-14T20:34:23.824801Z"
    },
    "execution": {
     "iopub.execute_input": "2023-05-01T19:31:32.904002Z",
     "iopub.status.busy": "2023-05-01T19:31:32.903810Z",
     "iopub.status.idle": "2023-05-01T19:31:32.907341Z",
     "shell.execute_reply": "2023-05-01T19:31:32.906634Z",
     "shell.execute_reply.started": "2023-05-01T19:31:32.903980Z"
    }
   },
   "outputs": [],
   "source": [
    "# For the line charfts, I'll start with a 70/30 split for sampling.\n",
    "# I'll use '4' for my random seed, as in the Exercise; perhaps it is a popular number to choose?\n",
    "# \n",
    "# First, we use a seed of 4 for supposed reproducibility.\n",
    "# Then, we will produce a list of randomized values between 0 and 1, for\n",
    "# which the value is True if it is less than or equal to 0.7 and False if\n",
    "# it is not.  This gives us a distribution of 70% True and 30% False.\n",
    "# The list contains the same number of values as our DataFrame has rows."
   ]
  },
  {
   "cell_type": "code",
   "execution_count": 22,
   "id": "11fc3d77",
   "metadata": {
    "ExecuteTime": {
     "end_time": "2023-03-14T20:34:24.231303Z",
     "start_time": "2023-03-14T20:34:23.829440Z"
    },
    "execution": {
     "iopub.execute_input": "2023-05-01T19:31:32.908911Z",
     "iopub.status.busy": "2023-05-01T19:31:32.908344Z",
     "iopub.status.idle": "2023-05-01T19:31:33.239403Z",
     "shell.execute_reply": "2023-05-01T19:31:33.238662Z",
     "shell.execute_reply.started": "2023-05-01T19:31:32.908886Z"
    }
   },
   "outputs": [],
   "source": [
    "np.random.seed(4)\n",
    "dev = np.random.rand(len(cust_ords_prods_merge)) <= 0.7"
   ]
  },
  {
   "cell_type": "code",
   "execution_count": 23,
   "id": "921064f5",
   "metadata": {
    "ExecuteTime": {
     "end_time": "2023-03-14T20:34:24.237620Z",
     "start_time": "2023-03-14T20:34:24.233601Z"
    },
    "execution": {
     "iopub.execute_input": "2023-05-01T19:31:33.240437Z",
     "iopub.status.busy": "2023-05-01T19:31:33.240250Z",
     "iopub.status.idle": "2023-05-01T19:31:33.246738Z",
     "shell.execute_reply": "2023-05-01T19:31:33.245654Z",
     "shell.execute_reply.started": "2023-05-01T19:31:33.240416Z"
    }
   },
   "outputs": [
    {
     "data": {
      "text/plain": [
       "array([False,  True, False, ...,  True,  True,  True])"
      ]
     },
     "execution_count": 23,
     "metadata": {},
     "output_type": "execute_result"
    }
   ],
   "source": [
    "dev"
   ]
  },
  {
   "cell_type": "code",
   "execution_count": 24,
   "id": "ab08a4ec",
   "metadata": {
    "ExecuteTime": {
     "end_time": "2023-03-14T20:34:24.241988Z",
     "start_time": "2023-03-14T20:34:24.239408Z"
    },
    "execution": {
     "iopub.execute_input": "2023-05-01T19:31:33.249310Z",
     "iopub.status.busy": "2023-05-01T19:31:33.248180Z",
     "iopub.status.idle": "2023-05-01T19:31:33.252977Z",
     "shell.execute_reply": "2023-05-01T19:31:33.252371Z",
     "shell.execute_reply.started": "2023-05-01T19:31:33.249264Z"
    }
   },
   "outputs": [],
   "source": [
    "# Combine the list of randomized True/False values with our DataFrame,\n",
    "# storing 70% of the DataFrame (where the row is associated with 'True')\n",
    "# in a new DF called, 'big'..."
   ]
  },
  {
   "cell_type": "code",
   "execution_count": 25,
   "id": "4502f724",
   "metadata": {
    "ExecuteTime": {
     "end_time": "2023-03-14T20:34:43.752135Z",
     "start_time": "2023-03-14T20:34:24.244009Z"
    },
    "execution": {
     "iopub.execute_input": "2023-05-01T19:31:33.254384Z",
     "iopub.status.busy": "2023-05-01T19:31:33.253866Z",
     "iopub.status.idle": "2023-05-01T19:31:47.959393Z",
     "shell.execute_reply": "2023-05-01T19:31:47.958589Z",
     "shell.execute_reply.started": "2023-05-01T19:31:33.254356Z"
    }
   },
   "outputs": [],
   "source": [
    "big = cust_ords_prods_merge[dev]"
   ]
  },
  {
   "cell_type": "code",
   "execution_count": 26,
   "id": "c0ead2d3",
   "metadata": {
    "ExecuteTime": {
     "end_time": "2023-03-14T20:34:43.756885Z",
     "start_time": "2023-03-14T20:34:43.754253Z"
    },
    "execution": {
     "iopub.execute_input": "2023-05-01T19:31:47.960977Z",
     "iopub.status.busy": "2023-05-01T19:31:47.960437Z",
     "iopub.status.idle": "2023-05-01T19:31:47.964094Z",
     "shell.execute_reply": "2023-05-01T19:31:47.963391Z",
     "shell.execute_reply.started": "2023-05-01T19:31:47.960954Z"
    }
   },
   "outputs": [],
   "source": [
    "# ...while storing the remaining 30% of our DataFrame (the rows associated)\n",
    "# with 'False') in a new DF called, 'small'."
   ]
  },
  {
   "cell_type": "code",
   "execution_count": 27,
   "id": "43a836a8",
   "metadata": {
    "ExecuteTime": {
     "end_time": "2023-03-14T20:34:47.684924Z",
     "start_time": "2023-03-14T20:34:43.758474Z"
    },
    "execution": {
     "iopub.execute_input": "2023-05-01T19:31:47.965141Z",
     "iopub.status.busy": "2023-05-01T19:31:47.964939Z",
     "iopub.status.idle": "2023-05-01T19:31:50.444200Z",
     "shell.execute_reply": "2023-05-01T19:31:50.443472Z",
     "shell.execute_reply.started": "2023-05-01T19:31:47.965119Z"
    }
   },
   "outputs": [],
   "source": [
    "small = cust_ords_prods_merge[~dev]"
   ]
  },
  {
   "cell_type": "markdown",
   "id": "65c9b25f",
   "metadata": {},
   "source": [
    "## Remember how a tilde (~) is used to represent 'NOT', rather than a bang (!).  Hooray for Python.\n",
    "### I wonder if this has anything to do with the matplotlib.pyplot.savefig function not handling tildes in the file path as expected."
   ]
  },
  {
   "cell_type": "code",
   "execution_count": 28,
   "id": "d31c9ce9",
   "metadata": {
    "ExecuteTime": {
     "end_time": "2023-03-14T20:37:14.463026Z",
     "start_time": "2023-03-14T20:37:14.460118Z"
    },
    "execution": {
     "iopub.execute_input": "2023-05-01T19:31:50.450738Z",
     "iopub.status.busy": "2023-05-01T19:31:50.450135Z",
     "iopub.status.idle": "2023-05-01T19:31:50.453935Z",
     "shell.execute_reply": "2023-05-01T19:31:50.453147Z",
     "shell.execute_reply.started": "2023-05-01T19:31:50.450712Z"
    }
   },
   "outputs": [],
   "source": [
    "# Let's check out the new DataFrames."
   ]
  },
  {
   "cell_type": "code",
   "execution_count": 29,
   "id": "809a875e",
   "metadata": {
    "ExecuteTime": {
     "end_time": "2023-03-14T20:37:43.909796Z",
     "start_time": "2023-03-14T20:37:33.992858Z"
    },
    "execution": {
     "iopub.execute_input": "2023-05-01T19:31:50.455293Z",
     "iopub.status.busy": "2023-05-01T19:31:50.455083Z",
     "iopub.status.idle": "2023-05-01T19:31:59.379226Z",
     "shell.execute_reply": "2023-05-01T19:31:59.378465Z",
     "shell.execute_reply.started": "2023-05-01T19:31:50.455270Z"
    }
   },
   "outputs": [
    {
     "data": {
      "text/html": [
       "<div>\n",
       "<style scoped>\n",
       "    .dataframe tbody tr th:only-of-type {\n",
       "        vertical-align: middle;\n",
       "    }\n",
       "\n",
       "    .dataframe tbody tr th {\n",
       "        vertical-align: top;\n",
       "    }\n",
       "\n",
       "    .dataframe thead th {\n",
       "        text-align: right;\n",
       "    }\n",
       "</style>\n",
       "<table border=\"1\" class=\"dataframe\">\n",
       "  <thead>\n",
       "    <tr style=\"text-align: right;\">\n",
       "      <th></th>\n",
       "      <th>Unnamed: 0</th>\n",
       "      <th>product_id</th>\n",
       "      <th>aisle_id</th>\n",
       "      <th>department_id</th>\n",
       "      <th>prices</th>\n",
       "      <th>order_id</th>\n",
       "      <th>customer_id</th>\n",
       "      <th>order_number</th>\n",
       "      <th>orders_day_of_week</th>\n",
       "      <th>order_hour_of_day</th>\n",
       "      <th>days_since_prior_order</th>\n",
       "      <th>add_to_cart_order</th>\n",
       "      <th>reordered</th>\n",
       "      <th>max_order</th>\n",
       "      <th>avg_order</th>\n",
       "      <th>avg_order_frequency</th>\n",
       "      <th>age</th>\n",
       "      <th>num_dependents</th>\n",
       "      <th>income</th>\n",
       "    </tr>\n",
       "  </thead>\n",
       "  <tbody>\n",
       "    <tr>\n",
       "      <th>count</th>\n",
       "      <td>2.268376e+07</td>\n",
       "      <td>2.268376e+07</td>\n",
       "      <td>2.268376e+07</td>\n",
       "      <td>2.268376e+07</td>\n",
       "      <td>2.268018e+07</td>\n",
       "      <td>2.268376e+07</td>\n",
       "      <td>2.268376e+07</td>\n",
       "      <td>2.268376e+07</td>\n",
       "      <td>2.268376e+07</td>\n",
       "      <td>2.268376e+07</td>\n",
       "      <td>2.268376e+07</td>\n",
       "      <td>2.268376e+07</td>\n",
       "      <td>2.268376e+07</td>\n",
       "      <td>2.268376e+07</td>\n",
       "      <td>2.268376e+07</td>\n",
       "      <td>2.268376e+07</td>\n",
       "      <td>2.268376e+07</td>\n",
       "      <td>2.268376e+07</td>\n",
       "      <td>2.268376e+07</td>\n",
       "    </tr>\n",
       "    <tr>\n",
       "      <th>mean</th>\n",
       "      <td>2.560014e+04</td>\n",
       "      <td>2.559844e+04</td>\n",
       "      <td>7.120029e+01</td>\n",
       "      <td>9.921023e+00</td>\n",
       "      <td>7.790759e+00</td>\n",
       "      <td>1.710901e+06</td>\n",
       "      <td>1.029381e+05</td>\n",
       "      <td>1.714296e+01</td>\n",
       "      <td>2.739048e+00</td>\n",
       "      <td>1.342535e+01</td>\n",
       "      <td>1.039194e+01</td>\n",
       "      <td>8.352656e+00</td>\n",
       "      <td>5.896000e-01</td>\n",
       "      <td>3.305403e+01</td>\n",
       "      <td>1.197704e+01</td>\n",
       "      <td>1.039239e+01</td>\n",
       "      <td>4.946619e+01</td>\n",
       "      <td>1.501875e+00</td>\n",
       "      <td>9.943438e+04</td>\n",
       "    </tr>\n",
       "    <tr>\n",
       "      <th>std</th>\n",
       "      <td>1.408587e+04</td>\n",
       "      <td>1.408432e+04</td>\n",
       "      <td>3.821014e+01</td>\n",
       "      <td>6.281597e+00</td>\n",
       "      <td>4.241575e+00</td>\n",
       "      <td>9.872423e+05</td>\n",
       "      <td>5.946143e+04</td>\n",
       "      <td>1.753497e+01</td>\n",
       "      <td>2.090113e+00</td>\n",
       "      <td>4.247224e+00</td>\n",
       "      <td>8.917624e+00</td>\n",
       "      <td>7.127245e+00</td>\n",
       "      <td>4.919063e-01</td>\n",
       "      <td>2.515524e+01</td>\n",
       "      <td>8.352866e+01</td>\n",
       "      <td>5.023575e+00</td>\n",
       "      <td>1.848517e+01</td>\n",
       "      <td>1.118916e+00</td>\n",
       "      <td>4.304513e+04</td>\n",
       "    </tr>\n",
       "    <tr>\n",
       "      <th>min</th>\n",
       "      <td>0.000000e+00</td>\n",
       "      <td>1.000000e+00</td>\n",
       "      <td>1.000000e+00</td>\n",
       "      <td>1.000000e+00</td>\n",
       "      <td>1.000000e+00</td>\n",
       "      <td>2.000000e+00</td>\n",
       "      <td>1.000000e+00</td>\n",
       "      <td>1.000000e+00</td>\n",
       "      <td>0.000000e+00</td>\n",
       "      <td>0.000000e+00</td>\n",
       "      <td>0.000000e+00</td>\n",
       "      <td>1.000000e+00</td>\n",
       "      <td>0.000000e+00</td>\n",
       "      <td>1.000000e+00</td>\n",
       "      <td>1.000000e+00</td>\n",
       "      <td>0.000000e+00</td>\n",
       "      <td>1.800000e+01</td>\n",
       "      <td>0.000000e+00</td>\n",
       "      <td>2.590300e+04</td>\n",
       "    </tr>\n",
       "    <tr>\n",
       "      <th>25%</th>\n",
       "      <td>1.354200e+04</td>\n",
       "      <td>1.354200e+04</td>\n",
       "      <td>3.100000e+01</td>\n",
       "      <td>4.000000e+00</td>\n",
       "      <td>4.200000e+00</td>\n",
       "      <td>8.561000e+05</td>\n",
       "      <td>5.143500e+04</td>\n",
       "      <td>5.000000e+00</td>\n",
       "      <td>1.000000e+00</td>\n",
       "      <td>1.000000e+01</td>\n",
       "      <td>4.000000e+00</td>\n",
       "      <td>3.000000e+00</td>\n",
       "      <td>0.000000e+00</td>\n",
       "      <td>1.300000e+01</td>\n",
       "      <td>7.387500e+00</td>\n",
       "      <td>6.585009e+00</td>\n",
       "      <td>3.300000e+01</td>\n",
       "      <td>1.000000e+00</td>\n",
       "      <td>6.700800e+04</td>\n",
       "    </tr>\n",
       "    <tr>\n",
       "      <th>50%</th>\n",
       "      <td>2.530100e+04</td>\n",
       "      <td>2.530000e+04</td>\n",
       "      <td>8.300000e+01</td>\n",
       "      <td>9.000000e+00</td>\n",
       "      <td>7.400000e+00</td>\n",
       "      <td>1.711197e+06</td>\n",
       "      <td>1.026190e+05</td>\n",
       "      <td>1.100000e+01</td>\n",
       "      <td>3.000000e+00</td>\n",
       "      <td>1.300000e+01</td>\n",
       "      <td>7.000000e+00</td>\n",
       "      <td>6.000000e+00</td>\n",
       "      <td>1.000000e+00</td>\n",
       "      <td>2.600000e+01</td>\n",
       "      <td>7.824806e+00</td>\n",
       "      <td>9.350515e+00</td>\n",
       "      <td>4.900000e+01</td>\n",
       "      <td>2.000000e+00</td>\n",
       "      <td>9.660800e+04</td>\n",
       "    </tr>\n",
       "    <tr>\n",
       "      <th>75%</th>\n",
       "      <td>3.795100e+04</td>\n",
       "      <td>3.794700e+04</td>\n",
       "      <td>1.070000e+02</td>\n",
       "      <td>1.600000e+01</td>\n",
       "      <td>1.130000e+01</td>\n",
       "      <td>2.565522e+06</td>\n",
       "      <td>1.543870e+05</td>\n",
       "      <td>2.400000e+01</td>\n",
       "      <td>5.000000e+00</td>\n",
       "      <td>1.600000e+01</td>\n",
       "      <td>1.400000e+01</td>\n",
       "      <td>1.100000e+01</td>\n",
       "      <td>1.000000e+00</td>\n",
       "      <td>4.700000e+01</td>\n",
       "      <td>8.254241e+00</td>\n",
       "      <td>1.359375e+01</td>\n",
       "      <td>6.500000e+01</td>\n",
       "      <td>3.000000e+00</td>\n",
       "      <td>1.279020e+05</td>\n",
       "    </tr>\n",
       "    <tr>\n",
       "      <th>max</th>\n",
       "      <td>4.969200e+04</td>\n",
       "      <td>4.968800e+04</td>\n",
       "      <td>1.340000e+02</td>\n",
       "      <td>2.100000e+01</td>\n",
       "      <td>2.500000e+01</td>\n",
       "      <td>3.421083e+06</td>\n",
       "      <td>2.062090e+05</td>\n",
       "      <td>9.900000e+01</td>\n",
       "      <td>6.000000e+00</td>\n",
       "      <td>2.300000e+01</td>\n",
       "      <td>3.000000e+01</td>\n",
       "      <td>1.450000e+02</td>\n",
       "      <td>1.000000e+00</td>\n",
       "      <td>9.900000e+01</td>\n",
       "      <td>2.500542e+04</td>\n",
       "      <td>2.970297e+01</td>\n",
       "      <td>8.100000e+01</td>\n",
       "      <td>3.000000e+00</td>\n",
       "      <td>5.939010e+05</td>\n",
       "    </tr>\n",
       "  </tbody>\n",
       "</table>\n",
       "</div>"
      ],
      "text/plain": [
       "         Unnamed: 0    product_id      aisle_id  department_id        prices  \\\n",
       "count  2.268376e+07  2.268376e+07  2.268376e+07   2.268376e+07  2.268018e+07   \n",
       "mean   2.560014e+04  2.559844e+04  7.120029e+01   9.921023e+00  7.790759e+00   \n",
       "std    1.408587e+04  1.408432e+04  3.821014e+01   6.281597e+00  4.241575e+00   \n",
       "min    0.000000e+00  1.000000e+00  1.000000e+00   1.000000e+00  1.000000e+00   \n",
       "25%    1.354200e+04  1.354200e+04  3.100000e+01   4.000000e+00  4.200000e+00   \n",
       "50%    2.530100e+04  2.530000e+04  8.300000e+01   9.000000e+00  7.400000e+00   \n",
       "75%    3.795100e+04  3.794700e+04  1.070000e+02   1.600000e+01  1.130000e+01   \n",
       "max    4.969200e+04  4.968800e+04  1.340000e+02   2.100000e+01  2.500000e+01   \n",
       "\n",
       "           order_id   customer_id  order_number  orders_day_of_week  \\\n",
       "count  2.268376e+07  2.268376e+07  2.268376e+07        2.268376e+07   \n",
       "mean   1.710901e+06  1.029381e+05  1.714296e+01        2.739048e+00   \n",
       "std    9.872423e+05  5.946143e+04  1.753497e+01        2.090113e+00   \n",
       "min    2.000000e+00  1.000000e+00  1.000000e+00        0.000000e+00   \n",
       "25%    8.561000e+05  5.143500e+04  5.000000e+00        1.000000e+00   \n",
       "50%    1.711197e+06  1.026190e+05  1.100000e+01        3.000000e+00   \n",
       "75%    2.565522e+06  1.543870e+05  2.400000e+01        5.000000e+00   \n",
       "max    3.421083e+06  2.062090e+05  9.900000e+01        6.000000e+00   \n",
       "\n",
       "       order_hour_of_day  days_since_prior_order  add_to_cart_order  \\\n",
       "count       2.268376e+07            2.268376e+07       2.268376e+07   \n",
       "mean        1.342535e+01            1.039194e+01       8.352656e+00   \n",
       "std         4.247224e+00            8.917624e+00       7.127245e+00   \n",
       "min         0.000000e+00            0.000000e+00       1.000000e+00   \n",
       "25%         1.000000e+01            4.000000e+00       3.000000e+00   \n",
       "50%         1.300000e+01            7.000000e+00       6.000000e+00   \n",
       "75%         1.600000e+01            1.400000e+01       1.100000e+01   \n",
       "max         2.300000e+01            3.000000e+01       1.450000e+02   \n",
       "\n",
       "          reordered     max_order     avg_order  avg_order_frequency  \\\n",
       "count  2.268376e+07  2.268376e+07  2.268376e+07         2.268376e+07   \n",
       "mean   5.896000e-01  3.305403e+01  1.197704e+01         1.039239e+01   \n",
       "std    4.919063e-01  2.515524e+01  8.352866e+01         5.023575e+00   \n",
       "min    0.000000e+00  1.000000e+00  1.000000e+00         0.000000e+00   \n",
       "25%    0.000000e+00  1.300000e+01  7.387500e+00         6.585009e+00   \n",
       "50%    1.000000e+00  2.600000e+01  7.824806e+00         9.350515e+00   \n",
       "75%    1.000000e+00  4.700000e+01  8.254241e+00         1.359375e+01   \n",
       "max    1.000000e+00  9.900000e+01  2.500542e+04         2.970297e+01   \n",
       "\n",
       "                age  num_dependents        income  \n",
       "count  2.268376e+07    2.268376e+07  2.268376e+07  \n",
       "mean   4.946619e+01    1.501875e+00  9.943438e+04  \n",
       "std    1.848517e+01    1.118916e+00  4.304513e+04  \n",
       "min    1.800000e+01    0.000000e+00  2.590300e+04  \n",
       "25%    3.300000e+01    1.000000e+00  6.700800e+04  \n",
       "50%    4.900000e+01    2.000000e+00  9.660800e+04  \n",
       "75%    6.500000e+01    3.000000e+00  1.279020e+05  \n",
       "max    8.100000e+01    3.000000e+00  5.939010e+05  "
      ]
     },
     "execution_count": 29,
     "metadata": {},
     "output_type": "execute_result"
    }
   ],
   "source": [
    "big.describe()"
   ]
  },
  {
   "cell_type": "code",
   "execution_count": 30,
   "id": "031b34d9",
   "metadata": {
    "ExecuteTime": {
     "end_time": "2023-03-14T20:37:48.854965Z",
     "start_time": "2023-03-14T20:37:44.612457Z"
    },
    "execution": {
     "iopub.execute_input": "2023-05-01T19:31:59.380975Z",
     "iopub.status.busy": "2023-05-01T19:31:59.380524Z",
     "iopub.status.idle": "2023-05-01T19:32:03.398013Z",
     "shell.execute_reply": "2023-05-01T19:32:03.397231Z",
     "shell.execute_reply.started": "2023-05-01T19:31:59.380940Z"
    }
   },
   "outputs": [
    {
     "data": {
      "text/html": [
       "<div>\n",
       "<style scoped>\n",
       "    .dataframe tbody tr th:only-of-type {\n",
       "        vertical-align: middle;\n",
       "    }\n",
       "\n",
       "    .dataframe tbody tr th {\n",
       "        vertical-align: top;\n",
       "    }\n",
       "\n",
       "    .dataframe thead th {\n",
       "        text-align: right;\n",
       "    }\n",
       "</style>\n",
       "<table border=\"1\" class=\"dataframe\">\n",
       "  <thead>\n",
       "    <tr style=\"text-align: right;\">\n",
       "      <th></th>\n",
       "      <th>Unnamed: 0</th>\n",
       "      <th>product_id</th>\n",
       "      <th>aisle_id</th>\n",
       "      <th>department_id</th>\n",
       "      <th>prices</th>\n",
       "      <th>order_id</th>\n",
       "      <th>customer_id</th>\n",
       "      <th>order_number</th>\n",
       "      <th>orders_day_of_week</th>\n",
       "      <th>order_hour_of_day</th>\n",
       "      <th>days_since_prior_order</th>\n",
       "      <th>add_to_cart_order</th>\n",
       "      <th>reordered</th>\n",
       "      <th>max_order</th>\n",
       "      <th>avg_order</th>\n",
       "      <th>avg_order_frequency</th>\n",
       "      <th>age</th>\n",
       "      <th>num_dependents</th>\n",
       "      <th>income</th>\n",
       "    </tr>\n",
       "  </thead>\n",
       "  <tbody>\n",
       "    <tr>\n",
       "      <th>count</th>\n",
       "      <td>9.721098e+06</td>\n",
       "      <td>9.721098e+06</td>\n",
       "      <td>9.721098e+06</td>\n",
       "      <td>9.721098e+06</td>\n",
       "      <td>9.719552e+06</td>\n",
       "      <td>9.721098e+06</td>\n",
       "      <td>9.721098e+06</td>\n",
       "      <td>9.721098e+06</td>\n",
       "      <td>9.721098e+06</td>\n",
       "      <td>9.721098e+06</td>\n",
       "      <td>9.721098e+06</td>\n",
       "      <td>9.721098e+06</td>\n",
       "      <td>9.721098e+06</td>\n",
       "      <td>9.721098e+06</td>\n",
       "      <td>9.721098e+06</td>\n",
       "      <td>9.721098e+06</td>\n",
       "      <td>9.721098e+06</td>\n",
       "      <td>9.721098e+06</td>\n",
       "      <td>9.721098e+06</td>\n",
       "    </tr>\n",
       "    <tr>\n",
       "      <th>mean</th>\n",
       "      <td>2.560089e+04</td>\n",
       "      <td>2.559919e+04</td>\n",
       "      <td>7.118637e+01</td>\n",
       "      <td>9.916921e+00</td>\n",
       "      <td>7.791543e+00</td>\n",
       "      <td>1.710382e+06</td>\n",
       "      <td>1.029353e+05</td>\n",
       "      <td>1.714078e+01</td>\n",
       "      <td>2.738444e+00</td>\n",
       "      <td>1.342467e+01</td>\n",
       "      <td>1.039437e+01</td>\n",
       "      <td>8.352290e+00</td>\n",
       "      <td>5.895577e-01</td>\n",
       "      <td>3.304783e+01</td>\n",
       "      <td>1.198767e+01</td>\n",
       "      <td>1.039332e+01</td>\n",
       "      <td>4.946312e+01</td>\n",
       "      <td>1.501945e+00</td>\n",
       "      <td>9.944555e+04</td>\n",
       "    </tr>\n",
       "    <tr>\n",
       "      <th>std</th>\n",
       "      <td>1.408480e+04</td>\n",
       "      <td>1.408325e+04</td>\n",
       "      <td>3.821429e+01</td>\n",
       "      <td>6.281223e+00</td>\n",
       "      <td>4.242356e+00</td>\n",
       "      <td>9.874306e+05</td>\n",
       "      <td>5.947701e+04</td>\n",
       "      <td>1.753615e+01</td>\n",
       "      <td>2.089993e+00</td>\n",
       "      <td>4.244412e+00</td>\n",
       "      <td>8.918294e+00</td>\n",
       "      <td>7.126665e+00</td>\n",
       "      <td>4.919141e-01</td>\n",
       "      <td>2.515526e+01</td>\n",
       "      <td>8.257014e+01</td>\n",
       "      <td>5.024918e+00</td>\n",
       "      <td>1.848655e+01</td>\n",
       "      <td>1.118746e+00</td>\n",
       "      <td>4.308561e+04</td>\n",
       "    </tr>\n",
       "    <tr>\n",
       "      <th>min</th>\n",
       "      <td>0.000000e+00</td>\n",
       "      <td>1.000000e+00</td>\n",
       "      <td>1.000000e+00</td>\n",
       "      <td>1.000000e+00</td>\n",
       "      <td>1.000000e+00</td>\n",
       "      <td>2.000000e+00</td>\n",
       "      <td>1.000000e+00</td>\n",
       "      <td>1.000000e+00</td>\n",
       "      <td>0.000000e+00</td>\n",
       "      <td>0.000000e+00</td>\n",
       "      <td>0.000000e+00</td>\n",
       "      <td>1.000000e+00</td>\n",
       "      <td>0.000000e+00</td>\n",
       "      <td>1.000000e+00</td>\n",
       "      <td>1.000000e+00</td>\n",
       "      <td>0.000000e+00</td>\n",
       "      <td>1.800000e+01</td>\n",
       "      <td>0.000000e+00</td>\n",
       "      <td>2.590300e+04</td>\n",
       "    </tr>\n",
       "    <tr>\n",
       "      <th>25%</th>\n",
       "      <td>1.354400e+04</td>\n",
       "      <td>1.354400e+04</td>\n",
       "      <td>3.100000e+01</td>\n",
       "      <td>4.000000e+00</td>\n",
       "      <td>4.200000e+00</td>\n",
       "      <td>8.555800e+05</td>\n",
       "      <td>5.139700e+04</td>\n",
       "      <td>5.000000e+00</td>\n",
       "      <td>1.000000e+00</td>\n",
       "      <td>1.000000e+01</td>\n",
       "      <td>4.000000e+00</td>\n",
       "      <td>3.000000e+00</td>\n",
       "      <td>0.000000e+00</td>\n",
       "      <td>1.300000e+01</td>\n",
       "      <td>7.386957e+00</td>\n",
       "      <td>6.585153e+00</td>\n",
       "      <td>3.300000e+01</td>\n",
       "      <td>1.000000e+00</td>\n",
       "      <td>6.699100e+04</td>\n",
       "    </tr>\n",
       "    <tr>\n",
       "      <th>50%</th>\n",
       "      <td>2.531000e+04</td>\n",
       "      <td>2.530900e+04</td>\n",
       "      <td>8.300000e+01</td>\n",
       "      <td>9.000000e+00</td>\n",
       "      <td>7.400000e+00</td>\n",
       "      <td>1.710702e+06</td>\n",
       "      <td>1.025990e+05</td>\n",
       "      <td>1.100000e+01</td>\n",
       "      <td>3.000000e+00</td>\n",
       "      <td>1.300000e+01</td>\n",
       "      <td>7.000000e+00</td>\n",
       "      <td>6.000000e+00</td>\n",
       "      <td>1.000000e+00</td>\n",
       "      <td>2.600000e+01</td>\n",
       "      <td>7.824688e+00</td>\n",
       "      <td>9.352550e+00</td>\n",
       "      <td>4.900000e+01</td>\n",
       "      <td>2.000000e+00</td>\n",
       "      <td>9.663000e+04</td>\n",
       "    </tr>\n",
       "    <tr>\n",
       "      <th>75%</th>\n",
       "      <td>3.795100e+04</td>\n",
       "      <td>3.794700e+04</td>\n",
       "      <td>1.070000e+02</td>\n",
       "      <td>1.600000e+01</td>\n",
       "      <td>1.130000e+01</td>\n",
       "      <td>2.565431e+06</td>\n",
       "      <td>1.543980e+05</td>\n",
       "      <td>2.400000e+01</td>\n",
       "      <td>5.000000e+00</td>\n",
       "      <td>1.600000e+01</td>\n",
       "      <td>1.400000e+01</td>\n",
       "      <td>1.100000e+01</td>\n",
       "      <td>1.000000e+00</td>\n",
       "      <td>4.700000e+01</td>\n",
       "      <td>8.253789e+00</td>\n",
       "      <td>1.359589e+01</td>\n",
       "      <td>6.500000e+01</td>\n",
       "      <td>3.000000e+00</td>\n",
       "      <td>1.279160e+05</td>\n",
       "    </tr>\n",
       "    <tr>\n",
       "      <th>max</th>\n",
       "      <td>4.969200e+04</td>\n",
       "      <td>4.968800e+04</td>\n",
       "      <td>1.340000e+02</td>\n",
       "      <td>2.100000e+01</td>\n",
       "      <td>2.500000e+01</td>\n",
       "      <td>3.421083e+06</td>\n",
       "      <td>2.062090e+05</td>\n",
       "      <td>9.900000e+01</td>\n",
       "      <td>6.000000e+00</td>\n",
       "      <td>2.300000e+01</td>\n",
       "      <td>3.000000e+01</td>\n",
       "      <td>1.430000e+02</td>\n",
       "      <td>1.000000e+00</td>\n",
       "      <td>9.900000e+01</td>\n",
       "      <td>1.500694e+04</td>\n",
       "      <td>2.970297e+01</td>\n",
       "      <td>8.100000e+01</td>\n",
       "      <td>3.000000e+00</td>\n",
       "      <td>5.939010e+05</td>\n",
       "    </tr>\n",
       "  </tbody>\n",
       "</table>\n",
       "</div>"
      ],
      "text/plain": [
       "         Unnamed: 0    product_id      aisle_id  department_id        prices  \\\n",
       "count  9.721098e+06  9.721098e+06  9.721098e+06   9.721098e+06  9.719552e+06   \n",
       "mean   2.560089e+04  2.559919e+04  7.118637e+01   9.916921e+00  7.791543e+00   \n",
       "std    1.408480e+04  1.408325e+04  3.821429e+01   6.281223e+00  4.242356e+00   \n",
       "min    0.000000e+00  1.000000e+00  1.000000e+00   1.000000e+00  1.000000e+00   \n",
       "25%    1.354400e+04  1.354400e+04  3.100000e+01   4.000000e+00  4.200000e+00   \n",
       "50%    2.531000e+04  2.530900e+04  8.300000e+01   9.000000e+00  7.400000e+00   \n",
       "75%    3.795100e+04  3.794700e+04  1.070000e+02   1.600000e+01  1.130000e+01   \n",
       "max    4.969200e+04  4.968800e+04  1.340000e+02   2.100000e+01  2.500000e+01   \n",
       "\n",
       "           order_id   customer_id  order_number  orders_day_of_week  \\\n",
       "count  9.721098e+06  9.721098e+06  9.721098e+06        9.721098e+06   \n",
       "mean   1.710382e+06  1.029353e+05  1.714078e+01        2.738444e+00   \n",
       "std    9.874306e+05  5.947701e+04  1.753615e+01        2.089993e+00   \n",
       "min    2.000000e+00  1.000000e+00  1.000000e+00        0.000000e+00   \n",
       "25%    8.555800e+05  5.139700e+04  5.000000e+00        1.000000e+00   \n",
       "50%    1.710702e+06  1.025990e+05  1.100000e+01        3.000000e+00   \n",
       "75%    2.565431e+06  1.543980e+05  2.400000e+01        5.000000e+00   \n",
       "max    3.421083e+06  2.062090e+05  9.900000e+01        6.000000e+00   \n",
       "\n",
       "       order_hour_of_day  days_since_prior_order  add_to_cart_order  \\\n",
       "count       9.721098e+06            9.721098e+06       9.721098e+06   \n",
       "mean        1.342467e+01            1.039437e+01       8.352290e+00   \n",
       "std         4.244412e+00            8.918294e+00       7.126665e+00   \n",
       "min         0.000000e+00            0.000000e+00       1.000000e+00   \n",
       "25%         1.000000e+01            4.000000e+00       3.000000e+00   \n",
       "50%         1.300000e+01            7.000000e+00       6.000000e+00   \n",
       "75%         1.600000e+01            1.400000e+01       1.100000e+01   \n",
       "max         2.300000e+01            3.000000e+01       1.430000e+02   \n",
       "\n",
       "          reordered     max_order     avg_order  avg_order_frequency  \\\n",
       "count  9.721098e+06  9.721098e+06  9.721098e+06         9.721098e+06   \n",
       "mean   5.895577e-01  3.304783e+01  1.198767e+01         1.039332e+01   \n",
       "std    4.919141e-01  2.515526e+01  8.257014e+01         5.024918e+00   \n",
       "min    0.000000e+00  1.000000e+00  1.000000e+00         0.000000e+00   \n",
       "25%    0.000000e+00  1.300000e+01  7.386957e+00         6.585153e+00   \n",
       "50%    1.000000e+00  2.600000e+01  7.824688e+00         9.352550e+00   \n",
       "75%    1.000000e+00  4.700000e+01  8.253789e+00         1.359589e+01   \n",
       "max    1.000000e+00  9.900000e+01  1.500694e+04         2.970297e+01   \n",
       "\n",
       "                age  num_dependents        income  \n",
       "count  9.721098e+06    9.721098e+06  9.721098e+06  \n",
       "mean   4.946312e+01    1.501945e+00  9.944555e+04  \n",
       "std    1.848655e+01    1.118746e+00  4.308561e+04  \n",
       "min    1.800000e+01    0.000000e+00  2.590300e+04  \n",
       "25%    3.300000e+01    1.000000e+00  6.699100e+04  \n",
       "50%    4.900000e+01    2.000000e+00  9.663000e+04  \n",
       "75%    6.500000e+01    3.000000e+00  1.279160e+05  \n",
       "max    8.100000e+01    3.000000e+00  5.939010e+05  "
      ]
     },
     "execution_count": 30,
     "metadata": {},
     "output_type": "execute_result"
    }
   ],
   "source": [
    "small.describe()"
   ]
  },
  {
   "cell_type": "code",
   "execution_count": 31,
   "id": "231da42a",
   "metadata": {
    "ExecuteTime": {
     "end_time": "2023-03-14T20:39:24.501527Z",
     "start_time": "2023-03-14T20:39:24.498509Z"
    },
    "execution": {
     "iopub.execute_input": "2023-05-01T19:32:03.399160Z",
     "iopub.status.busy": "2023-05-01T19:32:03.398955Z",
     "iopub.status.idle": "2023-05-01T19:32:03.402525Z",
     "shell.execute_reply": "2023-05-01T19:32:03.401928Z",
     "shell.execute_reply.started": "2023-05-01T19:32:03.399137Z"
    }
   },
   "outputs": [],
   "source": [
    "# Wow, the describe() outputs for the two new DFs look close to identical outside of their counts.  Sampling works!"
   ]
  },
  {
   "cell_type": "code",
   "execution_count": 32,
   "id": "4a1b2084",
   "metadata": {
    "ExecuteTime": {
     "end_time": "2023-03-14T20:39:36.500749Z",
     "start_time": "2023-03-14T20:39:36.497827Z"
    },
    "execution": {
     "iopub.execute_input": "2023-05-01T19:32:03.404142Z",
     "iopub.status.busy": "2023-05-01T19:32:03.403363Z",
     "iopub.status.idle": "2023-05-01T19:32:03.409201Z",
     "shell.execute_reply": "2023-05-01T19:32:03.408300Z",
     "shell.execute_reply.started": "2023-05-01T19:32:03.404108Z"
    }
   },
   "outputs": [],
   "source": [
    "# More sanity checking, suggested by the Exercise, but with a one-liner to compare them mathematically."
   ]
  },
  {
   "cell_type": "code",
   "execution_count": 33,
   "id": "172e83be",
   "metadata": {
    "ExecuteTime": {
     "end_time": "2023-03-14T20:39:59.136410Z",
     "start_time": "2023-03-14T20:39:59.132088Z"
    },
    "execution": {
     "iopub.execute_input": "2023-05-01T19:32:03.410585Z",
     "iopub.status.busy": "2023-05-01T19:32:03.410345Z",
     "iopub.status.idle": "2023-05-01T19:32:03.416542Z",
     "shell.execute_reply": "2023-05-01T19:32:03.416024Z",
     "shell.execute_reply.started": "2023-05-01T19:32:03.410559Z"
    }
   },
   "outputs": [
    {
     "data": {
      "text/plain": [
       "0"
      ]
     },
     "execution_count": 33,
     "metadata": {},
     "output_type": "execute_result"
    }
   ],
   "source": [
    "len(cust_ords_prods_merge) - (len(big) + len(small))"
   ]
  },
  {
   "cell_type": "code",
   "execution_count": 34,
   "id": "a9300b53",
   "metadata": {
    "ExecuteTime": {
     "end_time": "2023-03-14T20:41:24.075622Z",
     "start_time": "2023-03-14T20:41:24.072802Z"
    },
    "execution": {
     "iopub.execute_input": "2023-05-01T19:32:03.418055Z",
     "iopub.status.busy": "2023-05-01T19:32:03.417682Z",
     "iopub.status.idle": "2023-05-01T19:32:03.421321Z",
     "shell.execute_reply": "2023-05-01T19:32:03.420736Z",
     "shell.execute_reply.started": "2023-05-01T19:32:03.418007Z"
    }
   },
   "outputs": [],
   "source": [
    "# As suggested, speed processing up further by looking only at those columns actually needed for our chart."
   ]
  },
  {
   "cell_type": "code",
   "execution_count": 35,
   "id": "f6d5e75f",
   "metadata": {
    "ExecuteTime": {
     "end_time": "2023-03-14T20:41:35.668293Z",
     "start_time": "2023-03-14T20:41:35.545730Z"
    },
    "execution": {
     "iopub.execute_input": "2023-05-01T19:32:03.422941Z",
     "iopub.status.busy": "2023-05-01T19:32:03.422338Z",
     "iopub.status.idle": "2023-05-01T19:32:03.474008Z",
     "shell.execute_reply": "2023-05-01T19:32:03.473289Z",
     "shell.execute_reply.started": "2023-05-01T19:32:03.422910Z"
    }
   },
   "outputs": [],
   "source": [
    "df_2 = small[['orders_day_of_week','prices']]"
   ]
  },
  {
   "cell_type": "code",
   "execution_count": 36,
   "id": "0b3d12e6",
   "metadata": {
    "ExecuteTime": {
     "end_time": "2023-03-14T20:41:46.552044Z",
     "start_time": "2023-03-14T20:41:46.549581Z"
    },
    "execution": {
     "iopub.execute_input": "2023-05-01T19:32:03.475156Z",
     "iopub.status.busy": "2023-05-01T19:32:03.474955Z",
     "iopub.status.idle": "2023-05-01T19:32:03.478974Z",
     "shell.execute_reply": "2023-05-01T19:32:03.478079Z",
     "shell.execute_reply.started": "2023-05-01T19:32:03.475133Z"
    }
   },
   "outputs": [],
   "source": [
    "# Sanity-checks."
   ]
  },
  {
   "cell_type": "code",
   "execution_count": 37,
   "id": "6046d029",
   "metadata": {
    "ExecuteTime": {
     "end_time": "2023-03-14T20:41:55.645803Z",
     "start_time": "2023-03-14T20:41:55.638262Z"
    },
    "execution": {
     "iopub.execute_input": "2023-05-01T19:32:03.480490Z",
     "iopub.status.busy": "2023-05-01T19:32:03.480253Z",
     "iopub.status.idle": "2023-05-01T19:32:03.491683Z",
     "shell.execute_reply": "2023-05-01T19:32:03.490926Z",
     "shell.execute_reply.started": "2023-05-01T19:32:03.480467Z"
    }
   },
   "outputs": [
    {
     "data": {
      "text/html": [
       "<div>\n",
       "<style scoped>\n",
       "    .dataframe tbody tr th:only-of-type {\n",
       "        vertical-align: middle;\n",
       "    }\n",
       "\n",
       "    .dataframe tbody tr th {\n",
       "        vertical-align: top;\n",
       "    }\n",
       "\n",
       "    .dataframe thead th {\n",
       "        text-align: right;\n",
       "    }\n",
       "</style>\n",
       "<table border=\"1\" class=\"dataframe\">\n",
       "  <thead>\n",
       "    <tr style=\"text-align: right;\">\n",
       "      <th></th>\n",
       "      <th>orders_day_of_week</th>\n",
       "      <th>prices</th>\n",
       "    </tr>\n",
       "  </thead>\n",
       "  <tbody>\n",
       "    <tr>\n",
       "      <th>0</th>\n",
       "      <td>6</td>\n",
       "      <td>5.8</td>\n",
       "    </tr>\n",
       "    <tr>\n",
       "      <th>2</th>\n",
       "      <td>5</td>\n",
       "      <td>20.0</td>\n",
       "    </tr>\n",
       "    <tr>\n",
       "      <th>3</th>\n",
       "      <td>5</td>\n",
       "      <td>20.0</td>\n",
       "    </tr>\n",
       "    <tr>\n",
       "      <th>6</th>\n",
       "      <td>5</td>\n",
       "      <td>4.4</td>\n",
       "    </tr>\n",
       "    <tr>\n",
       "      <th>10</th>\n",
       "      <td>0</td>\n",
       "      <td>12.8</td>\n",
       "    </tr>\n",
       "  </tbody>\n",
       "</table>\n",
       "</div>"
      ],
      "text/plain": [
       "    orders_day_of_week  prices\n",
       "0                    6     5.8\n",
       "2                    5    20.0\n",
       "3                    5    20.0\n",
       "6                    5     4.4\n",
       "10                   0    12.8"
      ]
     },
     "execution_count": 37,
     "metadata": {},
     "output_type": "execute_result"
    }
   ],
   "source": [
    "df_2.head()"
   ]
  },
  {
   "cell_type": "code",
   "execution_count": 38,
   "id": "dbb6acfb",
   "metadata": {
    "ExecuteTime": {
     "end_time": "2023-03-14T20:42:58.248780Z",
     "start_time": "2023-03-14T20:42:57.557975Z"
    },
    "execution": {
     "iopub.execute_input": "2023-05-01T19:32:03.493208Z",
     "iopub.status.busy": "2023-05-01T19:32:03.492646Z",
     "iopub.status.idle": "2023-05-01T19:32:04.085100Z",
     "shell.execute_reply": "2023-05-01T19:32:04.083921Z",
     "shell.execute_reply.started": "2023-05-01T19:32:03.493184Z"
    }
   },
   "outputs": [
    {
     "data": {
      "text/html": [
       "<div>\n",
       "<style scoped>\n",
       "    .dataframe tbody tr th:only-of-type {\n",
       "        vertical-align: middle;\n",
       "    }\n",
       "\n",
       "    .dataframe tbody tr th {\n",
       "        vertical-align: top;\n",
       "    }\n",
       "\n",
       "    .dataframe thead th {\n",
       "        text-align: right;\n",
       "    }\n",
       "</style>\n",
       "<table border=\"1\" class=\"dataframe\">\n",
       "  <thead>\n",
       "    <tr style=\"text-align: right;\">\n",
       "      <th></th>\n",
       "      <th>orders_day_of_week</th>\n",
       "      <th>prices</th>\n",
       "    </tr>\n",
       "  </thead>\n",
       "  <tbody>\n",
       "    <tr>\n",
       "      <th>count</th>\n",
       "      <td>9.721098e+06</td>\n",
       "      <td>9.719552e+06</td>\n",
       "    </tr>\n",
       "    <tr>\n",
       "      <th>mean</th>\n",
       "      <td>2.738444e+00</td>\n",
       "      <td>7.791543e+00</td>\n",
       "    </tr>\n",
       "    <tr>\n",
       "      <th>std</th>\n",
       "      <td>2.089993e+00</td>\n",
       "      <td>4.242356e+00</td>\n",
       "    </tr>\n",
       "    <tr>\n",
       "      <th>min</th>\n",
       "      <td>0.000000e+00</td>\n",
       "      <td>1.000000e+00</td>\n",
       "    </tr>\n",
       "    <tr>\n",
       "      <th>25%</th>\n",
       "      <td>1.000000e+00</td>\n",
       "      <td>4.200000e+00</td>\n",
       "    </tr>\n",
       "    <tr>\n",
       "      <th>50%</th>\n",
       "      <td>3.000000e+00</td>\n",
       "      <td>7.400000e+00</td>\n",
       "    </tr>\n",
       "    <tr>\n",
       "      <th>75%</th>\n",
       "      <td>5.000000e+00</td>\n",
       "      <td>1.130000e+01</td>\n",
       "    </tr>\n",
       "    <tr>\n",
       "      <th>max</th>\n",
       "      <td>6.000000e+00</td>\n",
       "      <td>2.500000e+01</td>\n",
       "    </tr>\n",
       "  </tbody>\n",
       "</table>\n",
       "</div>"
      ],
      "text/plain": [
       "       orders_day_of_week        prices\n",
       "count        9.721098e+06  9.719552e+06\n",
       "mean         2.738444e+00  7.791543e+00\n",
       "std          2.089993e+00  4.242356e+00\n",
       "min          0.000000e+00  1.000000e+00\n",
       "25%          1.000000e+00  4.200000e+00\n",
       "50%          3.000000e+00  7.400000e+00\n",
       "75%          5.000000e+00  1.130000e+01\n",
       "max          6.000000e+00  2.500000e+01"
      ]
     },
     "execution_count": 38,
     "metadata": {},
     "output_type": "execute_result"
    }
   ],
   "source": [
    "df_2.describe()"
   ]
  },
  {
   "cell_type": "code",
   "execution_count": 39,
   "id": "fbe51f90",
   "metadata": {
    "ExecuteTime": {
     "end_time": "2023-03-14T20:43:07.021535Z",
     "start_time": "2023-03-14T20:43:07.012657Z"
    },
    "execution": {
     "iopub.execute_input": "2023-05-01T19:32:04.086780Z",
     "iopub.status.busy": "2023-05-01T19:32:04.086473Z",
     "iopub.status.idle": "2023-05-01T19:32:04.098444Z",
     "shell.execute_reply": "2023-05-01T19:32:04.097771Z",
     "shell.execute_reply.started": "2023-05-01T19:32:04.086746Z"
    }
   },
   "outputs": [
    {
     "name": "stdout",
     "output_type": "stream",
     "text": [
      "<class 'pandas.core.frame.DataFrame'>\n",
      "Int64Index: 9721098 entries, 0 to 32404850\n",
      "Data columns (total 2 columns):\n",
      " #   Column              Dtype  \n",
      "---  ------              -----  \n",
      " 0   orders_day_of_week  int64  \n",
      " 1   prices              float64\n",
      "dtypes: float64(1), int64(1)\n",
      "memory usage: 222.5 MB\n"
     ]
    }
   ],
   "source": [
    "df_2.info()"
   ]
  },
  {
   "cell_type": "code",
   "execution_count": 40,
   "id": "f9de3557",
   "metadata": {
    "ExecuteTime": {
     "end_time": "2023-03-14T20:43:36.737913Z",
     "start_time": "2023-03-14T20:43:36.730565Z"
    },
    "execution": {
     "iopub.execute_input": "2023-05-01T19:32:04.100296Z",
     "iopub.status.busy": "2023-05-01T19:32:04.099707Z",
     "iopub.status.idle": "2023-05-01T19:32:04.109555Z",
     "shell.execute_reply": "2023-05-01T19:32:04.107023Z",
     "shell.execute_reply.started": "2023-05-01T19:32:04.100270Z"
    }
   },
   "outputs": [
    {
     "name": "stdout",
     "output_type": "stream",
     "text": [
      "<class 'pandas.core.frame.DataFrame'>\n",
      "Int64Index: 9721098 entries, 0 to 32404850\n",
      "Data columns (total 2 columns):\n",
      " #   Column              Dtype  \n",
      "---  ------              -----  \n",
      " 0   orders_day_of_week  int64  \n",
      " 1   prices              float64\n",
      "dtypes: float64(1), int64(1)\n",
      "memory usage: 222.5 MB\n"
     ]
    }
   ],
   "source": [
    "df_2.info(memory_usage = 'deep')"
   ]
  },
  {
   "cell_type": "code",
   "execution_count": 41,
   "id": "67512001",
   "metadata": {
    "ExecuteTime": {
     "end_time": "2023-03-14T20:43:56.135359Z",
     "start_time": "2023-03-14T20:43:56.130987Z"
    },
    "execution": {
     "iopub.execute_input": "2023-05-01T19:32:04.111563Z",
     "iopub.status.busy": "2023-05-01T19:32:04.110711Z",
     "iopub.status.idle": "2023-05-01T19:32:04.117677Z",
     "shell.execute_reply": "2023-05-01T19:32:04.116788Z",
     "shell.execute_reply.started": "2023-05-01T19:32:04.111522Z"
    }
   },
   "outputs": [
    {
     "data": {
      "text/plain": [
       "0"
      ]
     },
     "execution_count": 41,
     "metadata": {},
     "output_type": "execute_result"
    }
   ],
   "source": [
    "len(small) - len(df_2)"
   ]
  },
  {
   "cell_type": "code",
   "execution_count": 42,
   "id": "7be600b6",
   "metadata": {
    "ExecuteTime": {
     "end_time": "2023-03-14T20:44:22.679396Z",
     "start_time": "2023-03-14T20:44:22.676626Z"
    },
    "execution": {
     "iopub.execute_input": "2023-05-01T19:32:04.119533Z",
     "iopub.status.busy": "2023-05-01T19:32:04.119173Z",
     "iopub.status.idle": "2023-05-01T19:32:04.123911Z",
     "shell.execute_reply": "2023-05-01T19:32:04.123103Z",
     "shell.execute_reply.started": "2023-05-01T19:32:04.119495Z"
    }
   },
   "outputs": [],
   "source": [
    "# Now, finally, the line plot, using our optimized DataFrame, 'df_2':\n",
    "# NB:  I still have 'order_dow' for a column name, rather than the 'orders_day_of_week' that the Exercise uses.\n",
    "# UPDATE:  YES, I MESSED UP IN PREVIOUS SCRIPTS AND RELOADED THE ORIGINAL, NON-WRANGLED orders.csv.  I am fixing this all now."
   ]
  },
  {
   "cell_type": "code",
   "execution_count": 43,
   "id": "26af8d99",
   "metadata": {
    "ExecuteTime": {
     "end_time": "2023-03-14T20:47:08.618844Z",
     "start_time": "2023-03-14T20:44:46.395586Z"
    },
    "execution": {
     "iopub.execute_input": "2023-05-01T19:32:04.125812Z",
     "iopub.status.busy": "2023-05-01T19:32:04.125220Z",
     "iopub.status.idle": "2023-05-01T19:34:13.322648Z",
     "shell.execute_reply": "2023-05-01T19:34:13.321602Z",
     "shell.execute_reply.started": "2023-05-01T19:32:04.125778Z"
    }
   },
   "outputs": [
    {
     "data": {
      "image/png": "[encoded data removed]",
      "text/plain": [
       "<Figure size 432x288 with 1 Axes>"
      ]
     },
     "metadata": {
      "needs_background": "light"
     },
     "output_type": "display_data"
    }
   ],
   "source": [
    "line_df_30 = sns.lineplot(data = df_2, x = 'orders_day_of_week',y = 'prices')"
   ]
  },
  {
   "cell_type": "code",
   "execution_count": 44,
   "id": "7110d49f",
   "metadata": {
    "ExecuteTime": {
     "end_time": "2023-03-14T20:49:47.743614Z",
     "start_time": "2023-03-14T20:49:47.741105Z"
    },
    "execution": {
     "iopub.execute_input": "2023-05-01T19:34:13.325552Z",
     "iopub.status.busy": "2023-05-01T19:34:13.323954Z",
     "iopub.status.idle": "2023-05-01T19:34:13.329889Z",
     "shell.execute_reply": "2023-05-01T19:34:13.328593Z",
     "shell.execute_reply.started": "2023-05-01T19:34:13.325506Z"
    }
   },
   "outputs": [],
   "source": [
    "# The line graph for the 30% sample, above, took nearly 2.5 minutes, and peaked Python at 82% usage of OS memory,\n",
    "# on an EC2 instance with 32GB of RAM, and I did have one kernel die earlier, so I'm not going to try graphing\n",
    "# the 70% sample."
   ]
  },
  {
   "cell_type": "code",
   "execution_count": 45,
   "id": "0a5d4e66",
   "metadata": {
    "ExecuteTime": {
     "end_time": "2023-03-14T20:51:42.365674Z",
     "start_time": "2023-03-14T20:51:42.324132Z"
    },
    "execution": {
     "iopub.execute_input": "2023-05-01T19:34:13.331720Z",
     "iopub.status.busy": "2023-05-01T19:34:13.331272Z",
     "iopub.status.idle": "2023-05-01T19:34:13.378141Z",
     "shell.execute_reply": "2023-05-01T19:34:13.377547Z",
     "shell.execute_reply.started": "2023-05-01T19:34:13.331691Z"
    }
   },
   "outputs": [],
   "source": [
    "line_df_30.figure.savefig(os.path.join(path, '04-Analysis','Visualizations', 'line_plot_dow_vs_price_sample_30.png'))"
   ]
  },
  {
   "cell_type": "markdown",
   "id": "e1aa5891",
   "metadata": {},
   "source": [
    "## Step 3:  You need to provide the Instacart senior stakeholders with descriptive findings about sales. Create a histogram of the “order_hour_of_day” column.\n",
    "\n",
    "    In a markdown cell beneath your histogram, describe what the histogram demonstrates.\n"
   ]
  },
  {
   "cell_type": "code",
   "execution_count": 46,
   "id": "a54425e6",
   "metadata": {
    "ExecuteTime": {
     "end_time": "2023-03-14T21:00:28.489998Z",
     "start_time": "2023-03-14T21:00:25.937185Z"
    },
    "execution": {
     "iopub.execute_input": "2023-05-01T19:34:13.379958Z",
     "iopub.status.busy": "2023-05-01T19:34:13.379211Z",
     "iopub.status.idle": "2023-05-01T19:34:15.584786Z",
     "shell.execute_reply": "2023-05-01T19:34:15.584100Z",
     "shell.execute_reply.started": "2023-05-01T19:34:13.379929Z"
    },
    "scrolled": true
   },
   "outputs": [
    {
     "data": {
      "image/png": "[encoded data removed]",
      "text/plain": [
       "<Figure size 432x288 with 1 Axes>"
      ]
     },
     "metadata": {
      "needs_background": "light"
     },
     "output_type": "display_data"
    }
   ],
   "source": [
    "hist_order_hour_of_day = cust_ords_prods_merge['order_hour_of_day'].plot.hist(bins = 24)"
   ]
  },
  {
   "cell_type": "code",
   "execution_count": 47,
   "id": "61032f9e",
   "metadata": {
    "ExecuteTime": {
     "end_time": "2023-03-14T21:09:06.117269Z",
     "start_time": "2023-03-14T21:09:06.074648Z"
    },
    "execution": {
     "iopub.execute_input": "2023-05-01T19:34:15.586138Z",
     "iopub.status.busy": "2023-05-01T19:34:15.585825Z",
     "iopub.status.idle": "2023-05-01T19:34:15.631009Z",
     "shell.execute_reply": "2023-05-01T19:34:15.630401Z",
     "shell.execute_reply.started": "2023-05-01T19:34:15.586004Z"
    }
   },
   "outputs": [],
   "source": [
    "hist_order_hour_of_day.figure.savefig(os.path.join(path, '04-Analysis','Visualizations', 'hist_order_hour_of_day.png'))"
   ]
  },
  {
   "cell_type": "markdown",
   "id": "21878dc8",
   "metadata": {},
   "source": [
    "### The histogram above shows the number of orders (in millions) placed during each hour of the day."
   ]
  },
  {
   "cell_type": "markdown",
   "id": "eac5cebf",
   "metadata": {},
   "source": [
    "## Step 4:  The marketing team is curious about the distribution of orders among customers in terms of loyalty. Create a bar chart from the “loyalty_flag” column."
   ]
  },
  {
   "cell_type": "code",
   "execution_count": 48,
   "id": "6055f3bd",
   "metadata": {
    "ExecuteTime": {
     "end_time": "2023-03-14T21:04:09.251373Z",
     "start_time": "2023-03-14T21:04:07.974112Z"
    },
    "execution": {
     "iopub.execute_input": "2023-05-01T19:34:15.632229Z",
     "iopub.status.busy": "2023-05-01T19:34:15.631946Z",
     "iopub.status.idle": "2023-05-01T19:34:17.092082Z",
     "shell.execute_reply": "2023-05-01T19:34:17.091302Z",
     "shell.execute_reply.started": "2023-05-01T19:34:15.632206Z"
    }
   },
   "outputs": [
    {
     "data": {
      "image/png": "[encoded data removed]",
      "text/plain": [
       "<Figure size 432x288 with 1 Axes>"
      ]
     },
     "metadata": {
      "needs_background": "light"
     },
     "output_type": "display_data"
    }
   ],
   "source": [
    "loyalty_bar_all = cust_ords_prods_merge['loyalty_flag'].value_counts().sort_index().plot.bar()"
   ]
  },
  {
   "cell_type": "markdown",
   "id": "e1fc8aba",
   "metadata": {},
   "source": [
    "### We can see that most customers fall into the category of 'Regular customer'."
   ]
  },
  {
   "cell_type": "code",
   "execution_count": 49,
   "id": "11e4134e",
   "metadata": {
    "ExecuteTime": {
     "end_time": "2023-03-14T21:10:27.239898Z",
     "start_time": "2023-03-14T21:10:27.210343Z"
    },
    "execution": {
     "iopub.execute_input": "2023-05-01T19:34:17.093343Z",
     "iopub.status.busy": "2023-05-01T19:34:17.093141Z",
     "iopub.status.idle": "2023-05-01T19:34:17.131655Z",
     "shell.execute_reply": "2023-05-01T19:34:17.130933Z",
     "shell.execute_reply.started": "2023-05-01T19:34:17.093319Z"
    }
   },
   "outputs": [],
   "source": [
    "loyalty_bar_all.figure.savefig(os.path.join(path, '04-Analysis','Visualizations', 'loyalty_bar_all.png'))"
   ]
  },
  {
   "cell_type": "markdown",
   "id": "ed2cdced",
   "metadata": {},
   "source": [
    "## Step 5:  Check whether there’s a difference in expenditure (the “prices” column) depending on the hour of the day. (Hint: To check this, you need to use an accurate sample for your line chart!)"
   ]
  },
  {
   "cell_type": "code",
   "execution_count": 50,
   "id": "dff4c07e",
   "metadata": {
    "ExecuteTime": {
     "end_time": "2023-03-14T21:15:13.599331Z",
     "start_time": "2023-03-14T21:15:13.596962Z"
    },
    "execution": {
     "iopub.execute_input": "2023-05-01T19:34:17.132728Z",
     "iopub.status.busy": "2023-05-01T19:34:17.132542Z",
     "iopub.status.idle": "2023-05-01T19:34:17.136792Z",
     "shell.execute_reply": "2023-05-01T19:34:17.135888Z",
     "shell.execute_reply.started": "2023-05-01T19:34:17.132705Z"
    }
   },
   "outputs": [],
   "source": [
    "# Create a new dataframe with only the columns we need."
   ]
  },
  {
   "cell_type": "code",
   "execution_count": 51,
   "id": "9a03e011",
   "metadata": {
    "ExecuteTime": {
     "end_time": "2023-03-14T21:16:53.273995Z",
     "start_time": "2023-03-14T21:16:53.204469Z"
    },
    "execution": {
     "iopub.execute_input": "2023-05-01T19:34:17.137863Z",
     "iopub.status.busy": "2023-05-01T19:34:17.137626Z",
     "iopub.status.idle": "2023-05-01T19:34:17.182476Z",
     "shell.execute_reply": "2023-05-01T19:34:17.181896Z",
     "shell.execute_reply.started": "2023-05-01T19:34:17.137836Z"
    }
   },
   "outputs": [],
   "source": [
    "df_order_hour_of_day_vs_prices = small[['order_hour_of_day','prices']]"
   ]
  },
  {
   "cell_type": "code",
   "execution_count": 52,
   "id": "e220237f",
   "metadata": {
    "ExecuteTime": {
     "end_time": "2023-03-14T21:17:00.944976Z",
     "start_time": "2023-03-14T21:17:00.942196Z"
    },
    "execution": {
     "iopub.execute_input": "2023-05-01T19:34:17.183788Z",
     "iopub.status.busy": "2023-05-01T19:34:17.183571Z",
     "iopub.status.idle": "2023-05-01T19:34:17.187944Z",
     "shell.execute_reply": "2023-05-01T19:34:17.187159Z",
     "shell.execute_reply.started": "2023-05-01T19:34:17.183762Z"
    }
   },
   "outputs": [],
   "source": [
    "# Sanity checks."
   ]
  },
  {
   "cell_type": "code",
   "execution_count": 53,
   "id": "51021ba8",
   "metadata": {
    "ExecuteTime": {
     "end_time": "2023-03-14T21:17:23.882203Z",
     "start_time": "2023-03-14T21:17:23.874602Z"
    },
    "execution": {
     "iopub.execute_input": "2023-05-01T19:34:17.189586Z",
     "iopub.status.busy": "2023-05-01T19:34:17.189137Z",
     "iopub.status.idle": "2023-05-01T19:34:17.198261Z",
     "shell.execute_reply": "2023-05-01T19:34:17.197477Z",
     "shell.execute_reply.started": "2023-05-01T19:34:17.189560Z"
    }
   },
   "outputs": [
    {
     "name": "stdout",
     "output_type": "stream",
     "text": [
      "<class 'pandas.core.frame.DataFrame'>\n",
      "Int64Index: 9721098 entries, 0 to 32404850\n",
      "Data columns (total 2 columns):\n",
      " #   Column             Dtype  \n",
      "---  ------             -----  \n",
      " 0   order_hour_of_day  int64  \n",
      " 1   prices             float64\n",
      "dtypes: float64(1), int64(1)\n",
      "memory usage: 480.5 MB\n"
     ]
    }
   ],
   "source": [
    "df_order_hour_of_day_vs_prices.info(memory_usage = 'deep')"
   ]
  },
  {
   "cell_type": "code",
   "execution_count": 54,
   "id": "f27353cc",
   "metadata": {
    "ExecuteTime": {
     "end_time": "2023-03-14T21:17:43.408319Z",
     "start_time": "2023-03-14T21:17:43.400540Z"
    },
    "execution": {
     "iopub.execute_input": "2023-05-01T19:34:17.199406Z",
     "iopub.status.busy": "2023-05-01T19:34:17.199216Z",
     "iopub.status.idle": "2023-05-01T19:34:17.210798Z",
     "shell.execute_reply": "2023-05-01T19:34:17.210094Z",
     "shell.execute_reply.started": "2023-05-01T19:34:17.199384Z"
    }
   },
   "outputs": [
    {
     "data": {
      "text/html": [
       "<div>\n",
       "<style scoped>\n",
       "    .dataframe tbody tr th:only-of-type {\n",
       "        vertical-align: middle;\n",
       "    }\n",
       "\n",
       "    .dataframe tbody tr th {\n",
       "        vertical-align: top;\n",
       "    }\n",
       "\n",
       "    .dataframe thead th {\n",
       "        text-align: right;\n",
       "    }\n",
       "</style>\n",
       "<table border=\"1\" class=\"dataframe\">\n",
       "  <thead>\n",
       "    <tr style=\"text-align: right;\">\n",
       "      <th></th>\n",
       "      <th>order_hour_of_day</th>\n",
       "      <th>prices</th>\n",
       "    </tr>\n",
       "  </thead>\n",
       "  <tbody>\n",
       "    <tr>\n",
       "      <th>0</th>\n",
       "      <td>11</td>\n",
       "      <td>5.8</td>\n",
       "    </tr>\n",
       "    <tr>\n",
       "      <th>2</th>\n",
       "      <td>13</td>\n",
       "      <td>20.0</td>\n",
       "    </tr>\n",
       "    <tr>\n",
       "      <th>3</th>\n",
       "      <td>14</td>\n",
       "      <td>20.0</td>\n",
       "    </tr>\n",
       "    <tr>\n",
       "      <th>6</th>\n",
       "      <td>13</td>\n",
       "      <td>4.4</td>\n",
       "    </tr>\n",
       "    <tr>\n",
       "      <th>10</th>\n",
       "      <td>9</td>\n",
       "      <td>12.8</td>\n",
       "    </tr>\n",
       "  </tbody>\n",
       "</table>\n",
       "</div>"
      ],
      "text/plain": [
       "    order_hour_of_day  prices\n",
       "0                  11     5.8\n",
       "2                  13    20.0\n",
       "3                  14    20.0\n",
       "6                  13     4.4\n",
       "10                  9    12.8"
      ]
     },
     "execution_count": 54,
     "metadata": {},
     "output_type": "execute_result"
    }
   ],
   "source": [
    "df_order_hour_of_day_vs_prices.head()"
   ]
  },
  {
   "cell_type": "code",
   "execution_count": 55,
   "id": "7f9f3a99",
   "metadata": {
    "ExecuteTime": {
     "end_time": "2023-03-14T21:18:23.792505Z",
     "start_time": "2023-03-14T21:18:23.207426Z"
    },
    "execution": {
     "iopub.execute_input": "2023-05-01T19:34:17.212153Z",
     "iopub.status.busy": "2023-05-01T19:34:17.211832Z",
     "iopub.status.idle": "2023-05-01T19:34:17.811392Z",
     "shell.execute_reply": "2023-05-01T19:34:17.810637Z",
     "shell.execute_reply.started": "2023-05-01T19:34:17.212127Z"
    }
   },
   "outputs": [
    {
     "data": {
      "text/html": [
       "<div>\n",
       "<style scoped>\n",
       "    .dataframe tbody tr th:only-of-type {\n",
       "        vertical-align: middle;\n",
       "    }\n",
       "\n",
       "    .dataframe tbody tr th {\n",
       "        vertical-align: top;\n",
       "    }\n",
       "\n",
       "    .dataframe thead th {\n",
       "        text-align: right;\n",
       "    }\n",
       "</style>\n",
       "<table border=\"1\" class=\"dataframe\">\n",
       "  <thead>\n",
       "    <tr style=\"text-align: right;\">\n",
       "      <th></th>\n",
       "      <th>order_hour_of_day</th>\n",
       "      <th>prices</th>\n",
       "    </tr>\n",
       "  </thead>\n",
       "  <tbody>\n",
       "    <tr>\n",
       "      <th>count</th>\n",
       "      <td>9.721098e+06</td>\n",
       "      <td>9.719552e+06</td>\n",
       "    </tr>\n",
       "    <tr>\n",
       "      <th>mean</th>\n",
       "      <td>1.342467e+01</td>\n",
       "      <td>7.791543e+00</td>\n",
       "    </tr>\n",
       "    <tr>\n",
       "      <th>std</th>\n",
       "      <td>4.244412e+00</td>\n",
       "      <td>4.242356e+00</td>\n",
       "    </tr>\n",
       "    <tr>\n",
       "      <th>min</th>\n",
       "      <td>0.000000e+00</td>\n",
       "      <td>1.000000e+00</td>\n",
       "    </tr>\n",
       "    <tr>\n",
       "      <th>25%</th>\n",
       "      <td>1.000000e+01</td>\n",
       "      <td>4.200000e+00</td>\n",
       "    </tr>\n",
       "    <tr>\n",
       "      <th>50%</th>\n",
       "      <td>1.300000e+01</td>\n",
       "      <td>7.400000e+00</td>\n",
       "    </tr>\n",
       "    <tr>\n",
       "      <th>75%</th>\n",
       "      <td>1.600000e+01</td>\n",
       "      <td>1.130000e+01</td>\n",
       "    </tr>\n",
       "    <tr>\n",
       "      <th>max</th>\n",
       "      <td>2.300000e+01</td>\n",
       "      <td>2.500000e+01</td>\n",
       "    </tr>\n",
       "  </tbody>\n",
       "</table>\n",
       "</div>"
      ],
      "text/plain": [
       "       order_hour_of_day        prices\n",
       "count       9.721098e+06  9.719552e+06\n",
       "mean        1.342467e+01  7.791543e+00\n",
       "std         4.244412e+00  4.242356e+00\n",
       "min         0.000000e+00  1.000000e+00\n",
       "25%         1.000000e+01  4.200000e+00\n",
       "50%         1.300000e+01  7.400000e+00\n",
       "75%         1.600000e+01  1.130000e+01\n",
       "max         2.300000e+01  2.500000e+01"
      ]
     },
     "execution_count": 55,
     "metadata": {},
     "output_type": "execute_result"
    }
   ],
   "source": [
    "df_order_hour_of_day_vs_prices.describe()"
   ]
  },
  {
   "cell_type": "code",
   "execution_count": 56,
   "id": "fb9d0ea3",
   "metadata": {
    "ExecuteTime": {
     "end_time": "2023-03-14T21:18:50.055050Z",
     "start_time": "2023-03-14T21:18:50.050820Z"
    },
    "execution": {
     "iopub.execute_input": "2023-05-01T19:34:17.812894Z",
     "iopub.status.busy": "2023-05-01T19:34:17.812263Z",
     "iopub.status.idle": "2023-05-01T19:34:17.818744Z",
     "shell.execute_reply": "2023-05-01T19:34:17.817721Z",
     "shell.execute_reply.started": "2023-05-01T19:34:17.812856Z"
    }
   },
   "outputs": [
    {
     "data": {
      "text/plain": [
       "0"
      ]
     },
     "execution_count": 56,
     "metadata": {},
     "output_type": "execute_result"
    }
   ],
   "source": [
    "len(small) - len(df_order_hour_of_day_vs_prices)"
   ]
  },
  {
   "cell_type": "code",
   "execution_count": 57,
   "id": "c7d8b8e9",
   "metadata": {
    "ExecuteTime": {
     "end_time": "2023-03-14T21:22:37.637574Z",
     "start_time": "2023-03-14T21:21:08.899925Z"
    },
    "execution": {
     "iopub.execute_input": "2023-05-01T19:34:17.820966Z",
     "iopub.status.busy": "2023-05-01T19:34:17.820379Z",
     "iopub.status.idle": "2023-05-01T19:35:59.532817Z",
     "shell.execute_reply": "2023-05-01T19:35:59.532274Z",
     "shell.execute_reply.started": "2023-05-01T19:34:17.820926Z"
    }
   },
   "outputs": [
    {
     "data": {
      "text/plain": [
       "Text(0.5, 1.0, 'Prices of Purchases by Hour of Day')"
      ]
     },
     "execution_count": 57,
     "metadata": {},
     "output_type": "execute_result"
    },
    {
     "data": {
      "image/png": "[encoded data removed]",
      "text/plain": [
       "<Figure size 432x288 with 1 Axes>"
      ]
     },
     "metadata": {
      "needs_background": "light"
     },
     "output_type": "display_data"
    }
   ],
   "source": [
    "line_df_order_hour_of_day_vs_prices_30 = sns.lineplot(data = df_order_hour_of_day_vs_prices, x = 'order_hour_of_day',y = 'prices')\n",
    "plt.title('Prices of Purchases by Hour of Day', fontsize = 18, pad=20)"
   ]
  },
  {
   "cell_type": "code",
   "execution_count": 58,
   "id": "b3016c35",
   "metadata": {
    "ExecuteTime": {
     "end_time": "2023-03-14T21:25:52.138347Z",
     "start_time": "2023-03-14T21:25:52.097556Z"
    },
    "execution": {
     "iopub.execute_input": "2023-05-01T19:35:59.534323Z",
     "iopub.status.busy": "2023-05-01T19:35:59.533674Z",
     "iopub.status.idle": "2023-05-01T19:35:59.585063Z",
     "shell.execute_reply": "2023-05-01T19:35:59.584006Z",
     "shell.execute_reply.started": "2023-05-01T19:35:59.534298Z"
    },
    "tags": []
   },
   "outputs": [],
   "source": [
    "line_df_order_hour_of_day_vs_prices_30.figure.savefig(os.path.join(path, '04-Analysis','Visualizations', 'line_df_order_hour_of_day_vs_prices_30.png'), facecolor='white')"
   ]
  },
  {
   "cell_type": "markdown",
   "id": "1367d9d9",
   "metadata": {},
   "source": [
    "## Step 6:  Now that you have information about customers, you need to conduct some exploratory analysis of customer demographics to inform the targeted marketing campaigns. First, determine whether there’s a connection between age and family situation by creating a line chart exploring the connections between age and number of dependents:\n",
    "\n",
    "    In a markdown cell beneath your line chart, describe what the line chart shows.\n"
   ]
  },
  {
   "cell_type": "code",
   "execution_count": 59,
   "id": "52b27a77",
   "metadata": {
    "ExecuteTime": {
     "end_time": "2023-03-14T21:27:45.480529Z",
     "start_time": "2023-03-14T21:27:45.477524Z"
    },
    "execution": {
     "iopub.execute_input": "2023-05-01T19:35:59.586979Z",
     "iopub.status.busy": "2023-05-01T19:35:59.586577Z",
     "iopub.status.idle": "2023-05-01T19:35:59.590642Z",
     "shell.execute_reply": "2023-05-01T19:35:59.589773Z",
     "shell.execute_reply.started": "2023-05-01T19:35:59.586948Z"
    }
   },
   "outputs": [],
   "source": [
    "# Create a new dataframe with only the columns we need."
   ]
  },
  {
   "cell_type": "code",
   "execution_count": 60,
   "id": "d934a0ff",
   "metadata": {
    "ExecuteTime": {
     "end_time": "2023-03-14T21:29:09.609910Z",
     "start_time": "2023-03-14T21:29:09.545258Z"
    },
    "execution": {
     "iopub.execute_input": "2023-05-01T19:35:59.592937Z",
     "iopub.status.busy": "2023-05-01T19:35:59.592389Z",
     "iopub.status.idle": "2023-05-01T19:35:59.637640Z",
     "shell.execute_reply": "2023-05-01T19:35:59.637086Z",
     "shell.execute_reply.started": "2023-05-01T19:35:59.592899Z"
    }
   },
   "outputs": [],
   "source": [
    "df_cust_age_vs_dependents = small[['age','num_dependents']]"
   ]
  },
  {
   "cell_type": "code",
   "execution_count": 61,
   "id": "97fcf3a8",
   "metadata": {
    "ExecuteTime": {
     "end_time": "2023-03-14T21:30:00.986867Z",
     "start_time": "2023-03-14T21:30:00.984313Z"
    },
    "execution": {
     "iopub.execute_input": "2023-05-01T19:35:59.639133Z",
     "iopub.status.busy": "2023-05-01T19:35:59.638919Z",
     "iopub.status.idle": "2023-05-01T19:35:59.643811Z",
     "shell.execute_reply": "2023-05-01T19:35:59.643072Z",
     "shell.execute_reply.started": "2023-05-01T19:35:59.639111Z"
    }
   },
   "outputs": [],
   "source": [
    "# Sanity checks."
   ]
  },
  {
   "cell_type": "code",
   "execution_count": 62,
   "id": "b2b748e9",
   "metadata": {
    "ExecuteTime": {
     "end_time": "2023-03-14T21:30:23.288951Z",
     "start_time": "2023-03-14T21:30:23.281470Z"
    },
    "execution": {
     "iopub.execute_input": "2023-05-01T19:35:59.645196Z",
     "iopub.status.busy": "2023-05-01T19:35:59.644926Z",
     "iopub.status.idle": "2023-05-01T19:35:59.654429Z",
     "shell.execute_reply": "2023-05-01T19:35:59.653553Z",
     "shell.execute_reply.started": "2023-05-01T19:35:59.645166Z"
    }
   },
   "outputs": [
    {
     "name": "stdout",
     "output_type": "stream",
     "text": [
      "<class 'pandas.core.frame.DataFrame'>\n",
      "Int64Index: 9721098 entries, 0 to 32404850\n",
      "Data columns (total 2 columns):\n",
      " #   Column          Dtype\n",
      "---  ------          -----\n",
      " 0   age             int64\n",
      " 1   num_dependents  int64\n",
      "dtypes: int64(2)\n",
      "memory usage: 480.5 MB\n"
     ]
    }
   ],
   "source": [
    "df_cust_age_vs_dependents.info(memory_usage = 'deep')"
   ]
  },
  {
   "cell_type": "code",
   "execution_count": 63,
   "id": "df22cb2b",
   "metadata": {
    "ExecuteTime": {
     "end_time": "2023-03-14T21:30:46.510898Z",
     "start_time": "2023-03-14T21:30:46.504109Z"
    },
    "execution": {
     "iopub.execute_input": "2023-05-01T19:35:59.656470Z",
     "iopub.status.busy": "2023-05-01T19:35:59.655783Z",
     "iopub.status.idle": "2023-05-01T19:35:59.666206Z",
     "shell.execute_reply": "2023-05-01T19:35:59.665297Z",
     "shell.execute_reply.started": "2023-05-01T19:35:59.656434Z"
    }
   },
   "outputs": [
    {
     "data": {
      "text/html": [
       "<div>\n",
       "<style scoped>\n",
       "    .dataframe tbody tr th:only-of-type {\n",
       "        vertical-align: middle;\n",
       "    }\n",
       "\n",
       "    .dataframe tbody tr th {\n",
       "        vertical-align: top;\n",
       "    }\n",
       "\n",
       "    .dataframe thead th {\n",
       "        text-align: right;\n",
       "    }\n",
       "</style>\n",
       "<table border=\"1\" class=\"dataframe\">\n",
       "  <thead>\n",
       "    <tr style=\"text-align: right;\">\n",
       "      <th></th>\n",
       "      <th>age</th>\n",
       "      <th>num_dependents</th>\n",
       "    </tr>\n",
       "  </thead>\n",
       "  <tbody>\n",
       "    <tr>\n",
       "      <th>0</th>\n",
       "      <td>81</td>\n",
       "      <td>1</td>\n",
       "    </tr>\n",
       "    <tr>\n",
       "      <th>2</th>\n",
       "      <td>81</td>\n",
       "      <td>1</td>\n",
       "    </tr>\n",
       "    <tr>\n",
       "      <th>3</th>\n",
       "      <td>81</td>\n",
       "      <td>1</td>\n",
       "    </tr>\n",
       "    <tr>\n",
       "      <th>6</th>\n",
       "      <td>81</td>\n",
       "      <td>1</td>\n",
       "    </tr>\n",
       "    <tr>\n",
       "      <th>10</th>\n",
       "      <td>81</td>\n",
       "      <td>1</td>\n",
       "    </tr>\n",
       "  </tbody>\n",
       "</table>\n",
       "</div>"
      ],
      "text/plain": [
       "    age  num_dependents\n",
       "0    81               1\n",
       "2    81               1\n",
       "3    81               1\n",
       "6    81               1\n",
       "10   81               1"
      ]
     },
     "execution_count": 63,
     "metadata": {},
     "output_type": "execute_result"
    }
   ],
   "source": [
    "df_cust_age_vs_dependents.head()"
   ]
  },
  {
   "cell_type": "code",
   "execution_count": 64,
   "id": "07293665",
   "metadata": {
    "ExecuteTime": {
     "end_time": "2023-03-14T21:30:54.706972Z",
     "start_time": "2023-03-14T21:30:54.375860Z"
    },
    "execution": {
     "iopub.execute_input": "2023-05-01T19:35:59.668748Z",
     "iopub.status.busy": "2023-05-01T19:35:59.667738Z",
     "iopub.status.idle": "2023-05-01T19:35:59.984307Z",
     "shell.execute_reply": "2023-05-01T19:35:59.983433Z",
     "shell.execute_reply.started": "2023-05-01T19:35:59.668712Z"
    }
   },
   "outputs": [
    {
     "data": {
      "text/html": [
       "<div>\n",
       "<style scoped>\n",
       "    .dataframe tbody tr th:only-of-type {\n",
       "        vertical-align: middle;\n",
       "    }\n",
       "\n",
       "    .dataframe tbody tr th {\n",
       "        vertical-align: top;\n",
       "    }\n",
       "\n",
       "    .dataframe thead th {\n",
       "        text-align: right;\n",
       "    }\n",
       "</style>\n",
       "<table border=\"1\" class=\"dataframe\">\n",
       "  <thead>\n",
       "    <tr style=\"text-align: right;\">\n",
       "      <th></th>\n",
       "      <th>age</th>\n",
       "      <th>num_dependents</th>\n",
       "    </tr>\n",
       "  </thead>\n",
       "  <tbody>\n",
       "    <tr>\n",
       "      <th>count</th>\n",
       "      <td>9.721098e+06</td>\n",
       "      <td>9.721098e+06</td>\n",
       "    </tr>\n",
       "    <tr>\n",
       "      <th>mean</th>\n",
       "      <td>4.946312e+01</td>\n",
       "      <td>1.501945e+00</td>\n",
       "    </tr>\n",
       "    <tr>\n",
       "      <th>std</th>\n",
       "      <td>1.848655e+01</td>\n",
       "      <td>1.118746e+00</td>\n",
       "    </tr>\n",
       "    <tr>\n",
       "      <th>min</th>\n",
       "      <td>1.800000e+01</td>\n",
       "      <td>0.000000e+00</td>\n",
       "    </tr>\n",
       "    <tr>\n",
       "      <th>25%</th>\n",
       "      <td>3.300000e+01</td>\n",
       "      <td>1.000000e+00</td>\n",
       "    </tr>\n",
       "    <tr>\n",
       "      <th>50%</th>\n",
       "      <td>4.900000e+01</td>\n",
       "      <td>2.000000e+00</td>\n",
       "    </tr>\n",
       "    <tr>\n",
       "      <th>75%</th>\n",
       "      <td>6.500000e+01</td>\n",
       "      <td>3.000000e+00</td>\n",
       "    </tr>\n",
       "    <tr>\n",
       "      <th>max</th>\n",
       "      <td>8.100000e+01</td>\n",
       "      <td>3.000000e+00</td>\n",
       "    </tr>\n",
       "  </tbody>\n",
       "</table>\n",
       "</div>"
      ],
      "text/plain": [
       "                age  num_dependents\n",
       "count  9.721098e+06    9.721098e+06\n",
       "mean   4.946312e+01    1.501945e+00\n",
       "std    1.848655e+01    1.118746e+00\n",
       "min    1.800000e+01    0.000000e+00\n",
       "25%    3.300000e+01    1.000000e+00\n",
       "50%    4.900000e+01    2.000000e+00\n",
       "75%    6.500000e+01    3.000000e+00\n",
       "max    8.100000e+01    3.000000e+00"
      ]
     },
     "execution_count": 64,
     "metadata": {},
     "output_type": "execute_result"
    }
   ],
   "source": [
    "df_cust_age_vs_dependents.describe()"
   ]
  },
  {
   "cell_type": "code",
   "execution_count": 65,
   "id": "3b317078",
   "metadata": {
    "ExecuteTime": {
     "end_time": "2023-03-14T21:31:19.904612Z",
     "start_time": "2023-03-14T21:31:19.900281Z"
    },
    "execution": {
     "iopub.execute_input": "2023-05-01T19:35:59.986018Z",
     "iopub.status.busy": "2023-05-01T19:35:59.985690Z",
     "iopub.status.idle": "2023-05-01T19:35:59.994586Z",
     "shell.execute_reply": "2023-05-01T19:35:59.992732Z",
     "shell.execute_reply.started": "2023-05-01T19:35:59.985980Z"
    }
   },
   "outputs": [
    {
     "data": {
      "text/plain": [
       "0"
      ]
     },
     "execution_count": 65,
     "metadata": {},
     "output_type": "execute_result"
    }
   ],
   "source": [
    "len(small) - len(df_cust_age_vs_dependents)"
   ]
  },
  {
   "cell_type": "code",
   "execution_count": 66,
   "id": "a8198b00",
   "metadata": {
    "ExecuteTime": {
     "end_time": "2023-03-14T21:33:53.533073Z",
     "start_time": "2023-03-14T21:32:40.083654Z"
    },
    "execution": {
     "iopub.execute_input": "2023-05-01T19:35:59.996507Z",
     "iopub.status.busy": "2023-05-01T19:35:59.995762Z",
     "iopub.status.idle": "2023-05-01T19:37:02.232248Z",
     "shell.execute_reply": "2023-05-01T19:37:02.231581Z",
     "shell.execute_reply.started": "2023-05-01T19:35:59.996481Z"
    }
   },
   "outputs": [
    {
     "data": {
      "image/png": "[encoded data removed]",
      "text/plain": [
       "<Figure size 432x288 with 1 Axes>"
      ]
     },
     "metadata": {
      "needs_background": "light"
     },
     "output_type": "display_data"
    }
   ],
   "source": [
    "line_df_cust_age_vs_dependents_30 = sns.lineplot(data = df_cust_age_vs_dependents, x = 'age',y = 'num_dependents')"
   ]
  },
  {
   "cell_type": "markdown",
   "id": "20597732",
   "metadata": {},
   "source": [
    "### The line chart above graphs customers' number of dependents vs. customer age.  No relationship is immediately clear."
   ]
  },
  {
   "cell_type": "code",
   "execution_count": 67,
   "id": "4ebd2f19",
   "metadata": {
    "ExecuteTime": {
     "end_time": "2023-03-14T21:35:15.117082Z",
     "start_time": "2023-03-14T21:35:15.068500Z"
    },
    "execution": {
     "iopub.execute_input": "2023-05-01T19:37:02.233846Z",
     "iopub.status.busy": "2023-05-01T19:37:02.233230Z",
     "iopub.status.idle": "2023-05-01T19:37:02.297572Z",
     "shell.execute_reply": "2023-05-01T19:37:02.296779Z",
     "shell.execute_reply.started": "2023-05-01T19:37:02.233818Z"
    }
   },
   "outputs": [],
   "source": [
    "line_df_cust_age_vs_dependents_30.figure.savefig(os.path.join(path, '04-Analysis','Visualizations', 'line_df_cust_age_vs_dependents_30.png'))"
   ]
  },
  {
   "cell_type": "markdown",
   "id": "afa0a4f8",
   "metadata": {},
   "source": [
    "## Step 7:  You’ll also need to explore whether there’s a connection between age and spending power (income). To visualize this relationship, create a scatterplot using the sns.scatterplot() function.\n",
    "\n",
    "    In a markdown cell beneath your scatterplot, describe what the scatterplot shows.\n"
   ]
  },
  {
   "cell_type": "code",
   "execution_count": 68,
   "id": "91db6bdb",
   "metadata": {
    "ExecuteTime": {
     "end_time": "2023-03-14T21:40:06.604837Z",
     "start_time": "2023-03-14T21:40:06.601501Z"
    },
    "execution": {
     "iopub.execute_input": "2023-05-01T19:37:02.300329Z",
     "iopub.status.busy": "2023-05-01T19:37:02.299756Z",
     "iopub.status.idle": "2023-05-01T19:37:02.304484Z",
     "shell.execute_reply": "2023-05-01T19:37:02.303600Z",
     "shell.execute_reply.started": "2023-05-01T19:37:02.300287Z"
    }
   },
   "outputs": [],
   "source": [
    "# Create a new dataframe with only the columns we need."
   ]
  },
  {
   "cell_type": "code",
   "execution_count": 69,
   "id": "7b090d74",
   "metadata": {
    "ExecuteTime": {
     "end_time": "2023-03-14T21:40:30.090611Z",
     "start_time": "2023-03-14T21:40:30.025484Z"
    },
    "execution": {
     "iopub.execute_input": "2023-05-01T19:37:02.306332Z",
     "iopub.status.busy": "2023-05-01T19:37:02.305758Z",
     "iopub.status.idle": "2023-05-01T19:37:02.365746Z",
     "shell.execute_reply": "2023-05-01T19:37:02.365120Z",
     "shell.execute_reply.started": "2023-05-01T19:37:02.306292Z"
    }
   },
   "outputs": [],
   "source": [
    "df_cust_age_vs_income = small[['age','income']]"
   ]
  },
  {
   "cell_type": "code",
   "execution_count": 70,
   "id": "235461e0",
   "metadata": {
    "ExecuteTime": {
     "end_time": "2023-03-14T21:40:41.053503Z",
     "start_time": "2023-03-14T21:40:41.050606Z"
    },
    "execution": {
     "iopub.execute_input": "2023-05-01T19:37:02.367617Z",
     "iopub.status.busy": "2023-05-01T19:37:02.367182Z",
     "iopub.status.idle": "2023-05-01T19:37:02.371393Z",
     "shell.execute_reply": "2023-05-01T19:37:02.370232Z",
     "shell.execute_reply.started": "2023-05-01T19:37:02.367583Z"
    }
   },
   "outputs": [],
   "source": [
    "# Sanity checks."
   ]
  },
  {
   "cell_type": "code",
   "execution_count": 71,
   "id": "f093d08d",
   "metadata": {
    "ExecuteTime": {
     "end_time": "2023-03-14T21:41:01.219889Z",
     "start_time": "2023-03-14T21:41:01.212372Z"
    },
    "execution": {
     "iopub.execute_input": "2023-05-01T19:37:02.373224Z",
     "iopub.status.busy": "2023-05-01T19:37:02.372875Z",
     "iopub.status.idle": "2023-05-01T19:37:02.383156Z",
     "shell.execute_reply": "2023-05-01T19:37:02.382077Z",
     "shell.execute_reply.started": "2023-05-01T19:37:02.373185Z"
    }
   },
   "outputs": [
    {
     "name": "stdout",
     "output_type": "stream",
     "text": [
      "<class 'pandas.core.frame.DataFrame'>\n",
      "Int64Index: 9721098 entries, 0 to 32404850\n",
      "Data columns (total 2 columns):\n",
      " #   Column  Dtype\n",
      "---  ------  -----\n",
      " 0   age     int64\n",
      " 1   income  int64\n",
      "dtypes: int64(2)\n",
      "memory usage: 480.5 MB\n"
     ]
    }
   ],
   "source": [
    "df_cust_age_vs_income.info(memory_usage = 'deep')"
   ]
  },
  {
   "cell_type": "code",
   "execution_count": 72,
   "id": "52f521ed",
   "metadata": {
    "ExecuteTime": {
     "end_time": "2023-03-14T21:41:24.830512Z",
     "start_time": "2023-03-14T21:41:24.823467Z"
    },
    "execution": {
     "iopub.execute_input": "2023-05-01T19:37:02.385797Z",
     "iopub.status.busy": "2023-05-01T19:37:02.384737Z",
     "iopub.status.idle": "2023-05-01T19:37:02.397701Z",
     "shell.execute_reply": "2023-05-01T19:37:02.397098Z",
     "shell.execute_reply.started": "2023-05-01T19:37:02.385745Z"
    }
   },
   "outputs": [
    {
     "data": {
      "text/html": [
       "<div>\n",
       "<style scoped>\n",
       "    .dataframe tbody tr th:only-of-type {\n",
       "        vertical-align: middle;\n",
       "    }\n",
       "\n",
       "    .dataframe tbody tr th {\n",
       "        vertical-align: top;\n",
       "    }\n",
       "\n",
       "    .dataframe thead th {\n",
       "        text-align: right;\n",
       "    }\n",
       "</style>\n",
       "<table border=\"1\" class=\"dataframe\">\n",
       "  <thead>\n",
       "    <tr style=\"text-align: right;\">\n",
       "      <th></th>\n",
       "      <th>age</th>\n",
       "      <th>income</th>\n",
       "    </tr>\n",
       "  </thead>\n",
       "  <tbody>\n",
       "    <tr>\n",
       "      <th>0</th>\n",
       "      <td>81</td>\n",
       "      <td>49620</td>\n",
       "    </tr>\n",
       "    <tr>\n",
       "      <th>2</th>\n",
       "      <td>81</td>\n",
       "      <td>49620</td>\n",
       "    </tr>\n",
       "    <tr>\n",
       "      <th>3</th>\n",
       "      <td>81</td>\n",
       "      <td>49620</td>\n",
       "    </tr>\n",
       "    <tr>\n",
       "      <th>6</th>\n",
       "      <td>81</td>\n",
       "      <td>49620</td>\n",
       "    </tr>\n",
       "    <tr>\n",
       "      <th>10</th>\n",
       "      <td>81</td>\n",
       "      <td>49620</td>\n",
       "    </tr>\n",
       "  </tbody>\n",
       "</table>\n",
       "</div>"
      ],
      "text/plain": [
       "    age  income\n",
       "0    81   49620\n",
       "2    81   49620\n",
       "3    81   49620\n",
       "6    81   49620\n",
       "10   81   49620"
      ]
     },
     "execution_count": 72,
     "metadata": {},
     "output_type": "execute_result"
    }
   ],
   "source": [
    "df_cust_age_vs_income.head()"
   ]
  },
  {
   "cell_type": "code",
   "execution_count": 73,
   "id": "628ca6c8",
   "metadata": {
    "ExecuteTime": {
     "end_time": "2023-03-14T21:41:32.021838Z",
     "start_time": "2023-03-14T21:41:31.672729Z"
    },
    "execution": {
     "iopub.execute_input": "2023-05-01T19:37:02.399465Z",
     "iopub.status.busy": "2023-05-01T19:37:02.398712Z",
     "iopub.status.idle": "2023-05-01T19:37:02.757300Z",
     "shell.execute_reply": "2023-05-01T19:37:02.756764Z",
     "shell.execute_reply.started": "2023-05-01T19:37:02.399418Z"
    }
   },
   "outputs": [
    {
     "data": {
      "text/html": [
       "<div>\n",
       "<style scoped>\n",
       "    .dataframe tbody tr th:only-of-type {\n",
       "        vertical-align: middle;\n",
       "    }\n",
       "\n",
       "    .dataframe tbody tr th {\n",
       "        vertical-align: top;\n",
       "    }\n",
       "\n",
       "    .dataframe thead th {\n",
       "        text-align: right;\n",
       "    }\n",
       "</style>\n",
       "<table border=\"1\" class=\"dataframe\">\n",
       "  <thead>\n",
       "    <tr style=\"text-align: right;\">\n",
       "      <th></th>\n",
       "      <th>age</th>\n",
       "      <th>income</th>\n",
       "    </tr>\n",
       "  </thead>\n",
       "  <tbody>\n",
       "    <tr>\n",
       "      <th>count</th>\n",
       "      <td>9.721098e+06</td>\n",
       "      <td>9.721098e+06</td>\n",
       "    </tr>\n",
       "    <tr>\n",
       "      <th>mean</th>\n",
       "      <td>4.946312e+01</td>\n",
       "      <td>9.944555e+04</td>\n",
       "    </tr>\n",
       "    <tr>\n",
       "      <th>std</th>\n",
       "      <td>1.848655e+01</td>\n",
       "      <td>4.308561e+04</td>\n",
       "    </tr>\n",
       "    <tr>\n",
       "      <th>min</th>\n",
       "      <td>1.800000e+01</td>\n",
       "      <td>2.590300e+04</td>\n",
       "    </tr>\n",
       "    <tr>\n",
       "      <th>25%</th>\n",
       "      <td>3.300000e+01</td>\n",
       "      <td>6.699100e+04</td>\n",
       "    </tr>\n",
       "    <tr>\n",
       "      <th>50%</th>\n",
       "      <td>4.900000e+01</td>\n",
       "      <td>9.663000e+04</td>\n",
       "    </tr>\n",
       "    <tr>\n",
       "      <th>75%</th>\n",
       "      <td>6.500000e+01</td>\n",
       "      <td>1.279160e+05</td>\n",
       "    </tr>\n",
       "    <tr>\n",
       "      <th>max</th>\n",
       "      <td>8.100000e+01</td>\n",
       "      <td>5.939010e+05</td>\n",
       "    </tr>\n",
       "  </tbody>\n",
       "</table>\n",
       "</div>"
      ],
      "text/plain": [
       "                age        income\n",
       "count  9.721098e+06  9.721098e+06\n",
       "mean   4.946312e+01  9.944555e+04\n",
       "std    1.848655e+01  4.308561e+04\n",
       "min    1.800000e+01  2.590300e+04\n",
       "25%    3.300000e+01  6.699100e+04\n",
       "50%    4.900000e+01  9.663000e+04\n",
       "75%    6.500000e+01  1.279160e+05\n",
       "max    8.100000e+01  5.939010e+05"
      ]
     },
     "execution_count": 73,
     "metadata": {},
     "output_type": "execute_result"
    }
   ],
   "source": [
    "df_cust_age_vs_income.describe()"
   ]
  },
  {
   "cell_type": "code",
   "execution_count": 74,
   "id": "6cdc5bd3",
   "metadata": {
    "ExecuteTime": {
     "end_time": "2023-03-14T21:42:04.485885Z",
     "start_time": "2023-03-14T21:42:04.481406Z"
    },
    "execution": {
     "iopub.execute_input": "2023-05-01T19:37:02.759107Z",
     "iopub.status.busy": "2023-05-01T19:37:02.758167Z",
     "iopub.status.idle": "2023-05-01T19:37:02.765934Z",
     "shell.execute_reply": "2023-05-01T19:37:02.765057Z",
     "shell.execute_reply.started": "2023-05-01T19:37:02.759059Z"
    }
   },
   "outputs": [
    {
     "data": {
      "text/plain": [
       "0"
      ]
     },
     "execution_count": 74,
     "metadata": {},
     "output_type": "execute_result"
    }
   ],
   "source": [
    "len(small) - len(df_cust_age_vs_income)"
   ]
  },
  {
   "cell_type": "code",
   "execution_count": 75,
   "id": "0254e7e9",
   "metadata": {
    "ExecuteTime": {
     "end_time": "2023-03-14T21:43:54.545983Z",
     "start_time": "2023-03-14T21:43:36.259649Z"
    },
    "execution": {
     "iopub.execute_input": "2023-05-01T19:37:02.768216Z",
     "iopub.status.busy": "2023-05-01T19:37:02.767660Z",
     "iopub.status.idle": "2023-05-01T19:37:28.705730Z",
     "shell.execute_reply": "2023-05-01T19:37:28.704924Z",
     "shell.execute_reply.started": "2023-05-01T19:37:02.768168Z"
    }
   },
   "outputs": [
    {
     "data": {
      "image/png": "[encoded data removed]",
      "text/plain": [
       "<Figure size 432x288 with 1 Axes>"
      ]
     },
     "metadata": {
      "needs_background": "light"
     },
     "output_type": "display_data"
    }
   ],
   "source": [
    "scatterplot_df_cust_age_vs_income_30 = sns.scatterplot(x = 'age', y = 'income',data = df_cust_age_vs_income)"
   ]
  },
  {
   "cell_type": "markdown",
   "id": "660c9ddb",
   "metadata": {},
   "source": [
    "### This scatterplot of income vs. age appears to show a marked increase in incomes for customers over the age of forty."
   ]
  },
  {
   "cell_type": "code",
   "execution_count": 76,
   "id": "70b0088f",
   "metadata": {
    "ExecuteTime": {
     "end_time": "2023-03-14T21:46:34.125717Z",
     "start_time": "2023-03-14T21:46:17.226219Z"
    },
    "execution": {
     "iopub.execute_input": "2023-05-01T19:37:28.707005Z",
     "iopub.status.busy": "2023-05-01T19:37:28.706753Z",
     "iopub.status.idle": "2023-05-01T19:37:53.950297Z",
     "shell.execute_reply": "2023-05-01T19:37:53.949599Z",
     "shell.execute_reply.started": "2023-05-01T19:37:28.706980Z"
    }
   },
   "outputs": [],
   "source": [
    "scatterplot_df_cust_age_vs_income_30.figure.savefig(os.path.join(path, '04-Analysis','Visualizations', 'scatterplot_df_cust_age_vs_income_30.png'))"
   ]
  },
  {
   "cell_type": "markdown",
   "id": "de028382",
   "metadata": {},
   "source": [
    "## Step 8:  Export your visualizations as “.png” files in your relevant project folder."
   ]
  },
  {
   "cell_type": "code",
   "execution_count": 77,
   "id": "30213ed7",
   "metadata": {
    "ExecuteTime": {
     "end_time": "2023-03-14T21:48:50.720347Z",
     "start_time": "2023-03-14T21:48:50.717472Z"
    },
    "execution": {
     "iopub.execute_input": "2023-05-01T19:37:53.952017Z",
     "iopub.status.busy": "2023-05-01T19:37:53.951405Z",
     "iopub.status.idle": "2023-05-01T19:37:53.955701Z",
     "shell.execute_reply": "2023-05-01T19:37:53.954848Z",
     "shell.execute_reply.started": "2023-05-01T19:37:53.951994Z"
    },
    "tags": []
   },
   "outputs": [],
   "source": [
    "# Already done at each step, above.  Just habit."
   ]
  }
 ],
 "metadata": {
  "kernelspec": {
   "display_name": "Python 3 (ipykernel)",
   "language": "python",
   "name": "python3"
  },
  "language_info": {
   "codemirror_mode": {
    "name": "ipython",
    "version": 3
   },
   "file_extension": ".py",
   "mimetype": "text/x-python",
   "name": "python",
   "nbconvert_exporter": "python",
   "pygments_lexer": "ipython3",
   "version": "3.9.12"
  }
 },
 "nbformat": 4,
 "nbformat_minor": 5
}
