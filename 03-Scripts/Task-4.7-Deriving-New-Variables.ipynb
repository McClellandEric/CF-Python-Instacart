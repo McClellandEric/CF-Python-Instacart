{
 "cells": [
  {
   "cell_type": "markdown",
   "id": "dec798ac",
   "metadata": {},
   "source": [
    "# Task 4.7: Deriving New Variables"
   ]
  },
  {
   "cell_type": "markdown",
   "id": "62abd936",
   "metadata": {},
   "source": [
    "# CAUTION!  I've moved to an EC2 instance with 32 GiB of RAM - and the option to add more RAM pretty cheaply - so I can afford to work with whatever size DataFrame this course is likely to use, without needing to carve out subsets or make any optimizations.  Please let me know if this poses a problem in evaluating my submissions."
   ]
  },
  {
   "cell_type": "markdown",
   "id": "18ca81cd",
   "metadata": {},
   "source": [
    "## Reusing notebook from Exercise 4.7, as suggested by the Task instructions.\n",
    "## In turn, this incorporates the prior Notebook for Task 4.6, Steps #3-8 to pre-load data."
   ]
  },
  {
   "cell_type": "markdown",
   "id": "32127a6a",
   "metadata": {},
   "source": [
    "# See \"Beginning TASK 4.7\" - far down! - to review this task submission."
   ]
  },
  {
   "cell_type": "code",
   "execution_count": 1,
   "id": "c4c2d508",
   "metadata": {
    "ExecuteTime": {
     "end_time": "2022-11-09T23:22:39.883969Z",
     "start_time": "2022-11-09T23:22:39.880121Z"
    },
    "execution": {
     "iopub.execute_input": "2023-04-25T13:38:48.622124Z",
     "iopub.status.busy": "2023-04-25T13:38:48.621833Z",
     "iopub.status.idle": "2023-04-25T13:38:48.627214Z",
     "shell.execute_reply": "2023-04-25T13:38:48.626259Z",
     "shell.execute_reply.started": "2023-04-25T13:38:48.622055Z"
    }
   },
   "outputs": [],
   "source": [
    "# Old stuff here, first, with the addition of Execution Time information."
   ]
  },
  {
   "cell_type": "markdown",
   "id": "8648cd3c",
   "metadata": {},
   "source": [
    "## Step 3:  In a new notebook, import the orders_products_combined dataframe from the pickle file you just saved."
   ]
  },
  {
   "cell_type": "code",
   "execution_count": 2,
   "id": "8e54f456",
   "metadata": {
    "ExecuteTime": {
     "end_time": "2022-11-09T23:22:40.640538Z",
     "start_time": "2022-11-09T23:22:39.885947Z"
    },
    "execution": {
     "iopub.execute_input": "2023-04-25T13:38:48.629953Z",
     "iopub.status.busy": "2023-04-25T13:38:48.629047Z",
     "iopub.status.idle": "2023-04-25T13:38:48.987793Z",
     "shell.execute_reply": "2023-04-25T13:38:48.986909Z",
     "shell.execute_reply.started": "2023-04-25T13:38:48.629901Z"
    }
   },
   "outputs": [],
   "source": [
    "# Import libraries\n",
    "import pandas as pd\n",
    "import numpy as np\n",
    "import os"
   ]
  },
  {
   "cell_type": "code",
   "execution_count": 3,
   "id": "c633b30b",
   "metadata": {
    "ExecuteTime": {
     "end_time": "2022-11-09T23:22:40.645445Z",
     "start_time": "2022-11-09T23:22:40.642733Z"
    },
    "execution": {
     "iopub.execute_input": "2023-04-25T13:38:48.989742Z",
     "iopub.status.busy": "2023-04-25T13:38:48.989378Z",
     "iopub.status.idle": "2023-04-25T13:38:48.995529Z",
     "shell.execute_reply": "2023-04-25T13:38:48.994753Z",
     "shell.execute_reply.started": "2023-04-25T13:38:48.989717Z"
    }
   },
   "outputs": [],
   "source": [
    "# Starting with Exercise 4.7, import additional libraries I've discovered thanks to Lubov, especially the time library.\n",
    "import time\n",
    "import string\n",
    "import random"
   ]
  },
  {
   "cell_type": "code",
   "execution_count": 4,
   "id": "0cd6955d",
   "metadata": {
    "ExecuteTime": {
     "end_time": "2022-11-09T23:22:40.654539Z",
     "start_time": "2022-11-09T23:22:40.647302Z"
    },
    "execution": {
     "iopub.execute_input": "2023-04-25T13:38:48.997210Z",
     "iopub.status.busy": "2023-04-25T13:38:48.996635Z",
     "iopub.status.idle": "2023-04-25T13:38:48.999856Z",
     "shell.execute_reply": "2023-04-25T13:38:48.999332Z",
     "shell.execute_reply.started": "2023-04-25T13:38:48.997186Z"
    }
   },
   "outputs": [],
   "source": [
    "# Set a PATH variable."
   ]
  },
  {
   "cell_type": "code",
   "execution_count": 5,
   "id": "ab9613ed",
   "metadata": {
    "ExecuteTime": {
     "end_time": "2022-11-09T23:22:40.659631Z",
     "start_time": "2022-11-09T23:22:40.657207Z"
    },
    "execution": {
     "iopub.execute_input": "2023-04-25T13:38:49.003325Z",
     "iopub.status.busy": "2023-04-25T13:38:49.002703Z",
     "iopub.status.idle": "2023-04-25T13:38:49.006696Z",
     "shell.execute_reply": "2023-04-25T13:38:49.005934Z",
     "shell.execute_reply.started": "2023-04-25T13:38:49.003288Z"
    }
   },
   "outputs": [],
   "source": [
    "# Linux PATH - Sadly, my Linux system with 8GB of total RAM could not import the new df_ords_prior DataFrame.\n",
    "# BUT, now I have moved again, to an AWS EC2 instance that should be able to handle this."
   ]
  },
  {
   "cell_type": "code",
   "execution_count": 6,
   "id": "75ebf727",
   "metadata": {
    "ExecuteTime": {
     "end_time": "2022-11-09T23:22:40.664687Z",
     "start_time": "2022-11-09T23:22:40.661141Z"
    },
    "execution": {
     "iopub.execute_input": "2023-04-25T13:38:49.008671Z",
     "iopub.status.busy": "2023-04-25T13:38:49.008183Z",
     "iopub.status.idle": "2023-04-25T13:38:49.012987Z",
     "shell.execute_reply": "2023-04-25T13:38:49.012192Z",
     "shell.execute_reply.started": "2023-04-25T13:38:49.008638Z"
    }
   },
   "outputs": [],
   "source": [
    "path = (r'~/careerfoundry/tasks/data-immersion/Achievement4/Instacart-Basket-Analysis')"
   ]
  },
  {
   "cell_type": "code",
   "execution_count": 7,
   "id": "9671f3f5",
   "metadata": {
    "ExecuteTime": {
     "end_time": "2022-11-09T23:22:40.669944Z",
     "start_time": "2022-11-09T23:22:40.666469Z"
    },
    "execution": {
     "iopub.execute_input": "2023-04-25T13:38:49.014479Z",
     "iopub.status.busy": "2023-04-25T13:38:49.014237Z",
     "iopub.status.idle": "2023-04-25T13:38:49.020241Z",
     "shell.execute_reply": "2023-04-25T13:38:49.019542Z",
     "shell.execute_reply.started": "2023-04-25T13:38:49.014455Z"
    }
   },
   "outputs": [],
   "source": [
    "# windoze PATH - The windoze laptop I bought for Excel and Tableau also has 16GB of RAM, so I migrated there."
   ]
  },
  {
   "cell_type": "code",
   "execution_count": 8,
   "id": "b3cae9d0",
   "metadata": {
    "ExecuteTime": {
     "end_time": "2022-11-09T23:22:40.674470Z",
     "start_time": "2022-11-09T23:22:40.671525Z"
    },
    "execution": {
     "iopub.execute_input": "2023-04-25T13:38:49.022224Z",
     "iopub.status.busy": "2023-04-25T13:38:49.021550Z",
     "iopub.status.idle": "2023-04-25T13:38:49.025160Z",
     "shell.execute_reply": "2023-04-25T13:38:49.024645Z",
     "shell.execute_reply.started": "2023-04-25T13:38:49.022195Z"
    }
   },
   "outputs": [],
   "source": [
    "## path = (r'C:\\Users\\emccc\\OneDrive\\Documents\\CareerFoundry\\Achievement-4\\Instacart-Basket-Analysis')"
   ]
  },
  {
   "cell_type": "code",
   "execution_count": 9,
   "id": "67aaea8c",
   "metadata": {
    "ExecuteTime": {
     "end_time": "2022-11-09T23:22:40.679376Z",
     "start_time": "2022-11-09T23:22:40.676053Z"
    },
    "execution": {
     "iopub.execute_input": "2023-04-25T13:38:49.026475Z",
     "iopub.status.busy": "2023-04-25T13:38:49.026166Z",
     "iopub.status.idle": "2023-04-25T13:38:49.031708Z",
     "shell.execute_reply": "2023-04-25T13:38:49.030527Z",
     "shell.execute_reply.started": "2023-04-25T13:38:49.026451Z"
    }
   },
   "outputs": [],
   "source": [
    "# Read the orders_products_combined.pkl file into a new DataFrame, df_orders_products_combined ."
   ]
  },
  {
   "cell_type": "code",
   "execution_count": 10,
   "id": "586fbc98",
   "metadata": {
    "ExecuteTime": {
     "end_time": "2022-11-09T23:23:00.230557Z",
     "start_time": "2022-11-09T23:22:40.681616Z"
    },
    "execution": {
     "iopub.execute_input": "2023-04-25T13:38:49.033039Z",
     "iopub.status.busy": "2023-04-25T13:38:49.032833Z",
     "iopub.status.idle": "2023-04-25T13:38:50.430736Z",
     "shell.execute_reply": "2023-04-25T13:38:50.430201Z",
     "shell.execute_reply.started": "2023-04-25T13:38:49.033017Z"
    }
   },
   "outputs": [],
   "source": [
    "df_orders_products_combined = pd.read_pickle(os.path.join(path, '02-Data', 'Prepared-Data', 'orders_products_combined.pkl'))"
   ]
  },
  {
   "cell_type": "markdown",
   "id": "33fe0c72",
   "metadata": {},
   "source": [
    "## Step #4:  Check the shape of the imported dataframe (it should be the same as the one you exported—always check!)."
   ]
  },
  {
   "cell_type": "code",
   "execution_count": 11,
   "id": "8e3fa8f9",
   "metadata": {
    "ExecuteTime": {
     "end_time": "2022-11-09T23:23:00.236189Z",
     "start_time": "2022-11-09T23:23:00.233857Z"
    },
    "execution": {
     "iopub.execute_input": "2023-04-25T13:38:50.433907Z",
     "iopub.status.busy": "2023-04-25T13:38:50.432974Z",
     "iopub.status.idle": "2023-04-25T13:38:50.438030Z",
     "shell.execute_reply": "2023-04-25T13:38:50.437394Z",
     "shell.execute_reply.started": "2023-04-25T13:38:50.433861Z"
    }
   },
   "outputs": [],
   "source": [
    "# Basic checking for comparison to the previous incarnation as, \"df_merged_large\""
   ]
  },
  {
   "cell_type": "code",
   "execution_count": 12,
   "id": "30a246b6",
   "metadata": {
    "ExecuteTime": {
     "end_time": "2022-11-09T23:23:00.265455Z",
     "start_time": "2022-11-09T23:23:00.238046Z"
    },
    "execution": {
     "iopub.execute_input": "2023-04-25T13:38:50.439669Z",
     "iopub.status.busy": "2023-04-25T13:38:50.439240Z",
     "iopub.status.idle": "2023-04-25T13:38:50.460973Z",
     "shell.execute_reply": "2023-04-25T13:38:50.460466Z",
     "shell.execute_reply.started": "2023-04-25T13:38:50.439643Z"
    }
   },
   "outputs": [
    {
     "data": {
      "text/html": [
       "<div>\n",
       "<style scoped>\n",
       "    .dataframe tbody tr th:only-of-type {\n",
       "        vertical-align: middle;\n",
       "    }\n",
       "\n",
       "    .dataframe tbody tr th {\n",
       "        vertical-align: top;\n",
       "    }\n",
       "\n",
       "    .dataframe thead th {\n",
       "        text-align: right;\n",
       "    }\n",
       "</style>\n",
       "<table border=\"1\" class=\"dataframe\">\n",
       "  <thead>\n",
       "    <tr style=\"text-align: right;\">\n",
       "      <th></th>\n",
       "      <th>order_id</th>\n",
       "      <th>customer_id</th>\n",
       "      <th>order_number</th>\n",
       "      <th>orders_day_of_week</th>\n",
       "      <th>order_hour_of_day</th>\n",
       "      <th>days_since_prior_order</th>\n",
       "      <th>product_id</th>\n",
       "      <th>add_to_cart_order</th>\n",
       "      <th>reordered</th>\n",
       "      <th>_merge</th>\n",
       "    </tr>\n",
       "  </thead>\n",
       "  <tbody>\n",
       "    <tr>\n",
       "      <th>0</th>\n",
       "      <td>2539329</td>\n",
       "      <td>1</td>\n",
       "      <td>1</td>\n",
       "      <td>2</td>\n",
       "      <td>8</td>\n",
       "      <td>0.0</td>\n",
       "      <td>196</td>\n",
       "      <td>1</td>\n",
       "      <td>0</td>\n",
       "      <td>both</td>\n",
       "    </tr>\n",
       "    <tr>\n",
       "      <th>1</th>\n",
       "      <td>2539329</td>\n",
       "      <td>1</td>\n",
       "      <td>1</td>\n",
       "      <td>2</td>\n",
       "      <td>8</td>\n",
       "      <td>0.0</td>\n",
       "      <td>14084</td>\n",
       "      <td>2</td>\n",
       "      <td>0</td>\n",
       "      <td>both</td>\n",
       "    </tr>\n",
       "    <tr>\n",
       "      <th>2</th>\n",
       "      <td>2539329</td>\n",
       "      <td>1</td>\n",
       "      <td>1</td>\n",
       "      <td>2</td>\n",
       "      <td>8</td>\n",
       "      <td>0.0</td>\n",
       "      <td>12427</td>\n",
       "      <td>3</td>\n",
       "      <td>0</td>\n",
       "      <td>both</td>\n",
       "    </tr>\n",
       "    <tr>\n",
       "      <th>3</th>\n",
       "      <td>2539329</td>\n",
       "      <td>1</td>\n",
       "      <td>1</td>\n",
       "      <td>2</td>\n",
       "      <td>8</td>\n",
       "      <td>0.0</td>\n",
       "      <td>26088</td>\n",
       "      <td>4</td>\n",
       "      <td>0</td>\n",
       "      <td>both</td>\n",
       "    </tr>\n",
       "    <tr>\n",
       "      <th>4</th>\n",
       "      <td>2539329</td>\n",
       "      <td>1</td>\n",
       "      <td>1</td>\n",
       "      <td>2</td>\n",
       "      <td>8</td>\n",
       "      <td>0.0</td>\n",
       "      <td>26405</td>\n",
       "      <td>5</td>\n",
       "      <td>0</td>\n",
       "      <td>both</td>\n",
       "    </tr>\n",
       "  </tbody>\n",
       "</table>\n",
       "</div>"
      ],
      "text/plain": [
       "   order_id  customer_id  order_number  orders_day_of_week  order_hour_of_day  \\\n",
       "0   2539329            1             1                   2                  8   \n",
       "1   2539329            1             1                   2                  8   \n",
       "2   2539329            1             1                   2                  8   \n",
       "3   2539329            1             1                   2                  8   \n",
       "4   2539329            1             1                   2                  8   \n",
       "\n",
       "   days_since_prior_order  product_id  add_to_cart_order  reordered _merge  \n",
       "0                     0.0         196                  1          0   both  \n",
       "1                     0.0       14084                  2          0   both  \n",
       "2                     0.0       12427                  3          0   both  \n",
       "3                     0.0       26088                  4          0   both  \n",
       "4                     0.0       26405                  5          0   both  "
      ]
     },
     "execution_count": 12,
     "metadata": {},
     "output_type": "execute_result"
    }
   ],
   "source": [
    "df_orders_products_combined.head()"
   ]
  },
  {
   "cell_type": "code",
   "execution_count": 13,
   "id": "60de6585",
   "metadata": {
    "ExecuteTime": {
     "end_time": "2022-11-09T23:23:00.271568Z",
     "start_time": "2022-11-09T23:23:00.267532Z"
    },
    "execution": {
     "iopub.execute_input": "2023-04-25T13:38:50.462224Z",
     "iopub.status.busy": "2023-04-25T13:38:50.461926Z",
     "iopub.status.idle": "2023-04-25T13:38:50.467176Z",
     "shell.execute_reply": "2023-04-25T13:38:50.466399Z",
     "shell.execute_reply.started": "2023-04-25T13:38:50.462200Z"
    }
   },
   "outputs": [
    {
     "data": {
      "text/plain": [
       "(32434489, 10)"
      ]
     },
     "execution_count": 13,
     "metadata": {},
     "output_type": "execute_result"
    }
   ],
   "source": [
    "df_orders_products_combined.shape"
   ]
  },
  {
   "cell_type": "code",
   "execution_count": 14,
   "id": "f1ef74d1",
   "metadata": {
    "ExecuteTime": {
     "end_time": "2022-11-09T23:23:00.514241Z",
     "start_time": "2022-11-09T23:23:00.273479Z"
    },
    "execution": {
     "iopub.execute_input": "2023-04-25T13:38:50.468510Z",
     "iopub.status.busy": "2023-04-25T13:38:50.468140Z",
     "iopub.status.idle": "2023-04-25T13:38:50.671052Z",
     "shell.execute_reply": "2023-04-25T13:38:50.670425Z",
     "shell.execute_reply.started": "2023-04-25T13:38:50.468487Z"
    }
   },
   "outputs": [
    {
     "data": {
      "text/plain": [
       "both          32434489\n",
       "left_only            0\n",
       "right_only           0\n",
       "Name: _merge, dtype: int64"
      ]
     },
     "execution_count": 14,
     "metadata": {},
     "output_type": "execute_result"
    }
   ],
   "source": [
    "df_orders_products_combined['_merge'].value_counts()"
   ]
  },
  {
   "cell_type": "markdown",
   "id": "015368cb",
   "metadata": {},
   "source": [
    "## Step #5:  Determine a suitable way to combine the orders_products_combined dataframe with your products data set. Make sure you’re using your wrangled, cleaned, and deduped products data set stored in your “Prepared Data” folder from the previous Exercise’s task."
   ]
  },
  {
   "cell_type": "code",
   "execution_count": 15,
   "id": "9a6df680",
   "metadata": {
    "ExecuteTime": {
     "end_time": "2022-11-09T23:23:00.518520Z",
     "start_time": "2022-11-09T23:23:00.515970Z"
    },
    "execution": {
     "iopub.execute_input": "2023-04-25T13:38:50.672275Z",
     "iopub.status.busy": "2023-04-25T13:38:50.672053Z",
     "iopub.status.idle": "2023-04-25T13:38:50.677304Z",
     "shell.execute_reply": "2023-04-25T13:38:50.676161Z",
     "shell.execute_reply.started": "2023-04-25T13:38:50.672248Z"
    }
   },
   "outputs": [],
   "source": [
    "# Read the DataFrame 'df_prods_checked' from the file products_checked.csv ."
   ]
  },
  {
   "cell_type": "code",
   "execution_count": 16,
   "id": "4de10342",
   "metadata": {
    "ExecuteTime": {
     "end_time": "2022-11-09T23:23:00.595516Z",
     "start_time": "2022-11-09T23:23:00.520657Z"
    },
    "execution": {
     "iopub.execute_input": "2023-04-25T13:38:50.678730Z",
     "iopub.status.busy": "2023-04-25T13:38:50.678371Z",
     "iopub.status.idle": "2023-04-25T13:38:50.739591Z",
     "shell.execute_reply": "2023-04-25T13:38:50.738646Z",
     "shell.execute_reply.started": "2023-04-25T13:38:50.678703Z"
    }
   },
   "outputs": [],
   "source": [
    "df_prods_checked = pd.read_csv(os.path.join(path, '02-Data','Prepared-Data', 'products_checked.csv'))"
   ]
  },
  {
   "cell_type": "code",
   "execution_count": 17,
   "id": "447ee73b",
   "metadata": {
    "ExecuteTime": {
     "end_time": "2022-11-09T23:23:00.599830Z",
     "start_time": "2022-11-09T23:23:00.597712Z"
    },
    "execution": {
     "iopub.execute_input": "2023-04-25T13:38:50.741560Z",
     "iopub.status.busy": "2023-04-25T13:38:50.740831Z",
     "iopub.status.idle": "2023-04-25T13:38:50.745301Z",
     "shell.execute_reply": "2023-04-25T13:38:50.744441Z",
     "shell.execute_reply.started": "2023-04-25T13:38:50.741522Z"
    }
   },
   "outputs": [],
   "source": [
    "# Sanity checks for df_prods_checked ."
   ]
  },
  {
   "cell_type": "code",
   "execution_count": 18,
   "id": "a179bbb2",
   "metadata": {
    "ExecuteTime": {
     "end_time": "2022-11-09T23:23:00.605252Z",
     "start_time": "2022-11-09T23:23:00.602007Z"
    },
    "execution": {
     "iopub.execute_input": "2023-04-25T13:38:50.747286Z",
     "iopub.status.busy": "2023-04-25T13:38:50.746711Z",
     "iopub.status.idle": "2023-04-25T13:38:50.751822Z",
     "shell.execute_reply": "2023-04-25T13:38:50.750884Z",
     "shell.execute_reply.started": "2023-04-25T13:38:50.747244Z"
    }
   },
   "outputs": [],
   "source": [
    "# NOTE:  In the previous Exercise/Task, the df_prods_checked DataFrame was written to a CSV file with an additional index\n",
    "# column by default (Exercise 4.4 did not mention the 'index = False' option to 'df.to_csv').  I'll see whether this\n",
    "# poses a true problem, as it might not."
   ]
  },
  {
   "cell_type": "code",
   "execution_count": 19,
   "id": "a13c2d2e",
   "metadata": {
    "ExecuteTime": {
     "end_time": "2022-11-09T23:23:00.611976Z",
     "start_time": "2022-11-09T23:23:00.607258Z"
    },
    "execution": {
     "iopub.execute_input": "2023-04-25T13:38:50.752998Z",
     "iopub.status.busy": "2023-04-25T13:38:50.752783Z",
     "iopub.status.idle": "2023-04-25T13:38:50.758400Z",
     "shell.execute_reply": "2023-04-25T13:38:50.757889Z",
     "shell.execute_reply.started": "2023-04-25T13:38:50.752975Z"
    }
   },
   "outputs": [
    {
     "data": {
      "text/plain": [
       "(49672, 6)"
      ]
     },
     "execution_count": 19,
     "metadata": {},
     "output_type": "execute_result"
    }
   ],
   "source": [
    "df_prods_checked.shape"
   ]
  },
  {
   "cell_type": "code",
   "execution_count": 20,
   "id": "30fd9f4c",
   "metadata": {
    "ExecuteTime": {
     "end_time": "2022-11-09T23:23:00.625917Z",
     "start_time": "2022-11-09T23:23:00.613808Z"
    },
    "execution": {
     "iopub.execute_input": "2023-04-25T13:38:50.759660Z",
     "iopub.status.busy": "2023-04-25T13:38:50.759440Z",
     "iopub.status.idle": "2023-04-25T13:38:50.773979Z",
     "shell.execute_reply": "2023-04-25T13:38:50.773230Z",
     "shell.execute_reply.started": "2023-04-25T13:38:50.759635Z"
    }
   },
   "outputs": [
    {
     "data": {
      "text/html": [
       "<div>\n",
       "<style scoped>\n",
       "    .dataframe tbody tr th:only-of-type {\n",
       "        vertical-align: middle;\n",
       "    }\n",
       "\n",
       "    .dataframe tbody tr th {\n",
       "        vertical-align: top;\n",
       "    }\n",
       "\n",
       "    .dataframe thead th {\n",
       "        text-align: right;\n",
       "    }\n",
       "</style>\n",
       "<table border=\"1\" class=\"dataframe\">\n",
       "  <thead>\n",
       "    <tr style=\"text-align: right;\">\n",
       "      <th></th>\n",
       "      <th>Unnamed: 0</th>\n",
       "      <th>product_id</th>\n",
       "      <th>product_name</th>\n",
       "      <th>aisle_id</th>\n",
       "      <th>department_id</th>\n",
       "      <th>prices</th>\n",
       "    </tr>\n",
       "  </thead>\n",
       "  <tbody>\n",
       "    <tr>\n",
       "      <th>0</th>\n",
       "      <td>0</td>\n",
       "      <td>1</td>\n",
       "      <td>Chocolate Sandwich Cookies</td>\n",
       "      <td>61</td>\n",
       "      <td>19</td>\n",
       "      <td>5.8</td>\n",
       "    </tr>\n",
       "    <tr>\n",
       "      <th>1</th>\n",
       "      <td>1</td>\n",
       "      <td>2</td>\n",
       "      <td>All-Seasons Salt</td>\n",
       "      <td>104</td>\n",
       "      <td>13</td>\n",
       "      <td>9.3</td>\n",
       "    </tr>\n",
       "    <tr>\n",
       "      <th>2</th>\n",
       "      <td>2</td>\n",
       "      <td>3</td>\n",
       "      <td>Robust Golden Unsweetened Oolong Tea</td>\n",
       "      <td>94</td>\n",
       "      <td>7</td>\n",
       "      <td>4.5</td>\n",
       "    </tr>\n",
       "    <tr>\n",
       "      <th>3</th>\n",
       "      <td>3</td>\n",
       "      <td>4</td>\n",
       "      <td>Smart Ones Classic Favorites Mini Rigatoni Wit...</td>\n",
       "      <td>38</td>\n",
       "      <td>1</td>\n",
       "      <td>10.5</td>\n",
       "    </tr>\n",
       "    <tr>\n",
       "      <th>4</th>\n",
       "      <td>4</td>\n",
       "      <td>5</td>\n",
       "      <td>Green Chile Anytime Sauce</td>\n",
       "      <td>5</td>\n",
       "      <td>13</td>\n",
       "      <td>4.3</td>\n",
       "    </tr>\n",
       "    <tr>\n",
       "      <th>...</th>\n",
       "      <td>...</td>\n",
       "      <td>...</td>\n",
       "      <td>...</td>\n",
       "      <td>...</td>\n",
       "      <td>...</td>\n",
       "      <td>...</td>\n",
       "    </tr>\n",
       "    <tr>\n",
       "      <th>49667</th>\n",
       "      <td>49688</td>\n",
       "      <td>49684</td>\n",
       "      <td>Vodka, Triple Distilled, Twist of Vanilla</td>\n",
       "      <td>124</td>\n",
       "      <td>5</td>\n",
       "      <td>5.3</td>\n",
       "    </tr>\n",
       "    <tr>\n",
       "      <th>49668</th>\n",
       "      <td>49689</td>\n",
       "      <td>49685</td>\n",
       "      <td>En Croute Roast Hazelnut Cranberry</td>\n",
       "      <td>42</td>\n",
       "      <td>1</td>\n",
       "      <td>3.1</td>\n",
       "    </tr>\n",
       "    <tr>\n",
       "      <th>49669</th>\n",
       "      <td>49690</td>\n",
       "      <td>49686</td>\n",
       "      <td>Artisan Baguette</td>\n",
       "      <td>112</td>\n",
       "      <td>3</td>\n",
       "      <td>7.8</td>\n",
       "    </tr>\n",
       "    <tr>\n",
       "      <th>49670</th>\n",
       "      <td>49691</td>\n",
       "      <td>49687</td>\n",
       "      <td>Smartblend Healthy Metabolism Dry Cat Food</td>\n",
       "      <td>41</td>\n",
       "      <td>8</td>\n",
       "      <td>4.7</td>\n",
       "    </tr>\n",
       "    <tr>\n",
       "      <th>49671</th>\n",
       "      <td>49692</td>\n",
       "      <td>49688</td>\n",
       "      <td>Fresh Foaming Cleanser</td>\n",
       "      <td>73</td>\n",
       "      <td>11</td>\n",
       "      <td>13.5</td>\n",
       "    </tr>\n",
       "  </tbody>\n",
       "</table>\n",
       "<p>49672 rows × 6 columns</p>\n",
       "</div>"
      ],
      "text/plain": [
       "       Unnamed: 0  product_id  \\\n",
       "0               0           1   \n",
       "1               1           2   \n",
       "2               2           3   \n",
       "3               3           4   \n",
       "4               4           5   \n",
       "...           ...         ...   \n",
       "49667       49688       49684   \n",
       "49668       49689       49685   \n",
       "49669       49690       49686   \n",
       "49670       49691       49687   \n",
       "49671       49692       49688   \n",
       "\n",
       "                                            product_name  aisle_id  \\\n",
       "0                             Chocolate Sandwich Cookies        61   \n",
       "1                                       All-Seasons Salt       104   \n",
       "2                   Robust Golden Unsweetened Oolong Tea        94   \n",
       "3      Smart Ones Classic Favorites Mini Rigatoni Wit...        38   \n",
       "4                              Green Chile Anytime Sauce         5   \n",
       "...                                                  ...       ...   \n",
       "49667          Vodka, Triple Distilled, Twist of Vanilla       124   \n",
       "49668                 En Croute Roast Hazelnut Cranberry        42   \n",
       "49669                                   Artisan Baguette       112   \n",
       "49670         Smartblend Healthy Metabolism Dry Cat Food        41   \n",
       "49671                             Fresh Foaming Cleanser        73   \n",
       "\n",
       "       department_id  prices  \n",
       "0                 19     5.8  \n",
       "1                 13     9.3  \n",
       "2                  7     4.5  \n",
       "3                  1    10.5  \n",
       "4                 13     4.3  \n",
       "...              ...     ...  \n",
       "49667              5     5.3  \n",
       "49668              1     3.1  \n",
       "49669              3     7.8  \n",
       "49670              8     4.7  \n",
       "49671             11    13.5  \n",
       "\n",
       "[49672 rows x 6 columns]"
      ]
     },
     "execution_count": 20,
     "metadata": {},
     "output_type": "execute_result"
    }
   ],
   "source": [
    "df_prods_checked"
   ]
  },
  {
   "cell_type": "code",
   "execution_count": 21,
   "id": "a90cf866",
   "metadata": {
    "ExecuteTime": {
     "end_time": "2022-11-09T23:23:00.653580Z",
     "start_time": "2022-11-09T23:23:00.627548Z"
    },
    "execution": {
     "iopub.execute_input": "2023-04-25T13:38:50.775790Z",
     "iopub.status.busy": "2023-04-25T13:38:50.775115Z",
     "iopub.status.idle": "2023-04-25T13:38:50.804221Z",
     "shell.execute_reply": "2023-04-25T13:38:50.803419Z",
     "shell.execute_reply.started": "2023-04-25T13:38:50.775751Z"
    }
   },
   "outputs": [
    {
     "data": {
      "text/html": [
       "<div>\n",
       "<style scoped>\n",
       "    .dataframe tbody tr th:only-of-type {\n",
       "        vertical-align: middle;\n",
       "    }\n",
       "\n",
       "    .dataframe tbody tr th {\n",
       "        vertical-align: top;\n",
       "    }\n",
       "\n",
       "    .dataframe thead th {\n",
       "        text-align: right;\n",
       "    }\n",
       "</style>\n",
       "<table border=\"1\" class=\"dataframe\">\n",
       "  <thead>\n",
       "    <tr style=\"text-align: right;\">\n",
       "      <th></th>\n",
       "      <th>Unnamed: 0</th>\n",
       "      <th>product_id</th>\n",
       "      <th>aisle_id</th>\n",
       "      <th>department_id</th>\n",
       "      <th>prices</th>\n",
       "    </tr>\n",
       "  </thead>\n",
       "  <tbody>\n",
       "    <tr>\n",
       "      <th>count</th>\n",
       "      <td>49672.000000</td>\n",
       "      <td>49672.000000</td>\n",
       "      <td>49672.000000</td>\n",
       "      <td>49672.000000</td>\n",
       "      <td>49672.000000</td>\n",
       "    </tr>\n",
       "    <tr>\n",
       "      <th>mean</th>\n",
       "      <td>24852.005053</td>\n",
       "      <td>24850.349775</td>\n",
       "      <td>67.762442</td>\n",
       "      <td>11.728942</td>\n",
       "      <td>9.993282</td>\n",
       "    </tr>\n",
       "    <tr>\n",
       "      <th>std</th>\n",
       "      <td>14342.265579</td>\n",
       "      <td>14340.705287</td>\n",
       "      <td>38.315784</td>\n",
       "      <td>5.850779</td>\n",
       "      <td>453.615536</td>\n",
       "    </tr>\n",
       "    <tr>\n",
       "      <th>min</th>\n",
       "      <td>0.000000</td>\n",
       "      <td>1.000000</td>\n",
       "      <td>1.000000</td>\n",
       "      <td>1.000000</td>\n",
       "      <td>1.000000</td>\n",
       "    </tr>\n",
       "    <tr>\n",
       "      <th>25%</th>\n",
       "      <td>12432.750000</td>\n",
       "      <td>12432.750000</td>\n",
       "      <td>35.000000</td>\n",
       "      <td>7.000000</td>\n",
       "      <td>4.100000</td>\n",
       "    </tr>\n",
       "    <tr>\n",
       "      <th>50%</th>\n",
       "      <td>24851.500000</td>\n",
       "      <td>24850.500000</td>\n",
       "      <td>69.000000</td>\n",
       "      <td>13.000000</td>\n",
       "      <td>7.100000</td>\n",
       "    </tr>\n",
       "    <tr>\n",
       "      <th>75%</th>\n",
       "      <td>37272.250000</td>\n",
       "      <td>37268.250000</td>\n",
       "      <td>100.000000</td>\n",
       "      <td>17.000000</td>\n",
       "      <td>11.100000</td>\n",
       "    </tr>\n",
       "    <tr>\n",
       "      <th>max</th>\n",
       "      <td>49692.000000</td>\n",
       "      <td>49688.000000</td>\n",
       "      <td>134.000000</td>\n",
       "      <td>21.000000</td>\n",
       "      <td>99999.000000</td>\n",
       "    </tr>\n",
       "  </tbody>\n",
       "</table>\n",
       "</div>"
      ],
      "text/plain": [
       "         Unnamed: 0    product_id      aisle_id  department_id        prices\n",
       "count  49672.000000  49672.000000  49672.000000   49672.000000  49672.000000\n",
       "mean   24852.005053  24850.349775     67.762442      11.728942      9.993282\n",
       "std    14342.265579  14340.705287     38.315784       5.850779    453.615536\n",
       "min        0.000000      1.000000      1.000000       1.000000      1.000000\n",
       "25%    12432.750000  12432.750000     35.000000       7.000000      4.100000\n",
       "50%    24851.500000  24850.500000     69.000000      13.000000      7.100000\n",
       "75%    37272.250000  37268.250000    100.000000      17.000000     11.100000\n",
       "max    49692.000000  49688.000000    134.000000      21.000000  99999.000000"
      ]
     },
     "execution_count": 21,
     "metadata": {},
     "output_type": "execute_result"
    }
   ],
   "source": [
    "df_prods_checked.describe()"
   ]
  },
  {
   "cell_type": "code",
   "execution_count": 22,
   "id": "ab6abc39",
   "metadata": {
    "ExecuteTime": {
     "end_time": "2022-11-09T23:23:00.657928Z",
     "start_time": "2022-11-09T23:23:00.655428Z"
    },
    "execution": {
     "iopub.execute_input": "2023-04-25T13:38:50.805691Z",
     "iopub.status.busy": "2023-04-25T13:38:50.805403Z",
     "iopub.status.idle": "2023-04-25T13:38:50.809465Z",
     "shell.execute_reply": "2023-04-25T13:38:50.808873Z",
     "shell.execute_reply.started": "2023-04-25T13:38:50.805656Z"
    }
   },
   "outputs": [],
   "source": [
    "# Combine df_prods_checked with df_orders_products_combined to create the 'orders_products_merged' DataFrame."
   ]
  },
  {
   "cell_type": "code",
   "execution_count": 23,
   "id": "7ec8ecae",
   "metadata": {
    "ExecuteTime": {
     "end_time": "2022-11-09T23:23:00.663877Z",
     "start_time": "2022-11-09T23:23:00.659836Z"
    },
    "execution": {
     "iopub.execute_input": "2023-04-25T13:38:50.810904Z",
     "iopub.status.busy": "2023-04-25T13:38:50.810507Z",
     "iopub.status.idle": "2023-04-25T13:38:50.814209Z",
     "shell.execute_reply": "2023-04-25T13:38:50.813345Z",
     "shell.execute_reply.started": "2023-04-25T13:38:50.810877Z"
    }
   },
   "outputs": [],
   "source": [
    "# NOTE:  If I want to use an Indicator, I need to give the indicator column a new name, because '_merge' is already\n",
    "# used in the df_orders_products_combined DataFrame.  In a spark of creativity, I call it, '_merge2'."
   ]
  },
  {
   "cell_type": "code",
   "execution_count": 24,
   "id": "d3339378",
   "metadata": {
    "ExecuteTime": {
     "end_time": "2022-11-09T23:23:15.782281Z",
     "start_time": "2022-11-09T23:23:00.665656Z"
    },
    "execution": {
     "iopub.execute_input": "2023-04-25T13:38:50.816030Z",
     "iopub.status.busy": "2023-04-25T13:38:50.815495Z",
     "iopub.status.idle": "2023-04-25T13:39:01.498872Z",
     "shell.execute_reply": "2023-04-25T13:39:01.498070Z",
     "shell.execute_reply.started": "2023-04-25T13:38:50.816003Z"
    }
   },
   "outputs": [],
   "source": [
    "df_orders_products_merged = df_prods_checked.merge(df_orders_products_combined, on = 'product_id', indicator = '_merge2')"
   ]
  },
  {
   "cell_type": "code",
   "execution_count": 25,
   "id": "9ea0bdff",
   "metadata": {
    "ExecuteTime": {
     "end_time": "2022-11-09T23:23:15.798285Z",
     "start_time": "2022-11-09T23:23:15.784063Z"
    },
    "execution": {
     "iopub.execute_input": "2023-04-25T13:39:01.500694Z",
     "iopub.status.busy": "2023-04-25T13:39:01.499848Z",
     "iopub.status.idle": "2023-04-25T13:39:01.520394Z",
     "shell.execute_reply": "2023-04-25T13:39:01.519862Z",
     "shell.execute_reply.started": "2023-04-25T13:39:01.500665Z"
    },
    "scrolled": true
   },
   "outputs": [
    {
     "data": {
      "text/html": [
       "<div>\n",
       "<style scoped>\n",
       "    .dataframe tbody tr th:only-of-type {\n",
       "        vertical-align: middle;\n",
       "    }\n",
       "\n",
       "    .dataframe tbody tr th {\n",
       "        vertical-align: top;\n",
       "    }\n",
       "\n",
       "    .dataframe thead th {\n",
       "        text-align: right;\n",
       "    }\n",
       "</style>\n",
       "<table border=\"1\" class=\"dataframe\">\n",
       "  <thead>\n",
       "    <tr style=\"text-align: right;\">\n",
       "      <th></th>\n",
       "      <th>Unnamed: 0</th>\n",
       "      <th>product_id</th>\n",
       "      <th>product_name</th>\n",
       "      <th>aisle_id</th>\n",
       "      <th>department_id</th>\n",
       "      <th>prices</th>\n",
       "      <th>order_id</th>\n",
       "      <th>customer_id</th>\n",
       "      <th>order_number</th>\n",
       "      <th>orders_day_of_week</th>\n",
       "      <th>order_hour_of_day</th>\n",
       "      <th>days_since_prior_order</th>\n",
       "      <th>add_to_cart_order</th>\n",
       "      <th>reordered</th>\n",
       "      <th>_merge</th>\n",
       "      <th>_merge2</th>\n",
       "    </tr>\n",
       "  </thead>\n",
       "  <tbody>\n",
       "    <tr>\n",
       "      <th>0</th>\n",
       "      <td>0</td>\n",
       "      <td>1</td>\n",
       "      <td>Chocolate Sandwich Cookies</td>\n",
       "      <td>61</td>\n",
       "      <td>19</td>\n",
       "      <td>5.8</td>\n",
       "      <td>3139998</td>\n",
       "      <td>138</td>\n",
       "      <td>28</td>\n",
       "      <td>6</td>\n",
       "      <td>11</td>\n",
       "      <td>3.0</td>\n",
       "      <td>5</td>\n",
       "      <td>0</td>\n",
       "      <td>both</td>\n",
       "      <td>both</td>\n",
       "    </tr>\n",
       "    <tr>\n",
       "      <th>1</th>\n",
       "      <td>0</td>\n",
       "      <td>1</td>\n",
       "      <td>Chocolate Sandwich Cookies</td>\n",
       "      <td>61</td>\n",
       "      <td>19</td>\n",
       "      <td>5.8</td>\n",
       "      <td>1977647</td>\n",
       "      <td>138</td>\n",
       "      <td>30</td>\n",
       "      <td>6</td>\n",
       "      <td>17</td>\n",
       "      <td>20.0</td>\n",
       "      <td>1</td>\n",
       "      <td>1</td>\n",
       "      <td>both</td>\n",
       "      <td>both</td>\n",
       "    </tr>\n",
       "    <tr>\n",
       "      <th>2</th>\n",
       "      <td>0</td>\n",
       "      <td>1</td>\n",
       "      <td>Chocolate Sandwich Cookies</td>\n",
       "      <td>61</td>\n",
       "      <td>19</td>\n",
       "      <td>5.8</td>\n",
       "      <td>389851</td>\n",
       "      <td>709</td>\n",
       "      <td>2</td>\n",
       "      <td>0</td>\n",
       "      <td>21</td>\n",
       "      <td>6.0</td>\n",
       "      <td>20</td>\n",
       "      <td>0</td>\n",
       "      <td>both</td>\n",
       "      <td>both</td>\n",
       "    </tr>\n",
       "    <tr>\n",
       "      <th>3</th>\n",
       "      <td>0</td>\n",
       "      <td>1</td>\n",
       "      <td>Chocolate Sandwich Cookies</td>\n",
       "      <td>61</td>\n",
       "      <td>19</td>\n",
       "      <td>5.8</td>\n",
       "      <td>652770</td>\n",
       "      <td>764</td>\n",
       "      <td>1</td>\n",
       "      <td>3</td>\n",
       "      <td>13</td>\n",
       "      <td>0.0</td>\n",
       "      <td>10</td>\n",
       "      <td>0</td>\n",
       "      <td>both</td>\n",
       "      <td>both</td>\n",
       "    </tr>\n",
       "    <tr>\n",
       "      <th>4</th>\n",
       "      <td>0</td>\n",
       "      <td>1</td>\n",
       "      <td>Chocolate Sandwich Cookies</td>\n",
       "      <td>61</td>\n",
       "      <td>19</td>\n",
       "      <td>5.8</td>\n",
       "      <td>1813452</td>\n",
       "      <td>764</td>\n",
       "      <td>3</td>\n",
       "      <td>4</td>\n",
       "      <td>17</td>\n",
       "      <td>9.0</td>\n",
       "      <td>11</td>\n",
       "      <td>1</td>\n",
       "      <td>both</td>\n",
       "      <td>both</td>\n",
       "    </tr>\n",
       "  </tbody>\n",
       "</table>\n",
       "</div>"
      ],
      "text/plain": [
       "   Unnamed: 0  product_id                product_name  aisle_id  \\\n",
       "0           0           1  Chocolate Sandwich Cookies        61   \n",
       "1           0           1  Chocolate Sandwich Cookies        61   \n",
       "2           0           1  Chocolate Sandwich Cookies        61   \n",
       "3           0           1  Chocolate Sandwich Cookies        61   \n",
       "4           0           1  Chocolate Sandwich Cookies        61   \n",
       "\n",
       "   department_id  prices  order_id  customer_id  order_number  \\\n",
       "0             19     5.8   3139998          138            28   \n",
       "1             19     5.8   1977647          138            30   \n",
       "2             19     5.8    389851          709             2   \n",
       "3             19     5.8    652770          764             1   \n",
       "4             19     5.8   1813452          764             3   \n",
       "\n",
       "   orders_day_of_week  order_hour_of_day  days_since_prior_order  \\\n",
       "0                   6                 11                     3.0   \n",
       "1                   6                 17                    20.0   \n",
       "2                   0                 21                     6.0   \n",
       "3                   3                 13                     0.0   \n",
       "4                   4                 17                     9.0   \n",
       "\n",
       "   add_to_cart_order  reordered _merge _merge2  \n",
       "0                  5          0   both    both  \n",
       "1                  1          1   both    both  \n",
       "2                 20          0   both    both  \n",
       "3                 10          0   both    both  \n",
       "4                 11          1   both    both  "
      ]
     },
     "execution_count": 25,
     "metadata": {},
     "output_type": "execute_result"
    }
   ],
   "source": [
    "df_orders_products_merged.head()"
   ]
  },
  {
   "cell_type": "code",
   "execution_count": 26,
   "id": "f63c394a",
   "metadata": {
    "ExecuteTime": {
     "end_time": "2022-11-09T23:23:15.804029Z",
     "start_time": "2022-11-09T23:23:15.800182Z"
    },
    "execution": {
     "iopub.execute_input": "2023-04-25T13:39:01.521767Z",
     "iopub.status.busy": "2023-04-25T13:39:01.521463Z",
     "iopub.status.idle": "2023-04-25T13:39:01.526044Z",
     "shell.execute_reply": "2023-04-25T13:39:01.525522Z",
     "shell.execute_reply.started": "2023-04-25T13:39:01.521744Z"
    }
   },
   "outputs": [
    {
     "data": {
      "text/plain": [
       "(32404859, 16)"
      ]
     },
     "execution_count": 26,
     "metadata": {},
     "output_type": "execute_result"
    }
   ],
   "source": [
    "df_orders_products_merged.shape"
   ]
  },
  {
   "cell_type": "markdown",
   "id": "cdb068bc",
   "metadata": {},
   "source": [
    "## Step 6:  Confirm the results of the merge using the merge flag."
   ]
  },
  {
   "cell_type": "code",
   "execution_count": 27,
   "id": "d461c7eb",
   "metadata": {
    "ExecuteTime": {
     "end_time": "2022-11-09T23:23:15.809280Z",
     "start_time": "2022-11-09T23:23:15.805981Z"
    },
    "execution": {
     "iopub.execute_input": "2023-04-25T13:39:01.527374Z",
     "iopub.status.busy": "2023-04-25T13:39:01.527048Z",
     "iopub.status.idle": "2023-04-25T13:39:01.531515Z",
     "shell.execute_reply": "2023-04-25T13:39:01.530709Z",
     "shell.execute_reply.started": "2023-04-25T13:39:01.527350Z"
    }
   },
   "outputs": [],
   "source": [
    "# Tally up the results from the '_merge2' column.  It's from an inner join, so all should be 'both',\n",
    "# but this is how I interpret the instruction based on the Exercise."
   ]
  },
  {
   "cell_type": "code",
   "execution_count": 28,
   "id": "aed1b20c",
   "metadata": {
    "ExecuteTime": {
     "end_time": "2022-11-09T23:23:16.038753Z",
     "start_time": "2022-11-09T23:23:15.810806Z"
    },
    "execution": {
     "iopub.execute_input": "2023-04-25T13:39:01.532757Z",
     "iopub.status.busy": "2023-04-25T13:39:01.532565Z",
     "iopub.status.idle": "2023-04-25T13:39:01.740939Z",
     "shell.execute_reply": "2023-04-25T13:39:01.739501Z",
     "shell.execute_reply.started": "2023-04-25T13:39:01.532735Z"
    }
   },
   "outputs": [
    {
     "data": {
      "text/plain": [
       "both          32404859\n",
       "left_only            0\n",
       "right_only           0\n",
       "Name: _merge2, dtype: int64"
      ]
     },
     "execution_count": 28,
     "metadata": {},
     "output_type": "execute_result"
    }
   ],
   "source": [
    "df_orders_products_merged['_merge2'].value_counts()"
   ]
  },
  {
   "cell_type": "markdown",
   "id": "37d304db",
   "metadata": {},
   "source": [
    "## Step 7:  Export the newly created dataframe as orders_products_merged in a suitable format (taking into consideration the size)."
   ]
  },
  {
   "cell_type": "code",
   "execution_count": 29,
   "id": "17b05b67",
   "metadata": {
    "ExecuteTime": {
     "end_time": "2022-11-09T23:23:16.046537Z",
     "start_time": "2022-11-09T23:23:16.043859Z"
    },
    "execution": {
     "iopub.execute_input": "2023-04-25T13:39:01.748603Z",
     "iopub.status.busy": "2023-04-25T13:39:01.748136Z",
     "iopub.status.idle": "2023-04-25T13:39:01.752296Z",
     "shell.execute_reply": "2023-04-25T13:39:01.751708Z",
     "shell.execute_reply.started": "2023-04-25T13:39:01.748568Z"
    }
   },
   "outputs": [],
   "source": [
    "# Store the new DataFrame in the Pickle format."
   ]
  },
  {
   "cell_type": "code",
   "execution_count": 30,
   "id": "d504b9f3",
   "metadata": {
    "ExecuteTime": {
     "end_time": "2022-11-09T23:23:46.947753Z",
     "start_time": "2022-11-09T23:23:16.048340Z"
    },
    "execution": {
     "iopub.execute_input": "2023-04-25T13:39:01.754014Z",
     "iopub.status.busy": "2023-04-25T13:39:01.753555Z",
     "iopub.status.idle": "2023-04-25T13:39:34.333201Z",
     "shell.execute_reply": "2023-04-25T13:39:34.332606Z",
     "shell.execute_reply.started": "2023-04-25T13:39:01.753985Z"
    }
   },
   "outputs": [],
   "source": [
    "df_orders_products_merged.to_pickle(os.path.join(path, '02-Data','Prepared-Data', 'orders_products_merged.pkl'))"
   ]
  },
  {
   "cell_type": "markdown",
   "id": "fc5f9bcf",
   "metadata": {},
   "source": [
    "# Beginning EXERCISE 4.7"
   ]
  },
  {
   "cell_type": "code",
   "execution_count": 31,
   "id": "c3a430ce",
   "metadata": {
    "ExecuteTime": {
     "end_time": "2022-11-09T23:23:46.952360Z",
     "start_time": "2022-11-09T23:23:46.950164Z"
    },
    "execution": {
     "iopub.execute_input": "2023-04-25T13:39:34.334527Z",
     "iopub.status.busy": "2023-04-25T13:39:34.334210Z",
     "iopub.status.idle": "2023-04-25T13:39:34.338336Z",
     "shell.execute_reply": "2023-04-25T13:39:34.337424Z",
     "shell.execute_reply.started": "2023-04-25T13:39:34.334505Z"
    }
   },
   "outputs": [],
   "source": [
    "# Confirming our DF has been loaded (I know, it's in the code above.)\n",
    "# Exercise 4.7 seems to be calling this 'ords_prods_merged'."
   ]
  },
  {
   "cell_type": "code",
   "execution_count": 32,
   "id": "c9f49dc3",
   "metadata": {
    "ExecuteTime": {
     "end_time": "2022-11-09T23:23:46.988968Z",
     "start_time": "2022-11-09T23:23:46.953883Z"
    },
    "execution": {
     "iopub.execute_input": "2023-04-25T13:39:34.339729Z",
     "iopub.status.busy": "2023-04-25T13:39:34.339497Z",
     "iopub.status.idle": "2023-04-25T13:39:34.373818Z",
     "shell.execute_reply": "2023-04-25T13:39:34.373163Z",
     "shell.execute_reply.started": "2023-04-25T13:39:34.339703Z"
    },
    "scrolled": true
   },
   "outputs": [
    {
     "data": {
      "text/html": [
       "<div>\n",
       "<style scoped>\n",
       "    .dataframe tbody tr th:only-of-type {\n",
       "        vertical-align: middle;\n",
       "    }\n",
       "\n",
       "    .dataframe tbody tr th {\n",
       "        vertical-align: top;\n",
       "    }\n",
       "\n",
       "    .dataframe thead th {\n",
       "        text-align: right;\n",
       "    }\n",
       "</style>\n",
       "<table border=\"1\" class=\"dataframe\">\n",
       "  <thead>\n",
       "    <tr style=\"text-align: right;\">\n",
       "      <th></th>\n",
       "      <th>Unnamed: 0</th>\n",
       "      <th>product_id</th>\n",
       "      <th>product_name</th>\n",
       "      <th>aisle_id</th>\n",
       "      <th>department_id</th>\n",
       "      <th>prices</th>\n",
       "      <th>order_id</th>\n",
       "      <th>customer_id</th>\n",
       "      <th>order_number</th>\n",
       "      <th>orders_day_of_week</th>\n",
       "      <th>order_hour_of_day</th>\n",
       "      <th>days_since_prior_order</th>\n",
       "      <th>add_to_cart_order</th>\n",
       "      <th>reordered</th>\n",
       "      <th>_merge</th>\n",
       "      <th>_merge2</th>\n",
       "    </tr>\n",
       "  </thead>\n",
       "  <tbody>\n",
       "    <tr>\n",
       "      <th>0</th>\n",
       "      <td>0</td>\n",
       "      <td>1</td>\n",
       "      <td>Chocolate Sandwich Cookies</td>\n",
       "      <td>61</td>\n",
       "      <td>19</td>\n",
       "      <td>5.8</td>\n",
       "      <td>3139998</td>\n",
       "      <td>138</td>\n",
       "      <td>28</td>\n",
       "      <td>6</td>\n",
       "      <td>11</td>\n",
       "      <td>3.0</td>\n",
       "      <td>5</td>\n",
       "      <td>0</td>\n",
       "      <td>both</td>\n",
       "      <td>both</td>\n",
       "    </tr>\n",
       "    <tr>\n",
       "      <th>1</th>\n",
       "      <td>0</td>\n",
       "      <td>1</td>\n",
       "      <td>Chocolate Sandwich Cookies</td>\n",
       "      <td>61</td>\n",
       "      <td>19</td>\n",
       "      <td>5.8</td>\n",
       "      <td>1977647</td>\n",
       "      <td>138</td>\n",
       "      <td>30</td>\n",
       "      <td>6</td>\n",
       "      <td>17</td>\n",
       "      <td>20.0</td>\n",
       "      <td>1</td>\n",
       "      <td>1</td>\n",
       "      <td>both</td>\n",
       "      <td>both</td>\n",
       "    </tr>\n",
       "    <tr>\n",
       "      <th>2</th>\n",
       "      <td>0</td>\n",
       "      <td>1</td>\n",
       "      <td>Chocolate Sandwich Cookies</td>\n",
       "      <td>61</td>\n",
       "      <td>19</td>\n",
       "      <td>5.8</td>\n",
       "      <td>389851</td>\n",
       "      <td>709</td>\n",
       "      <td>2</td>\n",
       "      <td>0</td>\n",
       "      <td>21</td>\n",
       "      <td>6.0</td>\n",
       "      <td>20</td>\n",
       "      <td>0</td>\n",
       "      <td>both</td>\n",
       "      <td>both</td>\n",
       "    </tr>\n",
       "    <tr>\n",
       "      <th>3</th>\n",
       "      <td>0</td>\n",
       "      <td>1</td>\n",
       "      <td>Chocolate Sandwich Cookies</td>\n",
       "      <td>61</td>\n",
       "      <td>19</td>\n",
       "      <td>5.8</td>\n",
       "      <td>652770</td>\n",
       "      <td>764</td>\n",
       "      <td>1</td>\n",
       "      <td>3</td>\n",
       "      <td>13</td>\n",
       "      <td>0.0</td>\n",
       "      <td>10</td>\n",
       "      <td>0</td>\n",
       "      <td>both</td>\n",
       "      <td>both</td>\n",
       "    </tr>\n",
       "    <tr>\n",
       "      <th>4</th>\n",
       "      <td>0</td>\n",
       "      <td>1</td>\n",
       "      <td>Chocolate Sandwich Cookies</td>\n",
       "      <td>61</td>\n",
       "      <td>19</td>\n",
       "      <td>5.8</td>\n",
       "      <td>1813452</td>\n",
       "      <td>764</td>\n",
       "      <td>3</td>\n",
       "      <td>4</td>\n",
       "      <td>17</td>\n",
       "      <td>9.0</td>\n",
       "      <td>11</td>\n",
       "      <td>1</td>\n",
       "      <td>both</td>\n",
       "      <td>both</td>\n",
       "    </tr>\n",
       "  </tbody>\n",
       "</table>\n",
       "</div>"
      ],
      "text/plain": [
       "   Unnamed: 0  product_id                product_name  aisle_id  \\\n",
       "0           0           1  Chocolate Sandwich Cookies        61   \n",
       "1           0           1  Chocolate Sandwich Cookies        61   \n",
       "2           0           1  Chocolate Sandwich Cookies        61   \n",
       "3           0           1  Chocolate Sandwich Cookies        61   \n",
       "4           0           1  Chocolate Sandwich Cookies        61   \n",
       "\n",
       "   department_id  prices  order_id  customer_id  order_number  \\\n",
       "0             19     5.8   3139998          138            28   \n",
       "1             19     5.8   1977647          138            30   \n",
       "2             19     5.8    389851          709             2   \n",
       "3             19     5.8    652770          764             1   \n",
       "4             19     5.8   1813452          764             3   \n",
       "\n",
       "   orders_day_of_week  order_hour_of_day  days_since_prior_order  \\\n",
       "0                   6                 11                     3.0   \n",
       "1                   6                 17                    20.0   \n",
       "2                   0                 21                     6.0   \n",
       "3                   3                 13                     0.0   \n",
       "4                   4                 17                     9.0   \n",
       "\n",
       "   add_to_cart_order  reordered _merge _merge2  \n",
       "0                  5          0   both    both  \n",
       "1                  1          1   both    both  \n",
       "2                 20          0   both    both  \n",
       "3                 10          0   both    both  \n",
       "4                 11          1   both    both  "
      ]
     },
     "execution_count": 32,
     "metadata": {},
     "output_type": "execute_result"
    }
   ],
   "source": [
    "df_orders_products_merged.head()"
   ]
  },
  {
   "cell_type": "code",
   "execution_count": 33,
   "id": "5b8170bc",
   "metadata": {
    "ExecuteTime": {
     "end_time": "2022-11-09T23:23:46.994806Z",
     "start_time": "2022-11-09T23:23:46.990630Z"
    },
    "code_folding": [],
    "execution": {
     "iopub.execute_input": "2023-04-25T13:39:34.374855Z",
     "iopub.status.busy": "2023-04-25T13:39:34.374645Z",
     "iopub.status.idle": "2023-04-25T13:39:34.379712Z",
     "shell.execute_reply": "2023-04-25T13:39:34.378954Z",
     "shell.execute_reply.started": "2023-04-25T13:39:34.374833Z"
    }
   },
   "outputs": [],
   "source": [
    "def price_label(row):\n",
    "\n",
    "  if row['prices'] <= 5:\n",
    "    return 'Low-range product'\n",
    "  elif (row['prices'] > 5) and (row['prices'] <= 15):\n",
    "    return 'Mid-range product'\n",
    "  elif row['prices'] > 15:\n",
    "    return 'High range'\n",
    "  else: return 'Not enough data'"
   ]
  },
  {
   "cell_type": "code",
   "execution_count": 34,
   "id": "960d451d",
   "metadata": {
    "ExecuteTime": {
     "end_time": "2022-11-09T23:23:47.000374Z",
     "start_time": "2022-11-09T23:23:46.996406Z"
    },
    "execution": {
     "iopub.execute_input": "2023-04-25T13:39:34.380774Z",
     "iopub.status.busy": "2023-04-25T13:39:34.380573Z",
     "iopub.status.idle": "2023-04-25T13:39:34.386450Z",
     "shell.execute_reply": "2023-04-25T13:39:34.385909Z",
     "shell.execute_reply.started": "2023-04-25T13:39:34.380752Z"
    }
   },
   "outputs": [],
   "source": [
    "# Holy crap, adding a column to this whole DataFrame in place takes over seven minutes and north of 12GB of memory on my EC2 instance.\n",
    "# It's no wonder the Exercise suggests working with just the first million rows."
   ]
  },
  {
   "cell_type": "code",
   "execution_count": 35,
   "id": "c248c7a0",
   "metadata": {
    "ExecuteTime": {
     "end_time": "2022-11-09T23:31:28.609628Z",
     "start_time": "2022-11-09T23:23:47.002472Z"
    },
    "execution": {
     "iopub.execute_input": "2023-04-25T13:39:34.388218Z",
     "iopub.status.busy": "2023-04-25T13:39:34.387350Z",
     "iopub.status.idle": "2023-04-25T13:50:36.678979Z",
     "shell.execute_reply": "2023-04-25T13:50:36.678239Z",
     "shell.execute_reply.started": "2023-04-25T13:39:34.388182Z"
    }
   },
   "outputs": [],
   "source": [
    "df_orders_products_merged['price_range'] = df_orders_products_merged.apply(price_label, axis=1)"
   ]
  },
  {
   "cell_type": "code",
   "execution_count": 36,
   "id": "2c0bdba9",
   "metadata": {
    "ExecuteTime": {
     "end_time": "2022-11-09T23:31:28.626819Z",
     "start_time": "2022-11-09T23:31:28.611718Z"
    },
    "execution": {
     "iopub.execute_input": "2023-04-25T13:50:36.680489Z",
     "iopub.status.busy": "2023-04-25T13:50:36.679947Z",
     "iopub.status.idle": "2023-04-25T13:50:36.696358Z",
     "shell.execute_reply": "2023-04-25T13:50:36.695554Z",
     "shell.execute_reply.started": "2023-04-25T13:50:36.680466Z"
    },
    "scrolled": true
   },
   "outputs": [
    {
     "data": {
      "text/html": [
       "<div>\n",
       "<style scoped>\n",
       "    .dataframe tbody tr th:only-of-type {\n",
       "        vertical-align: middle;\n",
       "    }\n",
       "\n",
       "    .dataframe tbody tr th {\n",
       "        vertical-align: top;\n",
       "    }\n",
       "\n",
       "    .dataframe thead th {\n",
       "        text-align: right;\n",
       "    }\n",
       "</style>\n",
       "<table border=\"1\" class=\"dataframe\">\n",
       "  <thead>\n",
       "    <tr style=\"text-align: right;\">\n",
       "      <th></th>\n",
       "      <th>Unnamed: 0</th>\n",
       "      <th>product_id</th>\n",
       "      <th>product_name</th>\n",
       "      <th>aisle_id</th>\n",
       "      <th>department_id</th>\n",
       "      <th>prices</th>\n",
       "      <th>order_id</th>\n",
       "      <th>customer_id</th>\n",
       "      <th>order_number</th>\n",
       "      <th>orders_day_of_week</th>\n",
       "      <th>order_hour_of_day</th>\n",
       "      <th>days_since_prior_order</th>\n",
       "      <th>add_to_cart_order</th>\n",
       "      <th>reordered</th>\n",
       "      <th>_merge</th>\n",
       "      <th>_merge2</th>\n",
       "      <th>price_range</th>\n",
       "    </tr>\n",
       "  </thead>\n",
       "  <tbody>\n",
       "    <tr>\n",
       "      <th>0</th>\n",
       "      <td>0</td>\n",
       "      <td>1</td>\n",
       "      <td>Chocolate Sandwich Cookies</td>\n",
       "      <td>61</td>\n",
       "      <td>19</td>\n",
       "      <td>5.8</td>\n",
       "      <td>3139998</td>\n",
       "      <td>138</td>\n",
       "      <td>28</td>\n",
       "      <td>6</td>\n",
       "      <td>11</td>\n",
       "      <td>3.0</td>\n",
       "      <td>5</td>\n",
       "      <td>0</td>\n",
       "      <td>both</td>\n",
       "      <td>both</td>\n",
       "      <td>Mid-range product</td>\n",
       "    </tr>\n",
       "    <tr>\n",
       "      <th>1</th>\n",
       "      <td>0</td>\n",
       "      <td>1</td>\n",
       "      <td>Chocolate Sandwich Cookies</td>\n",
       "      <td>61</td>\n",
       "      <td>19</td>\n",
       "      <td>5.8</td>\n",
       "      <td>1977647</td>\n",
       "      <td>138</td>\n",
       "      <td>30</td>\n",
       "      <td>6</td>\n",
       "      <td>17</td>\n",
       "      <td>20.0</td>\n",
       "      <td>1</td>\n",
       "      <td>1</td>\n",
       "      <td>both</td>\n",
       "      <td>both</td>\n",
       "      <td>Mid-range product</td>\n",
       "    </tr>\n",
       "    <tr>\n",
       "      <th>2</th>\n",
       "      <td>0</td>\n",
       "      <td>1</td>\n",
       "      <td>Chocolate Sandwich Cookies</td>\n",
       "      <td>61</td>\n",
       "      <td>19</td>\n",
       "      <td>5.8</td>\n",
       "      <td>389851</td>\n",
       "      <td>709</td>\n",
       "      <td>2</td>\n",
       "      <td>0</td>\n",
       "      <td>21</td>\n",
       "      <td>6.0</td>\n",
       "      <td>20</td>\n",
       "      <td>0</td>\n",
       "      <td>both</td>\n",
       "      <td>both</td>\n",
       "      <td>Mid-range product</td>\n",
       "    </tr>\n",
       "    <tr>\n",
       "      <th>3</th>\n",
       "      <td>0</td>\n",
       "      <td>1</td>\n",
       "      <td>Chocolate Sandwich Cookies</td>\n",
       "      <td>61</td>\n",
       "      <td>19</td>\n",
       "      <td>5.8</td>\n",
       "      <td>652770</td>\n",
       "      <td>764</td>\n",
       "      <td>1</td>\n",
       "      <td>3</td>\n",
       "      <td>13</td>\n",
       "      <td>0.0</td>\n",
       "      <td>10</td>\n",
       "      <td>0</td>\n",
       "      <td>both</td>\n",
       "      <td>both</td>\n",
       "      <td>Mid-range product</td>\n",
       "    </tr>\n",
       "    <tr>\n",
       "      <th>4</th>\n",
       "      <td>0</td>\n",
       "      <td>1</td>\n",
       "      <td>Chocolate Sandwich Cookies</td>\n",
       "      <td>61</td>\n",
       "      <td>19</td>\n",
       "      <td>5.8</td>\n",
       "      <td>1813452</td>\n",
       "      <td>764</td>\n",
       "      <td>3</td>\n",
       "      <td>4</td>\n",
       "      <td>17</td>\n",
       "      <td>9.0</td>\n",
       "      <td>11</td>\n",
       "      <td>1</td>\n",
       "      <td>both</td>\n",
       "      <td>both</td>\n",
       "      <td>Mid-range product</td>\n",
       "    </tr>\n",
       "  </tbody>\n",
       "</table>\n",
       "</div>"
      ],
      "text/plain": [
       "   Unnamed: 0  product_id                product_name  aisle_id  \\\n",
       "0           0           1  Chocolate Sandwich Cookies        61   \n",
       "1           0           1  Chocolate Sandwich Cookies        61   \n",
       "2           0           1  Chocolate Sandwich Cookies        61   \n",
       "3           0           1  Chocolate Sandwich Cookies        61   \n",
       "4           0           1  Chocolate Sandwich Cookies        61   \n",
       "\n",
       "   department_id  prices  order_id  customer_id  order_number  \\\n",
       "0             19     5.8   3139998          138            28   \n",
       "1             19     5.8   1977647          138            30   \n",
       "2             19     5.8    389851          709             2   \n",
       "3             19     5.8    652770          764             1   \n",
       "4             19     5.8   1813452          764             3   \n",
       "\n",
       "   orders_day_of_week  order_hour_of_day  days_since_prior_order  \\\n",
       "0                   6                 11                     3.0   \n",
       "1                   6                 17                    20.0   \n",
       "2                   0                 21                     6.0   \n",
       "3                   3                 13                     0.0   \n",
       "4                   4                 17                     9.0   \n",
       "\n",
       "   add_to_cart_order  reordered _merge _merge2        price_range  \n",
       "0                  5          0   both    both  Mid-range product  \n",
       "1                  1          1   both    both  Mid-range product  \n",
       "2                 20          0   both    both  Mid-range product  \n",
       "3                 10          0   both    both  Mid-range product  \n",
       "4                 11          1   both    both  Mid-range product  "
      ]
     },
     "execution_count": 36,
     "metadata": {},
     "output_type": "execute_result"
    }
   ],
   "source": [
    "df_orders_products_merged.head()"
   ]
  },
  {
   "cell_type": "code",
   "execution_count": 37,
   "id": "592f1fa4",
   "metadata": {
    "ExecuteTime": {
     "end_time": "2022-11-09T23:31:28.632973Z",
     "start_time": "2022-11-09T23:31:28.628414Z"
    },
    "execution": {
     "iopub.execute_input": "2023-04-25T13:50:36.698201Z",
     "iopub.status.busy": "2023-04-25T13:50:36.697476Z",
     "iopub.status.idle": "2023-04-25T13:50:36.702240Z",
     "shell.execute_reply": "2023-04-25T13:50:36.701781Z",
     "shell.execute_reply.started": "2023-04-25T13:50:36.698175Z"
    }
   },
   "outputs": [
    {
     "data": {
      "text/plain": [
       "(32404859, 17)"
      ]
     },
     "execution_count": 37,
     "metadata": {},
     "output_type": "execute_result"
    }
   ],
   "source": [
    "df_orders_products_merged.shape"
   ]
  },
  {
   "cell_type": "code",
   "execution_count": 38,
   "id": "17823f98",
   "metadata": {
    "ExecuteTime": {
     "end_time": "2022-11-09T23:31:29.125712Z",
     "start_time": "2022-11-09T23:31:28.634867Z"
    },
    "execution": {
     "iopub.execute_input": "2023-04-25T13:50:36.703461Z",
     "iopub.status.busy": "2023-04-25T13:50:36.703250Z",
     "iopub.status.idle": "2023-04-25T13:50:37.439697Z",
     "shell.execute_reply": "2023-04-25T13:50:37.438862Z",
     "shell.execute_reply.started": "2023-04-25T13:50:36.703430Z"
    }
   },
   "outputs": [
    {
     "data": {
      "text/plain": [
       "Mid-range product    21860860\n",
       "Low-range product    10126321\n",
       "High range             417678\n",
       "Name: price_range, dtype: int64"
      ]
     },
     "execution_count": 38,
     "metadata": {},
     "output_type": "execute_result"
    }
   ],
   "source": [
    "df_orders_products_merged['price_range'].value_counts(dropna = False)"
   ]
  },
  {
   "cell_type": "code",
   "execution_count": 39,
   "id": "6dd1d864",
   "metadata": {
    "ExecuteTime": {
     "end_time": "2022-11-09T23:31:29.133115Z",
     "start_time": "2022-11-09T23:31:29.127803Z"
    },
    "execution": {
     "iopub.execute_input": "2023-04-25T13:50:37.441248Z",
     "iopub.status.busy": "2023-04-25T13:50:37.440690Z",
     "iopub.status.idle": "2023-04-25T13:50:37.445558Z",
     "shell.execute_reply": "2023-04-25T13:50:37.444391Z",
     "shell.execute_reply.started": "2023-04-25T13:50:37.441221Z"
    }
   },
   "outputs": [],
   "source": [
    "# A maximum price of precisely 99999.0 sounds like there could be placeholders in play."
   ]
  },
  {
   "cell_type": "code",
   "execution_count": 40,
   "id": "019fe4fc",
   "metadata": {
    "ExecuteTime": {
     "end_time": "2022-11-09T23:31:29.173808Z",
     "start_time": "2022-11-09T23:31:29.134740Z"
    },
    "execution": {
     "iopub.execute_input": "2023-04-25T13:50:37.447631Z",
     "iopub.status.busy": "2023-04-25T13:50:37.447058Z",
     "iopub.status.idle": "2023-04-25T13:50:37.502120Z",
     "shell.execute_reply": "2023-04-25T13:50:37.501426Z",
     "shell.execute_reply.started": "2023-04-25T13:50:37.447606Z"
    }
   },
   "outputs": [
    {
     "data": {
      "text/plain": [
       "99999.0"
      ]
     },
     "execution_count": 40,
     "metadata": {},
     "output_type": "execute_result"
    }
   ],
   "source": [
    "df_orders_products_merged['prices'].max()"
   ]
  },
  {
   "cell_type": "code",
   "execution_count": 41,
   "id": "05674226",
   "metadata": {
    "ExecuteTime": {
     "end_time": "2022-11-09T23:31:29.177938Z",
     "start_time": "2022-11-09T23:31:29.175474Z"
    },
    "execution": {
     "iopub.execute_input": "2023-04-25T13:50:37.503274Z",
     "iopub.status.busy": "2023-04-25T13:50:37.503068Z",
     "iopub.status.idle": "2023-04-25T13:50:37.507770Z",
     "shell.execute_reply": "2023-04-25T13:50:37.506885Z",
     "shell.execute_reply.started": "2023-04-25T13:50:37.503252Z"
    }
   },
   "outputs": [],
   "source": [
    "# Even holier crap:  the built-in loc() function is nearly 150 times faster than our User-Defined Function (UDF)."
   ]
  },
  {
   "cell_type": "code",
   "execution_count": 42,
   "id": "598846c8",
   "metadata": {
    "ExecuteTime": {
     "end_time": "2022-11-09T23:31:30.953762Z",
     "start_time": "2022-11-09T23:31:29.179493Z"
    },
    "execution": {
     "iopub.execute_input": "2023-04-25T13:50:37.509510Z",
     "iopub.status.busy": "2023-04-25T13:50:37.508764Z",
     "iopub.status.idle": "2023-04-25T13:50:38.948549Z",
     "shell.execute_reply": "2023-04-25T13:50:38.947771Z",
     "shell.execute_reply.started": "2023-04-25T13:50:37.509480Z"
    }
   },
   "outputs": [],
   "source": [
    "df_orders_products_merged.loc[df_orders_products_merged['prices'] > 15, 'price_range_loc'] = 'High-range product'"
   ]
  },
  {
   "cell_type": "code",
   "execution_count": 43,
   "id": "607a6784",
   "metadata": {
    "ExecuteTime": {
     "end_time": "2022-11-09T23:31:32.055014Z",
     "start_time": "2022-11-09T23:31:30.955560Z"
    },
    "execution": {
     "iopub.execute_input": "2023-04-25T13:50:38.950105Z",
     "iopub.status.busy": "2023-04-25T13:50:38.949619Z",
     "iopub.status.idle": "2023-04-25T13:50:40.033017Z",
     "shell.execute_reply": "2023-04-25T13:50:40.032315Z",
     "shell.execute_reply.started": "2023-04-25T13:50:38.950079Z"
    }
   },
   "outputs": [],
   "source": [
    "df_orders_products_merged.loc[(df_orders_products_merged['prices'] <= 15) & (df_orders_products_merged['prices'] > 5), 'price_range_loc'] = 'Mid-range product' "
   ]
  },
  {
   "cell_type": "code",
   "execution_count": 44,
   "id": "343fb097",
   "metadata": {
    "ExecuteTime": {
     "end_time": "2022-11-09T23:31:32.495081Z",
     "start_time": "2022-11-09T23:31:32.056824Z"
    },
    "execution": {
     "iopub.execute_input": "2023-04-25T13:50:40.034156Z",
     "iopub.status.busy": "2023-04-25T13:50:40.033895Z",
     "iopub.status.idle": "2023-04-25T13:50:40.490081Z",
     "shell.execute_reply": "2023-04-25T13:50:40.489235Z",
     "shell.execute_reply.started": "2023-04-25T13:50:40.034125Z"
    }
   },
   "outputs": [],
   "source": [
    " df_orders_products_merged.loc[df_orders_products_merged['prices'] <= 5, 'price_range_loc'] = 'Low-range product'"
   ]
  },
  {
   "cell_type": "code",
   "execution_count": 45,
   "id": "851a2033",
   "metadata": {
    "ExecuteTime": {
     "end_time": "2022-11-09T23:31:32.985701Z",
     "start_time": "2022-11-09T23:31:32.496966Z"
    },
    "execution": {
     "iopub.execute_input": "2023-04-25T13:50:40.491258Z",
     "iopub.status.busy": "2023-04-25T13:50:40.491065Z",
     "iopub.status.idle": "2023-04-25T13:50:41.177536Z",
     "shell.execute_reply": "2023-04-25T13:50:41.176471Z",
     "shell.execute_reply.started": "2023-04-25T13:50:40.491235Z"
    }
   },
   "outputs": [
    {
     "data": {
      "text/plain": [
       "Mid-range product     21860860\n",
       "Low-range product     10126321\n",
       "High-range product      417678\n",
       "Name: price_range_loc, dtype: int64"
      ]
     },
     "execution_count": 45,
     "metadata": {},
     "output_type": "execute_result"
    }
   ],
   "source": [
    "df_orders_products_merged['price_range_loc'].value_counts(dropna = False)"
   ]
  },
  {
   "cell_type": "code",
   "execution_count": 46,
   "id": "f11213a2",
   "metadata": {
    "ExecuteTime": {
     "end_time": "2022-11-09T23:31:32.991396Z",
     "start_time": "2022-11-09T23:31:32.987327Z"
    },
    "execution": {
     "iopub.execute_input": "2023-04-25T13:50:41.179476Z",
     "iopub.status.busy": "2023-04-25T13:50:41.178824Z",
     "iopub.status.idle": "2023-04-25T13:50:41.184256Z",
     "shell.execute_reply": "2023-04-25T13:50:41.183239Z",
     "shell.execute_reply.started": "2023-04-25T13:50:41.179446Z"
    }
   },
   "outputs": [
    {
     "data": {
      "text/plain": [
       "(32404859, 18)"
      ]
     },
     "execution_count": 46,
     "metadata": {},
     "output_type": "execute_result"
    }
   ],
   "source": [
    "df_orders_products_merged.shape"
   ]
  },
  {
   "cell_type": "code",
   "execution_count": 47,
   "id": "312cb63c",
   "metadata": {
    "ExecuteTime": {
     "end_time": "2022-11-09T23:31:33.007824Z",
     "start_time": "2022-11-09T23:31:32.992984Z"
    },
    "execution": {
     "iopub.execute_input": "2023-04-25T13:50:41.186316Z",
     "iopub.status.busy": "2023-04-25T13:50:41.186037Z",
     "iopub.status.idle": "2023-04-25T13:50:41.206627Z",
     "shell.execute_reply": "2023-04-25T13:50:41.205565Z",
     "shell.execute_reply.started": "2023-04-25T13:50:41.186282Z"
    }
   },
   "outputs": [
    {
     "data": {
      "text/html": [
       "<div>\n",
       "<style scoped>\n",
       "    .dataframe tbody tr th:only-of-type {\n",
       "        vertical-align: middle;\n",
       "    }\n",
       "\n",
       "    .dataframe tbody tr th {\n",
       "        vertical-align: top;\n",
       "    }\n",
       "\n",
       "    .dataframe thead th {\n",
       "        text-align: right;\n",
       "    }\n",
       "</style>\n",
       "<table border=\"1\" class=\"dataframe\">\n",
       "  <thead>\n",
       "    <tr style=\"text-align: right;\">\n",
       "      <th></th>\n",
       "      <th>Unnamed: 0</th>\n",
       "      <th>product_id</th>\n",
       "      <th>product_name</th>\n",
       "      <th>aisle_id</th>\n",
       "      <th>department_id</th>\n",
       "      <th>prices</th>\n",
       "      <th>order_id</th>\n",
       "      <th>customer_id</th>\n",
       "      <th>order_number</th>\n",
       "      <th>orders_day_of_week</th>\n",
       "      <th>order_hour_of_day</th>\n",
       "      <th>days_since_prior_order</th>\n",
       "      <th>add_to_cart_order</th>\n",
       "      <th>reordered</th>\n",
       "      <th>_merge</th>\n",
       "      <th>_merge2</th>\n",
       "      <th>price_range</th>\n",
       "      <th>price_range_loc</th>\n",
       "    </tr>\n",
       "  </thead>\n",
       "  <tbody>\n",
       "    <tr>\n",
       "      <th>0</th>\n",
       "      <td>0</td>\n",
       "      <td>1</td>\n",
       "      <td>Chocolate Sandwich Cookies</td>\n",
       "      <td>61</td>\n",
       "      <td>19</td>\n",
       "      <td>5.8</td>\n",
       "      <td>3139998</td>\n",
       "      <td>138</td>\n",
       "      <td>28</td>\n",
       "      <td>6</td>\n",
       "      <td>11</td>\n",
       "      <td>3.0</td>\n",
       "      <td>5</td>\n",
       "      <td>0</td>\n",
       "      <td>both</td>\n",
       "      <td>both</td>\n",
       "      <td>Mid-range product</td>\n",
       "      <td>Mid-range product</td>\n",
       "    </tr>\n",
       "    <tr>\n",
       "      <th>1</th>\n",
       "      <td>0</td>\n",
       "      <td>1</td>\n",
       "      <td>Chocolate Sandwich Cookies</td>\n",
       "      <td>61</td>\n",
       "      <td>19</td>\n",
       "      <td>5.8</td>\n",
       "      <td>1977647</td>\n",
       "      <td>138</td>\n",
       "      <td>30</td>\n",
       "      <td>6</td>\n",
       "      <td>17</td>\n",
       "      <td>20.0</td>\n",
       "      <td>1</td>\n",
       "      <td>1</td>\n",
       "      <td>both</td>\n",
       "      <td>both</td>\n",
       "      <td>Mid-range product</td>\n",
       "      <td>Mid-range product</td>\n",
       "    </tr>\n",
       "    <tr>\n",
       "      <th>2</th>\n",
       "      <td>0</td>\n",
       "      <td>1</td>\n",
       "      <td>Chocolate Sandwich Cookies</td>\n",
       "      <td>61</td>\n",
       "      <td>19</td>\n",
       "      <td>5.8</td>\n",
       "      <td>389851</td>\n",
       "      <td>709</td>\n",
       "      <td>2</td>\n",
       "      <td>0</td>\n",
       "      <td>21</td>\n",
       "      <td>6.0</td>\n",
       "      <td>20</td>\n",
       "      <td>0</td>\n",
       "      <td>both</td>\n",
       "      <td>both</td>\n",
       "      <td>Mid-range product</td>\n",
       "      <td>Mid-range product</td>\n",
       "    </tr>\n",
       "    <tr>\n",
       "      <th>3</th>\n",
       "      <td>0</td>\n",
       "      <td>1</td>\n",
       "      <td>Chocolate Sandwich Cookies</td>\n",
       "      <td>61</td>\n",
       "      <td>19</td>\n",
       "      <td>5.8</td>\n",
       "      <td>652770</td>\n",
       "      <td>764</td>\n",
       "      <td>1</td>\n",
       "      <td>3</td>\n",
       "      <td>13</td>\n",
       "      <td>0.0</td>\n",
       "      <td>10</td>\n",
       "      <td>0</td>\n",
       "      <td>both</td>\n",
       "      <td>both</td>\n",
       "      <td>Mid-range product</td>\n",
       "      <td>Mid-range product</td>\n",
       "    </tr>\n",
       "    <tr>\n",
       "      <th>4</th>\n",
       "      <td>0</td>\n",
       "      <td>1</td>\n",
       "      <td>Chocolate Sandwich Cookies</td>\n",
       "      <td>61</td>\n",
       "      <td>19</td>\n",
       "      <td>5.8</td>\n",
       "      <td>1813452</td>\n",
       "      <td>764</td>\n",
       "      <td>3</td>\n",
       "      <td>4</td>\n",
       "      <td>17</td>\n",
       "      <td>9.0</td>\n",
       "      <td>11</td>\n",
       "      <td>1</td>\n",
       "      <td>both</td>\n",
       "      <td>both</td>\n",
       "      <td>Mid-range product</td>\n",
       "      <td>Mid-range product</td>\n",
       "    </tr>\n",
       "  </tbody>\n",
       "</table>\n",
       "</div>"
      ],
      "text/plain": [
       "   Unnamed: 0  product_id                product_name  aisle_id  \\\n",
       "0           0           1  Chocolate Sandwich Cookies        61   \n",
       "1           0           1  Chocolate Sandwich Cookies        61   \n",
       "2           0           1  Chocolate Sandwich Cookies        61   \n",
       "3           0           1  Chocolate Sandwich Cookies        61   \n",
       "4           0           1  Chocolate Sandwich Cookies        61   \n",
       "\n",
       "   department_id  prices  order_id  customer_id  order_number  \\\n",
       "0             19     5.8   3139998          138            28   \n",
       "1             19     5.8   1977647          138            30   \n",
       "2             19     5.8    389851          709             2   \n",
       "3             19     5.8    652770          764             1   \n",
       "4             19     5.8   1813452          764             3   \n",
       "\n",
       "   orders_day_of_week  order_hour_of_day  days_since_prior_order  \\\n",
       "0                   6                 11                     3.0   \n",
       "1                   6                 17                    20.0   \n",
       "2                   0                 21                     6.0   \n",
       "3                   3                 13                     0.0   \n",
       "4                   4                 17                     9.0   \n",
       "\n",
       "   add_to_cart_order  reordered _merge _merge2        price_range  \\\n",
       "0                  5          0   both    both  Mid-range product   \n",
       "1                  1          1   both    both  Mid-range product   \n",
       "2                 20          0   both    both  Mid-range product   \n",
       "3                 10          0   both    both  Mid-range product   \n",
       "4                 11          1   both    both  Mid-range product   \n",
       "\n",
       "     price_range_loc  \n",
       "0  Mid-range product  \n",
       "1  Mid-range product  \n",
       "2  Mid-range product  \n",
       "3  Mid-range product  \n",
       "4  Mid-range product  "
      ]
     },
     "execution_count": 47,
     "metadata": {},
     "output_type": "execute_result"
    }
   ],
   "source": [
    "df_orders_products_merged.head()"
   ]
  },
  {
   "cell_type": "code",
   "execution_count": 48,
   "id": "528c6fdc",
   "metadata": {
    "ExecuteTime": {
     "end_time": "2022-11-09T23:31:33.013239Z",
     "start_time": "2022-11-09T23:31:33.009643Z"
    },
    "execution": {
     "iopub.execute_input": "2023-04-25T13:50:41.209035Z",
     "iopub.status.busy": "2023-04-25T13:50:41.208317Z",
     "iopub.status.idle": "2023-04-25T13:50:41.212562Z",
     "shell.execute_reply": "2023-04-25T13:50:41.211916Z",
     "shell.execute_reply.started": "2023-04-25T13:50:41.208996Z"
    }
   },
   "outputs": [],
   "source": [
    "# The following is a very interesting way of building a new column, but I must say I think it makes\n",
    "# more sense to combine the following steps, i.e. append the new column to each row as we process it."
   ]
  },
  {
   "cell_type": "code",
   "execution_count": 49,
   "id": "10bcdebd",
   "metadata": {
    "ExecuteTime": {
     "end_time": "2022-11-09T23:31:33.018958Z",
     "start_time": "2022-11-09T23:31:33.015148Z"
    },
    "execution": {
     "iopub.execute_input": "2023-04-25T13:50:41.214215Z",
     "iopub.status.busy": "2023-04-25T13:50:41.213834Z",
     "iopub.status.idle": "2023-04-25T13:50:41.223397Z",
     "shell.execute_reply": "2023-04-25T13:50:41.222855Z",
     "shell.execute_reply.started": "2023-04-25T13:50:41.214188Z"
    }
   },
   "outputs": [],
   "source": [
    "# Step #1:  Build the new column, 'result', as a list.  Note that my DF has an 'order_dow' column, rather than\n",
    "# an 'orders_day_of_week' column.  Have I mixed up DFs somewhere. or is the Exercise author confused?\n",
    "# ANSWER:  YES, I MESSED UP IN PREVIOUS SCRIPTS AND RELOADED THE ORIGINAL, NON-WRANGLED orders.csv.  I am fixing this all now."
   ]
  },
  {
   "cell_type": "code",
   "execution_count": 50,
   "id": "8faf82e4",
   "metadata": {
    "ExecuteTime": {
     "end_time": "2022-11-09T23:31:40.996384Z",
     "start_time": "2022-11-09T23:31:33.020523Z"
    },
    "execution": {
     "iopub.execute_input": "2023-04-25T13:50:41.224857Z",
     "iopub.status.busy": "2023-04-25T13:50:41.224207Z",
     "iopub.status.idle": "2023-04-25T13:50:49.414977Z",
     "shell.execute_reply": "2023-04-25T13:50:49.414100Z",
     "shell.execute_reply.started": "2023-04-25T13:50:41.224829Z"
    }
   },
   "outputs": [],
   "source": [
    "result = []\n",
    "\n",
    "for value in df_orders_products_merged[\"orders_day_of_week\"]:\n",
    "  if value == 0:\n",
    "    result.append(\"Busiest day\")\n",
    "  elif value == 4:\n",
    "    result.append(\"Least busy\")\n",
    "  else:\n",
    "    result.append(\"Regularly busy\")"
   ]
  },
  {
   "cell_type": "code",
   "execution_count": 51,
   "id": "6ed26bf0",
   "metadata": {
    "ExecuteTime": {
     "end_time": "2022-11-09T23:31:41.000810Z",
     "start_time": "2022-11-09T23:31:40.998259Z"
    },
    "execution": {
     "iopub.execute_input": "2023-04-25T13:50:49.416461Z",
     "iopub.status.busy": "2023-04-25T13:50:49.415958Z",
     "iopub.status.idle": "2023-04-25T13:50:49.419133Z",
     "shell.execute_reply": "2023-04-25T13:50:49.418502Z",
     "shell.execute_reply.started": "2023-04-25T13:50:49.416436Z"
    }
   },
   "outputs": [],
   "source": [
    "# Step #2:  Tack the set of results on to the DF as a new column, 'busiest_day'."
   ]
  },
  {
   "cell_type": "code",
   "execution_count": 52,
   "id": "fcad7469",
   "metadata": {
    "ExecuteTime": {
     "end_time": "2022-11-09T23:31:42.273194Z",
     "start_time": "2022-11-09T23:31:41.002347Z"
    },
    "execution": {
     "iopub.execute_input": "2023-04-25T13:50:49.420422Z",
     "iopub.status.busy": "2023-04-25T13:50:49.420105Z",
     "iopub.status.idle": "2023-04-25T13:50:50.605010Z",
     "shell.execute_reply": "2023-04-25T13:50:50.604328Z",
     "shell.execute_reply.started": "2023-04-25T13:50:49.420398Z"
    }
   },
   "outputs": [],
   "source": [
    "df_orders_products_merged['busiest_day'] = result"
   ]
  },
  {
   "cell_type": "code",
   "execution_count": 53,
   "id": "ba503308",
   "metadata": {
    "ExecuteTime": {
     "end_time": "2022-11-09T23:31:42.763839Z",
     "start_time": "2022-11-09T23:31:42.275293Z"
    },
    "execution": {
     "iopub.execute_input": "2023-04-25T13:50:50.605988Z",
     "iopub.status.busy": "2023-04-25T13:50:50.605813Z",
     "iopub.status.idle": "2023-04-25T13:50:51.390313Z",
     "shell.execute_reply": "2023-04-25T13:50:51.389763Z",
     "shell.execute_reply.started": "2023-04-25T13:50:50.605966Z"
    }
   },
   "outputs": [
    {
     "data": {
      "text/plain": [
       "Regularly busy    22416875\n",
       "Busiest day        6204182\n",
       "Least busy         3783802\n",
       "Name: busiest_day, dtype: int64"
      ]
     },
     "execution_count": 53,
     "metadata": {},
     "output_type": "execute_result"
    }
   ],
   "source": [
    "df_orders_products_merged['busiest_day'].value_counts(dropna = False)"
   ]
  },
  {
   "cell_type": "code",
   "execution_count": 54,
   "id": "127a4ea7",
   "metadata": {
    "ExecuteTime": {
     "end_time": "2022-11-09T23:31:42.938392Z",
     "start_time": "2022-11-09T23:31:42.765475Z"
    },
    "execution": {
     "iopub.execute_input": "2023-04-25T13:50:51.392138Z",
     "iopub.status.busy": "2023-04-25T13:50:51.391497Z",
     "iopub.status.idle": "2023-04-25T13:50:51.594837Z",
     "shell.execute_reply": "2023-04-25T13:50:51.594133Z",
     "shell.execute_reply.started": "2023-04-25T13:50:51.392108Z"
    },
    "scrolled": true
   },
   "outputs": [
    {
     "data": {
      "text/plain": [
       "0    6204182\n",
       "1    5660230\n",
       "6    4496490\n",
       "2    4213830\n",
       "5    4205791\n",
       "3    3840534\n",
       "4    3783802\n",
       "Name: orders_day_of_week, dtype: int64"
      ]
     },
     "execution_count": 54,
     "metadata": {},
     "output_type": "execute_result"
    }
   ],
   "source": [
    "df_orders_products_merged['orders_day_of_week'].value_counts(dropna = False)"
   ]
  },
  {
   "cell_type": "code",
   "execution_count": 55,
   "id": "9096bc9e",
   "metadata": {
    "ExecuteTime": {
     "end_time": "2022-11-09T23:31:42.946353Z",
     "start_time": "2022-11-09T23:31:42.940443Z"
    },
    "execution": {
     "iopub.execute_input": "2023-04-25T13:50:51.595985Z",
     "iopub.status.busy": "2023-04-25T13:50:51.595779Z",
     "iopub.status.idle": "2023-04-25T13:50:51.602495Z",
     "shell.execute_reply": "2023-04-25T13:50:51.601811Z",
     "shell.execute_reply.started": "2023-04-25T13:50:51.595962Z"
    }
   },
   "outputs": [
    {
     "data": {
      "text/plain": [
       "(32404859, 19)"
      ]
     },
     "execution_count": 55,
     "metadata": {},
     "output_type": "execute_result"
    }
   ],
   "source": [
    "df_orders_products_merged.shape"
   ]
  },
  {
   "cell_type": "code",
   "execution_count": 56,
   "id": "d156742a",
   "metadata": {
    "ExecuteTime": {
     "end_time": "2022-11-09T23:31:43.103211Z",
     "start_time": "2022-11-09T23:31:42.947933Z"
    },
    "execution": {
     "iopub.execute_input": "2023-04-25T13:50:51.604367Z",
     "iopub.status.busy": "2023-04-25T13:50:51.603505Z",
     "iopub.status.idle": "2023-04-25T13:50:51.753713Z",
     "shell.execute_reply": "2023-04-25T13:50:51.753232Z",
     "shell.execute_reply.started": "2023-04-25T13:50:51.604340Z"
    },
    "scrolled": true
   },
   "outputs": [
    {
     "data": {
      "text/html": [
       "<div>\n",
       "<style scoped>\n",
       "    .dataframe tbody tr th:only-of-type {\n",
       "        vertical-align: middle;\n",
       "    }\n",
       "\n",
       "    .dataframe tbody tr th {\n",
       "        vertical-align: top;\n",
       "    }\n",
       "\n",
       "    .dataframe thead th {\n",
       "        text-align: right;\n",
       "    }\n",
       "</style>\n",
       "<table border=\"1\" class=\"dataframe\">\n",
       "  <thead>\n",
       "    <tr style=\"text-align: right;\">\n",
       "      <th></th>\n",
       "      <th>Unnamed: 0</th>\n",
       "      <th>product_id</th>\n",
       "      <th>product_name</th>\n",
       "      <th>aisle_id</th>\n",
       "      <th>department_id</th>\n",
       "      <th>prices</th>\n",
       "      <th>order_id</th>\n",
       "      <th>customer_id</th>\n",
       "      <th>order_number</th>\n",
       "      <th>orders_day_of_week</th>\n",
       "      <th>order_hour_of_day</th>\n",
       "      <th>days_since_prior_order</th>\n",
       "      <th>add_to_cart_order</th>\n",
       "      <th>reordered</th>\n",
       "      <th>_merge</th>\n",
       "      <th>_merge2</th>\n",
       "      <th>price_range</th>\n",
       "      <th>price_range_loc</th>\n",
       "      <th>busiest_day</th>\n",
       "    </tr>\n",
       "  </thead>\n",
       "  <tbody>\n",
       "    <tr>\n",
       "      <th>0</th>\n",
       "      <td>0</td>\n",
       "      <td>1</td>\n",
       "      <td>Chocolate Sandwich Cookies</td>\n",
       "      <td>61</td>\n",
       "      <td>19</td>\n",
       "      <td>5.8</td>\n",
       "      <td>3139998</td>\n",
       "      <td>138</td>\n",
       "      <td>28</td>\n",
       "      <td>6</td>\n",
       "      <td>11</td>\n",
       "      <td>3.0</td>\n",
       "      <td>5</td>\n",
       "      <td>0</td>\n",
       "      <td>both</td>\n",
       "      <td>both</td>\n",
       "      <td>Mid-range product</td>\n",
       "      <td>Mid-range product</td>\n",
       "      <td>Regularly busy</td>\n",
       "    </tr>\n",
       "    <tr>\n",
       "      <th>1</th>\n",
       "      <td>0</td>\n",
       "      <td>1</td>\n",
       "      <td>Chocolate Sandwich Cookies</td>\n",
       "      <td>61</td>\n",
       "      <td>19</td>\n",
       "      <td>5.8</td>\n",
       "      <td>1977647</td>\n",
       "      <td>138</td>\n",
       "      <td>30</td>\n",
       "      <td>6</td>\n",
       "      <td>17</td>\n",
       "      <td>20.0</td>\n",
       "      <td>1</td>\n",
       "      <td>1</td>\n",
       "      <td>both</td>\n",
       "      <td>both</td>\n",
       "      <td>Mid-range product</td>\n",
       "      <td>Mid-range product</td>\n",
       "      <td>Regularly busy</td>\n",
       "    </tr>\n",
       "    <tr>\n",
       "      <th>2</th>\n",
       "      <td>0</td>\n",
       "      <td>1</td>\n",
       "      <td>Chocolate Sandwich Cookies</td>\n",
       "      <td>61</td>\n",
       "      <td>19</td>\n",
       "      <td>5.8</td>\n",
       "      <td>389851</td>\n",
       "      <td>709</td>\n",
       "      <td>2</td>\n",
       "      <td>0</td>\n",
       "      <td>21</td>\n",
       "      <td>6.0</td>\n",
       "      <td>20</td>\n",
       "      <td>0</td>\n",
       "      <td>both</td>\n",
       "      <td>both</td>\n",
       "      <td>Mid-range product</td>\n",
       "      <td>Mid-range product</td>\n",
       "      <td>Busiest day</td>\n",
       "    </tr>\n",
       "    <tr>\n",
       "      <th>3</th>\n",
       "      <td>0</td>\n",
       "      <td>1</td>\n",
       "      <td>Chocolate Sandwich Cookies</td>\n",
       "      <td>61</td>\n",
       "      <td>19</td>\n",
       "      <td>5.8</td>\n",
       "      <td>652770</td>\n",
       "      <td>764</td>\n",
       "      <td>1</td>\n",
       "      <td>3</td>\n",
       "      <td>13</td>\n",
       "      <td>0.0</td>\n",
       "      <td>10</td>\n",
       "      <td>0</td>\n",
       "      <td>both</td>\n",
       "      <td>both</td>\n",
       "      <td>Mid-range product</td>\n",
       "      <td>Mid-range product</td>\n",
       "      <td>Regularly busy</td>\n",
       "    </tr>\n",
       "    <tr>\n",
       "      <th>4</th>\n",
       "      <td>0</td>\n",
       "      <td>1</td>\n",
       "      <td>Chocolate Sandwich Cookies</td>\n",
       "      <td>61</td>\n",
       "      <td>19</td>\n",
       "      <td>5.8</td>\n",
       "      <td>1813452</td>\n",
       "      <td>764</td>\n",
       "      <td>3</td>\n",
       "      <td>4</td>\n",
       "      <td>17</td>\n",
       "      <td>9.0</td>\n",
       "      <td>11</td>\n",
       "      <td>1</td>\n",
       "      <td>both</td>\n",
       "      <td>both</td>\n",
       "      <td>Mid-range product</td>\n",
       "      <td>Mid-range product</td>\n",
       "      <td>Least busy</td>\n",
       "    </tr>\n",
       "  </tbody>\n",
       "</table>\n",
       "</div>"
      ],
      "text/plain": [
       "   Unnamed: 0  product_id                product_name  aisle_id  \\\n",
       "0           0           1  Chocolate Sandwich Cookies        61   \n",
       "1           0           1  Chocolate Sandwich Cookies        61   \n",
       "2           0           1  Chocolate Sandwich Cookies        61   \n",
       "3           0           1  Chocolate Sandwich Cookies        61   \n",
       "4           0           1  Chocolate Sandwich Cookies        61   \n",
       "\n",
       "   department_id  prices  order_id  customer_id  order_number  \\\n",
       "0             19     5.8   3139998          138            28   \n",
       "1             19     5.8   1977647          138            30   \n",
       "2             19     5.8    389851          709             2   \n",
       "3             19     5.8    652770          764             1   \n",
       "4             19     5.8   1813452          764             3   \n",
       "\n",
       "   orders_day_of_week  order_hour_of_day  days_since_prior_order  \\\n",
       "0                   6                 11                     3.0   \n",
       "1                   6                 17                    20.0   \n",
       "2                   0                 21                     6.0   \n",
       "3                   3                 13                     0.0   \n",
       "4                   4                 17                     9.0   \n",
       "\n",
       "   add_to_cart_order  reordered _merge _merge2        price_range  \\\n",
       "0                  5          0   both    both  Mid-range product   \n",
       "1                  1          1   both    both  Mid-range product   \n",
       "2                 20          0   both    both  Mid-range product   \n",
       "3                 10          0   both    both  Mid-range product   \n",
       "4                 11          1   both    both  Mid-range product   \n",
       "\n",
       "     price_range_loc     busiest_day  \n",
       "0  Mid-range product  Regularly busy  \n",
       "1  Mid-range product  Regularly busy  \n",
       "2  Mid-range product     Busiest day  \n",
       "3  Mid-range product  Regularly busy  \n",
       "4  Mid-range product      Least busy  "
      ]
     },
     "execution_count": 56,
     "metadata": {},
     "output_type": "execute_result"
    }
   ],
   "source": [
    "df_orders_products_merged.head()"
   ]
  },
  {
   "cell_type": "markdown",
   "id": "49dab23b",
   "metadata": {},
   "source": [
    "# Beginning TASK 4.7"
   ]
  },
  {
   "cell_type": "markdown",
   "id": "eaa6322d",
   "metadata": {},
   "source": [
    "## Step #1:  If you haven’t done so already, complete the instructions in the Exercise for creating the “price_label” and “busiest_day” columns."
   ]
  },
  {
   "cell_type": "markdown",
   "id": "d977c92c",
   "metadata": {},
   "source": [
    "### Done during the Exercise, above.\n",
    "### I think the “price_label” column is really supposed to be the \"price_range\" column.  “price_label” is the name of the User Defined Function that was used to generate the \"price_range\" column."
   ]
  },
  {
   "cell_type": "markdown",
   "id": "90bbda53",
   "metadata": {},
   "source": [
    "## Step #2:  Suppose your clients have changed their minds about the labels you created in your “busiest_day” column. Now, they want “Busiest day” to become “Busiest days” (plural). This label should correspond with the two busiest days of the week as opposed to the single busiest day. At the same time, they’d also like to know the two slowest days. Create a new column for this using a suitable method."
   ]
  },
  {
   "cell_type": "markdown",
   "id": "f004d536",
   "metadata": {},
   "source": [
    "### Rather than create Yet Another column for this big DataFrame as instructed, I'm going to rename the column and fill it with the new set of values in place, to save on memory.  This not only seems more sensible and practical, it appears to be more in accord with the task rubric, which says, '“busiest_day” updated to “busiest_days”'."
   ]
  },
  {
   "cell_type": "code",
   "execution_count": 57,
   "id": "fcf8431d",
   "metadata": {
    "ExecuteTime": {
     "end_time": "2022-11-09T23:31:43.108110Z",
     "start_time": "2022-11-09T23:31:43.104869Z"
    },
    "execution": {
     "iopub.execute_input": "2023-04-25T13:50:51.755094Z",
     "iopub.status.busy": "2023-04-25T13:50:51.754653Z",
     "iopub.status.idle": "2023-04-25T13:50:51.758540Z",
     "shell.execute_reply": "2023-04-25T13:50:51.757770Z",
     "shell.execute_reply.started": "2023-04-25T13:50:51.755067Z"
    }
   },
   "outputs": [],
   "source": [
    "# Rename the existing column."
   ]
  },
  {
   "cell_type": "code",
   "execution_count": 58,
   "id": "f5f94b9c",
   "metadata": {
    "ExecuteTime": {
     "end_time": "2022-11-09T23:31:43.114626Z",
     "start_time": "2022-11-09T23:31:43.109771Z"
    },
    "execution": {
     "iopub.execute_input": "2023-04-25T13:50:51.759716Z",
     "iopub.status.busy": "2023-04-25T13:50:51.759493Z",
     "iopub.status.idle": "2023-04-25T13:50:51.764985Z",
     "shell.execute_reply": "2023-04-25T13:50:51.764411Z",
     "shell.execute_reply.started": "2023-04-25T13:50:51.759690Z"
    }
   },
   "outputs": [],
   "source": [
    "df_orders_products_merged.rename(columns={\"busiest_day\": \"busiest_days\"}, inplace=True)"
   ]
  },
  {
   "cell_type": "code",
   "execution_count": 59,
   "id": "0a6a96f5",
   "metadata": {
    "ExecuteTime": {
     "end_time": "2022-11-09T23:31:43.132230Z",
     "start_time": "2022-11-09T23:31:43.116381Z"
    },
    "execution": {
     "iopub.execute_input": "2023-04-25T13:50:51.766449Z",
     "iopub.status.busy": "2023-04-25T13:50:51.765838Z",
     "iopub.status.idle": "2023-04-25T13:50:51.785451Z",
     "shell.execute_reply": "2023-04-25T13:50:51.784751Z",
     "shell.execute_reply.started": "2023-04-25T13:50:51.766420Z"
    }
   },
   "outputs": [
    {
     "data": {
      "text/html": [
       "<div>\n",
       "<style scoped>\n",
       "    .dataframe tbody tr th:only-of-type {\n",
       "        vertical-align: middle;\n",
       "    }\n",
       "\n",
       "    .dataframe tbody tr th {\n",
       "        vertical-align: top;\n",
       "    }\n",
       "\n",
       "    .dataframe thead th {\n",
       "        text-align: right;\n",
       "    }\n",
       "</style>\n",
       "<table border=\"1\" class=\"dataframe\">\n",
       "  <thead>\n",
       "    <tr style=\"text-align: right;\">\n",
       "      <th></th>\n",
       "      <th>Unnamed: 0</th>\n",
       "      <th>product_id</th>\n",
       "      <th>product_name</th>\n",
       "      <th>aisle_id</th>\n",
       "      <th>department_id</th>\n",
       "      <th>prices</th>\n",
       "      <th>order_id</th>\n",
       "      <th>customer_id</th>\n",
       "      <th>order_number</th>\n",
       "      <th>orders_day_of_week</th>\n",
       "      <th>order_hour_of_day</th>\n",
       "      <th>days_since_prior_order</th>\n",
       "      <th>add_to_cart_order</th>\n",
       "      <th>reordered</th>\n",
       "      <th>_merge</th>\n",
       "      <th>_merge2</th>\n",
       "      <th>price_range</th>\n",
       "      <th>price_range_loc</th>\n",
       "      <th>busiest_days</th>\n",
       "    </tr>\n",
       "  </thead>\n",
       "  <tbody>\n",
       "    <tr>\n",
       "      <th>0</th>\n",
       "      <td>0</td>\n",
       "      <td>1</td>\n",
       "      <td>Chocolate Sandwich Cookies</td>\n",
       "      <td>61</td>\n",
       "      <td>19</td>\n",
       "      <td>5.8</td>\n",
       "      <td>3139998</td>\n",
       "      <td>138</td>\n",
       "      <td>28</td>\n",
       "      <td>6</td>\n",
       "      <td>11</td>\n",
       "      <td>3.0</td>\n",
       "      <td>5</td>\n",
       "      <td>0</td>\n",
       "      <td>both</td>\n",
       "      <td>both</td>\n",
       "      <td>Mid-range product</td>\n",
       "      <td>Mid-range product</td>\n",
       "      <td>Regularly busy</td>\n",
       "    </tr>\n",
       "    <tr>\n",
       "      <th>1</th>\n",
       "      <td>0</td>\n",
       "      <td>1</td>\n",
       "      <td>Chocolate Sandwich Cookies</td>\n",
       "      <td>61</td>\n",
       "      <td>19</td>\n",
       "      <td>5.8</td>\n",
       "      <td>1977647</td>\n",
       "      <td>138</td>\n",
       "      <td>30</td>\n",
       "      <td>6</td>\n",
       "      <td>17</td>\n",
       "      <td>20.0</td>\n",
       "      <td>1</td>\n",
       "      <td>1</td>\n",
       "      <td>both</td>\n",
       "      <td>both</td>\n",
       "      <td>Mid-range product</td>\n",
       "      <td>Mid-range product</td>\n",
       "      <td>Regularly busy</td>\n",
       "    </tr>\n",
       "    <tr>\n",
       "      <th>2</th>\n",
       "      <td>0</td>\n",
       "      <td>1</td>\n",
       "      <td>Chocolate Sandwich Cookies</td>\n",
       "      <td>61</td>\n",
       "      <td>19</td>\n",
       "      <td>5.8</td>\n",
       "      <td>389851</td>\n",
       "      <td>709</td>\n",
       "      <td>2</td>\n",
       "      <td>0</td>\n",
       "      <td>21</td>\n",
       "      <td>6.0</td>\n",
       "      <td>20</td>\n",
       "      <td>0</td>\n",
       "      <td>both</td>\n",
       "      <td>both</td>\n",
       "      <td>Mid-range product</td>\n",
       "      <td>Mid-range product</td>\n",
       "      <td>Busiest day</td>\n",
       "    </tr>\n",
       "    <tr>\n",
       "      <th>3</th>\n",
       "      <td>0</td>\n",
       "      <td>1</td>\n",
       "      <td>Chocolate Sandwich Cookies</td>\n",
       "      <td>61</td>\n",
       "      <td>19</td>\n",
       "      <td>5.8</td>\n",
       "      <td>652770</td>\n",
       "      <td>764</td>\n",
       "      <td>1</td>\n",
       "      <td>3</td>\n",
       "      <td>13</td>\n",
       "      <td>0.0</td>\n",
       "      <td>10</td>\n",
       "      <td>0</td>\n",
       "      <td>both</td>\n",
       "      <td>both</td>\n",
       "      <td>Mid-range product</td>\n",
       "      <td>Mid-range product</td>\n",
       "      <td>Regularly busy</td>\n",
       "    </tr>\n",
       "    <tr>\n",
       "      <th>4</th>\n",
       "      <td>0</td>\n",
       "      <td>1</td>\n",
       "      <td>Chocolate Sandwich Cookies</td>\n",
       "      <td>61</td>\n",
       "      <td>19</td>\n",
       "      <td>5.8</td>\n",
       "      <td>1813452</td>\n",
       "      <td>764</td>\n",
       "      <td>3</td>\n",
       "      <td>4</td>\n",
       "      <td>17</td>\n",
       "      <td>9.0</td>\n",
       "      <td>11</td>\n",
       "      <td>1</td>\n",
       "      <td>both</td>\n",
       "      <td>both</td>\n",
       "      <td>Mid-range product</td>\n",
       "      <td>Mid-range product</td>\n",
       "      <td>Least busy</td>\n",
       "    </tr>\n",
       "  </tbody>\n",
       "</table>\n",
       "</div>"
      ],
      "text/plain": [
       "   Unnamed: 0  product_id                product_name  aisle_id  \\\n",
       "0           0           1  Chocolate Sandwich Cookies        61   \n",
       "1           0           1  Chocolate Sandwich Cookies        61   \n",
       "2           0           1  Chocolate Sandwich Cookies        61   \n",
       "3           0           1  Chocolate Sandwich Cookies        61   \n",
       "4           0           1  Chocolate Sandwich Cookies        61   \n",
       "\n",
       "   department_id  prices  order_id  customer_id  order_number  \\\n",
       "0             19     5.8   3139998          138            28   \n",
       "1             19     5.8   1977647          138            30   \n",
       "2             19     5.8    389851          709             2   \n",
       "3             19     5.8    652770          764             1   \n",
       "4             19     5.8   1813452          764             3   \n",
       "\n",
       "   orders_day_of_week  order_hour_of_day  days_since_prior_order  \\\n",
       "0                   6                 11                     3.0   \n",
       "1                   6                 17                    20.0   \n",
       "2                   0                 21                     6.0   \n",
       "3                   3                 13                     0.0   \n",
       "4                   4                 17                     9.0   \n",
       "\n",
       "   add_to_cart_order  reordered _merge _merge2        price_range  \\\n",
       "0                  5          0   both    both  Mid-range product   \n",
       "1                  1          1   both    both  Mid-range product   \n",
       "2                 20          0   both    both  Mid-range product   \n",
       "3                 10          0   both    both  Mid-range product   \n",
       "4                 11          1   both    both  Mid-range product   \n",
       "\n",
       "     price_range_loc    busiest_days  \n",
       "0  Mid-range product  Regularly busy  \n",
       "1  Mid-range product  Regularly busy  \n",
       "2  Mid-range product     Busiest day  \n",
       "3  Mid-range product  Regularly busy  \n",
       "4  Mid-range product      Least busy  "
      ]
     },
     "execution_count": 59,
     "metadata": {},
     "output_type": "execute_result"
    }
   ],
   "source": [
    "df_orders_products_merged.head()"
   ]
  },
  {
   "cell_type": "code",
   "execution_count": 60,
   "id": "fbe66268",
   "metadata": {
    "ExecuteTime": {
     "end_time": "2022-11-09T23:31:43.137249Z",
     "start_time": "2022-11-09T23:31:43.133734Z"
    },
    "execution": {
     "iopub.execute_input": "2023-04-25T13:50:51.787009Z",
     "iopub.status.busy": "2023-04-25T13:50:51.786488Z",
     "iopub.status.idle": "2023-04-25T13:50:51.791972Z",
     "shell.execute_reply": "2023-04-25T13:50:51.790460Z",
     "shell.execute_reply.started": "2023-04-25T13:50:51.786968Z"
    }
   },
   "outputs": [],
   "source": [
    "# Re-use our previous method - even if a two-step method seems inefiicient to me - to fill in the new values."
   ]
  },
  {
   "cell_type": "code",
   "execution_count": 61,
   "id": "a04ebba5",
   "metadata": {
    "ExecuteTime": {
     "end_time": "2022-11-09T23:31:43.142947Z",
     "start_time": "2022-11-09T23:31:43.138793Z"
    },
    "execution": {
     "iopub.execute_input": "2023-04-25T13:50:51.793699Z",
     "iopub.status.busy": "2023-04-25T13:50:51.793298Z",
     "iopub.status.idle": "2023-04-25T13:50:51.796885Z",
     "shell.execute_reply": "2023-04-25T13:50:51.796202Z",
     "shell.execute_reply.started": "2023-04-25T13:50:51.793648Z"
    }
   },
   "outputs": [],
   "source": [
    "# Step A:  Build the new column, 'result', as a list.  Note that my DF has an 'order_dow' column, rather than\n",
    "# an 'orders_day_of_week' column.  Have I mixed up DFs somewhere. or is the Exercise author confused?\n",
    "# ANSWER:  YES, I MESSED UP IN PREVIOUS SCRIPTS AND RELOADED THE ORIGINAL, NON-WRANGLED orders.csv.  I am fixing this all now."
   ]
  },
  {
   "cell_type": "code",
   "execution_count": 62,
   "id": "758c23a8",
   "metadata": {
    "ExecuteTime": {
     "end_time": "2022-11-09T23:31:52.928262Z",
     "start_time": "2022-11-09T23:31:43.144471Z"
    },
    "execution": {
     "iopub.execute_input": "2023-04-25T13:50:51.798421Z",
     "iopub.status.busy": "2023-04-25T13:50:51.798107Z",
     "iopub.status.idle": "2023-04-25T13:51:01.899915Z",
     "shell.execute_reply": "2023-04-25T13:51:01.899214Z",
     "shell.execute_reply.started": "2023-04-25T13:50:51.798397Z"
    }
   },
   "outputs": [],
   "source": [
    "result = []\n",
    "\n",
    "for value in df_orders_products_merged[\"orders_day_of_week\"]:\n",
    "  if (value == 0 or value == 1):\n",
    "    result.append(\"Busiest days\")\n",
    "  elif (value == 4 or value == 3):\n",
    "    result.append(\"Least busy days\")\n",
    "  else:\n",
    "    result.append(\"Regularly busy\")"
   ]
  },
  {
   "cell_type": "code",
   "execution_count": 63,
   "id": "5608be6b",
   "metadata": {
    "ExecuteTime": {
     "end_time": "2022-11-09T23:31:52.932738Z",
     "start_time": "2022-11-09T23:31:52.930080Z"
    },
    "execution": {
     "iopub.execute_input": "2023-04-25T13:51:01.900995Z",
     "iopub.status.busy": "2023-04-25T13:51:01.900814Z",
     "iopub.status.idle": "2023-04-25T13:51:01.904320Z",
     "shell.execute_reply": "2023-04-25T13:51:01.903746Z",
     "shell.execute_reply.started": "2023-04-25T13:51:01.900973Z"
    }
   },
   "outputs": [],
   "source": [
    "# Step B:  Tack the set of results on to the DataFrame column, 'busiest_days'."
   ]
  },
  {
   "cell_type": "code",
   "execution_count": 64,
   "id": "c992b4b8",
   "metadata": {
    "ExecuteTime": {
     "end_time": "2022-11-09T23:31:54.180648Z",
     "start_time": "2022-11-09T23:31:52.934355Z"
    },
    "execution": {
     "iopub.execute_input": "2023-04-25T13:51:01.905887Z",
     "iopub.status.busy": "2023-04-25T13:51:01.905254Z",
     "iopub.status.idle": "2023-04-25T13:51:03.102048Z",
     "shell.execute_reply": "2023-04-25T13:51:03.101510Z",
     "shell.execute_reply.started": "2023-04-25T13:51:01.905862Z"
    }
   },
   "outputs": [],
   "source": [
    "df_orders_products_merged['busiest_days'] = result"
   ]
  },
  {
   "cell_type": "markdown",
   "id": "9c221e43",
   "metadata": {},
   "source": [
    "## Step #3:  Check the values of this new column for accuracy. Note any observations in markdown format."
   ]
  },
  {
   "cell_type": "markdown",
   "id": "aec2a05c",
   "metadata": {},
   "source": [
    "### The value_counts results have shifted, as expected, but the totals still add up to the same sum as before, and all other results appear as expected."
   ]
  },
  {
   "cell_type": "code",
   "execution_count": 65,
   "id": "f857a885",
   "metadata": {
    "ExecuteTime": {
     "end_time": "2022-11-09T23:31:54.670301Z",
     "start_time": "2022-11-09T23:31:54.182788Z"
    },
    "execution": {
     "iopub.execute_input": "2023-04-25T13:51:03.103490Z",
     "iopub.status.busy": "2023-04-25T13:51:03.102996Z",
     "iopub.status.idle": "2023-04-25T13:51:03.822226Z",
     "shell.execute_reply": "2023-04-25T13:51:03.820898Z",
     "shell.execute_reply.started": "2023-04-25T13:51:03.103467Z"
    }
   },
   "outputs": [
    {
     "data": {
      "text/plain": [
       "Regularly busy     12916111\n",
       "Busiest days       11864412\n",
       "Least busy days     7624336\n",
       "Name: busiest_days, dtype: int64"
      ]
     },
     "execution_count": 65,
     "metadata": {},
     "output_type": "execute_result"
    }
   ],
   "source": [
    "df_orders_products_merged['busiest_days'].value_counts(dropna = False)"
   ]
  },
  {
   "cell_type": "code",
   "execution_count": 66,
   "id": "618bc8e0",
   "metadata": {
    "ExecuteTime": {
     "end_time": "2022-11-09T23:31:54.840957Z",
     "start_time": "2022-11-09T23:31:54.672269Z"
    },
    "execution": {
     "iopub.execute_input": "2023-04-25T13:51:03.824020Z",
     "iopub.status.busy": "2023-04-25T13:51:03.823507Z",
     "iopub.status.idle": "2023-04-25T13:51:04.041001Z",
     "shell.execute_reply": "2023-04-25T13:51:04.040323Z",
     "shell.execute_reply.started": "2023-04-25T13:51:03.823985Z"
    },
    "scrolled": true
   },
   "outputs": [
    {
     "data": {
      "text/plain": [
       "0    6204182\n",
       "1    5660230\n",
       "6    4496490\n",
       "2    4213830\n",
       "5    4205791\n",
       "3    3840534\n",
       "4    3783802\n",
       "Name: orders_day_of_week, dtype: int64"
      ]
     },
     "execution_count": 66,
     "metadata": {},
     "output_type": "execute_result"
    }
   ],
   "source": [
    "df_orders_products_merged['orders_day_of_week'].value_counts(dropna = False)"
   ]
  },
  {
   "cell_type": "code",
   "execution_count": 67,
   "id": "ccef88fc",
   "metadata": {
    "ExecuteTime": {
     "end_time": "2022-11-09T23:31:54.847305Z",
     "start_time": "2022-11-09T23:31:54.843219Z"
    },
    "execution": {
     "iopub.execute_input": "2023-04-25T13:51:04.042006Z",
     "iopub.status.busy": "2023-04-25T13:51:04.041808Z",
     "iopub.status.idle": "2023-04-25T13:51:04.048650Z",
     "shell.execute_reply": "2023-04-25T13:51:04.047705Z",
     "shell.execute_reply.started": "2023-04-25T13:51:04.041983Z"
    }
   },
   "outputs": [
    {
     "data": {
      "text/plain": [
       "(32404859, 19)"
      ]
     },
     "execution_count": 67,
     "metadata": {},
     "output_type": "execute_result"
    }
   ],
   "source": [
    "df_orders_products_merged.shape"
   ]
  },
  {
   "cell_type": "code",
   "execution_count": 68,
   "id": "607b95a7",
   "metadata": {
    "ExecuteTime": {
     "end_time": "2022-11-09T23:31:54.863800Z",
     "start_time": "2022-11-09T23:31:54.849221Z"
    },
    "execution": {
     "iopub.execute_input": "2023-04-25T13:51:04.050165Z",
     "iopub.status.busy": "2023-04-25T13:51:04.049805Z",
     "iopub.status.idle": "2023-04-25T13:51:04.073732Z",
     "shell.execute_reply": "2023-04-25T13:51:04.072632Z",
     "shell.execute_reply.started": "2023-04-25T13:51:04.050130Z"
    },
    "scrolled": true
   },
   "outputs": [
    {
     "data": {
      "text/html": [
       "<div>\n",
       "<style scoped>\n",
       "    .dataframe tbody tr th:only-of-type {\n",
       "        vertical-align: middle;\n",
       "    }\n",
       "\n",
       "    .dataframe tbody tr th {\n",
       "        vertical-align: top;\n",
       "    }\n",
       "\n",
       "    .dataframe thead th {\n",
       "        text-align: right;\n",
       "    }\n",
       "</style>\n",
       "<table border=\"1\" class=\"dataframe\">\n",
       "  <thead>\n",
       "    <tr style=\"text-align: right;\">\n",
       "      <th></th>\n",
       "      <th>Unnamed: 0</th>\n",
       "      <th>product_id</th>\n",
       "      <th>product_name</th>\n",
       "      <th>aisle_id</th>\n",
       "      <th>department_id</th>\n",
       "      <th>prices</th>\n",
       "      <th>order_id</th>\n",
       "      <th>customer_id</th>\n",
       "      <th>order_number</th>\n",
       "      <th>orders_day_of_week</th>\n",
       "      <th>order_hour_of_day</th>\n",
       "      <th>days_since_prior_order</th>\n",
       "      <th>add_to_cart_order</th>\n",
       "      <th>reordered</th>\n",
       "      <th>_merge</th>\n",
       "      <th>_merge2</th>\n",
       "      <th>price_range</th>\n",
       "      <th>price_range_loc</th>\n",
       "      <th>busiest_days</th>\n",
       "    </tr>\n",
       "  </thead>\n",
       "  <tbody>\n",
       "    <tr>\n",
       "      <th>0</th>\n",
       "      <td>0</td>\n",
       "      <td>1</td>\n",
       "      <td>Chocolate Sandwich Cookies</td>\n",
       "      <td>61</td>\n",
       "      <td>19</td>\n",
       "      <td>5.8</td>\n",
       "      <td>3139998</td>\n",
       "      <td>138</td>\n",
       "      <td>28</td>\n",
       "      <td>6</td>\n",
       "      <td>11</td>\n",
       "      <td>3.0</td>\n",
       "      <td>5</td>\n",
       "      <td>0</td>\n",
       "      <td>both</td>\n",
       "      <td>both</td>\n",
       "      <td>Mid-range product</td>\n",
       "      <td>Mid-range product</td>\n",
       "      <td>Regularly busy</td>\n",
       "    </tr>\n",
       "    <tr>\n",
       "      <th>1</th>\n",
       "      <td>0</td>\n",
       "      <td>1</td>\n",
       "      <td>Chocolate Sandwich Cookies</td>\n",
       "      <td>61</td>\n",
       "      <td>19</td>\n",
       "      <td>5.8</td>\n",
       "      <td>1977647</td>\n",
       "      <td>138</td>\n",
       "      <td>30</td>\n",
       "      <td>6</td>\n",
       "      <td>17</td>\n",
       "      <td>20.0</td>\n",
       "      <td>1</td>\n",
       "      <td>1</td>\n",
       "      <td>both</td>\n",
       "      <td>both</td>\n",
       "      <td>Mid-range product</td>\n",
       "      <td>Mid-range product</td>\n",
       "      <td>Regularly busy</td>\n",
       "    </tr>\n",
       "    <tr>\n",
       "      <th>2</th>\n",
       "      <td>0</td>\n",
       "      <td>1</td>\n",
       "      <td>Chocolate Sandwich Cookies</td>\n",
       "      <td>61</td>\n",
       "      <td>19</td>\n",
       "      <td>5.8</td>\n",
       "      <td>389851</td>\n",
       "      <td>709</td>\n",
       "      <td>2</td>\n",
       "      <td>0</td>\n",
       "      <td>21</td>\n",
       "      <td>6.0</td>\n",
       "      <td>20</td>\n",
       "      <td>0</td>\n",
       "      <td>both</td>\n",
       "      <td>both</td>\n",
       "      <td>Mid-range product</td>\n",
       "      <td>Mid-range product</td>\n",
       "      <td>Busiest days</td>\n",
       "    </tr>\n",
       "    <tr>\n",
       "      <th>3</th>\n",
       "      <td>0</td>\n",
       "      <td>1</td>\n",
       "      <td>Chocolate Sandwich Cookies</td>\n",
       "      <td>61</td>\n",
       "      <td>19</td>\n",
       "      <td>5.8</td>\n",
       "      <td>652770</td>\n",
       "      <td>764</td>\n",
       "      <td>1</td>\n",
       "      <td>3</td>\n",
       "      <td>13</td>\n",
       "      <td>0.0</td>\n",
       "      <td>10</td>\n",
       "      <td>0</td>\n",
       "      <td>both</td>\n",
       "      <td>both</td>\n",
       "      <td>Mid-range product</td>\n",
       "      <td>Mid-range product</td>\n",
       "      <td>Least busy days</td>\n",
       "    </tr>\n",
       "    <tr>\n",
       "      <th>4</th>\n",
       "      <td>0</td>\n",
       "      <td>1</td>\n",
       "      <td>Chocolate Sandwich Cookies</td>\n",
       "      <td>61</td>\n",
       "      <td>19</td>\n",
       "      <td>5.8</td>\n",
       "      <td>1813452</td>\n",
       "      <td>764</td>\n",
       "      <td>3</td>\n",
       "      <td>4</td>\n",
       "      <td>17</td>\n",
       "      <td>9.0</td>\n",
       "      <td>11</td>\n",
       "      <td>1</td>\n",
       "      <td>both</td>\n",
       "      <td>both</td>\n",
       "      <td>Mid-range product</td>\n",
       "      <td>Mid-range product</td>\n",
       "      <td>Least busy days</td>\n",
       "    </tr>\n",
       "  </tbody>\n",
       "</table>\n",
       "</div>"
      ],
      "text/plain": [
       "   Unnamed: 0  product_id                product_name  aisle_id  \\\n",
       "0           0           1  Chocolate Sandwich Cookies        61   \n",
       "1           0           1  Chocolate Sandwich Cookies        61   \n",
       "2           0           1  Chocolate Sandwich Cookies        61   \n",
       "3           0           1  Chocolate Sandwich Cookies        61   \n",
       "4           0           1  Chocolate Sandwich Cookies        61   \n",
       "\n",
       "   department_id  prices  order_id  customer_id  order_number  \\\n",
       "0             19     5.8   3139998          138            28   \n",
       "1             19     5.8   1977647          138            30   \n",
       "2             19     5.8    389851          709             2   \n",
       "3             19     5.8    652770          764             1   \n",
       "4             19     5.8   1813452          764             3   \n",
       "\n",
       "   orders_day_of_week  order_hour_of_day  days_since_prior_order  \\\n",
       "0                   6                 11                     3.0   \n",
       "1                   6                 17                    20.0   \n",
       "2                   0                 21                     6.0   \n",
       "3                   3                 13                     0.0   \n",
       "4                   4                 17                     9.0   \n",
       "\n",
       "   add_to_cart_order  reordered _merge _merge2        price_range  \\\n",
       "0                  5          0   both    both  Mid-range product   \n",
       "1                  1          1   both    both  Mid-range product   \n",
       "2                 20          0   both    both  Mid-range product   \n",
       "3                 10          0   both    both  Mid-range product   \n",
       "4                 11          1   both    both  Mid-range product   \n",
       "\n",
       "     price_range_loc     busiest_days  \n",
       "0  Mid-range product   Regularly busy  \n",
       "1  Mid-range product   Regularly busy  \n",
       "2  Mid-range product     Busiest days  \n",
       "3  Mid-range product  Least busy days  \n",
       "4  Mid-range product  Least busy days  "
      ]
     },
     "execution_count": 68,
     "metadata": {},
     "output_type": "execute_result"
    }
   ],
   "source": [
    "df_orders_products_merged.head()"
   ]
  },
  {
   "cell_type": "markdown",
   "id": "6f11cabe",
   "metadata": {},
   "source": [
    "## Step #4:  When too many users make Instacart orders at the same time, the app freezes. The senior technical officer at Instacart wants you to identify the busiest hours of the day. Rather than by hour, they want periods of time labeled “Most orders,” “Average orders,” and “Fewest orders.” Create a new column containing these labels called “busiest_period_of_day.”"
   ]
  },
  {
   "cell_type": "markdown",
   "id": "d444a930",
   "metadata": {},
   "source": [
    "### To be realistic, we should look at the busiest hours of the whole week (or even month), rather than pretending that every day of the week has the same pattern, but this is just an exercise in Python, after all."
   ]
  },
  {
   "cell_type": "markdown",
   "id": "b15fafdc",
   "metadata": {},
   "source": [
    "### NOTE:  I choose to interpret these instructions similarly to how the busiest days were determined in Step #2, i.e. I'll choose the TWO busiest hours and the TWO least-busy hours."
   ]
  },
  {
   "cell_type": "code",
   "execution_count": 69,
   "id": "b14ed709",
   "metadata": {
    "ExecuteTime": {
     "end_time": "2022-11-09T23:31:54.868226Z",
     "start_time": "2022-11-09T23:31:54.865703Z"
    },
    "execution": {
     "iopub.execute_input": "2023-04-25T13:51:04.075435Z",
     "iopub.status.busy": "2023-04-25T13:51:04.074710Z",
     "iopub.status.idle": "2023-04-25T13:51:04.078718Z",
     "shell.execute_reply": "2023-04-25T13:51:04.078053Z",
     "shell.execute_reply.started": "2023-04-25T13:51:04.075410Z"
    }
   },
   "outputs": [],
   "source": [
    "# Using the same method as Step #2:  recycling code with replacments.\n",
    "# First, though, we need to find the busiest and least-busy hours:"
   ]
  },
  {
   "cell_type": "code",
   "execution_count": 70,
   "id": "e2de414e",
   "metadata": {
    "ExecuteTime": {
     "end_time": "2022-11-09T23:31:55.179600Z",
     "start_time": "2022-11-09T23:31:54.869796Z"
    },
    "execution": {
     "iopub.execute_input": "2023-04-25T13:51:04.079966Z",
     "iopub.status.busy": "2023-04-25T13:51:04.079762Z",
     "iopub.status.idle": "2023-04-25T13:51:04.433067Z",
     "shell.execute_reply": "2023-04-25T13:51:04.432421Z",
     "shell.execute_reply.started": "2023-04-25T13:51:04.079944Z"
    }
   },
   "outputs": [
    {
     "data": {
      "text/plain": [
       "10    2761760\n",
       "11    2736140\n",
       "14    2689136\n",
       "15    2662144\n",
       "13    2660954\n",
       "12    2618532\n",
       "16    2535202\n",
       "9     2454203\n",
       "17    2087654\n",
       "8     1718118\n",
       "18    1636502\n",
       "19    1258305\n",
       "20     976156\n",
       "7      891054\n",
       "21     795637\n",
       "22     634225\n",
       "23     402316\n",
       "6      290493\n",
       "0      218769\n",
       "1      115700\n",
       "5       87961\n",
       "2       69375\n",
       "4       53242\n",
       "3       51281\n",
       "Name: order_hour_of_day, dtype: int64"
      ]
     },
     "execution_count": 70,
     "metadata": {},
     "output_type": "execute_result"
    }
   ],
   "source": [
    "df_orders_products_merged['order_hour_of_day'].value_counts(dropna = False)"
   ]
  },
  {
   "cell_type": "code",
   "execution_count": 71,
   "id": "6b6dada6",
   "metadata": {
    "ExecuteTime": {
     "end_time": "2022-11-09T23:31:55.184541Z",
     "start_time": "2022-11-09T23:31:55.181329Z"
    },
    "execution": {
     "iopub.execute_input": "2023-04-25T13:51:04.434423Z",
     "iopub.status.busy": "2023-04-25T13:51:04.433920Z",
     "iopub.status.idle": "2023-04-25T13:51:04.438505Z",
     "shell.execute_reply": "2023-04-25T13:51:04.437633Z",
     "shell.execute_reply.started": "2023-04-25T13:51:04.434385Z"
    }
   },
   "outputs": [],
   "source": [
    "# Step A:  Build the new column, 'result', as a list."
   ]
  },
  {
   "cell_type": "code",
   "execution_count": 72,
   "id": "a7abf065",
   "metadata": {
    "ExecuteTime": {
     "end_time": "2022-11-09T23:32:06.062312Z",
     "start_time": "2022-11-09T23:31:55.186144Z"
    },
    "execution": {
     "iopub.execute_input": "2023-04-25T13:51:04.441019Z",
     "iopub.status.busy": "2023-04-25T13:51:04.440202Z",
     "iopub.status.idle": "2023-04-25T13:51:15.835808Z",
     "shell.execute_reply": "2023-04-25T13:51:15.834980Z",
     "shell.execute_reply.started": "2023-04-25T13:51:04.440967Z"
    }
   },
   "outputs": [],
   "source": [
    "result = []\n",
    "\n",
    "for value in df_orders_products_merged[\"order_hour_of_day\"]:\n",
    "  if (value == 10 or value == 11):\n",
    "    result.append(\"Busiest hours\")\n",
    "  elif (value == 4 or value == 3): # Huh.  The least-busy days are also the least-busy hours.\n",
    "    result.append(\"Least busy hours\")\n",
    "  else:\n",
    "    result.append(\"Regularly busy\")"
   ]
  },
  {
   "cell_type": "code",
   "execution_count": 73,
   "id": "fac92fca",
   "metadata": {
    "ExecuteTime": {
     "end_time": "2022-11-09T23:32:06.066754Z",
     "start_time": "2022-11-09T23:32:06.064072Z"
    },
    "execution": {
     "iopub.execute_input": "2023-04-25T13:51:15.837289Z",
     "iopub.status.busy": "2023-04-25T13:51:15.837084Z",
     "iopub.status.idle": "2023-04-25T13:51:15.840734Z",
     "shell.execute_reply": "2023-04-25T13:51:15.839984Z",
     "shell.execute_reply.started": "2023-04-25T13:51:15.837264Z"
    }
   },
   "outputs": [],
   "source": [
    "# Step B:  Tack the set of results on to the DataFrame column, 'busiest_hours'."
   ]
  },
  {
   "cell_type": "code",
   "execution_count": 74,
   "id": "1cf19ec6",
   "metadata": {
    "ExecuteTime": {
     "end_time": "2022-11-09T23:32:07.370730Z",
     "start_time": "2022-11-09T23:32:06.068445Z"
    },
    "execution": {
     "iopub.execute_input": "2023-04-25T13:51:15.842421Z",
     "iopub.status.busy": "2023-04-25T13:51:15.842014Z",
     "iopub.status.idle": "2023-04-25T13:51:17.083986Z",
     "shell.execute_reply": "2023-04-25T13:51:17.083455Z",
     "shell.execute_reply.started": "2023-04-25T13:51:15.842389Z"
    }
   },
   "outputs": [],
   "source": [
    "df_orders_products_merged['busiest_hours'] = result"
   ]
  },
  {
   "cell_type": "markdown",
   "id": "71bdc525",
   "metadata": {},
   "source": [
    "## Step #5:  Print the frequency for this new column."
   ]
  },
  {
   "cell_type": "markdown",
   "id": "adde60b0",
   "metadata": {},
   "source": [
    "### The numbers total the same expected sum (32,404,859)."
   ]
  },
  {
   "cell_type": "code",
   "execution_count": 75,
   "id": "bc772cdf",
   "metadata": {
    "ExecuteTime": {
     "end_time": "2022-11-09T23:32:07.863119Z",
     "start_time": "2022-11-09T23:32:07.372591Z"
    },
    "execution": {
     "iopub.execute_input": "2023-04-25T13:51:17.085288Z",
     "iopub.status.busy": "2023-04-25T13:51:17.084915Z",
     "iopub.status.idle": "2023-04-25T13:51:17.933001Z",
     "shell.execute_reply": "2023-04-25T13:51:17.932479Z",
     "shell.execute_reply.started": "2023-04-25T13:51:17.085177Z"
    }
   },
   "outputs": [
    {
     "data": {
      "text/plain": [
       "Regularly busy      26802436\n",
       "Busiest hours        5497900\n",
       "Least busy hours      104523\n",
       "Name: busiest_hours, dtype: int64"
      ]
     },
     "execution_count": 75,
     "metadata": {},
     "output_type": "execute_result"
    }
   ],
   "source": [
    "df_orders_products_merged['busiest_hours'].value_counts(dropna = False)"
   ]
  },
  {
   "cell_type": "code",
   "execution_count": 76,
   "id": "516f8f91",
   "metadata": {
    "ExecuteTime": {
     "end_time": "2022-11-09T23:32:07.867642Z",
     "start_time": "2022-11-09T23:32:07.865149Z"
    },
    "execution": {
     "iopub.execute_input": "2023-04-25T13:51:17.934355Z",
     "iopub.status.busy": "2023-04-25T13:51:17.934037Z",
     "iopub.status.idle": "2023-04-25T13:51:17.938846Z",
     "shell.execute_reply": "2023-04-25T13:51:17.938263Z",
     "shell.execute_reply.started": "2023-04-25T13:51:17.934332Z"
    }
   },
   "outputs": [],
   "source": [
    "# A couple of extra peeks, just for fun.  I expect a 20th column here."
   ]
  },
  {
   "cell_type": "code",
   "execution_count": 77,
   "id": "3fda8714",
   "metadata": {
    "ExecuteTime": {
     "end_time": "2022-11-09T23:32:07.873958Z",
     "start_time": "2022-11-09T23:32:07.869110Z"
    },
    "execution": {
     "iopub.execute_input": "2023-04-25T13:51:17.940438Z",
     "iopub.status.busy": "2023-04-25T13:51:17.939853Z",
     "iopub.status.idle": "2023-04-25T13:51:17.945587Z",
     "shell.execute_reply": "2023-04-25T13:51:17.944909Z",
     "shell.execute_reply.started": "2023-04-25T13:51:17.940409Z"
    }
   },
   "outputs": [
    {
     "data": {
      "text/plain": [
       "(32404859, 20)"
      ]
     },
     "execution_count": 77,
     "metadata": {},
     "output_type": "execute_result"
    }
   ],
   "source": [
    "df_orders_products_merged.shape"
   ]
  },
  {
   "cell_type": "code",
   "execution_count": 78,
   "id": "6ff31bd3",
   "metadata": {
    "ExecuteTime": {
     "end_time": "2022-11-09T23:32:07.891805Z",
     "start_time": "2022-11-09T23:32:07.875422Z"
    },
    "execution": {
     "iopub.execute_input": "2023-04-25T13:51:17.946956Z",
     "iopub.status.busy": "2023-04-25T13:51:17.946592Z",
     "iopub.status.idle": "2023-04-25T13:51:17.969143Z",
     "shell.execute_reply": "2023-04-25T13:51:17.968215Z",
     "shell.execute_reply.started": "2023-04-25T13:51:17.946927Z"
    },
    "scrolled": true
   },
   "outputs": [
    {
     "data": {
      "text/html": [
       "<div>\n",
       "<style scoped>\n",
       "    .dataframe tbody tr th:only-of-type {\n",
       "        vertical-align: middle;\n",
       "    }\n",
       "\n",
       "    .dataframe tbody tr th {\n",
       "        vertical-align: top;\n",
       "    }\n",
       "\n",
       "    .dataframe thead th {\n",
       "        text-align: right;\n",
       "    }\n",
       "</style>\n",
       "<table border=\"1\" class=\"dataframe\">\n",
       "  <thead>\n",
       "    <tr style=\"text-align: right;\">\n",
       "      <th></th>\n",
       "      <th>Unnamed: 0</th>\n",
       "      <th>product_id</th>\n",
       "      <th>product_name</th>\n",
       "      <th>aisle_id</th>\n",
       "      <th>department_id</th>\n",
       "      <th>prices</th>\n",
       "      <th>order_id</th>\n",
       "      <th>customer_id</th>\n",
       "      <th>order_number</th>\n",
       "      <th>orders_day_of_week</th>\n",
       "      <th>order_hour_of_day</th>\n",
       "      <th>days_since_prior_order</th>\n",
       "      <th>add_to_cart_order</th>\n",
       "      <th>reordered</th>\n",
       "      <th>_merge</th>\n",
       "      <th>_merge2</th>\n",
       "      <th>price_range</th>\n",
       "      <th>price_range_loc</th>\n",
       "      <th>busiest_days</th>\n",
       "      <th>busiest_hours</th>\n",
       "    </tr>\n",
       "  </thead>\n",
       "  <tbody>\n",
       "    <tr>\n",
       "      <th>0</th>\n",
       "      <td>0</td>\n",
       "      <td>1</td>\n",
       "      <td>Chocolate Sandwich Cookies</td>\n",
       "      <td>61</td>\n",
       "      <td>19</td>\n",
       "      <td>5.8</td>\n",
       "      <td>3139998</td>\n",
       "      <td>138</td>\n",
       "      <td>28</td>\n",
       "      <td>6</td>\n",
       "      <td>11</td>\n",
       "      <td>3.0</td>\n",
       "      <td>5</td>\n",
       "      <td>0</td>\n",
       "      <td>both</td>\n",
       "      <td>both</td>\n",
       "      <td>Mid-range product</td>\n",
       "      <td>Mid-range product</td>\n",
       "      <td>Regularly busy</td>\n",
       "      <td>Busiest hours</td>\n",
       "    </tr>\n",
       "    <tr>\n",
       "      <th>1</th>\n",
       "      <td>0</td>\n",
       "      <td>1</td>\n",
       "      <td>Chocolate Sandwich Cookies</td>\n",
       "      <td>61</td>\n",
       "      <td>19</td>\n",
       "      <td>5.8</td>\n",
       "      <td>1977647</td>\n",
       "      <td>138</td>\n",
       "      <td>30</td>\n",
       "      <td>6</td>\n",
       "      <td>17</td>\n",
       "      <td>20.0</td>\n",
       "      <td>1</td>\n",
       "      <td>1</td>\n",
       "      <td>both</td>\n",
       "      <td>both</td>\n",
       "      <td>Mid-range product</td>\n",
       "      <td>Mid-range product</td>\n",
       "      <td>Regularly busy</td>\n",
       "      <td>Regularly busy</td>\n",
       "    </tr>\n",
       "    <tr>\n",
       "      <th>2</th>\n",
       "      <td>0</td>\n",
       "      <td>1</td>\n",
       "      <td>Chocolate Sandwich Cookies</td>\n",
       "      <td>61</td>\n",
       "      <td>19</td>\n",
       "      <td>5.8</td>\n",
       "      <td>389851</td>\n",
       "      <td>709</td>\n",
       "      <td>2</td>\n",
       "      <td>0</td>\n",
       "      <td>21</td>\n",
       "      <td>6.0</td>\n",
       "      <td>20</td>\n",
       "      <td>0</td>\n",
       "      <td>both</td>\n",
       "      <td>both</td>\n",
       "      <td>Mid-range product</td>\n",
       "      <td>Mid-range product</td>\n",
       "      <td>Busiest days</td>\n",
       "      <td>Regularly busy</td>\n",
       "    </tr>\n",
       "    <tr>\n",
       "      <th>3</th>\n",
       "      <td>0</td>\n",
       "      <td>1</td>\n",
       "      <td>Chocolate Sandwich Cookies</td>\n",
       "      <td>61</td>\n",
       "      <td>19</td>\n",
       "      <td>5.8</td>\n",
       "      <td>652770</td>\n",
       "      <td>764</td>\n",
       "      <td>1</td>\n",
       "      <td>3</td>\n",
       "      <td>13</td>\n",
       "      <td>0.0</td>\n",
       "      <td>10</td>\n",
       "      <td>0</td>\n",
       "      <td>both</td>\n",
       "      <td>both</td>\n",
       "      <td>Mid-range product</td>\n",
       "      <td>Mid-range product</td>\n",
       "      <td>Least busy days</td>\n",
       "      <td>Regularly busy</td>\n",
       "    </tr>\n",
       "    <tr>\n",
       "      <th>4</th>\n",
       "      <td>0</td>\n",
       "      <td>1</td>\n",
       "      <td>Chocolate Sandwich Cookies</td>\n",
       "      <td>61</td>\n",
       "      <td>19</td>\n",
       "      <td>5.8</td>\n",
       "      <td>1813452</td>\n",
       "      <td>764</td>\n",
       "      <td>3</td>\n",
       "      <td>4</td>\n",
       "      <td>17</td>\n",
       "      <td>9.0</td>\n",
       "      <td>11</td>\n",
       "      <td>1</td>\n",
       "      <td>both</td>\n",
       "      <td>both</td>\n",
       "      <td>Mid-range product</td>\n",
       "      <td>Mid-range product</td>\n",
       "      <td>Least busy days</td>\n",
       "      <td>Regularly busy</td>\n",
       "    </tr>\n",
       "  </tbody>\n",
       "</table>\n",
       "</div>"
      ],
      "text/plain": [
       "   Unnamed: 0  product_id                product_name  aisle_id  \\\n",
       "0           0           1  Chocolate Sandwich Cookies        61   \n",
       "1           0           1  Chocolate Sandwich Cookies        61   \n",
       "2           0           1  Chocolate Sandwich Cookies        61   \n",
       "3           0           1  Chocolate Sandwich Cookies        61   \n",
       "4           0           1  Chocolate Sandwich Cookies        61   \n",
       "\n",
       "   department_id  prices  order_id  customer_id  order_number  \\\n",
       "0             19     5.8   3139998          138            28   \n",
       "1             19     5.8   1977647          138            30   \n",
       "2             19     5.8    389851          709             2   \n",
       "3             19     5.8    652770          764             1   \n",
       "4             19     5.8   1813452          764             3   \n",
       "\n",
       "   orders_day_of_week  order_hour_of_day  days_since_prior_order  \\\n",
       "0                   6                 11                     3.0   \n",
       "1                   6                 17                    20.0   \n",
       "2                   0                 21                     6.0   \n",
       "3                   3                 13                     0.0   \n",
       "4                   4                 17                     9.0   \n",
       "\n",
       "   add_to_cart_order  reordered _merge _merge2        price_range  \\\n",
       "0                  5          0   both    both  Mid-range product   \n",
       "1                  1          1   both    both  Mid-range product   \n",
       "2                 20          0   both    both  Mid-range product   \n",
       "3                 10          0   both    both  Mid-range product   \n",
       "4                 11          1   both    both  Mid-range product   \n",
       "\n",
       "     price_range_loc     busiest_days   busiest_hours  \n",
       "0  Mid-range product   Regularly busy   Busiest hours  \n",
       "1  Mid-range product   Regularly busy  Regularly busy  \n",
       "2  Mid-range product     Busiest days  Regularly busy  \n",
       "3  Mid-range product  Least busy days  Regularly busy  \n",
       "4  Mid-range product  Least busy days  Regularly busy  "
      ]
     },
     "execution_count": 78,
     "metadata": {},
     "output_type": "execute_result"
    }
   ],
   "source": [
    "df_orders_products_merged.head()"
   ]
  },
  {
   "cell_type": "markdown",
   "id": "cf31657b",
   "metadata": {},
   "source": [
    "## Step #6:  Ensure your notebook is clean and structured and that your code is well commented."
   ]
  },
  {
   "cell_type": "markdown",
   "id": "f0b5ef56",
   "metadata": {},
   "source": [
    "### :fingers_crosssed:"
   ]
  },
  {
   "cell_type": "markdown",
   "id": "d49a25aa",
   "metadata": {},
   "source": [
    "## Step #7:  Export your dataframe as a pickle file (since you added new columns) and store it correctly in your “Prepared Data” folder."
   ]
  },
  {
   "cell_type": "code",
   "execution_count": 79,
   "id": "74379301",
   "metadata": {
    "ExecuteTime": {
     "end_time": "2022-11-09T23:32:43.962475Z",
     "start_time": "2022-11-09T23:32:07.893415Z"
    },
    "execution": {
     "iopub.execute_input": "2023-04-25T13:51:17.971690Z",
     "iopub.status.busy": "2023-04-25T13:51:17.970526Z",
     "iopub.status.idle": "2023-04-25T13:52:00.380696Z",
     "shell.execute_reply": "2023-04-25T13:52:00.380159Z",
     "shell.execute_reply.started": "2023-04-25T13:51:17.971640Z"
    },
    "tags": []
   },
   "outputs": [],
   "source": [
    "df_orders_products_merged.to_pickle(os.path.join(path, '02-Data','Prepared-Data', 'orders_products_merged.pkl'))"
   ]
  }
 ],
 "metadata": {
  "kernelspec": {
   "display_name": "Python 3 (ipykernel)",
   "language": "python",
   "name": "python3"
  },
  "language_info": {
   "codemirror_mode": {
    "name": "ipython",
    "version": 3
   },
   "file_extension": ".py",
   "mimetype": "text/x-python",
   "name": "python",
   "nbconvert_exporter": "python",
   "pygments_lexer": "ipython3",
   "version": "3.9.12"
  }
 },
 "nbformat": 4,
 "nbformat_minor": 5
}
