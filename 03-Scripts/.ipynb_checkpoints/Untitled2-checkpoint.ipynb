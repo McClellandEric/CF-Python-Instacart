{
 "cells": [
  {
   "cell_type": "markdown",
   "id": "d8c7328b-880b-4bfb-bb1a-60c9cdecc74b",
   "metadata": {
    "tags": []
   },
   "source": [
    "# Task 4.10: Coding Etiquette & Excel Reporting, EXTRA EXPLORATION FOR Steps 5-??"
   ]
  },
  {
   "cell_type": "markdown",
   "id": "15dbec8f-908e-448d-be22-9f1018346fb5",
   "metadata": {},
   "source": [
    "## Standard prerequisites.  Now with additional libraries seaborn, matplotlib, and scipy."
   ]
  },
  {
   "cell_type": "code",
   "execution_count": 2,
   "id": "5b2690b1-8912-4ba3-a6e2-56eeb8091068",
   "metadata": {
    "ExecuteTime": {
     "end_time": "2023-03-16T05:13:58.104429Z",
     "start_time": "2023-03-16T05:13:55.458556Z"
    },
    "execution": {
     "iopub.execute_input": "2023-04-02T01:17:36.621674Z",
     "iopub.status.busy": "2023-04-02T01:17:36.620940Z",
     "iopub.status.idle": "2023-04-02T01:17:39.500412Z",
     "shell.execute_reply": "2023-04-02T01:17:39.499673Z",
     "shell.execute_reply.started": "2023-04-02T01:17:36.621645Z"
    },
    "tags": []
   },
   "outputs": [],
   "source": [
    "# Import libraries\n",
    "import pandas as pd\n",
    "# I'm trying modin as a drop-in replace-- er, enhancement to pandas; supposedly it will help use more than one CPU core.\n",
    "# Nope.  I'm having too much trouble getting modin installed, so it's back to plain old Pandas for now. :-(\n",
    "# import modin.pandas as pd\n",
    "import numpy as np\n",
    "import os\n",
    "import matplotlib.pyplot as plt\n",
    "import seaborn as sns\n",
    "import scipy"
   ]
  },
  {
   "cell_type": "code",
   "execution_count": 3,
   "id": "1bc812cb-1dd3-42fb-94b1-b2730b38d429",
   "metadata": {
    "ExecuteTime": {
     "end_time": "2023-03-16T05:13:58.110007Z",
     "start_time": "2023-03-16T05:13:58.106940Z"
    },
    "execution": {
     "iopub.execute_input": "2023-04-02T01:17:39.502410Z",
     "iopub.status.busy": "2023-04-02T01:17:39.501841Z",
     "iopub.status.idle": "2023-04-02T01:17:39.505896Z",
     "shell.execute_reply": "2023-04-02T01:17:39.505247Z",
     "shell.execute_reply.started": "2023-04-02T01:17:39.502385Z"
    }
   },
   "outputs": [],
   "source": [
    "# Starting with Exercise 4.7, import additional libraries I've discovered thanks to Lubov, especially the time library.\n",
    "import time\n",
    "import string\n",
    "import random"
   ]
  },
  {
   "cell_type": "code",
   "execution_count": 4,
   "id": "2f3d2071-8ef1-4b95-a21e-4e3695466178",
   "metadata": {
    "execution": {
     "iopub.execute_input": "2023-04-02T01:17:39.507427Z",
     "iopub.status.busy": "2023-04-02T01:17:39.506896Z",
     "iopub.status.idle": "2023-04-02T01:17:39.512135Z",
     "shell.execute_reply": "2023-04-02T01:17:39.511500Z",
     "shell.execute_reply.started": "2023-04-02T01:17:39.507401Z"
    },
    "tags": []
   },
   "outputs": [],
   "source": [
    "# Import itertools to help loop through lots of things.\n",
    "import itertools"
   ]
  },
  {
   "cell_type": "code",
   "execution_count": 5,
   "id": "f254cf81-511d-4a02-a43d-6f4fe33e39ad",
   "metadata": {
    "ExecuteTime": {
     "end_time": "2023-03-16T05:13:58.116676Z",
     "start_time": "2023-03-16T05:13:58.111662Z"
    },
    "execution": {
     "iopub.execute_input": "2023-04-02T01:17:39.514366Z",
     "iopub.status.busy": "2023-04-02T01:17:39.513926Z",
     "iopub.status.idle": "2023-04-02T01:17:39.517959Z",
     "shell.execute_reply": "2023-04-02T01:17:39.517301Z",
     "shell.execute_reply.started": "2023-04-02T01:17:39.514340Z"
    }
   },
   "outputs": [],
   "source": [
    "# Set a PATH variable."
   ]
  },
  {
   "cell_type": "code",
   "execution_count": 6,
   "id": "9e69bac0-29b0-406e-abc3-cce00a14d3be",
   "metadata": {
    "ExecuteTime": {
     "end_time": "2023-03-16T05:13:58.122247Z",
     "start_time": "2023-03-16T05:13:58.119034Z"
    },
    "execution": {
     "iopub.execute_input": "2023-04-02T01:17:39.519156Z",
     "iopub.status.busy": "2023-04-02T01:17:39.518961Z",
     "iopub.status.idle": "2023-04-02T01:17:39.525368Z",
     "shell.execute_reply": "2023-04-02T01:17:39.524452Z",
     "shell.execute_reply.started": "2023-04-02T01:17:39.519134Z"
    }
   },
   "outputs": [],
   "source": [
    "# Linux PATH - Sadly, my Linux system with 8GB of total RAM could not import the new df_ords_prior DataFrame.\n",
    "# BUT, now I have moved again, to an AWS EC2 instance that should be able to handle this."
   ]
  },
  {
   "cell_type": "code",
   "execution_count": 7,
   "id": "89ac72f6-e7b5-43d7-944e-614c9065eac5",
   "metadata": {
    "ExecuteTime": {
     "end_time": "2023-03-16T05:13:58.129043Z",
     "start_time": "2023-03-16T05:13:58.124442Z"
    },
    "execution": {
     "iopub.execute_input": "2023-04-02T01:17:39.526739Z",
     "iopub.status.busy": "2023-04-02T01:17:39.526294Z",
     "iopub.status.idle": "2023-04-02T01:17:39.530957Z",
     "shell.execute_reply": "2023-04-02T01:17:39.530351Z",
     "shell.execute_reply.started": "2023-04-02T01:17:39.526715Z"
    }
   },
   "outputs": [],
   "source": [
    "## path = (r'~/careerfoundry/tasks/data-immersion/Achievement4/Instacart-Basket-Analysis')"
   ]
  },
  {
   "cell_type": "markdown",
   "id": "c9e2a74e-57a6-4814-afdb-34f09e42f742",
   "metadata": {},
   "source": [
    "### # Oh, wow, matplotlib.pyplot.savefig function does not expand the tilde (~) reference in directory paths.  LAME. :("
   ]
  },
  {
   "cell_type": "code",
   "execution_count": 8,
   "id": "09a97293-0403-4b96-aaec-417d30ac267d",
   "metadata": {
    "ExecuteTime": {
     "end_time": "2023-03-16T05:13:58.133903Z",
     "start_time": "2023-03-16T05:13:58.130743Z"
    },
    "execution": {
     "iopub.execute_input": "2023-04-02T01:17:39.532014Z",
     "iopub.status.busy": "2023-04-02T01:17:39.531827Z",
     "iopub.status.idle": "2023-04-02T01:17:39.537592Z",
     "shell.execute_reply": "2023-04-02T01:17:39.536870Z",
     "shell.execute_reply.started": "2023-04-02T01:17:39.531991Z"
    }
   },
   "outputs": [],
   "source": [
    "path = (r'/home/ubuntu/careerfoundry/tasks/data-immersion/Achievement4/Instacart-Basket-Analysis')"
   ]
  },
  {
   "cell_type": "code",
   "execution_count": 9,
   "id": "fa252f1c-766b-4522-92c5-ba11cdfd29bd",
   "metadata": {
    "ExecuteTime": {
     "end_time": "2023-03-16T05:13:58.140204Z",
     "start_time": "2023-03-16T05:13:58.135602Z"
    },
    "execution": {
     "iopub.execute_input": "2023-04-02T01:17:39.538779Z",
     "iopub.status.busy": "2023-04-02T01:17:39.538449Z",
     "iopub.status.idle": "2023-04-02T01:17:39.543307Z",
     "shell.execute_reply": "2023-04-02T01:17:39.542529Z",
     "shell.execute_reply.started": "2023-04-02T01:17:39.538755Z"
    }
   },
   "outputs": [],
   "source": [
    "# windoze PATH - The windoze laptop I bought for Excel and Tableau also has 16GB of RAM, so I migrated there."
   ]
  },
  {
   "cell_type": "code",
   "execution_count": 10,
   "id": "04e6c272-50b4-42f4-918c-c14d1a0ddfd0",
   "metadata": {
    "ExecuteTime": {
     "end_time": "2023-03-16T05:13:58.144930Z",
     "start_time": "2023-03-16T05:13:58.142052Z"
    },
    "execution": {
     "iopub.execute_input": "2023-04-02T01:17:39.544672Z",
     "iopub.status.busy": "2023-04-02T01:17:39.544284Z",
     "iopub.status.idle": "2023-04-02T01:17:39.549570Z",
     "shell.execute_reply": "2023-04-02T01:17:39.548355Z",
     "shell.execute_reply.started": "2023-04-02T01:17:39.544644Z"
    }
   },
   "outputs": [],
   "source": [
    "## path = (r'C:\\Users\\emccc\\OneDrive\\Documents\\CareerFoundry\\Achievement-4\\Instacart-Basket-Analysis')"
   ]
  },
  {
   "cell_type": "markdown",
   "id": "84837b0f-9a5f-476a-ad4d-78d475f519cc",
   "metadata": {},
   "source": [
    "# This new notebook is for exploring the new summary dataset that I created.  The dataset is a summary of all the\n",
    "# purchases made by customers who match each of the 5,184 possible combinations from eight demographic columns."
   ]
  },
  {
   "cell_type": "code",
   "execution_count": null,
   "id": "0c85f4ca-7b82-4d4e-8e14-6efc8ae183d9",
   "metadata": {},
   "outputs": [],
   "source": [
    "# In case we need, it, let's load the high_cust_df from its pickle file."
   ]
  }
 ],
 "metadata": {
  "kernelspec": {
   "display_name": "Python 3 (ipykernel)",
   "language": "python",
   "name": "python3"
  },
  "language_info": {
   "codemirror_mode": {
    "name": "ipython",
    "version": 3
   },
   "file_extension": ".py",
   "mimetype": "text/x-python",
   "name": "python",
   "nbconvert_exporter": "python",
   "pygments_lexer": "ipython3",
   "version": "3.9.12"
  }
 },
 "nbformat": 4,
 "nbformat_minor": 5
}
