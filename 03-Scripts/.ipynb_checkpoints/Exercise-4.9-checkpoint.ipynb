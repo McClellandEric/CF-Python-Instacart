{
 "cells": [
  {
   "cell_type": "markdown",
   "id": "f796445c",
   "metadata": {},
   "source": [
    "# Exercise 4.9: Intro to Data Visualization with Python"
   ]
  },
  {
   "cell_type": "markdown",
   "id": "ae591bf1",
   "metadata": {},
   "source": [
    "## Standard prerequisites.  Now with additional libraries seaborn, matplotlib, and scipy."
   ]
  },
  {
   "cell_type": "code",
   "execution_count": 11,
   "id": "c28cad55",
   "metadata": {
    "ExecuteTime": {
     "end_time": "2023-03-14T01:02:55.001796Z",
     "start_time": "2023-03-14T01:02:54.998308Z"
    }
   },
   "outputs": [],
   "source": [
    "# Import libraries\n",
    "import pandas as pd\n",
    "import numpy as np\n",
    "import os\n",
    "import matplotlib.pyplot as plt\n",
    "import seaborn as sns\n",
    "import scipy"
   ]
  },
  {
   "cell_type": "code",
   "execution_count": 12,
   "id": "82c2be48",
   "metadata": {
    "ExecuteTime": {
     "end_time": "2023-03-14T01:02:55.008018Z",
     "start_time": "2023-03-14T01:02:55.003720Z"
    }
   },
   "outputs": [],
   "source": [
    "# Starting with Exercise 4.7, import additional libraries I've discovered thanks to Lubov, especially the time library.\n",
    "import time\n",
    "import string\n",
    "import random"
   ]
  },
  {
   "cell_type": "code",
   "execution_count": 13,
   "id": "1a9ae03c",
   "metadata": {
    "ExecuteTime": {
     "end_time": "2023-03-14T01:02:55.012883Z",
     "start_time": "2023-03-14T01:02:55.010213Z"
    }
   },
   "outputs": [],
   "source": [
    "# Set a PATH variable."
   ]
  },
  {
   "cell_type": "code",
   "execution_count": 14,
   "id": "14835c38",
   "metadata": {
    "ExecuteTime": {
     "end_time": "2023-03-14T01:02:55.017764Z",
     "start_time": "2023-03-14T01:02:55.014538Z"
    }
   },
   "outputs": [],
   "source": [
    "# Linux PATH - Sadly, my Linux system with 8GB of total RAM could not import the new df_ords_prior DataFrame.\n",
    "# BUT, now I have moved again, to an AWS EC2 instance that should be able to handle this."
   ]
  },
  {
   "cell_type": "code",
   "execution_count": 15,
   "id": "b341b24d",
   "metadata": {
    "ExecuteTime": {
     "end_time": "2023-03-14T01:02:55.022629Z",
     "start_time": "2023-03-14T01:02:55.019919Z"
    }
   },
   "outputs": [],
   "source": [
    "## path = (r'~/careerfoundry/tasks/data-immersion/Achievement4/Instacart-Basket-Analysis')"
   ]
  },
  {
   "cell_type": "markdown",
   "id": "cee315ae",
   "metadata": {},
   "source": [
    "### # Oh, wow, matplotlib.pyplot.savefig function does not expand the tilde (~) reference in directory paths.  LAME. :("
   ]
  },
  {
   "cell_type": "code",
   "execution_count": 16,
   "id": "1bb68571",
   "metadata": {
    "ExecuteTime": {
     "end_time": "2023-03-14T01:02:55.027660Z",
     "start_time": "2023-03-14T01:02:55.024301Z"
    }
   },
   "outputs": [],
   "source": [
    "path = (r'/home/ubuntu/careerfoundry/tasks/data-immersion/Achievement4/Instacart-Basket-Analysis')"
   ]
  },
  {
   "cell_type": "code",
   "execution_count": 17,
   "id": "1f4e62b8",
   "metadata": {
    "ExecuteTime": {
     "end_time": "2023-03-14T01:02:55.033401Z",
     "start_time": "2023-03-14T01:02:55.029262Z"
    }
   },
   "outputs": [],
   "source": [
    "# windoze PATH - The windoze laptop I bought for Excel and Tableau also has 16GB of RAM, so I migrated there."
   ]
  },
  {
   "cell_type": "code",
   "execution_count": 18,
   "id": "f61d9b62",
   "metadata": {
    "ExecuteTime": {
     "end_time": "2023-03-14T01:02:55.038089Z",
     "start_time": "2023-03-14T01:02:55.034887Z"
    }
   },
   "outputs": [],
   "source": [
    "## path = (r'C:\\Users\\emccc\\OneDrive\\Documents\\CareerFoundry\\Achievement-4\\Instacart-Basket-Analysis')"
   ]
  },
  {
   "cell_type": "markdown",
   "id": "40cc838b",
   "metadata": {},
   "source": [
    "# Read the ords_prods_merge_derived_columns.pkl file into DataFrame, ords_prods_merge , per Exercise 4.9 instructions"
   ]
  },
  {
   "cell_type": "code",
   "execution_count": 19,
   "id": "a0e84f77",
   "metadata": {
    "ExecuteTime": {
     "end_time": "2023-03-14T01:03:07.453549Z",
     "start_time": "2023-03-14T01:02:55.039618Z"
    }
   },
   "outputs": [],
   "source": [
    "ords_prods_merge = pd.read_pickle(os.path.join(path, '02-Data', 'Prepared-Data', 'ords_prods_merge_derived_columns.pkl'))"
   ]
  },
  {
   "cell_type": "code",
   "execution_count": 20,
   "id": "9bd0018d",
   "metadata": {
    "ExecuteTime": {
     "end_time": "2023-03-14T01:04:26.781688Z",
     "start_time": "2023-03-14T01:04:26.775805Z"
    }
   },
   "outputs": [
    {
     "data": {
      "text/plain": [
       "(32404859, 26)"
      ]
     },
     "execution_count": 20,
     "metadata": {},
     "output_type": "execute_result"
    }
   ],
   "source": [
    "ords_prods_merge.shape"
   ]
  },
  {
   "cell_type": "code",
   "execution_count": 21,
   "id": "fd710038",
   "metadata": {
    "ExecuteTime": {
     "end_time": "2023-03-14T01:04:43.321395Z",
     "start_time": "2023-03-14T01:04:43.292386Z"
    }
   },
   "outputs": [
    {
     "data": {
      "text/html": [
       "<div>\n",
       "<style scoped>\n",
       "    .dataframe tbody tr th:only-of-type {\n",
       "        vertical-align: middle;\n",
       "    }\n",
       "\n",
       "    .dataframe tbody tr th {\n",
       "        vertical-align: top;\n",
       "    }\n",
       "\n",
       "    .dataframe thead th {\n",
       "        text-align: right;\n",
       "    }\n",
       "</style>\n",
       "<table border=\"1\" class=\"dataframe\">\n",
       "  <thead>\n",
       "    <tr style=\"text-align: right;\">\n",
       "      <th></th>\n",
       "      <th>Unnamed: 0</th>\n",
       "      <th>product_id</th>\n",
       "      <th>product_name</th>\n",
       "      <th>aisle_id</th>\n",
       "      <th>department_id</th>\n",
       "      <th>prices</th>\n",
       "      <th>order_id</th>\n",
       "      <th>user_id</th>\n",
       "      <th>order_number</th>\n",
       "      <th>order_dow</th>\n",
       "      <th>...</th>\n",
       "      <th>price_range</th>\n",
       "      <th>price_range_loc</th>\n",
       "      <th>busiest_days</th>\n",
       "      <th>busiest_hours</th>\n",
       "      <th>max_order</th>\n",
       "      <th>loyalty_flag</th>\n",
       "      <th>avg_order</th>\n",
       "      <th>spending_flag</th>\n",
       "      <th>avg_order_frequency</th>\n",
       "      <th>frequency_flag</th>\n",
       "    </tr>\n",
       "  </thead>\n",
       "  <tbody>\n",
       "    <tr>\n",
       "      <th>0</th>\n",
       "      <td>0</td>\n",
       "      <td>1</td>\n",
       "      <td>Chocolate Sandwich Cookies</td>\n",
       "      <td>61</td>\n",
       "      <td>19</td>\n",
       "      <td>5.8</td>\n",
       "      <td>3139998</td>\n",
       "      <td>138</td>\n",
       "      <td>28</td>\n",
       "      <td>6</td>\n",
       "      <td>...</td>\n",
       "      <td>Mid-range product</td>\n",
       "      <td>Mid-range product</td>\n",
       "      <td>Regularly busy</td>\n",
       "      <td>Busiest hours</td>\n",
       "      <td>32</td>\n",
       "      <td>Regular customer</td>\n",
       "      <td>6.935811</td>\n",
       "      <td>Low spender</td>\n",
       "      <td>9.837838</td>\n",
       "      <td>Frequent customer</td>\n",
       "    </tr>\n",
       "    <tr>\n",
       "      <th>1</th>\n",
       "      <td>0</td>\n",
       "      <td>1</td>\n",
       "      <td>Chocolate Sandwich Cookies</td>\n",
       "      <td>61</td>\n",
       "      <td>19</td>\n",
       "      <td>5.8</td>\n",
       "      <td>1977647</td>\n",
       "      <td>138</td>\n",
       "      <td>30</td>\n",
       "      <td>6</td>\n",
       "      <td>...</td>\n",
       "      <td>Mid-range product</td>\n",
       "      <td>Mid-range product</td>\n",
       "      <td>Regularly busy</td>\n",
       "      <td>Regularly busy</td>\n",
       "      <td>32</td>\n",
       "      <td>Regular customer</td>\n",
       "      <td>6.935811</td>\n",
       "      <td>Low spender</td>\n",
       "      <td>9.837838</td>\n",
       "      <td>Frequent customer</td>\n",
       "    </tr>\n",
       "  </tbody>\n",
       "</table>\n",
       "<p>2 rows × 26 columns</p>\n",
       "</div>"
      ],
      "text/plain": [
       "   Unnamed: 0  product_id                product_name  aisle_id  \\\n",
       "0           0           1  Chocolate Sandwich Cookies        61   \n",
       "1           0           1  Chocolate Sandwich Cookies        61   \n",
       "\n",
       "   department_id  prices  order_id  user_id  order_number  order_dow  ...  \\\n",
       "0             19     5.8   3139998      138            28          6  ...   \n",
       "1             19     5.8   1977647      138            30          6  ...   \n",
       "\n",
       "         price_range    price_range_loc    busiest_days   busiest_hours  \\\n",
       "0  Mid-range product  Mid-range product  Regularly busy   Busiest hours   \n",
       "1  Mid-range product  Mid-range product  Regularly busy  Regularly busy   \n",
       "\n",
       "  max_order      loyalty_flag avg_order spending_flag avg_order_frequency  \\\n",
       "0        32  Regular customer  6.935811   Low spender            9.837838   \n",
       "1        32  Regular customer  6.935811   Low spender            9.837838   \n",
       "\n",
       "      frequency_flag  \n",
       "0  Frequent customer  \n",
       "1  Frequent customer  \n",
       "\n",
       "[2 rows x 26 columns]"
      ]
     },
     "execution_count": 21,
     "metadata": {},
     "output_type": "execute_result"
    }
   ],
   "source": [
    "ords_prods_merge.head(2)"
   ]
  },
  {
   "cell_type": "code",
   "execution_count": 22,
   "id": "f3a4ee19",
   "metadata": {
    "ExecuteTime": {
     "end_time": "2023-03-14T01:36:35.336906Z",
     "start_time": "2023-03-14T01:36:35.161727Z"
    },
    "scrolled": false
   },
   "outputs": [
    {
     "data": {
      "text/plain": [
       "0    6204182\n",
       "1    5660230\n",
       "6    4496490\n",
       "2    4213830\n",
       "5    4205791\n",
       "3    3840534\n",
       "4    3783802\n",
       "Name: order_dow, dtype: int64"
      ]
     },
     "execution_count": 22,
     "metadata": {},
     "output_type": "execute_result"
    }
   ],
   "source": [
    "ords_prods_merge['order_dow'].value_counts()"
   ]
  },
  {
   "cell_type": "code",
   "execution_count": 23,
   "id": "025482bb",
   "metadata": {
    "ExecuteTime": {
     "end_time": "2023-03-14T01:36:41.502860Z",
     "start_time": "2023-03-14T01:36:41.140577Z"
    },
    "scrolled": true
   },
   "outputs": [
    {
     "data": {
      "text/plain": [
       "<AxesSubplot:>"
      ]
     },
     "execution_count": 23,
     "metadata": {},
     "output_type": "execute_result"
    },
    {
     "data": {
      "image/png": "[encoded data removed]",
      "text/plain": [
       "<Figure size 432x288 with 1 Axes>"
      ]
     },
     "metadata": {
      "needs_background": "light"
     },
     "output_type": "display_data"
    }
   ],
   "source": [
    "ords_prods_merge['order_dow'].value_counts().plot.bar()"
   ]
  },
  {
   "cell_type": "code",
   "execution_count": 24,
   "id": "1853d939",
   "metadata": {
    "ExecuteTime": {
     "end_time": "2023-03-14T01:38:57.242872Z",
     "start_time": "2023-03-14T01:38:57.069040Z"
    },
    "scrolled": true
   },
   "outputs": [
    {
     "data": {
      "text/plain": [
       "0    6204182\n",
       "1    5660230\n",
       "2    4213830\n",
       "3    3840534\n",
       "4    3783802\n",
       "5    4205791\n",
       "6    4496490\n",
       "Name: order_dow, dtype: int64"
      ]
     },
     "execution_count": 24,
     "metadata": {},
     "output_type": "execute_result"
    }
   ],
   "source": [
    "ords_prods_merge['order_dow'].value_counts().sort_index()"
   ]
  },
  {
   "cell_type": "code",
   "execution_count": 25,
   "id": "3abd68b8",
   "metadata": {
    "ExecuteTime": {
     "end_time": "2023-03-14T01:39:13.131497Z",
     "start_time": "2023-03-14T01:39:12.838823Z"
    },
    "scrolled": true
   },
   "outputs": [
    {
     "data": {
      "text/plain": [
       "<AxesSubplot:>"
      ]
     },
     "execution_count": 25,
     "metadata": {},
     "output_type": "execute_result"
    },
    {
     "data": {
      "image/png": "[encoded data removed]",
      "text/plain": [
       "<Figure size 432x288 with 1 Axes>"
      ]
     },
     "metadata": {
      "needs_background": "light"
     },
     "output_type": "display_data"
    }
   ],
   "source": [
    "ords_prods_merge['order_dow'].value_counts().sort_index().plot.bar()"
   ]
  },
  {
   "cell_type": "code",
   "execution_count": 26,
   "id": "b79a9764",
   "metadata": {
    "ExecuteTime": {
     "end_time": "2023-03-14T01:40:54.266256Z",
     "start_time": "2023-03-14T01:40:53.976924Z"
    }
   },
   "outputs": [
    {
     "data": {
      "image/png": "[encoded data removed]",
      "text/plain": [
       "<Figure size 432x288 with 1 Axes>"
      ]
     },
     "metadata": {
      "needs_background": "light"
     },
     "output_type": "display_data"
    }
   ],
   "source": [
    "bar = ords_prods_merge['order_dow'].value_counts().plot.bar(color =['purple', 'red', 'pink', 'orange', 'yellow', 'green', 'blue'])"
   ]
  },
  {
   "cell_type": "code",
   "execution_count": 27,
   "id": "4f1fdf93",
   "metadata": {
    "ExecuteTime": {
     "end_time": "2023-03-14T01:41:07.250852Z",
     "start_time": "2023-03-14T01:41:07.165712Z"
    },
    "scrolled": true
   },
   "outputs": [
    {
     "data": {
      "image/png": "[encoded data removed]",
      "text/plain": [
       "<Figure size 432x288 with 1 Axes>"
      ]
     },
     "execution_count": 27,
     "metadata": {},
     "output_type": "execute_result"
    }
   ],
   "source": [
    "bar.figure"
   ]
  },
  {
   "cell_type": "code",
   "execution_count": 28,
   "id": "c39d0717",
   "metadata": {
    "ExecuteTime": {
     "end_time": "2023-03-14T01:44:07.991540Z",
     "start_time": "2023-03-14T01:44:07.956524Z"
    },
    "scrolled": false
   },
   "outputs": [],
   "source": [
    "bar.figure.savefig(os.path.join(path, '04-Analysis','Visualizations', 'bar_orders_dow.png'))"
   ]
  },
  {
   "cell_type": "markdown",
   "id": "226fbc3d",
   "metadata": {},
   "source": [
    "## At this point in Exercise 4.9, we discovered that we have some wildly skewed values in the 'prices' column, as shown by the charts below.  Contrary to the recommendation from the course author, I will keep the cleanup steps we take in this notebook, rather than backfill them to a notebook from a previous Exercise.  It makes more sense to keep the Exercise 4.9 work with the Exercise 4.9 notebook."
   ]
  },
  {
   "cell_type": "code",
   "execution_count": 29,
   "id": "6962cc55",
   "metadata": {
    "ExecuteTime": {
     "end_time": "2023-03-14T01:45:59.527297Z",
     "start_time": "2023-03-14T01:45:57.353322Z"
    },
    "scrolled": true
   },
   "outputs": [
    {
     "data": {
      "text/plain": [
       "<AxesSubplot:ylabel='Frequency'>"
      ]
     },
     "execution_count": 29,
     "metadata": {},
     "output_type": "execute_result"
    },
    {
     "data": {
      "image/png": "[encoded data removed]",
      "text/plain": [
       "<Figure size 432x288 with 1 Axes>"
      ]
     },
     "metadata": {
      "needs_background": "light"
     },
     "output_type": "display_data"
    }
   ],
   "source": [
    "ords_prods_merge['prices'].plot.hist(bins = 25)"
   ]
  },
  {
   "cell_type": "code",
   "execution_count": 30,
   "id": "80c0a3c2",
   "metadata": {
    "ExecuteTime": {
     "end_time": "2023-03-14T01:46:11.181883Z",
     "start_time": "2023-03-14T01:46:10.528970Z"
    }
   },
   "outputs": [
    {
     "data": {
      "text/plain": [
       "count    3.240486e+07\n",
       "mean     1.198023e+01\n",
       "std      4.956554e+02\n",
       "min      1.000000e+00\n",
       "25%      4.200000e+00\n",
       "50%      7.400000e+00\n",
       "75%      1.130000e+01\n",
       "max      9.999900e+04\n",
       "Name: prices, dtype: float64"
      ]
     },
     "execution_count": 30,
     "metadata": {},
     "output_type": "execute_result"
    }
   ],
   "source": [
    "ords_prods_merge['prices'].describe()"
   ]
  },
  {
   "cell_type": "code",
   "execution_count": 33,
   "id": "1cb856ff",
   "metadata": {
    "ExecuteTime": {
     "end_time": "2023-03-14T01:50:50.742229Z",
     "start_time": "2023-03-14T01:50:50.446127Z"
    }
   },
   "outputs": [
    {
     "data": {
      "text/plain": [
       "11.980225638375474"
      ]
     },
     "execution_count": 33,
     "metadata": {},
     "output_type": "execute_result"
    }
   ],
   "source": [
    "ords_prods_merge['prices'].mean()"
   ]
  },
  {
   "cell_type": "code",
   "execution_count": 35,
   "id": "ec87c58b",
   "metadata": {
    "ExecuteTime": {
     "end_time": "2023-03-14T01:50:50.742229Z",
     "start_time": "2023-03-14T01:50:50.446127Z"
    }
   },
   "outputs": [
    {
     "data": {
      "text/plain": [
       "7.4"
      ]
     },
     "execution_count": 35,
     "metadata": {},
     "output_type": "execute_result"
    }
   ],
   "source": [
    "ords_prods_merge['prices'].median()"
   ]
  },
  {
   "cell_type": "code",
   "execution_count": 34,
   "id": "e625bff4",
   "metadata": {
    "ExecuteTime": {
     "end_time": "2023-03-14T01:50:46.584281Z",
     "start_time": "2023-03-14T01:50:46.546270Z"
    }
   },
   "outputs": [
    {
     "data": {
      "text/plain": [
       "99999.0"
      ]
     },
     "execution_count": 34,
     "metadata": {},
     "output_type": "execute_result"
    }
   ],
   "source": [
    "ords_prods_merge['prices'].max()"
   ]
  },
  {
   "cell_type": "code",
   "execution_count": 32,
   "id": "f55cef7e",
   "metadata": {
    "ExecuteTime": {
     "end_time": "2023-03-14T01:49:07.584582Z",
     "start_time": "2023-03-14T01:48:08.146981Z"
    }
   },
   "outputs": [
    {
     "data": {
      "text/plain": [
       "<AxesSubplot:xlabel='prices', ylabel='prices'>"
      ]
     },
     "execution_count": 32,
     "metadata": {},
     "output_type": "execute_result"
    },
    {
     "data": {
      "image/png": "[encoded data removed]",
      "text/plain": [
       "<Figure size 432x288 with 1 Axes>"
      ]
     },
     "metadata": {
      "needs_background": "light"
     },
     "output_type": "display_data"
    }
   ],
   "source": [
    "sns.scatterplot(x = 'prices', y = 'prices',data = ords_prods_merge)"
   ]
  },
  {
   "cell_type": "code",
   "execution_count": 36,
   "id": "3c3591b2",
   "metadata": {
    "ExecuteTime": {
     "end_time": "2023-03-14T01:53:06.734840Z",
     "start_time": "2023-03-14T01:53:06.683058Z"
    }
   },
   "outputs": [
    {
     "data": {
      "text/html": [
       "<div>\n",
       "<style scoped>\n",
       "    .dataframe tbody tr th:only-of-type {\n",
       "        vertical-align: middle;\n",
       "    }\n",
       "\n",
       "    .dataframe tbody tr th {\n",
       "        vertical-align: top;\n",
       "    }\n",
       "\n",
       "    .dataframe thead th {\n",
       "        text-align: right;\n",
       "    }\n",
       "</style>\n",
       "<table border=\"1\" class=\"dataframe\">\n",
       "  <thead>\n",
       "    <tr style=\"text-align: right;\">\n",
       "      <th></th>\n",
       "      <th>Unnamed: 0</th>\n",
       "      <th>product_id</th>\n",
       "      <th>product_name</th>\n",
       "      <th>aisle_id</th>\n",
       "      <th>department_id</th>\n",
       "      <th>prices</th>\n",
       "      <th>order_id</th>\n",
       "      <th>user_id</th>\n",
       "      <th>order_number</th>\n",
       "      <th>order_dow</th>\n",
       "      <th>...</th>\n",
       "      <th>price_range</th>\n",
       "      <th>price_range_loc</th>\n",
       "      <th>busiest_days</th>\n",
       "      <th>busiest_hours</th>\n",
       "      <th>max_order</th>\n",
       "      <th>loyalty_flag</th>\n",
       "      <th>avg_order</th>\n",
       "      <th>spending_flag</th>\n",
       "      <th>avg_order_frequency</th>\n",
       "      <th>frequency_flag</th>\n",
       "    </tr>\n",
       "  </thead>\n",
       "  <tbody>\n",
       "    <tr>\n",
       "      <th>13100147</th>\n",
       "      <td>21554</td>\n",
       "      <td>21553</td>\n",
       "      <td>Lowfat 2% Milkfat Cottage Cheese</td>\n",
       "      <td>108</td>\n",
       "      <td>16</td>\n",
       "      <td>14900.0</td>\n",
       "      <td>912404</td>\n",
       "      <td>17</td>\n",
       "      <td>12</td>\n",
       "      <td>2</td>\n",
       "      <td>...</td>\n",
       "      <td>High range</td>\n",
       "      <td>High-range product</td>\n",
       "      <td>Regularly busy</td>\n",
       "      <td>Regularly busy</td>\n",
       "      <td>40</td>\n",
       "      <td>Regular customer</td>\n",
       "      <td>108.648299</td>\n",
       "      <td>High spender</td>\n",
       "      <td>8.183673</td>\n",
       "      <td>Frequent customer</td>\n",
       "    </tr>\n",
       "    <tr>\n",
       "      <th>13100148</th>\n",
       "      <td>21554</td>\n",
       "      <td>21553</td>\n",
       "      <td>Lowfat 2% Milkfat Cottage Cheese</td>\n",
       "      <td>108</td>\n",
       "      <td>16</td>\n",
       "      <td>14900.0</td>\n",
       "      <td>603376</td>\n",
       "      <td>17</td>\n",
       "      <td>22</td>\n",
       "      <td>6</td>\n",
       "      <td>...</td>\n",
       "      <td>High range</td>\n",
       "      <td>High-range product</td>\n",
       "      <td>Regularly busy</td>\n",
       "      <td>Regularly busy</td>\n",
       "      <td>40</td>\n",
       "      <td>Regular customer</td>\n",
       "      <td>108.648299</td>\n",
       "      <td>High spender</td>\n",
       "      <td>8.183673</td>\n",
       "      <td>Frequent customer</td>\n",
       "    </tr>\n",
       "    <tr>\n",
       "      <th>13100149</th>\n",
       "      <td>21554</td>\n",
       "      <td>21553</td>\n",
       "      <td>Lowfat 2% Milkfat Cottage Cheese</td>\n",
       "      <td>108</td>\n",
       "      <td>16</td>\n",
       "      <td>14900.0</td>\n",
       "      <td>3264360</td>\n",
       "      <td>135</td>\n",
       "      <td>2</td>\n",
       "      <td>2</td>\n",
       "      <td>...</td>\n",
       "      <td>High range</td>\n",
       "      <td>High-range product</td>\n",
       "      <td>Regularly busy</td>\n",
       "      <td>Regularly busy</td>\n",
       "      <td>4</td>\n",
       "      <td>New customer</td>\n",
       "      <td>1154.792308</td>\n",
       "      <td>High spender</td>\n",
       "      <td>11.000000</td>\n",
       "      <td>Regular customer</td>\n",
       "    </tr>\n",
       "    <tr>\n",
       "      <th>13100150</th>\n",
       "      <td>21554</td>\n",
       "      <td>21553</td>\n",
       "      <td>Lowfat 2% Milkfat Cottage Cheese</td>\n",
       "      <td>108</td>\n",
       "      <td>16</td>\n",
       "      <td>14900.0</td>\n",
       "      <td>892534</td>\n",
       "      <td>135</td>\n",
       "      <td>3</td>\n",
       "      <td>0</td>\n",
       "      <td>...</td>\n",
       "      <td>High range</td>\n",
       "      <td>High-range product</td>\n",
       "      <td>Busiest days</td>\n",
       "      <td>Regularly busy</td>\n",
       "      <td>4</td>\n",
       "      <td>New customer</td>\n",
       "      <td>1154.792308</td>\n",
       "      <td>High spender</td>\n",
       "      <td>11.000000</td>\n",
       "      <td>Regular customer</td>\n",
       "    </tr>\n",
       "    <tr>\n",
       "      <th>13100151</th>\n",
       "      <td>21554</td>\n",
       "      <td>21553</td>\n",
       "      <td>Lowfat 2% Milkfat Cottage Cheese</td>\n",
       "      <td>108</td>\n",
       "      <td>16</td>\n",
       "      <td>14900.0</td>\n",
       "      <td>229704</td>\n",
       "      <td>342</td>\n",
       "      <td>8</td>\n",
       "      <td>1</td>\n",
       "      <td>...</td>\n",
       "      <td>High range</td>\n",
       "      <td>High-range product</td>\n",
       "      <td>Busiest days</td>\n",
       "      <td>Regularly busy</td>\n",
       "      <td>16</td>\n",
       "      <td>Regular customer</td>\n",
       "      <td>114.426619</td>\n",
       "      <td>High spender</td>\n",
       "      <td>19.093525</td>\n",
       "      <td>Regular customer</td>\n",
       "    </tr>\n",
       "    <tr>\n",
       "      <th>...</th>\n",
       "      <td>...</td>\n",
       "      <td>...</td>\n",
       "      <td>...</td>\n",
       "      <td>...</td>\n",
       "      <td>...</td>\n",
       "      <td>...</td>\n",
       "      <td>...</td>\n",
       "      <td>...</td>\n",
       "      <td>...</td>\n",
       "      <td>...</td>\n",
       "      <td>...</td>\n",
       "      <td>...</td>\n",
       "      <td>...</td>\n",
       "      <td>...</td>\n",
       "      <td>...</td>\n",
       "      <td>...</td>\n",
       "      <td>...</td>\n",
       "      <td>...</td>\n",
       "      <td>...</td>\n",
       "      <td>...</td>\n",
       "      <td>...</td>\n",
       "    </tr>\n",
       "    <tr>\n",
       "      <th>21786876</th>\n",
       "      <td>33666</td>\n",
       "      <td>33664</td>\n",
       "      <td>2 % Reduced Fat  Milk</td>\n",
       "      <td>84</td>\n",
       "      <td>16</td>\n",
       "      <td>99999.0</td>\n",
       "      <td>2249946</td>\n",
       "      <td>204099</td>\n",
       "      <td>29</td>\n",
       "      <td>0</td>\n",
       "      <td>...</td>\n",
       "      <td>High range</td>\n",
       "      <td>High-range product</td>\n",
       "      <td>Busiest days</td>\n",
       "      <td>Regularly busy</td>\n",
       "      <td>39</td>\n",
       "      <td>Regular customer</td>\n",
       "      <td>1106.743956</td>\n",
       "      <td>High spender</td>\n",
       "      <td>7.895604</td>\n",
       "      <td>Frequent customer</td>\n",
       "    </tr>\n",
       "    <tr>\n",
       "      <th>21786877</th>\n",
       "      <td>33666</td>\n",
       "      <td>33664</td>\n",
       "      <td>2 % Reduced Fat  Milk</td>\n",
       "      <td>84</td>\n",
       "      <td>16</td>\n",
       "      <td>99999.0</td>\n",
       "      <td>2363282</td>\n",
       "      <td>204099</td>\n",
       "      <td>31</td>\n",
       "      <td>0</td>\n",
       "      <td>...</td>\n",
       "      <td>High range</td>\n",
       "      <td>High-range product</td>\n",
       "      <td>Busiest days</td>\n",
       "      <td>Regularly busy</td>\n",
       "      <td>39</td>\n",
       "      <td>Regular customer</td>\n",
       "      <td>1106.743956</td>\n",
       "      <td>High spender</td>\n",
       "      <td>7.895604</td>\n",
       "      <td>Frequent customer</td>\n",
       "    </tr>\n",
       "    <tr>\n",
       "      <th>21786878</th>\n",
       "      <td>33666</td>\n",
       "      <td>33664</td>\n",
       "      <td>2 % Reduced Fat  Milk</td>\n",
       "      <td>84</td>\n",
       "      <td>16</td>\n",
       "      <td>99999.0</td>\n",
       "      <td>3181945</td>\n",
       "      <td>204395</td>\n",
       "      <td>13</td>\n",
       "      <td>3</td>\n",
       "      <td>...</td>\n",
       "      <td>High range</td>\n",
       "      <td>High-range product</td>\n",
       "      <td>Least busy days</td>\n",
       "      <td>Regularly busy</td>\n",
       "      <td>15</td>\n",
       "      <td>Regular customer</td>\n",
       "      <td>451.153540</td>\n",
       "      <td>High spender</td>\n",
       "      <td>4.597345</td>\n",
       "      <td>Frequent customer</td>\n",
       "    </tr>\n",
       "    <tr>\n",
       "      <th>21786879</th>\n",
       "      <td>33666</td>\n",
       "      <td>33664</td>\n",
       "      <td>2 % Reduced Fat  Milk</td>\n",
       "      <td>84</td>\n",
       "      <td>16</td>\n",
       "      <td>99999.0</td>\n",
       "      <td>2486215</td>\n",
       "      <td>205227</td>\n",
       "      <td>7</td>\n",
       "      <td>3</td>\n",
       "      <td>...</td>\n",
       "      <td>High range</td>\n",
       "      <td>High-range product</td>\n",
       "      <td>Least busy days</td>\n",
       "      <td>Regularly busy</td>\n",
       "      <td>12</td>\n",
       "      <td>Regular customer</td>\n",
       "      <td>1178.381871</td>\n",
       "      <td>High spender</td>\n",
       "      <td>11.286550</td>\n",
       "      <td>Regular customer</td>\n",
       "    </tr>\n",
       "    <tr>\n",
       "      <th>21786880</th>\n",
       "      <td>33666</td>\n",
       "      <td>33664</td>\n",
       "      <td>2 % Reduced Fat  Milk</td>\n",
       "      <td>84</td>\n",
       "      <td>16</td>\n",
       "      <td>99999.0</td>\n",
       "      <td>2232716</td>\n",
       "      <td>205227</td>\n",
       "      <td>10</td>\n",
       "      <td>0</td>\n",
       "      <td>...</td>\n",
       "      <td>High range</td>\n",
       "      <td>High-range product</td>\n",
       "      <td>Busiest days</td>\n",
       "      <td>Busiest hours</td>\n",
       "      <td>12</td>\n",
       "      <td>Regular customer</td>\n",
       "      <td>1178.381871</td>\n",
       "      <td>High spender</td>\n",
       "      <td>11.286550</td>\n",
       "      <td>Regular customer</td>\n",
       "    </tr>\n",
       "  </tbody>\n",
       "</table>\n",
       "<p>5127 rows × 26 columns</p>\n",
       "</div>"
      ],
      "text/plain": [
       "          Unnamed: 0  product_id                      product_name  aisle_id  \\\n",
       "13100147       21554       21553  Lowfat 2% Milkfat Cottage Cheese       108   \n",
       "13100148       21554       21553  Lowfat 2% Milkfat Cottage Cheese       108   \n",
       "13100149       21554       21553  Lowfat 2% Milkfat Cottage Cheese       108   \n",
       "13100150       21554       21553  Lowfat 2% Milkfat Cottage Cheese       108   \n",
       "13100151       21554       21553  Lowfat 2% Milkfat Cottage Cheese       108   \n",
       "...              ...         ...                               ...       ...   \n",
       "21786876       33666       33664             2 % Reduced Fat  Milk        84   \n",
       "21786877       33666       33664             2 % Reduced Fat  Milk        84   \n",
       "21786878       33666       33664             2 % Reduced Fat  Milk        84   \n",
       "21786879       33666       33664             2 % Reduced Fat  Milk        84   \n",
       "21786880       33666       33664             2 % Reduced Fat  Milk        84   \n",
       "\n",
       "          department_id   prices  order_id  user_id  order_number  order_dow  \\\n",
       "13100147             16  14900.0    912404       17            12          2   \n",
       "13100148             16  14900.0    603376       17            22          6   \n",
       "13100149             16  14900.0   3264360      135             2          2   \n",
       "13100150             16  14900.0    892534      135             3          0   \n",
       "13100151             16  14900.0    229704      342             8          1   \n",
       "...                 ...      ...       ...      ...           ...        ...   \n",
       "21786876             16  99999.0   2249946   204099            29          0   \n",
       "21786877             16  99999.0   2363282   204099            31          0   \n",
       "21786878             16  99999.0   3181945   204395            13          3   \n",
       "21786879             16  99999.0   2486215   205227             7          3   \n",
       "21786880             16  99999.0   2232716   205227            10          0   \n",
       "\n",
       "          ...  price_range     price_range_loc     busiest_days  \\\n",
       "13100147  ...   High range  High-range product   Regularly busy   \n",
       "13100148  ...   High range  High-range product   Regularly busy   \n",
       "13100149  ...   High range  High-range product   Regularly busy   \n",
       "13100150  ...   High range  High-range product     Busiest days   \n",
       "13100151  ...   High range  High-range product     Busiest days   \n",
       "...       ...          ...                 ...              ...   \n",
       "21786876  ...   High range  High-range product     Busiest days   \n",
       "21786877  ...   High range  High-range product     Busiest days   \n",
       "21786878  ...   High range  High-range product  Least busy days   \n",
       "21786879  ...   High range  High-range product  Least busy days   \n",
       "21786880  ...   High range  High-range product     Busiest days   \n",
       "\n",
       "           busiest_hours max_order      loyalty_flag    avg_order  \\\n",
       "13100147  Regularly busy        40  Regular customer   108.648299   \n",
       "13100148  Regularly busy        40  Regular customer   108.648299   \n",
       "13100149  Regularly busy         4      New customer  1154.792308   \n",
       "13100150  Regularly busy         4      New customer  1154.792308   \n",
       "13100151  Regularly busy        16  Regular customer   114.426619   \n",
       "...                  ...       ...               ...          ...   \n",
       "21786876  Regularly busy        39  Regular customer  1106.743956   \n",
       "21786877  Regularly busy        39  Regular customer  1106.743956   \n",
       "21786878  Regularly busy        15  Regular customer   451.153540   \n",
       "21786879  Regularly busy        12  Regular customer  1178.381871   \n",
       "21786880   Busiest hours        12  Regular customer  1178.381871   \n",
       "\n",
       "         spending_flag avg_order_frequency     frequency_flag  \n",
       "13100147  High spender            8.183673  Frequent customer  \n",
       "13100148  High spender            8.183673  Frequent customer  \n",
       "13100149  High spender           11.000000   Regular customer  \n",
       "13100150  High spender           11.000000   Regular customer  \n",
       "13100151  High spender           19.093525   Regular customer  \n",
       "...                ...                 ...                ...  \n",
       "21786876  High spender            7.895604  Frequent customer  \n",
       "21786877  High spender            7.895604  Frequent customer  \n",
       "21786878  High spender            4.597345  Frequent customer  \n",
       "21786879  High spender           11.286550   Regular customer  \n",
       "21786880  High spender           11.286550   Regular customer  \n",
       "\n",
       "[5127 rows x 26 columns]"
      ]
     },
     "execution_count": 36,
     "metadata": {},
     "output_type": "execute_result"
    }
   ],
   "source": [
    "ords_prods_merge.loc[ords_prods_merge['prices'] > 100]"
   ]
  },
  {
   "cell_type": "code",
   "execution_count": 37,
   "id": "55e0463a",
   "metadata": {
    "ExecuteTime": {
     "end_time": "2023-03-14T02:03:04.722657Z",
     "start_time": "2023-03-14T02:03:04.698746Z"
    }
   },
   "outputs": [],
   "source": [
    "ords_prods_merge.loc[ords_prods_merge['prices'] >100, 'prices'] = np.nan"
   ]
  },
  {
   "cell_type": "code",
   "execution_count": 38,
   "id": "8bc8ab70",
   "metadata": {
    "ExecuteTime": {
     "end_time": "2023-03-14T02:03:07.083232Z",
     "start_time": "2023-03-14T02:03:07.043823Z"
    }
   },
   "outputs": [
    {
     "data": {
      "text/plain": [
       "25.0"
      ]
     },
     "execution_count": 38,
     "metadata": {},
     "output_type": "execute_result"
    }
   ],
   "source": [
    "ords_prods_merge['prices'].max()"
   ]
  },
  {
   "cell_type": "code",
   "execution_count": 39,
   "id": "e135f4e1",
   "metadata": {
    "ExecuteTime": {
     "end_time": "2023-03-14T02:03:12.952678Z",
     "start_time": "2023-03-14T02:03:12.949810Z"
    }
   },
   "outputs": [],
   "source": [
    "# Now that we've cleaned some bad 'prices' values, I'm going to store the DataFram in a new file.\n",
    "# This helps document the history."
   ]
  },
  {
   "cell_type": "code",
   "execution_count": 40,
   "id": "0f8fb334",
   "metadata": {
    "ExecuteTime": {
     "end_time": "2023-03-14T02:04:03.832613Z",
     "start_time": "2023-03-14T02:03:17.957773Z"
    }
   },
   "outputs": [],
   "source": [
    "ords_prods_merge.to_pickle(os.path.join(path, '02-Data','Prepared-Data', 'ords_prods_merge_derived_columns_cleaned_prices.pkl'))"
   ]
  },
  {
   "cell_type": "code",
   "execution_count": 41,
   "id": "b3f650e4",
   "metadata": {
    "ExecuteTime": {
     "end_time": "2023-03-14T02:04:28.238423Z",
     "start_time": "2023-03-14T02:04:28.235565Z"
    }
   },
   "outputs": [],
   "source": [
    "# Retrying the previous histogram.  Much nicer results this time."
   ]
  },
  {
   "cell_type": "code",
   "execution_count": 42,
   "id": "118ce816",
   "metadata": {
    "ExecuteTime": {
     "end_time": "2023-03-14T02:04:32.838923Z",
     "start_time": "2023-03-14T02:04:30.700107Z"
    },
    "scrolled": true
   },
   "outputs": [
    {
     "data": {
      "text/plain": [
       "<AxesSubplot:ylabel='Frequency'>"
      ]
     },
     "execution_count": 42,
     "metadata": {},
     "output_type": "execute_result"
    },
    {
     "data": {
      "image/png": "[encoded data removed]",
      "text/plain": [
       "<Figure size 432x288 with 1 Axes>"
      ]
     },
     "metadata": {
      "needs_background": "light"
     },
     "output_type": "display_data"
    }
   ],
   "source": [
    "ords_prods_merge['prices'].plot.hist(bins = 25)"
   ]
  },
  {
   "cell_type": "code",
   "execution_count": 43,
   "id": "1ce8c5ba",
   "metadata": {
    "ExecuteTime": {
     "end_time": "2023-03-14T02:04:36.129292Z",
     "start_time": "2023-03-14T02:04:36.126320Z"
    }
   },
   "outputs": [],
   "source": [
    "# Same histogram, increased granularity (i.e. more buckets)."
   ]
  },
  {
   "cell_type": "code",
   "execution_count": 44,
   "id": "6dd79b85",
   "metadata": {
    "ExecuteTime": {
     "end_time": "2023-03-14T02:04:42.071444Z",
     "start_time": "2023-03-14T02:04:39.782830Z"
    },
    "scrolled": true
   },
   "outputs": [
    {
     "data": {
      "text/plain": [
       "<AxesSubplot:ylabel='Frequency'>"
      ]
     },
     "execution_count": 44,
     "metadata": {},
     "output_type": "execute_result"
    },
    {
     "data": {
      "image/png": "[encoded data removed]",
      "text/plain": [
       "<Figure size 432x288 with 1 Axes>"
      ]
     },
     "metadata": {
      "needs_background": "light"
     },
     "output_type": "display_data"
    }
   ],
   "source": [
    "ords_prods_merge['prices'].plot.hist(bins = 70)"
   ]
  },
  {
   "cell_type": "code",
   "execution_count": 45,
   "id": "b2d318d7",
   "metadata": {
    "ExecuteTime": {
     "end_time": "2023-03-14T02:05:13.950683Z",
     "start_time": "2023-03-14T02:05:11.688293Z"
    }
   },
   "outputs": [
    {
     "data": {
      "image/png": "[encoded data removed]",
      "text/plain": [
       "<Figure size 432x288 with 1 Axes>"
      ]
     },
     "metadata": {
      "needs_background": "light"
     },
     "output_type": "display_data"
    }
   ],
   "source": [
    "histogram = ords_prods_merge['prices'].plot.hist(bins = 70)"
   ]
  },
  {
   "cell_type": "code",
   "execution_count": 46,
   "id": "8cc64fb9",
   "metadata": {
    "ExecuteTime": {
     "end_time": "2023-03-14T02:05:20.975927Z",
     "start_time": "2023-03-14T02:05:20.919343Z"
    }
   },
   "outputs": [],
   "source": [
    "histogram.figure.savefig(os.path.join(path, '04-Analysis','Visualizations', 'histogram_prices.png'))"
   ]
  },
  {
   "cell_type": "markdown",
   "id": "7e746f54",
   "metadata": {},
   "source": [
    "## Here we start working with data sampling."
   ]
  },
  {
   "cell_type": "code",
   "execution_count": 47,
   "id": "915ea5dd",
   "metadata": {
    "ExecuteTime": {
     "end_time": "2023-03-14T02:06:57.755610Z",
     "start_time": "2023-03-14T02:06:57.752804Z"
    }
   },
   "outputs": [],
   "source": [
    "# First, we use a seed of 4 for supposed reproducibility.\n",
    "# Then, we will produce a list of randomized values between 0 and 1, for\n",
    "# which the value is True if it is less than or equal to 0.7 and False if\n",
    "# it is not.  This gives us a distribution of 70% True and 30% False.\n",
    "# The list contains the same number of values as our DataFrame has rows."
   ]
  },
  {
   "cell_type": "code",
   "execution_count": 68,
   "id": "4d9adfad",
   "metadata": {
    "ExecuteTime": {
     "end_time": "2023-03-14T02:11:35.479018Z",
     "start_time": "2023-03-14T02:11:35.084086Z"
    }
   },
   "outputs": [],
   "source": [
    "np.random.seed(4)\n",
    "dev = np.random.rand(len(ords_prods_merge)) <= 0.7"
   ]
  },
  {
   "cell_type": "code",
   "execution_count": 69,
   "id": "8484cbfb",
   "metadata": {
    "ExecuteTime": {
     "end_time": "2023-03-14T02:11:37.024946Z",
     "start_time": "2023-03-14T02:11:37.020374Z"
    }
   },
   "outputs": [
    {
     "data": {
      "text/plain": [
       "array([False,  True, False, ...,  True,  True,  True])"
      ]
     },
     "execution_count": 69,
     "metadata": {},
     "output_type": "execute_result"
    }
   ],
   "source": [
    "dev"
   ]
  },
  {
   "cell_type": "code",
   "execution_count": 50,
   "id": "6ceb894f",
   "metadata": {
    "ExecuteTime": {
     "end_time": "2023-03-14T02:09:40.688034Z",
     "start_time": "2023-03-14T02:09:40.685586Z"
    }
   },
   "outputs": [],
   "source": [
    "# Playing with np.random."
   ]
  },
  {
   "cell_type": "code",
   "execution_count": 74,
   "id": "cda26e11",
   "metadata": {
    "ExecuteTime": {
     "end_time": "2023-03-14T02:14:49.299457Z",
     "start_time": "2023-03-14T02:14:49.294996Z"
    }
   },
   "outputs": [
    {
     "data": {
      "text/plain": [
       "0.22683171185754503"
      ]
     },
     "execution_count": 74,
     "metadata": {},
     "output_type": "execute_result"
    }
   ],
   "source": [
    "np.random.rand()"
   ]
  },
  {
   "cell_type": "code",
   "execution_count": 61,
   "id": "6e6b55f9",
   "metadata": {
    "ExecuteTime": {
     "end_time": "2023-03-14T02:10:05.620069Z",
     "start_time": "2023-03-14T02:10:05.615158Z"
    }
   },
   "outputs": [
    {
     "data": {
      "text/plain": [
       "array([0.19903101, 0.03027328, 0.50708189, 0.32732735, 0.74429421,\n",
       "       0.15575635, 0.7267737 , 0.49437601, 0.90022211, 0.79525647,\n",
       "       0.50619444, 0.92368272, 0.55790036, 0.85510868, 0.6027477 ,\n",
       "       0.21874033, 0.65354101, 0.85514696, 0.79882779, 0.47686063,\n",
       "       0.22170442, 0.3480769 , 0.0715184 , 0.59831226, 0.1014717 ,\n",
       "       0.94227919, 0.71048685, 0.77625295, 0.06273225, 0.13305833,\n",
       "       0.84503118, 0.58000995, 0.15797846, 0.36799219, 0.16903019,\n",
       "       0.01079523, 0.6917358 , 0.08788877, 0.71724044, 0.417566  ,\n",
       "       0.92537657, 0.29151005, 0.12266366])"
      ]
     },
     "execution_count": 61,
     "metadata": {},
     "output_type": "execute_result"
    }
   ],
   "source": [
    "np.random.rand(43)"
   ]
  },
  {
   "cell_type": "markdown",
   "id": "7f2c7f18",
   "metadata": {},
   "source": [
    "## Hmm, np.random.rand() (and np.random.rand(some_value)) give me different results each time.  Doesn't the Exercise say that the use of np.random.seed(4) will prevent this?"
   ]
  },
  {
   "cell_type": "code",
   "execution_count": 75,
   "id": "6d5d0353",
   "metadata": {
    "ExecuteTime": {
     "end_time": "2023-03-14T02:16:33.614732Z",
     "start_time": "2023-03-14T02:16:33.612005Z"
    }
   },
   "outputs": [],
   "source": [
    "# Combine the list of randomized True/False values with our DataFrame,\n",
    "# storing 70% of the DataFrame (where the row is associated with 'True')\n",
    "# in a new DF called, 'big'..."
   ]
  },
  {
   "cell_type": "code",
   "execution_count": 76,
   "id": "150c0f4d",
   "metadata": {
    "ExecuteTime": {
     "end_time": "2023-03-14T02:16:37.437753Z",
     "start_time": "2023-03-14T02:16:33.616620Z"
    }
   },
   "outputs": [],
   "source": [
    "big = ords_prods_merge[dev]"
   ]
  },
  {
   "cell_type": "code",
   "execution_count": 77,
   "id": "4b28dde8",
   "metadata": {
    "ExecuteTime": {
     "end_time": "2023-03-14T02:16:37.442556Z",
     "start_time": "2023-03-14T02:16:37.439910Z"
    }
   },
   "outputs": [],
   "source": [
    "# ...while storing the remaining 30% of our DataFrame (the rows associated)\n",
    "# with 'False') in a new DF called, 'small'."
   ]
  },
  {
   "cell_type": "code",
   "execution_count": 78,
   "id": "6e280e65",
   "metadata": {
    "ExecuteTime": {
     "end_time": "2023-03-14T02:16:39.556412Z",
     "start_time": "2023-03-14T02:16:37.444568Z"
    }
   },
   "outputs": [],
   "source": [
    "small = ords_prods_merge[~dev]"
   ]
  },
  {
   "cell_type": "markdown",
   "id": "bac1faf7",
   "metadata": {},
   "source": [
    "## Remember how a tilde (~) is used to represent 'NOT', rather than a bang (!).  Hooray for Python.\n",
    "### I wonder if this has anything to do with the matplotlib.pyplot.savefig function not handling tildes in the file path as expected."
   ]
  },
  {
   "cell_type": "code",
   "execution_count": 79,
   "id": "f05d2f76",
   "metadata": {
    "ExecuteTime": {
     "end_time": "2023-03-14T02:17:16.328447Z",
     "start_time": "2023-03-14T02:17:16.325497Z"
    }
   },
   "outputs": [],
   "source": [
    "# Let's check out the new DataFrames."
   ]
  },
  {
   "cell_type": "code",
   "execution_count": 80,
   "id": "c9a23116",
   "metadata": {
    "ExecuteTime": {
     "end_time": "2023-03-14T02:17:27.580026Z",
     "start_time": "2023-03-14T02:17:18.539617Z"
    }
   },
   "outputs": [
    {
     "data": {
      "text/html": [
       "<div>\n",
       "<style scoped>\n",
       "    .dataframe tbody tr th:only-of-type {\n",
       "        vertical-align: middle;\n",
       "    }\n",
       "\n",
       "    .dataframe tbody tr th {\n",
       "        vertical-align: top;\n",
       "    }\n",
       "\n",
       "    .dataframe thead th {\n",
       "        text-align: right;\n",
       "    }\n",
       "</style>\n",
       "<table border=\"1\" class=\"dataframe\">\n",
       "  <thead>\n",
       "    <tr style=\"text-align: right;\">\n",
       "      <th></th>\n",
       "      <th>Unnamed: 0</th>\n",
       "      <th>product_id</th>\n",
       "      <th>aisle_id</th>\n",
       "      <th>department_id</th>\n",
       "      <th>prices</th>\n",
       "      <th>order_id</th>\n",
       "      <th>user_id</th>\n",
       "      <th>order_number</th>\n",
       "      <th>order_dow</th>\n",
       "      <th>order_hour_of_day</th>\n",
       "      <th>days_since_prior_order</th>\n",
       "      <th>add_to_cart_order</th>\n",
       "      <th>reordered</th>\n",
       "      <th>max_order</th>\n",
       "      <th>avg_order</th>\n",
       "      <th>avg_order_frequency</th>\n",
       "    </tr>\n",
       "  </thead>\n",
       "  <tbody>\n",
       "    <tr>\n",
       "      <th>count</th>\n",
       "      <td>2.268376e+07</td>\n",
       "      <td>2.268376e+07</td>\n",
       "      <td>2.268376e+07</td>\n",
       "      <td>2.268376e+07</td>\n",
       "      <td>2.268019e+07</td>\n",
       "      <td>2.268376e+07</td>\n",
       "      <td>2.268376e+07</td>\n",
       "      <td>2.268376e+07</td>\n",
       "      <td>2.268376e+07</td>\n",
       "      <td>2.268376e+07</td>\n",
       "      <td>2.268376e+07</td>\n",
       "      <td>2.268376e+07</td>\n",
       "      <td>2.268376e+07</td>\n",
       "      <td>2.268376e+07</td>\n",
       "      <td>2.268376e+07</td>\n",
       "      <td>2.268376e+07</td>\n",
       "    </tr>\n",
       "    <tr>\n",
       "      <th>mean</th>\n",
       "      <td>2.559843e+04</td>\n",
       "      <td>2.559673e+04</td>\n",
       "      <td>7.119746e+01</td>\n",
       "      <td>9.919779e+00</td>\n",
       "      <td>7.790942e+00</td>\n",
       "      <td>1.710927e+06</td>\n",
       "      <td>1.029426e+05</td>\n",
       "      <td>1.714546e+01</td>\n",
       "      <td>2.738675e+00</td>\n",
       "      <td>1.342515e+01</td>\n",
       "      <td>1.039078e+01</td>\n",
       "      <td>8.352838e+00</td>\n",
       "      <td>5.895513e-01</td>\n",
       "      <td>3.305637e+01</td>\n",
       "      <td>1.199205e+01</td>\n",
       "      <td>1.039091e+01</td>\n",
       "    </tr>\n",
       "    <tr>\n",
       "      <th>std</th>\n",
       "      <td>1.408522e+04</td>\n",
       "      <td>1.408367e+04</td>\n",
       "      <td>3.820803e+01</td>\n",
       "      <td>6.281026e+00</td>\n",
       "      <td>4.241507e+00</td>\n",
       "      <td>9.873228e+05</td>\n",
       "      <td>5.946922e+04</td>\n",
       "      <td>1.754105e+01</td>\n",
       "      <td>2.090055e+00</td>\n",
       "      <td>4.245914e+00</td>\n",
       "      <td>8.916723e+00</td>\n",
       "      <td>7.126775e+00</td>\n",
       "      <td>4.919152e-01</td>\n",
       "      <td>2.515735e+01</td>\n",
       "      <td>8.367147e+01</td>\n",
       "      <td>5.022990e+00</td>\n",
       "    </tr>\n",
       "    <tr>\n",
       "      <th>min</th>\n",
       "      <td>0.000000e+00</td>\n",
       "      <td>1.000000e+00</td>\n",
       "      <td>1.000000e+00</td>\n",
       "      <td>1.000000e+00</td>\n",
       "      <td>1.000000e+00</td>\n",
       "      <td>2.000000e+00</td>\n",
       "      <td>1.000000e+00</td>\n",
       "      <td>1.000000e+00</td>\n",
       "      <td>0.000000e+00</td>\n",
       "      <td>0.000000e+00</td>\n",
       "      <td>0.000000e+00</td>\n",
       "      <td>1.000000e+00</td>\n",
       "      <td>0.000000e+00</td>\n",
       "      <td>1.000000e+00</td>\n",
       "      <td>1.000000e+00</td>\n",
       "      <td>0.000000e+00</td>\n",
       "    </tr>\n",
       "    <tr>\n",
       "      <th>25%</th>\n",
       "      <td>1.354100e+04</td>\n",
       "      <td>1.354100e+04</td>\n",
       "      <td>3.100000e+01</td>\n",
       "      <td>4.000000e+00</td>\n",
       "      <td>4.200000e+00</td>\n",
       "      <td>8.561400e+05</td>\n",
       "      <td>5.142600e+04</td>\n",
       "      <td>5.000000e+00</td>\n",
       "      <td>1.000000e+00</td>\n",
       "      <td>1.000000e+01</td>\n",
       "      <td>4.000000e+00</td>\n",
       "      <td>3.000000e+00</td>\n",
       "      <td>0.000000e+00</td>\n",
       "      <td>1.300000e+01</td>\n",
       "      <td>7.387500e+00</td>\n",
       "      <td>6.585009e+00</td>\n",
       "    </tr>\n",
       "    <tr>\n",
       "      <th>50%</th>\n",
       "      <td>2.529600e+04</td>\n",
       "      <td>2.529500e+04</td>\n",
       "      <td>8.300000e+01</td>\n",
       "      <td>9.000000e+00</td>\n",
       "      <td>7.400000e+00</td>\n",
       "      <td>1.711394e+06</td>\n",
       "      <td>1.026170e+05</td>\n",
       "      <td>1.100000e+01</td>\n",
       "      <td>3.000000e+00</td>\n",
       "      <td>1.300000e+01</td>\n",
       "      <td>7.000000e+00</td>\n",
       "      <td>6.000000e+00</td>\n",
       "      <td>1.000000e+00</td>\n",
       "      <td>2.600000e+01</td>\n",
       "      <td>7.824895e+00</td>\n",
       "      <td>9.348837e+00</td>\n",
       "    </tr>\n",
       "    <tr>\n",
       "      <th>75%</th>\n",
       "      <td>3.795100e+04</td>\n",
       "      <td>3.794700e+04</td>\n",
       "      <td>1.070000e+02</td>\n",
       "      <td>1.600000e+01</td>\n",
       "      <td>1.130000e+01</td>\n",
       "      <td>2.565697e+06</td>\n",
       "      <td>1.544060e+05</td>\n",
       "      <td>2.400000e+01</td>\n",
       "      <td>5.000000e+00</td>\n",
       "      <td>1.600000e+01</td>\n",
       "      <td>1.400000e+01</td>\n",
       "      <td>1.100000e+01</td>\n",
       "      <td>1.000000e+00</td>\n",
       "      <td>4.700000e+01</td>\n",
       "      <td>8.254297e+00</td>\n",
       "      <td>1.359247e+01</td>\n",
       "    </tr>\n",
       "    <tr>\n",
       "      <th>max</th>\n",
       "      <td>4.969200e+04</td>\n",
       "      <td>4.968800e+04</td>\n",
       "      <td>1.340000e+02</td>\n",
       "      <td>2.100000e+01</td>\n",
       "      <td>2.500000e+01</td>\n",
       "      <td>3.421083e+06</td>\n",
       "      <td>2.062090e+05</td>\n",
       "      <td>9.900000e+01</td>\n",
       "      <td>6.000000e+00</td>\n",
       "      <td>2.300000e+01</td>\n",
       "      <td>3.000000e+01</td>\n",
       "      <td>1.450000e+02</td>\n",
       "      <td>1.000000e+00</td>\n",
       "      <td>9.900000e+01</td>\n",
       "      <td>2.500542e+04</td>\n",
       "      <td>2.970297e+01</td>\n",
       "    </tr>\n",
       "  </tbody>\n",
       "</table>\n",
       "</div>"
      ],
      "text/plain": [
       "         Unnamed: 0    product_id      aisle_id  department_id        prices  \\\n",
       "count  2.268376e+07  2.268376e+07  2.268376e+07   2.268376e+07  2.268019e+07   \n",
       "mean   2.559843e+04  2.559673e+04  7.119746e+01   9.919779e+00  7.790942e+00   \n",
       "std    1.408522e+04  1.408367e+04  3.820803e+01   6.281026e+00  4.241507e+00   \n",
       "min    0.000000e+00  1.000000e+00  1.000000e+00   1.000000e+00  1.000000e+00   \n",
       "25%    1.354100e+04  1.354100e+04  3.100000e+01   4.000000e+00  4.200000e+00   \n",
       "50%    2.529600e+04  2.529500e+04  8.300000e+01   9.000000e+00  7.400000e+00   \n",
       "75%    3.795100e+04  3.794700e+04  1.070000e+02   1.600000e+01  1.130000e+01   \n",
       "max    4.969200e+04  4.968800e+04  1.340000e+02   2.100000e+01  2.500000e+01   \n",
       "\n",
       "           order_id       user_id  order_number     order_dow  \\\n",
       "count  2.268376e+07  2.268376e+07  2.268376e+07  2.268376e+07   \n",
       "mean   1.710927e+06  1.029426e+05  1.714546e+01  2.738675e+00   \n",
       "std    9.873228e+05  5.946922e+04  1.754105e+01  2.090055e+00   \n",
       "min    2.000000e+00  1.000000e+00  1.000000e+00  0.000000e+00   \n",
       "25%    8.561400e+05  5.142600e+04  5.000000e+00  1.000000e+00   \n",
       "50%    1.711394e+06  1.026170e+05  1.100000e+01  3.000000e+00   \n",
       "75%    2.565697e+06  1.544060e+05  2.400000e+01  5.000000e+00   \n",
       "max    3.421083e+06  2.062090e+05  9.900000e+01  6.000000e+00   \n",
       "\n",
       "       order_hour_of_day  days_since_prior_order  add_to_cart_order  \\\n",
       "count       2.268376e+07            2.268376e+07       2.268376e+07   \n",
       "mean        1.342515e+01            1.039078e+01       8.352838e+00   \n",
       "std         4.245914e+00            8.916723e+00       7.126775e+00   \n",
       "min         0.000000e+00            0.000000e+00       1.000000e+00   \n",
       "25%         1.000000e+01            4.000000e+00       3.000000e+00   \n",
       "50%         1.300000e+01            7.000000e+00       6.000000e+00   \n",
       "75%         1.600000e+01            1.400000e+01       1.100000e+01   \n",
       "max         2.300000e+01            3.000000e+01       1.450000e+02   \n",
       "\n",
       "          reordered     max_order     avg_order  avg_order_frequency  \n",
       "count  2.268376e+07  2.268376e+07  2.268376e+07         2.268376e+07  \n",
       "mean   5.895513e-01  3.305637e+01  1.199205e+01         1.039091e+01  \n",
       "std    4.919152e-01  2.515735e+01  8.367147e+01         5.022990e+00  \n",
       "min    0.000000e+00  1.000000e+00  1.000000e+00         0.000000e+00  \n",
       "25%    0.000000e+00  1.300000e+01  7.387500e+00         6.585009e+00  \n",
       "50%    1.000000e+00  2.600000e+01  7.824895e+00         9.348837e+00  \n",
       "75%    1.000000e+00  4.700000e+01  8.254297e+00         1.359247e+01  \n",
       "max    1.000000e+00  9.900000e+01  2.500542e+04         2.970297e+01  "
      ]
     },
     "execution_count": 80,
     "metadata": {},
     "output_type": "execute_result"
    }
   ],
   "source": [
    "big.describe()"
   ]
  },
  {
   "cell_type": "code",
   "execution_count": 81,
   "id": "3503db3f",
   "metadata": {
    "ExecuteTime": {
     "end_time": "2023-03-14T02:17:52.949681Z",
     "start_time": "2023-03-14T02:17:49.188906Z"
    }
   },
   "outputs": [
    {
     "data": {
      "text/html": [
       "<div>\n",
       "<style scoped>\n",
       "    .dataframe tbody tr th:only-of-type {\n",
       "        vertical-align: middle;\n",
       "    }\n",
       "\n",
       "    .dataframe tbody tr th {\n",
       "        vertical-align: top;\n",
       "    }\n",
       "\n",
       "    .dataframe thead th {\n",
       "        text-align: right;\n",
       "    }\n",
       "</style>\n",
       "<table border=\"1\" class=\"dataframe\">\n",
       "  <thead>\n",
       "    <tr style=\"text-align: right;\">\n",
       "      <th></th>\n",
       "      <th>Unnamed: 0</th>\n",
       "      <th>product_id</th>\n",
       "      <th>aisle_id</th>\n",
       "      <th>department_id</th>\n",
       "      <th>prices</th>\n",
       "      <th>order_id</th>\n",
       "      <th>user_id</th>\n",
       "      <th>order_number</th>\n",
       "      <th>order_dow</th>\n",
       "      <th>order_hour_of_day</th>\n",
       "      <th>days_since_prior_order</th>\n",
       "      <th>add_to_cart_order</th>\n",
       "      <th>reordered</th>\n",
       "      <th>max_order</th>\n",
       "      <th>avg_order</th>\n",
       "      <th>avg_order_frequency</th>\n",
       "    </tr>\n",
       "  </thead>\n",
       "  <tbody>\n",
       "    <tr>\n",
       "      <th>count</th>\n",
       "      <td>9.721098e+06</td>\n",
       "      <td>9.721098e+06</td>\n",
       "      <td>9.721098e+06</td>\n",
       "      <td>9.721098e+06</td>\n",
       "      <td>9.719546e+06</td>\n",
       "      <td>9.721098e+06</td>\n",
       "      <td>9.721098e+06</td>\n",
       "      <td>9.721098e+06</td>\n",
       "      <td>9.721098e+06</td>\n",
       "      <td>9.721098e+06</td>\n",
       "      <td>9.721098e+06</td>\n",
       "      <td>9.721098e+06</td>\n",
       "      <td>9.721098e+06</td>\n",
       "      <td>9.721098e+06</td>\n",
       "      <td>9.721098e+06</td>\n",
       "      <td>9.721098e+06</td>\n",
       "    </tr>\n",
       "    <tr>\n",
       "      <th>mean</th>\n",
       "      <td>2.560489e+04</td>\n",
       "      <td>2.560318e+04</td>\n",
       "      <td>7.119298e+01</td>\n",
       "      <td>9.919823e+00</td>\n",
       "      <td>7.791115e+00</td>\n",
       "      <td>1.710321e+06</td>\n",
       "      <td>1.029247e+05</td>\n",
       "      <td>1.713494e+01</td>\n",
       "      <td>2.739315e+00</td>\n",
       "      <td>1.342515e+01</td>\n",
       "      <td>1.039708e+01</td>\n",
       "      <td>8.351867e+00</td>\n",
       "      <td>5.896714e-01</td>\n",
       "      <td>3.304236e+01</td>\n",
       "      <td>1.195264e+01</td>\n",
       "      <td>1.039679e+01</td>\n",
       "    </tr>\n",
       "    <tr>\n",
       "      <th>std</th>\n",
       "      <td>1.408632e+04</td>\n",
       "      <td>1.408477e+04</td>\n",
       "      <td>3.821923e+01</td>\n",
       "      <td>6.282556e+00</td>\n",
       "      <td>4.242515e+00</td>\n",
       "      <td>9.872428e+05</td>\n",
       "      <td>5.945883e+04</td>\n",
       "      <td>1.752195e+01</td>\n",
       "      <td>2.090128e+00</td>\n",
       "      <td>4.247467e+00</td>\n",
       "      <td>8.920396e+00</td>\n",
       "      <td>7.127762e+00</td>\n",
       "      <td>4.918934e-01</td>\n",
       "      <td>2.515034e+01</td>\n",
       "      <td>8.223206e+01</td>\n",
       "      <td>5.026279e+00</td>\n",
       "    </tr>\n",
       "    <tr>\n",
       "      <th>min</th>\n",
       "      <td>0.000000e+00</td>\n",
       "      <td>1.000000e+00</td>\n",
       "      <td>1.000000e+00</td>\n",
       "      <td>1.000000e+00</td>\n",
       "      <td>1.000000e+00</td>\n",
       "      <td>2.000000e+00</td>\n",
       "      <td>1.000000e+00</td>\n",
       "      <td>1.000000e+00</td>\n",
       "      <td>0.000000e+00</td>\n",
       "      <td>0.000000e+00</td>\n",
       "      <td>0.000000e+00</td>\n",
       "      <td>1.000000e+00</td>\n",
       "      <td>0.000000e+00</td>\n",
       "      <td>1.000000e+00</td>\n",
       "      <td>1.000000e+00</td>\n",
       "      <td>0.000000e+00</td>\n",
       "    </tr>\n",
       "    <tr>\n",
       "      <th>25%</th>\n",
       "      <td>1.354800e+04</td>\n",
       "      <td>1.354800e+04</td>\n",
       "      <td>3.100000e+01</td>\n",
       "      <td>4.000000e+00</td>\n",
       "      <td>4.200000e+00</td>\n",
       "      <td>8.554910e+05</td>\n",
       "      <td>5.141000e+04</td>\n",
       "      <td>5.000000e+00</td>\n",
       "      <td>1.000000e+00</td>\n",
       "      <td>1.000000e+01</td>\n",
       "      <td>4.000000e+00</td>\n",
       "      <td>3.000000e+00</td>\n",
       "      <td>0.000000e+00</td>\n",
       "      <td>1.300000e+01</td>\n",
       "      <td>7.386932e+00</td>\n",
       "      <td>6.585132e+00</td>\n",
       "    </tr>\n",
       "    <tr>\n",
       "      <th>50%</th>\n",
       "      <td>2.533100e+04</td>\n",
       "      <td>2.533000e+04</td>\n",
       "      <td>8.300000e+01</td>\n",
       "      <td>9.000000e+00</td>\n",
       "      <td>7.400000e+00</td>\n",
       "      <td>1.710198e+06</td>\n",
       "      <td>1.026090e+05</td>\n",
       "      <td>1.100000e+01</td>\n",
       "      <td>3.000000e+00</td>\n",
       "      <td>1.300000e+01</td>\n",
       "      <td>7.000000e+00</td>\n",
       "      <td>6.000000e+00</td>\n",
       "      <td>1.000000e+00</td>\n",
       "      <td>2.600000e+01</td>\n",
       "      <td>7.824403e+00</td>\n",
       "      <td>9.355231e+00</td>\n",
       "    </tr>\n",
       "    <tr>\n",
       "      <th>75%</th>\n",
       "      <td>3.796300e+04</td>\n",
       "      <td>3.795900e+04</td>\n",
       "      <td>1.070000e+02</td>\n",
       "      <td>1.600000e+01</td>\n",
       "      <td>1.130000e+01</td>\n",
       "      <td>2.565010e+06</td>\n",
       "      <td>1.543720e+05</td>\n",
       "      <td>2.400000e+01</td>\n",
       "      <td>5.000000e+00</td>\n",
       "      <td>1.600000e+01</td>\n",
       "      <td>1.400000e+01</td>\n",
       "      <td>1.100000e+01</td>\n",
       "      <td>1.000000e+00</td>\n",
       "      <td>4.700000e+01</td>\n",
       "      <td>8.253741e+00</td>\n",
       "      <td>1.359813e+01</td>\n",
       "    </tr>\n",
       "    <tr>\n",
       "      <th>max</th>\n",
       "      <td>4.969200e+04</td>\n",
       "      <td>4.968800e+04</td>\n",
       "      <td>1.340000e+02</td>\n",
       "      <td>2.100000e+01</td>\n",
       "      <td>2.500000e+01</td>\n",
       "      <td>3.421083e+06</td>\n",
       "      <td>2.062090e+05</td>\n",
       "      <td>9.900000e+01</td>\n",
       "      <td>6.000000e+00</td>\n",
       "      <td>2.300000e+01</td>\n",
       "      <td>3.000000e+01</td>\n",
       "      <td>1.400000e+02</td>\n",
       "      <td>1.000000e+00</td>\n",
       "      <td>9.900000e+01</td>\n",
       "      <td>1.500694e+04</td>\n",
       "      <td>2.970297e+01</td>\n",
       "    </tr>\n",
       "  </tbody>\n",
       "</table>\n",
       "</div>"
      ],
      "text/plain": [
       "         Unnamed: 0    product_id      aisle_id  department_id        prices  \\\n",
       "count  9.721098e+06  9.721098e+06  9.721098e+06   9.721098e+06  9.719546e+06   \n",
       "mean   2.560489e+04  2.560318e+04  7.119298e+01   9.919823e+00  7.791115e+00   \n",
       "std    1.408632e+04  1.408477e+04  3.821923e+01   6.282556e+00  4.242515e+00   \n",
       "min    0.000000e+00  1.000000e+00  1.000000e+00   1.000000e+00  1.000000e+00   \n",
       "25%    1.354800e+04  1.354800e+04  3.100000e+01   4.000000e+00  4.200000e+00   \n",
       "50%    2.533100e+04  2.533000e+04  8.300000e+01   9.000000e+00  7.400000e+00   \n",
       "75%    3.796300e+04  3.795900e+04  1.070000e+02   1.600000e+01  1.130000e+01   \n",
       "max    4.969200e+04  4.968800e+04  1.340000e+02   2.100000e+01  2.500000e+01   \n",
       "\n",
       "           order_id       user_id  order_number     order_dow  \\\n",
       "count  9.721098e+06  9.721098e+06  9.721098e+06  9.721098e+06   \n",
       "mean   1.710321e+06  1.029247e+05  1.713494e+01  2.739315e+00   \n",
       "std    9.872428e+05  5.945883e+04  1.752195e+01  2.090128e+00   \n",
       "min    2.000000e+00  1.000000e+00  1.000000e+00  0.000000e+00   \n",
       "25%    8.554910e+05  5.141000e+04  5.000000e+00  1.000000e+00   \n",
       "50%    1.710198e+06  1.026090e+05  1.100000e+01  3.000000e+00   \n",
       "75%    2.565010e+06  1.543720e+05  2.400000e+01  5.000000e+00   \n",
       "max    3.421083e+06  2.062090e+05  9.900000e+01  6.000000e+00   \n",
       "\n",
       "       order_hour_of_day  days_since_prior_order  add_to_cart_order  \\\n",
       "count       9.721098e+06            9.721098e+06       9.721098e+06   \n",
       "mean        1.342515e+01            1.039708e+01       8.351867e+00   \n",
       "std         4.247467e+00            8.920396e+00       7.127762e+00   \n",
       "min         0.000000e+00            0.000000e+00       1.000000e+00   \n",
       "25%         1.000000e+01            4.000000e+00       3.000000e+00   \n",
       "50%         1.300000e+01            7.000000e+00       6.000000e+00   \n",
       "75%         1.600000e+01            1.400000e+01       1.100000e+01   \n",
       "max         2.300000e+01            3.000000e+01       1.400000e+02   \n",
       "\n",
       "          reordered     max_order     avg_order  avg_order_frequency  \n",
       "count  9.721098e+06  9.721098e+06  9.721098e+06         9.721098e+06  \n",
       "mean   5.896714e-01  3.304236e+01  1.195264e+01         1.039679e+01  \n",
       "std    4.918934e-01  2.515034e+01  8.223206e+01         5.026279e+00  \n",
       "min    0.000000e+00  1.000000e+00  1.000000e+00         0.000000e+00  \n",
       "25%    0.000000e+00  1.300000e+01  7.386932e+00         6.585132e+00  \n",
       "50%    1.000000e+00  2.600000e+01  7.824403e+00         9.355231e+00  \n",
       "75%    1.000000e+00  4.700000e+01  8.253741e+00         1.359813e+01  \n",
       "max    1.000000e+00  9.900000e+01  1.500694e+04         2.970297e+01  "
      ]
     },
     "execution_count": 81,
     "metadata": {},
     "output_type": "execute_result"
    }
   ],
   "source": [
    "small.describe()"
   ]
  },
  {
   "cell_type": "code",
   "execution_count": 82,
   "id": "e82e051a",
   "metadata": {
    "ExecuteTime": {
     "end_time": "2023-03-14T02:18:22.537738Z",
     "start_time": "2023-03-14T02:18:22.534917Z"
    }
   },
   "outputs": [],
   "source": [
    "# Wow, the describe() outputs for the two new DFs look close to identical outside of their counts.  Sampling works!"
   ]
  },
  {
   "cell_type": "code",
   "execution_count": 83,
   "id": "38f2b4e3",
   "metadata": {
    "ExecuteTime": {
     "end_time": "2023-03-14T02:18:23.872076Z",
     "start_time": "2023-03-14T02:18:23.869286Z"
    }
   },
   "outputs": [],
   "source": [
    "# More sanity checking, suggested by the Exercise, but with a one-liner to compare them mathematically."
   ]
  },
  {
   "cell_type": "code",
   "execution_count": 84,
   "id": "6d18b9e5",
   "metadata": {
    "ExecuteTime": {
     "end_time": "2023-03-14T02:18:25.409340Z",
     "start_time": "2023-03-14T02:18:25.404846Z"
    }
   },
   "outputs": [
    {
     "data": {
      "text/plain": [
       "0"
      ]
     },
     "execution_count": 84,
     "metadata": {},
     "output_type": "execute_result"
    }
   ],
   "source": [
    "len(ords_prods_merge) - (len(big) + len(small))"
   ]
  },
  {
   "cell_type": "code",
   "execution_count": 85,
   "id": "e9695e3c",
   "metadata": {
    "ExecuteTime": {
     "end_time": "2023-03-14T02:19:51.600098Z",
     "start_time": "2023-03-14T02:19:51.597354Z"
    }
   },
   "outputs": [],
   "source": [
    "# As suggested, speed processing up further by looking only at those columns actually needed for our chart."
   ]
  },
  {
   "cell_type": "code",
   "execution_count": 86,
   "id": "21fe9f55",
   "metadata": {
    "ExecuteTime": {
     "end_time": "2023-03-14T02:19:55.311338Z",
     "start_time": "2023-03-14T02:19:55.244156Z"
    }
   },
   "outputs": [],
   "source": [
    "df_2 = small[['order_dow','prices']]"
   ]
  },
  {
   "cell_type": "code",
   "execution_count": 87,
   "id": "d6432a9b",
   "metadata": {
    "ExecuteTime": {
     "end_time": "2023-03-14T02:19:58.253721Z",
     "start_time": "2023-03-14T02:19:58.250825Z"
    }
   },
   "outputs": [],
   "source": [
    "# Sanity-checks."
   ]
  },
  {
   "cell_type": "code",
   "execution_count": 88,
   "id": "4003baf9",
   "metadata": {
    "ExecuteTime": {
     "end_time": "2023-03-14T02:20:06.066590Z",
     "start_time": "2023-03-14T02:20:06.059729Z"
    }
   },
   "outputs": [
    {
     "data": {
      "text/html": [
       "<div>\n",
       "<style scoped>\n",
       "    .dataframe tbody tr th:only-of-type {\n",
       "        vertical-align: middle;\n",
       "    }\n",
       "\n",
       "    .dataframe tbody tr th {\n",
       "        vertical-align: top;\n",
       "    }\n",
       "\n",
       "    .dataframe thead th {\n",
       "        text-align: right;\n",
       "    }\n",
       "</style>\n",
       "<table border=\"1\" class=\"dataframe\">\n",
       "  <thead>\n",
       "    <tr style=\"text-align: right;\">\n",
       "      <th></th>\n",
       "      <th>order_dow</th>\n",
       "      <th>prices</th>\n",
       "    </tr>\n",
       "  </thead>\n",
       "  <tbody>\n",
       "    <tr>\n",
       "      <th>0</th>\n",
       "      <td>6</td>\n",
       "      <td>5.8</td>\n",
       "    </tr>\n",
       "    <tr>\n",
       "      <th>2</th>\n",
       "      <td>0</td>\n",
       "      <td>5.8</td>\n",
       "    </tr>\n",
       "    <tr>\n",
       "      <th>3</th>\n",
       "      <td>3</td>\n",
       "      <td>5.8</td>\n",
       "    </tr>\n",
       "    <tr>\n",
       "      <th>6</th>\n",
       "      <td>2</td>\n",
       "      <td>5.8</td>\n",
       "    </tr>\n",
       "    <tr>\n",
       "      <th>10</th>\n",
       "      <td>5</td>\n",
       "      <td>5.8</td>\n",
       "    </tr>\n",
       "  </tbody>\n",
       "</table>\n",
       "</div>"
      ],
      "text/plain": [
       "    order_dow  prices\n",
       "0           6     5.8\n",
       "2           0     5.8\n",
       "3           3     5.8\n",
       "6           2     5.8\n",
       "10          5     5.8"
      ]
     },
     "execution_count": 88,
     "metadata": {},
     "output_type": "execute_result"
    }
   ],
   "source": [
    "df_2.head()"
   ]
  },
  {
   "cell_type": "code",
   "execution_count": 89,
   "id": "0edc23cc",
   "metadata": {
    "ExecuteTime": {
     "end_time": "2023-03-14T02:20:13.386550Z",
     "start_time": "2023-03-14T02:20:12.920130Z"
    }
   },
   "outputs": [
    {
     "data": {
      "text/html": [
       "<div>\n",
       "<style scoped>\n",
       "    .dataframe tbody tr th:only-of-type {\n",
       "        vertical-align: middle;\n",
       "    }\n",
       "\n",
       "    .dataframe tbody tr th {\n",
       "        vertical-align: top;\n",
       "    }\n",
       "\n",
       "    .dataframe thead th {\n",
       "        text-align: right;\n",
       "    }\n",
       "</style>\n",
       "<table border=\"1\" class=\"dataframe\">\n",
       "  <thead>\n",
       "    <tr style=\"text-align: right;\">\n",
       "      <th></th>\n",
       "      <th>order_dow</th>\n",
       "      <th>prices</th>\n",
       "    </tr>\n",
       "  </thead>\n",
       "  <tbody>\n",
       "    <tr>\n",
       "      <th>count</th>\n",
       "      <td>9.721098e+06</td>\n",
       "      <td>9.719546e+06</td>\n",
       "    </tr>\n",
       "    <tr>\n",
       "      <th>mean</th>\n",
       "      <td>2.739315e+00</td>\n",
       "      <td>7.791115e+00</td>\n",
       "    </tr>\n",
       "    <tr>\n",
       "      <th>std</th>\n",
       "      <td>2.090128e+00</td>\n",
       "      <td>4.242515e+00</td>\n",
       "    </tr>\n",
       "    <tr>\n",
       "      <th>min</th>\n",
       "      <td>0.000000e+00</td>\n",
       "      <td>1.000000e+00</td>\n",
       "    </tr>\n",
       "    <tr>\n",
       "      <th>25%</th>\n",
       "      <td>1.000000e+00</td>\n",
       "      <td>4.200000e+00</td>\n",
       "    </tr>\n",
       "    <tr>\n",
       "      <th>50%</th>\n",
       "      <td>3.000000e+00</td>\n",
       "      <td>7.400000e+00</td>\n",
       "    </tr>\n",
       "    <tr>\n",
       "      <th>75%</th>\n",
       "      <td>5.000000e+00</td>\n",
       "      <td>1.130000e+01</td>\n",
       "    </tr>\n",
       "    <tr>\n",
       "      <th>max</th>\n",
       "      <td>6.000000e+00</td>\n",
       "      <td>2.500000e+01</td>\n",
       "    </tr>\n",
       "  </tbody>\n",
       "</table>\n",
       "</div>"
      ],
      "text/plain": [
       "          order_dow        prices\n",
       "count  9.721098e+06  9.719546e+06\n",
       "mean   2.739315e+00  7.791115e+00\n",
       "std    2.090128e+00  4.242515e+00\n",
       "min    0.000000e+00  1.000000e+00\n",
       "25%    1.000000e+00  4.200000e+00\n",
       "50%    3.000000e+00  7.400000e+00\n",
       "75%    5.000000e+00  1.130000e+01\n",
       "max    6.000000e+00  2.500000e+01"
      ]
     },
     "execution_count": 89,
     "metadata": {},
     "output_type": "execute_result"
    }
   ],
   "source": [
    "df_2.describe()"
   ]
  },
  {
   "cell_type": "code",
   "execution_count": 90,
   "id": "781b2660",
   "metadata": {
    "ExecuteTime": {
     "end_time": "2023-03-14T02:20:19.284137Z",
     "start_time": "2023-03-14T02:20:19.279672Z"
    }
   },
   "outputs": [
    {
     "data": {
      "text/plain": [
       "0"
      ]
     },
     "execution_count": 90,
     "metadata": {},
     "output_type": "execute_result"
    }
   ],
   "source": [
    "len(small) - len(df_2)"
   ]
  },
  {
   "cell_type": "markdown",
   "id": "18c5efc6",
   "metadata": {},
   "source": [
    "## Now, finally, the line plot, using our optimized DataFrame, 'df_2':\n",
    "## NB:  I still have 'order_dow' for a column name, rather than the 'orders_day_of_week' that the Exercise uses."
   ]
  },
  {
   "cell_type": "code",
   "execution_count": 91,
   "id": "232b0cbd",
   "metadata": {
    "ExecuteTime": {
     "end_time": "2023-03-14T02:20:29.851950Z",
     "start_time": "2023-03-14T02:20:29.849033Z"
    }
   },
   "outputs": [],
   "source": [
    "# Wow, this still took 1.75 minutes to execute, even with the reduced dataframe."
   ]
  },
  {
   "cell_type": "code",
   "execution_count": 92,
   "id": "fdd9ce7d",
   "metadata": {
    "ExecuteTime": {
     "end_time": "2023-03-14T02:23:22.379990Z",
     "start_time": "2023-03-14T02:21:14.792640Z"
    },
    "scrolled": true
   },
   "outputs": [
    {
     "data": {
      "image/png": "[encoded data removed]",
      "text/plain": [
       "<Figure size 432x288 with 1 Axes>"
      ]
     },
     "metadata": {
      "needs_background": "light"
     },
     "output_type": "display_data"
    }
   ],
   "source": [
    "line_df_30 = sns.lineplot(data = df_2, x = 'order_dow',y = 'prices')"
   ]
  },
  {
   "cell_type": "code",
   "execution_count": 93,
   "id": "142b4ed5",
   "metadata": {
    "ExecuteTime": {
     "end_time": "2022-11-12T03:44:45.254233Z",
     "start_time": "2022-11-12T03:44:45.074656Z"
    }
   },
   "outputs": [],
   "source": [
    "df_3 = big[['order_dow','prices']]"
   ]
  },
  {
   "cell_type": "code",
   "execution_count": 95,
   "id": "ece87ded",
   "metadata": {
    "ExecuteTime": {
     "end_time": "2022-11-12T03:46:32.126622Z",
     "start_time": "2022-11-12T03:46:31.877399Z"
    }
   },
   "outputs": [],
   "source": [
    "df_4 = ords_prods_merge[['order_dow','prices']]"
   ]
  },
  {
   "cell_type": "code",
   "execution_count": 96,
   "id": "63f9de0c",
   "metadata": {
    "ExecuteTime": {
     "end_time": "2022-11-12T04:03:36.611546Z",
     "start_time": "2022-11-12T03:52:50.089291Z"
    },
    "scrolled": true
   },
   "outputs": [
    {
     "data": {
      "image/png": "[encoded data removed]",
      "text/plain": [
       "<Figure size 432x288 with 1 Axes>"
      ]
     },
     "metadata": {
      "needs_background": "light"
     },
     "output_type": "display_data"
    }
   ],
   "source": [
    "line_df_70 = sns.lineplot(data = df_3, x = 'order_dow',y = 'prices')"
   ]
  },
  {
   "cell_type": "code",
   "execution_count": 97,
   "id": "7c26526e",
   "metadata": {
    "ExecuteTime": {
     "end_time": "2022-11-12T04:03:36.611546Z",
     "start_time": "2022-11-12T03:52:50.089291Z"
    },
    "scrolled": true
   },
   "outputs": [
    {
     "data": {
      "image/png": "[encoded data removed]",
      "text/plain": [
       "<Figure size 432x288 with 1 Axes>"
      ]
     },
     "metadata": {
      "needs_background": "light"
     },
     "output_type": "display_data"
    }
   ],
   "source": [
    "line_df_full = sns.lineplot(data = df_4, x = 'order_dow',y = 'prices')"
   ]
  },
  {
   "cell_type": "code",
   "execution_count": null,
   "id": "ffcbc52f",
   "metadata": {},
   "outputs": [],
   "source": []
  }
 ],
 "metadata": {
  "kernelspec": {
   "display_name": "Python 3 (ipykernel)",
   "language": "python",
   "name": "python3"
  },
  "language_info": {
   "codemirror_mode": {
    "name": "ipython",
    "version": 3
   },
   "file_extension": ".py",
   "mimetype": "text/x-python",
   "name": "python",
   "nbconvert_exporter": "python",
   "pygments_lexer": "ipython3",
   "version": "3.9.12"
  }
 },
 "nbformat": 4,
 "nbformat_minor": 5
}
