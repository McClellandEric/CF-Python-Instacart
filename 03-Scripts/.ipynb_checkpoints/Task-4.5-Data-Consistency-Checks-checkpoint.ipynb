{
 "cells": [
  {
   "cell_type": "markdown",
   "id": "15dadb85-142a-4914-ba4a-a54754f7c519",
   "metadata": {},
   "source": [
    "## Look for the section, \"BEGINNING TASK 4.5,\" below."
   ]
  },
  {
   "cell_type": "code",
   "execution_count": 17,
   "id": "60f691b1-38e4-4bb1-9e38-a078453e5e9f",
   "metadata": {
    "execution": {
     "iopub.execute_input": "2023-04-24T13:15:09.891125Z",
     "iopub.status.busy": "2023-04-24T13:15:09.890291Z",
     "iopub.status.idle": "2023-04-24T13:15:09.896019Z",
     "shell.execute_reply": "2023-04-24T13:15:09.895128Z",
     "shell.execute_reply.started": "2023-04-24T13:15:09.891078Z"
    },
    "tags": []
   },
   "outputs": [],
   "source": [
    "# Import libraries\n",
    "import pandas as pd\n",
    "import numpy as np\n",
    "import os"
   ]
  },
  {
   "cell_type": "code",
   "execution_count": 18,
   "id": "1fdff119-7839-4bb9-a39f-f5244f65a89b",
   "metadata": {
    "execution": {
     "iopub.execute_input": "2023-04-24T13:15:09.897985Z",
     "iopub.status.busy": "2023-04-24T13:15:09.897658Z",
     "iopub.status.idle": "2023-04-24T13:15:09.902134Z",
     "shell.execute_reply": "2023-04-24T13:15:09.901196Z",
     "shell.execute_reply.started": "2023-04-24T13:15:09.897948Z"
    },
    "tags": []
   },
   "outputs": [],
   "source": [
    "# Set a PATH variable."
   ]
  },
  {
   "cell_type": "code",
   "execution_count": 19,
   "id": "ac2b97b9-2392-4c15-8928-fa3feef4eca6",
   "metadata": {
    "execution": {
     "iopub.execute_input": "2023-04-24T13:15:09.904304Z",
     "iopub.status.busy": "2023-04-24T13:15:09.903652Z",
     "iopub.status.idle": "2023-04-24T13:15:09.908458Z",
     "shell.execute_reply": "2023-04-24T13:15:09.907505Z",
     "shell.execute_reply.started": "2023-04-24T13:15:09.904265Z"
    }
   },
   "outputs": [],
   "source": [
    "path = (r'~/careerfoundry/tasks/data-immersion/Achievement4/Instacart-Basket-Analysis')"
   ]
  },
  {
   "cell_type": "code",
   "execution_count": 20,
   "id": "355da849-8561-4222-914e-ff8d71359f85",
   "metadata": {
    "execution": {
     "iopub.execute_input": "2023-04-24T13:15:09.911552Z",
     "iopub.status.busy": "2023-04-24T13:15:09.910770Z",
     "iopub.status.idle": "2023-04-24T13:15:09.915407Z",
     "shell.execute_reply": "2023-04-24T13:15:09.914536Z",
     "shell.execute_reply.started": "2023-04-24T13:15:09.911510Z"
    }
   },
   "outputs": [],
   "source": [
    "# Set our exclusionary list of columns to import."
   ]
  },
  {
   "cell_type": "code",
   "execution_count": 21,
   "id": "89743fc0-2cef-4f08-9003-aa177b40e2b0",
   "metadata": {
    "execution": {
     "iopub.execute_input": "2023-04-24T13:15:09.917400Z",
     "iopub.status.busy": "2023-04-24T13:15:09.916848Z",
     "iopub.status.idle": "2023-04-24T13:15:09.920743Z",
     "shell.execute_reply": "2023-04-24T13:15:09.920149Z",
     "shell.execute_reply.started": "2023-04-24T13:15:09.917360Z"
    }
   },
   "outputs": [],
   "source": [
    "vars_list = ['order_id','customer_id','order_number','orders_day_of_week','order_hour_of_day','days_since_prior_order']"
   ]
  },
  {
   "cell_type": "code",
   "execution_count": 22,
   "id": "50f704b6-8ff4-460b-a2fc-bbc9dab66ff6",
   "metadata": {
    "execution": {
     "iopub.execute_input": "2023-04-24T13:15:09.922085Z",
     "iopub.status.busy": "2023-04-24T13:15:09.921845Z",
     "iopub.status.idle": "2023-04-24T13:15:09.926629Z",
     "shell.execute_reply": "2023-04-24T13:15:09.925941Z",
     "shell.execute_reply.started": "2023-04-24T13:15:09.922058Z"
    }
   },
   "outputs": [],
   "source": [
    "# Read the orders.csv and products.csv files into respective dataframes."
   ]
  },
  {
   "cell_type": "code",
   "execution_count": 23,
   "id": "ad7753a4-4214-47ff-abde-c8f4e0bc1849",
   "metadata": {
    "execution": {
     "iopub.execute_input": "2023-04-24T13:15:09.928747Z",
     "iopub.status.busy": "2023-04-24T13:15:09.928220Z",
     "iopub.status.idle": "2023-04-24T13:15:09.932254Z",
     "shell.execute_reply": "2023-04-24T13:15:09.931584Z",
     "shell.execute_reply.started": "2023-04-24T13:15:09.928718Z"
    },
    "tags": []
   },
   "outputs": [],
   "source": [
    "#df_ords = pd.read_csv(os.path.join(path, '02-Data', 'Original-Data', 'orders.csv'),  usecols = vars_list, index_col = False)"
   ]
  },
  {
   "cell_type": "code",
   "execution_count": 24,
   "id": "0f16afab-cc8c-46be-8bc3-d7c6db78432f",
   "metadata": {
    "execution": {
     "iopub.execute_input": "2023-04-24T13:15:09.933627Z",
     "iopub.status.busy": "2023-04-24T13:15:09.933388Z",
     "iopub.status.idle": "2023-04-24T13:15:11.825794Z",
     "shell.execute_reply": "2023-04-24T13:15:11.825004Z",
     "shell.execute_reply.started": "2023-04-24T13:15:09.933603Z"
    },
    "tags": []
   },
   "outputs": [],
   "source": [
    "df_ords = pd.read_csv(os.path.join(path, '02-Data','Prepared-Data', 'orders_wrangled.csv'),  usecols = vars_list, index_col = False)"
   ]
  },
  {
   "cell_type": "code",
   "execution_count": 25,
   "id": "f38b412a-d933-4d6a-9d09-6faa6b639d9a",
   "metadata": {
    "execution": {
     "iopub.execute_input": "2023-04-24T13:15:11.827030Z",
     "iopub.status.busy": "2023-04-24T13:15:11.826741Z",
     "iopub.status.idle": "2023-04-24T13:15:11.904145Z",
     "shell.execute_reply": "2023-04-24T13:15:11.903429Z",
     "shell.execute_reply.started": "2023-04-24T13:15:11.827003Z"
    },
    "tags": []
   },
   "outputs": [],
   "source": [
    "df_prods = pd.read_csv(os.path.join(path, '02-Data', 'Original-Data', 'products.csv'), index_col = False)"
   ]
  },
  {
   "cell_type": "code",
   "execution_count": 26,
   "id": "b8d7a0cb-0e42-4912-a19e-bd42db0b1504",
   "metadata": {
    "execution": {
     "iopub.execute_input": "2023-04-24T13:15:11.905701Z",
     "iopub.status.busy": "2023-04-24T13:15:11.905188Z",
     "iopub.status.idle": "2023-04-24T13:15:11.934008Z",
     "shell.execute_reply": "2023-04-24T13:15:11.932893Z",
     "shell.execute_reply.started": "2023-04-24T13:15:11.905674Z"
    }
   },
   "outputs": [
    {
     "data": {
      "text/html": [
       "<div>\n",
       "<style scoped>\n",
       "    .dataframe tbody tr th:only-of-type {\n",
       "        vertical-align: middle;\n",
       "    }\n",
       "\n",
       "    .dataframe tbody tr th {\n",
       "        vertical-align: top;\n",
       "    }\n",
       "\n",
       "    .dataframe thead th {\n",
       "        text-align: right;\n",
       "    }\n",
       "</style>\n",
       "<table border=\"1\" class=\"dataframe\">\n",
       "  <thead>\n",
       "    <tr style=\"text-align: right;\">\n",
       "      <th></th>\n",
       "      <th>order_id</th>\n",
       "      <th>customer_id</th>\n",
       "      <th>order_number</th>\n",
       "      <th>orders_day_of_week</th>\n",
       "      <th>order_hour_of_day</th>\n",
       "      <th>days_since_prior_order</th>\n",
       "    </tr>\n",
       "  </thead>\n",
       "  <tbody>\n",
       "    <tr>\n",
       "      <th>0</th>\n",
       "      <td>2539329</td>\n",
       "      <td>1</td>\n",
       "      <td>1</td>\n",
       "      <td>2</td>\n",
       "      <td>8</td>\n",
       "      <td>NaN</td>\n",
       "    </tr>\n",
       "    <tr>\n",
       "      <th>1</th>\n",
       "      <td>2398795</td>\n",
       "      <td>1</td>\n",
       "      <td>2</td>\n",
       "      <td>3</td>\n",
       "      <td>7</td>\n",
       "      <td>15.0</td>\n",
       "    </tr>\n",
       "    <tr>\n",
       "      <th>2</th>\n",
       "      <td>473747</td>\n",
       "      <td>1</td>\n",
       "      <td>3</td>\n",
       "      <td>3</td>\n",
       "      <td>12</td>\n",
       "      <td>21.0</td>\n",
       "    </tr>\n",
       "    <tr>\n",
       "      <th>3</th>\n",
       "      <td>2254736</td>\n",
       "      <td>1</td>\n",
       "      <td>4</td>\n",
       "      <td>4</td>\n",
       "      <td>7</td>\n",
       "      <td>29.0</td>\n",
       "    </tr>\n",
       "    <tr>\n",
       "      <th>4</th>\n",
       "      <td>431534</td>\n",
       "      <td>1</td>\n",
       "      <td>5</td>\n",
       "      <td>4</td>\n",
       "      <td>15</td>\n",
       "      <td>28.0</td>\n",
       "    </tr>\n",
       "  </tbody>\n",
       "</table>\n",
       "</div>"
      ],
      "text/plain": [
       "   order_id  customer_id  order_number  orders_day_of_week  order_hour_of_day  \\\n",
       "0   2539329            1             1                   2                  8   \n",
       "1   2398795            1             2                   3                  7   \n",
       "2    473747            1             3                   3                 12   \n",
       "3   2254736            1             4                   4                  7   \n",
       "4    431534            1             5                   4                 15   \n",
       "\n",
       "   days_since_prior_order  \n",
       "0                     NaN  \n",
       "1                    15.0  \n",
       "2                    21.0  \n",
       "3                    29.0  \n",
       "4                    28.0  "
      ]
     },
     "execution_count": 26,
     "metadata": {},
     "output_type": "execute_result"
    }
   ],
   "source": [
    "df_ords.head()"
   ]
  },
  {
   "cell_type": "code",
   "execution_count": 27,
   "id": "952fb059-9333-49ac-b7c8-9af5f1f21ec1",
   "metadata": {
    "execution": {
     "iopub.execute_input": "2023-04-24T13:15:11.936213Z",
     "iopub.status.busy": "2023-04-24T13:15:11.935497Z",
     "iopub.status.idle": "2023-04-24T13:15:11.947220Z",
     "shell.execute_reply": "2023-04-24T13:15:11.946091Z",
     "shell.execute_reply.started": "2023-04-24T13:15:11.936182Z"
    },
    "tags": []
   },
   "outputs": [
    {
     "data": {
      "text/html": [
       "<div>\n",
       "<style scoped>\n",
       "    .dataframe tbody tr th:only-of-type {\n",
       "        vertical-align: middle;\n",
       "    }\n",
       "\n",
       "    .dataframe tbody tr th {\n",
       "        vertical-align: top;\n",
       "    }\n",
       "\n",
       "    .dataframe thead th {\n",
       "        text-align: right;\n",
       "    }\n",
       "</style>\n",
       "<table border=\"1\" class=\"dataframe\">\n",
       "  <thead>\n",
       "    <tr style=\"text-align: right;\">\n",
       "      <th></th>\n",
       "      <th>product_id</th>\n",
       "      <th>product_name</th>\n",
       "      <th>aisle_id</th>\n",
       "      <th>department_id</th>\n",
       "      <th>prices</th>\n",
       "    </tr>\n",
       "  </thead>\n",
       "  <tbody>\n",
       "    <tr>\n",
       "      <th>0</th>\n",
       "      <td>1</td>\n",
       "      <td>Chocolate Sandwich Cookies</td>\n",
       "      <td>61</td>\n",
       "      <td>19</td>\n",
       "      <td>5.8</td>\n",
       "    </tr>\n",
       "    <tr>\n",
       "      <th>1</th>\n",
       "      <td>2</td>\n",
       "      <td>All-Seasons Salt</td>\n",
       "      <td>104</td>\n",
       "      <td>13</td>\n",
       "      <td>9.3</td>\n",
       "    </tr>\n",
       "    <tr>\n",
       "      <th>2</th>\n",
       "      <td>3</td>\n",
       "      <td>Robust Golden Unsweetened Oolong Tea</td>\n",
       "      <td>94</td>\n",
       "      <td>7</td>\n",
       "      <td>4.5</td>\n",
       "    </tr>\n",
       "    <tr>\n",
       "      <th>3</th>\n",
       "      <td>4</td>\n",
       "      <td>Smart Ones Classic Favorites Mini Rigatoni Wit...</td>\n",
       "      <td>38</td>\n",
       "      <td>1</td>\n",
       "      <td>10.5</td>\n",
       "    </tr>\n",
       "    <tr>\n",
       "      <th>4</th>\n",
       "      <td>5</td>\n",
       "      <td>Green Chile Anytime Sauce</td>\n",
       "      <td>5</td>\n",
       "      <td>13</td>\n",
       "      <td>4.3</td>\n",
       "    </tr>\n",
       "  </tbody>\n",
       "</table>\n",
       "</div>"
      ],
      "text/plain": [
       "   product_id                                       product_name  aisle_id  \\\n",
       "0           1                         Chocolate Sandwich Cookies        61   \n",
       "1           2                                   All-Seasons Salt       104   \n",
       "2           3               Robust Golden Unsweetened Oolong Tea        94   \n",
       "3           4  Smart Ones Classic Favorites Mini Rigatoni Wit...        38   \n",
       "4           5                          Green Chile Anytime Sauce         5   \n",
       "\n",
       "   department_id  prices  \n",
       "0             19     5.8  \n",
       "1             13     9.3  \n",
       "2              7     4.5  \n",
       "3              1    10.5  \n",
       "4             13     4.3  "
      ]
     },
     "execution_count": 27,
     "metadata": {},
     "output_type": "execute_result"
    }
   ],
   "source": [
    "df_prods.head()"
   ]
  },
  {
   "cell_type": "code",
   "execution_count": 28,
   "id": "12807e2f-36aa-4f43-addd-faf696d9bb4e",
   "metadata": {
    "execution": {
     "iopub.execute_input": "2023-04-24T13:15:11.949053Z",
     "iopub.status.busy": "2023-04-24T13:15:11.948429Z",
     "iopub.status.idle": "2023-04-24T13:15:12.541142Z",
     "shell.execute_reply": "2023-04-24T13:15:12.540391Z",
     "shell.execute_reply.started": "2023-04-24T13:15:11.949027Z"
    }
   },
   "outputs": [
    {
     "data": {
      "text/html": [
       "<div>\n",
       "<style scoped>\n",
       "    .dataframe tbody tr th:only-of-type {\n",
       "        vertical-align: middle;\n",
       "    }\n",
       "\n",
       "    .dataframe tbody tr th {\n",
       "        vertical-align: top;\n",
       "    }\n",
       "\n",
       "    .dataframe thead th {\n",
       "        text-align: right;\n",
       "    }\n",
       "</style>\n",
       "<table border=\"1\" class=\"dataframe\">\n",
       "  <thead>\n",
       "    <tr style=\"text-align: right;\">\n",
       "      <th></th>\n",
       "      <th>order_id</th>\n",
       "      <th>customer_id</th>\n",
       "      <th>order_number</th>\n",
       "      <th>orders_day_of_week</th>\n",
       "      <th>order_hour_of_day</th>\n",
       "      <th>days_since_prior_order</th>\n",
       "    </tr>\n",
       "  </thead>\n",
       "  <tbody>\n",
       "    <tr>\n",
       "      <th>count</th>\n",
       "      <td>3.421083e+06</td>\n",
       "      <td>3.421083e+06</td>\n",
       "      <td>3.421083e+06</td>\n",
       "      <td>3.421083e+06</td>\n",
       "      <td>3.421083e+06</td>\n",
       "      <td>3.214874e+06</td>\n",
       "    </tr>\n",
       "    <tr>\n",
       "      <th>mean</th>\n",
       "      <td>1.710542e+06</td>\n",
       "      <td>1.029782e+05</td>\n",
       "      <td>1.715486e+01</td>\n",
       "      <td>2.776219e+00</td>\n",
       "      <td>1.345202e+01</td>\n",
       "      <td>1.111484e+01</td>\n",
       "    </tr>\n",
       "    <tr>\n",
       "      <th>std</th>\n",
       "      <td>9.875817e+05</td>\n",
       "      <td>5.953372e+04</td>\n",
       "      <td>1.773316e+01</td>\n",
       "      <td>2.046829e+00</td>\n",
       "      <td>4.226088e+00</td>\n",
       "      <td>9.206737e+00</td>\n",
       "    </tr>\n",
       "    <tr>\n",
       "      <th>min</th>\n",
       "      <td>1.000000e+00</td>\n",
       "      <td>1.000000e+00</td>\n",
       "      <td>1.000000e+00</td>\n",
       "      <td>0.000000e+00</td>\n",
       "      <td>0.000000e+00</td>\n",
       "      <td>0.000000e+00</td>\n",
       "    </tr>\n",
       "    <tr>\n",
       "      <th>25%</th>\n",
       "      <td>8.552715e+05</td>\n",
       "      <td>5.139400e+04</td>\n",
       "      <td>5.000000e+00</td>\n",
       "      <td>1.000000e+00</td>\n",
       "      <td>1.000000e+01</td>\n",
       "      <td>4.000000e+00</td>\n",
       "    </tr>\n",
       "    <tr>\n",
       "      <th>50%</th>\n",
       "      <td>1.710542e+06</td>\n",
       "      <td>1.026890e+05</td>\n",
       "      <td>1.100000e+01</td>\n",
       "      <td>3.000000e+00</td>\n",
       "      <td>1.300000e+01</td>\n",
       "      <td>7.000000e+00</td>\n",
       "    </tr>\n",
       "    <tr>\n",
       "      <th>75%</th>\n",
       "      <td>2.565812e+06</td>\n",
       "      <td>1.543850e+05</td>\n",
       "      <td>2.300000e+01</td>\n",
       "      <td>5.000000e+00</td>\n",
       "      <td>1.600000e+01</td>\n",
       "      <td>1.500000e+01</td>\n",
       "    </tr>\n",
       "    <tr>\n",
       "      <th>max</th>\n",
       "      <td>3.421083e+06</td>\n",
       "      <td>2.062090e+05</td>\n",
       "      <td>1.000000e+02</td>\n",
       "      <td>6.000000e+00</td>\n",
       "      <td>2.300000e+01</td>\n",
       "      <td>3.000000e+01</td>\n",
       "    </tr>\n",
       "  </tbody>\n",
       "</table>\n",
       "</div>"
      ],
      "text/plain": [
       "           order_id   customer_id  order_number  orders_day_of_week  \\\n",
       "count  3.421083e+06  3.421083e+06  3.421083e+06        3.421083e+06   \n",
       "mean   1.710542e+06  1.029782e+05  1.715486e+01        2.776219e+00   \n",
       "std    9.875817e+05  5.953372e+04  1.773316e+01        2.046829e+00   \n",
       "min    1.000000e+00  1.000000e+00  1.000000e+00        0.000000e+00   \n",
       "25%    8.552715e+05  5.139400e+04  5.000000e+00        1.000000e+00   \n",
       "50%    1.710542e+06  1.026890e+05  1.100000e+01        3.000000e+00   \n",
       "75%    2.565812e+06  1.543850e+05  2.300000e+01        5.000000e+00   \n",
       "max    3.421083e+06  2.062090e+05  1.000000e+02        6.000000e+00   \n",
       "\n",
       "       order_hour_of_day  days_since_prior_order  \n",
       "count       3.421083e+06            3.214874e+06  \n",
       "mean        1.345202e+01            1.111484e+01  \n",
       "std         4.226088e+00            9.206737e+00  \n",
       "min         0.000000e+00            0.000000e+00  \n",
       "25%         1.000000e+01            4.000000e+00  \n",
       "50%         1.300000e+01            7.000000e+00  \n",
       "75%         1.600000e+01            1.500000e+01  \n",
       "max         2.300000e+01            3.000000e+01  "
      ]
     },
     "execution_count": 28,
     "metadata": {},
     "output_type": "execute_result"
    }
   ],
   "source": [
    "df_ords.describe()"
   ]
  },
  {
   "cell_type": "code",
   "execution_count": 29,
   "id": "f5ede0ea-d098-43fd-a88b-4c87457e0259",
   "metadata": {
    "execution": {
     "iopub.execute_input": "2023-04-24T13:15:12.542413Z",
     "iopub.status.busy": "2023-04-24T13:15:12.542173Z",
     "iopub.status.idle": "2023-04-24T13:15:12.568614Z",
     "shell.execute_reply": "2023-04-24T13:15:12.568114Z",
     "shell.execute_reply.started": "2023-04-24T13:15:12.542387Z"
    }
   },
   "outputs": [
    {
     "data": {
      "text/html": [
       "<div>\n",
       "<style scoped>\n",
       "    .dataframe tbody tr th:only-of-type {\n",
       "        vertical-align: middle;\n",
       "    }\n",
       "\n",
       "    .dataframe tbody tr th {\n",
       "        vertical-align: top;\n",
       "    }\n",
       "\n",
       "    .dataframe thead th {\n",
       "        text-align: right;\n",
       "    }\n",
       "</style>\n",
       "<table border=\"1\" class=\"dataframe\">\n",
       "  <thead>\n",
       "    <tr style=\"text-align: right;\">\n",
       "      <th></th>\n",
       "      <th>product_id</th>\n",
       "      <th>aisle_id</th>\n",
       "      <th>department_id</th>\n",
       "      <th>prices</th>\n",
       "    </tr>\n",
       "  </thead>\n",
       "  <tbody>\n",
       "    <tr>\n",
       "      <th>count</th>\n",
       "      <td>49693.000000</td>\n",
       "      <td>49693.000000</td>\n",
       "      <td>49693.000000</td>\n",
       "      <td>49693.000000</td>\n",
       "    </tr>\n",
       "    <tr>\n",
       "      <th>mean</th>\n",
       "      <td>24844.345139</td>\n",
       "      <td>67.770249</td>\n",
       "      <td>11.728433</td>\n",
       "      <td>9.994136</td>\n",
       "    </tr>\n",
       "    <tr>\n",
       "      <th>std</th>\n",
       "      <td>14343.717401</td>\n",
       "      <td>38.316774</td>\n",
       "      <td>5.850282</td>\n",
       "      <td>453.519686</td>\n",
       "    </tr>\n",
       "    <tr>\n",
       "      <th>min</th>\n",
       "      <td>1.000000</td>\n",
       "      <td>1.000000</td>\n",
       "      <td>1.000000</td>\n",
       "      <td>1.000000</td>\n",
       "    </tr>\n",
       "    <tr>\n",
       "      <th>25%</th>\n",
       "      <td>12423.000000</td>\n",
       "      <td>35.000000</td>\n",
       "      <td>7.000000</td>\n",
       "      <td>4.100000</td>\n",
       "    </tr>\n",
       "    <tr>\n",
       "      <th>50%</th>\n",
       "      <td>24845.000000</td>\n",
       "      <td>69.000000</td>\n",
       "      <td>13.000000</td>\n",
       "      <td>7.100000</td>\n",
       "    </tr>\n",
       "    <tr>\n",
       "      <th>75%</th>\n",
       "      <td>37265.000000</td>\n",
       "      <td>100.000000</td>\n",
       "      <td>17.000000</td>\n",
       "      <td>11.200000</td>\n",
       "    </tr>\n",
       "    <tr>\n",
       "      <th>max</th>\n",
       "      <td>49688.000000</td>\n",
       "      <td>134.000000</td>\n",
       "      <td>21.000000</td>\n",
       "      <td>99999.000000</td>\n",
       "    </tr>\n",
       "  </tbody>\n",
       "</table>\n",
       "</div>"
      ],
      "text/plain": [
       "         product_id      aisle_id  department_id        prices\n",
       "count  49693.000000  49693.000000   49693.000000  49693.000000\n",
       "mean   24844.345139     67.770249      11.728433      9.994136\n",
       "std    14343.717401     38.316774       5.850282    453.519686\n",
       "min        1.000000      1.000000       1.000000      1.000000\n",
       "25%    12423.000000     35.000000       7.000000      4.100000\n",
       "50%    24845.000000     69.000000      13.000000      7.100000\n",
       "75%    37265.000000    100.000000      17.000000     11.200000\n",
       "max    49688.000000    134.000000      21.000000  99999.000000"
      ]
     },
     "execution_count": 29,
     "metadata": {},
     "output_type": "execute_result"
    }
   ],
   "source": [
    "df_prods.describe()"
   ]
  },
  {
   "cell_type": "code",
   "execution_count": 30,
   "id": "07cd52c6-485e-4140-b18e-7a1dc4471fee",
   "metadata": {
    "execution": {
     "iopub.execute_input": "2023-04-24T13:15:12.570334Z",
     "iopub.status.busy": "2023-04-24T13:15:12.569901Z",
     "iopub.status.idle": "2023-04-24T13:15:12.575595Z",
     "shell.execute_reply": "2023-04-24T13:15:12.574547Z",
     "shell.execute_reply.started": "2023-04-24T13:15:12.570299Z"
    }
   },
   "outputs": [],
   "source": [
    "df_test = pd.DataFrame()"
   ]
  },
  {
   "cell_type": "code",
   "execution_count": 31,
   "id": "983ed2c0-071e-44be-a773-73f7a1c479ce",
   "metadata": {
    "execution": {
     "iopub.execute_input": "2023-04-24T13:15:12.580620Z",
     "iopub.status.busy": "2023-04-24T13:15:12.580363Z",
     "iopub.status.idle": "2023-04-24T13:15:12.587861Z",
     "shell.execute_reply": "2023-04-24T13:15:12.587185Z",
     "shell.execute_reply.started": "2023-04-24T13:15:12.580596Z"
    }
   },
   "outputs": [],
   "source": [
    "df_test['mix'] = ['a', 'b', 1, True]"
   ]
  },
  {
   "cell_type": "code",
   "execution_count": 32,
   "id": "ac35ecf5-1fd6-48ee-891e-37f175fc6631",
   "metadata": {
    "execution": {
     "iopub.execute_input": "2023-04-24T13:15:12.589424Z",
     "iopub.status.busy": "2023-04-24T13:15:12.588769Z",
     "iopub.status.idle": "2023-04-24T13:15:12.599178Z",
     "shell.execute_reply": "2023-04-24T13:15:12.598057Z",
     "shell.execute_reply.started": "2023-04-24T13:15:12.589383Z"
    }
   },
   "outputs": [
    {
     "data": {
      "text/html": [
       "<div>\n",
       "<style scoped>\n",
       "    .dataframe tbody tr th:only-of-type {\n",
       "        vertical-align: middle;\n",
       "    }\n",
       "\n",
       "    .dataframe tbody tr th {\n",
       "        vertical-align: top;\n",
       "    }\n",
       "\n",
       "    .dataframe thead th {\n",
       "        text-align: right;\n",
       "    }\n",
       "</style>\n",
       "<table border=\"1\" class=\"dataframe\">\n",
       "  <thead>\n",
       "    <tr style=\"text-align: right;\">\n",
       "      <th></th>\n",
       "      <th>mix</th>\n",
       "    </tr>\n",
       "  </thead>\n",
       "  <tbody>\n",
       "    <tr>\n",
       "      <th>0</th>\n",
       "      <td>a</td>\n",
       "    </tr>\n",
       "    <tr>\n",
       "      <th>1</th>\n",
       "      <td>b</td>\n",
       "    </tr>\n",
       "    <tr>\n",
       "      <th>2</th>\n",
       "      <td>1</td>\n",
       "    </tr>\n",
       "    <tr>\n",
       "      <th>3</th>\n",
       "      <td>True</td>\n",
       "    </tr>\n",
       "  </tbody>\n",
       "</table>\n",
       "</div>"
      ],
      "text/plain": [
       "    mix\n",
       "0     a\n",
       "1     b\n",
       "2     1\n",
       "3  True"
      ]
     },
     "execution_count": 32,
     "metadata": {},
     "output_type": "execute_result"
    }
   ],
   "source": [
    "df_test"
   ]
  },
  {
   "cell_type": "code",
   "execution_count": 33,
   "id": "dde3f702-b33d-48e5-b5e9-a552d86a5e2d",
   "metadata": {
    "execution": {
     "iopub.execute_input": "2023-04-24T13:15:12.601423Z",
     "iopub.status.busy": "2023-04-24T13:15:12.600481Z",
     "iopub.status.idle": "2023-04-24T13:15:12.605100Z",
     "shell.execute_reply": "2023-04-24T13:15:12.604196Z",
     "shell.execute_reply.started": "2023-04-24T13:15:12.601385Z"
    }
   },
   "outputs": [],
   "source": [
    "# Function for looping through columns to look for mixed data types.  Copy pasta - I need to understand the 'type' function and this\n",
    "# extended df.iloc.apply.any syntax!"
   ]
  },
  {
   "cell_type": "code",
   "execution_count": 34,
   "id": "8da21a39-c521-461c-b186-b1b95fe3379a",
   "metadata": {
    "execution": {
     "iopub.execute_input": "2023-04-24T13:15:12.606642Z",
     "iopub.status.busy": "2023-04-24T13:15:12.606404Z",
     "iopub.status.idle": "2023-04-24T13:15:12.620735Z",
     "shell.execute_reply": "2023-04-24T13:15:12.619767Z",
     "shell.execute_reply.started": "2023-04-24T13:15:12.606619Z"
    }
   },
   "outputs": [
    {
     "name": "stdout",
     "output_type": "stream",
     "text": [
      "mix\n"
     ]
    }
   ],
   "source": [
    "for col in df_test.columns.tolist():\n",
    "  weird = (df_test[[col]].applymap(type) != df_test[[col]].iloc[0].apply(type)).any(axis = 1)\n",
    "  if len (df_test[weird]) > 0:\n",
    "    print (col)"
   ]
  },
  {
   "cell_type": "code",
   "execution_count": 35,
   "id": "62b71ab7-5291-45a4-94d5-4b8e155b0683",
   "metadata": {
    "execution": {
     "iopub.execute_input": "2023-04-24T13:15:12.623631Z",
     "iopub.status.busy": "2023-04-24T13:15:12.622545Z",
     "iopub.status.idle": "2023-04-24T13:15:12.627788Z",
     "shell.execute_reply": "2023-04-24T13:15:12.626826Z",
     "shell.execute_reply.started": "2023-04-24T13:15:12.623578Z"
    }
   },
   "outputs": [],
   "source": [
    "# Make the 'mix' column all strings."
   ]
  },
  {
   "cell_type": "code",
   "execution_count": 36,
   "id": "6ee91663-f9b5-46ac-b8ca-e009f1837e82",
   "metadata": {
    "execution": {
     "iopub.execute_input": "2023-04-24T13:15:12.629845Z",
     "iopub.status.busy": "2023-04-24T13:15:12.629208Z",
     "iopub.status.idle": "2023-04-24T13:15:12.635151Z",
     "shell.execute_reply": "2023-04-24T13:15:12.634261Z",
     "shell.execute_reply.started": "2023-04-24T13:15:12.629804Z"
    }
   },
   "outputs": [],
   "source": [
    "df_test['mix'] = df_test['mix'].astype('str')"
   ]
  },
  {
   "cell_type": "code",
   "execution_count": 37,
   "id": "71e4f7b5-9f25-4fe8-aa1b-dae93bc40d86",
   "metadata": {
    "execution": {
     "iopub.execute_input": "2023-04-24T13:15:12.636452Z",
     "iopub.status.busy": "2023-04-24T13:15:12.636234Z",
     "iopub.status.idle": "2023-04-24T13:15:12.643345Z",
     "shell.execute_reply": "2023-04-24T13:15:12.642550Z",
     "shell.execute_reply.started": "2023-04-24T13:15:12.636428Z"
    }
   },
   "outputs": [
    {
     "data": {
      "text/plain": [
       "mix    object\n",
       "dtype: object"
      ]
     },
     "execution_count": 37,
     "metadata": {},
     "output_type": "execute_result"
    }
   ],
   "source": [
    "df_test.dtypes"
   ]
  },
  {
   "cell_type": "code",
   "execution_count": 38,
   "id": "aee77c23-a6c6-48ca-83de-f197c1dc60db",
   "metadata": {
    "execution": {
     "iopub.execute_input": "2023-04-24T13:15:12.645214Z",
     "iopub.status.busy": "2023-04-24T13:15:12.644514Z",
     "iopub.status.idle": "2023-04-24T13:15:12.649115Z",
     "shell.execute_reply": "2023-04-24T13:15:12.648289Z",
     "shell.execute_reply.started": "2023-04-24T13:15:12.645188Z"
    }
   },
   "outputs": [],
   "source": [
    "# Look for nulls in df_prods."
   ]
  },
  {
   "cell_type": "code",
   "execution_count": 39,
   "id": "70ace8de-4dad-47ef-832e-65763dfd968b",
   "metadata": {
    "execution": {
     "iopub.execute_input": "2023-04-24T13:15:12.650318Z",
     "iopub.status.busy": "2023-04-24T13:15:12.650123Z",
     "iopub.status.idle": "2023-04-24T13:15:12.667760Z",
     "shell.execute_reply": "2023-04-24T13:15:12.666753Z",
     "shell.execute_reply.started": "2023-04-24T13:15:12.650296Z"
    }
   },
   "outputs": [
    {
     "data": {
      "text/plain": [
       "product_id        0\n",
       "product_name     16\n",
       "aisle_id          0\n",
       "department_id     0\n",
       "prices            0\n",
       "dtype: int64"
      ]
     },
     "execution_count": 39,
     "metadata": {},
     "output_type": "execute_result"
    }
   ],
   "source": [
    "df_prods.isnull().sum()"
   ]
  },
  {
   "cell_type": "code",
   "execution_count": 40,
   "id": "9b7da21c-c8f4-4a61-912a-54fdec18259c",
   "metadata": {
    "execution": {
     "iopub.execute_input": "2023-04-24T13:15:12.669726Z",
     "iopub.status.busy": "2023-04-24T13:15:12.669211Z",
     "iopub.status.idle": "2023-04-24T13:15:12.674565Z",
     "shell.execute_reply": "2023-04-24T13:15:12.672679Z",
     "shell.execute_reply.started": "2023-04-24T13:15:12.669691Z"
    }
   },
   "outputs": [],
   "source": [
    "# The nulls in df_prods['product_name'] ."
   ]
  },
  {
   "cell_type": "code",
   "execution_count": 41,
   "id": "b2682dba-6b1a-4d4d-8921-34b31eb89c99",
   "metadata": {
    "execution": {
     "iopub.execute_input": "2023-04-24T13:15:12.678822Z",
     "iopub.status.busy": "2023-04-24T13:15:12.678087Z",
     "iopub.status.idle": "2023-04-24T13:15:12.687442Z",
     "shell.execute_reply": "2023-04-24T13:15:12.686564Z",
     "shell.execute_reply.started": "2023-04-24T13:15:12.678784Z"
    },
    "tags": []
   },
   "outputs": [],
   "source": [
    "df_nan=df_prods[df_prods['product_name'].isnull()==True]"
   ]
  },
  {
   "cell_type": "code",
   "execution_count": 42,
   "id": "20d4f4f5-03e4-444f-a5cc-aa3ddca31a58",
   "metadata": {
    "execution": {
     "iopub.execute_input": "2023-04-24T13:15:12.689011Z",
     "iopub.status.busy": "2023-04-24T13:15:12.688684Z",
     "iopub.status.idle": "2023-04-24T13:15:12.703037Z",
     "shell.execute_reply": "2023-04-24T13:15:12.702220Z",
     "shell.execute_reply.started": "2023-04-24T13:15:12.688985Z"
    }
   },
   "outputs": [
    {
     "data": {
      "text/html": [
       "<div>\n",
       "<style scoped>\n",
       "    .dataframe tbody tr th:only-of-type {\n",
       "        vertical-align: middle;\n",
       "    }\n",
       "\n",
       "    .dataframe tbody tr th {\n",
       "        vertical-align: top;\n",
       "    }\n",
       "\n",
       "    .dataframe thead th {\n",
       "        text-align: right;\n",
       "    }\n",
       "</style>\n",
       "<table border=\"1\" class=\"dataframe\">\n",
       "  <thead>\n",
       "    <tr style=\"text-align: right;\">\n",
       "      <th></th>\n",
       "      <th>product_id</th>\n",
       "      <th>product_name</th>\n",
       "      <th>aisle_id</th>\n",
       "      <th>department_id</th>\n",
       "      <th>prices</th>\n",
       "    </tr>\n",
       "  </thead>\n",
       "  <tbody>\n",
       "    <tr>\n",
       "      <th>33</th>\n",
       "      <td>34</td>\n",
       "      <td>NaN</td>\n",
       "      <td>121</td>\n",
       "      <td>14</td>\n",
       "      <td>12.2</td>\n",
       "    </tr>\n",
       "    <tr>\n",
       "      <th>68</th>\n",
       "      <td>69</td>\n",
       "      <td>NaN</td>\n",
       "      <td>26</td>\n",
       "      <td>7</td>\n",
       "      <td>11.8</td>\n",
       "    </tr>\n",
       "    <tr>\n",
       "      <th>115</th>\n",
       "      <td>116</td>\n",
       "      <td>NaN</td>\n",
       "      <td>93</td>\n",
       "      <td>3</td>\n",
       "      <td>10.8</td>\n",
       "    </tr>\n",
       "    <tr>\n",
       "      <th>261</th>\n",
       "      <td>262</td>\n",
       "      <td>NaN</td>\n",
       "      <td>110</td>\n",
       "      <td>13</td>\n",
       "      <td>12.1</td>\n",
       "    </tr>\n",
       "    <tr>\n",
       "      <th>525</th>\n",
       "      <td>525</td>\n",
       "      <td>NaN</td>\n",
       "      <td>109</td>\n",
       "      <td>11</td>\n",
       "      <td>1.2</td>\n",
       "    </tr>\n",
       "    <tr>\n",
       "      <th>1511</th>\n",
       "      <td>1511</td>\n",
       "      <td>NaN</td>\n",
       "      <td>84</td>\n",
       "      <td>16</td>\n",
       "      <td>14.3</td>\n",
       "    </tr>\n",
       "    <tr>\n",
       "      <th>1780</th>\n",
       "      <td>1780</td>\n",
       "      <td>NaN</td>\n",
       "      <td>126</td>\n",
       "      <td>11</td>\n",
       "      <td>12.3</td>\n",
       "    </tr>\n",
       "    <tr>\n",
       "      <th>2240</th>\n",
       "      <td>2240</td>\n",
       "      <td>NaN</td>\n",
       "      <td>52</td>\n",
       "      <td>1</td>\n",
       "      <td>14.2</td>\n",
       "    </tr>\n",
       "    <tr>\n",
       "      <th>2586</th>\n",
       "      <td>2586</td>\n",
       "      <td>NaN</td>\n",
       "      <td>104</td>\n",
       "      <td>13</td>\n",
       "      <td>12.4</td>\n",
       "    </tr>\n",
       "    <tr>\n",
       "      <th>3159</th>\n",
       "      <td>3159</td>\n",
       "      <td>NaN</td>\n",
       "      <td>126</td>\n",
       "      <td>11</td>\n",
       "      <td>13.1</td>\n",
       "    </tr>\n",
       "    <tr>\n",
       "      <th>3230</th>\n",
       "      <td>3230</td>\n",
       "      <td>NaN</td>\n",
       "      <td>120</td>\n",
       "      <td>16</td>\n",
       "      <td>14.4</td>\n",
       "    </tr>\n",
       "    <tr>\n",
       "      <th>3736</th>\n",
       "      <td>3736</td>\n",
       "      <td>NaN</td>\n",
       "      <td>41</td>\n",
       "      <td>8</td>\n",
       "      <td>14.8</td>\n",
       "    </tr>\n",
       "    <tr>\n",
       "      <th>4283</th>\n",
       "      <td>4283</td>\n",
       "      <td>NaN</td>\n",
       "      <td>77</td>\n",
       "      <td>7</td>\n",
       "      <td>14.4</td>\n",
       "    </tr>\n",
       "    <tr>\n",
       "      <th>4790</th>\n",
       "      <td>4790</td>\n",
       "      <td>NaN</td>\n",
       "      <td>91</td>\n",
       "      <td>16</td>\n",
       "      <td>14.5</td>\n",
       "    </tr>\n",
       "    <tr>\n",
       "      <th>38187</th>\n",
       "      <td>38183</td>\n",
       "      <td>NaN</td>\n",
       "      <td>39</td>\n",
       "      <td>12</td>\n",
       "      <td>20.9</td>\n",
       "    </tr>\n",
       "    <tr>\n",
       "      <th>40444</th>\n",
       "      <td>40440</td>\n",
       "      <td>NaN</td>\n",
       "      <td>120</td>\n",
       "      <td>16</td>\n",
       "      <td>14.8</td>\n",
       "    </tr>\n",
       "  </tbody>\n",
       "</table>\n",
       "</div>"
      ],
      "text/plain": [
       "       product_id product_name  aisle_id  department_id  prices\n",
       "33             34          NaN       121             14    12.2\n",
       "68             69          NaN        26              7    11.8\n",
       "115           116          NaN        93              3    10.8\n",
       "261           262          NaN       110             13    12.1\n",
       "525           525          NaN       109             11     1.2\n",
       "1511         1511          NaN        84             16    14.3\n",
       "1780         1780          NaN       126             11    12.3\n",
       "2240         2240          NaN        52              1    14.2\n",
       "2586         2586          NaN       104             13    12.4\n",
       "3159         3159          NaN       126             11    13.1\n",
       "3230         3230          NaN       120             16    14.4\n",
       "3736         3736          NaN        41              8    14.8\n",
       "4283         4283          NaN        77              7    14.4\n",
       "4790         4790          NaN        91             16    14.5\n",
       "38187       38183          NaN        39             12    20.9\n",
       "40444       40440          NaN       120             16    14.8"
      ]
     },
     "execution_count": 42,
     "metadata": {},
     "output_type": "execute_result"
    }
   ],
   "source": [
    "df_nan"
   ]
  },
  {
   "cell_type": "code",
   "execution_count": 43,
   "id": "c48b2f19-76d9-47ef-9f96-8e1b7d642123",
   "metadata": {
    "execution": {
     "iopub.execute_input": "2023-04-24T13:15:12.704596Z",
     "iopub.status.busy": "2023-04-24T13:15:12.703900Z",
     "iopub.status.idle": "2023-04-24T13:15:12.864041Z",
     "shell.execute_reply": "2023-04-24T13:15:12.863155Z",
     "shell.execute_reply.started": "2023-04-24T13:15:12.704569Z"
    }
   },
   "outputs": [
    {
     "name": "stderr",
     "output_type": "stream",
     "text": [
      "/tmp/ipykernel_2712/3387230063.py:1: FutureWarning: Dropping of nuisance columns in DataFrame reductions (with 'numeric_only=None') is deprecated; in a future version this will raise TypeError.  Select only valid columns before calling the reduction.\n",
      "  df_prods.median()\n"
     ]
    },
    {
     "data": {
      "text/plain": [
       "product_id       24845.0\n",
       "aisle_id            69.0\n",
       "department_id       13.0\n",
       "prices               7.1\n",
       "dtype: float64"
      ]
     },
     "execution_count": 43,
     "metadata": {},
     "output_type": "execute_result"
    }
   ],
   "source": [
    "df_prods.median()"
   ]
  },
  {
   "cell_type": "code",
   "execution_count": 44,
   "id": "03e51e94-932b-4f10-a285-da6737728a7f",
   "metadata": {
    "execution": {
     "iopub.execute_input": "2023-04-24T13:15:12.866012Z",
     "iopub.status.busy": "2023-04-24T13:15:12.865357Z",
     "iopub.status.idle": "2023-04-24T13:15:12.895605Z",
     "shell.execute_reply": "2023-04-24T13:15:12.894741Z",
     "shell.execute_reply.started": "2023-04-24T13:15:12.865963Z"
    }
   },
   "outputs": [
    {
     "name": "stderr",
     "output_type": "stream",
     "text": [
      "/tmp/ipykernel_2712/730692063.py:1: FutureWarning: Dropping of nuisance columns in DataFrame reductions (with 'numeric_only=None') is deprecated; in a future version this will raise TypeError.  Select only valid columns before calling the reduction.\n",
      "  df_prods.mean()\n"
     ]
    },
    {
     "data": {
      "text/plain": [
       "product_id       24844.345139\n",
       "aisle_id            67.770249\n",
       "department_id       11.728433\n",
       "prices               9.994136\n",
       "dtype: float64"
      ]
     },
     "execution_count": 44,
     "metadata": {},
     "output_type": "execute_result"
    }
   ],
   "source": [
    "df_prods.mean()"
   ]
  },
  {
   "cell_type": "code",
   "execution_count": 45,
   "id": "55e10cef-aec4-431d-b0b1-efccf3bd1bd1",
   "metadata": {
    "execution": {
     "iopub.execute_input": "2023-04-24T13:15:12.897611Z",
     "iopub.status.busy": "2023-04-24T13:15:12.896842Z",
     "iopub.status.idle": "2023-04-24T13:15:12.925947Z",
     "shell.execute_reply": "2023-04-24T13:15:12.924556Z",
     "shell.execute_reply.started": "2023-04-24T13:15:12.897571Z"
    }
   },
   "outputs": [
    {
     "data": {
      "text/html": [
       "<div>\n",
       "<style scoped>\n",
       "    .dataframe tbody tr th:only-of-type {\n",
       "        vertical-align: middle;\n",
       "    }\n",
       "\n",
       "    .dataframe tbody tr th {\n",
       "        vertical-align: top;\n",
       "    }\n",
       "\n",
       "    .dataframe thead th {\n",
       "        text-align: right;\n",
       "    }\n",
       "</style>\n",
       "<table border=\"1\" class=\"dataframe\">\n",
       "  <thead>\n",
       "    <tr style=\"text-align: right;\">\n",
       "      <th></th>\n",
       "      <th>product_id</th>\n",
       "      <th>aisle_id</th>\n",
       "      <th>department_id</th>\n",
       "      <th>prices</th>\n",
       "    </tr>\n",
       "  </thead>\n",
       "  <tbody>\n",
       "    <tr>\n",
       "      <th>count</th>\n",
       "      <td>49693.000000</td>\n",
       "      <td>49693.000000</td>\n",
       "      <td>49693.000000</td>\n",
       "      <td>49693.000000</td>\n",
       "    </tr>\n",
       "    <tr>\n",
       "      <th>mean</th>\n",
       "      <td>24844.345139</td>\n",
       "      <td>67.770249</td>\n",
       "      <td>11.728433</td>\n",
       "      <td>9.994136</td>\n",
       "    </tr>\n",
       "    <tr>\n",
       "      <th>std</th>\n",
       "      <td>14343.717401</td>\n",
       "      <td>38.316774</td>\n",
       "      <td>5.850282</td>\n",
       "      <td>453.519686</td>\n",
       "    </tr>\n",
       "    <tr>\n",
       "      <th>min</th>\n",
       "      <td>1.000000</td>\n",
       "      <td>1.000000</td>\n",
       "      <td>1.000000</td>\n",
       "      <td>1.000000</td>\n",
       "    </tr>\n",
       "    <tr>\n",
       "      <th>25%</th>\n",
       "      <td>12423.000000</td>\n",
       "      <td>35.000000</td>\n",
       "      <td>7.000000</td>\n",
       "      <td>4.100000</td>\n",
       "    </tr>\n",
       "    <tr>\n",
       "      <th>50%</th>\n",
       "      <td>24845.000000</td>\n",
       "      <td>69.000000</td>\n",
       "      <td>13.000000</td>\n",
       "      <td>7.100000</td>\n",
       "    </tr>\n",
       "    <tr>\n",
       "      <th>75%</th>\n",
       "      <td>37265.000000</td>\n",
       "      <td>100.000000</td>\n",
       "      <td>17.000000</td>\n",
       "      <td>11.200000</td>\n",
       "    </tr>\n",
       "    <tr>\n",
       "      <th>max</th>\n",
       "      <td>49688.000000</td>\n",
       "      <td>134.000000</td>\n",
       "      <td>21.000000</td>\n",
       "      <td>99999.000000</td>\n",
       "    </tr>\n",
       "  </tbody>\n",
       "</table>\n",
       "</div>"
      ],
      "text/plain": [
       "         product_id      aisle_id  department_id        prices\n",
       "count  49693.000000  49693.000000   49693.000000  49693.000000\n",
       "mean   24844.345139     67.770249      11.728433      9.994136\n",
       "std    14343.717401     38.316774       5.850282    453.519686\n",
       "min        1.000000      1.000000       1.000000      1.000000\n",
       "25%    12423.000000     35.000000       7.000000      4.100000\n",
       "50%    24845.000000     69.000000      13.000000      7.100000\n",
       "75%    37265.000000    100.000000      17.000000     11.200000\n",
       "max    49688.000000    134.000000      21.000000  99999.000000"
      ]
     },
     "execution_count": 45,
     "metadata": {},
     "output_type": "execute_result"
    }
   ],
   "source": [
    "df_prods.describe()"
   ]
  },
  {
   "cell_type": "code",
   "execution_count": 46,
   "id": "02108300-8561-441e-962a-a4cf81b8bb6c",
   "metadata": {
    "execution": {
     "iopub.execute_input": "2023-04-24T13:15:12.928553Z",
     "iopub.status.busy": "2023-04-24T13:15:12.927559Z",
     "iopub.status.idle": "2023-04-24T13:15:12.935135Z",
     "shell.execute_reply": "2023-04-24T13:15:12.934234Z",
     "shell.execute_reply.started": "2023-04-24T13:15:12.928502Z"
    }
   },
   "outputs": [
    {
     "data": {
      "text/plain": [
       "(49693, 5)"
      ]
     },
     "execution_count": 46,
     "metadata": {},
     "output_type": "execute_result"
    }
   ],
   "source": [
    "df_prods.shape"
   ]
  },
  {
   "cell_type": "code",
   "execution_count": 47,
   "id": "4d118f03-bda1-402e-b353-ea1066633747",
   "metadata": {
    "execution": {
     "iopub.execute_input": "2023-04-24T13:15:12.937257Z",
     "iopub.status.busy": "2023-04-24T13:15:12.936579Z",
     "iopub.status.idle": "2023-04-24T13:15:12.943448Z",
     "shell.execute_reply": "2023-04-24T13:15:12.942194Z",
     "shell.execute_reply.started": "2023-04-24T13:15:12.937232Z"
    }
   },
   "outputs": [],
   "source": [
    "# New DF of products without missing product names."
   ]
  },
  {
   "cell_type": "code",
   "execution_count": 48,
   "id": "9d7f1df7-daa1-44e2-a56e-515780ab81a7",
   "metadata": {
    "execution": {
     "iopub.execute_input": "2023-04-24T13:15:12.945409Z",
     "iopub.status.busy": "2023-04-24T13:15:12.944684Z",
     "iopub.status.idle": "2023-04-24T13:15:12.954631Z",
     "shell.execute_reply": "2023-04-24T13:15:12.953728Z",
     "shell.execute_reply.started": "2023-04-24T13:15:12.945379Z"
    }
   },
   "outputs": [],
   "source": [
    "df_prods_clean=df_prods[df_prods['product_name'].isnull()==False]"
   ]
  },
  {
   "cell_type": "code",
   "execution_count": 49,
   "id": "1330f1fa-c708-4b8c-8bae-54ef6ced7f71",
   "metadata": {
    "execution": {
     "iopub.execute_input": "2023-04-24T13:15:12.956610Z",
     "iopub.status.busy": "2023-04-24T13:15:12.956392Z",
     "iopub.status.idle": "2023-04-24T13:15:12.968301Z",
     "shell.execute_reply": "2023-04-24T13:15:12.967489Z",
     "shell.execute_reply.started": "2023-04-24T13:15:12.956587Z"
    }
   },
   "outputs": [
    {
     "data": {
      "text/html": [
       "<div>\n",
       "<style scoped>\n",
       "    .dataframe tbody tr th:only-of-type {\n",
       "        vertical-align: middle;\n",
       "    }\n",
       "\n",
       "    .dataframe tbody tr th {\n",
       "        vertical-align: top;\n",
       "    }\n",
       "\n",
       "    .dataframe thead th {\n",
       "        text-align: right;\n",
       "    }\n",
       "</style>\n",
       "<table border=\"1\" class=\"dataframe\">\n",
       "  <thead>\n",
       "    <tr style=\"text-align: right;\">\n",
       "      <th></th>\n",
       "      <th>product_id</th>\n",
       "      <th>product_name</th>\n",
       "      <th>aisle_id</th>\n",
       "      <th>department_id</th>\n",
       "      <th>prices</th>\n",
       "    </tr>\n",
       "  </thead>\n",
       "  <tbody>\n",
       "    <tr>\n",
       "      <th>0</th>\n",
       "      <td>1</td>\n",
       "      <td>Chocolate Sandwich Cookies</td>\n",
       "      <td>61</td>\n",
       "      <td>19</td>\n",
       "      <td>5.8</td>\n",
       "    </tr>\n",
       "    <tr>\n",
       "      <th>1</th>\n",
       "      <td>2</td>\n",
       "      <td>All-Seasons Salt</td>\n",
       "      <td>104</td>\n",
       "      <td>13</td>\n",
       "      <td>9.3</td>\n",
       "    </tr>\n",
       "    <tr>\n",
       "      <th>2</th>\n",
       "      <td>3</td>\n",
       "      <td>Robust Golden Unsweetened Oolong Tea</td>\n",
       "      <td>94</td>\n",
       "      <td>7</td>\n",
       "      <td>4.5</td>\n",
       "    </tr>\n",
       "    <tr>\n",
       "      <th>3</th>\n",
       "      <td>4</td>\n",
       "      <td>Smart Ones Classic Favorites Mini Rigatoni Wit...</td>\n",
       "      <td>38</td>\n",
       "      <td>1</td>\n",
       "      <td>10.5</td>\n",
       "    </tr>\n",
       "    <tr>\n",
       "      <th>4</th>\n",
       "      <td>5</td>\n",
       "      <td>Green Chile Anytime Sauce</td>\n",
       "      <td>5</td>\n",
       "      <td>13</td>\n",
       "      <td>4.3</td>\n",
       "    </tr>\n",
       "  </tbody>\n",
       "</table>\n",
       "</div>"
      ],
      "text/plain": [
       "   product_id                                       product_name  aisle_id  \\\n",
       "0           1                         Chocolate Sandwich Cookies        61   \n",
       "1           2                                   All-Seasons Salt       104   \n",
       "2           3               Robust Golden Unsweetened Oolong Tea        94   \n",
       "3           4  Smart Ones Classic Favorites Mini Rigatoni Wit...        38   \n",
       "4           5                          Green Chile Anytime Sauce         5   \n",
       "\n",
       "   department_id  prices  \n",
       "0             19     5.8  \n",
       "1             13     9.3  \n",
       "2              7     4.5  \n",
       "3              1    10.5  \n",
       "4             13     4.3  "
      ]
     },
     "execution_count": 49,
     "metadata": {},
     "output_type": "execute_result"
    }
   ],
   "source": [
    "df_prods_clean.head()"
   ]
  },
  {
   "cell_type": "code",
   "execution_count": 50,
   "id": "edafc56a-dba9-4092-a15a-c082c2f77a3c",
   "metadata": {
    "execution": {
     "iopub.execute_input": "2023-04-24T13:15:12.969564Z",
     "iopub.status.busy": "2023-04-24T13:15:12.969344Z",
     "iopub.status.idle": "2023-04-24T13:15:12.975472Z",
     "shell.execute_reply": "2023-04-24T13:15:12.974547Z",
     "shell.execute_reply.started": "2023-04-24T13:15:12.969540Z"
    }
   },
   "outputs": [
    {
     "data": {
      "text/plain": [
       "(49677, 5)"
      ]
     },
     "execution_count": 50,
     "metadata": {},
     "output_type": "execute_result"
    }
   ],
   "source": [
    "df_prods_clean.shape"
   ]
  },
  {
   "cell_type": "code",
   "execution_count": 51,
   "id": "e6e87dd3-3fd4-48f8-ae32-756e2d2589b4",
   "metadata": {
    "execution": {
     "iopub.execute_input": "2023-04-24T13:15:12.977580Z",
     "iopub.status.busy": "2023-04-24T13:15:12.976935Z",
     "iopub.status.idle": "2023-04-24T13:15:12.982373Z",
     "shell.execute_reply": "2023-04-24T13:15:12.981711Z",
     "shell.execute_reply.started": "2023-04-24T13:15:12.977546Z"
    }
   },
   "outputs": [
    {
     "data": {
      "text/plain": [
       "(16, 5)"
      ]
     },
     "execution_count": 51,
     "metadata": {},
     "output_type": "execute_result"
    }
   ],
   "source": [
    "df_nan.shape"
   ]
  },
  {
   "cell_type": "code",
   "execution_count": 52,
   "id": "11f899bf-e717-43f4-852a-7f2a34193624",
   "metadata": {
    "execution": {
     "iopub.execute_input": "2023-04-24T13:15:12.984584Z",
     "iopub.status.busy": "2023-04-24T13:15:12.983712Z",
     "iopub.status.idle": "2023-04-24T13:15:12.989226Z",
     "shell.execute_reply": "2023-04-24T13:15:12.988250Z",
     "shell.execute_reply.started": "2023-04-24T13:15:12.984539Z"
    }
   },
   "outputs": [],
   "source": [
    "# Look for duplicate rows."
   ]
  },
  {
   "cell_type": "code",
   "execution_count": 53,
   "id": "b5c24f86-6361-4403-a782-2eeb3cff6179",
   "metadata": {
    "execution": {
     "iopub.execute_input": "2023-04-24T13:15:12.991372Z",
     "iopub.status.busy": "2023-04-24T13:15:12.990552Z",
     "iopub.status.idle": "2023-04-24T13:15:13.023965Z",
     "shell.execute_reply": "2023-04-24T13:15:13.023197Z",
     "shell.execute_reply.started": "2023-04-24T13:15:12.991308Z"
    }
   },
   "outputs": [],
   "source": [
    "df_dups = df_prods_clean[df_prods_clean.duplicated()]"
   ]
  },
  {
   "cell_type": "code",
   "execution_count": 54,
   "id": "79633831-b05a-4d14-981e-0527a6aabb0d",
   "metadata": {
    "execution": {
     "iopub.execute_input": "2023-04-24T13:15:13.032160Z",
     "iopub.status.busy": "2023-04-24T13:15:13.031655Z",
     "iopub.status.idle": "2023-04-24T13:15:13.038222Z",
     "shell.execute_reply": "2023-04-24T13:15:13.037391Z",
     "shell.execute_reply.started": "2023-04-24T13:15:13.032122Z"
    }
   },
   "outputs": [
    {
     "data": {
      "text/plain": [
       "(5, 5)"
      ]
     },
     "execution_count": 54,
     "metadata": {},
     "output_type": "execute_result"
    }
   ],
   "source": [
    "df_dups.shape"
   ]
  },
  {
   "cell_type": "code",
   "execution_count": 55,
   "id": "02f90606-435b-4263-a280-fc07be440304",
   "metadata": {
    "execution": {
     "iopub.execute_input": "2023-04-24T13:15:13.040235Z",
     "iopub.status.busy": "2023-04-24T13:15:13.039797Z",
     "iopub.status.idle": "2023-04-24T13:15:13.053039Z",
     "shell.execute_reply": "2023-04-24T13:15:13.052264Z",
     "shell.execute_reply.started": "2023-04-24T13:15:13.040193Z"
    }
   },
   "outputs": [
    {
     "data": {
      "text/html": [
       "<div>\n",
       "<style scoped>\n",
       "    .dataframe tbody tr th:only-of-type {\n",
       "        vertical-align: middle;\n",
       "    }\n",
       "\n",
       "    .dataframe tbody tr th {\n",
       "        vertical-align: top;\n",
       "    }\n",
       "\n",
       "    .dataframe thead th {\n",
       "        text-align: right;\n",
       "    }\n",
       "</style>\n",
       "<table border=\"1\" class=\"dataframe\">\n",
       "  <thead>\n",
       "    <tr style=\"text-align: right;\">\n",
       "      <th></th>\n",
       "      <th>product_id</th>\n",
       "      <th>product_name</th>\n",
       "      <th>aisle_id</th>\n",
       "      <th>department_id</th>\n",
       "      <th>prices</th>\n",
       "    </tr>\n",
       "  </thead>\n",
       "  <tbody>\n",
       "    <tr>\n",
       "      <th>462</th>\n",
       "      <td>462</td>\n",
       "      <td>Fiber 4g Gummy Dietary Supplement</td>\n",
       "      <td>70</td>\n",
       "      <td>11</td>\n",
       "      <td>4.8</td>\n",
       "    </tr>\n",
       "    <tr>\n",
       "      <th>18459</th>\n",
       "      <td>18458</td>\n",
       "      <td>Ranger IPA</td>\n",
       "      <td>27</td>\n",
       "      <td>5</td>\n",
       "      <td>9.2</td>\n",
       "    </tr>\n",
       "    <tr>\n",
       "      <th>26810</th>\n",
       "      <td>26808</td>\n",
       "      <td>Black House Coffee Roasty Stout Beer</td>\n",
       "      <td>27</td>\n",
       "      <td>5</td>\n",
       "      <td>13.4</td>\n",
       "    </tr>\n",
       "    <tr>\n",
       "      <th>35309</th>\n",
       "      <td>35306</td>\n",
       "      <td>Gluten Free Organic Peanut Butter &amp; Chocolate ...</td>\n",
       "      <td>121</td>\n",
       "      <td>14</td>\n",
       "      <td>6.8</td>\n",
       "    </tr>\n",
       "    <tr>\n",
       "      <th>35495</th>\n",
       "      <td>35491</td>\n",
       "      <td>Adore Forever Body Wash</td>\n",
       "      <td>127</td>\n",
       "      <td>11</td>\n",
       "      <td>9.9</td>\n",
       "    </tr>\n",
       "  </tbody>\n",
       "</table>\n",
       "</div>"
      ],
      "text/plain": [
       "       product_id                                       product_name  \\\n",
       "462           462                  Fiber 4g Gummy Dietary Supplement   \n",
       "18459       18458                                         Ranger IPA   \n",
       "26810       26808               Black House Coffee Roasty Stout Beer   \n",
       "35309       35306  Gluten Free Organic Peanut Butter & Chocolate ...   \n",
       "35495       35491                            Adore Forever Body Wash   \n",
       "\n",
       "       aisle_id  department_id  prices  \n",
       "462          70             11     4.8  \n",
       "18459        27              5     9.2  \n",
       "26810        27              5    13.4  \n",
       "35309       121             14     6.8  \n",
       "35495       127             11     9.9  "
      ]
     },
     "execution_count": 55,
     "metadata": {},
     "output_type": "execute_result"
    }
   ],
   "source": [
    "df_dups"
   ]
  },
  {
   "cell_type": "code",
   "execution_count": 56,
   "id": "f9719e08-0dff-4013-a5a0-bd8d86c6cb67",
   "metadata": {
    "execution": {
     "iopub.execute_input": "2023-04-24T13:15:13.054200Z",
     "iopub.status.busy": "2023-04-24T13:15:13.053995Z",
     "iopub.status.idle": "2023-04-24T13:15:13.058063Z",
     "shell.execute_reply": "2023-04-24T13:15:13.057395Z",
     "shell.execute_reply.started": "2023-04-24T13:15:13.054177Z"
    }
   },
   "outputs": [],
   "source": [
    "# Form a new DataFrame by dropping the duplicates."
   ]
  },
  {
   "cell_type": "code",
   "execution_count": 57,
   "id": "924c2e76-f6fc-4afb-a54b-02fa9ebb3c06",
   "metadata": {
    "execution": {
     "iopub.execute_input": "2023-04-24T13:15:13.059359Z",
     "iopub.status.busy": "2023-04-24T13:15:13.058982Z",
     "iopub.status.idle": "2023-04-24T13:15:13.089966Z",
     "shell.execute_reply": "2023-04-24T13:15:13.089052Z",
     "shell.execute_reply.started": "2023-04-24T13:15:13.059334Z"
    }
   },
   "outputs": [],
   "source": [
    "df_prods_clean_no_dups = df_prods_clean.drop_duplicates()"
   ]
  },
  {
   "cell_type": "code",
   "execution_count": 58,
   "id": "72614210-6d73-43ef-b6fa-ba69db01ea9e",
   "metadata": {
    "execution": {
     "iopub.execute_input": "2023-04-24T13:15:13.091945Z",
     "iopub.status.busy": "2023-04-24T13:15:13.091206Z",
     "iopub.status.idle": "2023-04-24T13:15:13.097546Z",
     "shell.execute_reply": "2023-04-24T13:15:13.096723Z",
     "shell.execute_reply.started": "2023-04-24T13:15:13.091914Z"
    }
   },
   "outputs": [
    {
     "data": {
      "text/plain": [
       "(49672, 5)"
      ]
     },
     "execution_count": 58,
     "metadata": {},
     "output_type": "execute_result"
    }
   ],
   "source": [
    "df_prods_clean_no_dups.shape"
   ]
  },
  {
   "cell_type": "code",
   "execution_count": 59,
   "id": "d75bec3c-bf9b-4bd2-8de5-19cb44582994",
   "metadata": {
    "execution": {
     "iopub.execute_input": "2023-04-24T13:15:13.099222Z",
     "iopub.status.busy": "2023-04-24T13:15:13.098702Z",
     "iopub.status.idle": "2023-04-24T13:15:13.102041Z",
     "shell.execute_reply": "2023-04-24T13:15:13.101388Z",
     "shell.execute_reply.started": "2023-04-24T13:15:13.099192Z"
    }
   },
   "outputs": [],
   "source": [
    "# Name the new DF something nicer."
   ]
  },
  {
   "cell_type": "code",
   "execution_count": 60,
   "id": "c54e47a2-8941-49d1-983e-2343068defd3",
   "metadata": {
    "execution": {
     "iopub.execute_input": "2023-04-24T13:15:13.104789Z",
     "iopub.status.busy": "2023-04-24T13:15:13.103816Z",
     "iopub.status.idle": "2023-04-24T13:15:13.109525Z",
     "shell.execute_reply": "2023-04-24T13:15:13.108321Z",
     "shell.execute_reply.started": "2023-04-24T13:15:13.104737Z"
    }
   },
   "outputs": [],
   "source": [
    "df_prods_checked=df_prods_clean_no_dups"
   ]
  },
  {
   "cell_type": "code",
   "execution_count": 61,
   "id": "e588a91b-2598-4d90-aa7a-4d76f5651f5e",
   "metadata": {
    "execution": {
     "iopub.execute_input": "2023-04-24T13:15:13.111655Z",
     "iopub.status.busy": "2023-04-24T13:15:13.111273Z",
     "iopub.status.idle": "2023-04-24T13:15:13.117634Z",
     "shell.execute_reply": "2023-04-24T13:15:13.116686Z",
     "shell.execute_reply.started": "2023-04-24T13:15:13.111628Z"
    }
   },
   "outputs": [
    {
     "data": {
      "text/plain": [
       "(49672, 5)"
      ]
     },
     "execution_count": 61,
     "metadata": {},
     "output_type": "execute_result"
    }
   ],
   "source": [
    "df_prods_checked.shape"
   ]
  },
  {
   "cell_type": "code",
   "execution_count": 62,
   "id": "9cc6d0ef-922a-43a6-babd-69bd0d5737ca",
   "metadata": {
    "execution": {
     "iopub.execute_input": "2023-04-24T13:15:13.119024Z",
     "iopub.status.busy": "2023-04-24T13:15:13.118762Z",
     "iopub.status.idle": "2023-04-24T13:15:13.123227Z",
     "shell.execute_reply": "2023-04-24T13:15:13.122637Z",
     "shell.execute_reply.started": "2023-04-24T13:15:13.118999Z"
    }
   },
   "outputs": [],
   "source": [
    "# Save the new \"checked\" products DataFrame to a .CSV file."
   ]
  },
  {
   "cell_type": "code",
   "execution_count": 63,
   "id": "4805856d-a07a-41ee-90f3-7de5d1b6571e",
   "metadata": {
    "execution": {
     "iopub.execute_input": "2023-04-24T13:15:13.125170Z",
     "iopub.status.busy": "2023-04-24T13:15:13.124620Z",
     "iopub.status.idle": "2023-04-24T13:15:13.342326Z",
     "shell.execute_reply": "2023-04-24T13:15:13.341618Z",
     "shell.execute_reply.started": "2023-04-24T13:15:13.125141Z"
    }
   },
   "outputs": [],
   "source": [
    "df_prods_checked.to_csv(os.path.join(path, '02-Data','Prepared-Data', 'products_checked.csv'))"
   ]
  },
  {
   "cell_type": "markdown",
   "id": "41fd0f44-b02a-4af6-8a46-04bf0e73df3a",
   "metadata": {},
   "source": [
    "# BEGINNING TASK 4.5."
   ]
  },
  {
   "cell_type": "markdown",
   "id": "40e44159-3183-4b3b-ab76-f5a30ddaa06c",
   "metadata": {},
   "source": [
    "## Step 2:  Run the df.describe() function on your df_prods dataframe. Using your new knowledge about how to interpret the output of this function, share in a markdown cell whether anything about the data looks off or should be investigated further.\n",
    "    \n",
    "    Tip: Keep an eye on min and max values!"
   ]
  },
  {
   "cell_type": "markdown",
   "id": "41b5a987-2ded-4752-a3f2-7cea9a62064f",
   "metadata": {
    "tags": []
   },
   "source": [
    "### I imagine the cleaned and de-duplicated version of the df_prods DataFrame is the intended DF here, but it looks like the results are nearly identical.\n",
    "### The maximum price of 99999 looks like it could be a placeholder, but the minimum price of 1 could be legitimate, since we're discussing grocery items."
   ]
  },
  {
   "cell_type": "code",
   "execution_count": 64,
   "id": "a32156ef-4264-487a-93e0-3e6d12037317",
   "metadata": {
    "execution": {
     "iopub.execute_input": "2023-04-24T13:15:13.343894Z",
     "iopub.status.busy": "2023-04-24T13:15:13.343315Z",
     "iopub.status.idle": "2023-04-24T13:15:13.369925Z",
     "shell.execute_reply": "2023-04-24T13:15:13.369263Z",
     "shell.execute_reply.started": "2023-04-24T13:15:13.343868Z"
    }
   },
   "outputs": [
    {
     "data": {
      "text/html": [
       "<div>\n",
       "<style scoped>\n",
       "    .dataframe tbody tr th:only-of-type {\n",
       "        vertical-align: middle;\n",
       "    }\n",
       "\n",
       "    .dataframe tbody tr th {\n",
       "        vertical-align: top;\n",
       "    }\n",
       "\n",
       "    .dataframe thead th {\n",
       "        text-align: right;\n",
       "    }\n",
       "</style>\n",
       "<table border=\"1\" class=\"dataframe\">\n",
       "  <thead>\n",
       "    <tr style=\"text-align: right;\">\n",
       "      <th></th>\n",
       "      <th>product_id</th>\n",
       "      <th>aisle_id</th>\n",
       "      <th>department_id</th>\n",
       "      <th>prices</th>\n",
       "    </tr>\n",
       "  </thead>\n",
       "  <tbody>\n",
       "    <tr>\n",
       "      <th>count</th>\n",
       "      <td>49693.000000</td>\n",
       "      <td>49693.000000</td>\n",
       "      <td>49693.000000</td>\n",
       "      <td>49693.000000</td>\n",
       "    </tr>\n",
       "    <tr>\n",
       "      <th>mean</th>\n",
       "      <td>24844.345139</td>\n",
       "      <td>67.770249</td>\n",
       "      <td>11.728433</td>\n",
       "      <td>9.994136</td>\n",
       "    </tr>\n",
       "    <tr>\n",
       "      <th>std</th>\n",
       "      <td>14343.717401</td>\n",
       "      <td>38.316774</td>\n",
       "      <td>5.850282</td>\n",
       "      <td>453.519686</td>\n",
       "    </tr>\n",
       "    <tr>\n",
       "      <th>min</th>\n",
       "      <td>1.000000</td>\n",
       "      <td>1.000000</td>\n",
       "      <td>1.000000</td>\n",
       "      <td>1.000000</td>\n",
       "    </tr>\n",
       "    <tr>\n",
       "      <th>25%</th>\n",
       "      <td>12423.000000</td>\n",
       "      <td>35.000000</td>\n",
       "      <td>7.000000</td>\n",
       "      <td>4.100000</td>\n",
       "    </tr>\n",
       "    <tr>\n",
       "      <th>50%</th>\n",
       "      <td>24845.000000</td>\n",
       "      <td>69.000000</td>\n",
       "      <td>13.000000</td>\n",
       "      <td>7.100000</td>\n",
       "    </tr>\n",
       "    <tr>\n",
       "      <th>75%</th>\n",
       "      <td>37265.000000</td>\n",
       "      <td>100.000000</td>\n",
       "      <td>17.000000</td>\n",
       "      <td>11.200000</td>\n",
       "    </tr>\n",
       "    <tr>\n",
       "      <th>max</th>\n",
       "      <td>49688.000000</td>\n",
       "      <td>134.000000</td>\n",
       "      <td>21.000000</td>\n",
       "      <td>99999.000000</td>\n",
       "    </tr>\n",
       "  </tbody>\n",
       "</table>\n",
       "</div>"
      ],
      "text/plain": [
       "         product_id      aisle_id  department_id        prices\n",
       "count  49693.000000  49693.000000   49693.000000  49693.000000\n",
       "mean   24844.345139     67.770249      11.728433      9.994136\n",
       "std    14343.717401     38.316774       5.850282    453.519686\n",
       "min        1.000000      1.000000       1.000000      1.000000\n",
       "25%    12423.000000     35.000000       7.000000      4.100000\n",
       "50%    24845.000000     69.000000      13.000000      7.100000\n",
       "75%    37265.000000    100.000000      17.000000     11.200000\n",
       "max    49688.000000    134.000000      21.000000  99999.000000"
      ]
     },
     "execution_count": 64,
     "metadata": {},
     "output_type": "execute_result"
    }
   ],
   "source": [
    "df_prods.describe()"
   ]
  },
  {
   "cell_type": "code",
   "execution_count": 65,
   "id": "d665c174-4032-451f-97e1-a33f9d0a6540",
   "metadata": {
    "execution": {
     "iopub.execute_input": "2023-04-24T13:15:13.371464Z",
     "iopub.status.busy": "2023-04-24T13:15:13.370971Z",
     "iopub.status.idle": "2023-04-24T13:15:13.398738Z",
     "shell.execute_reply": "2023-04-24T13:15:13.398110Z",
     "shell.execute_reply.started": "2023-04-24T13:15:13.371437Z"
    }
   },
   "outputs": [
    {
     "data": {
      "text/html": [
       "<div>\n",
       "<style scoped>\n",
       "    .dataframe tbody tr th:only-of-type {\n",
       "        vertical-align: middle;\n",
       "    }\n",
       "\n",
       "    .dataframe tbody tr th {\n",
       "        vertical-align: top;\n",
       "    }\n",
       "\n",
       "    .dataframe thead th {\n",
       "        text-align: right;\n",
       "    }\n",
       "</style>\n",
       "<table border=\"1\" class=\"dataframe\">\n",
       "  <thead>\n",
       "    <tr style=\"text-align: right;\">\n",
       "      <th></th>\n",
       "      <th>product_id</th>\n",
       "      <th>aisle_id</th>\n",
       "      <th>department_id</th>\n",
       "      <th>prices</th>\n",
       "    </tr>\n",
       "  </thead>\n",
       "  <tbody>\n",
       "    <tr>\n",
       "      <th>count</th>\n",
       "      <td>49672.000000</td>\n",
       "      <td>49672.000000</td>\n",
       "      <td>49672.000000</td>\n",
       "      <td>49672.000000</td>\n",
       "    </tr>\n",
       "    <tr>\n",
       "      <th>mean</th>\n",
       "      <td>24850.349775</td>\n",
       "      <td>67.762442</td>\n",
       "      <td>11.728942</td>\n",
       "      <td>9.993282</td>\n",
       "    </tr>\n",
       "    <tr>\n",
       "      <th>std</th>\n",
       "      <td>14340.705287</td>\n",
       "      <td>38.315784</td>\n",
       "      <td>5.850779</td>\n",
       "      <td>453.615536</td>\n",
       "    </tr>\n",
       "    <tr>\n",
       "      <th>min</th>\n",
       "      <td>1.000000</td>\n",
       "      <td>1.000000</td>\n",
       "      <td>1.000000</td>\n",
       "      <td>1.000000</td>\n",
       "    </tr>\n",
       "    <tr>\n",
       "      <th>25%</th>\n",
       "      <td>12432.750000</td>\n",
       "      <td>35.000000</td>\n",
       "      <td>7.000000</td>\n",
       "      <td>4.100000</td>\n",
       "    </tr>\n",
       "    <tr>\n",
       "      <th>50%</th>\n",
       "      <td>24850.500000</td>\n",
       "      <td>69.000000</td>\n",
       "      <td>13.000000</td>\n",
       "      <td>7.100000</td>\n",
       "    </tr>\n",
       "    <tr>\n",
       "      <th>75%</th>\n",
       "      <td>37268.250000</td>\n",
       "      <td>100.000000</td>\n",
       "      <td>17.000000</td>\n",
       "      <td>11.100000</td>\n",
       "    </tr>\n",
       "    <tr>\n",
       "      <th>max</th>\n",
       "      <td>49688.000000</td>\n",
       "      <td>134.000000</td>\n",
       "      <td>21.000000</td>\n",
       "      <td>99999.000000</td>\n",
       "    </tr>\n",
       "  </tbody>\n",
       "</table>\n",
       "</div>"
      ],
      "text/plain": [
       "         product_id      aisle_id  department_id        prices\n",
       "count  49672.000000  49672.000000   49672.000000  49672.000000\n",
       "mean   24850.349775     67.762442      11.728942      9.993282\n",
       "std    14340.705287     38.315784       5.850779    453.615536\n",
       "min        1.000000      1.000000       1.000000      1.000000\n",
       "25%    12432.750000     35.000000       7.000000      4.100000\n",
       "50%    24850.500000     69.000000      13.000000      7.100000\n",
       "75%    37268.250000    100.000000      17.000000     11.100000\n",
       "max    49688.000000    134.000000      21.000000  99999.000000"
      ]
     },
     "execution_count": 65,
     "metadata": {},
     "output_type": "execute_result"
    }
   ],
   "source": [
    "df_prods_checked.describe()"
   ]
  },
  {
   "cell_type": "markdown",
   "id": "8267e409-4acb-47bd-905e-510e7d6ab19d",
   "metadata": {},
   "source": [
    "## Step 3:  Check for mixed-type data in your df_ords dataframe."
   ]
  },
  {
   "cell_type": "code",
   "execution_count": 66,
   "id": "a0b981b2-407d-49f0-b7f5-764e04610b0e",
   "metadata": {
    "execution": {
     "iopub.execute_input": "2023-04-24T13:15:13.400164Z",
     "iopub.status.busy": "2023-04-24T13:15:13.399938Z",
     "iopub.status.idle": "2023-04-24T13:15:13.405241Z",
     "shell.execute_reply": "2023-04-24T13:15:13.404372Z",
     "shell.execute_reply.started": "2023-04-24T13:15:13.400137Z"
    }
   },
   "outputs": [],
   "source": [
    "# The voodoo function returns no output, so it would seem there is no mixed-type data in the df_ords DataFrame.\n",
    "# Hence, I will skip Step 4."
   ]
  },
  {
   "cell_type": "code",
   "execution_count": 67,
   "id": "ee50ad0b-4527-4b3d-b62e-6c14126ed708",
   "metadata": {
    "execution": {
     "iopub.execute_input": "2023-04-24T13:15:13.407067Z",
     "iopub.status.busy": "2023-04-24T13:15:13.406323Z",
     "iopub.status.idle": "2023-04-24T13:15:17.546016Z",
     "shell.execute_reply": "2023-04-24T13:15:17.545306Z",
     "shell.execute_reply.started": "2023-04-24T13:15:13.407041Z"
    }
   },
   "outputs": [],
   "source": [
    "for col in df_ords.columns.tolist():\n",
    "  weird = (df_ords[[col]].applymap(type) != df_ords[[col]].iloc[0].apply(type)).any(axis = 1)\n",
    "  if len (df_ords[weird]) > 0:\n",
    "    print (col)"
   ]
  },
  {
   "cell_type": "markdown",
   "id": "f83e563f-e632-4e51-a4ce-f4d38f50855a",
   "metadata": {},
   "source": [
    "## Step 5:  Run a check for missing values in your df_ords dataframe.\n",
    "\n",
    "    In a markdown cell, report your findings and propose an explanation for any missing values you find.\n"
   ]
  },
  {
   "cell_type": "markdown",
   "id": "e40406fa-c2ff-4473-b537-b4dbb4d07d66",
   "metadata": {},
   "source": [
    "### The only NULLs (or NaNs) are in the 'days_since_prior_order' column."
   ]
  },
  {
   "cell_type": "code",
   "execution_count": 68,
   "id": "86ab1671-7681-4814-8bfa-6e8277423d25",
   "metadata": {
    "execution": {
     "iopub.execute_input": "2023-04-24T13:15:17.547331Z",
     "iopub.status.busy": "2023-04-24T13:15:17.547129Z",
     "iopub.status.idle": "2023-04-24T13:15:17.550359Z",
     "shell.execute_reply": "2023-04-24T13:15:17.549696Z",
     "shell.execute_reply.started": "2023-04-24T13:15:17.547306Z"
    }
   },
   "outputs": [],
   "source": [
    "# Look for nulls in df_ords."
   ]
  },
  {
   "cell_type": "code",
   "execution_count": 69,
   "id": "ac7df017-21f0-49d0-8d94-519c799970d3",
   "metadata": {
    "execution": {
     "iopub.execute_input": "2023-04-24T13:15:17.551676Z",
     "iopub.status.busy": "2023-04-24T13:15:17.551480Z",
     "iopub.status.idle": "2023-04-24T13:15:17.583296Z",
     "shell.execute_reply": "2023-04-24T13:15:17.582530Z",
     "shell.execute_reply.started": "2023-04-24T13:15:17.551654Z"
    }
   },
   "outputs": [
    {
     "data": {
      "text/plain": [
       "order_id                       0\n",
       "customer_id                    0\n",
       "order_number                   0\n",
       "orders_day_of_week             0\n",
       "order_hour_of_day              0\n",
       "days_since_prior_order    206209\n",
       "dtype: int64"
      ]
     },
     "execution_count": 69,
     "metadata": {},
     "output_type": "execute_result"
    }
   ],
   "source": [
    "df_ords.isnull().sum()"
   ]
  },
  {
   "cell_type": "code",
   "execution_count": 70,
   "id": "445f29b7-496c-4982-89b3-c6c64b96fbae",
   "metadata": {
    "execution": {
     "iopub.execute_input": "2023-04-24T13:15:17.585404Z",
     "iopub.status.busy": "2023-04-24T13:15:17.584401Z",
     "iopub.status.idle": "2023-04-24T13:15:17.590009Z",
     "shell.execute_reply": "2023-04-24T13:15:17.588824Z",
     "shell.execute_reply.started": "2023-04-24T13:15:17.585372Z"
    }
   },
   "outputs": [],
   "source": [
    "# The nulls in df_ords['days_since_prior_order'] , just for giggles.  There are too many to display."
   ]
  },
  {
   "cell_type": "code",
   "execution_count": 71,
   "id": "e981cde4-6f40-4391-82b2-f309b33d5dd6",
   "metadata": {
    "execution": {
     "iopub.execute_input": "2023-04-24T13:15:17.591759Z",
     "iopub.status.busy": "2023-04-24T13:15:17.591096Z",
     "iopub.status.idle": "2023-04-24T13:15:17.620913Z",
     "shell.execute_reply": "2023-04-24T13:15:17.620143Z",
     "shell.execute_reply.started": "2023-04-24T13:15:17.591736Z"
    },
    "tags": []
   },
   "outputs": [],
   "source": [
    "df_ords_nan=df_ords[df_ords['days_since_prior_order'].isnull()==True]"
   ]
  },
  {
   "cell_type": "code",
   "execution_count": 72,
   "id": "eade881f-fb6a-4ac3-8889-e92d411b8e7d",
   "metadata": {
    "execution": {
     "iopub.execute_input": "2023-04-24T13:15:17.622409Z",
     "iopub.status.busy": "2023-04-24T13:15:17.622089Z",
     "iopub.status.idle": "2023-04-24T13:15:17.634548Z",
     "shell.execute_reply": "2023-04-24T13:15:17.633841Z",
     "shell.execute_reply.started": "2023-04-24T13:15:17.622375Z"
    }
   },
   "outputs": [
    {
     "data": {
      "text/html": [
       "<div>\n",
       "<style scoped>\n",
       "    .dataframe tbody tr th:only-of-type {\n",
       "        vertical-align: middle;\n",
       "    }\n",
       "\n",
       "    .dataframe tbody tr th {\n",
       "        vertical-align: top;\n",
       "    }\n",
       "\n",
       "    .dataframe thead th {\n",
       "        text-align: right;\n",
       "    }\n",
       "</style>\n",
       "<table border=\"1\" class=\"dataframe\">\n",
       "  <thead>\n",
       "    <tr style=\"text-align: right;\">\n",
       "      <th></th>\n",
       "      <th>order_id</th>\n",
       "      <th>customer_id</th>\n",
       "      <th>order_number</th>\n",
       "      <th>orders_day_of_week</th>\n",
       "      <th>order_hour_of_day</th>\n",
       "      <th>days_since_prior_order</th>\n",
       "    </tr>\n",
       "  </thead>\n",
       "  <tbody>\n",
       "    <tr>\n",
       "      <th>0</th>\n",
       "      <td>2539329</td>\n",
       "      <td>1</td>\n",
       "      <td>1</td>\n",
       "      <td>2</td>\n",
       "      <td>8</td>\n",
       "      <td>NaN</td>\n",
       "    </tr>\n",
       "    <tr>\n",
       "      <th>11</th>\n",
       "      <td>2168274</td>\n",
       "      <td>2</td>\n",
       "      <td>1</td>\n",
       "      <td>2</td>\n",
       "      <td>11</td>\n",
       "      <td>NaN</td>\n",
       "    </tr>\n",
       "    <tr>\n",
       "      <th>26</th>\n",
       "      <td>1374495</td>\n",
       "      <td>3</td>\n",
       "      <td>1</td>\n",
       "      <td>1</td>\n",
       "      <td>14</td>\n",
       "      <td>NaN</td>\n",
       "    </tr>\n",
       "    <tr>\n",
       "      <th>39</th>\n",
       "      <td>3343014</td>\n",
       "      <td>4</td>\n",
       "      <td>1</td>\n",
       "      <td>6</td>\n",
       "      <td>11</td>\n",
       "      <td>NaN</td>\n",
       "    </tr>\n",
       "    <tr>\n",
       "      <th>45</th>\n",
       "      <td>2717275</td>\n",
       "      <td>5</td>\n",
       "      <td>1</td>\n",
       "      <td>3</td>\n",
       "      <td>12</td>\n",
       "      <td>NaN</td>\n",
       "    </tr>\n",
       "  </tbody>\n",
       "</table>\n",
       "</div>"
      ],
      "text/plain": [
       "    order_id  customer_id  order_number  orders_day_of_week  \\\n",
       "0    2539329            1             1                   2   \n",
       "11   2168274            2             1                   2   \n",
       "26   1374495            3             1                   1   \n",
       "39   3343014            4             1                   6   \n",
       "45   2717275            5             1                   3   \n",
       "\n",
       "    order_hour_of_day  days_since_prior_order  \n",
       "0                   8                     NaN  \n",
       "11                 11                     NaN  \n",
       "26                 14                     NaN  \n",
       "39                 11                     NaN  \n",
       "45                 12                     NaN  "
      ]
     },
     "execution_count": 72,
     "metadata": {},
     "output_type": "execute_result"
    }
   ],
   "source": [
    "df_ords_nan.head()"
   ]
  },
  {
   "cell_type": "code",
   "execution_count": 73,
   "id": "24fd5779-935e-4464-b4b6-a8d75fa06b39",
   "metadata": {
    "execution": {
     "iopub.execute_input": "2023-04-24T13:15:17.637310Z",
     "iopub.status.busy": "2023-04-24T13:15:17.636555Z",
     "iopub.status.idle": "2023-04-24T13:15:17.641769Z",
     "shell.execute_reply": "2023-04-24T13:15:17.640787Z",
     "shell.execute_reply.started": "2023-04-24T13:15:17.637205Z"
    }
   },
   "outputs": [],
   "source": [
    "# I suspect that missing values for the 'days_since_prior_order' will all correspond to a user's first order, i.e. 'order_number' will be '1'."
   ]
  },
  {
   "cell_type": "code",
   "execution_count": 74,
   "id": "3b92dbb5-2bee-4045-8ab6-a8e434171019",
   "metadata": {
    "execution": {
     "iopub.execute_input": "2023-04-24T13:15:17.643432Z",
     "iopub.status.busy": "2023-04-24T13:15:17.642793Z",
     "iopub.status.idle": "2023-04-24T13:15:17.695506Z",
     "shell.execute_reply": "2023-04-24T13:15:17.694666Z",
     "shell.execute_reply.started": "2023-04-24T13:15:17.643389Z"
    }
   },
   "outputs": [
    {
     "data": {
      "text/html": [
       "<div>\n",
       "<style scoped>\n",
       "    .dataframe tbody tr th:only-of-type {\n",
       "        vertical-align: middle;\n",
       "    }\n",
       "\n",
       "    .dataframe tbody tr th {\n",
       "        vertical-align: top;\n",
       "    }\n",
       "\n",
       "    .dataframe thead th {\n",
       "        text-align: right;\n",
       "    }\n",
       "</style>\n",
       "<table border=\"1\" class=\"dataframe\">\n",
       "  <thead>\n",
       "    <tr style=\"text-align: right;\">\n",
       "      <th></th>\n",
       "      <th>order_id</th>\n",
       "      <th>customer_id</th>\n",
       "      <th>order_number</th>\n",
       "      <th>orders_day_of_week</th>\n",
       "      <th>order_hour_of_day</th>\n",
       "      <th>days_since_prior_order</th>\n",
       "    </tr>\n",
       "  </thead>\n",
       "  <tbody>\n",
       "    <tr>\n",
       "      <th>count</th>\n",
       "      <td>2.062090e+05</td>\n",
       "      <td>206209.000000</td>\n",
       "      <td>206209.0</td>\n",
       "      <td>206209.000000</td>\n",
       "      <td>206209.000000</td>\n",
       "      <td>0.0</td>\n",
       "    </tr>\n",
       "    <tr>\n",
       "      <th>mean</th>\n",
       "      <td>1.708462e+06</td>\n",
       "      <td>103105.000000</td>\n",
       "      <td>1.0</td>\n",
       "      <td>2.754118</td>\n",
       "      <td>13.626597</td>\n",
       "      <td>NaN</td>\n",
       "    </tr>\n",
       "    <tr>\n",
       "      <th>std</th>\n",
       "      <td>9.881299e+05</td>\n",
       "      <td>59527.555167</td>\n",
       "      <td>0.0</td>\n",
       "      <td>2.076205</td>\n",
       "      <td>4.223769</td>\n",
       "      <td>NaN</td>\n",
       "    </tr>\n",
       "    <tr>\n",
       "      <th>min</th>\n",
       "      <td>2.000000e+01</td>\n",
       "      <td>1.000000</td>\n",
       "      <td>1.0</td>\n",
       "      <td>0.000000</td>\n",
       "      <td>0.000000</td>\n",
       "      <td>NaN</td>\n",
       "    </tr>\n",
       "    <tr>\n",
       "      <th>25%</th>\n",
       "      <td>8.507300e+05</td>\n",
       "      <td>51553.000000</td>\n",
       "      <td>1.0</td>\n",
       "      <td>1.000000</td>\n",
       "      <td>11.000000</td>\n",
       "      <td>NaN</td>\n",
       "    </tr>\n",
       "    <tr>\n",
       "      <th>50%</th>\n",
       "      <td>1.706246e+06</td>\n",
       "      <td>103105.000000</td>\n",
       "      <td>1.0</td>\n",
       "      <td>3.000000</td>\n",
       "      <td>14.000000</td>\n",
       "      <td>NaN</td>\n",
       "    </tr>\n",
       "    <tr>\n",
       "      <th>75%</th>\n",
       "      <td>2.564292e+06</td>\n",
       "      <td>154657.000000</td>\n",
       "      <td>1.0</td>\n",
       "      <td>5.000000</td>\n",
       "      <td>17.000000</td>\n",
       "      <td>NaN</td>\n",
       "    </tr>\n",
       "    <tr>\n",
       "      <th>max</th>\n",
       "      <td>3.421081e+06</td>\n",
       "      <td>206209.000000</td>\n",
       "      <td>1.0</td>\n",
       "      <td>6.000000</td>\n",
       "      <td>23.000000</td>\n",
       "      <td>NaN</td>\n",
       "    </tr>\n",
       "  </tbody>\n",
       "</table>\n",
       "</div>"
      ],
      "text/plain": [
       "           order_id    customer_id  order_number  orders_day_of_week  \\\n",
       "count  2.062090e+05  206209.000000      206209.0       206209.000000   \n",
       "mean   1.708462e+06  103105.000000           1.0            2.754118   \n",
       "std    9.881299e+05   59527.555167           0.0            2.076205   \n",
       "min    2.000000e+01       1.000000           1.0            0.000000   \n",
       "25%    8.507300e+05   51553.000000           1.0            1.000000   \n",
       "50%    1.706246e+06  103105.000000           1.0            3.000000   \n",
       "75%    2.564292e+06  154657.000000           1.0            5.000000   \n",
       "max    3.421081e+06  206209.000000           1.0            6.000000   \n",
       "\n",
       "       order_hour_of_day  days_since_prior_order  \n",
       "count      206209.000000                     0.0  \n",
       "mean           13.626597                     NaN  \n",
       "std             4.223769                     NaN  \n",
       "min             0.000000                     NaN  \n",
       "25%            11.000000                     NaN  \n",
       "50%            14.000000                     NaN  \n",
       "75%            17.000000                     NaN  \n",
       "max            23.000000                     NaN  "
      ]
     },
     "execution_count": 74,
     "metadata": {},
     "output_type": "execute_result"
    }
   ],
   "source": [
    "df_ords_nan.describe()"
   ]
  },
  {
   "cell_type": "markdown",
   "id": "3d4b66e3-76b6-4864-893c-1889d9637287",
   "metadata": {},
   "source": [
    "## Step 6:  Address the missing values using an appropriate method.\n",
    "\n",
    "    In a markdown cell, explain why you used your method of choice.\n"
   ]
  },
  {
   "cell_type": "markdown",
   "id": "2aa691f0-200d-4712-a010-31a6e48e1e30",
   "metadata": {},
   "source": [
    "### The output of 'df_ords_nan.describe()' confirms that only rows where order_number = 1 are affected, meaning there is no prior order for comparison.  The most appropriate solution is to replace the missing values in the 'days_since_prior_order' column with zeros."
   ]
  },
  {
   "cell_type": "code",
   "execution_count": 75,
   "id": "f65de2d7-84e0-4068-ba64-372a3b691379",
   "metadata": {
    "execution": {
     "iopub.execute_input": "2023-04-24T13:15:17.697556Z",
     "iopub.status.busy": "2023-04-24T13:15:17.696802Z",
     "iopub.status.idle": "2023-04-24T13:15:17.700875Z",
     "shell.execute_reply": "2023-04-24T13:15:17.699996Z",
     "shell.execute_reply.started": "2023-04-24T13:15:17.697526Z"
    }
   },
   "outputs": [],
   "source": [
    "# Replace NaNs with 0s in the 'days_since_prior_order' column of df_ords.  Let's create a new DF for this."
   ]
  },
  {
   "cell_type": "code",
   "execution_count": 76,
   "id": "714da648-2ae6-4262-8df3-86e2489c7d42",
   "metadata": {
    "execution": {
     "iopub.execute_input": "2023-04-24T13:15:17.702430Z",
     "iopub.status.busy": "2023-04-24T13:15:17.702074Z",
     "iopub.status.idle": "2023-04-24T13:15:17.719203Z",
     "shell.execute_reply": "2023-04-24T13:15:17.718628Z",
     "shell.execute_reply.started": "2023-04-24T13:15:17.702395Z"
    }
   },
   "outputs": [],
   "source": [
    "df_ords_no_nulls=df_ords['days_since_prior_order'].fillna(0,inplace=False)"
   ]
  },
  {
   "cell_type": "code",
   "execution_count": 77,
   "id": "6900a511-b245-46f8-8654-5694c1abe88c",
   "metadata": {
    "execution": {
     "iopub.execute_input": "2023-04-24T13:15:17.720445Z",
     "iopub.status.busy": "2023-04-24T13:15:17.720149Z",
     "iopub.status.idle": "2023-04-24T13:15:17.723795Z",
     "shell.execute_reply": "2023-04-24T13:15:17.723234Z",
     "shell.execute_reply.started": "2023-04-24T13:15:17.720423Z"
    }
   },
   "outputs": [],
   "source": [
    "# Checking the results:df_ords_no_nulls"
   ]
  },
  {
   "cell_type": "code",
   "execution_count": 78,
   "id": "e15b8c2e-20a5-49dc-8768-c1f90a92b560",
   "metadata": {
    "execution": {
     "iopub.execute_input": "2023-04-24T13:15:17.724973Z",
     "iopub.status.busy": "2023-04-24T13:15:17.724596Z",
     "iopub.status.idle": "2023-04-24T13:15:17.732451Z",
     "shell.execute_reply": "2023-04-24T13:15:17.731049Z",
     "shell.execute_reply.started": "2023-04-24T13:15:17.724950Z"
    }
   },
   "outputs": [
    {
     "data": {
      "text/plain": [
       "0     0.0\n",
       "1    15.0\n",
       "2    21.0\n",
       "3    29.0\n",
       "4    28.0\n",
       "Name: days_since_prior_order, dtype: float64"
      ]
     },
     "execution_count": 78,
     "metadata": {},
     "output_type": "execute_result"
    }
   ],
   "source": [
    "df_ords_no_nulls.head()"
   ]
  },
  {
   "cell_type": "code",
   "execution_count": 79,
   "id": "9d57544f-e178-478c-b2d7-0833e7783672",
   "metadata": {
    "execution": {
     "iopub.execute_input": "2023-04-24T13:15:17.733812Z",
     "iopub.status.busy": "2023-04-24T13:15:17.733567Z",
     "iopub.status.idle": "2023-04-24T13:15:17.738382Z",
     "shell.execute_reply": "2023-04-24T13:15:17.737414Z",
     "shell.execute_reply.started": "2023-04-24T13:15:17.733781Z"
    }
   },
   "outputs": [],
   "source": [
    "# AHHH!  Good to know:  That 'df_ords['days_since_prior_order'].fillna(0,inplace=False)' only returns the modified column,\n",
    "# NOT the entire modified DataFrame.  I guess we'll have to use two operations rather than just one.  Kind of inefficient. :-("
   ]
  },
  {
   "cell_type": "code",
   "execution_count": 80,
   "id": "1dd89dec-7c50-4aa2-b6e3-c2c17b55494f",
   "metadata": {
    "execution": {
     "iopub.execute_input": "2023-04-24T13:15:17.741344Z",
     "iopub.status.busy": "2023-04-24T13:15:17.740308Z",
     "iopub.status.idle": "2023-04-24T13:15:17.744540Z",
     "shell.execute_reply": "2023-04-24T13:15:17.743982Z",
     "shell.execute_reply.started": "2023-04-24T13:15:17.741254Z"
    }
   },
   "outputs": [],
   "source": [
    "df_ords_no_nulls=df_ords # Create the new DF as a straight copy of the original."
   ]
  },
  {
   "cell_type": "code",
   "execution_count": 81,
   "id": "7b8ce1ba-9b83-402f-86bd-679520e1fe26",
   "metadata": {
    "execution": {
     "iopub.execute_input": "2023-04-24T13:15:17.745845Z",
     "iopub.status.busy": "2023-04-24T13:15:17.745425Z",
     "iopub.status.idle": "2023-04-24T13:15:17.758208Z",
     "shell.execute_reply": "2023-04-24T13:15:17.757078Z",
     "shell.execute_reply.started": "2023-04-24T13:15:17.745820Z"
    }
   },
   "outputs": [
    {
     "data": {
      "text/html": [
       "<div>\n",
       "<style scoped>\n",
       "    .dataframe tbody tr th:only-of-type {\n",
       "        vertical-align: middle;\n",
       "    }\n",
       "\n",
       "    .dataframe tbody tr th {\n",
       "        vertical-align: top;\n",
       "    }\n",
       "\n",
       "    .dataframe thead th {\n",
       "        text-align: right;\n",
       "    }\n",
       "</style>\n",
       "<table border=\"1\" class=\"dataframe\">\n",
       "  <thead>\n",
       "    <tr style=\"text-align: right;\">\n",
       "      <th></th>\n",
       "      <th>order_id</th>\n",
       "      <th>customer_id</th>\n",
       "      <th>order_number</th>\n",
       "      <th>orders_day_of_week</th>\n",
       "      <th>order_hour_of_day</th>\n",
       "      <th>days_since_prior_order</th>\n",
       "    </tr>\n",
       "  </thead>\n",
       "  <tbody>\n",
       "    <tr>\n",
       "      <th>0</th>\n",
       "      <td>2539329</td>\n",
       "      <td>1</td>\n",
       "      <td>1</td>\n",
       "      <td>2</td>\n",
       "      <td>8</td>\n",
       "      <td>NaN</td>\n",
       "    </tr>\n",
       "    <tr>\n",
       "      <th>1</th>\n",
       "      <td>2398795</td>\n",
       "      <td>1</td>\n",
       "      <td>2</td>\n",
       "      <td>3</td>\n",
       "      <td>7</td>\n",
       "      <td>15.0</td>\n",
       "    </tr>\n",
       "    <tr>\n",
       "      <th>2</th>\n",
       "      <td>473747</td>\n",
       "      <td>1</td>\n",
       "      <td>3</td>\n",
       "      <td>3</td>\n",
       "      <td>12</td>\n",
       "      <td>21.0</td>\n",
       "    </tr>\n",
       "    <tr>\n",
       "      <th>3</th>\n",
       "      <td>2254736</td>\n",
       "      <td>1</td>\n",
       "      <td>4</td>\n",
       "      <td>4</td>\n",
       "      <td>7</td>\n",
       "      <td>29.0</td>\n",
       "    </tr>\n",
       "    <tr>\n",
       "      <th>4</th>\n",
       "      <td>431534</td>\n",
       "      <td>1</td>\n",
       "      <td>5</td>\n",
       "      <td>4</td>\n",
       "      <td>15</td>\n",
       "      <td>28.0</td>\n",
       "    </tr>\n",
       "  </tbody>\n",
       "</table>\n",
       "</div>"
      ],
      "text/plain": [
       "   order_id  customer_id  order_number  orders_day_of_week  order_hour_of_day  \\\n",
       "0   2539329            1             1                   2                  8   \n",
       "1   2398795            1             2                   3                  7   \n",
       "2    473747            1             3                   3                 12   \n",
       "3   2254736            1             4                   4                  7   \n",
       "4    431534            1             5                   4                 15   \n",
       "\n",
       "   days_since_prior_order  \n",
       "0                     NaN  \n",
       "1                    15.0  \n",
       "2                    21.0  \n",
       "3                    29.0  \n",
       "4                    28.0  "
      ]
     },
     "execution_count": 81,
     "metadata": {},
     "output_type": "execute_result"
    }
   ],
   "source": [
    "df_ords_no_nulls.head()"
   ]
  },
  {
   "cell_type": "code",
   "execution_count": 82,
   "id": "4b3f9c0d-5c47-40d9-876d-86b931e19fc1",
   "metadata": {
    "execution": {
     "iopub.execute_input": "2023-04-24T13:15:17.760494Z",
     "iopub.status.busy": "2023-04-24T13:15:17.759526Z",
     "iopub.status.idle": "2023-04-24T13:15:17.764417Z",
     "shell.execute_reply": "2023-04-24T13:15:17.763571Z",
     "shell.execute_reply.started": "2023-04-24T13:15:17.760451Z"
    }
   },
   "outputs": [],
   "source": [
    "# df_ords_no_nulls=df_ords_no_nulls['days_since_prior_order'].fillna(0, inplace=True)  # Modify the copied DF in place."
   ]
  },
  {
   "cell_type": "code",
   "execution_count": 83,
   "id": "9da7d634-b5fc-43ae-97c4-6e792b64541e",
   "metadata": {
    "execution": {
     "iopub.execute_input": "2023-04-24T13:15:17.766623Z",
     "iopub.status.busy": "2023-04-24T13:15:17.765767Z",
     "iopub.status.idle": "2023-04-24T13:15:17.777628Z",
     "shell.execute_reply": "2023-04-24T13:15:17.777045Z",
     "shell.execute_reply.started": "2023-04-24T13:15:17.766580Z"
    }
   },
   "outputs": [],
   "source": [
    "df_ords_no_nulls['days_since_prior_order'].fillna(0, inplace=True)  # Modify the copied DF in place."
   ]
  },
  {
   "cell_type": "code",
   "execution_count": 84,
   "id": "85aed1fe-e1e0-42af-a3a4-6d70eeb8d03e",
   "metadata": {
    "execution": {
     "iopub.execute_input": "2023-04-24T13:15:17.779400Z",
     "iopub.status.busy": "2023-04-24T13:15:17.778983Z",
     "iopub.status.idle": "2023-04-24T13:15:17.783317Z",
     "shell.execute_reply": "2023-04-24T13:15:17.782254Z",
     "shell.execute_reply.started": "2023-04-24T13:15:17.779366Z"
    }
   },
   "outputs": [],
   "source": [
    "# Check our results again."
   ]
  },
  {
   "cell_type": "code",
   "execution_count": 85,
   "id": "e563f90e-0820-41ba-b31f-6ae10d6c6fe8",
   "metadata": {
    "execution": {
     "iopub.execute_input": "2023-04-24T13:15:17.785194Z",
     "iopub.status.busy": "2023-04-24T13:15:17.784501Z",
     "iopub.status.idle": "2023-04-24T13:15:17.796749Z",
     "shell.execute_reply": "2023-04-24T13:15:17.795972Z",
     "shell.execute_reply.started": "2023-04-24T13:15:17.785150Z"
    }
   },
   "outputs": [
    {
     "data": {
      "text/html": [
       "<div>\n",
       "<style scoped>\n",
       "    .dataframe tbody tr th:only-of-type {\n",
       "        vertical-align: middle;\n",
       "    }\n",
       "\n",
       "    .dataframe tbody tr th {\n",
       "        vertical-align: top;\n",
       "    }\n",
       "\n",
       "    .dataframe thead th {\n",
       "        text-align: right;\n",
       "    }\n",
       "</style>\n",
       "<table border=\"1\" class=\"dataframe\">\n",
       "  <thead>\n",
       "    <tr style=\"text-align: right;\">\n",
       "      <th></th>\n",
       "      <th>order_id</th>\n",
       "      <th>customer_id</th>\n",
       "      <th>order_number</th>\n",
       "      <th>orders_day_of_week</th>\n",
       "      <th>order_hour_of_day</th>\n",
       "      <th>days_since_prior_order</th>\n",
       "    </tr>\n",
       "  </thead>\n",
       "  <tbody>\n",
       "    <tr>\n",
       "      <th>0</th>\n",
       "      <td>2539329</td>\n",
       "      <td>1</td>\n",
       "      <td>1</td>\n",
       "      <td>2</td>\n",
       "      <td>8</td>\n",
       "      <td>0.0</td>\n",
       "    </tr>\n",
       "    <tr>\n",
       "      <th>1</th>\n",
       "      <td>2398795</td>\n",
       "      <td>1</td>\n",
       "      <td>2</td>\n",
       "      <td>3</td>\n",
       "      <td>7</td>\n",
       "      <td>15.0</td>\n",
       "    </tr>\n",
       "    <tr>\n",
       "      <th>2</th>\n",
       "      <td>473747</td>\n",
       "      <td>1</td>\n",
       "      <td>3</td>\n",
       "      <td>3</td>\n",
       "      <td>12</td>\n",
       "      <td>21.0</td>\n",
       "    </tr>\n",
       "    <tr>\n",
       "      <th>3</th>\n",
       "      <td>2254736</td>\n",
       "      <td>1</td>\n",
       "      <td>4</td>\n",
       "      <td>4</td>\n",
       "      <td>7</td>\n",
       "      <td>29.0</td>\n",
       "    </tr>\n",
       "    <tr>\n",
       "      <th>4</th>\n",
       "      <td>431534</td>\n",
       "      <td>1</td>\n",
       "      <td>5</td>\n",
       "      <td>4</td>\n",
       "      <td>15</td>\n",
       "      <td>28.0</td>\n",
       "    </tr>\n",
       "  </tbody>\n",
       "</table>\n",
       "</div>"
      ],
      "text/plain": [
       "   order_id  customer_id  order_number  orders_day_of_week  order_hour_of_day  \\\n",
       "0   2539329            1             1                   2                  8   \n",
       "1   2398795            1             2                   3                  7   \n",
       "2    473747            1             3                   3                 12   \n",
       "3   2254736            1             4                   4                  7   \n",
       "4    431534            1             5                   4                 15   \n",
       "\n",
       "   days_since_prior_order  \n",
       "0                     0.0  \n",
       "1                    15.0  \n",
       "2                    21.0  \n",
       "3                    29.0  \n",
       "4                    28.0  "
      ]
     },
     "execution_count": 85,
     "metadata": {},
     "output_type": "execute_result"
    }
   ],
   "source": [
    "df_ords_no_nulls.head()"
   ]
  },
  {
   "cell_type": "code",
   "execution_count": 86,
   "id": "f7ea9428-bde3-42d4-8ac7-3cff2333052b",
   "metadata": {
    "execution": {
     "iopub.execute_input": "2023-04-24T13:15:17.798730Z",
     "iopub.status.busy": "2023-04-24T13:15:17.798207Z",
     "iopub.status.idle": "2023-04-24T13:15:18.353063Z",
     "shell.execute_reply": "2023-04-24T13:15:18.352217Z",
     "shell.execute_reply.started": "2023-04-24T13:15:17.798689Z"
    }
   },
   "outputs": [
    {
     "data": {
      "text/html": [
       "<div>\n",
       "<style scoped>\n",
       "    .dataframe tbody tr th:only-of-type {\n",
       "        vertical-align: middle;\n",
       "    }\n",
       "\n",
       "    .dataframe tbody tr th {\n",
       "        vertical-align: top;\n",
       "    }\n",
       "\n",
       "    .dataframe thead th {\n",
       "        text-align: right;\n",
       "    }\n",
       "</style>\n",
       "<table border=\"1\" class=\"dataframe\">\n",
       "  <thead>\n",
       "    <tr style=\"text-align: right;\">\n",
       "      <th></th>\n",
       "      <th>order_id</th>\n",
       "      <th>customer_id</th>\n",
       "      <th>order_number</th>\n",
       "      <th>orders_day_of_week</th>\n",
       "      <th>order_hour_of_day</th>\n",
       "      <th>days_since_prior_order</th>\n",
       "    </tr>\n",
       "  </thead>\n",
       "  <tbody>\n",
       "    <tr>\n",
       "      <th>count</th>\n",
       "      <td>3.421083e+06</td>\n",
       "      <td>3.421083e+06</td>\n",
       "      <td>3.421083e+06</td>\n",
       "      <td>3.421083e+06</td>\n",
       "      <td>3.421083e+06</td>\n",
       "      <td>3.421083e+06</td>\n",
       "    </tr>\n",
       "    <tr>\n",
       "      <th>mean</th>\n",
       "      <td>1.710542e+06</td>\n",
       "      <td>1.029782e+05</td>\n",
       "      <td>1.715486e+01</td>\n",
       "      <td>2.776219e+00</td>\n",
       "      <td>1.345202e+01</td>\n",
       "      <td>1.044488e+01</td>\n",
       "    </tr>\n",
       "    <tr>\n",
       "      <th>std</th>\n",
       "      <td>9.875817e+05</td>\n",
       "      <td>5.953372e+04</td>\n",
       "      <td>1.773316e+01</td>\n",
       "      <td>2.046829e+00</td>\n",
       "      <td>4.226088e+00</td>\n",
       "      <td>9.308727e+00</td>\n",
       "    </tr>\n",
       "    <tr>\n",
       "      <th>min</th>\n",
       "      <td>1.000000e+00</td>\n",
       "      <td>1.000000e+00</td>\n",
       "      <td>1.000000e+00</td>\n",
       "      <td>0.000000e+00</td>\n",
       "      <td>0.000000e+00</td>\n",
       "      <td>0.000000e+00</td>\n",
       "    </tr>\n",
       "    <tr>\n",
       "      <th>25%</th>\n",
       "      <td>8.552715e+05</td>\n",
       "      <td>5.139400e+04</td>\n",
       "      <td>5.000000e+00</td>\n",
       "      <td>1.000000e+00</td>\n",
       "      <td>1.000000e+01</td>\n",
       "      <td>4.000000e+00</td>\n",
       "    </tr>\n",
       "    <tr>\n",
       "      <th>50%</th>\n",
       "      <td>1.710542e+06</td>\n",
       "      <td>1.026890e+05</td>\n",
       "      <td>1.100000e+01</td>\n",
       "      <td>3.000000e+00</td>\n",
       "      <td>1.300000e+01</td>\n",
       "      <td>7.000000e+00</td>\n",
       "    </tr>\n",
       "    <tr>\n",
       "      <th>75%</th>\n",
       "      <td>2.565812e+06</td>\n",
       "      <td>1.543850e+05</td>\n",
       "      <td>2.300000e+01</td>\n",
       "      <td>5.000000e+00</td>\n",
       "      <td>1.600000e+01</td>\n",
       "      <td>1.500000e+01</td>\n",
       "    </tr>\n",
       "    <tr>\n",
       "      <th>max</th>\n",
       "      <td>3.421083e+06</td>\n",
       "      <td>2.062090e+05</td>\n",
       "      <td>1.000000e+02</td>\n",
       "      <td>6.000000e+00</td>\n",
       "      <td>2.300000e+01</td>\n",
       "      <td>3.000000e+01</td>\n",
       "    </tr>\n",
       "  </tbody>\n",
       "</table>\n",
       "</div>"
      ],
      "text/plain": [
       "           order_id   customer_id  order_number  orders_day_of_week  \\\n",
       "count  3.421083e+06  3.421083e+06  3.421083e+06        3.421083e+06   \n",
       "mean   1.710542e+06  1.029782e+05  1.715486e+01        2.776219e+00   \n",
       "std    9.875817e+05  5.953372e+04  1.773316e+01        2.046829e+00   \n",
       "min    1.000000e+00  1.000000e+00  1.000000e+00        0.000000e+00   \n",
       "25%    8.552715e+05  5.139400e+04  5.000000e+00        1.000000e+00   \n",
       "50%    1.710542e+06  1.026890e+05  1.100000e+01        3.000000e+00   \n",
       "75%    2.565812e+06  1.543850e+05  2.300000e+01        5.000000e+00   \n",
       "max    3.421083e+06  2.062090e+05  1.000000e+02        6.000000e+00   \n",
       "\n",
       "       order_hour_of_day  days_since_prior_order  \n",
       "count       3.421083e+06            3.421083e+06  \n",
       "mean        1.345202e+01            1.044488e+01  \n",
       "std         4.226088e+00            9.308727e+00  \n",
       "min         0.000000e+00            0.000000e+00  \n",
       "25%         1.000000e+01            4.000000e+00  \n",
       "50%         1.300000e+01            7.000000e+00  \n",
       "75%         1.600000e+01            1.500000e+01  \n",
       "max         2.300000e+01            3.000000e+01  "
      ]
     },
     "execution_count": 86,
     "metadata": {},
     "output_type": "execute_result"
    }
   ],
   "source": [
    "df_ords_no_nulls.describe()"
   ]
  },
  {
   "cell_type": "code",
   "execution_count": 87,
   "id": "2160bb53-ef8e-4358-b1c3-b641dac520ea",
   "metadata": {
    "execution": {
     "iopub.execute_input": "2023-04-24T13:15:18.354401Z",
     "iopub.status.busy": "2023-04-24T13:15:18.354131Z",
     "iopub.status.idle": "2023-04-24T13:15:18.385103Z",
     "shell.execute_reply": "2023-04-24T13:15:18.384605Z",
     "shell.execute_reply.started": "2023-04-24T13:15:18.354376Z"
    }
   },
   "outputs": [
    {
     "data": {
      "text/plain": [
       "order_id                  0\n",
       "customer_id               0\n",
       "order_number              0\n",
       "orders_day_of_week        0\n",
       "order_hour_of_day         0\n",
       "days_since_prior_order    0\n",
       "dtype: int64"
      ]
     },
     "execution_count": 87,
     "metadata": {},
     "output_type": "execute_result"
    }
   ],
   "source": [
    "df_ords_no_nulls.isnull().sum()"
   ]
  },
  {
   "cell_type": "markdown",
   "id": "a144293a-8644-4319-bc2a-50de25e51947",
   "metadata": {},
   "source": [
    "## Step 7:  Run a check for duplicate values in your df_ords data.\n",
    "\n",
    "    In a markdown cell, report your findings and propose an explanation for any duplicate values you find.\n"
   ]
  },
  {
   "cell_type": "markdown",
   "id": "a50de772-8990-4fbf-89f5-4a3d3d395ef7",
   "metadata": {},
   "source": [
    "### No duplicates found (see below).  Skipping Step 8, accordingly."
   ]
  },
  {
   "cell_type": "code",
   "execution_count": 88,
   "id": "636fb77d-b0a2-4c0b-9185-32f9a5b09660",
   "metadata": {
    "execution": {
     "iopub.execute_input": "2023-04-24T13:15:18.386395Z",
     "iopub.status.busy": "2023-04-24T13:15:18.386177Z",
     "iopub.status.idle": "2023-04-24T13:15:19.553869Z",
     "shell.execute_reply": "2023-04-24T13:15:19.552868Z",
     "shell.execute_reply.started": "2023-04-24T13:15:18.386371Z"
    }
   },
   "outputs": [],
   "source": [
    "df_ords_no_nulls_any_dups = df_ords_no_nulls[df_ords_no_nulls.duplicated()]"
   ]
  },
  {
   "cell_type": "code",
   "execution_count": 89,
   "id": "7f054dba-491c-48a4-9c74-7b0766c5d90a",
   "metadata": {
    "execution": {
     "iopub.execute_input": "2023-04-24T13:15:19.555106Z",
     "iopub.status.busy": "2023-04-24T13:15:19.554839Z",
     "iopub.status.idle": "2023-04-24T13:15:19.561396Z",
     "shell.execute_reply": "2023-04-24T13:15:19.560451Z",
     "shell.execute_reply.started": "2023-04-24T13:15:19.555081Z"
    }
   },
   "outputs": [
    {
     "data": {
      "text/plain": [
       "(0, 6)"
      ]
     },
     "execution_count": 89,
     "metadata": {},
     "output_type": "execute_result"
    }
   ],
   "source": [
    "df_ords_no_nulls_any_dups.shape"
   ]
  },
  {
   "cell_type": "code",
   "execution_count": 90,
   "id": "df2d08e9-6ff1-4549-a179-7413178ccad7",
   "metadata": {
    "execution": {
     "iopub.execute_input": "2023-04-24T13:15:19.564102Z",
     "iopub.status.busy": "2023-04-24T13:15:19.563495Z",
     "iopub.status.idle": "2023-04-24T13:15:19.575370Z",
     "shell.execute_reply": "2023-04-24T13:15:19.574179Z",
     "shell.execute_reply.started": "2023-04-24T13:15:19.564061Z"
    }
   },
   "outputs": [
    {
     "data": {
      "text/html": [
       "<div>\n",
       "<style scoped>\n",
       "    .dataframe tbody tr th:only-of-type {\n",
       "        vertical-align: middle;\n",
       "    }\n",
       "\n",
       "    .dataframe tbody tr th {\n",
       "        vertical-align: top;\n",
       "    }\n",
       "\n",
       "    .dataframe thead th {\n",
       "        text-align: right;\n",
       "    }\n",
       "</style>\n",
       "<table border=\"1\" class=\"dataframe\">\n",
       "  <thead>\n",
       "    <tr style=\"text-align: right;\">\n",
       "      <th></th>\n",
       "      <th>order_id</th>\n",
       "      <th>customer_id</th>\n",
       "      <th>order_number</th>\n",
       "      <th>orders_day_of_week</th>\n",
       "      <th>order_hour_of_day</th>\n",
       "      <th>days_since_prior_order</th>\n",
       "    </tr>\n",
       "  </thead>\n",
       "  <tbody>\n",
       "  </tbody>\n",
       "</table>\n",
       "</div>"
      ],
      "text/plain": [
       "Empty DataFrame\n",
       "Columns: [order_id, customer_id, order_number, orders_day_of_week, order_hour_of_day, days_since_prior_order]\n",
       "Index: []"
      ]
     },
     "execution_count": 90,
     "metadata": {},
     "output_type": "execute_result"
    }
   ],
   "source": [
    "df_ords_no_nulls_any_dups"
   ]
  },
  {
   "cell_type": "markdown",
   "id": "a864b329-f7fd-458b-b6f3-8ab6722d3b01",
   "metadata": {},
   "source": [
    "## Step 9:  Export your final, cleaned df_prods and df_ords data as “.csv” files in your “Prepared Data” folder and give them appropriate, succinct names."
   ]
  },
  {
   "cell_type": "code",
   "execution_count": 91,
   "id": "93f90ffa-3bbd-4bfd-bde8-a1fb1f3dd634",
   "metadata": {
    "execution": {
     "iopub.execute_input": "2023-04-24T13:15:19.577533Z",
     "iopub.status.busy": "2023-04-24T13:15:19.577021Z",
     "iopub.status.idle": "2023-04-24T13:15:19.581206Z",
     "shell.execute_reply": "2023-04-24T13:15:19.580306Z",
     "shell.execute_reply.started": "2023-04-24T13:15:19.577508Z"
    }
   },
   "outputs": [],
   "source": [
    "# I already saved the new \"checked\" products DataFrame to a .CSV file during the Exercise, above:\n",
    "# df_prods_checked.to_csv(os.path.join(path, '02-Data','Prepared-Data', 'products_checked.csv'))"
   ]
  },
  {
   "cell_type": "code",
   "execution_count": 92,
   "id": "6719a9f4-a718-41cc-b282-db99a6b33e10",
   "metadata": {
    "execution": {
     "iopub.execute_input": "2023-04-24T13:15:19.582506Z",
     "iopub.status.busy": "2023-04-24T13:15:19.582312Z",
     "iopub.status.idle": "2023-04-24T13:15:19.587553Z",
     "shell.execute_reply": "2023-04-24T13:15:19.586443Z",
     "shell.execute_reply.started": "2023-04-24T13:15:19.582483Z"
    }
   },
   "outputs": [],
   "source": [
    "# Copy the cleaned orders DataFrame to a new one with \"checked\" in the name (for consistency)."
   ]
  },
  {
   "cell_type": "code",
   "execution_count": 93,
   "id": "8c6f3bbf-8fa1-4a5f-993f-fad07549e28a",
   "metadata": {
    "execution": {
     "iopub.execute_input": "2023-04-24T13:15:19.588843Z",
     "iopub.status.busy": "2023-04-24T13:15:19.588593Z",
     "iopub.status.idle": "2023-04-24T13:15:19.593813Z",
     "shell.execute_reply": "2023-04-24T13:15:19.592819Z",
     "shell.execute_reply.started": "2023-04-24T13:15:19.588816Z"
    }
   },
   "outputs": [],
   "source": [
    "df_ords_checked=df_ords_no_nulls"
   ]
  },
  {
   "cell_type": "code",
   "execution_count": 94,
   "id": "ed2bafad-a5b6-4a64-958f-6d1a1282e50b",
   "metadata": {
    "execution": {
     "iopub.execute_input": "2023-04-24T13:15:19.596001Z",
     "iopub.status.busy": "2023-04-24T13:15:19.595074Z",
     "iopub.status.idle": "2023-04-24T13:15:19.609092Z",
     "shell.execute_reply": "2023-04-24T13:15:19.608392Z",
     "shell.execute_reply.started": "2023-04-24T13:15:19.595953Z"
    }
   },
   "outputs": [
    {
     "data": {
      "text/html": [
       "<div>\n",
       "<style scoped>\n",
       "    .dataframe tbody tr th:only-of-type {\n",
       "        vertical-align: middle;\n",
       "    }\n",
       "\n",
       "    .dataframe tbody tr th {\n",
       "        vertical-align: top;\n",
       "    }\n",
       "\n",
       "    .dataframe thead th {\n",
       "        text-align: right;\n",
       "    }\n",
       "</style>\n",
       "<table border=\"1\" class=\"dataframe\">\n",
       "  <thead>\n",
       "    <tr style=\"text-align: right;\">\n",
       "      <th></th>\n",
       "      <th>order_id</th>\n",
       "      <th>customer_id</th>\n",
       "      <th>order_number</th>\n",
       "      <th>orders_day_of_week</th>\n",
       "      <th>order_hour_of_day</th>\n",
       "      <th>days_since_prior_order</th>\n",
       "    </tr>\n",
       "  </thead>\n",
       "  <tbody>\n",
       "    <tr>\n",
       "      <th>0</th>\n",
       "      <td>2539329</td>\n",
       "      <td>1</td>\n",
       "      <td>1</td>\n",
       "      <td>2</td>\n",
       "      <td>8</td>\n",
       "      <td>0.0</td>\n",
       "    </tr>\n",
       "    <tr>\n",
       "      <th>1</th>\n",
       "      <td>2398795</td>\n",
       "      <td>1</td>\n",
       "      <td>2</td>\n",
       "      <td>3</td>\n",
       "      <td>7</td>\n",
       "      <td>15.0</td>\n",
       "    </tr>\n",
       "    <tr>\n",
       "      <th>2</th>\n",
       "      <td>473747</td>\n",
       "      <td>1</td>\n",
       "      <td>3</td>\n",
       "      <td>3</td>\n",
       "      <td>12</td>\n",
       "      <td>21.0</td>\n",
       "    </tr>\n",
       "    <tr>\n",
       "      <th>3</th>\n",
       "      <td>2254736</td>\n",
       "      <td>1</td>\n",
       "      <td>4</td>\n",
       "      <td>4</td>\n",
       "      <td>7</td>\n",
       "      <td>29.0</td>\n",
       "    </tr>\n",
       "    <tr>\n",
       "      <th>4</th>\n",
       "      <td>431534</td>\n",
       "      <td>1</td>\n",
       "      <td>5</td>\n",
       "      <td>4</td>\n",
       "      <td>15</td>\n",
       "      <td>28.0</td>\n",
       "    </tr>\n",
       "  </tbody>\n",
       "</table>\n",
       "</div>"
      ],
      "text/plain": [
       "   order_id  customer_id  order_number  orders_day_of_week  order_hour_of_day  \\\n",
       "0   2539329            1             1                   2                  8   \n",
       "1   2398795            1             2                   3                  7   \n",
       "2    473747            1             3                   3                 12   \n",
       "3   2254736            1             4                   4                  7   \n",
       "4    431534            1             5                   4                 15   \n",
       "\n",
       "   days_since_prior_order  \n",
       "0                     0.0  \n",
       "1                    15.0  \n",
       "2                    21.0  \n",
       "3                    29.0  \n",
       "4                    28.0  "
      ]
     },
     "execution_count": 94,
     "metadata": {},
     "output_type": "execute_result"
    }
   ],
   "source": [
    "df_ords_checked.head()"
   ]
  },
  {
   "cell_type": "code",
   "execution_count": 95,
   "id": "33bec045-ea7c-44c6-9845-a030ea2ecf23",
   "metadata": {
    "execution": {
     "iopub.execute_input": "2023-04-24T13:15:19.610571Z",
     "iopub.status.busy": "2023-04-24T13:15:19.610317Z",
     "iopub.status.idle": "2023-04-24T13:15:19.618216Z",
     "shell.execute_reply": "2023-04-24T13:15:19.617237Z",
     "shell.execute_reply.started": "2023-04-24T13:15:19.610546Z"
    }
   },
   "outputs": [],
   "source": [
    "# Save the new \"checked\" orders DataFrame to a .CSV file."
   ]
  },
  {
   "cell_type": "code",
   "execution_count": 96,
   "id": "a31ec4e0-fe32-471a-8b74-b3b68bb2de08",
   "metadata": {
    "execution": {
     "iopub.execute_input": "2023-04-24T13:15:19.619797Z",
     "iopub.status.busy": "2023-04-24T13:15:19.619575Z",
     "iopub.status.idle": "2023-04-24T13:15:31.313846Z",
     "shell.execute_reply": "2023-04-24T13:15:31.313187Z",
     "shell.execute_reply.started": "2023-04-24T13:15:19.619774Z"
    },
    "tags": []
   },
   "outputs": [],
   "source": [
    "df_ords_checked.to_csv(os.path.join(path, '02-Data','Prepared-Data', 'orders_checked.csv'))"
   ]
  }
 ],
 "metadata": {
  "kernelspec": {
   "display_name": "Python 3 (ipykernel)",
   "language": "python",
   "name": "python3"
  },
  "language_info": {
   "codemirror_mode": {
    "name": "ipython",
    "version": 3
   },
   "file_extension": ".py",
   "mimetype": "text/x-python",
   "name": "python",
   "nbconvert_exporter": "python",
   "pygments_lexer": "ipython3",
   "version": "3.9.12"
  }
 },
 "nbformat": 4,
 "nbformat_minor": 5
}
