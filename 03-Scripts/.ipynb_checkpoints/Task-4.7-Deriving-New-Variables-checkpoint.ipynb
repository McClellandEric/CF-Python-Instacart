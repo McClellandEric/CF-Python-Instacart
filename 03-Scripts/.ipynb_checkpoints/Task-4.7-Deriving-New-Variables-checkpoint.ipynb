{
 "cells": [
  {
   "cell_type": "markdown",
   "id": "dec798ac",
   "metadata": {},
   "source": [
    "# Task 4.7: Deriving New Variables"
   ]
  },
  {
   "cell_type": "markdown",
   "id": "62abd936",
   "metadata": {},
   "source": [
    "# CAUTION!  I've moved to an EC2 instance with 32 GiB of RAM - and the option to add more RAM pretty cheaply - so I can afford to work with whatever size DataFrame this course is likely to use, without needing to carve out subsets or make any optimizations.  Please let me know if this poses a problem in evaluating my submissions."
   ]
  },
  {
   "cell_type": "markdown",
   "id": "18ca81cd",
   "metadata": {},
   "source": [
    "## Reusing notebook from Exercise 4.7, as suggested by the Task instructions.\n",
    "## In turn, this incorporates the prior Notebook for Task 4.6, Steps #3-8 to pre-load data."
   ]
  },
  {
   "cell_type": "markdown",
   "id": "32127a6a",
   "metadata": {},
   "source": [
    "# See \"Beginning TASK 4.7\" - far down! - to review this task submission."
   ]
  },
  {
   "cell_type": "code",
   "execution_count": 1,
   "id": "c4c2d508",
   "metadata": {
    "ExecuteTime": {
     "end_time": "2022-11-09T23:22:39.883969Z",
     "start_time": "2022-11-09T23:22:39.880121Z"
    },
    "execution": {
     "iopub.execute_input": "2023-04-24T13:19:58.886725Z",
     "iopub.status.busy": "2023-04-24T13:19:58.886458Z",
     "iopub.status.idle": "2023-04-24T13:19:58.891386Z",
     "shell.execute_reply": "2023-04-24T13:19:58.890795Z",
     "shell.execute_reply.started": "2023-04-24T13:19:58.886655Z"
    }
   },
   "outputs": [],
   "source": [
    "# Old stuff here, first, with the addition of Execution Time information."
   ]
  },
  {
   "cell_type": "markdown",
   "id": "8648cd3c",
   "metadata": {},
   "source": [
    "## Step 3:  In a new notebook, import the orders_products_combined dataframe from the pickle file you just saved."
   ]
  },
  {
   "cell_type": "code",
   "execution_count": 2,
   "id": "8e54f456",
   "metadata": {
    "ExecuteTime": {
     "end_time": "2022-11-09T23:22:40.640538Z",
     "start_time": "2022-11-09T23:22:39.885947Z"
    },
    "execution": {
     "iopub.execute_input": "2023-04-24T13:19:58.892722Z",
     "iopub.status.busy": "2023-04-24T13:19:58.892476Z",
     "iopub.status.idle": "2023-04-24T13:19:59.282763Z",
     "shell.execute_reply": "2023-04-24T13:19:59.281374Z",
     "shell.execute_reply.started": "2023-04-24T13:19:58.892696Z"
    }
   },
   "outputs": [],
   "source": [
    "# Import libraries\n",
    "import pandas as pd\n",
    "import numpy as np\n",
    "import os"
   ]
  },
  {
   "cell_type": "code",
   "execution_count": 3,
   "id": "c633b30b",
   "metadata": {
    "ExecuteTime": {
     "end_time": "2022-11-09T23:22:40.645445Z",
     "start_time": "2022-11-09T23:22:40.642733Z"
    },
    "execution": {
     "iopub.execute_input": "2023-04-24T13:19:59.285871Z",
     "iopub.status.busy": "2023-04-24T13:19:59.284940Z",
     "iopub.status.idle": "2023-04-24T13:19:59.290070Z",
     "shell.execute_reply": "2023-04-24T13:19:59.289535Z",
     "shell.execute_reply.started": "2023-04-24T13:19:59.285814Z"
    }
   },
   "outputs": [],
   "source": [
    "# Starting with Exercise 4.7, import additional libraries I've discovered thanks to Lubov, especially the time library.\n",
    "import time\n",
    "import string\n",
    "import random"
   ]
  },
  {
   "cell_type": "code",
   "execution_count": 4,
   "id": "0cd6955d",
   "metadata": {
    "ExecuteTime": {
     "end_time": "2022-11-09T23:22:40.654539Z",
     "start_time": "2022-11-09T23:22:40.647302Z"
    },
    "execution": {
     "iopub.execute_input": "2023-04-24T13:19:59.291401Z",
     "iopub.status.busy": "2023-04-24T13:19:59.291119Z",
     "iopub.status.idle": "2023-04-24T13:19:59.296116Z",
     "shell.execute_reply": "2023-04-24T13:19:59.294528Z",
     "shell.execute_reply.started": "2023-04-24T13:19:59.291378Z"
    }
   },
   "outputs": [],
   "source": [
    "# Set a PATH variable."
   ]
  },
  {
   "cell_type": "code",
   "execution_count": 5,
   "id": "ab9613ed",
   "metadata": {
    "ExecuteTime": {
     "end_time": "2022-11-09T23:22:40.659631Z",
     "start_time": "2022-11-09T23:22:40.657207Z"
    },
    "execution": {
     "iopub.execute_input": "2023-04-24T13:19:59.298475Z",
     "iopub.status.busy": "2023-04-24T13:19:59.298081Z",
     "iopub.status.idle": "2023-04-24T13:19:59.301567Z",
     "shell.execute_reply": "2023-04-24T13:19:59.300885Z",
     "shell.execute_reply.started": "2023-04-24T13:19:59.298445Z"
    }
   },
   "outputs": [],
   "source": [
    "# Linux PATH - Sadly, my Linux system with 8GB of total RAM could not import the new df_ords_prior DataFrame.\n",
    "# BUT, now I have moved again, to an AWS EC2 instance that should be able to handle this."
   ]
  },
  {
   "cell_type": "code",
   "execution_count": 6,
   "id": "75ebf727",
   "metadata": {
    "ExecuteTime": {
     "end_time": "2022-11-09T23:22:40.664687Z",
     "start_time": "2022-11-09T23:22:40.661141Z"
    },
    "execution": {
     "iopub.execute_input": "2023-04-24T13:19:59.303647Z",
     "iopub.status.busy": "2023-04-24T13:19:59.303128Z",
     "iopub.status.idle": "2023-04-24T13:19:59.307722Z",
     "shell.execute_reply": "2023-04-24T13:19:59.306880Z",
     "shell.execute_reply.started": "2023-04-24T13:19:59.303607Z"
    }
   },
   "outputs": [],
   "source": [
    "path = (r'~/careerfoundry/tasks/data-immersion/Achievement4/Instacart-Basket-Analysis')"
   ]
  },
  {
   "cell_type": "code",
   "execution_count": 7,
   "id": "9671f3f5",
   "metadata": {
    "ExecuteTime": {
     "end_time": "2022-11-09T23:22:40.669944Z",
     "start_time": "2022-11-09T23:22:40.666469Z"
    },
    "execution": {
     "iopub.execute_input": "2023-04-24T13:19:59.309434Z",
     "iopub.status.busy": "2023-04-24T13:19:59.309160Z",
     "iopub.status.idle": "2023-04-24T13:19:59.313077Z",
     "shell.execute_reply": "2023-04-24T13:19:59.312268Z",
     "shell.execute_reply.started": "2023-04-24T13:19:59.309409Z"
    }
   },
   "outputs": [],
   "source": [
    "# windoze PATH - The windoze laptop I bought for Excel and Tableau also has 16GB of RAM, so I migrated there."
   ]
  },
  {
   "cell_type": "code",
   "execution_count": 8,
   "id": "b3cae9d0",
   "metadata": {
    "ExecuteTime": {
     "end_time": "2022-11-09T23:22:40.674470Z",
     "start_time": "2022-11-09T23:22:40.671525Z"
    },
    "execution": {
     "iopub.execute_input": "2023-04-24T13:19:59.314670Z",
     "iopub.status.busy": "2023-04-24T13:19:59.314035Z",
     "iopub.status.idle": "2023-04-24T13:19:59.318357Z",
     "shell.execute_reply": "2023-04-24T13:19:59.317551Z",
     "shell.execute_reply.started": "2023-04-24T13:19:59.314643Z"
    }
   },
   "outputs": [],
   "source": [
    "## path = (r'C:\\Users\\emccc\\OneDrive\\Documents\\CareerFoundry\\Achievement-4\\Instacart-Basket-Analysis')"
   ]
  },
  {
   "cell_type": "code",
   "execution_count": 9,
   "id": "67aaea8c",
   "metadata": {
    "ExecuteTime": {
     "end_time": "2022-11-09T23:22:40.679376Z",
     "start_time": "2022-11-09T23:22:40.676053Z"
    },
    "execution": {
     "iopub.execute_input": "2023-04-24T13:19:59.320087Z",
     "iopub.status.busy": "2023-04-24T13:19:59.319294Z",
     "iopub.status.idle": "2023-04-24T13:19:59.323629Z",
     "shell.execute_reply": "2023-04-24T13:19:59.322722Z",
     "shell.execute_reply.started": "2023-04-24T13:19:59.320052Z"
    }
   },
   "outputs": [],
   "source": [
    "# Read the orders_products_combined.pkl file into a new DataFrame, df_orders_products_combined ."
   ]
  },
  {
   "cell_type": "code",
   "execution_count": 10,
   "id": "586fbc98",
   "metadata": {
    "ExecuteTime": {
     "end_time": "2022-11-09T23:23:00.230557Z",
     "start_time": "2022-11-09T23:22:40.681616Z"
    },
    "execution": {
     "iopub.execute_input": "2023-04-24T13:19:59.325306Z",
     "iopub.status.busy": "2023-04-24T13:19:59.325007Z",
     "iopub.status.idle": "2023-04-24T13:20:00.802851Z",
     "shell.execute_reply": "2023-04-24T13:20:00.802013Z",
     "shell.execute_reply.started": "2023-04-24T13:19:59.325240Z"
    }
   },
   "outputs": [],
   "source": [
    "df_orders_products_combined = pd.read_pickle(os.path.join(path, '02-Data', 'Prepared-Data', 'orders_products_combined.pkl'))"
   ]
  },
  {
   "cell_type": "markdown",
   "id": "33fe0c72",
   "metadata": {},
   "source": [
    "## Step #4:  Check the shape of the imported dataframe (it should be the same as the one you exported—always check!)."
   ]
  },
  {
   "cell_type": "code",
   "execution_count": 11,
   "id": "8e3fa8f9",
   "metadata": {
    "ExecuteTime": {
     "end_time": "2022-11-09T23:23:00.236189Z",
     "start_time": "2022-11-09T23:23:00.233857Z"
    },
    "execution": {
     "iopub.execute_input": "2023-04-24T13:20:00.805619Z",
     "iopub.status.busy": "2023-04-24T13:20:00.805386Z",
     "iopub.status.idle": "2023-04-24T13:20:00.810743Z",
     "shell.execute_reply": "2023-04-24T13:20:00.809179Z",
     "shell.execute_reply.started": "2023-04-24T13:20:00.805583Z"
    }
   },
   "outputs": [],
   "source": [
    "# Basic checking for comparison to the previous incarnation as, \"df_merged_large\""
   ]
  },
  {
   "cell_type": "code",
   "execution_count": 12,
   "id": "30a246b6",
   "metadata": {
    "ExecuteTime": {
     "end_time": "2022-11-09T23:23:00.265455Z",
     "start_time": "2022-11-09T23:23:00.238046Z"
    },
    "execution": {
     "iopub.execute_input": "2023-04-24T13:20:00.812004Z",
     "iopub.status.busy": "2023-04-24T13:20:00.811782Z",
     "iopub.status.idle": "2023-04-24T13:20:00.834751Z",
     "shell.execute_reply": "2023-04-24T13:20:00.834007Z",
     "shell.execute_reply.started": "2023-04-24T13:20:00.811981Z"
    }
   },
   "outputs": [
    {
     "data": {
      "text/html": [
       "<div>\n",
       "<style scoped>\n",
       "    .dataframe tbody tr th:only-of-type {\n",
       "        vertical-align: middle;\n",
       "    }\n",
       "\n",
       "    .dataframe tbody tr th {\n",
       "        vertical-align: top;\n",
       "    }\n",
       "\n",
       "    .dataframe thead th {\n",
       "        text-align: right;\n",
       "    }\n",
       "</style>\n",
       "<table border=\"1\" class=\"dataframe\">\n",
       "  <thead>\n",
       "    <tr style=\"text-align: right;\">\n",
       "      <th></th>\n",
       "      <th>order_id</th>\n",
       "      <th>user_id</th>\n",
       "      <th>order_number</th>\n",
       "      <th>order_dow</th>\n",
       "      <th>order_hour_of_day</th>\n",
       "      <th>days_since_prior_order</th>\n",
       "      <th>product_id</th>\n",
       "      <th>add_to_cart_order</th>\n",
       "      <th>reordered</th>\n",
       "      <th>_merge</th>\n",
       "    </tr>\n",
       "  </thead>\n",
       "  <tbody>\n",
       "    <tr>\n",
       "      <th>0</th>\n",
       "      <td>2539329</td>\n",
       "      <td>1</td>\n",
       "      <td>1</td>\n",
       "      <td>2</td>\n",
       "      <td>8</td>\n",
       "      <td>0.0</td>\n",
       "      <td>196</td>\n",
       "      <td>1</td>\n",
       "      <td>0</td>\n",
       "      <td>both</td>\n",
       "    </tr>\n",
       "    <tr>\n",
       "      <th>1</th>\n",
       "      <td>2539329</td>\n",
       "      <td>1</td>\n",
       "      <td>1</td>\n",
       "      <td>2</td>\n",
       "      <td>8</td>\n",
       "      <td>0.0</td>\n",
       "      <td>14084</td>\n",
       "      <td>2</td>\n",
       "      <td>0</td>\n",
       "      <td>both</td>\n",
       "    </tr>\n",
       "    <tr>\n",
       "      <th>2</th>\n",
       "      <td>2539329</td>\n",
       "      <td>1</td>\n",
       "      <td>1</td>\n",
       "      <td>2</td>\n",
       "      <td>8</td>\n",
       "      <td>0.0</td>\n",
       "      <td>12427</td>\n",
       "      <td>3</td>\n",
       "      <td>0</td>\n",
       "      <td>both</td>\n",
       "    </tr>\n",
       "    <tr>\n",
       "      <th>3</th>\n",
       "      <td>2539329</td>\n",
       "      <td>1</td>\n",
       "      <td>1</td>\n",
       "      <td>2</td>\n",
       "      <td>8</td>\n",
       "      <td>0.0</td>\n",
       "      <td>26088</td>\n",
       "      <td>4</td>\n",
       "      <td>0</td>\n",
       "      <td>both</td>\n",
       "    </tr>\n",
       "    <tr>\n",
       "      <th>4</th>\n",
       "      <td>2539329</td>\n",
       "      <td>1</td>\n",
       "      <td>1</td>\n",
       "      <td>2</td>\n",
       "      <td>8</td>\n",
       "      <td>0.0</td>\n",
       "      <td>26405</td>\n",
       "      <td>5</td>\n",
       "      <td>0</td>\n",
       "      <td>both</td>\n",
       "    </tr>\n",
       "  </tbody>\n",
       "</table>\n",
       "</div>"
      ],
      "text/plain": [
       "   order_id  user_id  order_number  order_dow  order_hour_of_day  \\\n",
       "0   2539329        1             1          2                  8   \n",
       "1   2539329        1             1          2                  8   \n",
       "2   2539329        1             1          2                  8   \n",
       "3   2539329        1             1          2                  8   \n",
       "4   2539329        1             1          2                  8   \n",
       "\n",
       "   days_since_prior_order  product_id  add_to_cart_order  reordered _merge  \n",
       "0                     0.0         196                  1          0   both  \n",
       "1                     0.0       14084                  2          0   both  \n",
       "2                     0.0       12427                  3          0   both  \n",
       "3                     0.0       26088                  4          0   both  \n",
       "4                     0.0       26405                  5          0   both  "
      ]
     },
     "execution_count": 12,
     "metadata": {},
     "output_type": "execute_result"
    }
   ],
   "source": [
    "df_orders_products_combined.head()"
   ]
  },
  {
   "cell_type": "code",
   "execution_count": 13,
   "id": "60de6585",
   "metadata": {
    "ExecuteTime": {
     "end_time": "2022-11-09T23:23:00.271568Z",
     "start_time": "2022-11-09T23:23:00.267532Z"
    },
    "execution": {
     "iopub.execute_input": "2023-04-24T13:20:00.835867Z",
     "iopub.status.busy": "2023-04-24T13:20:00.835672Z",
     "iopub.status.idle": "2023-04-24T13:20:00.841872Z",
     "shell.execute_reply": "2023-04-24T13:20:00.841100Z",
     "shell.execute_reply.started": "2023-04-24T13:20:00.835844Z"
    }
   },
   "outputs": [
    {
     "data": {
      "text/plain": [
       "(32434489, 10)"
      ]
     },
     "execution_count": 13,
     "metadata": {},
     "output_type": "execute_result"
    }
   ],
   "source": [
    "df_orders_products_combined.shape"
   ]
  },
  {
   "cell_type": "code",
   "execution_count": 14,
   "id": "f1ef74d1",
   "metadata": {
    "ExecuteTime": {
     "end_time": "2022-11-09T23:23:00.514241Z",
     "start_time": "2022-11-09T23:23:00.273479Z"
    },
    "execution": {
     "iopub.execute_input": "2023-04-24T13:20:00.843173Z",
     "iopub.status.busy": "2023-04-24T13:20:00.842928Z",
     "iopub.status.idle": "2023-04-24T13:20:01.056115Z",
     "shell.execute_reply": "2023-04-24T13:20:01.055633Z",
     "shell.execute_reply.started": "2023-04-24T13:20:00.843149Z"
    }
   },
   "outputs": [
    {
     "data": {
      "text/plain": [
       "both          32434489\n",
       "left_only            0\n",
       "right_only           0\n",
       "Name: _merge, dtype: int64"
      ]
     },
     "execution_count": 14,
     "metadata": {},
     "output_type": "execute_result"
    }
   ],
   "source": [
    "df_orders_products_combined['_merge'].value_counts()"
   ]
  },
  {
   "cell_type": "markdown",
   "id": "015368cb",
   "metadata": {},
   "source": [
    "## Step #5:  Determine a suitable way to combine the orders_products_combined dataframe with your products data set. Make sure you’re using your wrangled, cleaned, and deduped products data set stored in your “Prepared Data” folder from the previous Exercise’s task."
   ]
  },
  {
   "cell_type": "code",
   "execution_count": 15,
   "id": "9a6df680",
   "metadata": {
    "ExecuteTime": {
     "end_time": "2022-11-09T23:23:00.518520Z",
     "start_time": "2022-11-09T23:23:00.515970Z"
    },
    "execution": {
     "iopub.execute_input": "2023-04-24T13:20:01.057516Z",
     "iopub.status.busy": "2023-04-24T13:20:01.057116Z",
     "iopub.status.idle": "2023-04-24T13:20:01.060785Z",
     "shell.execute_reply": "2023-04-24T13:20:01.059759Z",
     "shell.execute_reply.started": "2023-04-24T13:20:01.057487Z"
    }
   },
   "outputs": [],
   "source": [
    "# Read the DataFrame 'df_prods_checked' from the file products_checked.csv ."
   ]
  },
  {
   "cell_type": "code",
   "execution_count": 16,
   "id": "4de10342",
   "metadata": {
    "ExecuteTime": {
     "end_time": "2022-11-09T23:23:00.595516Z",
     "start_time": "2022-11-09T23:23:00.520657Z"
    },
    "execution": {
     "iopub.execute_input": "2023-04-24T13:20:01.063103Z",
     "iopub.status.busy": "2023-04-24T13:20:01.062340Z",
     "iopub.status.idle": "2023-04-24T13:20:01.126405Z",
     "shell.execute_reply": "2023-04-24T13:20:01.125783Z",
     "shell.execute_reply.started": "2023-04-24T13:20:01.063053Z"
    }
   },
   "outputs": [],
   "source": [
    "df_prods_checked = pd.read_csv(os.path.join(path, '02-Data','Prepared-Data', 'products_checked.csv'))"
   ]
  },
  {
   "cell_type": "code",
   "execution_count": 17,
   "id": "447ee73b",
   "metadata": {
    "ExecuteTime": {
     "end_time": "2022-11-09T23:23:00.599830Z",
     "start_time": "2022-11-09T23:23:00.597712Z"
    },
    "execution": {
     "iopub.execute_input": "2023-04-24T13:20:01.128041Z",
     "iopub.status.busy": "2023-04-24T13:20:01.127442Z",
     "iopub.status.idle": "2023-04-24T13:20:01.131417Z",
     "shell.execute_reply": "2023-04-24T13:20:01.130632Z",
     "shell.execute_reply.started": "2023-04-24T13:20:01.128011Z"
    }
   },
   "outputs": [],
   "source": [
    "# Sanity checks for df_prods_checked ."
   ]
  },
  {
   "cell_type": "code",
   "execution_count": 18,
   "id": "a179bbb2",
   "metadata": {
    "ExecuteTime": {
     "end_time": "2022-11-09T23:23:00.605252Z",
     "start_time": "2022-11-09T23:23:00.602007Z"
    },
    "execution": {
     "iopub.execute_input": "2023-04-24T13:20:01.133148Z",
     "iopub.status.busy": "2023-04-24T13:20:01.132744Z",
     "iopub.status.idle": "2023-04-24T13:20:01.137170Z",
     "shell.execute_reply": "2023-04-24T13:20:01.136304Z",
     "shell.execute_reply.started": "2023-04-24T13:20:01.133113Z"
    }
   },
   "outputs": [],
   "source": [
    "# NOTE:  In the previous Exercise/Task, the df_prods_checked DataFrame was written to a CSV file with an additional index\n",
    "# column by default (Exercise 4.4 did not mention the 'index = False' option to 'df.to_csv').  I'll see whether this\n",
    "# poses a true problem, as it might not."
   ]
  },
  {
   "cell_type": "code",
   "execution_count": 19,
   "id": "a13c2d2e",
   "metadata": {
    "ExecuteTime": {
     "end_time": "2022-11-09T23:23:00.611976Z",
     "start_time": "2022-11-09T23:23:00.607258Z"
    },
    "execution": {
     "iopub.execute_input": "2023-04-24T13:20:01.138866Z",
     "iopub.status.busy": "2023-04-24T13:20:01.138596Z",
     "iopub.status.idle": "2023-04-24T13:20:01.146468Z",
     "shell.execute_reply": "2023-04-24T13:20:01.145349Z",
     "shell.execute_reply.started": "2023-04-24T13:20:01.138832Z"
    }
   },
   "outputs": [
    {
     "data": {
      "text/plain": [
       "(49672, 6)"
      ]
     },
     "execution_count": 19,
     "metadata": {},
     "output_type": "execute_result"
    }
   ],
   "source": [
    "df_prods_checked.shape"
   ]
  },
  {
   "cell_type": "code",
   "execution_count": 20,
   "id": "30fd9f4c",
   "metadata": {
    "ExecuteTime": {
     "end_time": "2022-11-09T23:23:00.625917Z",
     "start_time": "2022-11-09T23:23:00.613808Z"
    },
    "execution": {
     "iopub.execute_input": "2023-04-24T13:20:01.148525Z",
     "iopub.status.busy": "2023-04-24T13:20:01.147741Z",
     "iopub.status.idle": "2023-04-24T13:20:01.164709Z",
     "shell.execute_reply": "2023-04-24T13:20:01.163111Z",
     "shell.execute_reply.started": "2023-04-24T13:20:01.148498Z"
    }
   },
   "outputs": [
    {
     "data": {
      "text/html": [
       "<div>\n",
       "<style scoped>\n",
       "    .dataframe tbody tr th:only-of-type {\n",
       "        vertical-align: middle;\n",
       "    }\n",
       "\n",
       "    .dataframe tbody tr th {\n",
       "        vertical-align: top;\n",
       "    }\n",
       "\n",
       "    .dataframe thead th {\n",
       "        text-align: right;\n",
       "    }\n",
       "</style>\n",
       "<table border=\"1\" class=\"dataframe\">\n",
       "  <thead>\n",
       "    <tr style=\"text-align: right;\">\n",
       "      <th></th>\n",
       "      <th>Unnamed: 0</th>\n",
       "      <th>product_id</th>\n",
       "      <th>product_name</th>\n",
       "      <th>aisle_id</th>\n",
       "      <th>department_id</th>\n",
       "      <th>prices</th>\n",
       "    </tr>\n",
       "  </thead>\n",
       "  <tbody>\n",
       "    <tr>\n",
       "      <th>0</th>\n",
       "      <td>0</td>\n",
       "      <td>1</td>\n",
       "      <td>Chocolate Sandwich Cookies</td>\n",
       "      <td>61</td>\n",
       "      <td>19</td>\n",
       "      <td>5.8</td>\n",
       "    </tr>\n",
       "    <tr>\n",
       "      <th>1</th>\n",
       "      <td>1</td>\n",
       "      <td>2</td>\n",
       "      <td>All-Seasons Salt</td>\n",
       "      <td>104</td>\n",
       "      <td>13</td>\n",
       "      <td>9.3</td>\n",
       "    </tr>\n",
       "    <tr>\n",
       "      <th>2</th>\n",
       "      <td>2</td>\n",
       "      <td>3</td>\n",
       "      <td>Robust Golden Unsweetened Oolong Tea</td>\n",
       "      <td>94</td>\n",
       "      <td>7</td>\n",
       "      <td>4.5</td>\n",
       "    </tr>\n",
       "    <tr>\n",
       "      <th>3</th>\n",
       "      <td>3</td>\n",
       "      <td>4</td>\n",
       "      <td>Smart Ones Classic Favorites Mini Rigatoni Wit...</td>\n",
       "      <td>38</td>\n",
       "      <td>1</td>\n",
       "      <td>10.5</td>\n",
       "    </tr>\n",
       "    <tr>\n",
       "      <th>4</th>\n",
       "      <td>4</td>\n",
       "      <td>5</td>\n",
       "      <td>Green Chile Anytime Sauce</td>\n",
       "      <td>5</td>\n",
       "      <td>13</td>\n",
       "      <td>4.3</td>\n",
       "    </tr>\n",
       "    <tr>\n",
       "      <th>...</th>\n",
       "      <td>...</td>\n",
       "      <td>...</td>\n",
       "      <td>...</td>\n",
       "      <td>...</td>\n",
       "      <td>...</td>\n",
       "      <td>...</td>\n",
       "    </tr>\n",
       "    <tr>\n",
       "      <th>49667</th>\n",
       "      <td>49688</td>\n",
       "      <td>49684</td>\n",
       "      <td>Vodka, Triple Distilled, Twist of Vanilla</td>\n",
       "      <td>124</td>\n",
       "      <td>5</td>\n",
       "      <td>5.3</td>\n",
       "    </tr>\n",
       "    <tr>\n",
       "      <th>49668</th>\n",
       "      <td>49689</td>\n",
       "      <td>49685</td>\n",
       "      <td>En Croute Roast Hazelnut Cranberry</td>\n",
       "      <td>42</td>\n",
       "      <td>1</td>\n",
       "      <td>3.1</td>\n",
       "    </tr>\n",
       "    <tr>\n",
       "      <th>49669</th>\n",
       "      <td>49690</td>\n",
       "      <td>49686</td>\n",
       "      <td>Artisan Baguette</td>\n",
       "      <td>112</td>\n",
       "      <td>3</td>\n",
       "      <td>7.8</td>\n",
       "    </tr>\n",
       "    <tr>\n",
       "      <th>49670</th>\n",
       "      <td>49691</td>\n",
       "      <td>49687</td>\n",
       "      <td>Smartblend Healthy Metabolism Dry Cat Food</td>\n",
       "      <td>41</td>\n",
       "      <td>8</td>\n",
       "      <td>4.7</td>\n",
       "    </tr>\n",
       "    <tr>\n",
       "      <th>49671</th>\n",
       "      <td>49692</td>\n",
       "      <td>49688</td>\n",
       "      <td>Fresh Foaming Cleanser</td>\n",
       "      <td>73</td>\n",
       "      <td>11</td>\n",
       "      <td>13.5</td>\n",
       "    </tr>\n",
       "  </tbody>\n",
       "</table>\n",
       "<p>49672 rows × 6 columns</p>\n",
       "</div>"
      ],
      "text/plain": [
       "       Unnamed: 0  product_id  \\\n",
       "0               0           1   \n",
       "1               1           2   \n",
       "2               2           3   \n",
       "3               3           4   \n",
       "4               4           5   \n",
       "...           ...         ...   \n",
       "49667       49688       49684   \n",
       "49668       49689       49685   \n",
       "49669       49690       49686   \n",
       "49670       49691       49687   \n",
       "49671       49692       49688   \n",
       "\n",
       "                                            product_name  aisle_id  \\\n",
       "0                             Chocolate Sandwich Cookies        61   \n",
       "1                                       All-Seasons Salt       104   \n",
       "2                   Robust Golden Unsweetened Oolong Tea        94   \n",
       "3      Smart Ones Classic Favorites Mini Rigatoni Wit...        38   \n",
       "4                              Green Chile Anytime Sauce         5   \n",
       "...                                                  ...       ...   \n",
       "49667          Vodka, Triple Distilled, Twist of Vanilla       124   \n",
       "49668                 En Croute Roast Hazelnut Cranberry        42   \n",
       "49669                                   Artisan Baguette       112   \n",
       "49670         Smartblend Healthy Metabolism Dry Cat Food        41   \n",
       "49671                             Fresh Foaming Cleanser        73   \n",
       "\n",
       "       department_id  prices  \n",
       "0                 19     5.8  \n",
       "1                 13     9.3  \n",
       "2                  7     4.5  \n",
       "3                  1    10.5  \n",
       "4                 13     4.3  \n",
       "...              ...     ...  \n",
       "49667              5     5.3  \n",
       "49668              1     3.1  \n",
       "49669              3     7.8  \n",
       "49670              8     4.7  \n",
       "49671             11    13.5  \n",
       "\n",
       "[49672 rows x 6 columns]"
      ]
     },
     "execution_count": 20,
     "metadata": {},
     "output_type": "execute_result"
    }
   ],
   "source": [
    "df_prods_checked"
   ]
  },
  {
   "cell_type": "code",
   "execution_count": 21,
   "id": "a90cf866",
   "metadata": {
    "ExecuteTime": {
     "end_time": "2022-11-09T23:23:00.653580Z",
     "start_time": "2022-11-09T23:23:00.627548Z"
    },
    "execution": {
     "iopub.execute_input": "2023-04-24T13:20:01.167157Z",
     "iopub.status.busy": "2023-04-24T13:20:01.166496Z",
     "iopub.status.idle": "2023-04-24T13:20:01.197095Z",
     "shell.execute_reply": "2023-04-24T13:20:01.196565Z",
     "shell.execute_reply.started": "2023-04-24T13:20:01.167128Z"
    }
   },
   "outputs": [
    {
     "data": {
      "text/html": [
       "<div>\n",
       "<style scoped>\n",
       "    .dataframe tbody tr th:only-of-type {\n",
       "        vertical-align: middle;\n",
       "    }\n",
       "\n",
       "    .dataframe tbody tr th {\n",
       "        vertical-align: top;\n",
       "    }\n",
       "\n",
       "    .dataframe thead th {\n",
       "        text-align: right;\n",
       "    }\n",
       "</style>\n",
       "<table border=\"1\" class=\"dataframe\">\n",
       "  <thead>\n",
       "    <tr style=\"text-align: right;\">\n",
       "      <th></th>\n",
       "      <th>Unnamed: 0</th>\n",
       "      <th>product_id</th>\n",
       "      <th>aisle_id</th>\n",
       "      <th>department_id</th>\n",
       "      <th>prices</th>\n",
       "    </tr>\n",
       "  </thead>\n",
       "  <tbody>\n",
       "    <tr>\n",
       "      <th>count</th>\n",
       "      <td>49672.000000</td>\n",
       "      <td>49672.000000</td>\n",
       "      <td>49672.000000</td>\n",
       "      <td>49672.000000</td>\n",
       "      <td>49672.000000</td>\n",
       "    </tr>\n",
       "    <tr>\n",
       "      <th>mean</th>\n",
       "      <td>24852.005053</td>\n",
       "      <td>24850.349775</td>\n",
       "      <td>67.762442</td>\n",
       "      <td>11.728942</td>\n",
       "      <td>9.993282</td>\n",
       "    </tr>\n",
       "    <tr>\n",
       "      <th>std</th>\n",
       "      <td>14342.265579</td>\n",
       "      <td>14340.705287</td>\n",
       "      <td>38.315784</td>\n",
       "      <td>5.850779</td>\n",
       "      <td>453.615536</td>\n",
       "    </tr>\n",
       "    <tr>\n",
       "      <th>min</th>\n",
       "      <td>0.000000</td>\n",
       "      <td>1.000000</td>\n",
       "      <td>1.000000</td>\n",
       "      <td>1.000000</td>\n",
       "      <td>1.000000</td>\n",
       "    </tr>\n",
       "    <tr>\n",
       "      <th>25%</th>\n",
       "      <td>12432.750000</td>\n",
       "      <td>12432.750000</td>\n",
       "      <td>35.000000</td>\n",
       "      <td>7.000000</td>\n",
       "      <td>4.100000</td>\n",
       "    </tr>\n",
       "    <tr>\n",
       "      <th>50%</th>\n",
       "      <td>24851.500000</td>\n",
       "      <td>24850.500000</td>\n",
       "      <td>69.000000</td>\n",
       "      <td>13.000000</td>\n",
       "      <td>7.100000</td>\n",
       "    </tr>\n",
       "    <tr>\n",
       "      <th>75%</th>\n",
       "      <td>37272.250000</td>\n",
       "      <td>37268.250000</td>\n",
       "      <td>100.000000</td>\n",
       "      <td>17.000000</td>\n",
       "      <td>11.100000</td>\n",
       "    </tr>\n",
       "    <tr>\n",
       "      <th>max</th>\n",
       "      <td>49692.000000</td>\n",
       "      <td>49688.000000</td>\n",
       "      <td>134.000000</td>\n",
       "      <td>21.000000</td>\n",
       "      <td>99999.000000</td>\n",
       "    </tr>\n",
       "  </tbody>\n",
       "</table>\n",
       "</div>"
      ],
      "text/plain": [
       "         Unnamed: 0    product_id      aisle_id  department_id        prices\n",
       "count  49672.000000  49672.000000  49672.000000   49672.000000  49672.000000\n",
       "mean   24852.005053  24850.349775     67.762442      11.728942      9.993282\n",
       "std    14342.265579  14340.705287     38.315784       5.850779    453.615536\n",
       "min        0.000000      1.000000      1.000000       1.000000      1.000000\n",
       "25%    12432.750000  12432.750000     35.000000       7.000000      4.100000\n",
       "50%    24851.500000  24850.500000     69.000000      13.000000      7.100000\n",
       "75%    37272.250000  37268.250000    100.000000      17.000000     11.100000\n",
       "max    49692.000000  49688.000000    134.000000      21.000000  99999.000000"
      ]
     },
     "execution_count": 21,
     "metadata": {},
     "output_type": "execute_result"
    }
   ],
   "source": [
    "df_prods_checked.describe()"
   ]
  },
  {
   "cell_type": "code",
   "execution_count": 22,
   "id": "ab6abc39",
   "metadata": {
    "ExecuteTime": {
     "end_time": "2022-11-09T23:23:00.657928Z",
     "start_time": "2022-11-09T23:23:00.655428Z"
    },
    "execution": {
     "iopub.execute_input": "2023-04-24T13:20:01.198471Z",
     "iopub.status.busy": "2023-04-24T13:20:01.198234Z",
     "iopub.status.idle": "2023-04-24T13:20:01.202298Z",
     "shell.execute_reply": "2023-04-24T13:20:01.201357Z",
     "shell.execute_reply.started": "2023-04-24T13:20:01.198442Z"
    }
   },
   "outputs": [],
   "source": [
    "# Combine df_prods_checked with df_orders_products_combined to create the 'orders_products_merged' DataFrame."
   ]
  },
  {
   "cell_type": "code",
   "execution_count": 23,
   "id": "7ec8ecae",
   "metadata": {
    "ExecuteTime": {
     "end_time": "2022-11-09T23:23:00.663877Z",
     "start_time": "2022-11-09T23:23:00.659836Z"
    },
    "execution": {
     "iopub.execute_input": "2023-04-24T13:20:01.203680Z",
     "iopub.status.busy": "2023-04-24T13:20:01.203472Z",
     "iopub.status.idle": "2023-04-24T13:20:01.207784Z",
     "shell.execute_reply": "2023-04-24T13:20:01.207018Z",
     "shell.execute_reply.started": "2023-04-24T13:20:01.203657Z"
    }
   },
   "outputs": [],
   "source": [
    "# NOTE:  If I want to use an Indicator, I need to give the indicator column a new name, because '_merge' is already\n",
    "# used in the df_orders_products_combined DataFrame.  In a spark of creativity, I call it, '_merge2'."
   ]
  },
  {
   "cell_type": "code",
   "execution_count": 24,
   "id": "d3339378",
   "metadata": {
    "ExecuteTime": {
     "end_time": "2022-11-09T23:23:15.782281Z",
     "start_time": "2022-11-09T23:23:00.665656Z"
    },
    "execution": {
     "iopub.execute_input": "2023-04-24T13:20:01.209370Z",
     "iopub.status.busy": "2023-04-24T13:20:01.209131Z",
     "iopub.status.idle": "2023-04-24T13:20:12.704848Z",
     "shell.execute_reply": "2023-04-24T13:20:12.704108Z",
     "shell.execute_reply.started": "2023-04-24T13:20:01.209346Z"
    }
   },
   "outputs": [],
   "source": [
    "df_orders_products_merged = df_prods_checked.merge(df_orders_products_combined, on = 'product_id', indicator = '_merge2')"
   ]
  },
  {
   "cell_type": "code",
   "execution_count": 25,
   "id": "9ea0bdff",
   "metadata": {
    "ExecuteTime": {
     "end_time": "2022-11-09T23:23:15.798285Z",
     "start_time": "2022-11-09T23:23:15.784063Z"
    },
    "execution": {
     "iopub.execute_input": "2023-04-24T13:20:12.706015Z",
     "iopub.status.busy": "2023-04-24T13:20:12.705834Z",
     "iopub.status.idle": "2023-04-24T13:20:12.724015Z",
     "shell.execute_reply": "2023-04-24T13:20:12.722851Z",
     "shell.execute_reply.started": "2023-04-24T13:20:12.705993Z"
    },
    "scrolled": true
   },
   "outputs": [
    {
     "data": {
      "text/html": [
       "<div>\n",
       "<style scoped>\n",
       "    .dataframe tbody tr th:only-of-type {\n",
       "        vertical-align: middle;\n",
       "    }\n",
       "\n",
       "    .dataframe tbody tr th {\n",
       "        vertical-align: top;\n",
       "    }\n",
       "\n",
       "    .dataframe thead th {\n",
       "        text-align: right;\n",
       "    }\n",
       "</style>\n",
       "<table border=\"1\" class=\"dataframe\">\n",
       "  <thead>\n",
       "    <tr style=\"text-align: right;\">\n",
       "      <th></th>\n",
       "      <th>Unnamed: 0</th>\n",
       "      <th>product_id</th>\n",
       "      <th>product_name</th>\n",
       "      <th>aisle_id</th>\n",
       "      <th>department_id</th>\n",
       "      <th>prices</th>\n",
       "      <th>order_id</th>\n",
       "      <th>user_id</th>\n",
       "      <th>order_number</th>\n",
       "      <th>order_dow</th>\n",
       "      <th>order_hour_of_day</th>\n",
       "      <th>days_since_prior_order</th>\n",
       "      <th>add_to_cart_order</th>\n",
       "      <th>reordered</th>\n",
       "      <th>_merge</th>\n",
       "      <th>_merge2</th>\n",
       "    </tr>\n",
       "  </thead>\n",
       "  <tbody>\n",
       "    <tr>\n",
       "      <th>0</th>\n",
       "      <td>0</td>\n",
       "      <td>1</td>\n",
       "      <td>Chocolate Sandwich Cookies</td>\n",
       "      <td>61</td>\n",
       "      <td>19</td>\n",
       "      <td>5.8</td>\n",
       "      <td>3139998</td>\n",
       "      <td>138</td>\n",
       "      <td>28</td>\n",
       "      <td>6</td>\n",
       "      <td>11</td>\n",
       "      <td>3.0</td>\n",
       "      <td>5</td>\n",
       "      <td>0</td>\n",
       "      <td>both</td>\n",
       "      <td>both</td>\n",
       "    </tr>\n",
       "    <tr>\n",
       "      <th>1</th>\n",
       "      <td>0</td>\n",
       "      <td>1</td>\n",
       "      <td>Chocolate Sandwich Cookies</td>\n",
       "      <td>61</td>\n",
       "      <td>19</td>\n",
       "      <td>5.8</td>\n",
       "      <td>1977647</td>\n",
       "      <td>138</td>\n",
       "      <td>30</td>\n",
       "      <td>6</td>\n",
       "      <td>17</td>\n",
       "      <td>20.0</td>\n",
       "      <td>1</td>\n",
       "      <td>1</td>\n",
       "      <td>both</td>\n",
       "      <td>both</td>\n",
       "    </tr>\n",
       "    <tr>\n",
       "      <th>2</th>\n",
       "      <td>0</td>\n",
       "      <td>1</td>\n",
       "      <td>Chocolate Sandwich Cookies</td>\n",
       "      <td>61</td>\n",
       "      <td>19</td>\n",
       "      <td>5.8</td>\n",
       "      <td>389851</td>\n",
       "      <td>709</td>\n",
       "      <td>2</td>\n",
       "      <td>0</td>\n",
       "      <td>21</td>\n",
       "      <td>6.0</td>\n",
       "      <td>20</td>\n",
       "      <td>0</td>\n",
       "      <td>both</td>\n",
       "      <td>both</td>\n",
       "    </tr>\n",
       "    <tr>\n",
       "      <th>3</th>\n",
       "      <td>0</td>\n",
       "      <td>1</td>\n",
       "      <td>Chocolate Sandwich Cookies</td>\n",
       "      <td>61</td>\n",
       "      <td>19</td>\n",
       "      <td>5.8</td>\n",
       "      <td>652770</td>\n",
       "      <td>764</td>\n",
       "      <td>1</td>\n",
       "      <td>3</td>\n",
       "      <td>13</td>\n",
       "      <td>0.0</td>\n",
       "      <td>10</td>\n",
       "      <td>0</td>\n",
       "      <td>both</td>\n",
       "      <td>both</td>\n",
       "    </tr>\n",
       "    <tr>\n",
       "      <th>4</th>\n",
       "      <td>0</td>\n",
       "      <td>1</td>\n",
       "      <td>Chocolate Sandwich Cookies</td>\n",
       "      <td>61</td>\n",
       "      <td>19</td>\n",
       "      <td>5.8</td>\n",
       "      <td>1813452</td>\n",
       "      <td>764</td>\n",
       "      <td>3</td>\n",
       "      <td>4</td>\n",
       "      <td>17</td>\n",
       "      <td>9.0</td>\n",
       "      <td>11</td>\n",
       "      <td>1</td>\n",
       "      <td>both</td>\n",
       "      <td>both</td>\n",
       "    </tr>\n",
       "  </tbody>\n",
       "</table>\n",
       "</div>"
      ],
      "text/plain": [
       "   Unnamed: 0  product_id                product_name  aisle_id  \\\n",
       "0           0           1  Chocolate Sandwich Cookies        61   \n",
       "1           0           1  Chocolate Sandwich Cookies        61   \n",
       "2           0           1  Chocolate Sandwich Cookies        61   \n",
       "3           0           1  Chocolate Sandwich Cookies        61   \n",
       "4           0           1  Chocolate Sandwich Cookies        61   \n",
       "\n",
       "   department_id  prices  order_id  user_id  order_number  order_dow  \\\n",
       "0             19     5.8   3139998      138            28          6   \n",
       "1             19     5.8   1977647      138            30          6   \n",
       "2             19     5.8    389851      709             2          0   \n",
       "3             19     5.8    652770      764             1          3   \n",
       "4             19     5.8   1813452      764             3          4   \n",
       "\n",
       "   order_hour_of_day  days_since_prior_order  add_to_cart_order  reordered  \\\n",
       "0                 11                     3.0                  5          0   \n",
       "1                 17                    20.0                  1          1   \n",
       "2                 21                     6.0                 20          0   \n",
       "3                 13                     0.0                 10          0   \n",
       "4                 17                     9.0                 11          1   \n",
       "\n",
       "  _merge _merge2  \n",
       "0   both    both  \n",
       "1   both    both  \n",
       "2   both    both  \n",
       "3   both    both  \n",
       "4   both    both  "
      ]
     },
     "execution_count": 25,
     "metadata": {},
     "output_type": "execute_result"
    }
   ],
   "source": [
    "df_orders_products_merged.head()"
   ]
  },
  {
   "cell_type": "code",
   "execution_count": 26,
   "id": "f63c394a",
   "metadata": {
    "ExecuteTime": {
     "end_time": "2022-11-09T23:23:15.804029Z",
     "start_time": "2022-11-09T23:23:15.800182Z"
    },
    "execution": {
     "iopub.execute_input": "2023-04-24T13:20:12.726321Z",
     "iopub.status.busy": "2023-04-24T13:20:12.725656Z",
     "iopub.status.idle": "2023-04-24T13:20:12.731363Z",
     "shell.execute_reply": "2023-04-24T13:20:12.730506Z",
     "shell.execute_reply.started": "2023-04-24T13:20:12.726279Z"
    }
   },
   "outputs": [
    {
     "data": {
      "text/plain": [
       "(32404859, 16)"
      ]
     },
     "execution_count": 26,
     "metadata": {},
     "output_type": "execute_result"
    }
   ],
   "source": [
    "df_orders_products_merged.shape"
   ]
  },
  {
   "cell_type": "markdown",
   "id": "cdb068bc",
   "metadata": {},
   "source": [
    "## Step 6:  Confirm the results of the merge using the merge flag."
   ]
  },
  {
   "cell_type": "code",
   "execution_count": 27,
   "id": "d461c7eb",
   "metadata": {
    "ExecuteTime": {
     "end_time": "2022-11-09T23:23:15.809280Z",
     "start_time": "2022-11-09T23:23:15.805981Z"
    },
    "execution": {
     "iopub.execute_input": "2023-04-24T13:20:12.732250Z",
     "iopub.status.busy": "2023-04-24T13:20:12.732077Z",
     "iopub.status.idle": "2023-04-24T13:20:12.735972Z",
     "shell.execute_reply": "2023-04-24T13:20:12.735369Z",
     "shell.execute_reply.started": "2023-04-24T13:20:12.732228Z"
    }
   },
   "outputs": [],
   "source": [
    "# Tally up the results from the '_merge2' column.  It's from an inner join, so all should be 'both',\n",
    "# but this is how I interpret the instruction based on the Exercise."
   ]
  },
  {
   "cell_type": "code",
   "execution_count": 28,
   "id": "aed1b20c",
   "metadata": {
    "ExecuteTime": {
     "end_time": "2022-11-09T23:23:16.038753Z",
     "start_time": "2022-11-09T23:23:15.810806Z"
    },
    "execution": {
     "iopub.execute_input": "2023-04-24T13:20:12.737401Z",
     "iopub.status.busy": "2023-04-24T13:20:12.736876Z",
     "iopub.status.idle": "2023-04-24T13:20:12.941483Z",
     "shell.execute_reply": "2023-04-24T13:20:12.940804Z",
     "shell.execute_reply.started": "2023-04-24T13:20:12.737364Z"
    }
   },
   "outputs": [
    {
     "data": {
      "text/plain": [
       "both          32404859\n",
       "left_only            0\n",
       "right_only           0\n",
       "Name: _merge2, dtype: int64"
      ]
     },
     "execution_count": 28,
     "metadata": {},
     "output_type": "execute_result"
    }
   ],
   "source": [
    "df_orders_products_merged['_merge2'].value_counts()"
   ]
  },
  {
   "cell_type": "markdown",
   "id": "37d304db",
   "metadata": {},
   "source": [
    "## Step 7:  Export the newly created dataframe as orders_products_merged in a suitable format (taking into consideration the size)."
   ]
  },
  {
   "cell_type": "code",
   "execution_count": 29,
   "id": "17b05b67",
   "metadata": {
    "ExecuteTime": {
     "end_time": "2022-11-09T23:23:16.046537Z",
     "start_time": "2022-11-09T23:23:16.043859Z"
    },
    "execution": {
     "iopub.execute_input": "2023-04-24T13:20:12.947514Z",
     "iopub.status.busy": "2023-04-24T13:20:12.946703Z",
     "iopub.status.idle": "2023-04-24T13:20:12.951155Z",
     "shell.execute_reply": "2023-04-24T13:20:12.950295Z",
     "shell.execute_reply.started": "2023-04-24T13:20:12.947484Z"
    }
   },
   "outputs": [],
   "source": [
    "# Store the new DataFrame in the Pickle format."
   ]
  },
  {
   "cell_type": "code",
   "execution_count": 30,
   "id": "d504b9f3",
   "metadata": {
    "ExecuteTime": {
     "end_time": "2022-11-09T23:23:46.947753Z",
     "start_time": "2022-11-09T23:23:16.048340Z"
    },
    "execution": {
     "iopub.execute_input": "2023-04-24T13:20:12.952212Z",
     "iopub.status.busy": "2023-04-24T13:20:12.951992Z",
     "iopub.status.idle": "2023-04-24T13:20:45.518698Z",
     "shell.execute_reply": "2023-04-24T13:20:45.518155Z",
     "shell.execute_reply.started": "2023-04-24T13:20:12.952188Z"
    }
   },
   "outputs": [],
   "source": [
    "df_orders_products_merged.to_pickle(os.path.join(path, '02-Data','Prepared-Data', 'orders_products_merged.pkl'))"
   ]
  },
  {
   "cell_type": "markdown",
   "id": "fc5f9bcf",
   "metadata": {},
   "source": [
    "# Beginning EXERCISE 4.7"
   ]
  },
  {
   "cell_type": "code",
   "execution_count": 31,
   "id": "c3a430ce",
   "metadata": {
    "ExecuteTime": {
     "end_time": "2022-11-09T23:23:46.952360Z",
     "start_time": "2022-11-09T23:23:46.950164Z"
    },
    "execution": {
     "iopub.execute_input": "2023-04-24T13:20:45.520109Z",
     "iopub.status.busy": "2023-04-24T13:20:45.519637Z",
     "iopub.status.idle": "2023-04-24T13:20:45.523934Z",
     "shell.execute_reply": "2023-04-24T13:20:45.522894Z",
     "shell.execute_reply.started": "2023-04-24T13:20:45.520082Z"
    }
   },
   "outputs": [],
   "source": [
    "# Confirming our DF has been loaded (I know, it's in the code above.)\n",
    "# Exercise 4.7 seems to be calling this 'ords_prods_merged'."
   ]
  },
  {
   "cell_type": "code",
   "execution_count": 32,
   "id": "c9f49dc3",
   "metadata": {
    "ExecuteTime": {
     "end_time": "2022-11-09T23:23:46.988968Z",
     "start_time": "2022-11-09T23:23:46.953883Z"
    },
    "execution": {
     "iopub.execute_input": "2023-04-24T13:20:45.524990Z",
     "iopub.status.busy": "2023-04-24T13:20:45.524792Z",
     "iopub.status.idle": "2023-04-24T13:20:45.559197Z",
     "shell.execute_reply": "2023-04-24T13:20:45.558284Z",
     "shell.execute_reply.started": "2023-04-24T13:20:45.524967Z"
    },
    "scrolled": true
   },
   "outputs": [
    {
     "data": {
      "text/html": [
       "<div>\n",
       "<style scoped>\n",
       "    .dataframe tbody tr th:only-of-type {\n",
       "        vertical-align: middle;\n",
       "    }\n",
       "\n",
       "    .dataframe tbody tr th {\n",
       "        vertical-align: top;\n",
       "    }\n",
       "\n",
       "    .dataframe thead th {\n",
       "        text-align: right;\n",
       "    }\n",
       "</style>\n",
       "<table border=\"1\" class=\"dataframe\">\n",
       "  <thead>\n",
       "    <tr style=\"text-align: right;\">\n",
       "      <th></th>\n",
       "      <th>Unnamed: 0</th>\n",
       "      <th>product_id</th>\n",
       "      <th>product_name</th>\n",
       "      <th>aisle_id</th>\n",
       "      <th>department_id</th>\n",
       "      <th>prices</th>\n",
       "      <th>order_id</th>\n",
       "      <th>user_id</th>\n",
       "      <th>order_number</th>\n",
       "      <th>order_dow</th>\n",
       "      <th>order_hour_of_day</th>\n",
       "      <th>days_since_prior_order</th>\n",
       "      <th>add_to_cart_order</th>\n",
       "      <th>reordered</th>\n",
       "      <th>_merge</th>\n",
       "      <th>_merge2</th>\n",
       "    </tr>\n",
       "  </thead>\n",
       "  <tbody>\n",
       "    <tr>\n",
       "      <th>0</th>\n",
       "      <td>0</td>\n",
       "      <td>1</td>\n",
       "      <td>Chocolate Sandwich Cookies</td>\n",
       "      <td>61</td>\n",
       "      <td>19</td>\n",
       "      <td>5.8</td>\n",
       "      <td>3139998</td>\n",
       "      <td>138</td>\n",
       "      <td>28</td>\n",
       "      <td>6</td>\n",
       "      <td>11</td>\n",
       "      <td>3.0</td>\n",
       "      <td>5</td>\n",
       "      <td>0</td>\n",
       "      <td>both</td>\n",
       "      <td>both</td>\n",
       "    </tr>\n",
       "    <tr>\n",
       "      <th>1</th>\n",
       "      <td>0</td>\n",
       "      <td>1</td>\n",
       "      <td>Chocolate Sandwich Cookies</td>\n",
       "      <td>61</td>\n",
       "      <td>19</td>\n",
       "      <td>5.8</td>\n",
       "      <td>1977647</td>\n",
       "      <td>138</td>\n",
       "      <td>30</td>\n",
       "      <td>6</td>\n",
       "      <td>17</td>\n",
       "      <td>20.0</td>\n",
       "      <td>1</td>\n",
       "      <td>1</td>\n",
       "      <td>both</td>\n",
       "      <td>both</td>\n",
       "    </tr>\n",
       "    <tr>\n",
       "      <th>2</th>\n",
       "      <td>0</td>\n",
       "      <td>1</td>\n",
       "      <td>Chocolate Sandwich Cookies</td>\n",
       "      <td>61</td>\n",
       "      <td>19</td>\n",
       "      <td>5.8</td>\n",
       "      <td>389851</td>\n",
       "      <td>709</td>\n",
       "      <td>2</td>\n",
       "      <td>0</td>\n",
       "      <td>21</td>\n",
       "      <td>6.0</td>\n",
       "      <td>20</td>\n",
       "      <td>0</td>\n",
       "      <td>both</td>\n",
       "      <td>both</td>\n",
       "    </tr>\n",
       "    <tr>\n",
       "      <th>3</th>\n",
       "      <td>0</td>\n",
       "      <td>1</td>\n",
       "      <td>Chocolate Sandwich Cookies</td>\n",
       "      <td>61</td>\n",
       "      <td>19</td>\n",
       "      <td>5.8</td>\n",
       "      <td>652770</td>\n",
       "      <td>764</td>\n",
       "      <td>1</td>\n",
       "      <td>3</td>\n",
       "      <td>13</td>\n",
       "      <td>0.0</td>\n",
       "      <td>10</td>\n",
       "      <td>0</td>\n",
       "      <td>both</td>\n",
       "      <td>both</td>\n",
       "    </tr>\n",
       "    <tr>\n",
       "      <th>4</th>\n",
       "      <td>0</td>\n",
       "      <td>1</td>\n",
       "      <td>Chocolate Sandwich Cookies</td>\n",
       "      <td>61</td>\n",
       "      <td>19</td>\n",
       "      <td>5.8</td>\n",
       "      <td>1813452</td>\n",
       "      <td>764</td>\n",
       "      <td>3</td>\n",
       "      <td>4</td>\n",
       "      <td>17</td>\n",
       "      <td>9.0</td>\n",
       "      <td>11</td>\n",
       "      <td>1</td>\n",
       "      <td>both</td>\n",
       "      <td>both</td>\n",
       "    </tr>\n",
       "  </tbody>\n",
       "</table>\n",
       "</div>"
      ],
      "text/plain": [
       "   Unnamed: 0  product_id                product_name  aisle_id  \\\n",
       "0           0           1  Chocolate Sandwich Cookies        61   \n",
       "1           0           1  Chocolate Sandwich Cookies        61   \n",
       "2           0           1  Chocolate Sandwich Cookies        61   \n",
       "3           0           1  Chocolate Sandwich Cookies        61   \n",
       "4           0           1  Chocolate Sandwich Cookies        61   \n",
       "\n",
       "   department_id  prices  order_id  user_id  order_number  order_dow  \\\n",
       "0             19     5.8   3139998      138            28          6   \n",
       "1             19     5.8   1977647      138            30          6   \n",
       "2             19     5.8    389851      709             2          0   \n",
       "3             19     5.8    652770      764             1          3   \n",
       "4             19     5.8   1813452      764             3          4   \n",
       "\n",
       "   order_hour_of_day  days_since_prior_order  add_to_cart_order  reordered  \\\n",
       "0                 11                     3.0                  5          0   \n",
       "1                 17                    20.0                  1          1   \n",
       "2                 21                     6.0                 20          0   \n",
       "3                 13                     0.0                 10          0   \n",
       "4                 17                     9.0                 11          1   \n",
       "\n",
       "  _merge _merge2  \n",
       "0   both    both  \n",
       "1   both    both  \n",
       "2   both    both  \n",
       "3   both    both  \n",
       "4   both    both  "
      ]
     },
     "execution_count": 32,
     "metadata": {},
     "output_type": "execute_result"
    }
   ],
   "source": [
    "df_orders_products_merged.head()"
   ]
  },
  {
   "cell_type": "code",
   "execution_count": 33,
   "id": "5b8170bc",
   "metadata": {
    "ExecuteTime": {
     "end_time": "2022-11-09T23:23:46.994806Z",
     "start_time": "2022-11-09T23:23:46.990630Z"
    },
    "code_folding": [],
    "execution": {
     "iopub.execute_input": "2023-04-24T13:20:45.560629Z",
     "iopub.status.busy": "2023-04-24T13:20:45.560056Z",
     "iopub.status.idle": "2023-04-24T13:20:45.565851Z",
     "shell.execute_reply": "2023-04-24T13:20:45.564967Z",
     "shell.execute_reply.started": "2023-04-24T13:20:45.560602Z"
    }
   },
   "outputs": [],
   "source": [
    "def price_label(row):\n",
    "\n",
    "  if row['prices'] <= 5:\n",
    "    return 'Low-range product'\n",
    "  elif (row['prices'] > 5) and (row['prices'] <= 15):\n",
    "    return 'Mid-range product'\n",
    "  elif row['prices'] > 15:\n",
    "    return 'High range'\n",
    "  else: return 'Not enough data'"
   ]
  },
  {
   "cell_type": "code",
   "execution_count": 34,
   "id": "960d451d",
   "metadata": {
    "ExecuteTime": {
     "end_time": "2022-11-09T23:23:47.000374Z",
     "start_time": "2022-11-09T23:23:46.996406Z"
    },
    "execution": {
     "iopub.execute_input": "2023-04-24T13:20:45.567755Z",
     "iopub.status.busy": "2023-04-24T13:20:45.567231Z",
     "iopub.status.idle": "2023-04-24T13:20:45.572841Z",
     "shell.execute_reply": "2023-04-24T13:20:45.571939Z",
     "shell.execute_reply.started": "2023-04-24T13:20:45.567715Z"
    }
   },
   "outputs": [],
   "source": [
    "# Holy crap, adding a column to this whole DataFrame in place takes over seven minutes and north of 12GB of memory on my EC2 instance.\n",
    "# It's no wonder the Exercise suggests working with just the first million rows."
   ]
  },
  {
   "cell_type": "code",
   "execution_count": 35,
   "id": "c248c7a0",
   "metadata": {
    "ExecuteTime": {
     "end_time": "2022-11-09T23:31:28.609628Z",
     "start_time": "2022-11-09T23:23:47.002472Z"
    },
    "execution": {
     "iopub.execute_input": "2023-04-24T13:20:45.575270Z",
     "iopub.status.busy": "2023-04-24T13:20:45.574526Z",
     "iopub.status.idle": "2023-04-24T13:31:30.948413Z",
     "shell.execute_reply": "2023-04-24T13:31:30.947709Z",
     "shell.execute_reply.started": "2023-04-24T13:20:45.575218Z"
    }
   },
   "outputs": [],
   "source": [
    "df_orders_products_merged['price_range'] = df_orders_products_merged.apply(price_label, axis=1)"
   ]
  },
  {
   "cell_type": "code",
   "execution_count": 36,
   "id": "2c0bdba9",
   "metadata": {
    "ExecuteTime": {
     "end_time": "2022-11-09T23:31:28.626819Z",
     "start_time": "2022-11-09T23:31:28.611718Z"
    },
    "execution": {
     "iopub.execute_input": "2023-04-24T13:31:30.949712Z",
     "iopub.status.busy": "2023-04-24T13:31:30.949506Z",
     "iopub.status.idle": "2023-04-24T13:31:30.967013Z",
     "shell.execute_reply": "2023-04-24T13:31:30.966209Z",
     "shell.execute_reply.started": "2023-04-24T13:31:30.949688Z"
    },
    "scrolled": true
   },
   "outputs": [
    {
     "data": {
      "text/html": [
       "<div>\n",
       "<style scoped>\n",
       "    .dataframe tbody tr th:only-of-type {\n",
       "        vertical-align: middle;\n",
       "    }\n",
       "\n",
       "    .dataframe tbody tr th {\n",
       "        vertical-align: top;\n",
       "    }\n",
       "\n",
       "    .dataframe thead th {\n",
       "        text-align: right;\n",
       "    }\n",
       "</style>\n",
       "<table border=\"1\" class=\"dataframe\">\n",
       "  <thead>\n",
       "    <tr style=\"text-align: right;\">\n",
       "      <th></th>\n",
       "      <th>Unnamed: 0</th>\n",
       "      <th>product_id</th>\n",
       "      <th>product_name</th>\n",
       "      <th>aisle_id</th>\n",
       "      <th>department_id</th>\n",
       "      <th>prices</th>\n",
       "      <th>order_id</th>\n",
       "      <th>user_id</th>\n",
       "      <th>order_number</th>\n",
       "      <th>order_dow</th>\n",
       "      <th>order_hour_of_day</th>\n",
       "      <th>days_since_prior_order</th>\n",
       "      <th>add_to_cart_order</th>\n",
       "      <th>reordered</th>\n",
       "      <th>_merge</th>\n",
       "      <th>_merge2</th>\n",
       "      <th>price_range</th>\n",
       "    </tr>\n",
       "  </thead>\n",
       "  <tbody>\n",
       "    <tr>\n",
       "      <th>0</th>\n",
       "      <td>0</td>\n",
       "      <td>1</td>\n",
       "      <td>Chocolate Sandwich Cookies</td>\n",
       "      <td>61</td>\n",
       "      <td>19</td>\n",
       "      <td>5.8</td>\n",
       "      <td>3139998</td>\n",
       "      <td>138</td>\n",
       "      <td>28</td>\n",
       "      <td>6</td>\n",
       "      <td>11</td>\n",
       "      <td>3.0</td>\n",
       "      <td>5</td>\n",
       "      <td>0</td>\n",
       "      <td>both</td>\n",
       "      <td>both</td>\n",
       "      <td>Mid-range product</td>\n",
       "    </tr>\n",
       "    <tr>\n",
       "      <th>1</th>\n",
       "      <td>0</td>\n",
       "      <td>1</td>\n",
       "      <td>Chocolate Sandwich Cookies</td>\n",
       "      <td>61</td>\n",
       "      <td>19</td>\n",
       "      <td>5.8</td>\n",
       "      <td>1977647</td>\n",
       "      <td>138</td>\n",
       "      <td>30</td>\n",
       "      <td>6</td>\n",
       "      <td>17</td>\n",
       "      <td>20.0</td>\n",
       "      <td>1</td>\n",
       "      <td>1</td>\n",
       "      <td>both</td>\n",
       "      <td>both</td>\n",
       "      <td>Mid-range product</td>\n",
       "    </tr>\n",
       "    <tr>\n",
       "      <th>2</th>\n",
       "      <td>0</td>\n",
       "      <td>1</td>\n",
       "      <td>Chocolate Sandwich Cookies</td>\n",
       "      <td>61</td>\n",
       "      <td>19</td>\n",
       "      <td>5.8</td>\n",
       "      <td>389851</td>\n",
       "      <td>709</td>\n",
       "      <td>2</td>\n",
       "      <td>0</td>\n",
       "      <td>21</td>\n",
       "      <td>6.0</td>\n",
       "      <td>20</td>\n",
       "      <td>0</td>\n",
       "      <td>both</td>\n",
       "      <td>both</td>\n",
       "      <td>Mid-range product</td>\n",
       "    </tr>\n",
       "    <tr>\n",
       "      <th>3</th>\n",
       "      <td>0</td>\n",
       "      <td>1</td>\n",
       "      <td>Chocolate Sandwich Cookies</td>\n",
       "      <td>61</td>\n",
       "      <td>19</td>\n",
       "      <td>5.8</td>\n",
       "      <td>652770</td>\n",
       "      <td>764</td>\n",
       "      <td>1</td>\n",
       "      <td>3</td>\n",
       "      <td>13</td>\n",
       "      <td>0.0</td>\n",
       "      <td>10</td>\n",
       "      <td>0</td>\n",
       "      <td>both</td>\n",
       "      <td>both</td>\n",
       "      <td>Mid-range product</td>\n",
       "    </tr>\n",
       "    <tr>\n",
       "      <th>4</th>\n",
       "      <td>0</td>\n",
       "      <td>1</td>\n",
       "      <td>Chocolate Sandwich Cookies</td>\n",
       "      <td>61</td>\n",
       "      <td>19</td>\n",
       "      <td>5.8</td>\n",
       "      <td>1813452</td>\n",
       "      <td>764</td>\n",
       "      <td>3</td>\n",
       "      <td>4</td>\n",
       "      <td>17</td>\n",
       "      <td>9.0</td>\n",
       "      <td>11</td>\n",
       "      <td>1</td>\n",
       "      <td>both</td>\n",
       "      <td>both</td>\n",
       "      <td>Mid-range product</td>\n",
       "    </tr>\n",
       "  </tbody>\n",
       "</table>\n",
       "</div>"
      ],
      "text/plain": [
       "   Unnamed: 0  product_id                product_name  aisle_id  \\\n",
       "0           0           1  Chocolate Sandwich Cookies        61   \n",
       "1           0           1  Chocolate Sandwich Cookies        61   \n",
       "2           0           1  Chocolate Sandwich Cookies        61   \n",
       "3           0           1  Chocolate Sandwich Cookies        61   \n",
       "4           0           1  Chocolate Sandwich Cookies        61   \n",
       "\n",
       "   department_id  prices  order_id  user_id  order_number  order_dow  \\\n",
       "0             19     5.8   3139998      138            28          6   \n",
       "1             19     5.8   1977647      138            30          6   \n",
       "2             19     5.8    389851      709             2          0   \n",
       "3             19     5.8    652770      764             1          3   \n",
       "4             19     5.8   1813452      764             3          4   \n",
       "\n",
       "   order_hour_of_day  days_since_prior_order  add_to_cart_order  reordered  \\\n",
       "0                 11                     3.0                  5          0   \n",
       "1                 17                    20.0                  1          1   \n",
       "2                 21                     6.0                 20          0   \n",
       "3                 13                     0.0                 10          0   \n",
       "4                 17                     9.0                 11          1   \n",
       "\n",
       "  _merge _merge2        price_range  \n",
       "0   both    both  Mid-range product  \n",
       "1   both    both  Mid-range product  \n",
       "2   both    both  Mid-range product  \n",
       "3   both    both  Mid-range product  \n",
       "4   both    both  Mid-range product  "
      ]
     },
     "execution_count": 36,
     "metadata": {},
     "output_type": "execute_result"
    }
   ],
   "source": [
    "df_orders_products_merged.head()"
   ]
  },
  {
   "cell_type": "code",
   "execution_count": 37,
   "id": "592f1fa4",
   "metadata": {
    "ExecuteTime": {
     "end_time": "2022-11-09T23:31:28.632973Z",
     "start_time": "2022-11-09T23:31:28.628414Z"
    },
    "execution": {
     "iopub.execute_input": "2023-04-24T13:31:30.968461Z",
     "iopub.status.busy": "2023-04-24T13:31:30.968192Z",
     "iopub.status.idle": "2023-04-24T13:31:30.974779Z",
     "shell.execute_reply": "2023-04-24T13:31:30.973860Z",
     "shell.execute_reply.started": "2023-04-24T13:31:30.968436Z"
    }
   },
   "outputs": [
    {
     "data": {
      "text/plain": [
       "(32404859, 17)"
      ]
     },
     "execution_count": 37,
     "metadata": {},
     "output_type": "execute_result"
    }
   ],
   "source": [
    "df_orders_products_merged.shape"
   ]
  },
  {
   "cell_type": "code",
   "execution_count": 38,
   "id": "17823f98",
   "metadata": {
    "ExecuteTime": {
     "end_time": "2022-11-09T23:31:29.125712Z",
     "start_time": "2022-11-09T23:31:28.634867Z"
    },
    "execution": {
     "iopub.execute_input": "2023-04-24T13:31:30.976095Z",
     "iopub.status.busy": "2023-04-24T13:31:30.975896Z",
     "iopub.status.idle": "2023-04-24T13:31:31.441764Z",
     "shell.execute_reply": "2023-04-24T13:31:31.440968Z",
     "shell.execute_reply.started": "2023-04-24T13:31:30.976072Z"
    }
   },
   "outputs": [
    {
     "data": {
      "text/plain": [
       "Mid-range product    21860860\n",
       "Low-range product    10126321\n",
       "High range             417678\n",
       "Name: price_range, dtype: int64"
      ]
     },
     "execution_count": 38,
     "metadata": {},
     "output_type": "execute_result"
    }
   ],
   "source": [
    "df_orders_products_merged['price_range'].value_counts(dropna = False)"
   ]
  },
  {
   "cell_type": "code",
   "execution_count": 39,
   "id": "6dd1d864",
   "metadata": {
    "ExecuteTime": {
     "end_time": "2022-11-09T23:31:29.133115Z",
     "start_time": "2022-11-09T23:31:29.127803Z"
    },
    "execution": {
     "iopub.execute_input": "2023-04-24T13:31:31.443500Z",
     "iopub.status.busy": "2023-04-24T13:31:31.442967Z",
     "iopub.status.idle": "2023-04-24T13:31:31.446875Z",
     "shell.execute_reply": "2023-04-24T13:31:31.445956Z",
     "shell.execute_reply.started": "2023-04-24T13:31:31.443468Z"
    }
   },
   "outputs": [],
   "source": [
    "# A maximum price of precisely 99999.0 sounds like there could be placeholders in play."
   ]
  },
  {
   "cell_type": "code",
   "execution_count": 40,
   "id": "019fe4fc",
   "metadata": {
    "ExecuteTime": {
     "end_time": "2022-11-09T23:31:29.173808Z",
     "start_time": "2022-11-09T23:31:29.134740Z"
    },
    "execution": {
     "iopub.execute_input": "2023-04-24T13:31:31.448163Z",
     "iopub.status.busy": "2023-04-24T13:31:31.447911Z",
     "iopub.status.idle": "2023-04-24T13:31:31.516107Z",
     "shell.execute_reply": "2023-04-24T13:31:31.515346Z",
     "shell.execute_reply.started": "2023-04-24T13:31:31.448133Z"
    }
   },
   "outputs": [
    {
     "data": {
      "text/plain": [
       "99999.0"
      ]
     },
     "execution_count": 40,
     "metadata": {},
     "output_type": "execute_result"
    }
   ],
   "source": [
    "df_orders_products_merged['prices'].max()"
   ]
  },
  {
   "cell_type": "code",
   "execution_count": 41,
   "id": "05674226",
   "metadata": {
    "ExecuteTime": {
     "end_time": "2022-11-09T23:31:29.177938Z",
     "start_time": "2022-11-09T23:31:29.175474Z"
    },
    "execution": {
     "iopub.execute_input": "2023-04-24T13:31:31.518032Z",
     "iopub.status.busy": "2023-04-24T13:31:31.517317Z",
     "iopub.status.idle": "2023-04-24T13:31:31.521633Z",
     "shell.execute_reply": "2023-04-24T13:31:31.520755Z",
     "shell.execute_reply.started": "2023-04-24T13:31:31.517992Z"
    }
   },
   "outputs": [],
   "source": [
    "# Even holier crap:  the built-in loc() function is nearly 150 times faster than our User-Defined Function (UDF)."
   ]
  },
  {
   "cell_type": "code",
   "execution_count": 42,
   "id": "598846c8",
   "metadata": {
    "ExecuteTime": {
     "end_time": "2022-11-09T23:31:30.953762Z",
     "start_time": "2022-11-09T23:31:29.179493Z"
    },
    "execution": {
     "iopub.execute_input": "2023-04-24T13:31:31.523286Z",
     "iopub.status.busy": "2023-04-24T13:31:31.523032Z",
     "iopub.status.idle": "2023-04-24T13:31:33.070973Z",
     "shell.execute_reply": "2023-04-24T13:31:33.070202Z",
     "shell.execute_reply.started": "2023-04-24T13:31:31.523260Z"
    }
   },
   "outputs": [],
   "source": [
    "df_orders_products_merged.loc[df_orders_products_merged['prices'] > 15, 'price_range_loc'] = 'High-range product'"
   ]
  },
  {
   "cell_type": "code",
   "execution_count": 43,
   "id": "607a6784",
   "metadata": {
    "ExecuteTime": {
     "end_time": "2022-11-09T23:31:32.055014Z",
     "start_time": "2022-11-09T23:31:30.955560Z"
    },
    "execution": {
     "iopub.execute_input": "2023-04-24T13:31:33.072090Z",
     "iopub.status.busy": "2023-04-24T13:31:33.071902Z",
     "iopub.status.idle": "2023-04-24T13:31:34.182411Z",
     "shell.execute_reply": "2023-04-24T13:31:34.181609Z",
     "shell.execute_reply.started": "2023-04-24T13:31:33.072067Z"
    }
   },
   "outputs": [],
   "source": [
    "df_orders_products_merged.loc[(df_orders_products_merged['prices'] <= 15) & (df_orders_products_merged['prices'] > 5), 'price_range_loc'] = 'Mid-range product' "
   ]
  },
  {
   "cell_type": "code",
   "execution_count": 44,
   "id": "343fb097",
   "metadata": {
    "ExecuteTime": {
     "end_time": "2022-11-09T23:31:32.495081Z",
     "start_time": "2022-11-09T23:31:32.056824Z"
    },
    "execution": {
     "iopub.execute_input": "2023-04-24T13:31:34.183523Z",
     "iopub.status.busy": "2023-04-24T13:31:34.183353Z",
     "iopub.status.idle": "2023-04-24T13:31:34.664922Z",
     "shell.execute_reply": "2023-04-24T13:31:34.664241Z",
     "shell.execute_reply.started": "2023-04-24T13:31:34.183500Z"
    }
   },
   "outputs": [],
   "source": [
    " df_orders_products_merged.loc[df_orders_products_merged['prices'] <= 5, 'price_range_loc'] = 'Low-range product'"
   ]
  },
  {
   "cell_type": "code",
   "execution_count": 45,
   "id": "851a2033",
   "metadata": {
    "ExecuteTime": {
     "end_time": "2022-11-09T23:31:32.985701Z",
     "start_time": "2022-11-09T23:31:32.496966Z"
    },
    "execution": {
     "iopub.execute_input": "2023-04-24T13:31:34.666016Z",
     "iopub.status.busy": "2023-04-24T13:31:34.665829Z",
     "iopub.status.idle": "2023-04-24T13:31:35.136105Z",
     "shell.execute_reply": "2023-04-24T13:31:35.135349Z",
     "shell.execute_reply.started": "2023-04-24T13:31:34.665993Z"
    }
   },
   "outputs": [
    {
     "data": {
      "text/plain": [
       "Mid-range product     21860860\n",
       "Low-range product     10126321\n",
       "High-range product      417678\n",
       "Name: price_range_loc, dtype: int64"
      ]
     },
     "execution_count": 45,
     "metadata": {},
     "output_type": "execute_result"
    }
   ],
   "source": [
    "df_orders_products_merged['price_range_loc'].value_counts(dropna = False)"
   ]
  },
  {
   "cell_type": "code",
   "execution_count": 46,
   "id": "f11213a2",
   "metadata": {
    "ExecuteTime": {
     "end_time": "2022-11-09T23:31:32.991396Z",
     "start_time": "2022-11-09T23:31:32.987327Z"
    },
    "execution": {
     "iopub.execute_input": "2023-04-24T13:31:35.137667Z",
     "iopub.status.busy": "2023-04-24T13:31:35.137229Z",
     "iopub.status.idle": "2023-04-24T13:31:35.142547Z",
     "shell.execute_reply": "2023-04-24T13:31:35.141730Z",
     "shell.execute_reply.started": "2023-04-24T13:31:35.137640Z"
    }
   },
   "outputs": [
    {
     "data": {
      "text/plain": [
       "(32404859, 18)"
      ]
     },
     "execution_count": 46,
     "metadata": {},
     "output_type": "execute_result"
    }
   ],
   "source": [
    "df_orders_products_merged.shape"
   ]
  },
  {
   "cell_type": "code",
   "execution_count": 47,
   "id": "312cb63c",
   "metadata": {
    "ExecuteTime": {
     "end_time": "2022-11-09T23:31:33.007824Z",
     "start_time": "2022-11-09T23:31:32.992984Z"
    },
    "execution": {
     "iopub.execute_input": "2023-04-24T13:31:35.144008Z",
     "iopub.status.busy": "2023-04-24T13:31:35.143691Z",
     "iopub.status.idle": "2023-04-24T13:31:35.162141Z",
     "shell.execute_reply": "2023-04-24T13:31:35.160759Z",
     "shell.execute_reply.started": "2023-04-24T13:31:35.143982Z"
    }
   },
   "outputs": [
    {
     "data": {
      "text/html": [
       "<div>\n",
       "<style scoped>\n",
       "    .dataframe tbody tr th:only-of-type {\n",
       "        vertical-align: middle;\n",
       "    }\n",
       "\n",
       "    .dataframe tbody tr th {\n",
       "        vertical-align: top;\n",
       "    }\n",
       "\n",
       "    .dataframe thead th {\n",
       "        text-align: right;\n",
       "    }\n",
       "</style>\n",
       "<table border=\"1\" class=\"dataframe\">\n",
       "  <thead>\n",
       "    <tr style=\"text-align: right;\">\n",
       "      <th></th>\n",
       "      <th>Unnamed: 0</th>\n",
       "      <th>product_id</th>\n",
       "      <th>product_name</th>\n",
       "      <th>aisle_id</th>\n",
       "      <th>department_id</th>\n",
       "      <th>prices</th>\n",
       "      <th>order_id</th>\n",
       "      <th>user_id</th>\n",
       "      <th>order_number</th>\n",
       "      <th>order_dow</th>\n",
       "      <th>order_hour_of_day</th>\n",
       "      <th>days_since_prior_order</th>\n",
       "      <th>add_to_cart_order</th>\n",
       "      <th>reordered</th>\n",
       "      <th>_merge</th>\n",
       "      <th>_merge2</th>\n",
       "      <th>price_range</th>\n",
       "      <th>price_range_loc</th>\n",
       "    </tr>\n",
       "  </thead>\n",
       "  <tbody>\n",
       "    <tr>\n",
       "      <th>0</th>\n",
       "      <td>0</td>\n",
       "      <td>1</td>\n",
       "      <td>Chocolate Sandwich Cookies</td>\n",
       "      <td>61</td>\n",
       "      <td>19</td>\n",
       "      <td>5.8</td>\n",
       "      <td>3139998</td>\n",
       "      <td>138</td>\n",
       "      <td>28</td>\n",
       "      <td>6</td>\n",
       "      <td>11</td>\n",
       "      <td>3.0</td>\n",
       "      <td>5</td>\n",
       "      <td>0</td>\n",
       "      <td>both</td>\n",
       "      <td>both</td>\n",
       "      <td>Mid-range product</td>\n",
       "      <td>Mid-range product</td>\n",
       "    </tr>\n",
       "    <tr>\n",
       "      <th>1</th>\n",
       "      <td>0</td>\n",
       "      <td>1</td>\n",
       "      <td>Chocolate Sandwich Cookies</td>\n",
       "      <td>61</td>\n",
       "      <td>19</td>\n",
       "      <td>5.8</td>\n",
       "      <td>1977647</td>\n",
       "      <td>138</td>\n",
       "      <td>30</td>\n",
       "      <td>6</td>\n",
       "      <td>17</td>\n",
       "      <td>20.0</td>\n",
       "      <td>1</td>\n",
       "      <td>1</td>\n",
       "      <td>both</td>\n",
       "      <td>both</td>\n",
       "      <td>Mid-range product</td>\n",
       "      <td>Mid-range product</td>\n",
       "    </tr>\n",
       "    <tr>\n",
       "      <th>2</th>\n",
       "      <td>0</td>\n",
       "      <td>1</td>\n",
       "      <td>Chocolate Sandwich Cookies</td>\n",
       "      <td>61</td>\n",
       "      <td>19</td>\n",
       "      <td>5.8</td>\n",
       "      <td>389851</td>\n",
       "      <td>709</td>\n",
       "      <td>2</td>\n",
       "      <td>0</td>\n",
       "      <td>21</td>\n",
       "      <td>6.0</td>\n",
       "      <td>20</td>\n",
       "      <td>0</td>\n",
       "      <td>both</td>\n",
       "      <td>both</td>\n",
       "      <td>Mid-range product</td>\n",
       "      <td>Mid-range product</td>\n",
       "    </tr>\n",
       "    <tr>\n",
       "      <th>3</th>\n",
       "      <td>0</td>\n",
       "      <td>1</td>\n",
       "      <td>Chocolate Sandwich Cookies</td>\n",
       "      <td>61</td>\n",
       "      <td>19</td>\n",
       "      <td>5.8</td>\n",
       "      <td>652770</td>\n",
       "      <td>764</td>\n",
       "      <td>1</td>\n",
       "      <td>3</td>\n",
       "      <td>13</td>\n",
       "      <td>0.0</td>\n",
       "      <td>10</td>\n",
       "      <td>0</td>\n",
       "      <td>both</td>\n",
       "      <td>both</td>\n",
       "      <td>Mid-range product</td>\n",
       "      <td>Mid-range product</td>\n",
       "    </tr>\n",
       "    <tr>\n",
       "      <th>4</th>\n",
       "      <td>0</td>\n",
       "      <td>1</td>\n",
       "      <td>Chocolate Sandwich Cookies</td>\n",
       "      <td>61</td>\n",
       "      <td>19</td>\n",
       "      <td>5.8</td>\n",
       "      <td>1813452</td>\n",
       "      <td>764</td>\n",
       "      <td>3</td>\n",
       "      <td>4</td>\n",
       "      <td>17</td>\n",
       "      <td>9.0</td>\n",
       "      <td>11</td>\n",
       "      <td>1</td>\n",
       "      <td>both</td>\n",
       "      <td>both</td>\n",
       "      <td>Mid-range product</td>\n",
       "      <td>Mid-range product</td>\n",
       "    </tr>\n",
       "  </tbody>\n",
       "</table>\n",
       "</div>"
      ],
      "text/plain": [
       "   Unnamed: 0  product_id                product_name  aisle_id  \\\n",
       "0           0           1  Chocolate Sandwich Cookies        61   \n",
       "1           0           1  Chocolate Sandwich Cookies        61   \n",
       "2           0           1  Chocolate Sandwich Cookies        61   \n",
       "3           0           1  Chocolate Sandwich Cookies        61   \n",
       "4           0           1  Chocolate Sandwich Cookies        61   \n",
       "\n",
       "   department_id  prices  order_id  user_id  order_number  order_dow  \\\n",
       "0             19     5.8   3139998      138            28          6   \n",
       "1             19     5.8   1977647      138            30          6   \n",
       "2             19     5.8    389851      709             2          0   \n",
       "3             19     5.8    652770      764             1          3   \n",
       "4             19     5.8   1813452      764             3          4   \n",
       "\n",
       "   order_hour_of_day  days_since_prior_order  add_to_cart_order  reordered  \\\n",
       "0                 11                     3.0                  5          0   \n",
       "1                 17                    20.0                  1          1   \n",
       "2                 21                     6.0                 20          0   \n",
       "3                 13                     0.0                 10          0   \n",
       "4                 17                     9.0                 11          1   \n",
       "\n",
       "  _merge _merge2        price_range    price_range_loc  \n",
       "0   both    both  Mid-range product  Mid-range product  \n",
       "1   both    both  Mid-range product  Mid-range product  \n",
       "2   both    both  Mid-range product  Mid-range product  \n",
       "3   both    both  Mid-range product  Mid-range product  \n",
       "4   both    both  Mid-range product  Mid-range product  "
      ]
     },
     "execution_count": 47,
     "metadata": {},
     "output_type": "execute_result"
    }
   ],
   "source": [
    "df_orders_products_merged.head()"
   ]
  },
  {
   "cell_type": "code",
   "execution_count": 48,
   "id": "528c6fdc",
   "metadata": {
    "ExecuteTime": {
     "end_time": "2022-11-09T23:31:33.013239Z",
     "start_time": "2022-11-09T23:31:33.009643Z"
    },
    "execution": {
     "iopub.execute_input": "2023-04-24T13:31:35.163603Z",
     "iopub.status.busy": "2023-04-24T13:31:35.163352Z",
     "iopub.status.idle": "2023-04-24T13:31:35.168559Z",
     "shell.execute_reply": "2023-04-24T13:31:35.167625Z",
     "shell.execute_reply.started": "2023-04-24T13:31:35.163570Z"
    }
   },
   "outputs": [],
   "source": [
    "# The following is a very interesting way of building a new column, but I must say I think it makes\n",
    "# more sense to combine the following steps, i.e. append the new column to each row as we process it."
   ]
  },
  {
   "cell_type": "code",
   "execution_count": 49,
   "id": "10bcdebd",
   "metadata": {
    "ExecuteTime": {
     "end_time": "2022-11-09T23:31:33.018958Z",
     "start_time": "2022-11-09T23:31:33.015148Z"
    },
    "execution": {
     "iopub.execute_input": "2023-04-24T13:31:35.169618Z",
     "iopub.status.busy": "2023-04-24T13:31:35.169395Z",
     "iopub.status.idle": "2023-04-24T13:31:35.174927Z",
     "shell.execute_reply": "2023-04-24T13:31:35.173622Z",
     "shell.execute_reply.started": "2023-04-24T13:31:35.169593Z"
    }
   },
   "outputs": [],
   "source": [
    "# Step #1:  Build the new column, 'result', as a list.  Note that my DF has an 'order_dow' column, rather than\n",
    "# an 'orders_day_of_week' column.  Have I mixed up DFs somewhere. or is the Exercise author confused?\n",
    "# ANSWER:  YES, I MESSED UP IN PREVIOUS SCRIPTS AND RELOADED THE ORIGINAL, NON-WRANGLED orders.csv.  I am fixing this all now."
   ]
  },
  {
   "cell_type": "code",
   "execution_count": 50,
   "id": "8faf82e4",
   "metadata": {
    "ExecuteTime": {
     "end_time": "2022-11-09T23:31:40.996384Z",
     "start_time": "2022-11-09T23:31:33.020523Z"
    },
    "execution": {
     "iopub.execute_input": "2023-04-24T13:31:35.176106Z",
     "iopub.status.busy": "2023-04-24T13:31:35.175911Z",
     "iopub.status.idle": "2023-04-24T13:31:43.035474Z",
     "shell.execute_reply": "2023-04-24T13:31:43.034785Z",
     "shell.execute_reply.started": "2023-04-24T13:31:35.176083Z"
    }
   },
   "outputs": [],
   "source": [
    "result = []\n",
    "\n",
    "for value in df_orders_products_merged[\"orders_day_of_week\"]:\n",
    "  if value == 0:\n",
    "    result.append(\"Busiest day\")\n",
    "  elif value == 4:\n",
    "    result.append(\"Least busy\")\n",
    "  else:\n",
    "    result.append(\"Regularly busy\")"
   ]
  },
  {
   "cell_type": "code",
   "execution_count": 51,
   "id": "6ed26bf0",
   "metadata": {
    "ExecuteTime": {
     "end_time": "2022-11-09T23:31:41.000810Z",
     "start_time": "2022-11-09T23:31:40.998259Z"
    },
    "execution": {
     "iopub.execute_input": "2023-04-24T13:31:43.036492Z",
     "iopub.status.busy": "2023-04-24T13:31:43.036313Z",
     "iopub.status.idle": "2023-04-24T13:31:43.040007Z",
     "shell.execute_reply": "2023-04-24T13:31:43.039297Z",
     "shell.execute_reply.started": "2023-04-24T13:31:43.036469Z"
    }
   },
   "outputs": [],
   "source": [
    "# Step #2:  Tack the set of results on to the DF as a new column, 'busiest_day'."
   ]
  },
  {
   "cell_type": "code",
   "execution_count": 52,
   "id": "fcad7469",
   "metadata": {
    "ExecuteTime": {
     "end_time": "2022-11-09T23:31:42.273194Z",
     "start_time": "2022-11-09T23:31:41.002347Z"
    },
    "execution": {
     "iopub.execute_input": "2023-04-24T13:31:43.040845Z",
     "iopub.status.busy": "2023-04-24T13:31:43.040675Z",
     "iopub.status.idle": "2023-04-24T13:31:44.309831Z",
     "shell.execute_reply": "2023-04-24T13:31:44.308761Z",
     "shell.execute_reply.started": "2023-04-24T13:31:43.040824Z"
    }
   },
   "outputs": [],
   "source": [
    "df_orders_products_merged['busiest_day'] = result"
   ]
  },
  {
   "cell_type": "code",
   "execution_count": 53,
   "id": "ba503308",
   "metadata": {
    "ExecuteTime": {
     "end_time": "2022-11-09T23:31:42.763839Z",
     "start_time": "2022-11-09T23:31:42.275293Z"
    },
    "execution": {
     "iopub.execute_input": "2023-04-24T13:31:44.311433Z",
     "iopub.status.busy": "2023-04-24T13:31:44.310865Z",
     "iopub.status.idle": "2023-04-24T13:31:44.801553Z",
     "shell.execute_reply": "2023-04-24T13:31:44.800743Z",
     "shell.execute_reply.started": "2023-04-24T13:31:44.311407Z"
    }
   },
   "outputs": [
    {
     "data": {
      "text/plain": [
       "Regularly busy    22416875\n",
       "Busiest day        6204182\n",
       "Least busy         3783802\n",
       "Name: busiest_day, dtype: int64"
      ]
     },
     "execution_count": 53,
     "metadata": {},
     "output_type": "execute_result"
    }
   ],
   "source": [
    "df_orders_products_merged['busiest_day'].value_counts(dropna = False)"
   ]
  },
  {
   "cell_type": "code",
   "execution_count": 54,
   "id": "127a4ea7",
   "metadata": {
    "ExecuteTime": {
     "end_time": "2022-11-09T23:31:42.938392Z",
     "start_time": "2022-11-09T23:31:42.765475Z"
    },
    "execution": {
     "iopub.execute_input": "2023-04-24T13:31:44.802903Z",
     "iopub.status.busy": "2023-04-24T13:31:44.802535Z",
     "iopub.status.idle": "2023-04-24T13:31:45.008459Z",
     "shell.execute_reply": "2023-04-24T13:31:45.007736Z",
     "shell.execute_reply.started": "2023-04-24T13:31:44.802877Z"
    },
    "scrolled": true
   },
   "outputs": [
    {
     "data": {
      "text/plain": [
       "0    6204182\n",
       "1    5660230\n",
       "6    4496490\n",
       "2    4213830\n",
       "5    4205791\n",
       "3    3840534\n",
       "4    3783802\n",
       "Name: order_dow, dtype: int64"
      ]
     },
     "execution_count": 54,
     "metadata": {},
     "output_type": "execute_result"
    }
   ],
   "source": [
    "df_orders_products_merged['orders_day_of_week'].value_counts(dropna = False)"
   ]
  },
  {
   "cell_type": "code",
   "execution_count": 55,
   "id": "9096bc9e",
   "metadata": {
    "ExecuteTime": {
     "end_time": "2022-11-09T23:31:42.946353Z",
     "start_time": "2022-11-09T23:31:42.940443Z"
    },
    "execution": {
     "iopub.execute_input": "2023-04-24T13:31:45.010098Z",
     "iopub.status.busy": "2023-04-24T13:31:45.009434Z",
     "iopub.status.idle": "2023-04-24T13:31:45.014971Z",
     "shell.execute_reply": "2023-04-24T13:31:45.014422Z",
     "shell.execute_reply.started": "2023-04-24T13:31:45.010073Z"
    }
   },
   "outputs": [
    {
     "data": {
      "text/plain": [
       "(32404859, 19)"
      ]
     },
     "execution_count": 55,
     "metadata": {},
     "output_type": "execute_result"
    }
   ],
   "source": [
    "df_orders_products_merged.shape"
   ]
  },
  {
   "cell_type": "code",
   "execution_count": 56,
   "id": "d156742a",
   "metadata": {
    "ExecuteTime": {
     "end_time": "2022-11-09T23:31:43.103211Z",
     "start_time": "2022-11-09T23:31:42.947933Z"
    },
    "execution": {
     "iopub.execute_input": "2023-04-24T13:31:45.016548Z",
     "iopub.status.busy": "2023-04-24T13:31:45.015912Z",
     "iopub.status.idle": "2023-04-24T13:31:45.164592Z",
     "shell.execute_reply": "2023-04-24T13:31:45.163571Z",
     "shell.execute_reply.started": "2023-04-24T13:31:45.016518Z"
    },
    "scrolled": true
   },
   "outputs": [
    {
     "data": {
      "text/html": [
       "<div>\n",
       "<style scoped>\n",
       "    .dataframe tbody tr th:only-of-type {\n",
       "        vertical-align: middle;\n",
       "    }\n",
       "\n",
       "    .dataframe tbody tr th {\n",
       "        vertical-align: top;\n",
       "    }\n",
       "\n",
       "    .dataframe thead th {\n",
       "        text-align: right;\n",
       "    }\n",
       "</style>\n",
       "<table border=\"1\" class=\"dataframe\">\n",
       "  <thead>\n",
       "    <tr style=\"text-align: right;\">\n",
       "      <th></th>\n",
       "      <th>Unnamed: 0</th>\n",
       "      <th>product_id</th>\n",
       "      <th>product_name</th>\n",
       "      <th>aisle_id</th>\n",
       "      <th>department_id</th>\n",
       "      <th>prices</th>\n",
       "      <th>order_id</th>\n",
       "      <th>user_id</th>\n",
       "      <th>order_number</th>\n",
       "      <th>order_dow</th>\n",
       "      <th>order_hour_of_day</th>\n",
       "      <th>days_since_prior_order</th>\n",
       "      <th>add_to_cart_order</th>\n",
       "      <th>reordered</th>\n",
       "      <th>_merge</th>\n",
       "      <th>_merge2</th>\n",
       "      <th>price_range</th>\n",
       "      <th>price_range_loc</th>\n",
       "      <th>busiest_day</th>\n",
       "    </tr>\n",
       "  </thead>\n",
       "  <tbody>\n",
       "    <tr>\n",
       "      <th>0</th>\n",
       "      <td>0</td>\n",
       "      <td>1</td>\n",
       "      <td>Chocolate Sandwich Cookies</td>\n",
       "      <td>61</td>\n",
       "      <td>19</td>\n",
       "      <td>5.8</td>\n",
       "      <td>3139998</td>\n",
       "      <td>138</td>\n",
       "      <td>28</td>\n",
       "      <td>6</td>\n",
       "      <td>11</td>\n",
       "      <td>3.0</td>\n",
       "      <td>5</td>\n",
       "      <td>0</td>\n",
       "      <td>both</td>\n",
       "      <td>both</td>\n",
       "      <td>Mid-range product</td>\n",
       "      <td>Mid-range product</td>\n",
       "      <td>Regularly busy</td>\n",
       "    </tr>\n",
       "    <tr>\n",
       "      <th>1</th>\n",
       "      <td>0</td>\n",
       "      <td>1</td>\n",
       "      <td>Chocolate Sandwich Cookies</td>\n",
       "      <td>61</td>\n",
       "      <td>19</td>\n",
       "      <td>5.8</td>\n",
       "      <td>1977647</td>\n",
       "      <td>138</td>\n",
       "      <td>30</td>\n",
       "      <td>6</td>\n",
       "      <td>17</td>\n",
       "      <td>20.0</td>\n",
       "      <td>1</td>\n",
       "      <td>1</td>\n",
       "      <td>both</td>\n",
       "      <td>both</td>\n",
       "      <td>Mid-range product</td>\n",
       "      <td>Mid-range product</td>\n",
       "      <td>Regularly busy</td>\n",
       "    </tr>\n",
       "    <tr>\n",
       "      <th>2</th>\n",
       "      <td>0</td>\n",
       "      <td>1</td>\n",
       "      <td>Chocolate Sandwich Cookies</td>\n",
       "      <td>61</td>\n",
       "      <td>19</td>\n",
       "      <td>5.8</td>\n",
       "      <td>389851</td>\n",
       "      <td>709</td>\n",
       "      <td>2</td>\n",
       "      <td>0</td>\n",
       "      <td>21</td>\n",
       "      <td>6.0</td>\n",
       "      <td>20</td>\n",
       "      <td>0</td>\n",
       "      <td>both</td>\n",
       "      <td>both</td>\n",
       "      <td>Mid-range product</td>\n",
       "      <td>Mid-range product</td>\n",
       "      <td>Busiest day</td>\n",
       "    </tr>\n",
       "    <tr>\n",
       "      <th>3</th>\n",
       "      <td>0</td>\n",
       "      <td>1</td>\n",
       "      <td>Chocolate Sandwich Cookies</td>\n",
       "      <td>61</td>\n",
       "      <td>19</td>\n",
       "      <td>5.8</td>\n",
       "      <td>652770</td>\n",
       "      <td>764</td>\n",
       "      <td>1</td>\n",
       "      <td>3</td>\n",
       "      <td>13</td>\n",
       "      <td>0.0</td>\n",
       "      <td>10</td>\n",
       "      <td>0</td>\n",
       "      <td>both</td>\n",
       "      <td>both</td>\n",
       "      <td>Mid-range product</td>\n",
       "      <td>Mid-range product</td>\n",
       "      <td>Regularly busy</td>\n",
       "    </tr>\n",
       "    <tr>\n",
       "      <th>4</th>\n",
       "      <td>0</td>\n",
       "      <td>1</td>\n",
       "      <td>Chocolate Sandwich Cookies</td>\n",
       "      <td>61</td>\n",
       "      <td>19</td>\n",
       "      <td>5.8</td>\n",
       "      <td>1813452</td>\n",
       "      <td>764</td>\n",
       "      <td>3</td>\n",
       "      <td>4</td>\n",
       "      <td>17</td>\n",
       "      <td>9.0</td>\n",
       "      <td>11</td>\n",
       "      <td>1</td>\n",
       "      <td>both</td>\n",
       "      <td>both</td>\n",
       "      <td>Mid-range product</td>\n",
       "      <td>Mid-range product</td>\n",
       "      <td>Least busy</td>\n",
       "    </tr>\n",
       "  </tbody>\n",
       "</table>\n",
       "</div>"
      ],
      "text/plain": [
       "   Unnamed: 0  product_id                product_name  aisle_id  \\\n",
       "0           0           1  Chocolate Sandwich Cookies        61   \n",
       "1           0           1  Chocolate Sandwich Cookies        61   \n",
       "2           0           1  Chocolate Sandwich Cookies        61   \n",
       "3           0           1  Chocolate Sandwich Cookies        61   \n",
       "4           0           1  Chocolate Sandwich Cookies        61   \n",
       "\n",
       "   department_id  prices  order_id  user_id  order_number  order_dow  \\\n",
       "0             19     5.8   3139998      138            28          6   \n",
       "1             19     5.8   1977647      138            30          6   \n",
       "2             19     5.8    389851      709             2          0   \n",
       "3             19     5.8    652770      764             1          3   \n",
       "4             19     5.8   1813452      764             3          4   \n",
       "\n",
       "   order_hour_of_day  days_since_prior_order  add_to_cart_order  reordered  \\\n",
       "0                 11                     3.0                  5          0   \n",
       "1                 17                    20.0                  1          1   \n",
       "2                 21                     6.0                 20          0   \n",
       "3                 13                     0.0                 10          0   \n",
       "4                 17                     9.0                 11          1   \n",
       "\n",
       "  _merge _merge2        price_range    price_range_loc     busiest_day  \n",
       "0   both    both  Mid-range product  Mid-range product  Regularly busy  \n",
       "1   both    both  Mid-range product  Mid-range product  Regularly busy  \n",
       "2   both    both  Mid-range product  Mid-range product     Busiest day  \n",
       "3   both    both  Mid-range product  Mid-range product  Regularly busy  \n",
       "4   both    both  Mid-range product  Mid-range product      Least busy  "
      ]
     },
     "execution_count": 56,
     "metadata": {},
     "output_type": "execute_result"
    }
   ],
   "source": [
    "df_orders_products_merged.head()"
   ]
  },
  {
   "cell_type": "markdown",
   "id": "49dab23b",
   "metadata": {},
   "source": [
    "# Beginning TASK 4.7"
   ]
  },
  {
   "cell_type": "markdown",
   "id": "eaa6322d",
   "metadata": {},
   "source": [
    "## Step #1:  If you haven’t done so already, complete the instructions in the Exercise for creating the “price_label” and “busiest_day” columns."
   ]
  },
  {
   "cell_type": "markdown",
   "id": "d977c92c",
   "metadata": {},
   "source": [
    "### Done during the Exercise, above.\n",
    "### I think the “price_label” column is really supposed to be the \"price_range\" column.  “price_label” is the name of the User Defined Function that was used to generate the \"price_range\" column."
   ]
  },
  {
   "cell_type": "markdown",
   "id": "90bbda53",
   "metadata": {},
   "source": [
    "## Step #2:  Suppose your clients have changed their minds about the labels you created in your “busiest_day” column. Now, they want “Busiest day” to become “Busiest days” (plural). This label should correspond with the two busiest days of the week as opposed to the single busiest day. At the same time, they’d also like to know the two slowest days. Create a new column for this using a suitable method."
   ]
  },
  {
   "cell_type": "markdown",
   "id": "f004d536",
   "metadata": {},
   "source": [
    "### Rather than create Yet Another column for this big DataFrame as instructed, I'm going to rename the column and fill it with the new set of values in place, to save on memory.  This not only seems more sensible and practical, it appears to be more in accord with the task rubric, which says, '“busiest_day” updated to “busiest_days”'."
   ]
  },
  {
   "cell_type": "code",
   "execution_count": 57,
   "id": "fcf8431d",
   "metadata": {
    "ExecuteTime": {
     "end_time": "2022-11-09T23:31:43.108110Z",
     "start_time": "2022-11-09T23:31:43.104869Z"
    },
    "execution": {
     "iopub.execute_input": "2023-04-24T13:31:45.166870Z",
     "iopub.status.busy": "2023-04-24T13:31:45.166149Z",
     "iopub.status.idle": "2023-04-24T13:31:45.170450Z",
     "shell.execute_reply": "2023-04-24T13:31:45.169798Z",
     "shell.execute_reply.started": "2023-04-24T13:31:45.166817Z"
    }
   },
   "outputs": [],
   "source": [
    "# Rename the existing column."
   ]
  },
  {
   "cell_type": "code",
   "execution_count": 58,
   "id": "f5f94b9c",
   "metadata": {
    "ExecuteTime": {
     "end_time": "2022-11-09T23:31:43.114626Z",
     "start_time": "2022-11-09T23:31:43.109771Z"
    },
    "execution": {
     "iopub.execute_input": "2023-04-24T13:31:45.171909Z",
     "iopub.status.busy": "2023-04-24T13:31:45.171560Z",
     "iopub.status.idle": "2023-04-24T13:31:45.176283Z",
     "shell.execute_reply": "2023-04-24T13:31:45.175614Z",
     "shell.execute_reply.started": "2023-04-24T13:31:45.171880Z"
    }
   },
   "outputs": [],
   "source": [
    "df_orders_products_merged.rename(columns={\"busiest_day\": \"busiest_days\"}, inplace=True)"
   ]
  },
  {
   "cell_type": "code",
   "execution_count": 59,
   "id": "0a6a96f5",
   "metadata": {
    "ExecuteTime": {
     "end_time": "2022-11-09T23:31:43.132230Z",
     "start_time": "2022-11-09T23:31:43.116381Z"
    },
    "execution": {
     "iopub.execute_input": "2023-04-24T13:31:45.177663Z",
     "iopub.status.busy": "2023-04-24T13:31:45.177260Z",
     "iopub.status.idle": "2023-04-24T13:31:45.198230Z",
     "shell.execute_reply": "2023-04-24T13:31:45.197375Z",
     "shell.execute_reply.started": "2023-04-24T13:31:45.177638Z"
    }
   },
   "outputs": [
    {
     "data": {
      "text/html": [
       "<div>\n",
       "<style scoped>\n",
       "    .dataframe tbody tr th:only-of-type {\n",
       "        vertical-align: middle;\n",
       "    }\n",
       "\n",
       "    .dataframe tbody tr th {\n",
       "        vertical-align: top;\n",
       "    }\n",
       "\n",
       "    .dataframe thead th {\n",
       "        text-align: right;\n",
       "    }\n",
       "</style>\n",
       "<table border=\"1\" class=\"dataframe\">\n",
       "  <thead>\n",
       "    <tr style=\"text-align: right;\">\n",
       "      <th></th>\n",
       "      <th>Unnamed: 0</th>\n",
       "      <th>product_id</th>\n",
       "      <th>product_name</th>\n",
       "      <th>aisle_id</th>\n",
       "      <th>department_id</th>\n",
       "      <th>prices</th>\n",
       "      <th>order_id</th>\n",
       "      <th>user_id</th>\n",
       "      <th>order_number</th>\n",
       "      <th>order_dow</th>\n",
       "      <th>order_hour_of_day</th>\n",
       "      <th>days_since_prior_order</th>\n",
       "      <th>add_to_cart_order</th>\n",
       "      <th>reordered</th>\n",
       "      <th>_merge</th>\n",
       "      <th>_merge2</th>\n",
       "      <th>price_range</th>\n",
       "      <th>price_range_loc</th>\n",
       "      <th>busiest_days</th>\n",
       "    </tr>\n",
       "  </thead>\n",
       "  <tbody>\n",
       "    <tr>\n",
       "      <th>0</th>\n",
       "      <td>0</td>\n",
       "      <td>1</td>\n",
       "      <td>Chocolate Sandwich Cookies</td>\n",
       "      <td>61</td>\n",
       "      <td>19</td>\n",
       "      <td>5.8</td>\n",
       "      <td>3139998</td>\n",
       "      <td>138</td>\n",
       "      <td>28</td>\n",
       "      <td>6</td>\n",
       "      <td>11</td>\n",
       "      <td>3.0</td>\n",
       "      <td>5</td>\n",
       "      <td>0</td>\n",
       "      <td>both</td>\n",
       "      <td>both</td>\n",
       "      <td>Mid-range product</td>\n",
       "      <td>Mid-range product</td>\n",
       "      <td>Regularly busy</td>\n",
       "    </tr>\n",
       "    <tr>\n",
       "      <th>1</th>\n",
       "      <td>0</td>\n",
       "      <td>1</td>\n",
       "      <td>Chocolate Sandwich Cookies</td>\n",
       "      <td>61</td>\n",
       "      <td>19</td>\n",
       "      <td>5.8</td>\n",
       "      <td>1977647</td>\n",
       "      <td>138</td>\n",
       "      <td>30</td>\n",
       "      <td>6</td>\n",
       "      <td>17</td>\n",
       "      <td>20.0</td>\n",
       "      <td>1</td>\n",
       "      <td>1</td>\n",
       "      <td>both</td>\n",
       "      <td>both</td>\n",
       "      <td>Mid-range product</td>\n",
       "      <td>Mid-range product</td>\n",
       "      <td>Regularly busy</td>\n",
       "    </tr>\n",
       "    <tr>\n",
       "      <th>2</th>\n",
       "      <td>0</td>\n",
       "      <td>1</td>\n",
       "      <td>Chocolate Sandwich Cookies</td>\n",
       "      <td>61</td>\n",
       "      <td>19</td>\n",
       "      <td>5.8</td>\n",
       "      <td>389851</td>\n",
       "      <td>709</td>\n",
       "      <td>2</td>\n",
       "      <td>0</td>\n",
       "      <td>21</td>\n",
       "      <td>6.0</td>\n",
       "      <td>20</td>\n",
       "      <td>0</td>\n",
       "      <td>both</td>\n",
       "      <td>both</td>\n",
       "      <td>Mid-range product</td>\n",
       "      <td>Mid-range product</td>\n",
       "      <td>Busiest day</td>\n",
       "    </tr>\n",
       "    <tr>\n",
       "      <th>3</th>\n",
       "      <td>0</td>\n",
       "      <td>1</td>\n",
       "      <td>Chocolate Sandwich Cookies</td>\n",
       "      <td>61</td>\n",
       "      <td>19</td>\n",
       "      <td>5.8</td>\n",
       "      <td>652770</td>\n",
       "      <td>764</td>\n",
       "      <td>1</td>\n",
       "      <td>3</td>\n",
       "      <td>13</td>\n",
       "      <td>0.0</td>\n",
       "      <td>10</td>\n",
       "      <td>0</td>\n",
       "      <td>both</td>\n",
       "      <td>both</td>\n",
       "      <td>Mid-range product</td>\n",
       "      <td>Mid-range product</td>\n",
       "      <td>Regularly busy</td>\n",
       "    </tr>\n",
       "    <tr>\n",
       "      <th>4</th>\n",
       "      <td>0</td>\n",
       "      <td>1</td>\n",
       "      <td>Chocolate Sandwich Cookies</td>\n",
       "      <td>61</td>\n",
       "      <td>19</td>\n",
       "      <td>5.8</td>\n",
       "      <td>1813452</td>\n",
       "      <td>764</td>\n",
       "      <td>3</td>\n",
       "      <td>4</td>\n",
       "      <td>17</td>\n",
       "      <td>9.0</td>\n",
       "      <td>11</td>\n",
       "      <td>1</td>\n",
       "      <td>both</td>\n",
       "      <td>both</td>\n",
       "      <td>Mid-range product</td>\n",
       "      <td>Mid-range product</td>\n",
       "      <td>Least busy</td>\n",
       "    </tr>\n",
       "  </tbody>\n",
       "</table>\n",
       "</div>"
      ],
      "text/plain": [
       "   Unnamed: 0  product_id                product_name  aisle_id  \\\n",
       "0           0           1  Chocolate Sandwich Cookies        61   \n",
       "1           0           1  Chocolate Sandwich Cookies        61   \n",
       "2           0           1  Chocolate Sandwich Cookies        61   \n",
       "3           0           1  Chocolate Sandwich Cookies        61   \n",
       "4           0           1  Chocolate Sandwich Cookies        61   \n",
       "\n",
       "   department_id  prices  order_id  user_id  order_number  order_dow  \\\n",
       "0             19     5.8   3139998      138            28          6   \n",
       "1             19     5.8   1977647      138            30          6   \n",
       "2             19     5.8    389851      709             2          0   \n",
       "3             19     5.8    652770      764             1          3   \n",
       "4             19     5.8   1813452      764             3          4   \n",
       "\n",
       "   order_hour_of_day  days_since_prior_order  add_to_cart_order  reordered  \\\n",
       "0                 11                     3.0                  5          0   \n",
       "1                 17                    20.0                  1          1   \n",
       "2                 21                     6.0                 20          0   \n",
       "3                 13                     0.0                 10          0   \n",
       "4                 17                     9.0                 11          1   \n",
       "\n",
       "  _merge _merge2        price_range    price_range_loc    busiest_days  \n",
       "0   both    both  Mid-range product  Mid-range product  Regularly busy  \n",
       "1   both    both  Mid-range product  Mid-range product  Regularly busy  \n",
       "2   both    both  Mid-range product  Mid-range product     Busiest day  \n",
       "3   both    both  Mid-range product  Mid-range product  Regularly busy  \n",
       "4   both    both  Mid-range product  Mid-range product      Least busy  "
      ]
     },
     "execution_count": 59,
     "metadata": {},
     "output_type": "execute_result"
    }
   ],
   "source": [
    "df_orders_products_merged.head()"
   ]
  },
  {
   "cell_type": "code",
   "execution_count": 60,
   "id": "fbe66268",
   "metadata": {
    "ExecuteTime": {
     "end_time": "2022-11-09T23:31:43.137249Z",
     "start_time": "2022-11-09T23:31:43.133734Z"
    },
    "execution": {
     "iopub.execute_input": "2023-04-24T13:31:45.199657Z",
     "iopub.status.busy": "2023-04-24T13:31:45.199426Z",
     "iopub.status.idle": "2023-04-24T13:31:45.203212Z",
     "shell.execute_reply": "2023-04-24T13:31:45.202341Z",
     "shell.execute_reply.started": "2023-04-24T13:31:45.199632Z"
    }
   },
   "outputs": [],
   "source": [
    "# Re-use our previous method - even if a two-step method seems inefiicient to me - to fill in the new values."
   ]
  },
  {
   "cell_type": "code",
   "execution_count": 61,
   "id": "a04ebba5",
   "metadata": {
    "ExecuteTime": {
     "end_time": "2022-11-09T23:31:43.142947Z",
     "start_time": "2022-11-09T23:31:43.138793Z"
    },
    "execution": {
     "iopub.execute_input": "2023-04-24T13:31:45.205375Z",
     "iopub.status.busy": "2023-04-24T13:31:45.204492Z",
     "iopub.status.idle": "2023-04-24T13:31:45.209596Z",
     "shell.execute_reply": "2023-04-24T13:31:45.208560Z",
     "shell.execute_reply.started": "2023-04-24T13:31:45.205334Z"
    }
   },
   "outputs": [],
   "source": [
    "# Step A:  Build the new column, 'result', as a list.  Note that my DF has an 'order_dow' column, rather than\n",
    "# an 'orders_day_of_week' column.  Have I mixed up DFs somewhere. or is the Exercise author confused?\n",
    "# ANSWER:  YES, I MESSED UP IN PREVIOUS SCRIPTS AND RELOADED THE ORIGINAL, NON-WRANGLED orders.csv.  I am fixing this all now."
   ]
  },
  {
   "cell_type": "code",
   "execution_count": 62,
   "id": "758c23a8",
   "metadata": {
    "ExecuteTime": {
     "end_time": "2022-11-09T23:31:52.928262Z",
     "start_time": "2022-11-09T23:31:43.144471Z"
    },
    "execution": {
     "iopub.execute_input": "2023-04-24T13:31:45.211388Z",
     "iopub.status.busy": "2023-04-24T13:31:45.211065Z",
     "iopub.status.idle": "2023-04-24T13:31:55.071268Z",
     "shell.execute_reply": "2023-04-24T13:31:55.070590Z",
     "shell.execute_reply.started": "2023-04-24T13:31:45.211353Z"
    }
   },
   "outputs": [],
   "source": [
    "result = []\n",
    "\n",
    "for value in df_orders_products_merged[\"orders_day_of_week\"]:\n",
    "  if (value == 0 or value == 1):\n",
    "    result.append(\"Busiest days\")\n",
    "  elif (value == 4 or value == 3):\n",
    "    result.append(\"Least busy days\")\n",
    "  else:\n",
    "    result.append(\"Regularly busy\")"
   ]
  },
  {
   "cell_type": "code",
   "execution_count": 63,
   "id": "5608be6b",
   "metadata": {
    "ExecuteTime": {
     "end_time": "2022-11-09T23:31:52.932738Z",
     "start_time": "2022-11-09T23:31:52.930080Z"
    },
    "execution": {
     "iopub.execute_input": "2023-04-24T13:31:55.072887Z",
     "iopub.status.busy": "2023-04-24T13:31:55.072299Z",
     "iopub.status.idle": "2023-04-24T13:31:55.077588Z",
     "shell.execute_reply": "2023-04-24T13:31:55.076585Z",
     "shell.execute_reply.started": "2023-04-24T13:31:55.072850Z"
    }
   },
   "outputs": [],
   "source": [
    "# Step B:  Tack the set of results on to the DataFrame column, 'busiest_days'."
   ]
  },
  {
   "cell_type": "code",
   "execution_count": 64,
   "id": "c992b4b8",
   "metadata": {
    "ExecuteTime": {
     "end_time": "2022-11-09T23:31:54.180648Z",
     "start_time": "2022-11-09T23:31:52.934355Z"
    },
    "execution": {
     "iopub.execute_input": "2023-04-24T13:31:55.078925Z",
     "iopub.status.busy": "2023-04-24T13:31:55.078709Z",
     "iopub.status.idle": "2023-04-24T13:31:56.307579Z",
     "shell.execute_reply": "2023-04-24T13:31:56.306853Z",
     "shell.execute_reply.started": "2023-04-24T13:31:55.078901Z"
    }
   },
   "outputs": [],
   "source": [
    "df_orders_products_merged['busiest_days'] = result"
   ]
  },
  {
   "cell_type": "markdown",
   "id": "9c221e43",
   "metadata": {},
   "source": [
    "## Step #3:  Check the values of this new column for accuracy. Note any observations in markdown format."
   ]
  },
  {
   "cell_type": "markdown",
   "id": "aec2a05c",
   "metadata": {},
   "source": [
    "### The value_counts results have shifted, as expected, but the totals still add up to the same sum as before, and all other results appear as expected."
   ]
  },
  {
   "cell_type": "code",
   "execution_count": 65,
   "id": "f857a885",
   "metadata": {
    "ExecuteTime": {
     "end_time": "2022-11-09T23:31:54.670301Z",
     "start_time": "2022-11-09T23:31:54.182788Z"
    },
    "execution": {
     "iopub.execute_input": "2023-04-24T13:31:56.308862Z",
     "iopub.status.busy": "2023-04-24T13:31:56.308679Z",
     "iopub.status.idle": "2023-04-24T13:31:56.787268Z",
     "shell.execute_reply": "2023-04-24T13:31:56.786591Z",
     "shell.execute_reply.started": "2023-04-24T13:31:56.308839Z"
    }
   },
   "outputs": [
    {
     "data": {
      "text/plain": [
       "Regularly busy     12916111\n",
       "Busiest days       11864412\n",
       "Least busy days     7624336\n",
       "Name: busiest_days, dtype: int64"
      ]
     },
     "execution_count": 65,
     "metadata": {},
     "output_type": "execute_result"
    }
   ],
   "source": [
    "df_orders_products_merged['busiest_days'].value_counts(dropna = False)"
   ]
  },
  {
   "cell_type": "code",
   "execution_count": 66,
   "id": "618bc8e0",
   "metadata": {
    "ExecuteTime": {
     "end_time": "2022-11-09T23:31:54.840957Z",
     "start_time": "2022-11-09T23:31:54.672269Z"
    },
    "execution": {
     "iopub.execute_input": "2023-04-24T13:31:56.788561Z",
     "iopub.status.busy": "2023-04-24T13:31:56.788341Z",
     "iopub.status.idle": "2023-04-24T13:31:56.993319Z",
     "shell.execute_reply": "2023-04-24T13:31:56.992242Z",
     "shell.execute_reply.started": "2023-04-24T13:31:56.788536Z"
    },
    "scrolled": true
   },
   "outputs": [
    {
     "data": {
      "text/plain": [
       "0    6204182\n",
       "1    5660230\n",
       "6    4496490\n",
       "2    4213830\n",
       "5    4205791\n",
       "3    3840534\n",
       "4    3783802\n",
       "Name: order_dow, dtype: int64"
      ]
     },
     "execution_count": 66,
     "metadata": {},
     "output_type": "execute_result"
    }
   ],
   "source": [
    "df_orders_products_merged['orders_day_of_week'].value_counts(dropna = False)"
   ]
  },
  {
   "cell_type": "code",
   "execution_count": 67,
   "id": "ccef88fc",
   "metadata": {
    "ExecuteTime": {
     "end_time": "2022-11-09T23:31:54.847305Z",
     "start_time": "2022-11-09T23:31:54.843219Z"
    },
    "execution": {
     "iopub.execute_input": "2023-04-24T13:31:56.995259Z",
     "iopub.status.busy": "2023-04-24T13:31:56.995026Z",
     "iopub.status.idle": "2023-04-24T13:31:57.000467Z",
     "shell.execute_reply": "2023-04-24T13:31:56.999984Z",
     "shell.execute_reply.started": "2023-04-24T13:31:56.995231Z"
    }
   },
   "outputs": [
    {
     "data": {
      "text/plain": [
       "(32404859, 19)"
      ]
     },
     "execution_count": 67,
     "metadata": {},
     "output_type": "execute_result"
    }
   ],
   "source": [
    "df_orders_products_merged.shape"
   ]
  },
  {
   "cell_type": "code",
   "execution_count": 68,
   "id": "607b95a7",
   "metadata": {
    "ExecuteTime": {
     "end_time": "2022-11-09T23:31:54.863800Z",
     "start_time": "2022-11-09T23:31:54.849221Z"
    },
    "execution": {
     "iopub.execute_input": "2023-04-24T13:31:57.001982Z",
     "iopub.status.busy": "2023-04-24T13:31:57.001373Z",
     "iopub.status.idle": "2023-04-24T13:31:57.020139Z",
     "shell.execute_reply": "2023-04-24T13:31:57.019587Z",
     "shell.execute_reply.started": "2023-04-24T13:31:57.001957Z"
    },
    "scrolled": true
   },
   "outputs": [
    {
     "data": {
      "text/html": [
       "<div>\n",
       "<style scoped>\n",
       "    .dataframe tbody tr th:only-of-type {\n",
       "        vertical-align: middle;\n",
       "    }\n",
       "\n",
       "    .dataframe tbody tr th {\n",
       "        vertical-align: top;\n",
       "    }\n",
       "\n",
       "    .dataframe thead th {\n",
       "        text-align: right;\n",
       "    }\n",
       "</style>\n",
       "<table border=\"1\" class=\"dataframe\">\n",
       "  <thead>\n",
       "    <tr style=\"text-align: right;\">\n",
       "      <th></th>\n",
       "      <th>Unnamed: 0</th>\n",
       "      <th>product_id</th>\n",
       "      <th>product_name</th>\n",
       "      <th>aisle_id</th>\n",
       "      <th>department_id</th>\n",
       "      <th>prices</th>\n",
       "      <th>order_id</th>\n",
       "      <th>user_id</th>\n",
       "      <th>order_number</th>\n",
       "      <th>order_dow</th>\n",
       "      <th>order_hour_of_day</th>\n",
       "      <th>days_since_prior_order</th>\n",
       "      <th>add_to_cart_order</th>\n",
       "      <th>reordered</th>\n",
       "      <th>_merge</th>\n",
       "      <th>_merge2</th>\n",
       "      <th>price_range</th>\n",
       "      <th>price_range_loc</th>\n",
       "      <th>busiest_days</th>\n",
       "    </tr>\n",
       "  </thead>\n",
       "  <tbody>\n",
       "    <tr>\n",
       "      <th>0</th>\n",
       "      <td>0</td>\n",
       "      <td>1</td>\n",
       "      <td>Chocolate Sandwich Cookies</td>\n",
       "      <td>61</td>\n",
       "      <td>19</td>\n",
       "      <td>5.8</td>\n",
       "      <td>3139998</td>\n",
       "      <td>138</td>\n",
       "      <td>28</td>\n",
       "      <td>6</td>\n",
       "      <td>11</td>\n",
       "      <td>3.0</td>\n",
       "      <td>5</td>\n",
       "      <td>0</td>\n",
       "      <td>both</td>\n",
       "      <td>both</td>\n",
       "      <td>Mid-range product</td>\n",
       "      <td>Mid-range product</td>\n",
       "      <td>Regularly busy</td>\n",
       "    </tr>\n",
       "    <tr>\n",
       "      <th>1</th>\n",
       "      <td>0</td>\n",
       "      <td>1</td>\n",
       "      <td>Chocolate Sandwich Cookies</td>\n",
       "      <td>61</td>\n",
       "      <td>19</td>\n",
       "      <td>5.8</td>\n",
       "      <td>1977647</td>\n",
       "      <td>138</td>\n",
       "      <td>30</td>\n",
       "      <td>6</td>\n",
       "      <td>17</td>\n",
       "      <td>20.0</td>\n",
       "      <td>1</td>\n",
       "      <td>1</td>\n",
       "      <td>both</td>\n",
       "      <td>both</td>\n",
       "      <td>Mid-range product</td>\n",
       "      <td>Mid-range product</td>\n",
       "      <td>Regularly busy</td>\n",
       "    </tr>\n",
       "    <tr>\n",
       "      <th>2</th>\n",
       "      <td>0</td>\n",
       "      <td>1</td>\n",
       "      <td>Chocolate Sandwich Cookies</td>\n",
       "      <td>61</td>\n",
       "      <td>19</td>\n",
       "      <td>5.8</td>\n",
       "      <td>389851</td>\n",
       "      <td>709</td>\n",
       "      <td>2</td>\n",
       "      <td>0</td>\n",
       "      <td>21</td>\n",
       "      <td>6.0</td>\n",
       "      <td>20</td>\n",
       "      <td>0</td>\n",
       "      <td>both</td>\n",
       "      <td>both</td>\n",
       "      <td>Mid-range product</td>\n",
       "      <td>Mid-range product</td>\n",
       "      <td>Busiest days</td>\n",
       "    </tr>\n",
       "    <tr>\n",
       "      <th>3</th>\n",
       "      <td>0</td>\n",
       "      <td>1</td>\n",
       "      <td>Chocolate Sandwich Cookies</td>\n",
       "      <td>61</td>\n",
       "      <td>19</td>\n",
       "      <td>5.8</td>\n",
       "      <td>652770</td>\n",
       "      <td>764</td>\n",
       "      <td>1</td>\n",
       "      <td>3</td>\n",
       "      <td>13</td>\n",
       "      <td>0.0</td>\n",
       "      <td>10</td>\n",
       "      <td>0</td>\n",
       "      <td>both</td>\n",
       "      <td>both</td>\n",
       "      <td>Mid-range product</td>\n",
       "      <td>Mid-range product</td>\n",
       "      <td>Least busy days</td>\n",
       "    </tr>\n",
       "    <tr>\n",
       "      <th>4</th>\n",
       "      <td>0</td>\n",
       "      <td>1</td>\n",
       "      <td>Chocolate Sandwich Cookies</td>\n",
       "      <td>61</td>\n",
       "      <td>19</td>\n",
       "      <td>5.8</td>\n",
       "      <td>1813452</td>\n",
       "      <td>764</td>\n",
       "      <td>3</td>\n",
       "      <td>4</td>\n",
       "      <td>17</td>\n",
       "      <td>9.0</td>\n",
       "      <td>11</td>\n",
       "      <td>1</td>\n",
       "      <td>both</td>\n",
       "      <td>both</td>\n",
       "      <td>Mid-range product</td>\n",
       "      <td>Mid-range product</td>\n",
       "      <td>Least busy days</td>\n",
       "    </tr>\n",
       "  </tbody>\n",
       "</table>\n",
       "</div>"
      ],
      "text/plain": [
       "   Unnamed: 0  product_id                product_name  aisle_id  \\\n",
       "0           0           1  Chocolate Sandwich Cookies        61   \n",
       "1           0           1  Chocolate Sandwich Cookies        61   \n",
       "2           0           1  Chocolate Sandwich Cookies        61   \n",
       "3           0           1  Chocolate Sandwich Cookies        61   \n",
       "4           0           1  Chocolate Sandwich Cookies        61   \n",
       "\n",
       "   department_id  prices  order_id  user_id  order_number  order_dow  \\\n",
       "0             19     5.8   3139998      138            28          6   \n",
       "1             19     5.8   1977647      138            30          6   \n",
       "2             19     5.8    389851      709             2          0   \n",
       "3             19     5.8    652770      764             1          3   \n",
       "4             19     5.8   1813452      764             3          4   \n",
       "\n",
       "   order_hour_of_day  days_since_prior_order  add_to_cart_order  reordered  \\\n",
       "0                 11                     3.0                  5          0   \n",
       "1                 17                    20.0                  1          1   \n",
       "2                 21                     6.0                 20          0   \n",
       "3                 13                     0.0                 10          0   \n",
       "4                 17                     9.0                 11          1   \n",
       "\n",
       "  _merge _merge2        price_range    price_range_loc     busiest_days  \n",
       "0   both    both  Mid-range product  Mid-range product   Regularly busy  \n",
       "1   both    both  Mid-range product  Mid-range product   Regularly busy  \n",
       "2   both    both  Mid-range product  Mid-range product     Busiest days  \n",
       "3   both    both  Mid-range product  Mid-range product  Least busy days  \n",
       "4   both    both  Mid-range product  Mid-range product  Least busy days  "
      ]
     },
     "execution_count": 68,
     "metadata": {},
     "output_type": "execute_result"
    }
   ],
   "source": [
    "df_orders_products_merged.head()"
   ]
  },
  {
   "cell_type": "markdown",
   "id": "6f11cabe",
   "metadata": {},
   "source": [
    "## Step #4:  When too many users make Instacart orders at the same time, the app freezes. The senior technical officer at Instacart wants you to identify the busiest hours of the day. Rather than by hour, they want periods of time labeled “Most orders,” “Average orders,” and “Fewest orders.” Create a new column containing these labels called “busiest_period_of_day.”"
   ]
  },
  {
   "cell_type": "markdown",
   "id": "d444a930",
   "metadata": {},
   "source": [
    "### To be realistic, we should look at the busiest hours of the whole week (or even month), rather than pretending that every day of the week has the same pattern, but this is just an exercise in Python, after all."
   ]
  },
  {
   "cell_type": "markdown",
   "id": "b15fafdc",
   "metadata": {},
   "source": [
    "### NOTE:  I choose to interpret these instructions similarly to how the busiest days were determined in Step #2, i.e. I'll choose the TWO busiest hours and the TWO least-busy hours."
   ]
  },
  {
   "cell_type": "code",
   "execution_count": 69,
   "id": "b14ed709",
   "metadata": {
    "ExecuteTime": {
     "end_time": "2022-11-09T23:31:54.868226Z",
     "start_time": "2022-11-09T23:31:54.865703Z"
    },
    "execution": {
     "iopub.execute_input": "2023-04-24T13:31:57.021552Z",
     "iopub.status.busy": "2023-04-24T13:31:57.020940Z",
     "iopub.status.idle": "2023-04-24T13:31:57.025034Z",
     "shell.execute_reply": "2023-04-24T13:31:57.024567Z",
     "shell.execute_reply.started": "2023-04-24T13:31:57.021527Z"
    }
   },
   "outputs": [],
   "source": [
    "# Using the same method as Step #2:  recycling code with replacments.\n",
    "# First, though, we need to find the busiest and least-busy hours:"
   ]
  },
  {
   "cell_type": "code",
   "execution_count": 70,
   "id": "e2de414e",
   "metadata": {
    "ExecuteTime": {
     "end_time": "2022-11-09T23:31:55.179600Z",
     "start_time": "2022-11-09T23:31:54.869796Z"
    },
    "execution": {
     "iopub.execute_input": "2023-04-24T13:31:57.026492Z",
     "iopub.status.busy": "2023-04-24T13:31:57.025845Z",
     "iopub.status.idle": "2023-04-24T13:31:57.377504Z",
     "shell.execute_reply": "2023-04-24T13:31:57.376853Z",
     "shell.execute_reply.started": "2023-04-24T13:31:57.026466Z"
    }
   },
   "outputs": [
    {
     "data": {
      "text/plain": [
       "10    2761760\n",
       "11    2736140\n",
       "14    2689136\n",
       "15    2662144\n",
       "13    2660954\n",
       "12    2618532\n",
       "16    2535202\n",
       "9     2454203\n",
       "17    2087654\n",
       "8     1718118\n",
       "18    1636502\n",
       "19    1258305\n",
       "20     976156\n",
       "7      891054\n",
       "21     795637\n",
       "22     634225\n",
       "23     402316\n",
       "6      290493\n",
       "0      218769\n",
       "1      115700\n",
       "5       87961\n",
       "2       69375\n",
       "4       53242\n",
       "3       51281\n",
       "Name: order_hour_of_day, dtype: int64"
      ]
     },
     "execution_count": 70,
     "metadata": {},
     "output_type": "execute_result"
    }
   ],
   "source": [
    "df_orders_products_merged['order_hour_of_day'].value_counts(dropna = False)"
   ]
  },
  {
   "cell_type": "code",
   "execution_count": 71,
   "id": "6b6dada6",
   "metadata": {
    "ExecuteTime": {
     "end_time": "2022-11-09T23:31:55.184541Z",
     "start_time": "2022-11-09T23:31:55.181329Z"
    },
    "execution": {
     "iopub.execute_input": "2023-04-24T13:31:57.378499Z",
     "iopub.status.busy": "2023-04-24T13:31:57.378304Z",
     "iopub.status.idle": "2023-04-24T13:31:57.384974Z",
     "shell.execute_reply": "2023-04-24T13:31:57.383951Z",
     "shell.execute_reply.started": "2023-04-24T13:31:57.378475Z"
    }
   },
   "outputs": [],
   "source": [
    "# Step A:  Build the new column, 'result', as a list."
   ]
  },
  {
   "cell_type": "code",
   "execution_count": 72,
   "id": "a7abf065",
   "metadata": {
    "ExecuteTime": {
     "end_time": "2022-11-09T23:32:06.062312Z",
     "start_time": "2022-11-09T23:31:55.186144Z"
    },
    "execution": {
     "iopub.execute_input": "2023-04-24T13:31:57.386249Z",
     "iopub.status.busy": "2023-04-24T13:31:57.386058Z",
     "iopub.status.idle": "2023-04-24T13:32:08.704317Z",
     "shell.execute_reply": "2023-04-24T13:32:08.703633Z",
     "shell.execute_reply.started": "2023-04-24T13:31:57.386225Z"
    }
   },
   "outputs": [],
   "source": [
    "result = []\n",
    "\n",
    "for value in df_orders_products_merged[\"order_hour_of_day\"]:\n",
    "  if (value == 10 or value == 11):\n",
    "    result.append(\"Busiest hours\")\n",
    "  elif (value == 4 or value == 3): # Huh.  The least-busy days are also the least-busy hours.\n",
    "    result.append(\"Least busy hours\")\n",
    "  else:\n",
    "    result.append(\"Regularly busy\")"
   ]
  },
  {
   "cell_type": "code",
   "execution_count": 73,
   "id": "fac92fca",
   "metadata": {
    "ExecuteTime": {
     "end_time": "2022-11-09T23:32:06.066754Z",
     "start_time": "2022-11-09T23:32:06.064072Z"
    },
    "execution": {
     "iopub.execute_input": "2023-04-24T13:32:08.705345Z",
     "iopub.status.busy": "2023-04-24T13:32:08.705137Z",
     "iopub.status.idle": "2023-04-24T13:32:08.710568Z",
     "shell.execute_reply": "2023-04-24T13:32:08.709587Z",
     "shell.execute_reply.started": "2023-04-24T13:32:08.705322Z"
    }
   },
   "outputs": [],
   "source": [
    "# Step B:  Tack the set of results on to the DataFrame column, 'busiest_hours'."
   ]
  },
  {
   "cell_type": "code",
   "execution_count": 74,
   "id": "1cf19ec6",
   "metadata": {
    "ExecuteTime": {
     "end_time": "2022-11-09T23:32:07.370730Z",
     "start_time": "2022-11-09T23:32:06.068445Z"
    },
    "execution": {
     "iopub.execute_input": "2023-04-24T13:32:08.713040Z",
     "iopub.status.busy": "2023-04-24T13:32:08.712177Z",
     "iopub.status.idle": "2023-04-24T13:32:09.977083Z",
     "shell.execute_reply": "2023-04-24T13:32:09.976229Z",
     "shell.execute_reply.started": "2023-04-24T13:32:08.712997Z"
    }
   },
   "outputs": [],
   "source": [
    "df_orders_products_merged['busiest_hours'] = result"
   ]
  },
  {
   "cell_type": "markdown",
   "id": "71bdc525",
   "metadata": {},
   "source": [
    "## Step #5:  Print the frequency for this new column."
   ]
  },
  {
   "cell_type": "markdown",
   "id": "adde60b0",
   "metadata": {},
   "source": [
    "### The numbers total the same expected sum (32,404,859)."
   ]
  },
  {
   "cell_type": "code",
   "execution_count": 75,
   "id": "bc772cdf",
   "metadata": {
    "ExecuteTime": {
     "end_time": "2022-11-09T23:32:07.863119Z",
     "start_time": "2022-11-09T23:32:07.372591Z"
    },
    "execution": {
     "iopub.execute_input": "2023-04-24T13:32:09.978361Z",
     "iopub.status.busy": "2023-04-24T13:32:09.978123Z",
     "iopub.status.idle": "2023-04-24T13:32:10.454524Z",
     "shell.execute_reply": "2023-04-24T13:32:10.453597Z",
     "shell.execute_reply.started": "2023-04-24T13:32:09.978334Z"
    }
   },
   "outputs": [
    {
     "data": {
      "text/plain": [
       "Regularly busy      26802436\n",
       "Busiest hours        5497900\n",
       "Least busy hours      104523\n",
       "Name: busiest_hours, dtype: int64"
      ]
     },
     "execution_count": 75,
     "metadata": {},
     "output_type": "execute_result"
    }
   ],
   "source": [
    "df_orders_products_merged['busiest_hours'].value_counts(dropna = False)"
   ]
  },
  {
   "cell_type": "code",
   "execution_count": 76,
   "id": "516f8f91",
   "metadata": {
    "ExecuteTime": {
     "end_time": "2022-11-09T23:32:07.867642Z",
     "start_time": "2022-11-09T23:32:07.865149Z"
    },
    "execution": {
     "iopub.execute_input": "2023-04-24T13:32:10.455704Z",
     "iopub.status.busy": "2023-04-24T13:32:10.455497Z",
     "iopub.status.idle": "2023-04-24T13:32:10.460479Z",
     "shell.execute_reply": "2023-04-24T13:32:10.459869Z",
     "shell.execute_reply.started": "2023-04-24T13:32:10.455680Z"
    }
   },
   "outputs": [],
   "source": [
    "# A couple of extra peeks, just for fun.  I expect a 20th column here."
   ]
  },
  {
   "cell_type": "code",
   "execution_count": 77,
   "id": "3fda8714",
   "metadata": {
    "ExecuteTime": {
     "end_time": "2022-11-09T23:32:07.873958Z",
     "start_time": "2022-11-09T23:32:07.869110Z"
    },
    "execution": {
     "iopub.execute_input": "2023-04-24T13:32:10.461840Z",
     "iopub.status.busy": "2023-04-24T13:32:10.461511Z",
     "iopub.status.idle": "2023-04-24T13:32:10.468777Z",
     "shell.execute_reply": "2023-04-24T13:32:10.468211Z",
     "shell.execute_reply.started": "2023-04-24T13:32:10.461814Z"
    }
   },
   "outputs": [
    {
     "data": {
      "text/plain": [
       "(32404859, 20)"
      ]
     },
     "execution_count": 77,
     "metadata": {},
     "output_type": "execute_result"
    }
   ],
   "source": [
    "df_orders_products_merged.shape"
   ]
  },
  {
   "cell_type": "code",
   "execution_count": 78,
   "id": "6ff31bd3",
   "metadata": {
    "ExecuteTime": {
     "end_time": "2022-11-09T23:32:07.891805Z",
     "start_time": "2022-11-09T23:32:07.875422Z"
    },
    "execution": {
     "iopub.execute_input": "2023-04-24T13:32:10.470064Z",
     "iopub.status.busy": "2023-04-24T13:32:10.469839Z",
     "iopub.status.idle": "2023-04-24T13:32:10.491143Z",
     "shell.execute_reply": "2023-04-24T13:32:10.490158Z",
     "shell.execute_reply.started": "2023-04-24T13:32:10.470039Z"
    },
    "scrolled": true
   },
   "outputs": [
    {
     "data": {
      "text/html": [
       "<div>\n",
       "<style scoped>\n",
       "    .dataframe tbody tr th:only-of-type {\n",
       "        vertical-align: middle;\n",
       "    }\n",
       "\n",
       "    .dataframe tbody tr th {\n",
       "        vertical-align: top;\n",
       "    }\n",
       "\n",
       "    .dataframe thead th {\n",
       "        text-align: right;\n",
       "    }\n",
       "</style>\n",
       "<table border=\"1\" class=\"dataframe\">\n",
       "  <thead>\n",
       "    <tr style=\"text-align: right;\">\n",
       "      <th></th>\n",
       "      <th>Unnamed: 0</th>\n",
       "      <th>product_id</th>\n",
       "      <th>product_name</th>\n",
       "      <th>aisle_id</th>\n",
       "      <th>department_id</th>\n",
       "      <th>prices</th>\n",
       "      <th>order_id</th>\n",
       "      <th>user_id</th>\n",
       "      <th>order_number</th>\n",
       "      <th>order_dow</th>\n",
       "      <th>order_hour_of_day</th>\n",
       "      <th>days_since_prior_order</th>\n",
       "      <th>add_to_cart_order</th>\n",
       "      <th>reordered</th>\n",
       "      <th>_merge</th>\n",
       "      <th>_merge2</th>\n",
       "      <th>price_range</th>\n",
       "      <th>price_range_loc</th>\n",
       "      <th>busiest_days</th>\n",
       "      <th>busiest_hours</th>\n",
       "    </tr>\n",
       "  </thead>\n",
       "  <tbody>\n",
       "    <tr>\n",
       "      <th>0</th>\n",
       "      <td>0</td>\n",
       "      <td>1</td>\n",
       "      <td>Chocolate Sandwich Cookies</td>\n",
       "      <td>61</td>\n",
       "      <td>19</td>\n",
       "      <td>5.8</td>\n",
       "      <td>3139998</td>\n",
       "      <td>138</td>\n",
       "      <td>28</td>\n",
       "      <td>6</td>\n",
       "      <td>11</td>\n",
       "      <td>3.0</td>\n",
       "      <td>5</td>\n",
       "      <td>0</td>\n",
       "      <td>both</td>\n",
       "      <td>both</td>\n",
       "      <td>Mid-range product</td>\n",
       "      <td>Mid-range product</td>\n",
       "      <td>Regularly busy</td>\n",
       "      <td>Busiest hours</td>\n",
       "    </tr>\n",
       "    <tr>\n",
       "      <th>1</th>\n",
       "      <td>0</td>\n",
       "      <td>1</td>\n",
       "      <td>Chocolate Sandwich Cookies</td>\n",
       "      <td>61</td>\n",
       "      <td>19</td>\n",
       "      <td>5.8</td>\n",
       "      <td>1977647</td>\n",
       "      <td>138</td>\n",
       "      <td>30</td>\n",
       "      <td>6</td>\n",
       "      <td>17</td>\n",
       "      <td>20.0</td>\n",
       "      <td>1</td>\n",
       "      <td>1</td>\n",
       "      <td>both</td>\n",
       "      <td>both</td>\n",
       "      <td>Mid-range product</td>\n",
       "      <td>Mid-range product</td>\n",
       "      <td>Regularly busy</td>\n",
       "      <td>Regularly busy</td>\n",
       "    </tr>\n",
       "    <tr>\n",
       "      <th>2</th>\n",
       "      <td>0</td>\n",
       "      <td>1</td>\n",
       "      <td>Chocolate Sandwich Cookies</td>\n",
       "      <td>61</td>\n",
       "      <td>19</td>\n",
       "      <td>5.8</td>\n",
       "      <td>389851</td>\n",
       "      <td>709</td>\n",
       "      <td>2</td>\n",
       "      <td>0</td>\n",
       "      <td>21</td>\n",
       "      <td>6.0</td>\n",
       "      <td>20</td>\n",
       "      <td>0</td>\n",
       "      <td>both</td>\n",
       "      <td>both</td>\n",
       "      <td>Mid-range product</td>\n",
       "      <td>Mid-range product</td>\n",
       "      <td>Busiest days</td>\n",
       "      <td>Regularly busy</td>\n",
       "    </tr>\n",
       "    <tr>\n",
       "      <th>3</th>\n",
       "      <td>0</td>\n",
       "      <td>1</td>\n",
       "      <td>Chocolate Sandwich Cookies</td>\n",
       "      <td>61</td>\n",
       "      <td>19</td>\n",
       "      <td>5.8</td>\n",
       "      <td>652770</td>\n",
       "      <td>764</td>\n",
       "      <td>1</td>\n",
       "      <td>3</td>\n",
       "      <td>13</td>\n",
       "      <td>0.0</td>\n",
       "      <td>10</td>\n",
       "      <td>0</td>\n",
       "      <td>both</td>\n",
       "      <td>both</td>\n",
       "      <td>Mid-range product</td>\n",
       "      <td>Mid-range product</td>\n",
       "      <td>Least busy days</td>\n",
       "      <td>Regularly busy</td>\n",
       "    </tr>\n",
       "    <tr>\n",
       "      <th>4</th>\n",
       "      <td>0</td>\n",
       "      <td>1</td>\n",
       "      <td>Chocolate Sandwich Cookies</td>\n",
       "      <td>61</td>\n",
       "      <td>19</td>\n",
       "      <td>5.8</td>\n",
       "      <td>1813452</td>\n",
       "      <td>764</td>\n",
       "      <td>3</td>\n",
       "      <td>4</td>\n",
       "      <td>17</td>\n",
       "      <td>9.0</td>\n",
       "      <td>11</td>\n",
       "      <td>1</td>\n",
       "      <td>both</td>\n",
       "      <td>both</td>\n",
       "      <td>Mid-range product</td>\n",
       "      <td>Mid-range product</td>\n",
       "      <td>Least busy days</td>\n",
       "      <td>Regularly busy</td>\n",
       "    </tr>\n",
       "  </tbody>\n",
       "</table>\n",
       "</div>"
      ],
      "text/plain": [
       "   Unnamed: 0  product_id                product_name  aisle_id  \\\n",
       "0           0           1  Chocolate Sandwich Cookies        61   \n",
       "1           0           1  Chocolate Sandwich Cookies        61   \n",
       "2           0           1  Chocolate Sandwich Cookies        61   \n",
       "3           0           1  Chocolate Sandwich Cookies        61   \n",
       "4           0           1  Chocolate Sandwich Cookies        61   \n",
       "\n",
       "   department_id  prices  order_id  user_id  order_number  order_dow  \\\n",
       "0             19     5.8   3139998      138            28          6   \n",
       "1             19     5.8   1977647      138            30          6   \n",
       "2             19     5.8    389851      709             2          0   \n",
       "3             19     5.8    652770      764             1          3   \n",
       "4             19     5.8   1813452      764             3          4   \n",
       "\n",
       "   order_hour_of_day  days_since_prior_order  add_to_cart_order  reordered  \\\n",
       "0                 11                     3.0                  5          0   \n",
       "1                 17                    20.0                  1          1   \n",
       "2                 21                     6.0                 20          0   \n",
       "3                 13                     0.0                 10          0   \n",
       "4                 17                     9.0                 11          1   \n",
       "\n",
       "  _merge _merge2        price_range    price_range_loc     busiest_days  \\\n",
       "0   both    both  Mid-range product  Mid-range product   Regularly busy   \n",
       "1   both    both  Mid-range product  Mid-range product   Regularly busy   \n",
       "2   both    both  Mid-range product  Mid-range product     Busiest days   \n",
       "3   both    both  Mid-range product  Mid-range product  Least busy days   \n",
       "4   both    both  Mid-range product  Mid-range product  Least busy days   \n",
       "\n",
       "    busiest_hours  \n",
       "0   Busiest hours  \n",
       "1  Regularly busy  \n",
       "2  Regularly busy  \n",
       "3  Regularly busy  \n",
       "4  Regularly busy  "
      ]
     },
     "execution_count": 78,
     "metadata": {},
     "output_type": "execute_result"
    }
   ],
   "source": [
    "df_orders_products_merged.head()"
   ]
  },
  {
   "cell_type": "markdown",
   "id": "cf31657b",
   "metadata": {},
   "source": [
    "## Step #6:  Ensure your notebook is clean and structured and that your code is well commented."
   ]
  },
  {
   "cell_type": "markdown",
   "id": "f0b5ef56",
   "metadata": {},
   "source": [
    "### :fingers_crosssed:"
   ]
  },
  {
   "cell_type": "markdown",
   "id": "d49a25aa",
   "metadata": {},
   "source": [
    "## Step #7:  Export your dataframe as a pickle file (since you added new columns) and store it correctly in your “Prepared Data” folder."
   ]
  },
  {
   "cell_type": "code",
   "execution_count": 79,
   "id": "74379301",
   "metadata": {
    "ExecuteTime": {
     "end_time": "2022-11-09T23:32:43.962475Z",
     "start_time": "2022-11-09T23:32:07.893415Z"
    },
    "execution": {
     "iopub.execute_input": "2023-04-24T13:32:10.492482Z",
     "iopub.status.busy": "2023-04-24T13:32:10.492215Z",
     "iopub.status.idle": "2023-04-24T13:32:51.168274Z",
     "shell.execute_reply": "2023-04-24T13:32:51.167719Z",
     "shell.execute_reply.started": "2023-04-24T13:32:10.492451Z"
    },
    "tags": []
   },
   "outputs": [],
   "source": [
    "df_orders_products_merged.to_pickle(os.path.join(path, '02-Data','Prepared-Data', 'orders_products_merged.pkl'))"
   ]
  }
 ],
 "metadata": {
  "kernelspec": {
   "display_name": "Python 3 (ipykernel)",
   "language": "python",
   "name": "python3"
  },
  "language_info": {
   "codemirror_mode": {
    "name": "ipython",
    "version": 3
   },
   "file_extension": ".py",
   "mimetype": "text/x-python",
   "name": "python",
   "nbconvert_exporter": "python",
   "pygments_lexer": "ipython3",
   "version": "3.9.12"
  }
 },
 "nbformat": 4,
 "nbformat_minor": 5
}
