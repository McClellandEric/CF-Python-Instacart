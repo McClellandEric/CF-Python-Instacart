{
 "cells": [
  {
   "cell_type": "markdown",
   "id": "18ca81cd",
   "metadata": {},
   "source": [
    "# Task 4.6, Steps #3-8."
   ]
  },
  {
   "cell_type": "markdown",
   "id": "8648cd3c",
   "metadata": {},
   "source": [
    "## Step 3:  In a new notebook, import the orders_products_combined dataframe from the pickle file you just saved."
   ]
  },
  {
   "cell_type": "code",
   "execution_count": 1,
   "id": "8e54f456",
   "metadata": {
    "execution": {
     "iopub.execute_input": "2023-04-24T13:18:37.950371Z",
     "iopub.status.busy": "2023-04-24T13:18:37.950040Z",
     "iopub.status.idle": "2023-04-24T13:18:38.293696Z",
     "shell.execute_reply": "2023-04-24T13:18:38.292884Z",
     "shell.execute_reply.started": "2023-04-24T13:18:37.950272Z"
    }
   },
   "outputs": [],
   "source": [
    "# Import libraries\n",
    "import pandas as pd\n",
    "import numpy as np\n",
    "import os"
   ]
  },
  {
   "cell_type": "code",
   "execution_count": 2,
   "id": "0cd6955d",
   "metadata": {
    "execution": {
     "iopub.execute_input": "2023-04-24T13:18:38.295479Z",
     "iopub.status.busy": "2023-04-24T13:18:38.295157Z",
     "iopub.status.idle": "2023-04-24T13:18:38.298280Z",
     "shell.execute_reply": "2023-04-24T13:18:38.297705Z",
     "shell.execute_reply.started": "2023-04-24T13:18:38.295456Z"
    }
   },
   "outputs": [],
   "source": [
    "# Set a PATH variable."
   ]
  },
  {
   "cell_type": "code",
   "execution_count": 3,
   "id": "ab9613ed",
   "metadata": {
    "execution": {
     "iopub.execute_input": "2023-04-24T13:18:38.299764Z",
     "iopub.status.busy": "2023-04-24T13:18:38.299425Z",
     "iopub.status.idle": "2023-04-24T13:18:38.304099Z",
     "shell.execute_reply": "2023-04-24T13:18:38.303590Z",
     "shell.execute_reply.started": "2023-04-24T13:18:38.299739Z"
    }
   },
   "outputs": [],
   "source": [
    "# Linux PATH - Sadly, my Linux system with 8GB of total RAM could not import the new df_ords_prior DataFrame.\n",
    "# BUT, now I have moved again, to an AWS EC2 instance that should be able to handle this."
   ]
  },
  {
   "cell_type": "code",
   "execution_count": 4,
   "id": "75ebf727",
   "metadata": {
    "execution": {
     "iopub.execute_input": "2023-04-24T13:18:38.305895Z",
     "iopub.status.busy": "2023-04-24T13:18:38.305585Z",
     "iopub.status.idle": "2023-04-24T13:18:38.311347Z",
     "shell.execute_reply": "2023-04-24T13:18:38.310116Z",
     "shell.execute_reply.started": "2023-04-24T13:18:38.305873Z"
    }
   },
   "outputs": [],
   "source": [
    "path = (r'~/careerfoundry/tasks/data-immersion/Achievement4/Instacart-Basket-Analysis')"
   ]
  },
  {
   "cell_type": "code",
   "execution_count": 5,
   "id": "9671f3f5",
   "metadata": {
    "execution": {
     "iopub.execute_input": "2023-04-24T13:18:38.312969Z",
     "iopub.status.busy": "2023-04-24T13:18:38.312445Z",
     "iopub.status.idle": "2023-04-24T13:18:38.317753Z",
     "shell.execute_reply": "2023-04-24T13:18:38.316885Z",
     "shell.execute_reply.started": "2023-04-24T13:18:38.312942Z"
    }
   },
   "outputs": [],
   "source": [
    "# windoze PATH - The windoze laptop I bought for Excel and Tableau also has 16GB of RAM, so I migrated there."
   ]
  },
  {
   "cell_type": "code",
   "execution_count": 6,
   "id": "b3cae9d0",
   "metadata": {
    "execution": {
     "iopub.execute_input": "2023-04-24T13:18:38.320013Z",
     "iopub.status.busy": "2023-04-24T13:18:38.319222Z",
     "iopub.status.idle": "2023-04-24T13:18:38.326027Z",
     "shell.execute_reply": "2023-04-24T13:18:38.324926Z",
     "shell.execute_reply.started": "2023-04-24T13:18:38.319841Z"
    }
   },
   "outputs": [],
   "source": [
    "## path = (r'C:\\Users\\emccc\\OneDrive\\Documents\\CareerFoundry\\Achievement-4\\Instacart-Basket-Analysis')"
   ]
  },
  {
   "cell_type": "code",
   "execution_count": 7,
   "id": "67aaea8c",
   "metadata": {
    "execution": {
     "iopub.execute_input": "2023-04-24T13:18:38.329182Z",
     "iopub.status.busy": "2023-04-24T13:18:38.328188Z",
     "iopub.status.idle": "2023-04-24T13:18:38.334262Z",
     "shell.execute_reply": "2023-04-24T13:18:38.333302Z",
     "shell.execute_reply.started": "2023-04-24T13:18:38.329129Z"
    }
   },
   "outputs": [],
   "source": [
    "# Read the orders_products_combined.pkl file into a new DataFrame, df_orders_products_combined ."
   ]
  },
  {
   "cell_type": "code",
   "execution_count": 8,
   "id": "586fbc98",
   "metadata": {
    "execution": {
     "iopub.execute_input": "2023-04-24T13:18:38.336310Z",
     "iopub.status.busy": "2023-04-24T13:18:38.335678Z",
     "iopub.status.idle": "2023-04-24T13:18:39.633004Z",
     "shell.execute_reply": "2023-04-24T13:18:39.632135Z",
     "shell.execute_reply.started": "2023-04-24T13:18:38.336283Z"
    }
   },
   "outputs": [],
   "source": [
    "df_orders_products_combined = pd.read_pickle(os.path.join(path, '02-Data', 'Prepared-Data', 'orders_products_combined.pkl'))"
   ]
  },
  {
   "cell_type": "markdown",
   "id": "33fe0c72",
   "metadata": {},
   "source": [
    "## Step #4:  Check the shape of the imported dataframe (it should be the same as the one you exported—always check!)."
   ]
  },
  {
   "cell_type": "code",
   "execution_count": 9,
   "id": "8e3fa8f9",
   "metadata": {
    "execution": {
     "iopub.execute_input": "2023-04-24T13:18:39.634671Z",
     "iopub.status.busy": "2023-04-24T13:18:39.634077Z",
     "iopub.status.idle": "2023-04-24T13:18:39.637809Z",
     "shell.execute_reply": "2023-04-24T13:18:39.637049Z",
     "shell.execute_reply.started": "2023-04-24T13:18:39.634645Z"
    }
   },
   "outputs": [],
   "source": [
    "# Basic checking for comparison to the previous incarnation as, \"df_merged_large\""
   ]
  },
  {
   "cell_type": "code",
   "execution_count": 10,
   "id": "30a246b6",
   "metadata": {
    "execution": {
     "iopub.execute_input": "2023-04-24T13:18:39.640594Z",
     "iopub.status.busy": "2023-04-24T13:18:39.640361Z",
     "iopub.status.idle": "2023-04-24T13:18:39.669652Z",
     "shell.execute_reply": "2023-04-24T13:18:39.668917Z",
     "shell.execute_reply.started": "2023-04-24T13:18:39.640570Z"
    }
   },
   "outputs": [
    {
     "data": {
      "text/html": [
       "<div>\n",
       "<style scoped>\n",
       "    .dataframe tbody tr th:only-of-type {\n",
       "        vertical-align: middle;\n",
       "    }\n",
       "\n",
       "    .dataframe tbody tr th {\n",
       "        vertical-align: top;\n",
       "    }\n",
       "\n",
       "    .dataframe thead th {\n",
       "        text-align: right;\n",
       "    }\n",
       "</style>\n",
       "<table border=\"1\" class=\"dataframe\">\n",
       "  <thead>\n",
       "    <tr style=\"text-align: right;\">\n",
       "      <th></th>\n",
       "      <th>order_id</th>\n",
       "      <th>user_id</th>\n",
       "      <th>order_number</th>\n",
       "      <th>order_dow</th>\n",
       "      <th>order_hour_of_day</th>\n",
       "      <th>days_since_prior_order</th>\n",
       "      <th>product_id</th>\n",
       "      <th>add_to_cart_order</th>\n",
       "      <th>reordered</th>\n",
       "      <th>_merge</th>\n",
       "    </tr>\n",
       "  </thead>\n",
       "  <tbody>\n",
       "    <tr>\n",
       "      <th>0</th>\n",
       "      <td>2539329</td>\n",
       "      <td>1</td>\n",
       "      <td>1</td>\n",
       "      <td>2</td>\n",
       "      <td>8</td>\n",
       "      <td>0.0</td>\n",
       "      <td>196</td>\n",
       "      <td>1</td>\n",
       "      <td>0</td>\n",
       "      <td>both</td>\n",
       "    </tr>\n",
       "    <tr>\n",
       "      <th>1</th>\n",
       "      <td>2539329</td>\n",
       "      <td>1</td>\n",
       "      <td>1</td>\n",
       "      <td>2</td>\n",
       "      <td>8</td>\n",
       "      <td>0.0</td>\n",
       "      <td>14084</td>\n",
       "      <td>2</td>\n",
       "      <td>0</td>\n",
       "      <td>both</td>\n",
       "    </tr>\n",
       "    <tr>\n",
       "      <th>2</th>\n",
       "      <td>2539329</td>\n",
       "      <td>1</td>\n",
       "      <td>1</td>\n",
       "      <td>2</td>\n",
       "      <td>8</td>\n",
       "      <td>0.0</td>\n",
       "      <td>12427</td>\n",
       "      <td>3</td>\n",
       "      <td>0</td>\n",
       "      <td>both</td>\n",
       "    </tr>\n",
       "    <tr>\n",
       "      <th>3</th>\n",
       "      <td>2539329</td>\n",
       "      <td>1</td>\n",
       "      <td>1</td>\n",
       "      <td>2</td>\n",
       "      <td>8</td>\n",
       "      <td>0.0</td>\n",
       "      <td>26088</td>\n",
       "      <td>4</td>\n",
       "      <td>0</td>\n",
       "      <td>both</td>\n",
       "    </tr>\n",
       "    <tr>\n",
       "      <th>4</th>\n",
       "      <td>2539329</td>\n",
       "      <td>1</td>\n",
       "      <td>1</td>\n",
       "      <td>2</td>\n",
       "      <td>8</td>\n",
       "      <td>0.0</td>\n",
       "      <td>26405</td>\n",
       "      <td>5</td>\n",
       "      <td>0</td>\n",
       "      <td>both</td>\n",
       "    </tr>\n",
       "  </tbody>\n",
       "</table>\n",
       "</div>"
      ],
      "text/plain": [
       "   order_id  user_id  order_number  order_dow  order_hour_of_day  \\\n",
       "0   2539329        1             1          2                  8   \n",
       "1   2539329        1             1          2                  8   \n",
       "2   2539329        1             1          2                  8   \n",
       "3   2539329        1             1          2                  8   \n",
       "4   2539329        1             1          2                  8   \n",
       "\n",
       "   days_since_prior_order  product_id  add_to_cart_order  reordered _merge  \n",
       "0                     0.0         196                  1          0   both  \n",
       "1                     0.0       14084                  2          0   both  \n",
       "2                     0.0       12427                  3          0   both  \n",
       "3                     0.0       26088                  4          0   both  \n",
       "4                     0.0       26405                  5          0   both  "
      ]
     },
     "execution_count": 10,
     "metadata": {},
     "output_type": "execute_result"
    }
   ],
   "source": [
    "df_orders_products_combined.head()"
   ]
  },
  {
   "cell_type": "code",
   "execution_count": 11,
   "id": "60de6585",
   "metadata": {
    "execution": {
     "iopub.execute_input": "2023-04-24T13:18:39.670832Z",
     "iopub.status.busy": "2023-04-24T13:18:39.670632Z",
     "iopub.status.idle": "2023-04-24T13:18:39.677991Z",
     "shell.execute_reply": "2023-04-24T13:18:39.676830Z",
     "shell.execute_reply.started": "2023-04-24T13:18:39.670809Z"
    }
   },
   "outputs": [
    {
     "data": {
      "text/plain": [
       "(32434489, 10)"
      ]
     },
     "execution_count": 11,
     "metadata": {},
     "output_type": "execute_result"
    }
   ],
   "source": [
    "df_orders_products_combined.shape"
   ]
  },
  {
   "cell_type": "code",
   "execution_count": 12,
   "id": "f1ef74d1",
   "metadata": {
    "execution": {
     "iopub.execute_input": "2023-04-24T13:18:39.680362Z",
     "iopub.status.busy": "2023-04-24T13:18:39.679881Z",
     "iopub.status.idle": "2023-04-24T13:18:39.898644Z",
     "shell.execute_reply": "2023-04-24T13:18:39.896827Z",
     "shell.execute_reply.started": "2023-04-24T13:18:39.680300Z"
    }
   },
   "outputs": [
    {
     "data": {
      "text/plain": [
       "both          32434489\n",
       "left_only            0\n",
       "right_only           0\n",
       "Name: _merge, dtype: int64"
      ]
     },
     "execution_count": 12,
     "metadata": {},
     "output_type": "execute_result"
    }
   ],
   "source": [
    "df_orders_products_combined['_merge'].value_counts()"
   ]
  },
  {
   "cell_type": "markdown",
   "id": "015368cb",
   "metadata": {},
   "source": [
    "## Step #5:  Determine a suitable way to combine the orders_products_combined dataframe with your products data set. Make sure you’re using your wrangled, cleaned, and deduped products data set stored in your “Prepared Data” folder from the previous Exercise’s task."
   ]
  },
  {
   "cell_type": "code",
   "execution_count": 13,
   "id": "9a6df680",
   "metadata": {
    "execution": {
     "iopub.execute_input": "2023-04-24T13:18:39.900335Z",
     "iopub.status.busy": "2023-04-24T13:18:39.900081Z",
     "iopub.status.idle": "2023-04-24T13:18:39.904553Z",
     "shell.execute_reply": "2023-04-24T13:18:39.903639Z",
     "shell.execute_reply.started": "2023-04-24T13:18:39.900310Z"
    }
   },
   "outputs": [],
   "source": [
    "# Read the DataFrame 'df_prods_checked' from the file products_checked.csv ."
   ]
  },
  {
   "cell_type": "code",
   "execution_count": 14,
   "id": "4de10342",
   "metadata": {
    "execution": {
     "iopub.execute_input": "2023-04-24T13:18:39.906584Z",
     "iopub.status.busy": "2023-04-24T13:18:39.906079Z",
     "iopub.status.idle": "2023-04-24T13:18:39.972940Z",
     "shell.execute_reply": "2023-04-24T13:18:39.972389Z",
     "shell.execute_reply.started": "2023-04-24T13:18:39.906542Z"
    }
   },
   "outputs": [],
   "source": [
    "df_prods_checked = pd.read_csv(os.path.join(path, '02-Data','Prepared-Data', 'products_checked.csv'))"
   ]
  },
  {
   "cell_type": "code",
   "execution_count": 15,
   "id": "447ee73b",
   "metadata": {
    "execution": {
     "iopub.execute_input": "2023-04-24T13:18:39.974255Z",
     "iopub.status.busy": "2023-04-24T13:18:39.974069Z",
     "iopub.status.idle": "2023-04-24T13:18:39.978887Z",
     "shell.execute_reply": "2023-04-24T13:18:39.977540Z",
     "shell.execute_reply.started": "2023-04-24T13:18:39.974233Z"
    }
   },
   "outputs": [],
   "source": [
    "# Sanity checks for df_prods_checked ."
   ]
  },
  {
   "cell_type": "code",
   "execution_count": 16,
   "id": "a179bbb2",
   "metadata": {
    "execution": {
     "iopub.execute_input": "2023-04-24T13:18:39.981594Z",
     "iopub.status.busy": "2023-04-24T13:18:39.980466Z",
     "iopub.status.idle": "2023-04-24T13:18:39.985162Z",
     "shell.execute_reply": "2023-04-24T13:18:39.984639Z",
     "shell.execute_reply.started": "2023-04-24T13:18:39.981540Z"
    }
   },
   "outputs": [],
   "source": [
    "# NOTE:  In the previous Exercise/Task, the df_prods_checked DataFrame was written to a CSV file with an additional index\n",
    "# column by default (Exercise 4.4 did not mention the 'index = False' option to 'df.to_csv').  I'll see whether this\n",
    "# poses a true problem, as it might not."
   ]
  },
  {
   "cell_type": "code",
   "execution_count": 17,
   "id": "a13c2d2e",
   "metadata": {
    "execution": {
     "iopub.execute_input": "2023-04-24T13:18:39.986410Z",
     "iopub.status.busy": "2023-04-24T13:18:39.986186Z",
     "iopub.status.idle": "2023-04-24T13:18:39.995312Z",
     "shell.execute_reply": "2023-04-24T13:18:39.994411Z",
     "shell.execute_reply.started": "2023-04-24T13:18:39.986384Z"
    }
   },
   "outputs": [
    {
     "data": {
      "text/plain": [
       "(49672, 6)"
      ]
     },
     "execution_count": 17,
     "metadata": {},
     "output_type": "execute_result"
    }
   ],
   "source": [
    "df_prods_checked.shape"
   ]
  },
  {
   "cell_type": "code",
   "execution_count": 18,
   "id": "30fd9f4c",
   "metadata": {
    "execution": {
     "iopub.execute_input": "2023-04-24T13:18:39.996911Z",
     "iopub.status.busy": "2023-04-24T13:18:39.996422Z",
     "iopub.status.idle": "2023-04-24T13:18:40.013951Z",
     "shell.execute_reply": "2023-04-24T13:18:40.013224Z",
     "shell.execute_reply.started": "2023-04-24T13:18:39.996881Z"
    }
   },
   "outputs": [
    {
     "data": {
      "text/html": [
       "<div>\n",
       "<style scoped>\n",
       "    .dataframe tbody tr th:only-of-type {\n",
       "        vertical-align: middle;\n",
       "    }\n",
       "\n",
       "    .dataframe tbody tr th {\n",
       "        vertical-align: top;\n",
       "    }\n",
       "\n",
       "    .dataframe thead th {\n",
       "        text-align: right;\n",
       "    }\n",
       "</style>\n",
       "<table border=\"1\" class=\"dataframe\">\n",
       "  <thead>\n",
       "    <tr style=\"text-align: right;\">\n",
       "      <th></th>\n",
       "      <th>Unnamed: 0</th>\n",
       "      <th>product_id</th>\n",
       "      <th>product_name</th>\n",
       "      <th>aisle_id</th>\n",
       "      <th>department_id</th>\n",
       "      <th>prices</th>\n",
       "    </tr>\n",
       "  </thead>\n",
       "  <tbody>\n",
       "    <tr>\n",
       "      <th>0</th>\n",
       "      <td>0</td>\n",
       "      <td>1</td>\n",
       "      <td>Chocolate Sandwich Cookies</td>\n",
       "      <td>61</td>\n",
       "      <td>19</td>\n",
       "      <td>5.8</td>\n",
       "    </tr>\n",
       "    <tr>\n",
       "      <th>1</th>\n",
       "      <td>1</td>\n",
       "      <td>2</td>\n",
       "      <td>All-Seasons Salt</td>\n",
       "      <td>104</td>\n",
       "      <td>13</td>\n",
       "      <td>9.3</td>\n",
       "    </tr>\n",
       "    <tr>\n",
       "      <th>2</th>\n",
       "      <td>2</td>\n",
       "      <td>3</td>\n",
       "      <td>Robust Golden Unsweetened Oolong Tea</td>\n",
       "      <td>94</td>\n",
       "      <td>7</td>\n",
       "      <td>4.5</td>\n",
       "    </tr>\n",
       "    <tr>\n",
       "      <th>3</th>\n",
       "      <td>3</td>\n",
       "      <td>4</td>\n",
       "      <td>Smart Ones Classic Favorites Mini Rigatoni Wit...</td>\n",
       "      <td>38</td>\n",
       "      <td>1</td>\n",
       "      <td>10.5</td>\n",
       "    </tr>\n",
       "    <tr>\n",
       "      <th>4</th>\n",
       "      <td>4</td>\n",
       "      <td>5</td>\n",
       "      <td>Green Chile Anytime Sauce</td>\n",
       "      <td>5</td>\n",
       "      <td>13</td>\n",
       "      <td>4.3</td>\n",
       "    </tr>\n",
       "    <tr>\n",
       "      <th>...</th>\n",
       "      <td>...</td>\n",
       "      <td>...</td>\n",
       "      <td>...</td>\n",
       "      <td>...</td>\n",
       "      <td>...</td>\n",
       "      <td>...</td>\n",
       "    </tr>\n",
       "    <tr>\n",
       "      <th>49667</th>\n",
       "      <td>49688</td>\n",
       "      <td>49684</td>\n",
       "      <td>Vodka, Triple Distilled, Twist of Vanilla</td>\n",
       "      <td>124</td>\n",
       "      <td>5</td>\n",
       "      <td>5.3</td>\n",
       "    </tr>\n",
       "    <tr>\n",
       "      <th>49668</th>\n",
       "      <td>49689</td>\n",
       "      <td>49685</td>\n",
       "      <td>En Croute Roast Hazelnut Cranberry</td>\n",
       "      <td>42</td>\n",
       "      <td>1</td>\n",
       "      <td>3.1</td>\n",
       "    </tr>\n",
       "    <tr>\n",
       "      <th>49669</th>\n",
       "      <td>49690</td>\n",
       "      <td>49686</td>\n",
       "      <td>Artisan Baguette</td>\n",
       "      <td>112</td>\n",
       "      <td>3</td>\n",
       "      <td>7.8</td>\n",
       "    </tr>\n",
       "    <tr>\n",
       "      <th>49670</th>\n",
       "      <td>49691</td>\n",
       "      <td>49687</td>\n",
       "      <td>Smartblend Healthy Metabolism Dry Cat Food</td>\n",
       "      <td>41</td>\n",
       "      <td>8</td>\n",
       "      <td>4.7</td>\n",
       "    </tr>\n",
       "    <tr>\n",
       "      <th>49671</th>\n",
       "      <td>49692</td>\n",
       "      <td>49688</td>\n",
       "      <td>Fresh Foaming Cleanser</td>\n",
       "      <td>73</td>\n",
       "      <td>11</td>\n",
       "      <td>13.5</td>\n",
       "    </tr>\n",
       "  </tbody>\n",
       "</table>\n",
       "<p>49672 rows × 6 columns</p>\n",
       "</div>"
      ],
      "text/plain": [
       "       Unnamed: 0  product_id  \\\n",
       "0               0           1   \n",
       "1               1           2   \n",
       "2               2           3   \n",
       "3               3           4   \n",
       "4               4           5   \n",
       "...           ...         ...   \n",
       "49667       49688       49684   \n",
       "49668       49689       49685   \n",
       "49669       49690       49686   \n",
       "49670       49691       49687   \n",
       "49671       49692       49688   \n",
       "\n",
       "                                            product_name  aisle_id  \\\n",
       "0                             Chocolate Sandwich Cookies        61   \n",
       "1                                       All-Seasons Salt       104   \n",
       "2                   Robust Golden Unsweetened Oolong Tea        94   \n",
       "3      Smart Ones Classic Favorites Mini Rigatoni Wit...        38   \n",
       "4                              Green Chile Anytime Sauce         5   \n",
       "...                                                  ...       ...   \n",
       "49667          Vodka, Triple Distilled, Twist of Vanilla       124   \n",
       "49668                 En Croute Roast Hazelnut Cranberry        42   \n",
       "49669                                   Artisan Baguette       112   \n",
       "49670         Smartblend Healthy Metabolism Dry Cat Food        41   \n",
       "49671                             Fresh Foaming Cleanser        73   \n",
       "\n",
       "       department_id  prices  \n",
       "0                 19     5.8  \n",
       "1                 13     9.3  \n",
       "2                  7     4.5  \n",
       "3                  1    10.5  \n",
       "4                 13     4.3  \n",
       "...              ...     ...  \n",
       "49667              5     5.3  \n",
       "49668              1     3.1  \n",
       "49669              3     7.8  \n",
       "49670              8     4.7  \n",
       "49671             11    13.5  \n",
       "\n",
       "[49672 rows x 6 columns]"
      ]
     },
     "execution_count": 18,
     "metadata": {},
     "output_type": "execute_result"
    }
   ],
   "source": [
    "df_prods_checked"
   ]
  },
  {
   "cell_type": "code",
   "execution_count": 19,
   "id": "a90cf866",
   "metadata": {
    "execution": {
     "iopub.execute_input": "2023-04-24T13:18:40.015226Z",
     "iopub.status.busy": "2023-04-24T13:18:40.014846Z",
     "iopub.status.idle": "2023-04-24T13:18:40.051791Z",
     "shell.execute_reply": "2023-04-24T13:18:40.050885Z",
     "shell.execute_reply.started": "2023-04-24T13:18:40.015202Z"
    }
   },
   "outputs": [
    {
     "data": {
      "text/html": [
       "<div>\n",
       "<style scoped>\n",
       "    .dataframe tbody tr th:only-of-type {\n",
       "        vertical-align: middle;\n",
       "    }\n",
       "\n",
       "    .dataframe tbody tr th {\n",
       "        vertical-align: top;\n",
       "    }\n",
       "\n",
       "    .dataframe thead th {\n",
       "        text-align: right;\n",
       "    }\n",
       "</style>\n",
       "<table border=\"1\" class=\"dataframe\">\n",
       "  <thead>\n",
       "    <tr style=\"text-align: right;\">\n",
       "      <th></th>\n",
       "      <th>Unnamed: 0</th>\n",
       "      <th>product_id</th>\n",
       "      <th>aisle_id</th>\n",
       "      <th>department_id</th>\n",
       "      <th>prices</th>\n",
       "    </tr>\n",
       "  </thead>\n",
       "  <tbody>\n",
       "    <tr>\n",
       "      <th>count</th>\n",
       "      <td>49672.000000</td>\n",
       "      <td>49672.000000</td>\n",
       "      <td>49672.000000</td>\n",
       "      <td>49672.000000</td>\n",
       "      <td>49672.000000</td>\n",
       "    </tr>\n",
       "    <tr>\n",
       "      <th>mean</th>\n",
       "      <td>24852.005053</td>\n",
       "      <td>24850.349775</td>\n",
       "      <td>67.762442</td>\n",
       "      <td>11.728942</td>\n",
       "      <td>9.993282</td>\n",
       "    </tr>\n",
       "    <tr>\n",
       "      <th>std</th>\n",
       "      <td>14342.265579</td>\n",
       "      <td>14340.705287</td>\n",
       "      <td>38.315784</td>\n",
       "      <td>5.850779</td>\n",
       "      <td>453.615536</td>\n",
       "    </tr>\n",
       "    <tr>\n",
       "      <th>min</th>\n",
       "      <td>0.000000</td>\n",
       "      <td>1.000000</td>\n",
       "      <td>1.000000</td>\n",
       "      <td>1.000000</td>\n",
       "      <td>1.000000</td>\n",
       "    </tr>\n",
       "    <tr>\n",
       "      <th>25%</th>\n",
       "      <td>12432.750000</td>\n",
       "      <td>12432.750000</td>\n",
       "      <td>35.000000</td>\n",
       "      <td>7.000000</td>\n",
       "      <td>4.100000</td>\n",
       "    </tr>\n",
       "    <tr>\n",
       "      <th>50%</th>\n",
       "      <td>24851.500000</td>\n",
       "      <td>24850.500000</td>\n",
       "      <td>69.000000</td>\n",
       "      <td>13.000000</td>\n",
       "      <td>7.100000</td>\n",
       "    </tr>\n",
       "    <tr>\n",
       "      <th>75%</th>\n",
       "      <td>37272.250000</td>\n",
       "      <td>37268.250000</td>\n",
       "      <td>100.000000</td>\n",
       "      <td>17.000000</td>\n",
       "      <td>11.100000</td>\n",
       "    </tr>\n",
       "    <tr>\n",
       "      <th>max</th>\n",
       "      <td>49692.000000</td>\n",
       "      <td>49688.000000</td>\n",
       "      <td>134.000000</td>\n",
       "      <td>21.000000</td>\n",
       "      <td>99999.000000</td>\n",
       "    </tr>\n",
       "  </tbody>\n",
       "</table>\n",
       "</div>"
      ],
      "text/plain": [
       "         Unnamed: 0    product_id      aisle_id  department_id        prices\n",
       "count  49672.000000  49672.000000  49672.000000   49672.000000  49672.000000\n",
       "mean   24852.005053  24850.349775     67.762442      11.728942      9.993282\n",
       "std    14342.265579  14340.705287     38.315784       5.850779    453.615536\n",
       "min        0.000000      1.000000      1.000000       1.000000      1.000000\n",
       "25%    12432.750000  12432.750000     35.000000       7.000000      4.100000\n",
       "50%    24851.500000  24850.500000     69.000000      13.000000      7.100000\n",
       "75%    37272.250000  37268.250000    100.000000      17.000000     11.100000\n",
       "max    49692.000000  49688.000000    134.000000      21.000000  99999.000000"
      ]
     },
     "execution_count": 19,
     "metadata": {},
     "output_type": "execute_result"
    }
   ],
   "source": [
    "df_prods_checked.describe()"
   ]
  },
  {
   "cell_type": "code",
   "execution_count": 20,
   "id": "ab6abc39",
   "metadata": {
    "execution": {
     "iopub.execute_input": "2023-04-24T13:18:40.053004Z",
     "iopub.status.busy": "2023-04-24T13:18:40.052795Z",
     "iopub.status.idle": "2023-04-24T13:18:40.056474Z",
     "shell.execute_reply": "2023-04-24T13:18:40.055821Z",
     "shell.execute_reply.started": "2023-04-24T13:18:40.052981Z"
    }
   },
   "outputs": [],
   "source": [
    "# Combine df_prods_checked with df_orders_products_combined to create the 'orders_products_merged' DataFrame."
   ]
  },
  {
   "cell_type": "code",
   "execution_count": 21,
   "id": "7ec8ecae",
   "metadata": {
    "execution": {
     "iopub.execute_input": "2023-04-24T13:18:40.057560Z",
     "iopub.status.busy": "2023-04-24T13:18:40.057352Z",
     "iopub.status.idle": "2023-04-24T13:18:40.064353Z",
     "shell.execute_reply": "2023-04-24T13:18:40.063716Z",
     "shell.execute_reply.started": "2023-04-24T13:18:40.057536Z"
    }
   },
   "outputs": [],
   "source": [
    "# NOTE:  If I want to use an Indicator, I need to give the indicator column a new name, because '_merge' is already\n",
    "# used in the df_orders_products_combined DataFrame.  In a spark of creativity, I call it, '_merge2'."
   ]
  },
  {
   "cell_type": "code",
   "execution_count": 22,
   "id": "d3339378",
   "metadata": {
    "execution": {
     "iopub.execute_input": "2023-04-24T13:18:40.066224Z",
     "iopub.status.busy": "2023-04-24T13:18:40.065681Z",
     "iopub.status.idle": "2023-04-24T13:18:51.800700Z",
     "shell.execute_reply": "2023-04-24T13:18:51.799957Z",
     "shell.execute_reply.started": "2023-04-24T13:18:40.066191Z"
    }
   },
   "outputs": [],
   "source": [
    "df_orders_products_merged = df_prods_checked.merge(df_orders_products_combined, on = 'product_id', indicator = '_merge2')"
   ]
  },
  {
   "cell_type": "code",
   "execution_count": 23,
   "id": "9ea0bdff",
   "metadata": {
    "execution": {
     "iopub.execute_input": "2023-04-24T13:18:51.802130Z",
     "iopub.status.busy": "2023-04-24T13:18:51.801924Z",
     "iopub.status.idle": "2023-04-24T13:18:51.819646Z",
     "shell.execute_reply": "2023-04-24T13:18:51.818902Z",
     "shell.execute_reply.started": "2023-04-24T13:18:51.802107Z"
    },
    "scrolled": true
   },
   "outputs": [
    {
     "data": {
      "text/html": [
       "<div>\n",
       "<style scoped>\n",
       "    .dataframe tbody tr th:only-of-type {\n",
       "        vertical-align: middle;\n",
       "    }\n",
       "\n",
       "    .dataframe tbody tr th {\n",
       "        vertical-align: top;\n",
       "    }\n",
       "\n",
       "    .dataframe thead th {\n",
       "        text-align: right;\n",
       "    }\n",
       "</style>\n",
       "<table border=\"1\" class=\"dataframe\">\n",
       "  <thead>\n",
       "    <tr style=\"text-align: right;\">\n",
       "      <th></th>\n",
       "      <th>Unnamed: 0</th>\n",
       "      <th>product_id</th>\n",
       "      <th>product_name</th>\n",
       "      <th>aisle_id</th>\n",
       "      <th>department_id</th>\n",
       "      <th>prices</th>\n",
       "      <th>order_id</th>\n",
       "      <th>user_id</th>\n",
       "      <th>order_number</th>\n",
       "      <th>order_dow</th>\n",
       "      <th>order_hour_of_day</th>\n",
       "      <th>days_since_prior_order</th>\n",
       "      <th>add_to_cart_order</th>\n",
       "      <th>reordered</th>\n",
       "      <th>_merge</th>\n",
       "      <th>_merge2</th>\n",
       "    </tr>\n",
       "  </thead>\n",
       "  <tbody>\n",
       "    <tr>\n",
       "      <th>0</th>\n",
       "      <td>0</td>\n",
       "      <td>1</td>\n",
       "      <td>Chocolate Sandwich Cookies</td>\n",
       "      <td>61</td>\n",
       "      <td>19</td>\n",
       "      <td>5.8</td>\n",
       "      <td>3139998</td>\n",
       "      <td>138</td>\n",
       "      <td>28</td>\n",
       "      <td>6</td>\n",
       "      <td>11</td>\n",
       "      <td>3.0</td>\n",
       "      <td>5</td>\n",
       "      <td>0</td>\n",
       "      <td>both</td>\n",
       "      <td>both</td>\n",
       "    </tr>\n",
       "    <tr>\n",
       "      <th>1</th>\n",
       "      <td>0</td>\n",
       "      <td>1</td>\n",
       "      <td>Chocolate Sandwich Cookies</td>\n",
       "      <td>61</td>\n",
       "      <td>19</td>\n",
       "      <td>5.8</td>\n",
       "      <td>1977647</td>\n",
       "      <td>138</td>\n",
       "      <td>30</td>\n",
       "      <td>6</td>\n",
       "      <td>17</td>\n",
       "      <td>20.0</td>\n",
       "      <td>1</td>\n",
       "      <td>1</td>\n",
       "      <td>both</td>\n",
       "      <td>both</td>\n",
       "    </tr>\n",
       "    <tr>\n",
       "      <th>2</th>\n",
       "      <td>0</td>\n",
       "      <td>1</td>\n",
       "      <td>Chocolate Sandwich Cookies</td>\n",
       "      <td>61</td>\n",
       "      <td>19</td>\n",
       "      <td>5.8</td>\n",
       "      <td>389851</td>\n",
       "      <td>709</td>\n",
       "      <td>2</td>\n",
       "      <td>0</td>\n",
       "      <td>21</td>\n",
       "      <td>6.0</td>\n",
       "      <td>20</td>\n",
       "      <td>0</td>\n",
       "      <td>both</td>\n",
       "      <td>both</td>\n",
       "    </tr>\n",
       "    <tr>\n",
       "      <th>3</th>\n",
       "      <td>0</td>\n",
       "      <td>1</td>\n",
       "      <td>Chocolate Sandwich Cookies</td>\n",
       "      <td>61</td>\n",
       "      <td>19</td>\n",
       "      <td>5.8</td>\n",
       "      <td>652770</td>\n",
       "      <td>764</td>\n",
       "      <td>1</td>\n",
       "      <td>3</td>\n",
       "      <td>13</td>\n",
       "      <td>0.0</td>\n",
       "      <td>10</td>\n",
       "      <td>0</td>\n",
       "      <td>both</td>\n",
       "      <td>both</td>\n",
       "    </tr>\n",
       "    <tr>\n",
       "      <th>4</th>\n",
       "      <td>0</td>\n",
       "      <td>1</td>\n",
       "      <td>Chocolate Sandwich Cookies</td>\n",
       "      <td>61</td>\n",
       "      <td>19</td>\n",
       "      <td>5.8</td>\n",
       "      <td>1813452</td>\n",
       "      <td>764</td>\n",
       "      <td>3</td>\n",
       "      <td>4</td>\n",
       "      <td>17</td>\n",
       "      <td>9.0</td>\n",
       "      <td>11</td>\n",
       "      <td>1</td>\n",
       "      <td>both</td>\n",
       "      <td>both</td>\n",
       "    </tr>\n",
       "  </tbody>\n",
       "</table>\n",
       "</div>"
      ],
      "text/plain": [
       "   Unnamed: 0  product_id                product_name  aisle_id  \\\n",
       "0           0           1  Chocolate Sandwich Cookies        61   \n",
       "1           0           1  Chocolate Sandwich Cookies        61   \n",
       "2           0           1  Chocolate Sandwich Cookies        61   \n",
       "3           0           1  Chocolate Sandwich Cookies        61   \n",
       "4           0           1  Chocolate Sandwich Cookies        61   \n",
       "\n",
       "   department_id  prices  order_id  user_id  order_number  order_dow  \\\n",
       "0             19     5.8   3139998      138            28          6   \n",
       "1             19     5.8   1977647      138            30          6   \n",
       "2             19     5.8    389851      709             2          0   \n",
       "3             19     5.8    652770      764             1          3   \n",
       "4             19     5.8   1813452      764             3          4   \n",
       "\n",
       "   order_hour_of_day  days_since_prior_order  add_to_cart_order  reordered  \\\n",
       "0                 11                     3.0                  5          0   \n",
       "1                 17                    20.0                  1          1   \n",
       "2                 21                     6.0                 20          0   \n",
       "3                 13                     0.0                 10          0   \n",
       "4                 17                     9.0                 11          1   \n",
       "\n",
       "  _merge _merge2  \n",
       "0   both    both  \n",
       "1   both    both  \n",
       "2   both    both  \n",
       "3   both    both  \n",
       "4   both    both  "
      ]
     },
     "execution_count": 23,
     "metadata": {},
     "output_type": "execute_result"
    }
   ],
   "source": [
    "df_orders_products_merged.head()"
   ]
  },
  {
   "cell_type": "code",
   "execution_count": 24,
   "id": "f63c394a",
   "metadata": {
    "execution": {
     "iopub.execute_input": "2023-04-24T13:18:51.823558Z",
     "iopub.status.busy": "2023-04-24T13:18:51.822400Z",
     "iopub.status.idle": "2023-04-24T13:18:51.828706Z",
     "shell.execute_reply": "2023-04-24T13:18:51.828201Z",
     "shell.execute_reply.started": "2023-04-24T13:18:51.823521Z"
    }
   },
   "outputs": [
    {
     "data": {
      "text/plain": [
       "(32404859, 16)"
      ]
     },
     "execution_count": 24,
     "metadata": {},
     "output_type": "execute_result"
    }
   ],
   "source": [
    "df_orders_products_merged.shape"
   ]
  },
  {
   "cell_type": "markdown",
   "id": "cdb068bc",
   "metadata": {},
   "source": [
    "## Step 6:  Confirm the results of the merge using the merge flag."
   ]
  },
  {
   "cell_type": "code",
   "execution_count": 25,
   "id": "d461c7eb",
   "metadata": {
    "execution": {
     "iopub.execute_input": "2023-04-24T13:18:51.830151Z",
     "iopub.status.busy": "2023-04-24T13:18:51.829599Z",
     "iopub.status.idle": "2023-04-24T13:18:51.835728Z",
     "shell.execute_reply": "2023-04-24T13:18:51.835154Z",
     "shell.execute_reply.started": "2023-04-24T13:18:51.830125Z"
    }
   },
   "outputs": [],
   "source": [
    "# Tally up the results from the '_merge2' column.  It's from an inner join, so all should be 'both',\n",
    "# but this is how I interpret the instruction based on the Exercise."
   ]
  },
  {
   "cell_type": "code",
   "execution_count": 26,
   "id": "aed1b20c",
   "metadata": {
    "execution": {
     "iopub.execute_input": "2023-04-24T13:18:51.837200Z",
     "iopub.status.busy": "2023-04-24T13:18:51.836861Z",
     "iopub.status.idle": "2023-04-24T13:18:52.054616Z",
     "shell.execute_reply": "2023-04-24T13:18:52.053502Z",
     "shell.execute_reply.started": "2023-04-24T13:18:51.837176Z"
    }
   },
   "outputs": [
    {
     "data": {
      "text/plain": [
       "both          32404859\n",
       "left_only            0\n",
       "right_only           0\n",
       "Name: _merge2, dtype: int64"
      ]
     },
     "execution_count": 26,
     "metadata": {},
     "output_type": "execute_result"
    }
   ],
   "source": [
    "df_orders_products_merged['_merge2'].value_counts()"
   ]
  },
  {
   "cell_type": "markdown",
   "id": "37d304db",
   "metadata": {},
   "source": [
    "## Step 7:  Export the newly created dataframe as orders_products_merged in a suitable format (taking into consideration the size)."
   ]
  },
  {
   "cell_type": "code",
   "execution_count": 27,
   "id": "17b05b67",
   "metadata": {
    "execution": {
     "iopub.execute_input": "2023-04-24T13:18:52.056575Z",
     "iopub.status.busy": "2023-04-24T13:18:52.055898Z",
     "iopub.status.idle": "2023-04-24T13:18:52.061414Z",
     "shell.execute_reply": "2023-04-24T13:18:52.060477Z",
     "shell.execute_reply.started": "2023-04-24T13:18:52.056547Z"
    }
   },
   "outputs": [],
   "source": [
    "# Store the new DataFrame in the Pickle format."
   ]
  },
  {
   "cell_type": "code",
   "execution_count": 28,
   "id": "d504b9f3",
   "metadata": {
    "execution": {
     "iopub.execute_input": "2023-04-24T13:18:52.067254Z",
     "iopub.status.busy": "2023-04-24T13:18:52.066674Z",
     "iopub.status.idle": "2023-04-24T13:19:24.178740Z",
     "shell.execute_reply": "2023-04-24T13:19:24.178194Z",
     "shell.execute_reply.started": "2023-04-24T13:18:52.067216Z"
    }
   },
   "outputs": [],
   "source": [
    "df_orders_products_merged.to_pickle(os.path.join(path, '02-Data','Prepared-Data', 'orders_products_merged.pkl'))"
   ]
  }
 ],
 "metadata": {
  "kernelspec": {
   "display_name": "Python 3 (ipykernel)",
   "language": "python",
   "name": "python3"
  },
  "language_info": {
   "codemirror_mode": {
    "name": "ipython",
    "version": 3
   },
   "file_extension": ".py",
   "mimetype": "text/x-python",
   "name": "python",
   "nbconvert_exporter": "python",
   "pygments_lexer": "ipython3",
   "version": "3.9.12"
  }
 },
 "nbformat": 4,
 "nbformat_minor": 5
}
