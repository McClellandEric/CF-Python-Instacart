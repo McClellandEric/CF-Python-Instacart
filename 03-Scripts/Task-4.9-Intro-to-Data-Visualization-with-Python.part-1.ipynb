{
 "cells": [
  {
   "cell_type": "markdown",
   "id": "f796445c",
   "metadata": {},
   "source": [
    "# Task 4.9: Intro to Data Visualization with Python, part 1"
   ]
  },
  {
   "cell_type": "markdown",
   "id": "ae591bf1",
   "metadata": {},
   "source": [
    "## Standard prerequisites.  Now with additional libraries seaborn, matplotlib, and scipy."
   ]
  },
  {
   "cell_type": "code",
   "execution_count": 54,
   "id": "c28cad55",
   "metadata": {
    "ExecuteTime": {
     "end_time": "2023-03-14T06:40:35.121697Z",
     "start_time": "2023-03-14T06:40:32.790547Z"
    },
    "execution": {
     "iopub.execute_input": "2023-04-25T22:57:41.685041Z",
     "iopub.status.busy": "2023-04-25T22:57:41.684708Z",
     "iopub.status.idle": "2023-04-25T22:57:41.692200Z",
     "shell.execute_reply": "2023-04-25T22:57:41.690662Z",
     "shell.execute_reply.started": "2023-04-25T22:57:41.685006Z"
    }
   },
   "outputs": [],
   "source": [
    "# Import libraries\n",
    "import pandas as pd\n",
    "import numpy as np\n",
    "import os\n",
    "import matplotlib.pyplot as plt\n",
    "import seaborn as sns\n",
    "import scipy"
   ]
  },
  {
   "cell_type": "code",
   "execution_count": 55,
   "id": "82c2be48",
   "metadata": {
    "ExecuteTime": {
     "end_time": "2023-03-14T06:40:35.126788Z",
     "start_time": "2023-03-14T06:40:35.123949Z"
    },
    "execution": {
     "iopub.execute_input": "2023-04-25T22:57:41.694710Z",
     "iopub.status.busy": "2023-04-25T22:57:41.693939Z",
     "iopub.status.idle": "2023-04-25T22:57:41.699045Z",
     "shell.execute_reply": "2023-04-25T22:57:41.698155Z",
     "shell.execute_reply.started": "2023-04-25T22:57:41.694673Z"
    }
   },
   "outputs": [],
   "source": [
    "# Starting with Exercise 4.7, import additional libraries I've discovered thanks to Lubov, especially the time library.\n",
    "import time\n",
    "import string\n",
    "import random"
   ]
  },
  {
   "cell_type": "code",
   "execution_count": 56,
   "id": "1a9ae03c",
   "metadata": {
    "ExecuteTime": {
     "end_time": "2023-03-14T06:40:35.133024Z",
     "start_time": "2023-03-14T06:40:35.128379Z"
    },
    "execution": {
     "iopub.execute_input": "2023-04-25T22:57:41.700912Z",
     "iopub.status.busy": "2023-04-25T22:57:41.700631Z",
     "iopub.status.idle": "2023-04-25T22:57:41.705786Z",
     "shell.execute_reply": "2023-04-25T22:57:41.704852Z",
     "shell.execute_reply.started": "2023-04-25T22:57:41.700884Z"
    }
   },
   "outputs": [],
   "source": [
    "# Set a PATH variable."
   ]
  },
  {
   "cell_type": "code",
   "execution_count": 57,
   "id": "14835c38",
   "metadata": {
    "ExecuteTime": {
     "end_time": "2023-03-14T06:40:35.138259Z",
     "start_time": "2023-03-14T06:40:35.135422Z"
    },
    "execution": {
     "iopub.execute_input": "2023-04-25T22:57:41.708010Z",
     "iopub.status.busy": "2023-04-25T22:57:41.707447Z",
     "iopub.status.idle": "2023-04-25T22:57:41.713330Z",
     "shell.execute_reply": "2023-04-25T22:57:41.712295Z",
     "shell.execute_reply.started": "2023-04-25T22:57:41.707972Z"
    }
   },
   "outputs": [],
   "source": [
    "# Linux PATH - Sadly, my Linux system with 8GB of total RAM could not import the new df_ords_prior DataFrame.\n",
    "# BUT, now I have moved again, to an AWS EC2 instance that should be able to handle this."
   ]
  },
  {
   "cell_type": "code",
   "execution_count": 58,
   "id": "b341b24d",
   "metadata": {
    "ExecuteTime": {
     "end_time": "2023-03-14T06:40:35.143132Z",
     "start_time": "2023-03-14T06:40:35.140072Z"
    },
    "execution": {
     "iopub.execute_input": "2023-04-25T22:57:41.716354Z",
     "iopub.status.busy": "2023-04-25T22:57:41.715995Z",
     "iopub.status.idle": "2023-04-25T22:57:41.720973Z",
     "shell.execute_reply": "2023-04-25T22:57:41.719858Z",
     "shell.execute_reply.started": "2023-04-25T22:57:41.716319Z"
    }
   },
   "outputs": [],
   "source": [
    "## path = (r'~/careerfoundry/tasks/data-immersion/Achievement4/Instacart-Basket-Analysis')"
   ]
  },
  {
   "cell_type": "markdown",
   "id": "cee315ae",
   "metadata": {},
   "source": [
    "### # Oh, wow, matplotlib.pyplot.savefig function does not expand the tilde (~) reference in directory paths.  LAME. :("
   ]
  },
  {
   "cell_type": "code",
   "execution_count": 59,
   "id": "1bb68571",
   "metadata": {
    "ExecuteTime": {
     "end_time": "2023-03-14T06:40:35.147792Z",
     "start_time": "2023-03-14T06:40:35.144875Z"
    },
    "execution": {
     "iopub.execute_input": "2023-04-25T22:57:41.722160Z",
     "iopub.status.busy": "2023-04-25T22:57:41.721922Z",
     "iopub.status.idle": "2023-04-25T22:57:41.726176Z",
     "shell.execute_reply": "2023-04-25T22:57:41.725576Z",
     "shell.execute_reply.started": "2023-04-25T22:57:41.722134Z"
    }
   },
   "outputs": [],
   "source": [
    "path = (r'/home/ubuntu/careerfoundry/tasks/data-immersion/Achievement4/Instacart-Basket-Analysis')"
   ]
  },
  {
   "cell_type": "code",
   "execution_count": 60,
   "id": "1f4e62b8",
   "metadata": {
    "ExecuteTime": {
     "end_time": "2023-03-14T06:40:35.152259Z",
     "start_time": "2023-03-14T06:40:35.149763Z"
    },
    "execution": {
     "iopub.execute_input": "2023-04-25T22:57:41.727640Z",
     "iopub.status.busy": "2023-04-25T22:57:41.727200Z",
     "iopub.status.idle": "2023-04-25T22:57:41.734768Z",
     "shell.execute_reply": "2023-04-25T22:57:41.733775Z",
     "shell.execute_reply.started": "2023-04-25T22:57:41.727617Z"
    }
   },
   "outputs": [],
   "source": [
    "# windoze PATH - The windoze laptop I bought for Excel and Tableau also has 16GB of RAM, so I migrated there."
   ]
  },
  {
   "cell_type": "code",
   "execution_count": 61,
   "id": "f61d9b62",
   "metadata": {
    "ExecuteTime": {
     "end_time": "2023-03-14T06:40:35.156989Z",
     "start_time": "2023-03-14T06:40:35.153855Z"
    },
    "execution": {
     "iopub.execute_input": "2023-04-25T22:57:41.736840Z",
     "iopub.status.busy": "2023-04-25T22:57:41.735942Z",
     "iopub.status.idle": "2023-04-25T22:57:41.741353Z",
     "shell.execute_reply": "2023-04-25T22:57:41.740300Z",
     "shell.execute_reply.started": "2023-04-25T22:57:41.736801Z"
    }
   },
   "outputs": [],
   "source": [
    "## path = (r'C:\\Users\\emccc\\OneDrive\\Documents\\CareerFoundry\\Achievement-4\\Instacart-Basket-Analysis')"
   ]
  },
  {
   "cell_type": "markdown",
   "id": "943c385f",
   "metadata": {},
   "source": [
    "# I unzipped the customers.zip file to find the payload is a .CSV file, customers.csv.  I'll read it as df_cust."
   ]
  },
  {
   "cell_type": "code",
   "execution_count": 62,
   "id": "0d564049",
   "metadata": {
    "ExecuteTime": {
     "end_time": "2023-03-14T06:40:35.474172Z",
     "start_time": "2023-03-14T06:40:35.158575Z"
    },
    "execution": {
     "iopub.execute_input": "2023-04-25T22:57:41.743212Z",
     "iopub.status.busy": "2023-04-25T22:57:41.742561Z",
     "iopub.status.idle": "2023-04-25T22:57:42.009977Z",
     "shell.execute_reply": "2023-04-25T22:57:42.009110Z",
     "shell.execute_reply.started": "2023-04-25T22:57:41.743178Z"
    }
   },
   "outputs": [],
   "source": [
    "df_cust = pd.read_csv(os.path.join(path, '02-Data', 'Original-Data', 'customers.csv'), index_col = False)"
   ]
  },
  {
   "cell_type": "code",
   "execution_count": 63,
   "id": "978354c2",
   "metadata": {
    "ExecuteTime": {
     "end_time": "2023-03-14T06:40:35.479936Z",
     "start_time": "2023-03-14T06:40:35.477695Z"
    },
    "execution": {
     "iopub.execute_input": "2023-04-25T22:57:42.012632Z",
     "iopub.status.busy": "2023-04-25T22:57:42.012249Z",
     "iopub.status.idle": "2023-04-25T22:57:42.016207Z",
     "shell.execute_reply": "2023-04-25T22:57:42.015193Z",
     "shell.execute_reply.started": "2023-04-25T22:57:42.012607Z"
    }
   },
   "outputs": [],
   "source": [
    "# Some quick exploration of this new dataframe.  WHAT'S UP WITH THE NEAR-PERFECTLY EVEN DISTRIBUTIONS??"
   ]
  },
  {
   "cell_type": "code",
   "execution_count": 64,
   "id": "4f5b4f43",
   "metadata": {
    "ExecuteTime": {
     "end_time": "2023-03-14T06:40:35.488025Z",
     "start_time": "2023-03-14T06:40:35.481713Z"
    },
    "execution": {
     "iopub.execute_input": "2023-04-25T22:57:42.017608Z",
     "iopub.status.busy": "2023-04-25T22:57:42.017368Z",
     "iopub.status.idle": "2023-04-25T22:57:42.025393Z",
     "shell.execute_reply": "2023-04-25T22:57:42.024171Z",
     "shell.execute_reply.started": "2023-04-25T22:57:42.017585Z"
    }
   },
   "outputs": [
    {
     "data": {
      "text/plain": [
       "(206209, 10)"
      ]
     },
     "execution_count": 64,
     "metadata": {},
     "output_type": "execute_result"
    }
   ],
   "source": [
    "df_cust.shape"
   ]
  },
  {
   "cell_type": "code",
   "execution_count": 65,
   "id": "41e4f4d5",
   "metadata": {
    "ExecuteTime": {
     "end_time": "2023-03-14T06:40:35.505789Z",
     "start_time": "2023-03-14T06:40:35.489591Z"
    },
    "execution": {
     "iopub.execute_input": "2023-04-25T22:57:42.026703Z",
     "iopub.status.busy": "2023-04-25T22:57:42.026473Z",
     "iopub.status.idle": "2023-04-25T22:57:42.040020Z",
     "shell.execute_reply": "2023-04-25T22:57:42.039126Z",
     "shell.execute_reply.started": "2023-04-25T22:57:42.026679Z"
    }
   },
   "outputs": [
    {
     "data": {
      "text/html": [
       "<div>\n",
       "<style scoped>\n",
       "    .dataframe tbody tr th:only-of-type {\n",
       "        vertical-align: middle;\n",
       "    }\n",
       "\n",
       "    .dataframe tbody tr th {\n",
       "        vertical-align: top;\n",
       "    }\n",
       "\n",
       "    .dataframe thead th {\n",
       "        text-align: right;\n",
       "    }\n",
       "</style>\n",
       "<table border=\"1\" class=\"dataframe\">\n",
       "  <thead>\n",
       "    <tr style=\"text-align: right;\">\n",
       "      <th></th>\n",
       "      <th>user_id</th>\n",
       "      <th>First Name</th>\n",
       "      <th>Surnam</th>\n",
       "      <th>Gender</th>\n",
       "      <th>STATE</th>\n",
       "      <th>Age</th>\n",
       "      <th>date_joined</th>\n",
       "      <th>n_dependants</th>\n",
       "      <th>fam_status</th>\n",
       "      <th>income</th>\n",
       "    </tr>\n",
       "  </thead>\n",
       "  <tbody>\n",
       "    <tr>\n",
       "      <th>0</th>\n",
       "      <td>26711</td>\n",
       "      <td>Deborah</td>\n",
       "      <td>Esquivel</td>\n",
       "      <td>Female</td>\n",
       "      <td>Missouri</td>\n",
       "      <td>48</td>\n",
       "      <td>1/1/2017</td>\n",
       "      <td>3</td>\n",
       "      <td>married</td>\n",
       "      <td>165665</td>\n",
       "    </tr>\n",
       "  </tbody>\n",
       "</table>\n",
       "</div>"
      ],
      "text/plain": [
       "   user_id First Name    Surnam  Gender     STATE  Age date_joined  \\\n",
       "0    26711    Deborah  Esquivel  Female  Missouri   48    1/1/2017   \n",
       "\n",
       "   n_dependants fam_status  income  \n",
       "0             3    married  165665  "
      ]
     },
     "execution_count": 65,
     "metadata": {},
     "output_type": "execute_result"
    }
   ],
   "source": [
    "df_cust.head(1)"
   ]
  },
  {
   "cell_type": "code",
   "execution_count": 66,
   "id": "c33fd457",
   "metadata": {
    "ExecuteTime": {
     "end_time": "2023-03-14T06:40:35.546019Z",
     "start_time": "2023-03-14T06:40:35.507606Z"
    },
    "execution": {
     "iopub.execute_input": "2023-04-25T22:57:42.042203Z",
     "iopub.status.busy": "2023-04-25T22:57:42.041594Z",
     "iopub.status.idle": "2023-04-25T22:57:42.089435Z",
     "shell.execute_reply": "2023-04-25T22:57:42.088660Z",
     "shell.execute_reply.started": "2023-04-25T22:57:42.042169Z"
    },
    "scrolled": true
   },
   "outputs": [
    {
     "data": {
      "text/html": [
       "<div>\n",
       "<style scoped>\n",
       "    .dataframe tbody tr th:only-of-type {\n",
       "        vertical-align: middle;\n",
       "    }\n",
       "\n",
       "    .dataframe tbody tr th {\n",
       "        vertical-align: top;\n",
       "    }\n",
       "\n",
       "    .dataframe thead th {\n",
       "        text-align: right;\n",
       "    }\n",
       "</style>\n",
       "<table border=\"1\" class=\"dataframe\">\n",
       "  <thead>\n",
       "    <tr style=\"text-align: right;\">\n",
       "      <th></th>\n",
       "      <th>user_id</th>\n",
       "      <th>Age</th>\n",
       "      <th>n_dependants</th>\n",
       "      <th>income</th>\n",
       "    </tr>\n",
       "  </thead>\n",
       "  <tbody>\n",
       "    <tr>\n",
       "      <th>count</th>\n",
       "      <td>206209.000000</td>\n",
       "      <td>206209.000000</td>\n",
       "      <td>206209.000000</td>\n",
       "      <td>206209.000000</td>\n",
       "    </tr>\n",
       "    <tr>\n",
       "      <th>mean</th>\n",
       "      <td>103105.000000</td>\n",
       "      <td>49.501646</td>\n",
       "      <td>1.499823</td>\n",
       "      <td>94632.852548</td>\n",
       "    </tr>\n",
       "    <tr>\n",
       "      <th>std</th>\n",
       "      <td>59527.555167</td>\n",
       "      <td>18.480962</td>\n",
       "      <td>1.118433</td>\n",
       "      <td>42473.786988</td>\n",
       "    </tr>\n",
       "    <tr>\n",
       "      <th>min</th>\n",
       "      <td>1.000000</td>\n",
       "      <td>18.000000</td>\n",
       "      <td>0.000000</td>\n",
       "      <td>25903.000000</td>\n",
       "    </tr>\n",
       "    <tr>\n",
       "      <th>25%</th>\n",
       "      <td>51553.000000</td>\n",
       "      <td>33.000000</td>\n",
       "      <td>0.000000</td>\n",
       "      <td>59874.000000</td>\n",
       "    </tr>\n",
       "    <tr>\n",
       "      <th>50%</th>\n",
       "      <td>103105.000000</td>\n",
       "      <td>49.000000</td>\n",
       "      <td>1.000000</td>\n",
       "      <td>93547.000000</td>\n",
       "    </tr>\n",
       "    <tr>\n",
       "      <th>75%</th>\n",
       "      <td>154657.000000</td>\n",
       "      <td>66.000000</td>\n",
       "      <td>3.000000</td>\n",
       "      <td>124244.000000</td>\n",
       "    </tr>\n",
       "    <tr>\n",
       "      <th>max</th>\n",
       "      <td>206209.000000</td>\n",
       "      <td>81.000000</td>\n",
       "      <td>3.000000</td>\n",
       "      <td>593901.000000</td>\n",
       "    </tr>\n",
       "  </tbody>\n",
       "</table>\n",
       "</div>"
      ],
      "text/plain": [
       "             user_id            Age   n_dependants         income\n",
       "count  206209.000000  206209.000000  206209.000000  206209.000000\n",
       "mean   103105.000000      49.501646       1.499823   94632.852548\n",
       "std     59527.555167      18.480962       1.118433   42473.786988\n",
       "min         1.000000      18.000000       0.000000   25903.000000\n",
       "25%     51553.000000      33.000000       0.000000   59874.000000\n",
       "50%    103105.000000      49.000000       1.000000   93547.000000\n",
       "75%    154657.000000      66.000000       3.000000  124244.000000\n",
       "max    206209.000000      81.000000       3.000000  593901.000000"
      ]
     },
     "execution_count": 66,
     "metadata": {},
     "output_type": "execute_result"
    }
   ],
   "source": [
    "df_cust.describe()"
   ]
  },
  {
   "cell_type": "code",
   "execution_count": 67,
   "id": "23d90274",
   "metadata": {
    "ExecuteTime": {
     "end_time": "2023-03-14T06:40:35.550277Z",
     "start_time": "2023-03-14T06:40:35.548059Z"
    },
    "execution": {
     "iopub.execute_input": "2023-04-25T22:57:42.091482Z",
     "iopub.status.busy": "2023-04-25T22:57:42.090899Z",
     "iopub.status.idle": "2023-04-25T22:57:42.095584Z",
     "shell.execute_reply": "2023-04-25T22:57:42.094646Z",
     "shell.execute_reply.started": "2023-04-25T22:57:42.091446Z"
    }
   },
   "outputs": [],
   "source": [
    "# Rename columns for consistency.  We're clearly in the U.S., so let's use the U.S. spelling of \"dependents.\""
   ]
  },
  {
   "cell_type": "code",
   "execution_count": 68,
   "id": "273c1f81",
   "metadata": {
    "ExecuteTime": {
     "end_time": "2023-03-14T06:40:35.557652Z",
     "start_time": "2023-03-14T06:40:35.551961Z"
    },
    "execution": {
     "iopub.execute_input": "2023-04-25T22:57:42.097480Z",
     "iopub.status.busy": "2023-04-25T22:57:42.096998Z",
     "iopub.status.idle": "2023-04-25T22:57:42.103522Z",
     "shell.execute_reply": "2023-04-25T22:57:42.102840Z",
     "shell.execute_reply.started": "2023-04-25T22:57:42.097447Z"
    }
   },
   "outputs": [],
   "source": [
    "df_cust.rename(columns = {'First Name' : 'given_name', 'Surnam' : 'family_name' , 'Gender' : 'gender' , 'STATE' : 'state' , 'Age' : 'age' , 'n_dependants' : 'num_dependents' , 'user_id' : 'customer_id'}, inplace = True)"
   ]
  },
  {
   "cell_type": "code",
   "execution_count": 69,
   "id": "4cd4e1f6",
   "metadata": {
    "ExecuteTime": {
     "end_time": "2023-03-14T06:40:35.563255Z",
     "start_time": "2023-03-14T06:40:35.559332Z"
    },
    "execution": {
     "iopub.execute_input": "2023-04-25T22:57:42.104803Z",
     "iopub.status.busy": "2023-04-25T22:57:42.104535Z",
     "iopub.status.idle": "2023-04-25T22:57:42.110509Z",
     "shell.execute_reply": "2023-04-25T22:57:42.109445Z",
     "shell.execute_reply.started": "2023-04-25T22:57:42.104771Z"
    }
   },
   "outputs": [],
   "source": [
    "# Check the new column names.\n",
    "# NB:  I PREFER NOT TO DROP ANY COLUMNS BEFORE COMPLETING THE TASK.  MAYBE EVEN FIRST NAMES AND LAST NAMES WILL\n",
    "# YIELD SOMETHING INTERESTING."
   ]
  },
  {
   "cell_type": "code",
   "execution_count": 70,
   "id": "aabc3ede",
   "metadata": {
    "ExecuteTime": {
     "end_time": "2023-03-14T06:40:35.575668Z",
     "start_time": "2023-03-14T06:40:35.565042Z"
    },
    "execution": {
     "iopub.execute_input": "2023-04-25T22:57:42.112081Z",
     "iopub.status.busy": "2023-04-25T22:57:42.111808Z",
     "iopub.status.idle": "2023-04-25T22:57:42.131502Z",
     "shell.execute_reply": "2023-04-25T22:57:42.130619Z",
     "shell.execute_reply.started": "2023-04-25T22:57:42.112056Z"
    }
   },
   "outputs": [
    {
     "data": {
      "text/html": [
       "<div>\n",
       "<style scoped>\n",
       "    .dataframe tbody tr th:only-of-type {\n",
       "        vertical-align: middle;\n",
       "    }\n",
       "\n",
       "    .dataframe tbody tr th {\n",
       "        vertical-align: top;\n",
       "    }\n",
       "\n",
       "    .dataframe thead th {\n",
       "        text-align: right;\n",
       "    }\n",
       "</style>\n",
       "<table border=\"1\" class=\"dataframe\">\n",
       "  <thead>\n",
       "    <tr style=\"text-align: right;\">\n",
       "      <th></th>\n",
       "      <th>customer_id</th>\n",
       "      <th>given_name</th>\n",
       "      <th>family_name</th>\n",
       "      <th>gender</th>\n",
       "      <th>state</th>\n",
       "      <th>age</th>\n",
       "      <th>date_joined</th>\n",
       "      <th>num_dependents</th>\n",
       "      <th>fam_status</th>\n",
       "      <th>income</th>\n",
       "    </tr>\n",
       "  </thead>\n",
       "  <tbody>\n",
       "    <tr>\n",
       "      <th>0</th>\n",
       "      <td>26711</td>\n",
       "      <td>Deborah</td>\n",
       "      <td>Esquivel</td>\n",
       "      <td>Female</td>\n",
       "      <td>Missouri</td>\n",
       "      <td>48</td>\n",
       "      <td>1/1/2017</td>\n",
       "      <td>3</td>\n",
       "      <td>married</td>\n",
       "      <td>165665</td>\n",
       "    </tr>\n",
       "  </tbody>\n",
       "</table>\n",
       "</div>"
      ],
      "text/plain": [
       "   customer_id given_name family_name  gender     state  age date_joined  \\\n",
       "0        26711    Deborah    Esquivel  Female  Missouri   48    1/1/2017   \n",
       "\n",
       "   num_dependents fam_status  income  \n",
       "0               3    married  165665  "
      ]
     },
     "execution_count": 70,
     "metadata": {},
     "output_type": "execute_result"
    }
   ],
   "source": [
    "df_cust.head(1)"
   ]
  },
  {
   "cell_type": "code",
   "execution_count": 71,
   "id": "9e4c8ca8",
   "metadata": {
    "ExecuteTime": {
     "end_time": "2023-03-14T06:40:35.580377Z",
     "start_time": "2023-03-14T06:40:35.577807Z"
    },
    "execution": {
     "iopub.execute_input": "2023-04-25T22:57:42.133324Z",
     "iopub.status.busy": "2023-04-25T22:57:42.132805Z",
     "iopub.status.idle": "2023-04-25T22:57:42.137848Z",
     "shell.execute_reply": "2023-04-25T22:57:42.136741Z",
     "shell.execute_reply.started": "2023-04-25T22:57:42.133293Z"
    }
   },
   "outputs": [],
   "source": [
    "# Check state names for consistency.  In real life I would likely want to confirm spelling and/or replace full\n",
    "# names with two-letter abbreviations, and there is probably a library for precisely that purpose, but for this\n",
    "# task I'll just check that there are no more than fifty unique values."
   ]
  },
  {
   "cell_type": "code",
   "execution_count": 72,
   "id": "9abc2352",
   "metadata": {
    "ExecuteTime": {
     "end_time": "2023-03-14T06:40:35.599144Z",
     "start_time": "2023-03-14T06:40:35.582035Z"
    },
    "execution": {
     "iopub.execute_input": "2023-04-25T22:57:42.139395Z",
     "iopub.status.busy": "2023-04-25T22:57:42.139104Z",
     "iopub.status.idle": "2023-04-25T22:57:42.161789Z",
     "shell.execute_reply": "2023-04-25T22:57:42.160888Z",
     "shell.execute_reply.started": "2023-04-25T22:57:42.139363Z"
    }
   },
   "outputs": [
    {
     "data": {
      "text/plain": [
       "51"
      ]
     },
     "execution_count": 72,
     "metadata": {},
     "output_type": "execute_result"
    }
   ],
   "source": [
    "len(list(df_cust['state'].unique()))"
   ]
  },
  {
   "cell_type": "code",
   "execution_count": 73,
   "id": "8e75be12",
   "metadata": {
    "ExecuteTime": {
     "end_time": "2023-03-14T06:40:35.616856Z",
     "start_time": "2023-03-14T06:40:35.600917Z"
    },
    "execution": {
     "iopub.execute_input": "2023-04-25T22:57:42.163174Z",
     "iopub.status.busy": "2023-04-25T22:57:42.162927Z",
     "iopub.status.idle": "2023-04-25T22:57:42.184371Z",
     "shell.execute_reply": "2023-04-25T22:57:42.183190Z",
     "shell.execute_reply.started": "2023-04-25T22:57:42.163149Z"
    }
   },
   "outputs": [
    {
     "data": {
      "text/plain": [
       "array(['Missouri', 'New Mexico', 'Idaho', 'Iowa', 'Maryland', 'Kentucky',\n",
       "       'Montana', 'South Carolina', 'Texas', 'Virginia', 'Nevada',\n",
       "       'Nebraska', 'Georgia', 'Wyoming', 'Colorado', 'North Dakota',\n",
       "       'Wisconsin', 'Alaska', 'Vermont', 'Arkansas', 'Maine',\n",
       "       'North Carolina', 'West Virginia', 'Indiana', 'Oregon', 'Florida',\n",
       "       'California', 'Pennsylvania', 'Ohio', 'Connecticut', 'Arizona',\n",
       "       'Louisiana', 'Washington', 'New York', 'Mississippi', 'Oklahoma',\n",
       "       'Utah', 'New Hampshire', 'Hawaii', 'District of Columbia',\n",
       "       'Alabama', 'Massachusetts', 'Rhode Island', 'Michigan',\n",
       "       'New Jersey', 'Kansas', 'South Dakota', 'Minnesota', 'Illinois',\n",
       "       'Tennessee', 'Delaware'], dtype=object)"
      ]
     },
     "execution_count": 73,
     "metadata": {},
     "output_type": "execute_result"
    }
   ],
   "source": [
    "df_cust['state'].unique()"
   ]
  },
  {
   "cell_type": "code",
   "execution_count": 74,
   "id": "ae8f831b",
   "metadata": {
    "ExecuteTime": {
     "end_time": "2023-03-14T06:40:35.621212Z",
     "start_time": "2023-03-14T06:40:35.618541Z"
    },
    "execution": {
     "iopub.execute_input": "2023-04-25T22:57:42.187241Z",
     "iopub.status.busy": "2023-04-25T22:57:42.186004Z",
     "iopub.status.idle": "2023-04-25T22:57:42.192739Z",
     "shell.execute_reply": "2023-04-25T22:57:42.191640Z",
     "shell.execute_reply.started": "2023-04-25T22:57:42.187171Z"
    }
   },
   "outputs": [],
   "source": [
    "# OK, so that is fifty states plus Washington, D.C.  However, the number of customers per state is so even that\n",
    "# it seems useless for analysis.  It seems quite artificial."
   ]
  },
  {
   "cell_type": "code",
   "execution_count": 75,
   "id": "e6be46f4",
   "metadata": {
    "ExecuteTime": {
     "end_time": "2023-03-14T06:40:35.643154Z",
     "start_time": "2023-03-14T06:40:35.622868Z"
    },
    "execution": {
     "iopub.execute_input": "2023-04-25T22:57:42.195192Z",
     "iopub.status.busy": "2023-04-25T22:57:42.194184Z",
     "iopub.status.idle": "2023-04-25T22:57:42.219548Z",
     "shell.execute_reply": "2023-04-25T22:57:42.218516Z",
     "shell.execute_reply.started": "2023-04-25T22:57:42.195140Z"
    }
   },
   "outputs": [
    {
     "data": {
      "text/plain": [
       "count      51.000000\n",
       "mean     4043.313725\n",
       "std         0.468623\n",
       "min      4043.000000\n",
       "25%      4043.000000\n",
       "50%      4043.000000\n",
       "75%      4044.000000\n",
       "max      4044.000000\n",
       "Name: state, dtype: float64"
      ]
     },
     "execution_count": 75,
     "metadata": {},
     "output_type": "execute_result"
    }
   ],
   "source": [
    "df_cust['state'].value_counts().describe()"
   ]
  },
  {
   "cell_type": "code",
   "execution_count": 76,
   "id": "47122975",
   "metadata": {
    "ExecuteTime": {
     "end_time": "2023-03-14T06:40:35.647660Z",
     "start_time": "2023-03-14T06:40:35.645200Z"
    },
    "execution": {
     "iopub.execute_input": "2023-04-25T22:57:42.221054Z",
     "iopub.status.busy": "2023-04-25T22:57:42.220823Z",
     "iopub.status.idle": "2023-04-25T22:57:42.228305Z",
     "shell.execute_reply": "2023-04-25T22:57:42.227359Z",
     "shell.execute_reply.started": "2023-04-25T22:57:42.221031Z"
    }
   },
   "outputs": [],
   "source": [
    "# Wow, no one has more than three dependents?  That seems unlikely.  As with the customers' state, the\n",
    "# distribution seems both artificial and too even for meaningful analysis."
   ]
  },
  {
   "cell_type": "code",
   "execution_count": 77,
   "id": "31ebf228",
   "metadata": {
    "ExecuteTime": {
     "end_time": "2023-03-14T06:40:35.656553Z",
     "start_time": "2023-03-14T06:40:35.649248Z"
    },
    "execution": {
     "iopub.execute_input": "2023-04-25T22:57:42.233868Z",
     "iopub.status.busy": "2023-04-25T22:57:42.233195Z",
     "iopub.status.idle": "2023-04-25T22:57:42.246018Z",
     "shell.execute_reply": "2023-04-25T22:57:42.245080Z",
     "shell.execute_reply.started": "2023-04-25T22:57:42.233827Z"
    }
   },
   "outputs": [
    {
     "data": {
      "text/plain": [
       "0    51602\n",
       "3    51594\n",
       "1    51531\n",
       "2    51482\n",
       "Name: num_dependents, dtype: int64"
      ]
     },
     "execution_count": 77,
     "metadata": {},
     "output_type": "execute_result"
    }
   ],
   "source": [
    "df_cust['num_dependents'].value_counts()"
   ]
  },
  {
   "cell_type": "code",
   "execution_count": 78,
   "id": "7acc3a6d",
   "metadata": {
    "ExecuteTime": {
     "end_time": "2023-03-14T06:40:35.661570Z",
     "start_time": "2023-03-14T06:40:35.658432Z"
    },
    "execution": {
     "iopub.execute_input": "2023-04-25T22:57:42.248850Z",
     "iopub.status.busy": "2023-04-25T22:57:42.247529Z",
     "iopub.status.idle": "2023-04-25T22:57:42.256215Z",
     "shell.execute_reply": "2023-04-25T22:57:42.254594Z",
     "shell.execute_reply.started": "2023-04-25T22:57:42.248775Z"
    }
   },
   "outputs": [],
   "source": [
    "# Age, too, seems artificially evenly distributed.  IS INSTACART THE MOST EGALITARIAN GROCER IN THE WORLD??"
   ]
  },
  {
   "cell_type": "code",
   "execution_count": 79,
   "id": "d80a500b",
   "metadata": {
    "ExecuteTime": {
     "end_time": "2023-03-14T06:40:35.672950Z",
     "start_time": "2023-03-14T06:40:35.664535Z"
    },
    "execution": {
     "iopub.execute_input": "2023-04-25T22:57:42.258645Z",
     "iopub.status.busy": "2023-04-25T22:57:42.258192Z",
     "iopub.status.idle": "2023-04-25T22:57:42.272190Z",
     "shell.execute_reply": "2023-04-25T22:57:42.270822Z",
     "shell.execute_reply.started": "2023-04-25T22:57:42.258599Z"
    },
    "scrolled": true
   },
   "outputs": [
    {
     "data": {
      "text/plain": [
       "19    3329\n",
       "55    3317\n",
       "51    3317\n",
       "56    3306\n",
       "32    3305\n",
       "      ... \n",
       "65    3145\n",
       "25    3127\n",
       "66    3114\n",
       "50    3102\n",
       "36    3101\n",
       "Name: age, Length: 64, dtype: int64"
      ]
     },
     "execution_count": 79,
     "metadata": {},
     "output_type": "execute_result"
    }
   ],
   "source": [
    "df_cust['age'].value_counts()"
   ]
  },
  {
   "cell_type": "code",
   "execution_count": 80,
   "id": "f8f1f991",
   "metadata": {
    "ExecuteTime": {
     "end_time": "2023-03-14T06:40:35.683953Z",
     "start_time": "2023-03-14T06:40:35.674811Z"
    },
    "execution": {
     "iopub.execute_input": "2023-04-25T22:57:42.275820Z",
     "iopub.status.busy": "2023-04-25T22:57:42.275547Z",
     "iopub.status.idle": "2023-04-25T22:57:42.288170Z",
     "shell.execute_reply": "2023-04-25T22:57:42.287261Z",
     "shell.execute_reply.started": "2023-04-25T22:57:42.275796Z"
    }
   },
   "outputs": [
    {
     "data": {
      "text/plain": [
       "count      64.000000\n",
       "mean     3222.015625\n",
       "std        57.533839\n",
       "min      3101.000000\n",
       "25%      3175.250000\n",
       "50%      3235.000000\n",
       "75%      3262.250000\n",
       "max      3329.000000\n",
       "Name: age, dtype: float64"
      ]
     },
     "execution_count": 80,
     "metadata": {},
     "output_type": "execute_result"
    }
   ],
   "source": [
    "df_cust['age'].value_counts().describe()"
   ]
  },
  {
   "cell_type": "code",
   "execution_count": 81,
   "id": "0af5ff3c",
   "metadata": {
    "ExecuteTime": {
     "end_time": "2023-03-14T06:40:36.085227Z",
     "start_time": "2023-03-14T06:40:35.688568Z"
    },
    "execution": {
     "iopub.execute_input": "2023-04-25T22:57:42.290566Z",
     "iopub.status.busy": "2023-04-25T22:57:42.289749Z",
     "iopub.status.idle": "2023-04-25T22:57:42.689165Z",
     "shell.execute_reply": "2023-04-25T22:57:42.688514Z",
     "shell.execute_reply.started": "2023-04-25T22:57:42.290518Z"
    }
   },
   "outputs": [
    {
     "data": {
      "text/plain": [
       "<AxesSubplot:ylabel='Frequency'>"
      ]
     },
     "execution_count": 81,
     "metadata": {},
     "output_type": "execute_result"
    },
    {
     "data": {
      "image/png": "[encoded data removed]",
      "text/plain": [
       "<Figure size 432x288 with 1 Axes>"
      ]
     },
     "metadata": {
      "needs_background": "light"
     },
     "output_type": "display_data"
    }
   ],
   "source": [
    "df_cust['age'].plot.hist(bins = 100)"
   ]
  },
  {
   "cell_type": "code",
   "execution_count": 82,
   "id": "ca006b64",
   "metadata": {
    "ExecuteTime": {
     "end_time": "2023-03-14T06:40:36.618886Z",
     "start_time": "2023-03-14T06:40:36.087326Z"
    },
    "execution": {
     "iopub.execute_input": "2023-04-25T22:57:42.691665Z",
     "iopub.status.busy": "2023-04-25T22:57:42.690434Z",
     "iopub.status.idle": "2023-04-25T22:57:43.471661Z",
     "shell.execute_reply": "2023-04-25T22:57:43.470471Z",
     "shell.execute_reply.started": "2023-04-25T22:57:42.691614Z"
    },
    "scrolled": true
   },
   "outputs": [
    {
     "data": {
      "text/plain": [
       "<AxesSubplot:xlabel='age', ylabel='age'>"
      ]
     },
     "execution_count": 82,
     "metadata": {},
     "output_type": "execute_result"
    },
    {
     "data": {
      "image/png": "[encoded data removed]",
      "text/plain": [
       "<Figure size 432x288 with 1 Axes>"
      ]
     },
     "metadata": {
      "needs_background": "light"
     },
     "output_type": "display_data"
    }
   ],
   "source": [
    "sns.scatterplot(x = 'age', y = 'age',data = df_cust)"
   ]
  },
  {
   "cell_type": "code",
   "execution_count": 83,
   "id": "c9fb5908",
   "metadata": {
    "ExecuteTime": {
     "end_time": "2023-03-14T06:40:36.623441Z",
     "start_time": "2023-03-14T06:40:36.621042Z"
    },
    "execution": {
     "iopub.execute_input": "2023-04-25T22:57:43.473381Z",
     "iopub.status.busy": "2023-04-25T22:57:43.473061Z",
     "iopub.status.idle": "2023-04-25T22:57:43.478298Z",
     "shell.execute_reply": "2023-04-25T22:57:43.477278Z",
     "shell.execute_reply.started": "2023-04-25T22:57:43.473344Z"
    }
   },
   "outputs": [],
   "source": [
    "# Gender is almost evenly split, too, although that's more believable."
   ]
  },
  {
   "cell_type": "code",
   "execution_count": 84,
   "id": "60118ed2",
   "metadata": {
    "ExecuteTime": {
     "end_time": "2023-03-14T06:40:36.641919Z",
     "start_time": "2023-03-14T06:40:36.625168Z"
    },
    "execution": {
     "iopub.execute_input": "2023-04-25T22:57:43.480783Z",
     "iopub.status.busy": "2023-04-25T22:57:43.480124Z",
     "iopub.status.idle": "2023-04-25T22:57:43.509700Z",
     "shell.execute_reply": "2023-04-25T22:57:43.508552Z",
     "shell.execute_reply.started": "2023-04-25T22:57:43.480730Z"
    },
    "scrolled": true
   },
   "outputs": [
    {
     "data": {
      "text/plain": [
       "Male      104067\n",
       "Female    102142\n",
       "Name: gender, dtype: int64"
      ]
     },
     "execution_count": 84,
     "metadata": {},
     "output_type": "execute_result"
    }
   ],
   "source": [
    "df_cust['gender'].value_counts()"
   ]
  },
  {
   "cell_type": "code",
   "execution_count": 85,
   "id": "e1542c6f",
   "metadata": {
    "ExecuteTime": {
     "end_time": "2023-03-14T06:40:36.646825Z",
     "start_time": "2023-03-14T06:40:36.643671Z"
    },
    "execution": {
     "iopub.execute_input": "2023-04-25T22:57:43.511366Z",
     "iopub.status.busy": "2023-04-25T22:57:43.511015Z",
     "iopub.status.idle": "2023-04-25T22:57:43.525532Z",
     "shell.execute_reply": "2023-04-25T22:57:43.524319Z",
     "shell.execute_reply.started": "2023-04-25T22:57:43.511332Z"
    }
   },
   "outputs": [],
   "source": [
    "# Any duplicate customer_id values?  No."
   ]
  },
  {
   "cell_type": "code",
   "execution_count": 86,
   "id": "270acb93",
   "metadata": {
    "ExecuteTime": {
     "end_time": "2023-03-14T06:40:36.663943Z",
     "start_time": "2023-03-14T06:40:36.648506Z"
    },
    "execution": {
     "iopub.execute_input": "2023-04-25T22:57:43.528151Z",
     "iopub.status.busy": "2023-04-25T22:57:43.527416Z",
     "iopub.status.idle": "2023-04-25T22:57:43.544607Z",
     "shell.execute_reply": "2023-04-25T22:57:43.543683Z",
     "shell.execute_reply.started": "2023-04-25T22:57:43.528103Z"
    }
   },
   "outputs": [
    {
     "data": {
      "text/plain": [
       "False    206209\n",
       "Name: customer_id, dtype: int64"
      ]
     },
     "execution_count": 86,
     "metadata": {},
     "output_type": "execute_result"
    }
   ],
   "source": [
    "df_cust['customer_id'].duplicated().value_counts()"
   ]
  },
  {
   "cell_type": "code",
   "execution_count": 87,
   "id": "f691a34c",
   "metadata": {
    "ExecuteTime": {
     "end_time": "2023-03-14T06:40:36.668138Z",
     "start_time": "2023-03-14T06:40:36.665599Z"
    },
    "execution": {
     "iopub.execute_input": "2023-04-25T22:57:43.545969Z",
     "iopub.status.busy": "2023-04-25T22:57:43.545711Z",
     "iopub.status.idle": "2023-04-25T22:57:43.551786Z",
     "shell.execute_reply": "2023-04-25T22:57:43.550401Z",
     "shell.execute_reply.started": "2023-04-25T22:57:43.545944Z"
    }
   },
   "outputs": [],
   "source": [
    "# Any duplicate entries *besides* customer_id?  No."
   ]
  },
  {
   "cell_type": "code",
   "execution_count": 88,
   "id": "6feb1c49",
   "metadata": {
    "ExecuteTime": {
     "end_time": "2023-03-14T06:40:36.683610Z",
     "start_time": "2023-03-14T06:40:36.670211Z"
    },
    "execution": {
     "iopub.execute_input": "2023-04-25T22:57:43.554065Z",
     "iopub.status.busy": "2023-04-25T22:57:43.553569Z",
     "iopub.status.idle": "2023-04-25T22:57:43.568328Z",
     "shell.execute_reply": "2023-04-25T22:57:43.567636Z",
     "shell.execute_reply.started": "2023-04-25T22:57:43.554027Z"
    }
   },
   "outputs": [],
   "source": [
    "df_cust_no_customer_id = df_cust.drop(columns = ['customer_id'])"
   ]
  },
  {
   "cell_type": "code",
   "execution_count": 89,
   "id": "d28a7565",
   "metadata": {
    "ExecuteTime": {
     "end_time": "2023-03-14T06:40:36.696232Z",
     "start_time": "2023-03-14T06:40:36.685616Z"
    },
    "execution": {
     "iopub.execute_input": "2023-04-25T22:57:43.569893Z",
     "iopub.status.busy": "2023-04-25T22:57:43.569290Z",
     "iopub.status.idle": "2023-04-25T22:57:43.587561Z",
     "shell.execute_reply": "2023-04-25T22:57:43.585853Z",
     "shell.execute_reply.started": "2023-04-25T22:57:43.569856Z"
    }
   },
   "outputs": [
    {
     "data": {
      "text/html": [
       "<div>\n",
       "<style scoped>\n",
       "    .dataframe tbody tr th:only-of-type {\n",
       "        vertical-align: middle;\n",
       "    }\n",
       "\n",
       "    .dataframe tbody tr th {\n",
       "        vertical-align: top;\n",
       "    }\n",
       "\n",
       "    .dataframe thead th {\n",
       "        text-align: right;\n",
       "    }\n",
       "</style>\n",
       "<table border=\"1\" class=\"dataframe\">\n",
       "  <thead>\n",
       "    <tr style=\"text-align: right;\">\n",
       "      <th></th>\n",
       "      <th>given_name</th>\n",
       "      <th>family_name</th>\n",
       "      <th>gender</th>\n",
       "      <th>state</th>\n",
       "      <th>age</th>\n",
       "      <th>date_joined</th>\n",
       "      <th>num_dependents</th>\n",
       "      <th>fam_status</th>\n",
       "      <th>income</th>\n",
       "    </tr>\n",
       "  </thead>\n",
       "  <tbody>\n",
       "    <tr>\n",
       "      <th>0</th>\n",
       "      <td>Deborah</td>\n",
       "      <td>Esquivel</td>\n",
       "      <td>Female</td>\n",
       "      <td>Missouri</td>\n",
       "      <td>48</td>\n",
       "      <td>1/1/2017</td>\n",
       "      <td>3</td>\n",
       "      <td>married</td>\n",
       "      <td>165665</td>\n",
       "    </tr>\n",
       "    <tr>\n",
       "      <th>1</th>\n",
       "      <td>Patricia</td>\n",
       "      <td>Hart</td>\n",
       "      <td>Female</td>\n",
       "      <td>New Mexico</td>\n",
       "      <td>36</td>\n",
       "      <td>1/1/2017</td>\n",
       "      <td>0</td>\n",
       "      <td>single</td>\n",
       "      <td>59285</td>\n",
       "    </tr>\n",
       "    <tr>\n",
       "      <th>2</th>\n",
       "      <td>Kenneth</td>\n",
       "      <td>Farley</td>\n",
       "      <td>Male</td>\n",
       "      <td>Idaho</td>\n",
       "      <td>35</td>\n",
       "      <td>1/1/2017</td>\n",
       "      <td>2</td>\n",
       "      <td>married</td>\n",
       "      <td>99568</td>\n",
       "    </tr>\n",
       "    <tr>\n",
       "      <th>3</th>\n",
       "      <td>Michelle</td>\n",
       "      <td>Hicks</td>\n",
       "      <td>Female</td>\n",
       "      <td>Iowa</td>\n",
       "      <td>40</td>\n",
       "      <td>1/1/2017</td>\n",
       "      <td>0</td>\n",
       "      <td>single</td>\n",
       "      <td>42049</td>\n",
       "    </tr>\n",
       "    <tr>\n",
       "      <th>4</th>\n",
       "      <td>Ann</td>\n",
       "      <td>Gilmore</td>\n",
       "      <td>Female</td>\n",
       "      <td>Maryland</td>\n",
       "      <td>26</td>\n",
       "      <td>1/1/2017</td>\n",
       "      <td>1</td>\n",
       "      <td>married</td>\n",
       "      <td>40374</td>\n",
       "    </tr>\n",
       "  </tbody>\n",
       "</table>\n",
       "</div>"
      ],
      "text/plain": [
       "  given_name family_name  gender       state  age date_joined  num_dependents  \\\n",
       "0    Deborah    Esquivel  Female    Missouri   48    1/1/2017               3   \n",
       "1   Patricia        Hart  Female  New Mexico   36    1/1/2017               0   \n",
       "2    Kenneth      Farley    Male       Idaho   35    1/1/2017               2   \n",
       "3   Michelle       Hicks  Female        Iowa   40    1/1/2017               0   \n",
       "4        Ann     Gilmore  Female    Maryland   26    1/1/2017               1   \n",
       "\n",
       "  fam_status  income  \n",
       "0    married  165665  \n",
       "1     single   59285  \n",
       "2    married   99568  \n",
       "3     single   42049  \n",
       "4    married   40374  "
      ]
     },
     "execution_count": 89,
     "metadata": {},
     "output_type": "execute_result"
    }
   ],
   "source": [
    "df_cust_no_customer_id.head()"
   ]
  },
  {
   "cell_type": "code",
   "execution_count": 90,
   "id": "ea4c36d1",
   "metadata": {
    "ExecuteTime": {
     "end_time": "2023-03-14T06:40:36.831647Z",
     "start_time": "2023-03-14T06:40:36.697971Z"
    },
    "execution": {
     "iopub.execute_input": "2023-04-25T22:57:43.589851Z",
     "iopub.status.busy": "2023-04-25T22:57:43.589459Z",
     "iopub.status.idle": "2023-04-25T22:57:43.737442Z",
     "shell.execute_reply": "2023-04-25T22:57:43.736611Z",
     "shell.execute_reply.started": "2023-04-25T22:57:43.589803Z"
    }
   },
   "outputs": [
    {
     "data": {
      "text/html": [
       "<div>\n",
       "<style scoped>\n",
       "    .dataframe tbody tr th:only-of-type {\n",
       "        vertical-align: middle;\n",
       "    }\n",
       "\n",
       "    .dataframe tbody tr th {\n",
       "        vertical-align: top;\n",
       "    }\n",
       "\n",
       "    .dataframe thead th {\n",
       "        text-align: right;\n",
       "    }\n",
       "</style>\n",
       "<table border=\"1\" class=\"dataframe\">\n",
       "  <thead>\n",
       "    <tr style=\"text-align: right;\">\n",
       "      <th></th>\n",
       "      <th>given_name</th>\n",
       "      <th>family_name</th>\n",
       "      <th>gender</th>\n",
       "      <th>state</th>\n",
       "      <th>age</th>\n",
       "      <th>date_joined</th>\n",
       "      <th>num_dependents</th>\n",
       "      <th>fam_status</th>\n",
       "      <th>income</th>\n",
       "    </tr>\n",
       "  </thead>\n",
       "  <tbody>\n",
       "  </tbody>\n",
       "</table>\n",
       "</div>"
      ],
      "text/plain": [
       "Empty DataFrame\n",
       "Columns: [given_name, family_name, gender, state, age, date_joined, num_dependents, fam_status, income]\n",
       "Index: []"
      ]
     },
     "execution_count": 90,
     "metadata": {},
     "output_type": "execute_result"
    }
   ],
   "source": [
    "df_cust_no_customer_id[df_cust_no_customer_id.duplicated()]"
   ]
  },
  {
   "cell_type": "code",
   "execution_count": 91,
   "id": "2c7d1ffe",
   "metadata": {
    "ExecuteTime": {
     "end_time": "2023-03-14T06:40:36.836309Z",
     "start_time": "2023-03-14T06:40:36.833646Z"
    },
    "execution": {
     "iopub.execute_input": "2023-04-25T22:57:43.739203Z",
     "iopub.status.busy": "2023-04-25T22:57:43.738597Z",
     "iopub.status.idle": "2023-04-25T22:57:43.743052Z",
     "shell.execute_reply": "2023-04-25T22:57:43.742092Z",
     "shell.execute_reply.started": "2023-04-25T22:57:43.739155Z"
    }
   },
   "outputs": [],
   "source": [
    "# Check for any missing values."
   ]
  },
  {
   "cell_type": "code",
   "execution_count": 92,
   "id": "2b9e6d38",
   "metadata": {
    "ExecuteTime": {
     "end_time": "2023-03-14T06:40:37.008754Z",
     "start_time": "2023-03-14T06:40:36.838032Z"
    },
    "execution": {
     "iopub.execute_input": "2023-04-25T22:57:43.744973Z",
     "iopub.status.busy": "2023-04-25T22:57:43.744291Z",
     "iopub.status.idle": "2023-04-25T22:57:43.960689Z",
     "shell.execute_reply": "2023-04-25T22:57:43.959847Z",
     "shell.execute_reply.started": "2023-04-25T22:57:43.744933Z"
    }
   },
   "outputs": [
    {
     "data": {
      "text/plain": [
       "customer_id           0\n",
       "given_name        11259\n",
       "family_name           0\n",
       "gender                0\n",
       "state                 0\n",
       "age                   0\n",
       "date_joined           0\n",
       "num_dependents        0\n",
       "fam_status            0\n",
       "income                0\n",
       "dtype: int64"
      ]
     },
     "execution_count": 92,
     "metadata": {},
     "output_type": "execute_result"
    }
   ],
   "source": [
    "df_cust.isnull().sum()"
   ]
  },
  {
   "cell_type": "code",
   "execution_count": 93,
   "id": "3981b4d1",
   "metadata": {
    "ExecuteTime": {
     "end_time": "2023-03-14T06:40:37.013082Z",
     "start_time": "2023-03-14T06:40:37.010498Z"
    },
    "execution": {
     "iopub.execute_input": "2023-04-25T22:57:43.962128Z",
     "iopub.status.busy": "2023-04-25T22:57:43.961866Z",
     "iopub.status.idle": "2023-04-25T22:57:43.966332Z",
     "shell.execute_reply": "2023-04-25T22:57:43.965670Z",
     "shell.execute_reply.started": "2023-04-25T22:57:43.962103Z"
    }
   },
   "outputs": [],
   "source": [
    "# Maybe some people are old-fashioned and prefer not to give their first name to strangers.\n",
    "# Let's take a peak to confirm."
   ]
  },
  {
   "cell_type": "code",
   "execution_count": 94,
   "id": "d2acae80",
   "metadata": {
    "ExecuteTime": {
     "end_time": "2023-03-14T06:40:37.041320Z",
     "start_time": "2023-03-14T06:40:37.014798Z"
    },
    "execution": {
     "iopub.execute_input": "2023-04-25T22:57:43.968164Z",
     "iopub.status.busy": "2023-04-25T22:57:43.967338Z",
     "iopub.status.idle": "2023-04-25T22:57:44.004533Z",
     "shell.execute_reply": "2023-04-25T22:57:44.003667Z",
     "shell.execute_reply.started": "2023-04-25T22:57:43.968122Z"
    }
   },
   "outputs": [
    {
     "data": {
      "text/html": [
       "<div>\n",
       "<style scoped>\n",
       "    .dataframe tbody tr th:only-of-type {\n",
       "        vertical-align: middle;\n",
       "    }\n",
       "\n",
       "    .dataframe tbody tr th {\n",
       "        vertical-align: top;\n",
       "    }\n",
       "\n",
       "    .dataframe thead th {\n",
       "        text-align: right;\n",
       "    }\n",
       "</style>\n",
       "<table border=\"1\" class=\"dataframe\">\n",
       "  <thead>\n",
       "    <tr style=\"text-align: right;\">\n",
       "      <th></th>\n",
       "      <th>customer_id</th>\n",
       "      <th>given_name</th>\n",
       "      <th>family_name</th>\n",
       "      <th>gender</th>\n",
       "      <th>state</th>\n",
       "      <th>age</th>\n",
       "      <th>date_joined</th>\n",
       "      <th>num_dependents</th>\n",
       "      <th>fam_status</th>\n",
       "      <th>income</th>\n",
       "    </tr>\n",
       "  </thead>\n",
       "  <tbody>\n",
       "    <tr>\n",
       "      <th>53</th>\n",
       "      <td>76659</td>\n",
       "      <td>NaN</td>\n",
       "      <td>Gilbert</td>\n",
       "      <td>Male</td>\n",
       "      <td>Colorado</td>\n",
       "      <td>26</td>\n",
       "      <td>1/1/2017</td>\n",
       "      <td>2</td>\n",
       "      <td>married</td>\n",
       "      <td>41709</td>\n",
       "    </tr>\n",
       "    <tr>\n",
       "      <th>73</th>\n",
       "      <td>13738</td>\n",
       "      <td>NaN</td>\n",
       "      <td>Frost</td>\n",
       "      <td>Female</td>\n",
       "      <td>Louisiana</td>\n",
       "      <td>39</td>\n",
       "      <td>1/1/2017</td>\n",
       "      <td>0</td>\n",
       "      <td>single</td>\n",
       "      <td>82518</td>\n",
       "    </tr>\n",
       "    <tr>\n",
       "      <th>82</th>\n",
       "      <td>89996</td>\n",
       "      <td>NaN</td>\n",
       "      <td>Dawson</td>\n",
       "      <td>Female</td>\n",
       "      <td>Oregon</td>\n",
       "      <td>52</td>\n",
       "      <td>1/1/2017</td>\n",
       "      <td>3</td>\n",
       "      <td>married</td>\n",
       "      <td>117099</td>\n",
       "    </tr>\n",
       "    <tr>\n",
       "      <th>99</th>\n",
       "      <td>96166</td>\n",
       "      <td>NaN</td>\n",
       "      <td>Oconnor</td>\n",
       "      <td>Male</td>\n",
       "      <td>Oklahoma</td>\n",
       "      <td>51</td>\n",
       "      <td>1/1/2017</td>\n",
       "      <td>1</td>\n",
       "      <td>married</td>\n",
       "      <td>155673</td>\n",
       "    </tr>\n",
       "    <tr>\n",
       "      <th>105</th>\n",
       "      <td>29778</td>\n",
       "      <td>NaN</td>\n",
       "      <td>Dawson</td>\n",
       "      <td>Female</td>\n",
       "      <td>Utah</td>\n",
       "      <td>63</td>\n",
       "      <td>1/1/2017</td>\n",
       "      <td>3</td>\n",
       "      <td>married</td>\n",
       "      <td>151819</td>\n",
       "    </tr>\n",
       "    <tr>\n",
       "      <th>...</th>\n",
       "      <td>...</td>\n",
       "      <td>...</td>\n",
       "      <td>...</td>\n",
       "      <td>...</td>\n",
       "      <td>...</td>\n",
       "      <td>...</td>\n",
       "      <td>...</td>\n",
       "      <td>...</td>\n",
       "      <td>...</td>\n",
       "      <td>...</td>\n",
       "    </tr>\n",
       "    <tr>\n",
       "      <th>206038</th>\n",
       "      <td>121317</td>\n",
       "      <td>NaN</td>\n",
       "      <td>Melton</td>\n",
       "      <td>Male</td>\n",
       "      <td>Pennsylvania</td>\n",
       "      <td>28</td>\n",
       "      <td>3/31/2020</td>\n",
       "      <td>3</td>\n",
       "      <td>married</td>\n",
       "      <td>87783</td>\n",
       "    </tr>\n",
       "    <tr>\n",
       "      <th>206044</th>\n",
       "      <td>200799</td>\n",
       "      <td>NaN</td>\n",
       "      <td>Copeland</td>\n",
       "      <td>Female</td>\n",
       "      <td>Hawaii</td>\n",
       "      <td>52</td>\n",
       "      <td>4/1/2020</td>\n",
       "      <td>2</td>\n",
       "      <td>married</td>\n",
       "      <td>108488</td>\n",
       "    </tr>\n",
       "    <tr>\n",
       "      <th>206090</th>\n",
       "      <td>167394</td>\n",
       "      <td>NaN</td>\n",
       "      <td>Frost</td>\n",
       "      <td>Female</td>\n",
       "      <td>Hawaii</td>\n",
       "      <td>61</td>\n",
       "      <td>4/1/2020</td>\n",
       "      <td>1</td>\n",
       "      <td>married</td>\n",
       "      <td>45275</td>\n",
       "    </tr>\n",
       "    <tr>\n",
       "      <th>206162</th>\n",
       "      <td>187532</td>\n",
       "      <td>NaN</td>\n",
       "      <td>Floyd</td>\n",
       "      <td>Female</td>\n",
       "      <td>California</td>\n",
       "      <td>39</td>\n",
       "      <td>4/1/2020</td>\n",
       "      <td>0</td>\n",
       "      <td>single</td>\n",
       "      <td>56325</td>\n",
       "    </tr>\n",
       "    <tr>\n",
       "      <th>206171</th>\n",
       "      <td>116898</td>\n",
       "      <td>NaN</td>\n",
       "      <td>Delgado</td>\n",
       "      <td>Female</td>\n",
       "      <td>Colorado</td>\n",
       "      <td>23</td>\n",
       "      <td>4/1/2020</td>\n",
       "      <td>2</td>\n",
       "      <td>married</td>\n",
       "      <td>59222</td>\n",
       "    </tr>\n",
       "  </tbody>\n",
       "</table>\n",
       "<p>11259 rows × 10 columns</p>\n",
       "</div>"
      ],
      "text/plain": [
       "        customer_id given_name family_name  gender         state  age  \\\n",
       "53            76659        NaN     Gilbert    Male      Colorado   26   \n",
       "73            13738        NaN       Frost  Female     Louisiana   39   \n",
       "82            89996        NaN      Dawson  Female        Oregon   52   \n",
       "99            96166        NaN     Oconnor    Male      Oklahoma   51   \n",
       "105           29778        NaN      Dawson  Female          Utah   63   \n",
       "...             ...        ...         ...     ...           ...  ...   \n",
       "206038       121317        NaN      Melton    Male  Pennsylvania   28   \n",
       "206044       200799        NaN    Copeland  Female        Hawaii   52   \n",
       "206090       167394        NaN       Frost  Female        Hawaii   61   \n",
       "206162       187532        NaN       Floyd  Female    California   39   \n",
       "206171       116898        NaN     Delgado  Female      Colorado   23   \n",
       "\n",
       "       date_joined  num_dependents fam_status  income  \n",
       "53        1/1/2017               2    married   41709  \n",
       "73        1/1/2017               0     single   82518  \n",
       "82        1/1/2017               3    married  117099  \n",
       "99        1/1/2017               1    married  155673  \n",
       "105       1/1/2017               3    married  151819  \n",
       "...            ...             ...        ...     ...  \n",
       "206038   3/31/2020               3    married   87783  \n",
       "206044    4/1/2020               2    married  108488  \n",
       "206090    4/1/2020               1    married   45275  \n",
       "206162    4/1/2020               0     single   56325  \n",
       "206171    4/1/2020               2    married   59222  \n",
       "\n",
       "[11259 rows x 10 columns]"
      ]
     },
     "execution_count": 94,
     "metadata": {},
     "output_type": "execute_result"
    }
   ],
   "source": [
    "df_cust[df_cust['given_name'].isnull() == True]"
   ]
  },
  {
   "cell_type": "code",
   "execution_count": 95,
   "id": "6b6d15f8",
   "metadata": {
    "ExecuteTime": {
     "end_time": "2023-03-14T06:40:37.045608Z",
     "start_time": "2023-03-14T06:40:37.043053Z"
    },
    "execution": {
     "iopub.execute_input": "2023-04-25T22:57:44.007977Z",
     "iopub.status.busy": "2023-04-25T22:57:44.007537Z",
     "iopub.status.idle": "2023-04-25T22:57:44.013277Z",
     "shell.execute_reply": "2023-04-25T22:57:44.012454Z",
     "shell.execute_reply.started": "2023-04-25T22:57:44.007934Z"
    }
   },
   "outputs": [],
   "source": [
    "# Check data types."
   ]
  },
  {
   "cell_type": "code",
   "execution_count": 96,
   "id": "4e43e739",
   "metadata": {
    "ExecuteTime": {
     "end_time": "2023-03-14T06:40:37.053210Z",
     "start_time": "2023-03-14T06:40:37.048410Z"
    },
    "execution": {
     "iopub.execute_input": "2023-04-25T22:57:44.014735Z",
     "iopub.status.busy": "2023-04-25T22:57:44.014343Z",
     "iopub.status.idle": "2023-04-25T22:57:44.026920Z",
     "shell.execute_reply": "2023-04-25T22:57:44.024160Z",
     "shell.execute_reply.started": "2023-04-25T22:57:44.014708Z"
    }
   },
   "outputs": [
    {
     "data": {
      "text/plain": [
       "customer_id        int64\n",
       "given_name        object\n",
       "family_name       object\n",
       "gender            object\n",
       "state             object\n",
       "age                int64\n",
       "date_joined       object\n",
       "num_dependents     int64\n",
       "fam_status        object\n",
       "income             int64\n",
       "dtype: object"
      ]
     },
     "execution_count": 96,
     "metadata": {},
     "output_type": "execute_result"
    }
   ],
   "source": [
    "df_cust.dtypes"
   ]
  },
  {
   "cell_type": "code",
   "execution_count": 97,
   "id": "f622914d",
   "metadata": {
    "ExecuteTime": {
     "end_time": "2023-03-14T06:40:37.057850Z",
     "start_time": "2023-03-14T06:40:37.055672Z"
    },
    "execution": {
     "iopub.execute_input": "2023-04-25T22:57:44.028797Z",
     "iopub.status.busy": "2023-04-25T22:57:44.028533Z",
     "iopub.status.idle": "2023-04-25T22:57:44.033714Z",
     "shell.execute_reply": "2023-04-25T22:57:44.032859Z",
     "shell.execute_reply.started": "2023-04-25T22:57:44.028774Z"
    }
   },
   "outputs": [],
   "source": [
    "# Are there any mixed data types?  Yes."
   ]
  },
  {
   "cell_type": "code",
   "execution_count": 98,
   "id": "4a5cdf4c",
   "metadata": {
    "ExecuteTime": {
     "end_time": "2023-03-14T06:40:37.413074Z",
     "start_time": "2023-03-14T06:40:37.059946Z"
    },
    "execution": {
     "iopub.execute_input": "2023-04-25T22:57:44.036214Z",
     "iopub.status.busy": "2023-04-25T22:57:44.035721Z",
     "iopub.status.idle": "2023-04-25T22:57:44.489982Z",
     "shell.execute_reply": "2023-04-25T22:57:44.489162Z",
     "shell.execute_reply.started": "2023-04-25T22:57:44.036164Z"
    }
   },
   "outputs": [
    {
     "name": "stdout",
     "output_type": "stream",
     "text": [
      "given_name\n"
     ]
    }
   ],
   "source": [
    "for col in df_cust.columns.tolist():\n",
    "  weird = (df_cust[[col]].applymap(type) != df_cust[[col]].iloc[0].apply(type)).any(axis = 1)\n",
    "  if len (df_cust[weird]) > 0:\n",
    "    print (col)"
   ]
  },
  {
   "cell_type": "code",
   "execution_count": 99,
   "id": "c961c0ad",
   "metadata": {
    "ExecuteTime": {
     "end_time": "2023-03-14T06:40:37.417542Z",
     "start_time": "2023-03-14T06:40:37.414943Z"
    },
    "execution": {
     "iopub.execute_input": "2023-04-25T22:57:44.492204Z",
     "iopub.status.busy": "2023-04-25T22:57:44.491891Z",
     "iopub.status.idle": "2023-04-25T22:57:44.496278Z",
     "shell.execute_reply": "2023-04-25T22:57:44.495290Z",
     "shell.execute_reply.started": "2023-04-25T22:57:44.492170Z"
    }
   },
   "outputs": [],
   "source": [
    "# OK, so make given_name all strings."
   ]
  },
  {
   "cell_type": "code",
   "execution_count": 100,
   "id": "7680a958",
   "metadata": {
    "ExecuteTime": {
     "end_time": "2023-03-14T06:40:37.436241Z",
     "start_time": "2023-03-14T06:40:37.419210Z"
    },
    "execution": {
     "iopub.execute_input": "2023-04-25T22:57:44.498507Z",
     "iopub.status.busy": "2023-04-25T22:57:44.498099Z",
     "iopub.status.idle": "2023-04-25T22:57:44.514893Z",
     "shell.execute_reply": "2023-04-25T22:57:44.514043Z",
     "shell.execute_reply.started": "2023-04-25T22:57:44.498469Z"
    }
   },
   "outputs": [],
   "source": [
    "df_cust['given_name'] = df_cust['given_name'].astype('str')"
   ]
  },
  {
   "cell_type": "code",
   "execution_count": 101,
   "id": "b8d289b1",
   "metadata": {
    "ExecuteTime": {
     "end_time": "2023-03-14T06:40:37.440874Z",
     "start_time": "2023-03-14T06:40:37.438181Z"
    },
    "execution": {
     "iopub.execute_input": "2023-04-25T22:57:44.516739Z",
     "iopub.status.busy": "2023-04-25T22:57:44.516380Z",
     "iopub.status.idle": "2023-04-25T22:57:44.521979Z",
     "shell.execute_reply": "2023-04-25T22:57:44.521075Z",
     "shell.execute_reply.started": "2023-04-25T22:57:44.516695Z"
    }
   },
   "outputs": [],
   "source": [
    "# Test for mixed columns again, to be sure."
   ]
  },
  {
   "cell_type": "code",
   "execution_count": 102,
   "id": "222bbfb0",
   "metadata": {
    "ExecuteTime": {
     "end_time": "2023-03-14T06:40:37.813121Z",
     "start_time": "2023-03-14T06:40:37.442458Z"
    },
    "execution": {
     "iopub.execute_input": "2023-04-25T22:57:44.523886Z",
     "iopub.status.busy": "2023-04-25T22:57:44.523604Z",
     "iopub.status.idle": "2023-04-25T22:57:45.005469Z",
     "shell.execute_reply": "2023-04-25T22:57:45.004317Z",
     "shell.execute_reply.started": "2023-04-25T22:57:44.523861Z"
    }
   },
   "outputs": [],
   "source": [
    "for col in df_cust.columns.tolist():\n",
    "  weird = (df_cust[[col]].applymap(type) != df_cust[[col]].iloc[0].apply(type)).any(axis = 1)\n",
    "  if len (df_cust[weird]) > 0:\n",
    "    print (col)"
   ]
  },
  {
   "cell_type": "markdown",
   "id": "195d9c04",
   "metadata": {},
   "source": [
    "# Combining customer data with the rest of my prepared Instacart data."
   ]
  },
  {
   "cell_type": "markdown",
   "id": "0058d3ef",
   "metadata": {},
   "source": [
    "## I'll check the shape and the first couple of lines to make sure it looks right.\n",
    "## Note this has pricing data that was cleaned during the Excercise."
   ]
  },
  {
   "cell_type": "code",
   "execution_count": 103,
   "id": "594fd175",
   "metadata": {
    "ExecuteTime": {
     "end_time": "2023-03-14T06:41:24.605150Z",
     "start_time": "2023-03-14T06:40:37.815362Z"
    },
    "execution": {
     "iopub.execute_input": "2023-04-25T22:57:45.007807Z",
     "iopub.status.busy": "2023-04-25T22:57:45.007193Z",
     "iopub.status.idle": "2023-04-25T22:58:04.441281Z",
     "shell.execute_reply": "2023-04-25T22:58:04.440285Z",
     "shell.execute_reply.started": "2023-04-25T22:57:45.007761Z"
    }
   },
   "outputs": [],
   "source": [
    "ords_prods_merge = pd.read_pickle(os.path.join(path, '02-Data','Prepared-Data', 'ords_prods_merge_derived_columns_cleaned_prices.pkl'))"
   ]
  },
  {
   "cell_type": "code",
   "execution_count": 104,
   "id": "8763fb4e",
   "metadata": {
    "ExecuteTime": {
     "end_time": "2023-03-14T06:41:24.611359Z",
     "start_time": "2023-03-14T06:41:24.607134Z"
    },
    "execution": {
     "iopub.execute_input": "2023-04-25T22:58:04.442881Z",
     "iopub.status.busy": "2023-04-25T22:58:04.442563Z",
     "iopub.status.idle": "2023-04-25T22:58:04.448905Z",
     "shell.execute_reply": "2023-04-25T22:58:04.447877Z",
     "shell.execute_reply.started": "2023-04-25T22:58:04.442855Z"
    }
   },
   "outputs": [
    {
     "data": {
      "text/plain": [
       "(32404859, 26)"
      ]
     },
     "execution_count": 104,
     "metadata": {},
     "output_type": "execute_result"
    }
   ],
   "source": [
    "ords_prods_merge.shape"
   ]
  },
  {
   "cell_type": "code",
   "execution_count": 105,
   "id": "b2c1a790",
   "metadata": {
    "ExecuteTime": {
     "end_time": "2023-03-14T06:41:24.631274Z",
     "start_time": "2023-03-14T06:41:24.612946Z"
    },
    "execution": {
     "iopub.execute_input": "2023-04-25T22:58:04.450419Z",
     "iopub.status.busy": "2023-04-25T22:58:04.450161Z",
     "iopub.status.idle": "2023-04-25T22:58:04.471845Z",
     "shell.execute_reply": "2023-04-25T22:58:04.470898Z",
     "shell.execute_reply.started": "2023-04-25T22:58:04.450395Z"
    },
    "scrolled": true
   },
   "outputs": [
    {
     "data": {
      "text/html": [
       "<div>\n",
       "<style scoped>\n",
       "    .dataframe tbody tr th:only-of-type {\n",
       "        vertical-align: middle;\n",
       "    }\n",
       "\n",
       "    .dataframe tbody tr th {\n",
       "        vertical-align: top;\n",
       "    }\n",
       "\n",
       "    .dataframe thead th {\n",
       "        text-align: right;\n",
       "    }\n",
       "</style>\n",
       "<table border=\"1\" class=\"dataframe\">\n",
       "  <thead>\n",
       "    <tr style=\"text-align: right;\">\n",
       "      <th></th>\n",
       "      <th>Unnamed: 0</th>\n",
       "      <th>product_id</th>\n",
       "      <th>product_name</th>\n",
       "      <th>aisle_id</th>\n",
       "      <th>department_id</th>\n",
       "      <th>prices</th>\n",
       "      <th>order_id</th>\n",
       "      <th>customer_id</th>\n",
       "      <th>order_number</th>\n",
       "      <th>orders_day_of_week</th>\n",
       "      <th>...</th>\n",
       "      <th>price_range</th>\n",
       "      <th>price_range_loc</th>\n",
       "      <th>busiest_days</th>\n",
       "      <th>busiest_hours</th>\n",
       "      <th>max_order</th>\n",
       "      <th>loyalty_flag</th>\n",
       "      <th>avg_order</th>\n",
       "      <th>spending_flag</th>\n",
       "      <th>avg_order_frequency</th>\n",
       "      <th>frequency_flag</th>\n",
       "    </tr>\n",
       "  </thead>\n",
       "  <tbody>\n",
       "    <tr>\n",
       "      <th>0</th>\n",
       "      <td>0</td>\n",
       "      <td>1</td>\n",
       "      <td>Chocolate Sandwich Cookies</td>\n",
       "      <td>61</td>\n",
       "      <td>19</td>\n",
       "      <td>5.8</td>\n",
       "      <td>3139998</td>\n",
       "      <td>138</td>\n",
       "      <td>28</td>\n",
       "      <td>6</td>\n",
       "      <td>...</td>\n",
       "      <td>Mid-range product</td>\n",
       "      <td>Mid-range product</td>\n",
       "      <td>Regularly busy</td>\n",
       "      <td>Busiest hours</td>\n",
       "      <td>32</td>\n",
       "      <td>Regular customer</td>\n",
       "      <td>6.935811</td>\n",
       "      <td>Low spender</td>\n",
       "      <td>9.837838</td>\n",
       "      <td>Frequent customer</td>\n",
       "    </tr>\n",
       "    <tr>\n",
       "      <th>1</th>\n",
       "      <td>0</td>\n",
       "      <td>1</td>\n",
       "      <td>Chocolate Sandwich Cookies</td>\n",
       "      <td>61</td>\n",
       "      <td>19</td>\n",
       "      <td>5.8</td>\n",
       "      <td>1977647</td>\n",
       "      <td>138</td>\n",
       "      <td>30</td>\n",
       "      <td>6</td>\n",
       "      <td>...</td>\n",
       "      <td>Mid-range product</td>\n",
       "      <td>Mid-range product</td>\n",
       "      <td>Regularly busy</td>\n",
       "      <td>Regularly busy</td>\n",
       "      <td>32</td>\n",
       "      <td>Regular customer</td>\n",
       "      <td>6.935811</td>\n",
       "      <td>Low spender</td>\n",
       "      <td>9.837838</td>\n",
       "      <td>Frequent customer</td>\n",
       "    </tr>\n",
       "  </tbody>\n",
       "</table>\n",
       "<p>2 rows × 26 columns</p>\n",
       "</div>"
      ],
      "text/plain": [
       "   Unnamed: 0  product_id                product_name  aisle_id  \\\n",
       "0           0           1  Chocolate Sandwich Cookies        61   \n",
       "1           0           1  Chocolate Sandwich Cookies        61   \n",
       "\n",
       "   department_id  prices  order_id  customer_id  order_number  \\\n",
       "0             19     5.8   3139998          138            28   \n",
       "1             19     5.8   1977647          138            30   \n",
       "\n",
       "   orders_day_of_week  ...        price_range    price_range_loc  \\\n",
       "0                   6  ...  Mid-range product  Mid-range product   \n",
       "1                   6  ...  Mid-range product  Mid-range product   \n",
       "\n",
       "     busiest_days   busiest_hours max_order      loyalty_flag avg_order  \\\n",
       "0  Regularly busy   Busiest hours        32  Regular customer  6.935811   \n",
       "1  Regularly busy  Regularly busy        32  Regular customer  6.935811   \n",
       "\n",
       "  spending_flag avg_order_frequency     frequency_flag  \n",
       "0   Low spender            9.837838  Frequent customer  \n",
       "1   Low spender            9.837838  Frequent customer  \n",
       "\n",
       "[2 rows x 26 columns]"
      ]
     },
     "execution_count": 105,
     "metadata": {},
     "output_type": "execute_result"
    }
   ],
   "source": [
    "ords_prods_merge.head(2)"
   ]
  },
  {
   "cell_type": "code",
   "execution_count": 106,
   "id": "5eb3991a",
   "metadata": {
    "ExecuteTime": {
     "end_time": "2023-03-14T06:41:24.637363Z",
     "start_time": "2023-03-14T06:41:24.632947Z"
    },
    "execution": {
     "iopub.execute_input": "2023-04-25T22:58:04.473224Z",
     "iopub.status.busy": "2023-04-25T22:58:04.472983Z",
     "iopub.status.idle": "2023-04-25T22:58:04.479606Z",
     "shell.execute_reply": "2023-04-25T22:58:04.478897Z",
     "shell.execute_reply.started": "2023-04-25T22:58:04.473197Z"
    }
   },
   "outputs": [
    {
     "data": {
      "text/plain": [
       "dtype('int64')"
      ]
     },
     "execution_count": 106,
     "metadata": {},
     "output_type": "execute_result"
    }
   ],
   "source": [
    "ords_prods_merge['customer_id'].dtype"
   ]
  },
  {
   "cell_type": "code",
   "execution_count": 107,
   "id": "4126a17c",
   "metadata": {
    "ExecuteTime": {
     "end_time": "2023-03-14T06:41:24.642441Z",
     "start_time": "2023-03-14T06:41:24.638896Z"
    },
    "execution": {
     "iopub.execute_input": "2023-04-25T22:58:04.481482Z",
     "iopub.status.busy": "2023-04-25T22:58:04.480735Z",
     "iopub.status.idle": "2023-04-25T22:58:04.487276Z",
     "shell.execute_reply": "2023-04-25T22:58:04.484867Z",
     "shell.execute_reply.started": "2023-04-25T22:58:04.481441Z"
    }
   },
   "outputs": [],
   "source": [
    "# Merge the ords_prods_merge dataframe with the new df_cust dataframe, using customer_id as the key.\n",
    "# I made sure that customer_id is of type 'int64' in both dataframes, above."
   ]
  },
  {
   "cell_type": "code",
   "execution_count": 108,
   "id": "87e1959e",
   "metadata": {
    "ExecuteTime": {
     "end_time": "2023-03-14T06:41:54.245655Z",
     "start_time": "2023-03-14T06:41:24.644208Z"
    },
    "execution": {
     "iopub.execute_input": "2023-04-25T22:58:04.488929Z",
     "iopub.status.busy": "2023-04-25T22:58:04.488517Z",
     "iopub.status.idle": "2023-04-25T22:58:35.041521Z",
     "shell.execute_reply": "2023-04-25T22:58:35.040718Z",
     "shell.execute_reply.started": "2023-04-25T22:58:04.488902Z"
    }
   },
   "outputs": [],
   "source": [
    "cust_ords_prods_merge = ords_prods_merge.merge(df_cust, on = 'customer_id', how = 'outer')"
   ]
  },
  {
   "cell_type": "code",
   "execution_count": 109,
   "id": "9e6de0eb",
   "metadata": {
    "ExecuteTime": {
     "end_time": "2023-03-14T06:41:54.251748Z",
     "start_time": "2023-03-14T06:41:54.247565Z"
    },
    "execution": {
     "iopub.execute_input": "2023-04-25T22:58:35.042807Z",
     "iopub.status.busy": "2023-04-25T22:58:35.042533Z",
     "iopub.status.idle": "2023-04-25T22:58:35.049280Z",
     "shell.execute_reply": "2023-04-25T22:58:35.047617Z",
     "shell.execute_reply.started": "2023-04-25T22:58:35.042753Z"
    }
   },
   "outputs": [
    {
     "data": {
      "text/plain": [
       "(32404859, 35)"
      ]
     },
     "execution_count": 109,
     "metadata": {},
     "output_type": "execute_result"
    }
   ],
   "source": [
    "cust_ords_prods_merge.shape"
   ]
  },
  {
   "cell_type": "code",
   "execution_count": 110,
   "id": "7391b781",
   "metadata": {
    "ExecuteTime": {
     "end_time": "2023-03-14T06:41:54.271033Z",
     "start_time": "2023-03-14T06:41:54.253595Z"
    },
    "execution": {
     "iopub.execute_input": "2023-04-25T22:58:35.051636Z",
     "iopub.status.busy": "2023-04-25T22:58:35.051262Z",
     "iopub.status.idle": "2023-04-25T22:58:35.071777Z",
     "shell.execute_reply": "2023-04-25T22:58:35.070685Z",
     "shell.execute_reply.started": "2023-04-25T22:58:35.051599Z"
    }
   },
   "outputs": [
    {
     "data": {
      "text/html": [
       "<div>\n",
       "<style scoped>\n",
       "    .dataframe tbody tr th:only-of-type {\n",
       "        vertical-align: middle;\n",
       "    }\n",
       "\n",
       "    .dataframe tbody tr th {\n",
       "        vertical-align: top;\n",
       "    }\n",
       "\n",
       "    .dataframe thead th {\n",
       "        text-align: right;\n",
       "    }\n",
       "</style>\n",
       "<table border=\"1\" class=\"dataframe\">\n",
       "  <thead>\n",
       "    <tr style=\"text-align: right;\">\n",
       "      <th></th>\n",
       "      <th>Unnamed: 0</th>\n",
       "      <th>product_id</th>\n",
       "      <th>product_name</th>\n",
       "      <th>aisle_id</th>\n",
       "      <th>department_id</th>\n",
       "      <th>prices</th>\n",
       "      <th>order_id</th>\n",
       "      <th>customer_id</th>\n",
       "      <th>order_number</th>\n",
       "      <th>orders_day_of_week</th>\n",
       "      <th>...</th>\n",
       "      <th>frequency_flag</th>\n",
       "      <th>given_name</th>\n",
       "      <th>family_name</th>\n",
       "      <th>gender</th>\n",
       "      <th>state</th>\n",
       "      <th>age</th>\n",
       "      <th>date_joined</th>\n",
       "      <th>num_dependents</th>\n",
       "      <th>fam_status</th>\n",
       "      <th>income</th>\n",
       "    </tr>\n",
       "  </thead>\n",
       "  <tbody>\n",
       "    <tr>\n",
       "      <th>0</th>\n",
       "      <td>0</td>\n",
       "      <td>1</td>\n",
       "      <td>Chocolate Sandwich Cookies</td>\n",
       "      <td>61</td>\n",
       "      <td>19</td>\n",
       "      <td>5.8</td>\n",
       "      <td>3139998</td>\n",
       "      <td>138</td>\n",
       "      <td>28</td>\n",
       "      <td>6</td>\n",
       "      <td>...</td>\n",
       "      <td>Frequent customer</td>\n",
       "      <td>Charles</td>\n",
       "      <td>Cox</td>\n",
       "      <td>Male</td>\n",
       "      <td>Minnesota</td>\n",
       "      <td>81</td>\n",
       "      <td>8/1/2019</td>\n",
       "      <td>1</td>\n",
       "      <td>married</td>\n",
       "      <td>49620</td>\n",
       "    </tr>\n",
       "  </tbody>\n",
       "</table>\n",
       "<p>1 rows × 35 columns</p>\n",
       "</div>"
      ],
      "text/plain": [
       "   Unnamed: 0  product_id                product_name  aisle_id  \\\n",
       "0           0           1  Chocolate Sandwich Cookies        61   \n",
       "\n",
       "   department_id  prices  order_id  customer_id  order_number  \\\n",
       "0             19     5.8   3139998          138            28   \n",
       "\n",
       "   orders_day_of_week  ...     frequency_flag  given_name  family_name  \\\n",
       "0                   6  ...  Frequent customer     Charles          Cox   \n",
       "\n",
       "   gender      state age date_joined num_dependents fam_status income  \n",
       "0    Male  Minnesota  81    8/1/2019              1    married  49620  \n",
       "\n",
       "[1 rows x 35 columns]"
      ]
     },
     "execution_count": 110,
     "metadata": {},
     "output_type": "execute_result"
    }
   ],
   "source": [
    "cust_ords_prods_merge.head(1)"
   ]
  },
  {
   "cell_type": "markdown",
   "id": "cea28b1a",
   "metadata": {},
   "source": [
    "## Export newly-combined customer and order data as a pickle file."
   ]
  },
  {
   "cell_type": "code",
   "execution_count": 111,
   "id": "928b24ba",
   "metadata": {
    "ExecuteTime": {
     "end_time": "2023-03-14T06:55:35.634137Z",
     "start_time": "2023-03-14T06:54:35.729080Z"
    },
    "execution": {
     "iopub.execute_input": "2023-04-25T22:58:35.073929Z",
     "iopub.status.busy": "2023-04-25T22:58:35.073619Z",
     "iopub.status.idle": "2023-04-25T22:59:31.672523Z",
     "shell.execute_reply": "2023-04-25T22:59:31.671886Z",
     "shell.execute_reply.started": "2023-04-25T22:58:35.073895Z"
    },
    "tags": []
   },
   "outputs": [],
   "source": [
    "cust_ords_prods_merge.to_pickle(os.path.join(path, '02-Data','Prepared-Data', 'cust_ords_prods_merge.pkl'))"
   ]
  }
 ],
 "metadata": {
  "kernelspec": {
   "display_name": "Python 3 (ipykernel)",
   "language": "python",
   "name": "python3"
  },
  "language_info": {
   "codemirror_mode": {
    "name": "ipython",
    "version": 3
   },
   "file_extension": ".py",
   "mimetype": "text/x-python",
   "name": "python",
   "nbconvert_exporter": "python",
   "pygments_lexer": "ipython3",
   "version": "3.9.12"
  }
 },
 "nbformat": 4,
 "nbformat_minor": 5
}
