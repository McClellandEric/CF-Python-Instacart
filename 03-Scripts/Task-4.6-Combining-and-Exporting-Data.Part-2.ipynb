{
 "cells": [
  {
   "cell_type": "markdown",
   "id": "18ca81cd",
   "metadata": {},
   "source": [
    "# Task 4.6, Steps #3-8."
   ]
  },
  {
   "cell_type": "markdown",
   "id": "8648cd3c",
   "metadata": {},
   "source": [
    "## Step 3:  In a new notebook, import the orders_products_combined dataframe from the pickle file you just saved."
   ]
  },
  {
   "cell_type": "code",
   "execution_count": 1,
   "id": "8e54f456",
   "metadata": {
    "execution": {
     "iopub.execute_input": "2023-04-25T13:36:53.794338Z",
     "iopub.status.busy": "2023-04-25T13:36:53.794069Z",
     "iopub.status.idle": "2023-04-25T13:36:54.143803Z",
     "shell.execute_reply": "2023-04-25T13:36:54.143263Z",
     "shell.execute_reply.started": "2023-04-25T13:36:53.794266Z"
    }
   },
   "outputs": [],
   "source": [
    "# Import libraries\n",
    "import pandas as pd\n",
    "import numpy as np\n",
    "import os"
   ]
  },
  {
   "cell_type": "code",
   "execution_count": 2,
   "id": "0cd6955d",
   "metadata": {
    "execution": {
     "iopub.execute_input": "2023-04-25T13:36:54.145252Z",
     "iopub.status.busy": "2023-04-25T13:36:54.144963Z",
     "iopub.status.idle": "2023-04-25T13:36:54.148041Z",
     "shell.execute_reply": "2023-04-25T13:36:54.147260Z",
     "shell.execute_reply.started": "2023-04-25T13:36:54.145229Z"
    }
   },
   "outputs": [],
   "source": [
    "# Set a PATH variable."
   ]
  },
  {
   "cell_type": "code",
   "execution_count": 3,
   "id": "ab9613ed",
   "metadata": {
    "execution": {
     "iopub.execute_input": "2023-04-25T13:36:54.149567Z",
     "iopub.status.busy": "2023-04-25T13:36:54.149227Z",
     "iopub.status.idle": "2023-04-25T13:36:54.153774Z",
     "shell.execute_reply": "2023-04-25T13:36:54.153257Z",
     "shell.execute_reply.started": "2023-04-25T13:36:54.149541Z"
    }
   },
   "outputs": [],
   "source": [
    "# Linux PATH - Sadly, my Linux system with 8GB of total RAM could not import the new df_ords_prior DataFrame.\n",
    "# BUT, now I have moved again, to an AWS EC2 instance that should be able to handle this."
   ]
  },
  {
   "cell_type": "code",
   "execution_count": 4,
   "id": "75ebf727",
   "metadata": {
    "execution": {
     "iopub.execute_input": "2023-04-25T13:36:54.155680Z",
     "iopub.status.busy": "2023-04-25T13:36:54.155333Z",
     "iopub.status.idle": "2023-04-25T13:36:54.160093Z",
     "shell.execute_reply": "2023-04-25T13:36:54.159191Z",
     "shell.execute_reply.started": "2023-04-25T13:36:54.155656Z"
    }
   },
   "outputs": [],
   "source": [
    "path = (r'~/careerfoundry/tasks/data-immersion/Achievement4/Instacart-Basket-Analysis')"
   ]
  },
  {
   "cell_type": "code",
   "execution_count": 5,
   "id": "9671f3f5",
   "metadata": {
    "execution": {
     "iopub.execute_input": "2023-04-25T13:36:54.161810Z",
     "iopub.status.busy": "2023-04-25T13:36:54.161442Z",
     "iopub.status.idle": "2023-04-25T13:36:54.166884Z",
     "shell.execute_reply": "2023-04-25T13:36:54.166287Z",
     "shell.execute_reply.started": "2023-04-25T13:36:54.161785Z"
    }
   },
   "outputs": [],
   "source": [
    "# windoze PATH - The windoze laptop I bought for Excel and Tableau also has 16GB of RAM, so I migrated there."
   ]
  },
  {
   "cell_type": "code",
   "execution_count": 6,
   "id": "b3cae9d0",
   "metadata": {
    "execution": {
     "iopub.execute_input": "2023-04-25T13:36:54.168192Z",
     "iopub.status.busy": "2023-04-25T13:36:54.167840Z",
     "iopub.status.idle": "2023-04-25T13:36:54.172604Z",
     "shell.execute_reply": "2023-04-25T13:36:54.171884Z",
     "shell.execute_reply.started": "2023-04-25T13:36:54.168165Z"
    }
   },
   "outputs": [],
   "source": [
    "## path = (r'C:\\Users\\emccc\\OneDrive\\Documents\\CareerFoundry\\Achievement-4\\Instacart-Basket-Analysis')"
   ]
  },
  {
   "cell_type": "code",
   "execution_count": 7,
   "id": "67aaea8c",
   "metadata": {
    "execution": {
     "iopub.execute_input": "2023-04-25T13:36:54.173848Z",
     "iopub.status.busy": "2023-04-25T13:36:54.173665Z",
     "iopub.status.idle": "2023-04-25T13:36:54.177975Z",
     "shell.execute_reply": "2023-04-25T13:36:54.177300Z",
     "shell.execute_reply.started": "2023-04-25T13:36:54.173824Z"
    }
   },
   "outputs": [],
   "source": [
    "# Read the orders_products_combined.pkl file into a new DataFrame, df_orders_products_combined ."
   ]
  },
  {
   "cell_type": "code",
   "execution_count": 8,
   "id": "586fbc98",
   "metadata": {
    "execution": {
     "iopub.execute_input": "2023-04-25T13:36:54.179097Z",
     "iopub.status.busy": "2023-04-25T13:36:54.178879Z",
     "iopub.status.idle": "2023-04-25T13:36:55.491020Z",
     "shell.execute_reply": "2023-04-25T13:36:55.490262Z",
     "shell.execute_reply.started": "2023-04-25T13:36:54.179072Z"
    }
   },
   "outputs": [],
   "source": [
    "df_orders_products_combined = pd.read_pickle(os.path.join(path, '02-Data', 'Prepared-Data', 'orders_products_combined.pkl'))"
   ]
  },
  {
   "cell_type": "markdown",
   "id": "33fe0c72",
   "metadata": {},
   "source": [
    "## Step #4:  Check the shape of the imported dataframe (it should be the same as the one you exported—always check!)."
   ]
  },
  {
   "cell_type": "code",
   "execution_count": 9,
   "id": "8e3fa8f9",
   "metadata": {
    "execution": {
     "iopub.execute_input": "2023-04-25T13:36:55.492064Z",
     "iopub.status.busy": "2023-04-25T13:36:55.491885Z",
     "iopub.status.idle": "2023-04-25T13:36:55.495537Z",
     "shell.execute_reply": "2023-04-25T13:36:55.494549Z",
     "shell.execute_reply.started": "2023-04-25T13:36:55.492042Z"
    }
   },
   "outputs": [],
   "source": [
    "# Basic checking for comparison to the previous incarnation as, \"df_merged_large\""
   ]
  },
  {
   "cell_type": "code",
   "execution_count": 10,
   "id": "30a246b6",
   "metadata": {
    "execution": {
     "iopub.execute_input": "2023-04-25T13:36:55.498568Z",
     "iopub.status.busy": "2023-04-25T13:36:55.498347Z",
     "iopub.status.idle": "2023-04-25T13:36:55.522681Z",
     "shell.execute_reply": "2023-04-25T13:36:55.521841Z",
     "shell.execute_reply.started": "2023-04-25T13:36:55.498544Z"
    }
   },
   "outputs": [
    {
     "data": {
      "text/html": [
       "<div>\n",
       "<style scoped>\n",
       "    .dataframe tbody tr th:only-of-type {\n",
       "        vertical-align: middle;\n",
       "    }\n",
       "\n",
       "    .dataframe tbody tr th {\n",
       "        vertical-align: top;\n",
       "    }\n",
       "\n",
       "    .dataframe thead th {\n",
       "        text-align: right;\n",
       "    }\n",
       "</style>\n",
       "<table border=\"1\" class=\"dataframe\">\n",
       "  <thead>\n",
       "    <tr style=\"text-align: right;\">\n",
       "      <th></th>\n",
       "      <th>order_id</th>\n",
       "      <th>customer_id</th>\n",
       "      <th>order_number</th>\n",
       "      <th>orders_day_of_week</th>\n",
       "      <th>order_hour_of_day</th>\n",
       "      <th>days_since_prior_order</th>\n",
       "      <th>product_id</th>\n",
       "      <th>add_to_cart_order</th>\n",
       "      <th>reordered</th>\n",
       "      <th>_merge</th>\n",
       "    </tr>\n",
       "  </thead>\n",
       "  <tbody>\n",
       "    <tr>\n",
       "      <th>0</th>\n",
       "      <td>2539329</td>\n",
       "      <td>1</td>\n",
       "      <td>1</td>\n",
       "      <td>2</td>\n",
       "      <td>8</td>\n",
       "      <td>0.0</td>\n",
       "      <td>196</td>\n",
       "      <td>1</td>\n",
       "      <td>0</td>\n",
       "      <td>both</td>\n",
       "    </tr>\n",
       "    <tr>\n",
       "      <th>1</th>\n",
       "      <td>2539329</td>\n",
       "      <td>1</td>\n",
       "      <td>1</td>\n",
       "      <td>2</td>\n",
       "      <td>8</td>\n",
       "      <td>0.0</td>\n",
       "      <td>14084</td>\n",
       "      <td>2</td>\n",
       "      <td>0</td>\n",
       "      <td>both</td>\n",
       "    </tr>\n",
       "    <tr>\n",
       "      <th>2</th>\n",
       "      <td>2539329</td>\n",
       "      <td>1</td>\n",
       "      <td>1</td>\n",
       "      <td>2</td>\n",
       "      <td>8</td>\n",
       "      <td>0.0</td>\n",
       "      <td>12427</td>\n",
       "      <td>3</td>\n",
       "      <td>0</td>\n",
       "      <td>both</td>\n",
       "    </tr>\n",
       "    <tr>\n",
       "      <th>3</th>\n",
       "      <td>2539329</td>\n",
       "      <td>1</td>\n",
       "      <td>1</td>\n",
       "      <td>2</td>\n",
       "      <td>8</td>\n",
       "      <td>0.0</td>\n",
       "      <td>26088</td>\n",
       "      <td>4</td>\n",
       "      <td>0</td>\n",
       "      <td>both</td>\n",
       "    </tr>\n",
       "    <tr>\n",
       "      <th>4</th>\n",
       "      <td>2539329</td>\n",
       "      <td>1</td>\n",
       "      <td>1</td>\n",
       "      <td>2</td>\n",
       "      <td>8</td>\n",
       "      <td>0.0</td>\n",
       "      <td>26405</td>\n",
       "      <td>5</td>\n",
       "      <td>0</td>\n",
       "      <td>both</td>\n",
       "    </tr>\n",
       "  </tbody>\n",
       "</table>\n",
       "</div>"
      ],
      "text/plain": [
       "   order_id  customer_id  order_number  orders_day_of_week  order_hour_of_day  \\\n",
       "0   2539329            1             1                   2                  8   \n",
       "1   2539329            1             1                   2                  8   \n",
       "2   2539329            1             1                   2                  8   \n",
       "3   2539329            1             1                   2                  8   \n",
       "4   2539329            1             1                   2                  8   \n",
       "\n",
       "   days_since_prior_order  product_id  add_to_cart_order  reordered _merge  \n",
       "0                     0.0         196                  1          0   both  \n",
       "1                     0.0       14084                  2          0   both  \n",
       "2                     0.0       12427                  3          0   both  \n",
       "3                     0.0       26088                  4          0   both  \n",
       "4                     0.0       26405                  5          0   both  "
      ]
     },
     "execution_count": 10,
     "metadata": {},
     "output_type": "execute_result"
    }
   ],
   "source": [
    "df_orders_products_combined.head()"
   ]
  },
  {
   "cell_type": "code",
   "execution_count": 11,
   "id": "60de6585",
   "metadata": {
    "execution": {
     "iopub.execute_input": "2023-04-25T13:36:55.524996Z",
     "iopub.status.busy": "2023-04-25T13:36:55.524572Z",
     "iopub.status.idle": "2023-04-25T13:36:55.533139Z",
     "shell.execute_reply": "2023-04-25T13:36:55.532412Z",
     "shell.execute_reply.started": "2023-04-25T13:36:55.524967Z"
    }
   },
   "outputs": [
    {
     "data": {
      "text/plain": [
       "(32434489, 10)"
      ]
     },
     "execution_count": 11,
     "metadata": {},
     "output_type": "execute_result"
    }
   ],
   "source": [
    "df_orders_products_combined.shape"
   ]
  },
  {
   "cell_type": "code",
   "execution_count": 12,
   "id": "f1ef74d1",
   "metadata": {
    "execution": {
     "iopub.execute_input": "2023-04-25T13:36:55.534715Z",
     "iopub.status.busy": "2023-04-25T13:36:55.534002Z",
     "iopub.status.idle": "2023-04-25T13:36:55.749561Z",
     "shell.execute_reply": "2023-04-25T13:36:55.748631Z",
     "shell.execute_reply.started": "2023-04-25T13:36:55.534686Z"
    }
   },
   "outputs": [
    {
     "data": {
      "text/plain": [
       "both          32434489\n",
       "left_only            0\n",
       "right_only           0\n",
       "Name: _merge, dtype: int64"
      ]
     },
     "execution_count": 12,
     "metadata": {},
     "output_type": "execute_result"
    }
   ],
   "source": [
    "df_orders_products_combined['_merge'].value_counts()"
   ]
  },
  {
   "cell_type": "markdown",
   "id": "015368cb",
   "metadata": {},
   "source": [
    "## Step #5:  Determine a suitable way to combine the orders_products_combined dataframe with your products data set. Make sure you’re using your wrangled, cleaned, and deduped products data set stored in your “Prepared Data” folder from the previous Exercise’s task."
   ]
  },
  {
   "cell_type": "code",
   "execution_count": 13,
   "id": "9a6df680",
   "metadata": {
    "execution": {
     "iopub.execute_input": "2023-04-25T13:36:55.750664Z",
     "iopub.status.busy": "2023-04-25T13:36:55.750469Z",
     "iopub.status.idle": "2023-04-25T13:36:55.754456Z",
     "shell.execute_reply": "2023-04-25T13:36:55.753503Z",
     "shell.execute_reply.started": "2023-04-25T13:36:55.750640Z"
    }
   },
   "outputs": [],
   "source": [
    "# Read the DataFrame 'df_prods_checked' from the file products_checked.csv ."
   ]
  },
  {
   "cell_type": "code",
   "execution_count": 14,
   "id": "4de10342",
   "metadata": {
    "execution": {
     "iopub.execute_input": "2023-04-25T13:36:55.755741Z",
     "iopub.status.busy": "2023-04-25T13:36:55.755514Z",
     "iopub.status.idle": "2023-04-25T13:36:55.815585Z",
     "shell.execute_reply": "2023-04-25T13:36:55.814925Z",
     "shell.execute_reply.started": "2023-04-25T13:36:55.755716Z"
    }
   },
   "outputs": [],
   "source": [
    "df_prods_checked = pd.read_csv(os.path.join(path, '02-Data','Prepared-Data', 'products_checked.csv'))"
   ]
  },
  {
   "cell_type": "code",
   "execution_count": 15,
   "id": "447ee73b",
   "metadata": {
    "execution": {
     "iopub.execute_input": "2023-04-25T13:36:55.816617Z",
     "iopub.status.busy": "2023-04-25T13:36:55.816434Z",
     "iopub.status.idle": "2023-04-25T13:36:55.822753Z",
     "shell.execute_reply": "2023-04-25T13:36:55.822000Z",
     "shell.execute_reply.started": "2023-04-25T13:36:55.816594Z"
    }
   },
   "outputs": [],
   "source": [
    "# Sanity checks for df_prods_checked ."
   ]
  },
  {
   "cell_type": "code",
   "execution_count": 16,
   "id": "a179bbb2",
   "metadata": {
    "execution": {
     "iopub.execute_input": "2023-04-25T13:36:55.824533Z",
     "iopub.status.busy": "2023-04-25T13:36:55.824088Z",
     "iopub.status.idle": "2023-04-25T13:36:55.830363Z",
     "shell.execute_reply": "2023-04-25T13:36:55.829581Z",
     "shell.execute_reply.started": "2023-04-25T13:36:55.824495Z"
    }
   },
   "outputs": [],
   "source": [
    "# NOTE:  In the previous Exercise/Task, the df_prods_checked DataFrame was written to a CSV file with an additional index\n",
    "# column by default (Exercise 4.4 did not mention the 'index = False' option to 'df.to_csv').  I'll see whether this\n",
    "# poses a true problem, as it might not."
   ]
  },
  {
   "cell_type": "code",
   "execution_count": 17,
   "id": "a13c2d2e",
   "metadata": {
    "execution": {
     "iopub.execute_input": "2023-04-25T13:36:55.832384Z",
     "iopub.status.busy": "2023-04-25T13:36:55.831868Z",
     "iopub.status.idle": "2023-04-25T13:36:55.838679Z",
     "shell.execute_reply": "2023-04-25T13:36:55.837896Z",
     "shell.execute_reply.started": "2023-04-25T13:36:55.832343Z"
    }
   },
   "outputs": [
    {
     "data": {
      "text/plain": [
       "(49672, 6)"
      ]
     },
     "execution_count": 17,
     "metadata": {},
     "output_type": "execute_result"
    }
   ],
   "source": [
    "df_prods_checked.shape"
   ]
  },
  {
   "cell_type": "code",
   "execution_count": 18,
   "id": "30fd9f4c",
   "metadata": {
    "execution": {
     "iopub.execute_input": "2023-04-25T13:36:55.840608Z",
     "iopub.status.busy": "2023-04-25T13:36:55.840256Z",
     "iopub.status.idle": "2023-04-25T13:36:55.854676Z",
     "shell.execute_reply": "2023-04-25T13:36:55.854098Z",
     "shell.execute_reply.started": "2023-04-25T13:36:55.840564Z"
    }
   },
   "outputs": [
    {
     "data": {
      "text/html": [
       "<div>\n",
       "<style scoped>\n",
       "    .dataframe tbody tr th:only-of-type {\n",
       "        vertical-align: middle;\n",
       "    }\n",
       "\n",
       "    .dataframe tbody tr th {\n",
       "        vertical-align: top;\n",
       "    }\n",
       "\n",
       "    .dataframe thead th {\n",
       "        text-align: right;\n",
       "    }\n",
       "</style>\n",
       "<table border=\"1\" class=\"dataframe\">\n",
       "  <thead>\n",
       "    <tr style=\"text-align: right;\">\n",
       "      <th></th>\n",
       "      <th>Unnamed: 0</th>\n",
       "      <th>product_id</th>\n",
       "      <th>product_name</th>\n",
       "      <th>aisle_id</th>\n",
       "      <th>department_id</th>\n",
       "      <th>prices</th>\n",
       "    </tr>\n",
       "  </thead>\n",
       "  <tbody>\n",
       "    <tr>\n",
       "      <th>0</th>\n",
       "      <td>0</td>\n",
       "      <td>1</td>\n",
       "      <td>Chocolate Sandwich Cookies</td>\n",
       "      <td>61</td>\n",
       "      <td>19</td>\n",
       "      <td>5.8</td>\n",
       "    </tr>\n",
       "    <tr>\n",
       "      <th>1</th>\n",
       "      <td>1</td>\n",
       "      <td>2</td>\n",
       "      <td>All-Seasons Salt</td>\n",
       "      <td>104</td>\n",
       "      <td>13</td>\n",
       "      <td>9.3</td>\n",
       "    </tr>\n",
       "    <tr>\n",
       "      <th>2</th>\n",
       "      <td>2</td>\n",
       "      <td>3</td>\n",
       "      <td>Robust Golden Unsweetened Oolong Tea</td>\n",
       "      <td>94</td>\n",
       "      <td>7</td>\n",
       "      <td>4.5</td>\n",
       "    </tr>\n",
       "    <tr>\n",
       "      <th>3</th>\n",
       "      <td>3</td>\n",
       "      <td>4</td>\n",
       "      <td>Smart Ones Classic Favorites Mini Rigatoni Wit...</td>\n",
       "      <td>38</td>\n",
       "      <td>1</td>\n",
       "      <td>10.5</td>\n",
       "    </tr>\n",
       "    <tr>\n",
       "      <th>4</th>\n",
       "      <td>4</td>\n",
       "      <td>5</td>\n",
       "      <td>Green Chile Anytime Sauce</td>\n",
       "      <td>5</td>\n",
       "      <td>13</td>\n",
       "      <td>4.3</td>\n",
       "    </tr>\n",
       "    <tr>\n",
       "      <th>...</th>\n",
       "      <td>...</td>\n",
       "      <td>...</td>\n",
       "      <td>...</td>\n",
       "      <td>...</td>\n",
       "      <td>...</td>\n",
       "      <td>...</td>\n",
       "    </tr>\n",
       "    <tr>\n",
       "      <th>49667</th>\n",
       "      <td>49688</td>\n",
       "      <td>49684</td>\n",
       "      <td>Vodka, Triple Distilled, Twist of Vanilla</td>\n",
       "      <td>124</td>\n",
       "      <td>5</td>\n",
       "      <td>5.3</td>\n",
       "    </tr>\n",
       "    <tr>\n",
       "      <th>49668</th>\n",
       "      <td>49689</td>\n",
       "      <td>49685</td>\n",
       "      <td>En Croute Roast Hazelnut Cranberry</td>\n",
       "      <td>42</td>\n",
       "      <td>1</td>\n",
       "      <td>3.1</td>\n",
       "    </tr>\n",
       "    <tr>\n",
       "      <th>49669</th>\n",
       "      <td>49690</td>\n",
       "      <td>49686</td>\n",
       "      <td>Artisan Baguette</td>\n",
       "      <td>112</td>\n",
       "      <td>3</td>\n",
       "      <td>7.8</td>\n",
       "    </tr>\n",
       "    <tr>\n",
       "      <th>49670</th>\n",
       "      <td>49691</td>\n",
       "      <td>49687</td>\n",
       "      <td>Smartblend Healthy Metabolism Dry Cat Food</td>\n",
       "      <td>41</td>\n",
       "      <td>8</td>\n",
       "      <td>4.7</td>\n",
       "    </tr>\n",
       "    <tr>\n",
       "      <th>49671</th>\n",
       "      <td>49692</td>\n",
       "      <td>49688</td>\n",
       "      <td>Fresh Foaming Cleanser</td>\n",
       "      <td>73</td>\n",
       "      <td>11</td>\n",
       "      <td>13.5</td>\n",
       "    </tr>\n",
       "  </tbody>\n",
       "</table>\n",
       "<p>49672 rows × 6 columns</p>\n",
       "</div>"
      ],
      "text/plain": [
       "       Unnamed: 0  product_id  \\\n",
       "0               0           1   \n",
       "1               1           2   \n",
       "2               2           3   \n",
       "3               3           4   \n",
       "4               4           5   \n",
       "...           ...         ...   \n",
       "49667       49688       49684   \n",
       "49668       49689       49685   \n",
       "49669       49690       49686   \n",
       "49670       49691       49687   \n",
       "49671       49692       49688   \n",
       "\n",
       "                                            product_name  aisle_id  \\\n",
       "0                             Chocolate Sandwich Cookies        61   \n",
       "1                                       All-Seasons Salt       104   \n",
       "2                   Robust Golden Unsweetened Oolong Tea        94   \n",
       "3      Smart Ones Classic Favorites Mini Rigatoni Wit...        38   \n",
       "4                              Green Chile Anytime Sauce         5   \n",
       "...                                                  ...       ...   \n",
       "49667          Vodka, Triple Distilled, Twist of Vanilla       124   \n",
       "49668                 En Croute Roast Hazelnut Cranberry        42   \n",
       "49669                                   Artisan Baguette       112   \n",
       "49670         Smartblend Healthy Metabolism Dry Cat Food        41   \n",
       "49671                             Fresh Foaming Cleanser        73   \n",
       "\n",
       "       department_id  prices  \n",
       "0                 19     5.8  \n",
       "1                 13     9.3  \n",
       "2                  7     4.5  \n",
       "3                  1    10.5  \n",
       "4                 13     4.3  \n",
       "...              ...     ...  \n",
       "49667              5     5.3  \n",
       "49668              1     3.1  \n",
       "49669              3     7.8  \n",
       "49670              8     4.7  \n",
       "49671             11    13.5  \n",
       "\n",
       "[49672 rows x 6 columns]"
      ]
     },
     "execution_count": 18,
     "metadata": {},
     "output_type": "execute_result"
    }
   ],
   "source": [
    "df_prods_checked"
   ]
  },
  {
   "cell_type": "code",
   "execution_count": 19,
   "id": "a90cf866",
   "metadata": {
    "execution": {
     "iopub.execute_input": "2023-04-25T13:36:55.856190Z",
     "iopub.status.busy": "2023-04-25T13:36:55.855751Z",
     "iopub.status.idle": "2023-04-25T13:36:55.886269Z",
     "shell.execute_reply": "2023-04-25T13:36:55.885407Z",
     "shell.execute_reply.started": "2023-04-25T13:36:55.856164Z"
    }
   },
   "outputs": [
    {
     "data": {
      "text/html": [
       "<div>\n",
       "<style scoped>\n",
       "    .dataframe tbody tr th:only-of-type {\n",
       "        vertical-align: middle;\n",
       "    }\n",
       "\n",
       "    .dataframe tbody tr th {\n",
       "        vertical-align: top;\n",
       "    }\n",
       "\n",
       "    .dataframe thead th {\n",
       "        text-align: right;\n",
       "    }\n",
       "</style>\n",
       "<table border=\"1\" class=\"dataframe\">\n",
       "  <thead>\n",
       "    <tr style=\"text-align: right;\">\n",
       "      <th></th>\n",
       "      <th>Unnamed: 0</th>\n",
       "      <th>product_id</th>\n",
       "      <th>aisle_id</th>\n",
       "      <th>department_id</th>\n",
       "      <th>prices</th>\n",
       "    </tr>\n",
       "  </thead>\n",
       "  <tbody>\n",
       "    <tr>\n",
       "      <th>count</th>\n",
       "      <td>49672.000000</td>\n",
       "      <td>49672.000000</td>\n",
       "      <td>49672.000000</td>\n",
       "      <td>49672.000000</td>\n",
       "      <td>49672.000000</td>\n",
       "    </tr>\n",
       "    <tr>\n",
       "      <th>mean</th>\n",
       "      <td>24852.005053</td>\n",
       "      <td>24850.349775</td>\n",
       "      <td>67.762442</td>\n",
       "      <td>11.728942</td>\n",
       "      <td>9.993282</td>\n",
       "    </tr>\n",
       "    <tr>\n",
       "      <th>std</th>\n",
       "      <td>14342.265579</td>\n",
       "      <td>14340.705287</td>\n",
       "      <td>38.315784</td>\n",
       "      <td>5.850779</td>\n",
       "      <td>453.615536</td>\n",
       "    </tr>\n",
       "    <tr>\n",
       "      <th>min</th>\n",
       "      <td>0.000000</td>\n",
       "      <td>1.000000</td>\n",
       "      <td>1.000000</td>\n",
       "      <td>1.000000</td>\n",
       "      <td>1.000000</td>\n",
       "    </tr>\n",
       "    <tr>\n",
       "      <th>25%</th>\n",
       "      <td>12432.750000</td>\n",
       "      <td>12432.750000</td>\n",
       "      <td>35.000000</td>\n",
       "      <td>7.000000</td>\n",
       "      <td>4.100000</td>\n",
       "    </tr>\n",
       "    <tr>\n",
       "      <th>50%</th>\n",
       "      <td>24851.500000</td>\n",
       "      <td>24850.500000</td>\n",
       "      <td>69.000000</td>\n",
       "      <td>13.000000</td>\n",
       "      <td>7.100000</td>\n",
       "    </tr>\n",
       "    <tr>\n",
       "      <th>75%</th>\n",
       "      <td>37272.250000</td>\n",
       "      <td>37268.250000</td>\n",
       "      <td>100.000000</td>\n",
       "      <td>17.000000</td>\n",
       "      <td>11.100000</td>\n",
       "    </tr>\n",
       "    <tr>\n",
       "      <th>max</th>\n",
       "      <td>49692.000000</td>\n",
       "      <td>49688.000000</td>\n",
       "      <td>134.000000</td>\n",
       "      <td>21.000000</td>\n",
       "      <td>99999.000000</td>\n",
       "    </tr>\n",
       "  </tbody>\n",
       "</table>\n",
       "</div>"
      ],
      "text/plain": [
       "         Unnamed: 0    product_id      aisle_id  department_id        prices\n",
       "count  49672.000000  49672.000000  49672.000000   49672.000000  49672.000000\n",
       "mean   24852.005053  24850.349775     67.762442      11.728942      9.993282\n",
       "std    14342.265579  14340.705287     38.315784       5.850779    453.615536\n",
       "min        0.000000      1.000000      1.000000       1.000000      1.000000\n",
       "25%    12432.750000  12432.750000     35.000000       7.000000      4.100000\n",
       "50%    24851.500000  24850.500000     69.000000      13.000000      7.100000\n",
       "75%    37272.250000  37268.250000    100.000000      17.000000     11.100000\n",
       "max    49692.000000  49688.000000    134.000000      21.000000  99999.000000"
      ]
     },
     "execution_count": 19,
     "metadata": {},
     "output_type": "execute_result"
    }
   ],
   "source": [
    "df_prods_checked.describe()"
   ]
  },
  {
   "cell_type": "code",
   "execution_count": 20,
   "id": "ab6abc39",
   "metadata": {
    "execution": {
     "iopub.execute_input": "2023-04-25T13:36:55.888382Z",
     "iopub.status.busy": "2023-04-25T13:36:55.887521Z",
     "iopub.status.idle": "2023-04-25T13:36:55.893323Z",
     "shell.execute_reply": "2023-04-25T13:36:55.892059Z",
     "shell.execute_reply.started": "2023-04-25T13:36:55.888336Z"
    }
   },
   "outputs": [],
   "source": [
    "# Combine df_prods_checked with df_orders_products_combined to create the 'orders_products_merged' DataFrame."
   ]
  },
  {
   "cell_type": "code",
   "execution_count": 21,
   "id": "7ec8ecae",
   "metadata": {
    "execution": {
     "iopub.execute_input": "2023-04-25T13:36:55.895295Z",
     "iopub.status.busy": "2023-04-25T13:36:55.894935Z",
     "iopub.status.idle": "2023-04-25T13:36:55.899685Z",
     "shell.execute_reply": "2023-04-25T13:36:55.898845Z",
     "shell.execute_reply.started": "2023-04-25T13:36:55.895254Z"
    }
   },
   "outputs": [],
   "source": [
    "# NOTE:  If I want to use an Indicator, I need to give the indicator column a new name, because '_merge' is already\n",
    "# used in the df_orders_products_combined DataFrame.  In a spark of creativity, I call it, '_merge2'."
   ]
  },
  {
   "cell_type": "code",
   "execution_count": 22,
   "id": "d3339378",
   "metadata": {
    "execution": {
     "iopub.execute_input": "2023-04-25T13:36:55.901586Z",
     "iopub.status.busy": "2023-04-25T13:36:55.901104Z",
     "iopub.status.idle": "2023-04-25T13:37:06.760047Z",
     "shell.execute_reply": "2023-04-25T13:37:06.759313Z",
     "shell.execute_reply.started": "2023-04-25T13:36:55.901548Z"
    }
   },
   "outputs": [],
   "source": [
    "df_orders_products_merged = df_prods_checked.merge(df_orders_products_combined, on = 'product_id', indicator = '_merge2')"
   ]
  },
  {
   "cell_type": "code",
   "execution_count": 23,
   "id": "9ea0bdff",
   "metadata": {
    "execution": {
     "iopub.execute_input": "2023-04-25T13:37:06.761536Z",
     "iopub.status.busy": "2023-04-25T13:37:06.760952Z",
     "iopub.status.idle": "2023-04-25T13:37:06.777596Z",
     "shell.execute_reply": "2023-04-25T13:37:06.776733Z",
     "shell.execute_reply.started": "2023-04-25T13:37:06.761509Z"
    },
    "scrolled": true
   },
   "outputs": [
    {
     "data": {
      "text/html": [
       "<div>\n",
       "<style scoped>\n",
       "    .dataframe tbody tr th:only-of-type {\n",
       "        vertical-align: middle;\n",
       "    }\n",
       "\n",
       "    .dataframe tbody tr th {\n",
       "        vertical-align: top;\n",
       "    }\n",
       "\n",
       "    .dataframe thead th {\n",
       "        text-align: right;\n",
       "    }\n",
       "</style>\n",
       "<table border=\"1\" class=\"dataframe\">\n",
       "  <thead>\n",
       "    <tr style=\"text-align: right;\">\n",
       "      <th></th>\n",
       "      <th>Unnamed: 0</th>\n",
       "      <th>product_id</th>\n",
       "      <th>product_name</th>\n",
       "      <th>aisle_id</th>\n",
       "      <th>department_id</th>\n",
       "      <th>prices</th>\n",
       "      <th>order_id</th>\n",
       "      <th>customer_id</th>\n",
       "      <th>order_number</th>\n",
       "      <th>orders_day_of_week</th>\n",
       "      <th>order_hour_of_day</th>\n",
       "      <th>days_since_prior_order</th>\n",
       "      <th>add_to_cart_order</th>\n",
       "      <th>reordered</th>\n",
       "      <th>_merge</th>\n",
       "      <th>_merge2</th>\n",
       "    </tr>\n",
       "  </thead>\n",
       "  <tbody>\n",
       "    <tr>\n",
       "      <th>0</th>\n",
       "      <td>0</td>\n",
       "      <td>1</td>\n",
       "      <td>Chocolate Sandwich Cookies</td>\n",
       "      <td>61</td>\n",
       "      <td>19</td>\n",
       "      <td>5.8</td>\n",
       "      <td>3139998</td>\n",
       "      <td>138</td>\n",
       "      <td>28</td>\n",
       "      <td>6</td>\n",
       "      <td>11</td>\n",
       "      <td>3.0</td>\n",
       "      <td>5</td>\n",
       "      <td>0</td>\n",
       "      <td>both</td>\n",
       "      <td>both</td>\n",
       "    </tr>\n",
       "    <tr>\n",
       "      <th>1</th>\n",
       "      <td>0</td>\n",
       "      <td>1</td>\n",
       "      <td>Chocolate Sandwich Cookies</td>\n",
       "      <td>61</td>\n",
       "      <td>19</td>\n",
       "      <td>5.8</td>\n",
       "      <td>1977647</td>\n",
       "      <td>138</td>\n",
       "      <td>30</td>\n",
       "      <td>6</td>\n",
       "      <td>17</td>\n",
       "      <td>20.0</td>\n",
       "      <td>1</td>\n",
       "      <td>1</td>\n",
       "      <td>both</td>\n",
       "      <td>both</td>\n",
       "    </tr>\n",
       "    <tr>\n",
       "      <th>2</th>\n",
       "      <td>0</td>\n",
       "      <td>1</td>\n",
       "      <td>Chocolate Sandwich Cookies</td>\n",
       "      <td>61</td>\n",
       "      <td>19</td>\n",
       "      <td>5.8</td>\n",
       "      <td>389851</td>\n",
       "      <td>709</td>\n",
       "      <td>2</td>\n",
       "      <td>0</td>\n",
       "      <td>21</td>\n",
       "      <td>6.0</td>\n",
       "      <td>20</td>\n",
       "      <td>0</td>\n",
       "      <td>both</td>\n",
       "      <td>both</td>\n",
       "    </tr>\n",
       "    <tr>\n",
       "      <th>3</th>\n",
       "      <td>0</td>\n",
       "      <td>1</td>\n",
       "      <td>Chocolate Sandwich Cookies</td>\n",
       "      <td>61</td>\n",
       "      <td>19</td>\n",
       "      <td>5.8</td>\n",
       "      <td>652770</td>\n",
       "      <td>764</td>\n",
       "      <td>1</td>\n",
       "      <td>3</td>\n",
       "      <td>13</td>\n",
       "      <td>0.0</td>\n",
       "      <td>10</td>\n",
       "      <td>0</td>\n",
       "      <td>both</td>\n",
       "      <td>both</td>\n",
       "    </tr>\n",
       "    <tr>\n",
       "      <th>4</th>\n",
       "      <td>0</td>\n",
       "      <td>1</td>\n",
       "      <td>Chocolate Sandwich Cookies</td>\n",
       "      <td>61</td>\n",
       "      <td>19</td>\n",
       "      <td>5.8</td>\n",
       "      <td>1813452</td>\n",
       "      <td>764</td>\n",
       "      <td>3</td>\n",
       "      <td>4</td>\n",
       "      <td>17</td>\n",
       "      <td>9.0</td>\n",
       "      <td>11</td>\n",
       "      <td>1</td>\n",
       "      <td>both</td>\n",
       "      <td>both</td>\n",
       "    </tr>\n",
       "  </tbody>\n",
       "</table>\n",
       "</div>"
      ],
      "text/plain": [
       "   Unnamed: 0  product_id                product_name  aisle_id  \\\n",
       "0           0           1  Chocolate Sandwich Cookies        61   \n",
       "1           0           1  Chocolate Sandwich Cookies        61   \n",
       "2           0           1  Chocolate Sandwich Cookies        61   \n",
       "3           0           1  Chocolate Sandwich Cookies        61   \n",
       "4           0           1  Chocolate Sandwich Cookies        61   \n",
       "\n",
       "   department_id  prices  order_id  customer_id  order_number  \\\n",
       "0             19     5.8   3139998          138            28   \n",
       "1             19     5.8   1977647          138            30   \n",
       "2             19     5.8    389851          709             2   \n",
       "3             19     5.8    652770          764             1   \n",
       "4             19     5.8   1813452          764             3   \n",
       "\n",
       "   orders_day_of_week  order_hour_of_day  days_since_prior_order  \\\n",
       "0                   6                 11                     3.0   \n",
       "1                   6                 17                    20.0   \n",
       "2                   0                 21                     6.0   \n",
       "3                   3                 13                     0.0   \n",
       "4                   4                 17                     9.0   \n",
       "\n",
       "   add_to_cart_order  reordered _merge _merge2  \n",
       "0                  5          0   both    both  \n",
       "1                  1          1   both    both  \n",
       "2                 20          0   both    both  \n",
       "3                 10          0   both    both  \n",
       "4                 11          1   both    both  "
      ]
     },
     "execution_count": 23,
     "metadata": {},
     "output_type": "execute_result"
    }
   ],
   "source": [
    "df_orders_products_merged.head()"
   ]
  },
  {
   "cell_type": "code",
   "execution_count": 24,
   "id": "f63c394a",
   "metadata": {
    "execution": {
     "iopub.execute_input": "2023-04-25T13:37:06.779420Z",
     "iopub.status.busy": "2023-04-25T13:37:06.778585Z",
     "iopub.status.idle": "2023-04-25T13:37:06.783972Z",
     "shell.execute_reply": "2023-04-25T13:37:06.783503Z",
     "shell.execute_reply.started": "2023-04-25T13:37:06.779386Z"
    }
   },
   "outputs": [
    {
     "data": {
      "text/plain": [
       "(32404859, 16)"
      ]
     },
     "execution_count": 24,
     "metadata": {},
     "output_type": "execute_result"
    }
   ],
   "source": [
    "df_orders_products_merged.shape"
   ]
  },
  {
   "cell_type": "markdown",
   "id": "cdb068bc",
   "metadata": {},
   "source": [
    "## Step 6:  Confirm the results of the merge using the merge flag."
   ]
  },
  {
   "cell_type": "code",
   "execution_count": 25,
   "id": "d461c7eb",
   "metadata": {
    "execution": {
     "iopub.execute_input": "2023-04-25T13:37:06.785338Z",
     "iopub.status.busy": "2023-04-25T13:37:06.784731Z",
     "iopub.status.idle": "2023-04-25T13:37:06.789214Z",
     "shell.execute_reply": "2023-04-25T13:37:06.788583Z",
     "shell.execute_reply.started": "2023-04-25T13:37:06.785312Z"
    }
   },
   "outputs": [],
   "source": [
    "# Tally up the results from the '_merge2' column.  It's from an inner join, so all should be 'both',\n",
    "# but this is how I interpret the instruction based on the Exercise."
   ]
  },
  {
   "cell_type": "code",
   "execution_count": 26,
   "id": "aed1b20c",
   "metadata": {
    "execution": {
     "iopub.execute_input": "2023-04-25T13:37:06.790385Z",
     "iopub.status.busy": "2023-04-25T13:37:06.790057Z",
     "iopub.status.idle": "2023-04-25T13:37:06.983660Z",
     "shell.execute_reply": "2023-04-25T13:37:06.982845Z",
     "shell.execute_reply.started": "2023-04-25T13:37:06.790362Z"
    }
   },
   "outputs": [
    {
     "data": {
      "text/plain": [
       "both          32404859\n",
       "left_only            0\n",
       "right_only           0\n",
       "Name: _merge2, dtype: int64"
      ]
     },
     "execution_count": 26,
     "metadata": {},
     "output_type": "execute_result"
    }
   ],
   "source": [
    "df_orders_products_merged['_merge2'].value_counts()"
   ]
  },
  {
   "cell_type": "markdown",
   "id": "37d304db",
   "metadata": {},
   "source": [
    "## Step 7:  Export the newly created dataframe as orders_products_merged in a suitable format (taking into consideration the size)."
   ]
  },
  {
   "cell_type": "code",
   "execution_count": 27,
   "id": "17b05b67",
   "metadata": {
    "execution": {
     "iopub.execute_input": "2023-04-25T13:37:06.985359Z",
     "iopub.status.busy": "2023-04-25T13:37:06.984767Z",
     "iopub.status.idle": "2023-04-25T13:37:06.988159Z",
     "shell.execute_reply": "2023-04-25T13:37:06.987606Z",
     "shell.execute_reply.started": "2023-04-25T13:37:06.985330Z"
    }
   },
   "outputs": [],
   "source": [
    "# Store the new DataFrame in the Pickle format."
   ]
  },
  {
   "cell_type": "code",
   "execution_count": 28,
   "id": "d504b9f3",
   "metadata": {
    "execution": {
     "iopub.execute_input": "2023-04-25T13:37:06.991249Z",
     "iopub.status.busy": "2023-04-25T13:37:06.990991Z",
     "iopub.status.idle": "2023-04-25T13:37:39.061401Z",
     "shell.execute_reply": "2023-04-25T13:37:39.060808Z",
     "shell.execute_reply.started": "2023-04-25T13:37:06.991224Z"
    },
    "tags": []
   },
   "outputs": [],
   "source": [
    "df_orders_products_merged.to_pickle(os.path.join(path, '02-Data','Prepared-Data', 'orders_products_merged.pkl'))"
   ]
  }
 ],
 "metadata": {
  "kernelspec": {
   "display_name": "Python 3 (ipykernel)",
   "language": "python",
   "name": "python3"
  },
  "language_info": {
   "codemirror_mode": {
    "name": "ipython",
    "version": 3
   },
   "file_extension": ".py",
   "mimetype": "text/x-python",
   "name": "python",
   "nbconvert_exporter": "python",
   "pygments_lexer": "ipython3",
   "version": "3.9.12"
  }
 },
 "nbformat": 4,
 "nbformat_minor": 5
}
