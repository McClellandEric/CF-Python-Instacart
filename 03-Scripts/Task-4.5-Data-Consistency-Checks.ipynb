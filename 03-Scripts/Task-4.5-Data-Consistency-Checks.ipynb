{
 "cells": [
  {
   "cell_type": "markdown",
   "id": "15dadb85-142a-4914-ba4a-a54754f7c519",
   "metadata": {},
   "source": [
    "## Look for the section, \"BEGINNING TASK 4.5,\" below."
   ]
  },
  {
   "cell_type": "code",
   "execution_count": 1,
   "id": "60f691b1-38e4-4bb1-9e38-a078453e5e9f",
   "metadata": {
    "execution": {
     "iopub.execute_input": "2023-04-25T12:39:47.743909Z",
     "iopub.status.busy": "2023-04-25T12:39:47.743442Z",
     "iopub.status.idle": "2023-04-25T12:39:48.107985Z",
     "shell.execute_reply": "2023-04-25T12:39:48.107221Z",
     "shell.execute_reply.started": "2023-04-25T12:39:47.743747Z"
    },
    "tags": []
   },
   "outputs": [],
   "source": [
    "# Import libraries\n",
    "import pandas as pd\n",
    "import numpy as np\n",
    "import os"
   ]
  },
  {
   "cell_type": "code",
   "execution_count": 2,
   "id": "1fdff119-7839-4bb9-a39f-f5244f65a89b",
   "metadata": {
    "execution": {
     "iopub.execute_input": "2023-04-25T12:39:48.109822Z",
     "iopub.status.busy": "2023-04-25T12:39:48.109253Z",
     "iopub.status.idle": "2023-04-25T12:39:48.113615Z",
     "shell.execute_reply": "2023-04-25T12:39:48.112974Z",
     "shell.execute_reply.started": "2023-04-25T12:39:48.109799Z"
    },
    "tags": []
   },
   "outputs": [],
   "source": [
    "# Set a PATH variable."
   ]
  },
  {
   "cell_type": "code",
   "execution_count": 3,
   "id": "ac2b97b9-2392-4c15-8928-fa3feef4eca6",
   "metadata": {
    "execution": {
     "iopub.execute_input": "2023-04-25T12:39:48.114910Z",
     "iopub.status.busy": "2023-04-25T12:39:48.114459Z",
     "iopub.status.idle": "2023-04-25T12:39:48.119749Z",
     "shell.execute_reply": "2023-04-25T12:39:48.119132Z",
     "shell.execute_reply.started": "2023-04-25T12:39:48.114880Z"
    }
   },
   "outputs": [],
   "source": [
    "path = (r'~/careerfoundry/tasks/data-immersion/Achievement4/Instacart-Basket-Analysis')"
   ]
  },
  {
   "cell_type": "code",
   "execution_count": 4,
   "id": "355da849-8561-4222-914e-ff8d71359f85",
   "metadata": {
    "execution": {
     "iopub.execute_input": "2023-04-25T12:39:48.121809Z",
     "iopub.status.busy": "2023-04-25T12:39:48.121284Z",
     "iopub.status.idle": "2023-04-25T12:39:48.125608Z",
     "shell.execute_reply": "2023-04-25T12:39:48.124915Z",
     "shell.execute_reply.started": "2023-04-25T12:39:48.121779Z"
    }
   },
   "outputs": [],
   "source": [
    "# Set our exclusionary list of columns to import."
   ]
  },
  {
   "cell_type": "code",
   "execution_count": 5,
   "id": "89743fc0-2cef-4f08-9003-aa177b40e2b0",
   "metadata": {
    "execution": {
     "iopub.execute_input": "2023-04-25T12:39:48.128015Z",
     "iopub.status.busy": "2023-04-25T12:39:48.127423Z",
     "iopub.status.idle": "2023-04-25T12:39:48.132287Z",
     "shell.execute_reply": "2023-04-25T12:39:48.131499Z",
     "shell.execute_reply.started": "2023-04-25T12:39:48.127988Z"
    }
   },
   "outputs": [],
   "source": [
    "vars_list = ['order_id','customer_id','order_number','orders_day_of_week','order_hour_of_day','days_since_prior_order']"
   ]
  },
  {
   "cell_type": "code",
   "execution_count": 6,
   "id": "50f704b6-8ff4-460b-a2fc-bbc9dab66ff6",
   "metadata": {
    "execution": {
     "iopub.execute_input": "2023-04-25T12:39:48.133862Z",
     "iopub.status.busy": "2023-04-25T12:39:48.133308Z",
     "iopub.status.idle": "2023-04-25T12:39:48.137260Z",
     "shell.execute_reply": "2023-04-25T12:39:48.136559Z",
     "shell.execute_reply.started": "2023-04-25T12:39:48.133835Z"
    }
   },
   "outputs": [],
   "source": [
    "# Read the orders.csv and products.csv files into respective dataframes."
   ]
  },
  {
   "cell_type": "code",
   "execution_count": 7,
   "id": "ad7753a4-4214-47ff-abde-c8f4e0bc1849",
   "metadata": {
    "execution": {
     "iopub.execute_input": "2023-04-25T12:39:48.138411Z",
     "iopub.status.busy": "2023-04-25T12:39:48.138200Z",
     "iopub.status.idle": "2023-04-25T12:39:48.141954Z",
     "shell.execute_reply": "2023-04-25T12:39:48.141445Z",
     "shell.execute_reply.started": "2023-04-25T12:39:48.138387Z"
    },
    "tags": []
   },
   "outputs": [],
   "source": [
    "#df_ords = pd.read_csv(os.path.join(path, '02-Data', 'Original-Data', 'orders.csv'),  usecols = vars_list, index_col = False)"
   ]
  },
  {
   "cell_type": "code",
   "execution_count": 8,
   "id": "0f16afab-cc8c-46be-8bc3-d7c6db78432f",
   "metadata": {
    "execution": {
     "iopub.execute_input": "2023-04-25T12:39:48.143331Z",
     "iopub.status.busy": "2023-04-25T12:39:48.142731Z",
     "iopub.status.idle": "2023-04-25T12:39:49.512423Z",
     "shell.execute_reply": "2023-04-25T12:39:49.511748Z",
     "shell.execute_reply.started": "2023-04-25T12:39:48.143306Z"
    },
    "tags": []
   },
   "outputs": [],
   "source": [
    "df_ords = pd.read_csv(os.path.join(path, '02-Data','Prepared-Data', 'orders_wrangled.csv'),  usecols = vars_list, index_col = False)"
   ]
  },
  {
   "cell_type": "code",
   "execution_count": 9,
   "id": "f38b412a-d933-4d6a-9d09-6faa6b639d9a",
   "metadata": {
    "execution": {
     "iopub.execute_input": "2023-04-25T12:39:49.514127Z",
     "iopub.status.busy": "2023-04-25T12:39:49.513751Z",
     "iopub.status.idle": "2023-04-25T12:39:49.579987Z",
     "shell.execute_reply": "2023-04-25T12:39:49.579228Z",
     "shell.execute_reply.started": "2023-04-25T12:39:49.514101Z"
    },
    "tags": []
   },
   "outputs": [],
   "source": [
    "df_prods = pd.read_csv(os.path.join(path, '02-Data', 'Original-Data', 'products.csv'), index_col = False)"
   ]
  },
  {
   "cell_type": "code",
   "execution_count": 10,
   "id": "b8d7a0cb-0e42-4912-a19e-bd42db0b1504",
   "metadata": {
    "execution": {
     "iopub.execute_input": "2023-04-25T12:39:49.582757Z",
     "iopub.status.busy": "2023-04-25T12:39:49.582547Z",
     "iopub.status.idle": "2023-04-25T12:39:49.605833Z",
     "shell.execute_reply": "2023-04-25T12:39:49.605281Z",
     "shell.execute_reply.started": "2023-04-25T12:39:49.582733Z"
    }
   },
   "outputs": [
    {
     "data": {
      "text/html": [
       "<div>\n",
       "<style scoped>\n",
       "    .dataframe tbody tr th:only-of-type {\n",
       "        vertical-align: middle;\n",
       "    }\n",
       "\n",
       "    .dataframe tbody tr th {\n",
       "        vertical-align: top;\n",
       "    }\n",
       "\n",
       "    .dataframe thead th {\n",
       "        text-align: right;\n",
       "    }\n",
       "</style>\n",
       "<table border=\"1\" class=\"dataframe\">\n",
       "  <thead>\n",
       "    <tr style=\"text-align: right;\">\n",
       "      <th></th>\n",
       "      <th>order_id</th>\n",
       "      <th>customer_id</th>\n",
       "      <th>order_number</th>\n",
       "      <th>orders_day_of_week</th>\n",
       "      <th>order_hour_of_day</th>\n",
       "      <th>days_since_prior_order</th>\n",
       "    </tr>\n",
       "  </thead>\n",
       "  <tbody>\n",
       "    <tr>\n",
       "      <th>0</th>\n",
       "      <td>2539329</td>\n",
       "      <td>1</td>\n",
       "      <td>1</td>\n",
       "      <td>2</td>\n",
       "      <td>8</td>\n",
       "      <td>NaN</td>\n",
       "    </tr>\n",
       "    <tr>\n",
       "      <th>1</th>\n",
       "      <td>2398795</td>\n",
       "      <td>1</td>\n",
       "      <td>2</td>\n",
       "      <td>3</td>\n",
       "      <td>7</td>\n",
       "      <td>15.0</td>\n",
       "    </tr>\n",
       "    <tr>\n",
       "      <th>2</th>\n",
       "      <td>473747</td>\n",
       "      <td>1</td>\n",
       "      <td>3</td>\n",
       "      <td>3</td>\n",
       "      <td>12</td>\n",
       "      <td>21.0</td>\n",
       "    </tr>\n",
       "    <tr>\n",
       "      <th>3</th>\n",
       "      <td>2254736</td>\n",
       "      <td>1</td>\n",
       "      <td>4</td>\n",
       "      <td>4</td>\n",
       "      <td>7</td>\n",
       "      <td>29.0</td>\n",
       "    </tr>\n",
       "    <tr>\n",
       "      <th>4</th>\n",
       "      <td>431534</td>\n",
       "      <td>1</td>\n",
       "      <td>5</td>\n",
       "      <td>4</td>\n",
       "      <td>15</td>\n",
       "      <td>28.0</td>\n",
       "    </tr>\n",
       "  </tbody>\n",
       "</table>\n",
       "</div>"
      ],
      "text/plain": [
       "   order_id  customer_id  order_number  orders_day_of_week  order_hour_of_day  \\\n",
       "0   2539329            1             1                   2                  8   \n",
       "1   2398795            1             2                   3                  7   \n",
       "2    473747            1             3                   3                 12   \n",
       "3   2254736            1             4                   4                  7   \n",
       "4    431534            1             5                   4                 15   \n",
       "\n",
       "   days_since_prior_order  \n",
       "0                     NaN  \n",
       "1                    15.0  \n",
       "2                    21.0  \n",
       "3                    29.0  \n",
       "4                    28.0  "
      ]
     },
     "execution_count": 10,
     "metadata": {},
     "output_type": "execute_result"
    }
   ],
   "source": [
    "df_ords.head()"
   ]
  },
  {
   "cell_type": "code",
   "execution_count": 11,
   "id": "952fb059-9333-49ac-b7c8-9af5f1f21ec1",
   "metadata": {
    "execution": {
     "iopub.execute_input": "2023-04-25T12:39:49.607601Z",
     "iopub.status.busy": "2023-04-25T12:39:49.607110Z",
     "iopub.status.idle": "2023-04-25T12:39:49.620608Z",
     "shell.execute_reply": "2023-04-25T12:39:49.619580Z",
     "shell.execute_reply.started": "2023-04-25T12:39:49.607561Z"
    },
    "tags": []
   },
   "outputs": [
    {
     "data": {
      "text/html": [
       "<div>\n",
       "<style scoped>\n",
       "    .dataframe tbody tr th:only-of-type {\n",
       "        vertical-align: middle;\n",
       "    }\n",
       "\n",
       "    .dataframe tbody tr th {\n",
       "        vertical-align: top;\n",
       "    }\n",
       "\n",
       "    .dataframe thead th {\n",
       "        text-align: right;\n",
       "    }\n",
       "</style>\n",
       "<table border=\"1\" class=\"dataframe\">\n",
       "  <thead>\n",
       "    <tr style=\"text-align: right;\">\n",
       "      <th></th>\n",
       "      <th>product_id</th>\n",
       "      <th>product_name</th>\n",
       "      <th>aisle_id</th>\n",
       "      <th>department_id</th>\n",
       "      <th>prices</th>\n",
       "    </tr>\n",
       "  </thead>\n",
       "  <tbody>\n",
       "    <tr>\n",
       "      <th>0</th>\n",
       "      <td>1</td>\n",
       "      <td>Chocolate Sandwich Cookies</td>\n",
       "      <td>61</td>\n",
       "      <td>19</td>\n",
       "      <td>5.8</td>\n",
       "    </tr>\n",
       "    <tr>\n",
       "      <th>1</th>\n",
       "      <td>2</td>\n",
       "      <td>All-Seasons Salt</td>\n",
       "      <td>104</td>\n",
       "      <td>13</td>\n",
       "      <td>9.3</td>\n",
       "    </tr>\n",
       "    <tr>\n",
       "      <th>2</th>\n",
       "      <td>3</td>\n",
       "      <td>Robust Golden Unsweetened Oolong Tea</td>\n",
       "      <td>94</td>\n",
       "      <td>7</td>\n",
       "      <td>4.5</td>\n",
       "    </tr>\n",
       "    <tr>\n",
       "      <th>3</th>\n",
       "      <td>4</td>\n",
       "      <td>Smart Ones Classic Favorites Mini Rigatoni Wit...</td>\n",
       "      <td>38</td>\n",
       "      <td>1</td>\n",
       "      <td>10.5</td>\n",
       "    </tr>\n",
       "    <tr>\n",
       "      <th>4</th>\n",
       "      <td>5</td>\n",
       "      <td>Green Chile Anytime Sauce</td>\n",
       "      <td>5</td>\n",
       "      <td>13</td>\n",
       "      <td>4.3</td>\n",
       "    </tr>\n",
       "  </tbody>\n",
       "</table>\n",
       "</div>"
      ],
      "text/plain": [
       "   product_id                                       product_name  aisle_id  \\\n",
       "0           1                         Chocolate Sandwich Cookies        61   \n",
       "1           2                                   All-Seasons Salt       104   \n",
       "2           3               Robust Golden Unsweetened Oolong Tea        94   \n",
       "3           4  Smart Ones Classic Favorites Mini Rigatoni Wit...        38   \n",
       "4           5                          Green Chile Anytime Sauce         5   \n",
       "\n",
       "   department_id  prices  \n",
       "0             19     5.8  \n",
       "1             13     9.3  \n",
       "2              7     4.5  \n",
       "3              1    10.5  \n",
       "4             13     4.3  "
      ]
     },
     "execution_count": 11,
     "metadata": {},
     "output_type": "execute_result"
    }
   ],
   "source": [
    "df_prods.head()"
   ]
  },
  {
   "cell_type": "code",
   "execution_count": 12,
   "id": "12807e2f-36aa-4f43-addd-faf696d9bb4e",
   "metadata": {
    "execution": {
     "iopub.execute_input": "2023-04-25T12:39:49.622743Z",
     "iopub.status.busy": "2023-04-25T12:39:49.621979Z",
     "iopub.status.idle": "2023-04-25T12:39:50.180971Z",
     "shell.execute_reply": "2023-04-25T12:39:50.180491Z",
     "shell.execute_reply.started": "2023-04-25T12:39:49.622698Z"
    }
   },
   "outputs": [
    {
     "data": {
      "text/html": [
       "<div>\n",
       "<style scoped>\n",
       "    .dataframe tbody tr th:only-of-type {\n",
       "        vertical-align: middle;\n",
       "    }\n",
       "\n",
       "    .dataframe tbody tr th {\n",
       "        vertical-align: top;\n",
       "    }\n",
       "\n",
       "    .dataframe thead th {\n",
       "        text-align: right;\n",
       "    }\n",
       "</style>\n",
       "<table border=\"1\" class=\"dataframe\">\n",
       "  <thead>\n",
       "    <tr style=\"text-align: right;\">\n",
       "      <th></th>\n",
       "      <th>order_id</th>\n",
       "      <th>customer_id</th>\n",
       "      <th>order_number</th>\n",
       "      <th>orders_day_of_week</th>\n",
       "      <th>order_hour_of_day</th>\n",
       "      <th>days_since_prior_order</th>\n",
       "    </tr>\n",
       "  </thead>\n",
       "  <tbody>\n",
       "    <tr>\n",
       "      <th>count</th>\n",
       "      <td>3.421083e+06</td>\n",
       "      <td>3.421083e+06</td>\n",
       "      <td>3.421083e+06</td>\n",
       "      <td>3.421083e+06</td>\n",
       "      <td>3.421083e+06</td>\n",
       "      <td>3.214874e+06</td>\n",
       "    </tr>\n",
       "    <tr>\n",
       "      <th>mean</th>\n",
       "      <td>1.710542e+06</td>\n",
       "      <td>1.029782e+05</td>\n",
       "      <td>1.715486e+01</td>\n",
       "      <td>2.776219e+00</td>\n",
       "      <td>1.345202e+01</td>\n",
       "      <td>1.111484e+01</td>\n",
       "    </tr>\n",
       "    <tr>\n",
       "      <th>std</th>\n",
       "      <td>9.875817e+05</td>\n",
       "      <td>5.953372e+04</td>\n",
       "      <td>1.773316e+01</td>\n",
       "      <td>2.046829e+00</td>\n",
       "      <td>4.226088e+00</td>\n",
       "      <td>9.206737e+00</td>\n",
       "    </tr>\n",
       "    <tr>\n",
       "      <th>min</th>\n",
       "      <td>1.000000e+00</td>\n",
       "      <td>1.000000e+00</td>\n",
       "      <td>1.000000e+00</td>\n",
       "      <td>0.000000e+00</td>\n",
       "      <td>0.000000e+00</td>\n",
       "      <td>0.000000e+00</td>\n",
       "    </tr>\n",
       "    <tr>\n",
       "      <th>25%</th>\n",
       "      <td>8.552715e+05</td>\n",
       "      <td>5.139400e+04</td>\n",
       "      <td>5.000000e+00</td>\n",
       "      <td>1.000000e+00</td>\n",
       "      <td>1.000000e+01</td>\n",
       "      <td>4.000000e+00</td>\n",
       "    </tr>\n",
       "    <tr>\n",
       "      <th>50%</th>\n",
       "      <td>1.710542e+06</td>\n",
       "      <td>1.026890e+05</td>\n",
       "      <td>1.100000e+01</td>\n",
       "      <td>3.000000e+00</td>\n",
       "      <td>1.300000e+01</td>\n",
       "      <td>7.000000e+00</td>\n",
       "    </tr>\n",
       "    <tr>\n",
       "      <th>75%</th>\n",
       "      <td>2.565812e+06</td>\n",
       "      <td>1.543850e+05</td>\n",
       "      <td>2.300000e+01</td>\n",
       "      <td>5.000000e+00</td>\n",
       "      <td>1.600000e+01</td>\n",
       "      <td>1.500000e+01</td>\n",
       "    </tr>\n",
       "    <tr>\n",
       "      <th>max</th>\n",
       "      <td>3.421083e+06</td>\n",
       "      <td>2.062090e+05</td>\n",
       "      <td>1.000000e+02</td>\n",
       "      <td>6.000000e+00</td>\n",
       "      <td>2.300000e+01</td>\n",
       "      <td>3.000000e+01</td>\n",
       "    </tr>\n",
       "  </tbody>\n",
       "</table>\n",
       "</div>"
      ],
      "text/plain": [
       "           order_id   customer_id  order_number  orders_day_of_week  \\\n",
       "count  3.421083e+06  3.421083e+06  3.421083e+06        3.421083e+06   \n",
       "mean   1.710542e+06  1.029782e+05  1.715486e+01        2.776219e+00   \n",
       "std    9.875817e+05  5.953372e+04  1.773316e+01        2.046829e+00   \n",
       "min    1.000000e+00  1.000000e+00  1.000000e+00        0.000000e+00   \n",
       "25%    8.552715e+05  5.139400e+04  5.000000e+00        1.000000e+00   \n",
       "50%    1.710542e+06  1.026890e+05  1.100000e+01        3.000000e+00   \n",
       "75%    2.565812e+06  1.543850e+05  2.300000e+01        5.000000e+00   \n",
       "max    3.421083e+06  2.062090e+05  1.000000e+02        6.000000e+00   \n",
       "\n",
       "       order_hour_of_day  days_since_prior_order  \n",
       "count       3.421083e+06            3.214874e+06  \n",
       "mean        1.345202e+01            1.111484e+01  \n",
       "std         4.226088e+00            9.206737e+00  \n",
       "min         0.000000e+00            0.000000e+00  \n",
       "25%         1.000000e+01            4.000000e+00  \n",
       "50%         1.300000e+01            7.000000e+00  \n",
       "75%         1.600000e+01            1.500000e+01  \n",
       "max         2.300000e+01            3.000000e+01  "
      ]
     },
     "execution_count": 12,
     "metadata": {},
     "output_type": "execute_result"
    }
   ],
   "source": [
    "df_ords.describe()"
   ]
  },
  {
   "cell_type": "code",
   "execution_count": 13,
   "id": "f5ede0ea-d098-43fd-a88b-4c87457e0259",
   "metadata": {
    "execution": {
     "iopub.execute_input": "2023-04-25T12:39:50.182183Z",
     "iopub.status.busy": "2023-04-25T12:39:50.181905Z",
     "iopub.status.idle": "2023-04-25T12:39:50.208552Z",
     "shell.execute_reply": "2023-04-25T12:39:50.207428Z",
     "shell.execute_reply.started": "2023-04-25T12:39:50.182160Z"
    }
   },
   "outputs": [
    {
     "data": {
      "text/html": [
       "<div>\n",
       "<style scoped>\n",
       "    .dataframe tbody tr th:only-of-type {\n",
       "        vertical-align: middle;\n",
       "    }\n",
       "\n",
       "    .dataframe tbody tr th {\n",
       "        vertical-align: top;\n",
       "    }\n",
       "\n",
       "    .dataframe thead th {\n",
       "        text-align: right;\n",
       "    }\n",
       "</style>\n",
       "<table border=\"1\" class=\"dataframe\">\n",
       "  <thead>\n",
       "    <tr style=\"text-align: right;\">\n",
       "      <th></th>\n",
       "      <th>product_id</th>\n",
       "      <th>aisle_id</th>\n",
       "      <th>department_id</th>\n",
       "      <th>prices</th>\n",
       "    </tr>\n",
       "  </thead>\n",
       "  <tbody>\n",
       "    <tr>\n",
       "      <th>count</th>\n",
       "      <td>49693.000000</td>\n",
       "      <td>49693.000000</td>\n",
       "      <td>49693.000000</td>\n",
       "      <td>49693.000000</td>\n",
       "    </tr>\n",
       "    <tr>\n",
       "      <th>mean</th>\n",
       "      <td>24844.345139</td>\n",
       "      <td>67.770249</td>\n",
       "      <td>11.728433</td>\n",
       "      <td>9.994136</td>\n",
       "    </tr>\n",
       "    <tr>\n",
       "      <th>std</th>\n",
       "      <td>14343.717401</td>\n",
       "      <td>38.316774</td>\n",
       "      <td>5.850282</td>\n",
       "      <td>453.519686</td>\n",
       "    </tr>\n",
       "    <tr>\n",
       "      <th>min</th>\n",
       "      <td>1.000000</td>\n",
       "      <td>1.000000</td>\n",
       "      <td>1.000000</td>\n",
       "      <td>1.000000</td>\n",
       "    </tr>\n",
       "    <tr>\n",
       "      <th>25%</th>\n",
       "      <td>12423.000000</td>\n",
       "      <td>35.000000</td>\n",
       "      <td>7.000000</td>\n",
       "      <td>4.100000</td>\n",
       "    </tr>\n",
       "    <tr>\n",
       "      <th>50%</th>\n",
       "      <td>24845.000000</td>\n",
       "      <td>69.000000</td>\n",
       "      <td>13.000000</td>\n",
       "      <td>7.100000</td>\n",
       "    </tr>\n",
       "    <tr>\n",
       "      <th>75%</th>\n",
       "      <td>37265.000000</td>\n",
       "      <td>100.000000</td>\n",
       "      <td>17.000000</td>\n",
       "      <td>11.200000</td>\n",
       "    </tr>\n",
       "    <tr>\n",
       "      <th>max</th>\n",
       "      <td>49688.000000</td>\n",
       "      <td>134.000000</td>\n",
       "      <td>21.000000</td>\n",
       "      <td>99999.000000</td>\n",
       "    </tr>\n",
       "  </tbody>\n",
       "</table>\n",
       "</div>"
      ],
      "text/plain": [
       "         product_id      aisle_id  department_id        prices\n",
       "count  49693.000000  49693.000000   49693.000000  49693.000000\n",
       "mean   24844.345139     67.770249      11.728433      9.994136\n",
       "std    14343.717401     38.316774       5.850282    453.519686\n",
       "min        1.000000      1.000000       1.000000      1.000000\n",
       "25%    12423.000000     35.000000       7.000000      4.100000\n",
       "50%    24845.000000     69.000000      13.000000      7.100000\n",
       "75%    37265.000000    100.000000      17.000000     11.200000\n",
       "max    49688.000000    134.000000      21.000000  99999.000000"
      ]
     },
     "execution_count": 13,
     "metadata": {},
     "output_type": "execute_result"
    }
   ],
   "source": [
    "df_prods.describe()"
   ]
  },
  {
   "cell_type": "code",
   "execution_count": 14,
   "id": "07cd52c6-485e-4140-b18e-7a1dc4471fee",
   "metadata": {
    "execution": {
     "iopub.execute_input": "2023-04-25T12:39:50.210541Z",
     "iopub.status.busy": "2023-04-25T12:39:50.210014Z",
     "iopub.status.idle": "2023-04-25T12:39:50.216956Z",
     "shell.execute_reply": "2023-04-25T12:39:50.216249Z",
     "shell.execute_reply.started": "2023-04-25T12:39:50.210487Z"
    }
   },
   "outputs": [],
   "source": [
    "df_test = pd.DataFrame()"
   ]
  },
  {
   "cell_type": "code",
   "execution_count": 15,
   "id": "983ed2c0-071e-44be-a773-73f7a1c479ce",
   "metadata": {
    "execution": {
     "iopub.execute_input": "2023-04-25T12:39:50.218498Z",
     "iopub.status.busy": "2023-04-25T12:39:50.217871Z",
     "iopub.status.idle": "2023-04-25T12:39:50.223674Z",
     "shell.execute_reply": "2023-04-25T12:39:50.222811Z",
     "shell.execute_reply.started": "2023-04-25T12:39:50.218471Z"
    }
   },
   "outputs": [],
   "source": [
    "df_test['mix'] = ['a', 'b', 1, True]"
   ]
  },
  {
   "cell_type": "code",
   "execution_count": 16,
   "id": "ac35ecf5-1fd6-48ee-891e-37f175fc6631",
   "metadata": {
    "execution": {
     "iopub.execute_input": "2023-04-25T12:39:50.226457Z",
     "iopub.status.busy": "2023-04-25T12:39:50.224930Z",
     "iopub.status.idle": "2023-04-25T12:39:50.234591Z",
     "shell.execute_reply": "2023-04-25T12:39:50.233532Z",
     "shell.execute_reply.started": "2023-04-25T12:39:50.226394Z"
    }
   },
   "outputs": [
    {
     "data": {
      "text/html": [
       "<div>\n",
       "<style scoped>\n",
       "    .dataframe tbody tr th:only-of-type {\n",
       "        vertical-align: middle;\n",
       "    }\n",
       "\n",
       "    .dataframe tbody tr th {\n",
       "        vertical-align: top;\n",
       "    }\n",
       "\n",
       "    .dataframe thead th {\n",
       "        text-align: right;\n",
       "    }\n",
       "</style>\n",
       "<table border=\"1\" class=\"dataframe\">\n",
       "  <thead>\n",
       "    <tr style=\"text-align: right;\">\n",
       "      <th></th>\n",
       "      <th>mix</th>\n",
       "    </tr>\n",
       "  </thead>\n",
       "  <tbody>\n",
       "    <tr>\n",
       "      <th>0</th>\n",
       "      <td>a</td>\n",
       "    </tr>\n",
       "    <tr>\n",
       "      <th>1</th>\n",
       "      <td>b</td>\n",
       "    </tr>\n",
       "    <tr>\n",
       "      <th>2</th>\n",
       "      <td>1</td>\n",
       "    </tr>\n",
       "    <tr>\n",
       "      <th>3</th>\n",
       "      <td>True</td>\n",
       "    </tr>\n",
       "  </tbody>\n",
       "</table>\n",
       "</div>"
      ],
      "text/plain": [
       "    mix\n",
       "0     a\n",
       "1     b\n",
       "2     1\n",
       "3  True"
      ]
     },
     "execution_count": 16,
     "metadata": {},
     "output_type": "execute_result"
    }
   ],
   "source": [
    "df_test"
   ]
  },
  {
   "cell_type": "code",
   "execution_count": 17,
   "id": "dde3f702-b33d-48e5-b5e9-a552d86a5e2d",
   "metadata": {
    "execution": {
     "iopub.execute_input": "2023-04-25T12:39:50.236665Z",
     "iopub.status.busy": "2023-04-25T12:39:50.235875Z",
     "iopub.status.idle": "2023-04-25T12:39:50.241047Z",
     "shell.execute_reply": "2023-04-25T12:39:50.239697Z",
     "shell.execute_reply.started": "2023-04-25T12:39:50.236627Z"
    }
   },
   "outputs": [],
   "source": [
    "# Function for looping through columns to look for mixed data types.  Copy pasta - I need to understand the 'type' function and this\n",
    "# extended df.iloc.apply.any syntax!"
   ]
  },
  {
   "cell_type": "code",
   "execution_count": 18,
   "id": "8da21a39-c521-461c-b186-b1b95fe3379a",
   "metadata": {
    "execution": {
     "iopub.execute_input": "2023-04-25T12:39:50.243018Z",
     "iopub.status.busy": "2023-04-25T12:39:50.242597Z",
     "iopub.status.idle": "2023-04-25T12:39:50.254821Z",
     "shell.execute_reply": "2023-04-25T12:39:50.254268Z",
     "shell.execute_reply.started": "2023-04-25T12:39:50.242974Z"
    }
   },
   "outputs": [
    {
     "name": "stdout",
     "output_type": "stream",
     "text": [
      "mix\n"
     ]
    }
   ],
   "source": [
    "for col in df_test.columns.tolist():\n",
    "  weird = (df_test[[col]].applymap(type) != df_test[[col]].iloc[0].apply(type)).any(axis = 1)\n",
    "  if len (df_test[weird]) > 0:\n",
    "    print (col)"
   ]
  },
  {
   "cell_type": "code",
   "execution_count": 19,
   "id": "62b71ab7-5291-45a4-94d5-4b8e155b0683",
   "metadata": {
    "execution": {
     "iopub.execute_input": "2023-04-25T12:39:50.256178Z",
     "iopub.status.busy": "2023-04-25T12:39:50.255693Z",
     "iopub.status.idle": "2023-04-25T12:39:50.260304Z",
     "shell.execute_reply": "2023-04-25T12:39:50.259290Z",
     "shell.execute_reply.started": "2023-04-25T12:39:50.256153Z"
    }
   },
   "outputs": [],
   "source": [
    "# Make the 'mix' column all strings."
   ]
  },
  {
   "cell_type": "code",
   "execution_count": 20,
   "id": "6ee91663-f9b5-46ac-b8ca-e009f1837e82",
   "metadata": {
    "execution": {
     "iopub.execute_input": "2023-04-25T12:39:50.262525Z",
     "iopub.status.busy": "2023-04-25T12:39:50.261855Z",
     "iopub.status.idle": "2023-04-25T12:39:50.267358Z",
     "shell.execute_reply": "2023-04-25T12:39:50.266594Z",
     "shell.execute_reply.started": "2023-04-25T12:39:50.262486Z"
    }
   },
   "outputs": [],
   "source": [
    "df_test['mix'] = df_test['mix'].astype('str')"
   ]
  },
  {
   "cell_type": "code",
   "execution_count": 21,
   "id": "71e4f7b5-9f25-4fe8-aa1b-dae93bc40d86",
   "metadata": {
    "execution": {
     "iopub.execute_input": "2023-04-25T12:39:50.268823Z",
     "iopub.status.busy": "2023-04-25T12:39:50.268585Z",
     "iopub.status.idle": "2023-04-25T12:39:50.276498Z",
     "shell.execute_reply": "2023-04-25T12:39:50.275530Z",
     "shell.execute_reply.started": "2023-04-25T12:39:50.268799Z"
    }
   },
   "outputs": [
    {
     "data": {
      "text/plain": [
       "mix    object\n",
       "dtype: object"
      ]
     },
     "execution_count": 21,
     "metadata": {},
     "output_type": "execute_result"
    }
   ],
   "source": [
    "df_test.dtypes"
   ]
  },
  {
   "cell_type": "code",
   "execution_count": 22,
   "id": "aee77c23-a6c6-48ca-83de-f197c1dc60db",
   "metadata": {
    "execution": {
     "iopub.execute_input": "2023-04-25T12:39:50.277988Z",
     "iopub.status.busy": "2023-04-25T12:39:50.277674Z",
     "iopub.status.idle": "2023-04-25T12:39:50.282217Z",
     "shell.execute_reply": "2023-04-25T12:39:50.281520Z",
     "shell.execute_reply.started": "2023-04-25T12:39:50.277961Z"
    }
   },
   "outputs": [],
   "source": [
    "# Look for nulls in df_prods."
   ]
  },
  {
   "cell_type": "code",
   "execution_count": 23,
   "id": "70ace8de-4dad-47ef-832e-65763dfd968b",
   "metadata": {
    "execution": {
     "iopub.execute_input": "2023-04-25T12:39:50.283624Z",
     "iopub.status.busy": "2023-04-25T12:39:50.283425Z",
     "iopub.status.idle": "2023-04-25T12:39:50.302725Z",
     "shell.execute_reply": "2023-04-25T12:39:50.301895Z",
     "shell.execute_reply.started": "2023-04-25T12:39:50.283601Z"
    }
   },
   "outputs": [
    {
     "data": {
      "text/plain": [
       "product_id        0\n",
       "product_name     16\n",
       "aisle_id          0\n",
       "department_id     0\n",
       "prices            0\n",
       "dtype: int64"
      ]
     },
     "execution_count": 23,
     "metadata": {},
     "output_type": "execute_result"
    }
   ],
   "source": [
    "df_prods.isnull().sum()"
   ]
  },
  {
   "cell_type": "code",
   "execution_count": 24,
   "id": "9b7da21c-c8f4-4a61-912a-54fdec18259c",
   "metadata": {
    "execution": {
     "iopub.execute_input": "2023-04-25T12:39:50.304245Z",
     "iopub.status.busy": "2023-04-25T12:39:50.303721Z",
     "iopub.status.idle": "2023-04-25T12:39:50.307444Z",
     "shell.execute_reply": "2023-04-25T12:39:50.306739Z",
     "shell.execute_reply.started": "2023-04-25T12:39:50.304214Z"
    }
   },
   "outputs": [],
   "source": [
    "# The nulls in df_prods['product_name'] ."
   ]
  },
  {
   "cell_type": "code",
   "execution_count": 25,
   "id": "b2682dba-6b1a-4d4d-8921-34b31eb89c99",
   "metadata": {
    "execution": {
     "iopub.execute_input": "2023-04-25T12:39:50.309332Z",
     "iopub.status.busy": "2023-04-25T12:39:50.308366Z",
     "iopub.status.idle": "2023-04-25T12:39:50.320052Z",
     "shell.execute_reply": "2023-04-25T12:39:50.318824Z",
     "shell.execute_reply.started": "2023-04-25T12:39:50.309286Z"
    },
    "tags": []
   },
   "outputs": [],
   "source": [
    "df_nan=df_prods[df_prods['product_name'].isnull()==True]"
   ]
  },
  {
   "cell_type": "code",
   "execution_count": 26,
   "id": "20d4f4f5-03e4-444f-a5cc-aa3ddca31a58",
   "metadata": {
    "execution": {
     "iopub.execute_input": "2023-04-25T12:39:50.321554Z",
     "iopub.status.busy": "2023-04-25T12:39:50.321343Z",
     "iopub.status.idle": "2023-04-25T12:39:50.335056Z",
     "shell.execute_reply": "2023-04-25T12:39:50.334170Z",
     "shell.execute_reply.started": "2023-04-25T12:39:50.321531Z"
    }
   },
   "outputs": [
    {
     "data": {
      "text/html": [
       "<div>\n",
       "<style scoped>\n",
       "    .dataframe tbody tr th:only-of-type {\n",
       "        vertical-align: middle;\n",
       "    }\n",
       "\n",
       "    .dataframe tbody tr th {\n",
       "        vertical-align: top;\n",
       "    }\n",
       "\n",
       "    .dataframe thead th {\n",
       "        text-align: right;\n",
       "    }\n",
       "</style>\n",
       "<table border=\"1\" class=\"dataframe\">\n",
       "  <thead>\n",
       "    <tr style=\"text-align: right;\">\n",
       "      <th></th>\n",
       "      <th>product_id</th>\n",
       "      <th>product_name</th>\n",
       "      <th>aisle_id</th>\n",
       "      <th>department_id</th>\n",
       "      <th>prices</th>\n",
       "    </tr>\n",
       "  </thead>\n",
       "  <tbody>\n",
       "    <tr>\n",
       "      <th>33</th>\n",
       "      <td>34</td>\n",
       "      <td>NaN</td>\n",
       "      <td>121</td>\n",
       "      <td>14</td>\n",
       "      <td>12.2</td>\n",
       "    </tr>\n",
       "    <tr>\n",
       "      <th>68</th>\n",
       "      <td>69</td>\n",
       "      <td>NaN</td>\n",
       "      <td>26</td>\n",
       "      <td>7</td>\n",
       "      <td>11.8</td>\n",
       "    </tr>\n",
       "    <tr>\n",
       "      <th>115</th>\n",
       "      <td>116</td>\n",
       "      <td>NaN</td>\n",
       "      <td>93</td>\n",
       "      <td>3</td>\n",
       "      <td>10.8</td>\n",
       "    </tr>\n",
       "    <tr>\n",
       "      <th>261</th>\n",
       "      <td>262</td>\n",
       "      <td>NaN</td>\n",
       "      <td>110</td>\n",
       "      <td>13</td>\n",
       "      <td>12.1</td>\n",
       "    </tr>\n",
       "    <tr>\n",
       "      <th>525</th>\n",
       "      <td>525</td>\n",
       "      <td>NaN</td>\n",
       "      <td>109</td>\n",
       "      <td>11</td>\n",
       "      <td>1.2</td>\n",
       "    </tr>\n",
       "    <tr>\n",
       "      <th>1511</th>\n",
       "      <td>1511</td>\n",
       "      <td>NaN</td>\n",
       "      <td>84</td>\n",
       "      <td>16</td>\n",
       "      <td>14.3</td>\n",
       "    </tr>\n",
       "    <tr>\n",
       "      <th>1780</th>\n",
       "      <td>1780</td>\n",
       "      <td>NaN</td>\n",
       "      <td>126</td>\n",
       "      <td>11</td>\n",
       "      <td>12.3</td>\n",
       "    </tr>\n",
       "    <tr>\n",
       "      <th>2240</th>\n",
       "      <td>2240</td>\n",
       "      <td>NaN</td>\n",
       "      <td>52</td>\n",
       "      <td>1</td>\n",
       "      <td>14.2</td>\n",
       "    </tr>\n",
       "    <tr>\n",
       "      <th>2586</th>\n",
       "      <td>2586</td>\n",
       "      <td>NaN</td>\n",
       "      <td>104</td>\n",
       "      <td>13</td>\n",
       "      <td>12.4</td>\n",
       "    </tr>\n",
       "    <tr>\n",
       "      <th>3159</th>\n",
       "      <td>3159</td>\n",
       "      <td>NaN</td>\n",
       "      <td>126</td>\n",
       "      <td>11</td>\n",
       "      <td>13.1</td>\n",
       "    </tr>\n",
       "    <tr>\n",
       "      <th>3230</th>\n",
       "      <td>3230</td>\n",
       "      <td>NaN</td>\n",
       "      <td>120</td>\n",
       "      <td>16</td>\n",
       "      <td>14.4</td>\n",
       "    </tr>\n",
       "    <tr>\n",
       "      <th>3736</th>\n",
       "      <td>3736</td>\n",
       "      <td>NaN</td>\n",
       "      <td>41</td>\n",
       "      <td>8</td>\n",
       "      <td>14.8</td>\n",
       "    </tr>\n",
       "    <tr>\n",
       "      <th>4283</th>\n",
       "      <td>4283</td>\n",
       "      <td>NaN</td>\n",
       "      <td>77</td>\n",
       "      <td>7</td>\n",
       "      <td>14.4</td>\n",
       "    </tr>\n",
       "    <tr>\n",
       "      <th>4790</th>\n",
       "      <td>4790</td>\n",
       "      <td>NaN</td>\n",
       "      <td>91</td>\n",
       "      <td>16</td>\n",
       "      <td>14.5</td>\n",
       "    </tr>\n",
       "    <tr>\n",
       "      <th>38187</th>\n",
       "      <td>38183</td>\n",
       "      <td>NaN</td>\n",
       "      <td>39</td>\n",
       "      <td>12</td>\n",
       "      <td>20.9</td>\n",
       "    </tr>\n",
       "    <tr>\n",
       "      <th>40444</th>\n",
       "      <td>40440</td>\n",
       "      <td>NaN</td>\n",
       "      <td>120</td>\n",
       "      <td>16</td>\n",
       "      <td>14.8</td>\n",
       "    </tr>\n",
       "  </tbody>\n",
       "</table>\n",
       "</div>"
      ],
      "text/plain": [
       "       product_id product_name  aisle_id  department_id  prices\n",
       "33             34          NaN       121             14    12.2\n",
       "68             69          NaN        26              7    11.8\n",
       "115           116          NaN        93              3    10.8\n",
       "261           262          NaN       110             13    12.1\n",
       "525           525          NaN       109             11     1.2\n",
       "1511         1511          NaN        84             16    14.3\n",
       "1780         1780          NaN       126             11    12.3\n",
       "2240         2240          NaN        52              1    14.2\n",
       "2586         2586          NaN       104             13    12.4\n",
       "3159         3159          NaN       126             11    13.1\n",
       "3230         3230          NaN       120             16    14.4\n",
       "3736         3736          NaN        41              8    14.8\n",
       "4283         4283          NaN        77              7    14.4\n",
       "4790         4790          NaN        91             16    14.5\n",
       "38187       38183          NaN        39             12    20.9\n",
       "40444       40440          NaN       120             16    14.8"
      ]
     },
     "execution_count": 26,
     "metadata": {},
     "output_type": "execute_result"
    }
   ],
   "source": [
    "df_nan"
   ]
  },
  {
   "cell_type": "code",
   "execution_count": 27,
   "id": "c48b2f19-76d9-47ef-9f96-8e1b7d642123",
   "metadata": {
    "execution": {
     "iopub.execute_input": "2023-04-25T12:39:50.336359Z",
     "iopub.status.busy": "2023-04-25T12:39:50.336155Z",
     "iopub.status.idle": "2023-04-25T12:39:50.487320Z",
     "shell.execute_reply": "2023-04-25T12:39:50.486616Z",
     "shell.execute_reply.started": "2023-04-25T12:39:50.336335Z"
    }
   },
   "outputs": [
    {
     "name": "stderr",
     "output_type": "stream",
     "text": [
      "/tmp/ipykernel_2748/3387230063.py:1: FutureWarning: Dropping of nuisance columns in DataFrame reductions (with 'numeric_only=None') is deprecated; in a future version this will raise TypeError.  Select only valid columns before calling the reduction.\n",
      "  df_prods.median()\n"
     ]
    },
    {
     "data": {
      "text/plain": [
       "product_id       24845.0\n",
       "aisle_id            69.0\n",
       "department_id       13.0\n",
       "prices               7.1\n",
       "dtype: float64"
      ]
     },
     "execution_count": 27,
     "metadata": {},
     "output_type": "execute_result"
    }
   ],
   "source": [
    "df_prods.median()"
   ]
  },
  {
   "cell_type": "code",
   "execution_count": 28,
   "id": "03e51e94-932b-4f10-a285-da6737728a7f",
   "metadata": {
    "execution": {
     "iopub.execute_input": "2023-04-25T12:39:50.493526Z",
     "iopub.status.busy": "2023-04-25T12:39:50.493219Z",
     "iopub.status.idle": "2023-04-25T12:39:50.521524Z",
     "shell.execute_reply": "2023-04-25T12:39:50.520551Z",
     "shell.execute_reply.started": "2023-04-25T12:39:50.493499Z"
    }
   },
   "outputs": [
    {
     "name": "stderr",
     "output_type": "stream",
     "text": [
      "/tmp/ipykernel_2748/730692063.py:1: FutureWarning: Dropping of nuisance columns in DataFrame reductions (with 'numeric_only=None') is deprecated; in a future version this will raise TypeError.  Select only valid columns before calling the reduction.\n",
      "  df_prods.mean()\n"
     ]
    },
    {
     "data": {
      "text/plain": [
       "product_id       24844.345139\n",
       "aisle_id            67.770249\n",
       "department_id       11.728433\n",
       "prices               9.994136\n",
       "dtype: float64"
      ]
     },
     "execution_count": 28,
     "metadata": {},
     "output_type": "execute_result"
    }
   ],
   "source": [
    "df_prods.mean()"
   ]
  },
  {
   "cell_type": "code",
   "execution_count": 29,
   "id": "55e10cef-aec4-431d-b0b1-efccf3bd1bd1",
   "metadata": {
    "execution": {
     "iopub.execute_input": "2023-04-25T12:39:50.523750Z",
     "iopub.status.busy": "2023-04-25T12:39:50.522846Z",
     "iopub.status.idle": "2023-04-25T12:39:50.556675Z",
     "shell.execute_reply": "2023-04-25T12:39:50.555987Z",
     "shell.execute_reply.started": "2023-04-25T12:39:50.523714Z"
    }
   },
   "outputs": [
    {
     "data": {
      "text/html": [
       "<div>\n",
       "<style scoped>\n",
       "    .dataframe tbody tr th:only-of-type {\n",
       "        vertical-align: middle;\n",
       "    }\n",
       "\n",
       "    .dataframe tbody tr th {\n",
       "        vertical-align: top;\n",
       "    }\n",
       "\n",
       "    .dataframe thead th {\n",
       "        text-align: right;\n",
       "    }\n",
       "</style>\n",
       "<table border=\"1\" class=\"dataframe\">\n",
       "  <thead>\n",
       "    <tr style=\"text-align: right;\">\n",
       "      <th></th>\n",
       "      <th>product_id</th>\n",
       "      <th>aisle_id</th>\n",
       "      <th>department_id</th>\n",
       "      <th>prices</th>\n",
       "    </tr>\n",
       "  </thead>\n",
       "  <tbody>\n",
       "    <tr>\n",
       "      <th>count</th>\n",
       "      <td>49693.000000</td>\n",
       "      <td>49693.000000</td>\n",
       "      <td>49693.000000</td>\n",
       "      <td>49693.000000</td>\n",
       "    </tr>\n",
       "    <tr>\n",
       "      <th>mean</th>\n",
       "      <td>24844.345139</td>\n",
       "      <td>67.770249</td>\n",
       "      <td>11.728433</td>\n",
       "      <td>9.994136</td>\n",
       "    </tr>\n",
       "    <tr>\n",
       "      <th>std</th>\n",
       "      <td>14343.717401</td>\n",
       "      <td>38.316774</td>\n",
       "      <td>5.850282</td>\n",
       "      <td>453.519686</td>\n",
       "    </tr>\n",
       "    <tr>\n",
       "      <th>min</th>\n",
       "      <td>1.000000</td>\n",
       "      <td>1.000000</td>\n",
       "      <td>1.000000</td>\n",
       "      <td>1.000000</td>\n",
       "    </tr>\n",
       "    <tr>\n",
       "      <th>25%</th>\n",
       "      <td>12423.000000</td>\n",
       "      <td>35.000000</td>\n",
       "      <td>7.000000</td>\n",
       "      <td>4.100000</td>\n",
       "    </tr>\n",
       "    <tr>\n",
       "      <th>50%</th>\n",
       "      <td>24845.000000</td>\n",
       "      <td>69.000000</td>\n",
       "      <td>13.000000</td>\n",
       "      <td>7.100000</td>\n",
       "    </tr>\n",
       "    <tr>\n",
       "      <th>75%</th>\n",
       "      <td>37265.000000</td>\n",
       "      <td>100.000000</td>\n",
       "      <td>17.000000</td>\n",
       "      <td>11.200000</td>\n",
       "    </tr>\n",
       "    <tr>\n",
       "      <th>max</th>\n",
       "      <td>49688.000000</td>\n",
       "      <td>134.000000</td>\n",
       "      <td>21.000000</td>\n",
       "      <td>99999.000000</td>\n",
       "    </tr>\n",
       "  </tbody>\n",
       "</table>\n",
       "</div>"
      ],
      "text/plain": [
       "         product_id      aisle_id  department_id        prices\n",
       "count  49693.000000  49693.000000   49693.000000  49693.000000\n",
       "mean   24844.345139     67.770249      11.728433      9.994136\n",
       "std    14343.717401     38.316774       5.850282    453.519686\n",
       "min        1.000000      1.000000       1.000000      1.000000\n",
       "25%    12423.000000     35.000000       7.000000      4.100000\n",
       "50%    24845.000000     69.000000      13.000000      7.100000\n",
       "75%    37265.000000    100.000000      17.000000     11.200000\n",
       "max    49688.000000    134.000000      21.000000  99999.000000"
      ]
     },
     "execution_count": 29,
     "metadata": {},
     "output_type": "execute_result"
    }
   ],
   "source": [
    "df_prods.describe()"
   ]
  },
  {
   "cell_type": "code",
   "execution_count": 30,
   "id": "02108300-8561-441e-962a-a4cf81b8bb6c",
   "metadata": {
    "execution": {
     "iopub.execute_input": "2023-04-25T12:39:50.558529Z",
     "iopub.status.busy": "2023-04-25T12:39:50.558114Z",
     "iopub.status.idle": "2023-04-25T12:39:50.565133Z",
     "shell.execute_reply": "2023-04-25T12:39:50.563650Z",
     "shell.execute_reply.started": "2023-04-25T12:39:50.558501Z"
    }
   },
   "outputs": [
    {
     "data": {
      "text/plain": [
       "(49693, 5)"
      ]
     },
     "execution_count": 30,
     "metadata": {},
     "output_type": "execute_result"
    }
   ],
   "source": [
    "df_prods.shape"
   ]
  },
  {
   "cell_type": "code",
   "execution_count": 31,
   "id": "4d118f03-bda1-402e-b353-ea1066633747",
   "metadata": {
    "execution": {
     "iopub.execute_input": "2023-04-25T12:39:50.566410Z",
     "iopub.status.busy": "2023-04-25T12:39:50.566173Z",
     "iopub.status.idle": "2023-04-25T12:39:50.572289Z",
     "shell.execute_reply": "2023-04-25T12:39:50.570310Z",
     "shell.execute_reply.started": "2023-04-25T12:39:50.566377Z"
    }
   },
   "outputs": [],
   "source": [
    "# New DF of products without missing product names."
   ]
  },
  {
   "cell_type": "code",
   "execution_count": 32,
   "id": "9d7f1df7-daa1-44e2-a56e-515780ab81a7",
   "metadata": {
    "execution": {
     "iopub.execute_input": "2023-04-25T12:39:50.574772Z",
     "iopub.status.busy": "2023-04-25T12:39:50.574124Z",
     "iopub.status.idle": "2023-04-25T12:39:50.588630Z",
     "shell.execute_reply": "2023-04-25T12:39:50.587676Z",
     "shell.execute_reply.started": "2023-04-25T12:39:50.574727Z"
    }
   },
   "outputs": [],
   "source": [
    "df_prods_clean=df_prods[df_prods['product_name'].isnull()==False]"
   ]
  },
  {
   "cell_type": "code",
   "execution_count": 33,
   "id": "1330f1fa-c708-4b8c-8bae-54ef6ced7f71",
   "metadata": {
    "execution": {
     "iopub.execute_input": "2023-04-25T12:39:50.591393Z",
     "iopub.status.busy": "2023-04-25T12:39:50.590439Z",
     "iopub.status.idle": "2023-04-25T12:39:50.609210Z",
     "shell.execute_reply": "2023-04-25T12:39:50.608289Z",
     "shell.execute_reply.started": "2023-04-25T12:39:50.591331Z"
    }
   },
   "outputs": [
    {
     "data": {
      "text/html": [
       "<div>\n",
       "<style scoped>\n",
       "    .dataframe tbody tr th:only-of-type {\n",
       "        vertical-align: middle;\n",
       "    }\n",
       "\n",
       "    .dataframe tbody tr th {\n",
       "        vertical-align: top;\n",
       "    }\n",
       "\n",
       "    .dataframe thead th {\n",
       "        text-align: right;\n",
       "    }\n",
       "</style>\n",
       "<table border=\"1\" class=\"dataframe\">\n",
       "  <thead>\n",
       "    <tr style=\"text-align: right;\">\n",
       "      <th></th>\n",
       "      <th>product_id</th>\n",
       "      <th>product_name</th>\n",
       "      <th>aisle_id</th>\n",
       "      <th>department_id</th>\n",
       "      <th>prices</th>\n",
       "    </tr>\n",
       "  </thead>\n",
       "  <tbody>\n",
       "    <tr>\n",
       "      <th>0</th>\n",
       "      <td>1</td>\n",
       "      <td>Chocolate Sandwich Cookies</td>\n",
       "      <td>61</td>\n",
       "      <td>19</td>\n",
       "      <td>5.8</td>\n",
       "    </tr>\n",
       "    <tr>\n",
       "      <th>1</th>\n",
       "      <td>2</td>\n",
       "      <td>All-Seasons Salt</td>\n",
       "      <td>104</td>\n",
       "      <td>13</td>\n",
       "      <td>9.3</td>\n",
       "    </tr>\n",
       "    <tr>\n",
       "      <th>2</th>\n",
       "      <td>3</td>\n",
       "      <td>Robust Golden Unsweetened Oolong Tea</td>\n",
       "      <td>94</td>\n",
       "      <td>7</td>\n",
       "      <td>4.5</td>\n",
       "    </tr>\n",
       "    <tr>\n",
       "      <th>3</th>\n",
       "      <td>4</td>\n",
       "      <td>Smart Ones Classic Favorites Mini Rigatoni Wit...</td>\n",
       "      <td>38</td>\n",
       "      <td>1</td>\n",
       "      <td>10.5</td>\n",
       "    </tr>\n",
       "    <tr>\n",
       "      <th>4</th>\n",
       "      <td>5</td>\n",
       "      <td>Green Chile Anytime Sauce</td>\n",
       "      <td>5</td>\n",
       "      <td>13</td>\n",
       "      <td>4.3</td>\n",
       "    </tr>\n",
       "  </tbody>\n",
       "</table>\n",
       "</div>"
      ],
      "text/plain": [
       "   product_id                                       product_name  aisle_id  \\\n",
       "0           1                         Chocolate Sandwich Cookies        61   \n",
       "1           2                                   All-Seasons Salt       104   \n",
       "2           3               Robust Golden Unsweetened Oolong Tea        94   \n",
       "3           4  Smart Ones Classic Favorites Mini Rigatoni Wit...        38   \n",
       "4           5                          Green Chile Anytime Sauce         5   \n",
       "\n",
       "   department_id  prices  \n",
       "0             19     5.8  \n",
       "1             13     9.3  \n",
       "2              7     4.5  \n",
       "3              1    10.5  \n",
       "4             13     4.3  "
      ]
     },
     "execution_count": 33,
     "metadata": {},
     "output_type": "execute_result"
    }
   ],
   "source": [
    "df_prods_clean.head()"
   ]
  },
  {
   "cell_type": "code",
   "execution_count": 34,
   "id": "edafc56a-dba9-4092-a15a-c082c2f77a3c",
   "metadata": {
    "execution": {
     "iopub.execute_input": "2023-04-25T12:39:50.611461Z",
     "iopub.status.busy": "2023-04-25T12:39:50.610345Z",
     "iopub.status.idle": "2023-04-25T12:39:50.618733Z",
     "shell.execute_reply": "2023-04-25T12:39:50.617351Z",
     "shell.execute_reply.started": "2023-04-25T12:39:50.611413Z"
    }
   },
   "outputs": [
    {
     "data": {
      "text/plain": [
       "(49677, 5)"
      ]
     },
     "execution_count": 34,
     "metadata": {},
     "output_type": "execute_result"
    }
   ],
   "source": [
    "df_prods_clean.shape"
   ]
  },
  {
   "cell_type": "code",
   "execution_count": 35,
   "id": "e6e87dd3-3fd4-48f8-ae32-756e2d2589b4",
   "metadata": {
    "execution": {
     "iopub.execute_input": "2023-04-25T12:39:50.621379Z",
     "iopub.status.busy": "2023-04-25T12:39:50.621033Z",
     "iopub.status.idle": "2023-04-25T12:39:50.631948Z",
     "shell.execute_reply": "2023-04-25T12:39:50.630920Z",
     "shell.execute_reply.started": "2023-04-25T12:39:50.621341Z"
    }
   },
   "outputs": [
    {
     "data": {
      "text/plain": [
       "(16, 5)"
      ]
     },
     "execution_count": 35,
     "metadata": {},
     "output_type": "execute_result"
    }
   ],
   "source": [
    "df_nan.shape"
   ]
  },
  {
   "cell_type": "code",
   "execution_count": 36,
   "id": "11f899bf-e717-43f4-852a-7f2a34193624",
   "metadata": {
    "execution": {
     "iopub.execute_input": "2023-04-25T12:39:50.633928Z",
     "iopub.status.busy": "2023-04-25T12:39:50.633688Z",
     "iopub.status.idle": "2023-04-25T12:39:50.637186Z",
     "shell.execute_reply": "2023-04-25T12:39:50.636336Z",
     "shell.execute_reply.started": "2023-04-25T12:39:50.633904Z"
    }
   },
   "outputs": [],
   "source": [
    "# Look for duplicate rows."
   ]
  },
  {
   "cell_type": "code",
   "execution_count": 37,
   "id": "b5c24f86-6361-4403-a782-2eeb3cff6179",
   "metadata": {
    "execution": {
     "iopub.execute_input": "2023-04-25T12:39:50.639082Z",
     "iopub.status.busy": "2023-04-25T12:39:50.638346Z",
     "iopub.status.idle": "2023-04-25T12:39:50.672995Z",
     "shell.execute_reply": "2023-04-25T12:39:50.672232Z",
     "shell.execute_reply.started": "2023-04-25T12:39:50.639051Z"
    }
   },
   "outputs": [],
   "source": [
    "df_dups = df_prods_clean[df_prods_clean.duplicated()]"
   ]
  },
  {
   "cell_type": "code",
   "execution_count": 38,
   "id": "79633831-b05a-4d14-981e-0527a6aabb0d",
   "metadata": {
    "execution": {
     "iopub.execute_input": "2023-04-25T12:39:50.675931Z",
     "iopub.status.busy": "2023-04-25T12:39:50.675661Z",
     "iopub.status.idle": "2023-04-25T12:39:50.682193Z",
     "shell.execute_reply": "2023-04-25T12:39:50.681637Z",
     "shell.execute_reply.started": "2023-04-25T12:39:50.675887Z"
    }
   },
   "outputs": [
    {
     "data": {
      "text/plain": [
       "(5, 5)"
      ]
     },
     "execution_count": 38,
     "metadata": {},
     "output_type": "execute_result"
    }
   ],
   "source": [
    "df_dups.shape"
   ]
  },
  {
   "cell_type": "code",
   "execution_count": 39,
   "id": "02f90606-435b-4263-a280-fc07be440304",
   "metadata": {
    "execution": {
     "iopub.execute_input": "2023-04-25T12:39:50.683589Z",
     "iopub.status.busy": "2023-04-25T12:39:50.683072Z",
     "iopub.status.idle": "2023-04-25T12:39:50.697315Z",
     "shell.execute_reply": "2023-04-25T12:39:50.696457Z",
     "shell.execute_reply.started": "2023-04-25T12:39:50.683560Z"
    }
   },
   "outputs": [
    {
     "data": {
      "text/html": [
       "<div>\n",
       "<style scoped>\n",
       "    .dataframe tbody tr th:only-of-type {\n",
       "        vertical-align: middle;\n",
       "    }\n",
       "\n",
       "    .dataframe tbody tr th {\n",
       "        vertical-align: top;\n",
       "    }\n",
       "\n",
       "    .dataframe thead th {\n",
       "        text-align: right;\n",
       "    }\n",
       "</style>\n",
       "<table border=\"1\" class=\"dataframe\">\n",
       "  <thead>\n",
       "    <tr style=\"text-align: right;\">\n",
       "      <th></th>\n",
       "      <th>product_id</th>\n",
       "      <th>product_name</th>\n",
       "      <th>aisle_id</th>\n",
       "      <th>department_id</th>\n",
       "      <th>prices</th>\n",
       "    </tr>\n",
       "  </thead>\n",
       "  <tbody>\n",
       "    <tr>\n",
       "      <th>462</th>\n",
       "      <td>462</td>\n",
       "      <td>Fiber 4g Gummy Dietary Supplement</td>\n",
       "      <td>70</td>\n",
       "      <td>11</td>\n",
       "      <td>4.8</td>\n",
       "    </tr>\n",
       "    <tr>\n",
       "      <th>18459</th>\n",
       "      <td>18458</td>\n",
       "      <td>Ranger IPA</td>\n",
       "      <td>27</td>\n",
       "      <td>5</td>\n",
       "      <td>9.2</td>\n",
       "    </tr>\n",
       "    <tr>\n",
       "      <th>26810</th>\n",
       "      <td>26808</td>\n",
       "      <td>Black House Coffee Roasty Stout Beer</td>\n",
       "      <td>27</td>\n",
       "      <td>5</td>\n",
       "      <td>13.4</td>\n",
       "    </tr>\n",
       "    <tr>\n",
       "      <th>35309</th>\n",
       "      <td>35306</td>\n",
       "      <td>Gluten Free Organic Peanut Butter &amp; Chocolate ...</td>\n",
       "      <td>121</td>\n",
       "      <td>14</td>\n",
       "      <td>6.8</td>\n",
       "    </tr>\n",
       "    <tr>\n",
       "      <th>35495</th>\n",
       "      <td>35491</td>\n",
       "      <td>Adore Forever Body Wash</td>\n",
       "      <td>127</td>\n",
       "      <td>11</td>\n",
       "      <td>9.9</td>\n",
       "    </tr>\n",
       "  </tbody>\n",
       "</table>\n",
       "</div>"
      ],
      "text/plain": [
       "       product_id                                       product_name  \\\n",
       "462           462                  Fiber 4g Gummy Dietary Supplement   \n",
       "18459       18458                                         Ranger IPA   \n",
       "26810       26808               Black House Coffee Roasty Stout Beer   \n",
       "35309       35306  Gluten Free Organic Peanut Butter & Chocolate ...   \n",
       "35495       35491                            Adore Forever Body Wash   \n",
       "\n",
       "       aisle_id  department_id  prices  \n",
       "462          70             11     4.8  \n",
       "18459        27              5     9.2  \n",
       "26810        27              5    13.4  \n",
       "35309       121             14     6.8  \n",
       "35495       127             11     9.9  "
      ]
     },
     "execution_count": 39,
     "metadata": {},
     "output_type": "execute_result"
    }
   ],
   "source": [
    "df_dups"
   ]
  },
  {
   "cell_type": "code",
   "execution_count": 40,
   "id": "f9719e08-0dff-4013-a5a0-bd8d86c6cb67",
   "metadata": {
    "execution": {
     "iopub.execute_input": "2023-04-25T12:39:50.699312Z",
     "iopub.status.busy": "2023-04-25T12:39:50.698659Z",
     "iopub.status.idle": "2023-04-25T12:39:50.703393Z",
     "shell.execute_reply": "2023-04-25T12:39:50.702451Z",
     "shell.execute_reply.started": "2023-04-25T12:39:50.699274Z"
    }
   },
   "outputs": [],
   "source": [
    "# Form a new DataFrame by dropping the duplicates."
   ]
  },
  {
   "cell_type": "code",
   "execution_count": 41,
   "id": "924c2e76-f6fc-4afb-a54b-02fa9ebb3c06",
   "metadata": {
    "execution": {
     "iopub.execute_input": "2023-04-25T12:39:50.705557Z",
     "iopub.status.busy": "2023-04-25T12:39:50.704731Z",
     "iopub.status.idle": "2023-04-25T12:39:50.746538Z",
     "shell.execute_reply": "2023-04-25T12:39:50.745638Z",
     "shell.execute_reply.started": "2023-04-25T12:39:50.705514Z"
    }
   },
   "outputs": [],
   "source": [
    "df_prods_clean_no_dups = df_prods_clean.drop_duplicates()"
   ]
  },
  {
   "cell_type": "code",
   "execution_count": 42,
   "id": "72614210-6d73-43ef-b6fa-ba69db01ea9e",
   "metadata": {
    "execution": {
     "iopub.execute_input": "2023-04-25T12:39:50.748398Z",
     "iopub.status.busy": "2023-04-25T12:39:50.747967Z",
     "iopub.status.idle": "2023-04-25T12:39:50.754070Z",
     "shell.execute_reply": "2023-04-25T12:39:50.753277Z",
     "shell.execute_reply.started": "2023-04-25T12:39:50.748363Z"
    }
   },
   "outputs": [
    {
     "data": {
      "text/plain": [
       "(49672, 5)"
      ]
     },
     "execution_count": 42,
     "metadata": {},
     "output_type": "execute_result"
    }
   ],
   "source": [
    "df_prods_clean_no_dups.shape"
   ]
  },
  {
   "cell_type": "code",
   "execution_count": 43,
   "id": "d75bec3c-bf9b-4bd2-8de5-19cb44582994",
   "metadata": {
    "execution": {
     "iopub.execute_input": "2023-04-25T12:39:50.755413Z",
     "iopub.status.busy": "2023-04-25T12:39:50.755041Z",
     "iopub.status.idle": "2023-04-25T12:39:50.760873Z",
     "shell.execute_reply": "2023-04-25T12:39:50.759537Z",
     "shell.execute_reply.started": "2023-04-25T12:39:50.755379Z"
    }
   },
   "outputs": [],
   "source": [
    "# Name the new DF something nicer."
   ]
  },
  {
   "cell_type": "code",
   "execution_count": 44,
   "id": "c54e47a2-8941-49d1-983e-2343068defd3",
   "metadata": {
    "execution": {
     "iopub.execute_input": "2023-04-25T12:39:50.763673Z",
     "iopub.status.busy": "2023-04-25T12:39:50.762977Z",
     "iopub.status.idle": "2023-04-25T12:39:50.768322Z",
     "shell.execute_reply": "2023-04-25T12:39:50.767212Z",
     "shell.execute_reply.started": "2023-04-25T12:39:50.763629Z"
    }
   },
   "outputs": [],
   "source": [
    "df_prods_checked=df_prods_clean_no_dups"
   ]
  },
  {
   "cell_type": "code",
   "execution_count": 45,
   "id": "e588a91b-2598-4d90-aa7a-4d76f5651f5e",
   "metadata": {
    "execution": {
     "iopub.execute_input": "2023-04-25T12:39:50.770899Z",
     "iopub.status.busy": "2023-04-25T12:39:50.770262Z",
     "iopub.status.idle": "2023-04-25T12:39:50.778618Z",
     "shell.execute_reply": "2023-04-25T12:39:50.777347Z",
     "shell.execute_reply.started": "2023-04-25T12:39:50.770857Z"
    }
   },
   "outputs": [
    {
     "data": {
      "text/plain": [
       "(49672, 5)"
      ]
     },
     "execution_count": 45,
     "metadata": {},
     "output_type": "execute_result"
    }
   ],
   "source": [
    "df_prods_checked.shape"
   ]
  },
  {
   "cell_type": "code",
   "execution_count": 46,
   "id": "9cc6d0ef-922a-43a6-babd-69bd0d5737ca",
   "metadata": {
    "execution": {
     "iopub.execute_input": "2023-04-25T12:39:50.780839Z",
     "iopub.status.busy": "2023-04-25T12:39:50.780421Z",
     "iopub.status.idle": "2023-04-25T12:39:50.786183Z",
     "shell.execute_reply": "2023-04-25T12:39:50.785347Z",
     "shell.execute_reply.started": "2023-04-25T12:39:50.780792Z"
    }
   },
   "outputs": [],
   "source": [
    "# Save the new \"checked\" products DataFrame to a .CSV file."
   ]
  },
  {
   "cell_type": "code",
   "execution_count": 47,
   "id": "4805856d-a07a-41ee-90f3-7de5d1b6571e",
   "metadata": {
    "execution": {
     "iopub.execute_input": "2023-04-25T12:39:50.787161Z",
     "iopub.status.busy": "2023-04-25T12:39:50.786982Z",
     "iopub.status.idle": "2023-04-25T12:39:50.988724Z",
     "shell.execute_reply": "2023-04-25T12:39:50.987957Z",
     "shell.execute_reply.started": "2023-04-25T12:39:50.787138Z"
    }
   },
   "outputs": [],
   "source": [
    "df_prods_checked.to_csv(os.path.join(path, '02-Data','Prepared-Data', 'products_checked.csv'))"
   ]
  },
  {
   "cell_type": "markdown",
   "id": "41fd0f44-b02a-4af6-8a46-04bf0e73df3a",
   "metadata": {},
   "source": [
    "# BEGINNING TASK 4.5."
   ]
  },
  {
   "cell_type": "markdown",
   "id": "40e44159-3183-4b3b-ab76-f5a30ddaa06c",
   "metadata": {},
   "source": [
    "## Step 2:  Run the df.describe() function on your df_prods dataframe. Using your new knowledge about how to interpret the output of this function, share in a markdown cell whether anything about the data looks off or should be investigated further.\n",
    "    \n",
    "    Tip: Keep an eye on min and max values!"
   ]
  },
  {
   "cell_type": "markdown",
   "id": "41b5a987-2ded-4752-a3f2-7cea9a62064f",
   "metadata": {
    "tags": []
   },
   "source": [
    "### I imagine the cleaned and de-duplicated version of the df_prods DataFrame is the intended DF here, but it looks like the results are nearly identical.\n",
    "### The maximum price of 99999 looks like it could be a placeholder, but the minimum price of 1 could be legitimate, since we're discussing grocery items."
   ]
  },
  {
   "cell_type": "code",
   "execution_count": 48,
   "id": "a32156ef-4264-487a-93e0-3e6d12037317",
   "metadata": {
    "execution": {
     "iopub.execute_input": "2023-04-25T12:39:50.990690Z",
     "iopub.status.busy": "2023-04-25T12:39:50.990234Z",
     "iopub.status.idle": "2023-04-25T12:39:51.019372Z",
     "shell.execute_reply": "2023-04-25T12:39:51.018356Z",
     "shell.execute_reply.started": "2023-04-25T12:39:50.990653Z"
    }
   },
   "outputs": [
    {
     "data": {
      "text/html": [
       "<div>\n",
       "<style scoped>\n",
       "    .dataframe tbody tr th:only-of-type {\n",
       "        vertical-align: middle;\n",
       "    }\n",
       "\n",
       "    .dataframe tbody tr th {\n",
       "        vertical-align: top;\n",
       "    }\n",
       "\n",
       "    .dataframe thead th {\n",
       "        text-align: right;\n",
       "    }\n",
       "</style>\n",
       "<table border=\"1\" class=\"dataframe\">\n",
       "  <thead>\n",
       "    <tr style=\"text-align: right;\">\n",
       "      <th></th>\n",
       "      <th>product_id</th>\n",
       "      <th>aisle_id</th>\n",
       "      <th>department_id</th>\n",
       "      <th>prices</th>\n",
       "    </tr>\n",
       "  </thead>\n",
       "  <tbody>\n",
       "    <tr>\n",
       "      <th>count</th>\n",
       "      <td>49693.000000</td>\n",
       "      <td>49693.000000</td>\n",
       "      <td>49693.000000</td>\n",
       "      <td>49693.000000</td>\n",
       "    </tr>\n",
       "    <tr>\n",
       "      <th>mean</th>\n",
       "      <td>24844.345139</td>\n",
       "      <td>67.770249</td>\n",
       "      <td>11.728433</td>\n",
       "      <td>9.994136</td>\n",
       "    </tr>\n",
       "    <tr>\n",
       "      <th>std</th>\n",
       "      <td>14343.717401</td>\n",
       "      <td>38.316774</td>\n",
       "      <td>5.850282</td>\n",
       "      <td>453.519686</td>\n",
       "    </tr>\n",
       "    <tr>\n",
       "      <th>min</th>\n",
       "      <td>1.000000</td>\n",
       "      <td>1.000000</td>\n",
       "      <td>1.000000</td>\n",
       "      <td>1.000000</td>\n",
       "    </tr>\n",
       "    <tr>\n",
       "      <th>25%</th>\n",
       "      <td>12423.000000</td>\n",
       "      <td>35.000000</td>\n",
       "      <td>7.000000</td>\n",
       "      <td>4.100000</td>\n",
       "    </tr>\n",
       "    <tr>\n",
       "      <th>50%</th>\n",
       "      <td>24845.000000</td>\n",
       "      <td>69.000000</td>\n",
       "      <td>13.000000</td>\n",
       "      <td>7.100000</td>\n",
       "    </tr>\n",
       "    <tr>\n",
       "      <th>75%</th>\n",
       "      <td>37265.000000</td>\n",
       "      <td>100.000000</td>\n",
       "      <td>17.000000</td>\n",
       "      <td>11.200000</td>\n",
       "    </tr>\n",
       "    <tr>\n",
       "      <th>max</th>\n",
       "      <td>49688.000000</td>\n",
       "      <td>134.000000</td>\n",
       "      <td>21.000000</td>\n",
       "      <td>99999.000000</td>\n",
       "    </tr>\n",
       "  </tbody>\n",
       "</table>\n",
       "</div>"
      ],
      "text/plain": [
       "         product_id      aisle_id  department_id        prices\n",
       "count  49693.000000  49693.000000   49693.000000  49693.000000\n",
       "mean   24844.345139     67.770249      11.728433      9.994136\n",
       "std    14343.717401     38.316774       5.850282    453.519686\n",
       "min        1.000000      1.000000       1.000000      1.000000\n",
       "25%    12423.000000     35.000000       7.000000      4.100000\n",
       "50%    24845.000000     69.000000      13.000000      7.100000\n",
       "75%    37265.000000    100.000000      17.000000     11.200000\n",
       "max    49688.000000    134.000000      21.000000  99999.000000"
      ]
     },
     "execution_count": 48,
     "metadata": {},
     "output_type": "execute_result"
    }
   ],
   "source": [
    "df_prods.describe()"
   ]
  },
  {
   "cell_type": "code",
   "execution_count": 49,
   "id": "d665c174-4032-451f-97e1-a33f9d0a6540",
   "metadata": {
    "execution": {
     "iopub.execute_input": "2023-04-25T12:39:51.021344Z",
     "iopub.status.busy": "2023-04-25T12:39:51.021038Z",
     "iopub.status.idle": "2023-04-25T12:39:51.050761Z",
     "shell.execute_reply": "2023-04-25T12:39:51.049858Z",
     "shell.execute_reply.started": "2023-04-25T12:39:51.021309Z"
    }
   },
   "outputs": [
    {
     "data": {
      "text/html": [
       "<div>\n",
       "<style scoped>\n",
       "    .dataframe tbody tr th:only-of-type {\n",
       "        vertical-align: middle;\n",
       "    }\n",
       "\n",
       "    .dataframe tbody tr th {\n",
       "        vertical-align: top;\n",
       "    }\n",
       "\n",
       "    .dataframe thead th {\n",
       "        text-align: right;\n",
       "    }\n",
       "</style>\n",
       "<table border=\"1\" class=\"dataframe\">\n",
       "  <thead>\n",
       "    <tr style=\"text-align: right;\">\n",
       "      <th></th>\n",
       "      <th>product_id</th>\n",
       "      <th>aisle_id</th>\n",
       "      <th>department_id</th>\n",
       "      <th>prices</th>\n",
       "    </tr>\n",
       "  </thead>\n",
       "  <tbody>\n",
       "    <tr>\n",
       "      <th>count</th>\n",
       "      <td>49672.000000</td>\n",
       "      <td>49672.000000</td>\n",
       "      <td>49672.000000</td>\n",
       "      <td>49672.000000</td>\n",
       "    </tr>\n",
       "    <tr>\n",
       "      <th>mean</th>\n",
       "      <td>24850.349775</td>\n",
       "      <td>67.762442</td>\n",
       "      <td>11.728942</td>\n",
       "      <td>9.993282</td>\n",
       "    </tr>\n",
       "    <tr>\n",
       "      <th>std</th>\n",
       "      <td>14340.705287</td>\n",
       "      <td>38.315784</td>\n",
       "      <td>5.850779</td>\n",
       "      <td>453.615536</td>\n",
       "    </tr>\n",
       "    <tr>\n",
       "      <th>min</th>\n",
       "      <td>1.000000</td>\n",
       "      <td>1.000000</td>\n",
       "      <td>1.000000</td>\n",
       "      <td>1.000000</td>\n",
       "    </tr>\n",
       "    <tr>\n",
       "      <th>25%</th>\n",
       "      <td>12432.750000</td>\n",
       "      <td>35.000000</td>\n",
       "      <td>7.000000</td>\n",
       "      <td>4.100000</td>\n",
       "    </tr>\n",
       "    <tr>\n",
       "      <th>50%</th>\n",
       "      <td>24850.500000</td>\n",
       "      <td>69.000000</td>\n",
       "      <td>13.000000</td>\n",
       "      <td>7.100000</td>\n",
       "    </tr>\n",
       "    <tr>\n",
       "      <th>75%</th>\n",
       "      <td>37268.250000</td>\n",
       "      <td>100.000000</td>\n",
       "      <td>17.000000</td>\n",
       "      <td>11.100000</td>\n",
       "    </tr>\n",
       "    <tr>\n",
       "      <th>max</th>\n",
       "      <td>49688.000000</td>\n",
       "      <td>134.000000</td>\n",
       "      <td>21.000000</td>\n",
       "      <td>99999.000000</td>\n",
       "    </tr>\n",
       "  </tbody>\n",
       "</table>\n",
       "</div>"
      ],
      "text/plain": [
       "         product_id      aisle_id  department_id        prices\n",
       "count  49672.000000  49672.000000   49672.000000  49672.000000\n",
       "mean   24850.349775     67.762442      11.728942      9.993282\n",
       "std    14340.705287     38.315784       5.850779    453.615536\n",
       "min        1.000000      1.000000       1.000000      1.000000\n",
       "25%    12432.750000     35.000000       7.000000      4.100000\n",
       "50%    24850.500000     69.000000      13.000000      7.100000\n",
       "75%    37268.250000    100.000000      17.000000     11.100000\n",
       "max    49688.000000    134.000000      21.000000  99999.000000"
      ]
     },
     "execution_count": 49,
     "metadata": {},
     "output_type": "execute_result"
    }
   ],
   "source": [
    "df_prods_checked.describe()"
   ]
  },
  {
   "cell_type": "markdown",
   "id": "8267e409-4acb-47bd-905e-510e7d6ab19d",
   "metadata": {},
   "source": [
    "## Step 3:  Check for mixed-type data in your df_ords dataframe."
   ]
  },
  {
   "cell_type": "code",
   "execution_count": 50,
   "id": "a0b981b2-407d-49f0-b7f5-764e04610b0e",
   "metadata": {
    "execution": {
     "iopub.execute_input": "2023-04-25T12:39:51.053143Z",
     "iopub.status.busy": "2023-04-25T12:39:51.052329Z",
     "iopub.status.idle": "2023-04-25T12:39:51.060707Z",
     "shell.execute_reply": "2023-04-25T12:39:51.059541Z",
     "shell.execute_reply.started": "2023-04-25T12:39:51.053090Z"
    }
   },
   "outputs": [],
   "source": [
    "# The voodoo function returns no output, so it would seem there is no mixed-type data in the df_ords DataFrame.\n",
    "# Hence, I will skip Step 4."
   ]
  },
  {
   "cell_type": "code",
   "execution_count": 51,
   "id": "ee50ad0b-4527-4b3d-b62e-6c14126ed708",
   "metadata": {
    "execution": {
     "iopub.execute_input": "2023-04-25T12:39:51.063404Z",
     "iopub.status.busy": "2023-04-25T12:39:51.063072Z",
     "iopub.status.idle": "2023-04-25T12:39:55.125414Z",
     "shell.execute_reply": "2023-04-25T12:39:55.124676Z",
     "shell.execute_reply.started": "2023-04-25T12:39:51.063371Z"
    }
   },
   "outputs": [],
   "source": [
    "for col in df_ords.columns.tolist():\n",
    "  weird = (df_ords[[col]].applymap(type) != df_ords[[col]].iloc[0].apply(type)).any(axis = 1)\n",
    "  if len (df_ords[weird]) > 0:\n",
    "    print (col)"
   ]
  },
  {
   "cell_type": "markdown",
   "id": "f83e563f-e632-4e51-a4ce-f4d38f50855a",
   "metadata": {},
   "source": [
    "## Step 5:  Run a check for missing values in your df_ords dataframe.\n",
    "\n",
    "    In a markdown cell, report your findings and propose an explanation for any missing values you find.\n"
   ]
  },
  {
   "cell_type": "markdown",
   "id": "e40406fa-c2ff-4473-b537-b4dbb4d07d66",
   "metadata": {},
   "source": [
    "### The only NULLs (or NaNs) are in the 'days_since_prior_order' column."
   ]
  },
  {
   "cell_type": "code",
   "execution_count": 52,
   "id": "86ab1671-7681-4814-8bfa-6e8277423d25",
   "metadata": {
    "execution": {
     "iopub.execute_input": "2023-04-25T12:39:55.126516Z",
     "iopub.status.busy": "2023-04-25T12:39:55.126347Z",
     "iopub.status.idle": "2023-04-25T12:39:55.130002Z",
     "shell.execute_reply": "2023-04-25T12:39:55.128997Z",
     "shell.execute_reply.started": "2023-04-25T12:39:55.126493Z"
    }
   },
   "outputs": [],
   "source": [
    "# Look for nulls in df_ords."
   ]
  },
  {
   "cell_type": "code",
   "execution_count": 53,
   "id": "ac7df017-21f0-49d0-8d94-519c799970d3",
   "metadata": {
    "execution": {
     "iopub.execute_input": "2023-04-25T12:39:55.131864Z",
     "iopub.status.busy": "2023-04-25T12:39:55.131532Z",
     "iopub.status.idle": "2023-04-25T12:39:55.169650Z",
     "shell.execute_reply": "2023-04-25T12:39:55.168906Z",
     "shell.execute_reply.started": "2023-04-25T12:39:55.131827Z"
    }
   },
   "outputs": [
    {
     "data": {
      "text/plain": [
       "order_id                       0\n",
       "customer_id                    0\n",
       "order_number                   0\n",
       "orders_day_of_week             0\n",
       "order_hour_of_day              0\n",
       "days_since_prior_order    206209\n",
       "dtype: int64"
      ]
     },
     "execution_count": 53,
     "metadata": {},
     "output_type": "execute_result"
    }
   ],
   "source": [
    "df_ords.isnull().sum()"
   ]
  },
  {
   "cell_type": "code",
   "execution_count": 54,
   "id": "445f29b7-496c-4982-89b3-c6c64b96fbae",
   "metadata": {
    "execution": {
     "iopub.execute_input": "2023-04-25T12:39:55.171435Z",
     "iopub.status.busy": "2023-04-25T12:39:55.171231Z",
     "iopub.status.idle": "2023-04-25T12:39:55.174676Z",
     "shell.execute_reply": "2023-04-25T12:39:55.173904Z",
     "shell.execute_reply.started": "2023-04-25T12:39:55.171412Z"
    }
   },
   "outputs": [],
   "source": [
    "# The nulls in df_ords['days_since_prior_order'] , just for giggles.  There are too many to display."
   ]
  },
  {
   "cell_type": "code",
   "execution_count": 55,
   "id": "e981cde4-6f40-4391-82b2-f309b33d5dd6",
   "metadata": {
    "execution": {
     "iopub.execute_input": "2023-04-25T12:39:55.176395Z",
     "iopub.status.busy": "2023-04-25T12:39:55.175779Z",
     "iopub.status.idle": "2023-04-25T12:39:55.208550Z",
     "shell.execute_reply": "2023-04-25T12:39:55.207981Z",
     "shell.execute_reply.started": "2023-04-25T12:39:55.176369Z"
    },
    "tags": []
   },
   "outputs": [],
   "source": [
    "df_ords_nan=df_ords[df_ords['days_since_prior_order'].isnull()==True]"
   ]
  },
  {
   "cell_type": "code",
   "execution_count": 56,
   "id": "eade881f-fb6a-4ac3-8889-e92d411b8e7d",
   "metadata": {
    "execution": {
     "iopub.execute_input": "2023-04-25T12:39:55.211585Z",
     "iopub.status.busy": "2023-04-25T12:39:55.210840Z",
     "iopub.status.idle": "2023-04-25T12:39:55.223209Z",
     "shell.execute_reply": "2023-04-25T12:39:55.222318Z",
     "shell.execute_reply.started": "2023-04-25T12:39:55.211556Z"
    }
   },
   "outputs": [
    {
     "data": {
      "text/html": [
       "<div>\n",
       "<style scoped>\n",
       "    .dataframe tbody tr th:only-of-type {\n",
       "        vertical-align: middle;\n",
       "    }\n",
       "\n",
       "    .dataframe tbody tr th {\n",
       "        vertical-align: top;\n",
       "    }\n",
       "\n",
       "    .dataframe thead th {\n",
       "        text-align: right;\n",
       "    }\n",
       "</style>\n",
       "<table border=\"1\" class=\"dataframe\">\n",
       "  <thead>\n",
       "    <tr style=\"text-align: right;\">\n",
       "      <th></th>\n",
       "      <th>order_id</th>\n",
       "      <th>customer_id</th>\n",
       "      <th>order_number</th>\n",
       "      <th>orders_day_of_week</th>\n",
       "      <th>order_hour_of_day</th>\n",
       "      <th>days_since_prior_order</th>\n",
       "    </tr>\n",
       "  </thead>\n",
       "  <tbody>\n",
       "    <tr>\n",
       "      <th>0</th>\n",
       "      <td>2539329</td>\n",
       "      <td>1</td>\n",
       "      <td>1</td>\n",
       "      <td>2</td>\n",
       "      <td>8</td>\n",
       "      <td>NaN</td>\n",
       "    </tr>\n",
       "    <tr>\n",
       "      <th>11</th>\n",
       "      <td>2168274</td>\n",
       "      <td>2</td>\n",
       "      <td>1</td>\n",
       "      <td>2</td>\n",
       "      <td>11</td>\n",
       "      <td>NaN</td>\n",
       "    </tr>\n",
       "    <tr>\n",
       "      <th>26</th>\n",
       "      <td>1374495</td>\n",
       "      <td>3</td>\n",
       "      <td>1</td>\n",
       "      <td>1</td>\n",
       "      <td>14</td>\n",
       "      <td>NaN</td>\n",
       "    </tr>\n",
       "    <tr>\n",
       "      <th>39</th>\n",
       "      <td>3343014</td>\n",
       "      <td>4</td>\n",
       "      <td>1</td>\n",
       "      <td>6</td>\n",
       "      <td>11</td>\n",
       "      <td>NaN</td>\n",
       "    </tr>\n",
       "    <tr>\n",
       "      <th>45</th>\n",
       "      <td>2717275</td>\n",
       "      <td>5</td>\n",
       "      <td>1</td>\n",
       "      <td>3</td>\n",
       "      <td>12</td>\n",
       "      <td>NaN</td>\n",
       "    </tr>\n",
       "  </tbody>\n",
       "</table>\n",
       "</div>"
      ],
      "text/plain": [
       "    order_id  customer_id  order_number  orders_day_of_week  \\\n",
       "0    2539329            1             1                   2   \n",
       "11   2168274            2             1                   2   \n",
       "26   1374495            3             1                   1   \n",
       "39   3343014            4             1                   6   \n",
       "45   2717275            5             1                   3   \n",
       "\n",
       "    order_hour_of_day  days_since_prior_order  \n",
       "0                   8                     NaN  \n",
       "11                 11                     NaN  \n",
       "26                 14                     NaN  \n",
       "39                 11                     NaN  \n",
       "45                 12                     NaN  "
      ]
     },
     "execution_count": 56,
     "metadata": {},
     "output_type": "execute_result"
    }
   ],
   "source": [
    "df_ords_nan.head()"
   ]
  },
  {
   "cell_type": "code",
   "execution_count": 57,
   "id": "24fd5779-935e-4464-b4b6-a8d75fa06b39",
   "metadata": {
    "execution": {
     "iopub.execute_input": "2023-04-25T12:39:55.226581Z",
     "iopub.status.busy": "2023-04-25T12:39:55.226327Z",
     "iopub.status.idle": "2023-04-25T12:39:55.230456Z",
     "shell.execute_reply": "2023-04-25T12:39:55.229634Z",
     "shell.execute_reply.started": "2023-04-25T12:39:55.226556Z"
    }
   },
   "outputs": [],
   "source": [
    "# I suspect that missing values for the 'days_since_prior_order' will all correspond to a user's first order, i.e. 'order_number' will be '1'."
   ]
  },
  {
   "cell_type": "code",
   "execution_count": 58,
   "id": "3b92dbb5-2bee-4045-8ab6-a8e434171019",
   "metadata": {
    "execution": {
     "iopub.execute_input": "2023-04-25T12:39:55.231887Z",
     "iopub.status.busy": "2023-04-25T12:39:55.231558Z",
     "iopub.status.idle": "2023-04-25T12:39:55.283472Z",
     "shell.execute_reply": "2023-04-25T12:39:55.282947Z",
     "shell.execute_reply.started": "2023-04-25T12:39:55.231857Z"
    }
   },
   "outputs": [
    {
     "data": {
      "text/html": [
       "<div>\n",
       "<style scoped>\n",
       "    .dataframe tbody tr th:only-of-type {\n",
       "        vertical-align: middle;\n",
       "    }\n",
       "\n",
       "    .dataframe tbody tr th {\n",
       "        vertical-align: top;\n",
       "    }\n",
       "\n",
       "    .dataframe thead th {\n",
       "        text-align: right;\n",
       "    }\n",
       "</style>\n",
       "<table border=\"1\" class=\"dataframe\">\n",
       "  <thead>\n",
       "    <tr style=\"text-align: right;\">\n",
       "      <th></th>\n",
       "      <th>order_id</th>\n",
       "      <th>customer_id</th>\n",
       "      <th>order_number</th>\n",
       "      <th>orders_day_of_week</th>\n",
       "      <th>order_hour_of_day</th>\n",
       "      <th>days_since_prior_order</th>\n",
       "    </tr>\n",
       "  </thead>\n",
       "  <tbody>\n",
       "    <tr>\n",
       "      <th>count</th>\n",
       "      <td>2.062090e+05</td>\n",
       "      <td>206209.000000</td>\n",
       "      <td>206209.0</td>\n",
       "      <td>206209.000000</td>\n",
       "      <td>206209.000000</td>\n",
       "      <td>0.0</td>\n",
       "    </tr>\n",
       "    <tr>\n",
       "      <th>mean</th>\n",
       "      <td>1.708462e+06</td>\n",
       "      <td>103105.000000</td>\n",
       "      <td>1.0</td>\n",
       "      <td>2.754118</td>\n",
       "      <td>13.626597</td>\n",
       "      <td>NaN</td>\n",
       "    </tr>\n",
       "    <tr>\n",
       "      <th>std</th>\n",
       "      <td>9.881299e+05</td>\n",
       "      <td>59527.555167</td>\n",
       "      <td>0.0</td>\n",
       "      <td>2.076205</td>\n",
       "      <td>4.223769</td>\n",
       "      <td>NaN</td>\n",
       "    </tr>\n",
       "    <tr>\n",
       "      <th>min</th>\n",
       "      <td>2.000000e+01</td>\n",
       "      <td>1.000000</td>\n",
       "      <td>1.0</td>\n",
       "      <td>0.000000</td>\n",
       "      <td>0.000000</td>\n",
       "      <td>NaN</td>\n",
       "    </tr>\n",
       "    <tr>\n",
       "      <th>25%</th>\n",
       "      <td>8.507300e+05</td>\n",
       "      <td>51553.000000</td>\n",
       "      <td>1.0</td>\n",
       "      <td>1.000000</td>\n",
       "      <td>11.000000</td>\n",
       "      <td>NaN</td>\n",
       "    </tr>\n",
       "    <tr>\n",
       "      <th>50%</th>\n",
       "      <td>1.706246e+06</td>\n",
       "      <td>103105.000000</td>\n",
       "      <td>1.0</td>\n",
       "      <td>3.000000</td>\n",
       "      <td>14.000000</td>\n",
       "      <td>NaN</td>\n",
       "    </tr>\n",
       "    <tr>\n",
       "      <th>75%</th>\n",
       "      <td>2.564292e+06</td>\n",
       "      <td>154657.000000</td>\n",
       "      <td>1.0</td>\n",
       "      <td>5.000000</td>\n",
       "      <td>17.000000</td>\n",
       "      <td>NaN</td>\n",
       "    </tr>\n",
       "    <tr>\n",
       "      <th>max</th>\n",
       "      <td>3.421081e+06</td>\n",
       "      <td>206209.000000</td>\n",
       "      <td>1.0</td>\n",
       "      <td>6.000000</td>\n",
       "      <td>23.000000</td>\n",
       "      <td>NaN</td>\n",
       "    </tr>\n",
       "  </tbody>\n",
       "</table>\n",
       "</div>"
      ],
      "text/plain": [
       "           order_id    customer_id  order_number  orders_day_of_week  \\\n",
       "count  2.062090e+05  206209.000000      206209.0       206209.000000   \n",
       "mean   1.708462e+06  103105.000000           1.0            2.754118   \n",
       "std    9.881299e+05   59527.555167           0.0            2.076205   \n",
       "min    2.000000e+01       1.000000           1.0            0.000000   \n",
       "25%    8.507300e+05   51553.000000           1.0            1.000000   \n",
       "50%    1.706246e+06  103105.000000           1.0            3.000000   \n",
       "75%    2.564292e+06  154657.000000           1.0            5.000000   \n",
       "max    3.421081e+06  206209.000000           1.0            6.000000   \n",
       "\n",
       "       order_hour_of_day  days_since_prior_order  \n",
       "count      206209.000000                     0.0  \n",
       "mean           13.626597                     NaN  \n",
       "std             4.223769                     NaN  \n",
       "min             0.000000                     NaN  \n",
       "25%            11.000000                     NaN  \n",
       "50%            14.000000                     NaN  \n",
       "75%            17.000000                     NaN  \n",
       "max            23.000000                     NaN  "
      ]
     },
     "execution_count": 58,
     "metadata": {},
     "output_type": "execute_result"
    }
   ],
   "source": [
    "df_ords_nan.describe()"
   ]
  },
  {
   "cell_type": "markdown",
   "id": "3d4b66e3-76b6-4864-893c-1889d9637287",
   "metadata": {},
   "source": [
    "## Step 6:  Address the missing values using an appropriate method.\n",
    "\n",
    "    In a markdown cell, explain why you used your method of choice.\n"
   ]
  },
  {
   "cell_type": "markdown",
   "id": "2aa691f0-200d-4712-a010-31a6e48e1e30",
   "metadata": {},
   "source": [
    "### The output of 'df_ords_nan.describe()' confirms that only rows where order_number = 1 are affected, meaning there is no prior order for comparison.  The most appropriate solution is to replace the missing values in the 'days_since_prior_order' column with zeros."
   ]
  },
  {
   "cell_type": "code",
   "execution_count": 59,
   "id": "f65de2d7-84e0-4068-ba64-372a3b691379",
   "metadata": {
    "execution": {
     "iopub.execute_input": "2023-04-25T12:39:55.284829Z",
     "iopub.status.busy": "2023-04-25T12:39:55.284477Z",
     "iopub.status.idle": "2023-04-25T12:39:55.291222Z",
     "shell.execute_reply": "2023-04-25T12:39:55.290220Z",
     "shell.execute_reply.started": "2023-04-25T12:39:55.284795Z"
    }
   },
   "outputs": [],
   "source": [
    "# Replace NaNs with 0s in the 'days_since_prior_order' column of df_ords.  Let's create a new DF for this."
   ]
  },
  {
   "cell_type": "code",
   "execution_count": 60,
   "id": "714da648-2ae6-4262-8df3-86e2489c7d42",
   "metadata": {
    "execution": {
     "iopub.execute_input": "2023-04-25T12:39:55.293896Z",
     "iopub.status.busy": "2023-04-25T12:39:55.292302Z",
     "iopub.status.idle": "2023-04-25T12:39:55.311699Z",
     "shell.execute_reply": "2023-04-25T12:39:55.310969Z",
     "shell.execute_reply.started": "2023-04-25T12:39:55.293862Z"
    }
   },
   "outputs": [],
   "source": [
    "df_ords_no_nulls=df_ords['days_since_prior_order'].fillna(0,inplace=False)"
   ]
  },
  {
   "cell_type": "code",
   "execution_count": 61,
   "id": "6900a511-b245-46f8-8654-5694c1abe88c",
   "metadata": {
    "execution": {
     "iopub.execute_input": "2023-04-25T12:39:55.313269Z",
     "iopub.status.busy": "2023-04-25T12:39:55.312836Z",
     "iopub.status.idle": "2023-04-25T12:39:55.317474Z",
     "shell.execute_reply": "2023-04-25T12:39:55.316350Z",
     "shell.execute_reply.started": "2023-04-25T12:39:55.313242Z"
    }
   },
   "outputs": [],
   "source": [
    "# Checking the results:df_ords_no_nulls"
   ]
  },
  {
   "cell_type": "code",
   "execution_count": 62,
   "id": "e15b8c2e-20a5-49dc-8768-c1f90a92b560",
   "metadata": {
    "execution": {
     "iopub.execute_input": "2023-04-25T12:39:55.319471Z",
     "iopub.status.busy": "2023-04-25T12:39:55.319013Z",
     "iopub.status.idle": "2023-04-25T12:39:55.328036Z",
     "shell.execute_reply": "2023-04-25T12:39:55.327033Z",
     "shell.execute_reply.started": "2023-04-25T12:39:55.319433Z"
    }
   },
   "outputs": [
    {
     "data": {
      "text/plain": [
       "0     0.0\n",
       "1    15.0\n",
       "2    21.0\n",
       "3    29.0\n",
       "4    28.0\n",
       "Name: days_since_prior_order, dtype: float64"
      ]
     },
     "execution_count": 62,
     "metadata": {},
     "output_type": "execute_result"
    }
   ],
   "source": [
    "df_ords_no_nulls.head()"
   ]
  },
  {
   "cell_type": "code",
   "execution_count": 63,
   "id": "9d57544f-e178-478c-b2d7-0833e7783672",
   "metadata": {
    "execution": {
     "iopub.execute_input": "2023-04-25T12:39:55.329323Z",
     "iopub.status.busy": "2023-04-25T12:39:55.329083Z",
     "iopub.status.idle": "2023-04-25T12:39:55.332852Z",
     "shell.execute_reply": "2023-04-25T12:39:55.332315Z",
     "shell.execute_reply.started": "2023-04-25T12:39:55.329299Z"
    }
   },
   "outputs": [],
   "source": [
    "# AHHH!  Good to know:  That 'df_ords['days_since_prior_order'].fillna(0,inplace=False)' only returns the modified column,\n",
    "# NOT the entire modified DataFrame.  I guess we'll have to use two operations rather than just one.  Kind of inefficient. :-("
   ]
  },
  {
   "cell_type": "code",
   "execution_count": 64,
   "id": "1dd89dec-7c50-4aa2-b6e3-c2c17b55494f",
   "metadata": {
    "execution": {
     "iopub.execute_input": "2023-04-25T12:39:55.334218Z",
     "iopub.status.busy": "2023-04-25T12:39:55.333833Z",
     "iopub.status.idle": "2023-04-25T12:39:55.342851Z",
     "shell.execute_reply": "2023-04-25T12:39:55.341982Z",
     "shell.execute_reply.started": "2023-04-25T12:39:55.334192Z"
    }
   },
   "outputs": [],
   "source": [
    "df_ords_no_nulls=df_ords # Create the new DF as a straight copy of the original."
   ]
  },
  {
   "cell_type": "code",
   "execution_count": 65,
   "id": "7b8ce1ba-9b83-402f-86bd-679520e1fe26",
   "metadata": {
    "execution": {
     "iopub.execute_input": "2023-04-25T12:39:55.344428Z",
     "iopub.status.busy": "2023-04-25T12:39:55.344083Z",
     "iopub.status.idle": "2023-04-25T12:39:55.353930Z",
     "shell.execute_reply": "2023-04-25T12:39:55.353319Z",
     "shell.execute_reply.started": "2023-04-25T12:39:55.344400Z"
    }
   },
   "outputs": [
    {
     "data": {
      "text/html": [
       "<div>\n",
       "<style scoped>\n",
       "    .dataframe tbody tr th:only-of-type {\n",
       "        vertical-align: middle;\n",
       "    }\n",
       "\n",
       "    .dataframe tbody tr th {\n",
       "        vertical-align: top;\n",
       "    }\n",
       "\n",
       "    .dataframe thead th {\n",
       "        text-align: right;\n",
       "    }\n",
       "</style>\n",
       "<table border=\"1\" class=\"dataframe\">\n",
       "  <thead>\n",
       "    <tr style=\"text-align: right;\">\n",
       "      <th></th>\n",
       "      <th>order_id</th>\n",
       "      <th>customer_id</th>\n",
       "      <th>order_number</th>\n",
       "      <th>orders_day_of_week</th>\n",
       "      <th>order_hour_of_day</th>\n",
       "      <th>days_since_prior_order</th>\n",
       "    </tr>\n",
       "  </thead>\n",
       "  <tbody>\n",
       "    <tr>\n",
       "      <th>0</th>\n",
       "      <td>2539329</td>\n",
       "      <td>1</td>\n",
       "      <td>1</td>\n",
       "      <td>2</td>\n",
       "      <td>8</td>\n",
       "      <td>NaN</td>\n",
       "    </tr>\n",
       "    <tr>\n",
       "      <th>1</th>\n",
       "      <td>2398795</td>\n",
       "      <td>1</td>\n",
       "      <td>2</td>\n",
       "      <td>3</td>\n",
       "      <td>7</td>\n",
       "      <td>15.0</td>\n",
       "    </tr>\n",
       "    <tr>\n",
       "      <th>2</th>\n",
       "      <td>473747</td>\n",
       "      <td>1</td>\n",
       "      <td>3</td>\n",
       "      <td>3</td>\n",
       "      <td>12</td>\n",
       "      <td>21.0</td>\n",
       "    </tr>\n",
       "    <tr>\n",
       "      <th>3</th>\n",
       "      <td>2254736</td>\n",
       "      <td>1</td>\n",
       "      <td>4</td>\n",
       "      <td>4</td>\n",
       "      <td>7</td>\n",
       "      <td>29.0</td>\n",
       "    </tr>\n",
       "    <tr>\n",
       "      <th>4</th>\n",
       "      <td>431534</td>\n",
       "      <td>1</td>\n",
       "      <td>5</td>\n",
       "      <td>4</td>\n",
       "      <td>15</td>\n",
       "      <td>28.0</td>\n",
       "    </tr>\n",
       "  </tbody>\n",
       "</table>\n",
       "</div>"
      ],
      "text/plain": [
       "   order_id  customer_id  order_number  orders_day_of_week  order_hour_of_day  \\\n",
       "0   2539329            1             1                   2                  8   \n",
       "1   2398795            1             2                   3                  7   \n",
       "2    473747            1             3                   3                 12   \n",
       "3   2254736            1             4                   4                  7   \n",
       "4    431534            1             5                   4                 15   \n",
       "\n",
       "   days_since_prior_order  \n",
       "0                     NaN  \n",
       "1                    15.0  \n",
       "2                    21.0  \n",
       "3                    29.0  \n",
       "4                    28.0  "
      ]
     },
     "execution_count": 65,
     "metadata": {},
     "output_type": "execute_result"
    }
   ],
   "source": [
    "df_ords_no_nulls.head()"
   ]
  },
  {
   "cell_type": "code",
   "execution_count": 66,
   "id": "4b3f9c0d-5c47-40d9-876d-86b931e19fc1",
   "metadata": {
    "execution": {
     "iopub.execute_input": "2023-04-25T12:39:55.355960Z",
     "iopub.status.busy": "2023-04-25T12:39:55.355471Z",
     "iopub.status.idle": "2023-04-25T12:39:55.359298Z",
     "shell.execute_reply": "2023-04-25T12:39:55.358659Z",
     "shell.execute_reply.started": "2023-04-25T12:39:55.355927Z"
    }
   },
   "outputs": [],
   "source": [
    "# df_ords_no_nulls=df_ords_no_nulls['days_since_prior_order'].fillna(0, inplace=True)  # Modify the copied DF in place."
   ]
  },
  {
   "cell_type": "code",
   "execution_count": 67,
   "id": "9da7d634-b5fc-43ae-97c4-6e792b64541e",
   "metadata": {
    "execution": {
     "iopub.execute_input": "2023-04-25T12:39:55.360590Z",
     "iopub.status.busy": "2023-04-25T12:39:55.360273Z",
     "iopub.status.idle": "2023-04-25T12:39:55.373189Z",
     "shell.execute_reply": "2023-04-25T12:39:55.372207Z",
     "shell.execute_reply.started": "2023-04-25T12:39:55.360566Z"
    }
   },
   "outputs": [],
   "source": [
    "df_ords_no_nulls['days_since_prior_order'].fillna(0, inplace=True)  # Modify the copied DF in place."
   ]
  },
  {
   "cell_type": "code",
   "execution_count": 68,
   "id": "85aed1fe-e1e0-42af-a3a4-6d70eeb8d03e",
   "metadata": {
    "execution": {
     "iopub.execute_input": "2023-04-25T12:39:55.374618Z",
     "iopub.status.busy": "2023-04-25T12:39:55.374408Z",
     "iopub.status.idle": "2023-04-25T12:39:55.377927Z",
     "shell.execute_reply": "2023-04-25T12:39:55.377109Z",
     "shell.execute_reply.started": "2023-04-25T12:39:55.374592Z"
    }
   },
   "outputs": [],
   "source": [
    "# Check our results again."
   ]
  },
  {
   "cell_type": "code",
   "execution_count": 69,
   "id": "e563f90e-0820-41ba-b31f-6ae10d6c6fe8",
   "metadata": {
    "execution": {
     "iopub.execute_input": "2023-04-25T12:39:55.379614Z",
     "iopub.status.busy": "2023-04-25T12:39:55.379234Z",
     "iopub.status.idle": "2023-04-25T12:39:55.390096Z",
     "shell.execute_reply": "2023-04-25T12:39:55.389553Z",
     "shell.execute_reply.started": "2023-04-25T12:39:55.379583Z"
    }
   },
   "outputs": [
    {
     "data": {
      "text/html": [
       "<div>\n",
       "<style scoped>\n",
       "    .dataframe tbody tr th:only-of-type {\n",
       "        vertical-align: middle;\n",
       "    }\n",
       "\n",
       "    .dataframe tbody tr th {\n",
       "        vertical-align: top;\n",
       "    }\n",
       "\n",
       "    .dataframe thead th {\n",
       "        text-align: right;\n",
       "    }\n",
       "</style>\n",
       "<table border=\"1\" class=\"dataframe\">\n",
       "  <thead>\n",
       "    <tr style=\"text-align: right;\">\n",
       "      <th></th>\n",
       "      <th>order_id</th>\n",
       "      <th>customer_id</th>\n",
       "      <th>order_number</th>\n",
       "      <th>orders_day_of_week</th>\n",
       "      <th>order_hour_of_day</th>\n",
       "      <th>days_since_prior_order</th>\n",
       "    </tr>\n",
       "  </thead>\n",
       "  <tbody>\n",
       "    <tr>\n",
       "      <th>0</th>\n",
       "      <td>2539329</td>\n",
       "      <td>1</td>\n",
       "      <td>1</td>\n",
       "      <td>2</td>\n",
       "      <td>8</td>\n",
       "      <td>0.0</td>\n",
       "    </tr>\n",
       "    <tr>\n",
       "      <th>1</th>\n",
       "      <td>2398795</td>\n",
       "      <td>1</td>\n",
       "      <td>2</td>\n",
       "      <td>3</td>\n",
       "      <td>7</td>\n",
       "      <td>15.0</td>\n",
       "    </tr>\n",
       "    <tr>\n",
       "      <th>2</th>\n",
       "      <td>473747</td>\n",
       "      <td>1</td>\n",
       "      <td>3</td>\n",
       "      <td>3</td>\n",
       "      <td>12</td>\n",
       "      <td>21.0</td>\n",
       "    </tr>\n",
       "    <tr>\n",
       "      <th>3</th>\n",
       "      <td>2254736</td>\n",
       "      <td>1</td>\n",
       "      <td>4</td>\n",
       "      <td>4</td>\n",
       "      <td>7</td>\n",
       "      <td>29.0</td>\n",
       "    </tr>\n",
       "    <tr>\n",
       "      <th>4</th>\n",
       "      <td>431534</td>\n",
       "      <td>1</td>\n",
       "      <td>5</td>\n",
       "      <td>4</td>\n",
       "      <td>15</td>\n",
       "      <td>28.0</td>\n",
       "    </tr>\n",
       "  </tbody>\n",
       "</table>\n",
       "</div>"
      ],
      "text/plain": [
       "   order_id  customer_id  order_number  orders_day_of_week  order_hour_of_day  \\\n",
       "0   2539329            1             1                   2                  8   \n",
       "1   2398795            1             2                   3                  7   \n",
       "2    473747            1             3                   3                 12   \n",
       "3   2254736            1             4                   4                  7   \n",
       "4    431534            1             5                   4                 15   \n",
       "\n",
       "   days_since_prior_order  \n",
       "0                     0.0  \n",
       "1                    15.0  \n",
       "2                    21.0  \n",
       "3                    29.0  \n",
       "4                    28.0  "
      ]
     },
     "execution_count": 69,
     "metadata": {},
     "output_type": "execute_result"
    }
   ],
   "source": [
    "df_ords_no_nulls.head()"
   ]
  },
  {
   "cell_type": "code",
   "execution_count": 70,
   "id": "f7ea9428-bde3-42d4-8ac7-3cff2333052b",
   "metadata": {
    "execution": {
     "iopub.execute_input": "2023-04-25T12:39:55.391423Z",
     "iopub.status.busy": "2023-04-25T12:39:55.391101Z",
     "iopub.status.idle": "2023-04-25T12:39:55.951936Z",
     "shell.execute_reply": "2023-04-25T12:39:55.951255Z",
     "shell.execute_reply.started": "2023-04-25T12:39:55.391399Z"
    }
   },
   "outputs": [
    {
     "data": {
      "text/html": [
       "<div>\n",
       "<style scoped>\n",
       "    .dataframe tbody tr th:only-of-type {\n",
       "        vertical-align: middle;\n",
       "    }\n",
       "\n",
       "    .dataframe tbody tr th {\n",
       "        vertical-align: top;\n",
       "    }\n",
       "\n",
       "    .dataframe thead th {\n",
       "        text-align: right;\n",
       "    }\n",
       "</style>\n",
       "<table border=\"1\" class=\"dataframe\">\n",
       "  <thead>\n",
       "    <tr style=\"text-align: right;\">\n",
       "      <th></th>\n",
       "      <th>order_id</th>\n",
       "      <th>customer_id</th>\n",
       "      <th>order_number</th>\n",
       "      <th>orders_day_of_week</th>\n",
       "      <th>order_hour_of_day</th>\n",
       "      <th>days_since_prior_order</th>\n",
       "    </tr>\n",
       "  </thead>\n",
       "  <tbody>\n",
       "    <tr>\n",
       "      <th>count</th>\n",
       "      <td>3.421083e+06</td>\n",
       "      <td>3.421083e+06</td>\n",
       "      <td>3.421083e+06</td>\n",
       "      <td>3.421083e+06</td>\n",
       "      <td>3.421083e+06</td>\n",
       "      <td>3.421083e+06</td>\n",
       "    </tr>\n",
       "    <tr>\n",
       "      <th>mean</th>\n",
       "      <td>1.710542e+06</td>\n",
       "      <td>1.029782e+05</td>\n",
       "      <td>1.715486e+01</td>\n",
       "      <td>2.776219e+00</td>\n",
       "      <td>1.345202e+01</td>\n",
       "      <td>1.044488e+01</td>\n",
       "    </tr>\n",
       "    <tr>\n",
       "      <th>std</th>\n",
       "      <td>9.875817e+05</td>\n",
       "      <td>5.953372e+04</td>\n",
       "      <td>1.773316e+01</td>\n",
       "      <td>2.046829e+00</td>\n",
       "      <td>4.226088e+00</td>\n",
       "      <td>9.308727e+00</td>\n",
       "    </tr>\n",
       "    <tr>\n",
       "      <th>min</th>\n",
       "      <td>1.000000e+00</td>\n",
       "      <td>1.000000e+00</td>\n",
       "      <td>1.000000e+00</td>\n",
       "      <td>0.000000e+00</td>\n",
       "      <td>0.000000e+00</td>\n",
       "      <td>0.000000e+00</td>\n",
       "    </tr>\n",
       "    <tr>\n",
       "      <th>25%</th>\n",
       "      <td>8.552715e+05</td>\n",
       "      <td>5.139400e+04</td>\n",
       "      <td>5.000000e+00</td>\n",
       "      <td>1.000000e+00</td>\n",
       "      <td>1.000000e+01</td>\n",
       "      <td>4.000000e+00</td>\n",
       "    </tr>\n",
       "    <tr>\n",
       "      <th>50%</th>\n",
       "      <td>1.710542e+06</td>\n",
       "      <td>1.026890e+05</td>\n",
       "      <td>1.100000e+01</td>\n",
       "      <td>3.000000e+00</td>\n",
       "      <td>1.300000e+01</td>\n",
       "      <td>7.000000e+00</td>\n",
       "    </tr>\n",
       "    <tr>\n",
       "      <th>75%</th>\n",
       "      <td>2.565812e+06</td>\n",
       "      <td>1.543850e+05</td>\n",
       "      <td>2.300000e+01</td>\n",
       "      <td>5.000000e+00</td>\n",
       "      <td>1.600000e+01</td>\n",
       "      <td>1.500000e+01</td>\n",
       "    </tr>\n",
       "    <tr>\n",
       "      <th>max</th>\n",
       "      <td>3.421083e+06</td>\n",
       "      <td>2.062090e+05</td>\n",
       "      <td>1.000000e+02</td>\n",
       "      <td>6.000000e+00</td>\n",
       "      <td>2.300000e+01</td>\n",
       "      <td>3.000000e+01</td>\n",
       "    </tr>\n",
       "  </tbody>\n",
       "</table>\n",
       "</div>"
      ],
      "text/plain": [
       "           order_id   customer_id  order_number  orders_day_of_week  \\\n",
       "count  3.421083e+06  3.421083e+06  3.421083e+06        3.421083e+06   \n",
       "mean   1.710542e+06  1.029782e+05  1.715486e+01        2.776219e+00   \n",
       "std    9.875817e+05  5.953372e+04  1.773316e+01        2.046829e+00   \n",
       "min    1.000000e+00  1.000000e+00  1.000000e+00        0.000000e+00   \n",
       "25%    8.552715e+05  5.139400e+04  5.000000e+00        1.000000e+00   \n",
       "50%    1.710542e+06  1.026890e+05  1.100000e+01        3.000000e+00   \n",
       "75%    2.565812e+06  1.543850e+05  2.300000e+01        5.000000e+00   \n",
       "max    3.421083e+06  2.062090e+05  1.000000e+02        6.000000e+00   \n",
       "\n",
       "       order_hour_of_day  days_since_prior_order  \n",
       "count       3.421083e+06            3.421083e+06  \n",
       "mean        1.345202e+01            1.044488e+01  \n",
       "std         4.226088e+00            9.308727e+00  \n",
       "min         0.000000e+00            0.000000e+00  \n",
       "25%         1.000000e+01            4.000000e+00  \n",
       "50%         1.300000e+01            7.000000e+00  \n",
       "75%         1.600000e+01            1.500000e+01  \n",
       "max         2.300000e+01            3.000000e+01  "
      ]
     },
     "execution_count": 70,
     "metadata": {},
     "output_type": "execute_result"
    }
   ],
   "source": [
    "df_ords_no_nulls.describe()"
   ]
  },
  {
   "cell_type": "code",
   "execution_count": 71,
   "id": "2160bb53-ef8e-4358-b1c3-b641dac520ea",
   "metadata": {
    "execution": {
     "iopub.execute_input": "2023-04-25T12:39:55.953290Z",
     "iopub.status.busy": "2023-04-25T12:39:55.952778Z",
     "iopub.status.idle": "2023-04-25T12:39:55.987280Z",
     "shell.execute_reply": "2023-04-25T12:39:55.986385Z",
     "shell.execute_reply.started": "2023-04-25T12:39:55.953264Z"
    }
   },
   "outputs": [
    {
     "data": {
      "text/plain": [
       "order_id                  0\n",
       "customer_id               0\n",
       "order_number              0\n",
       "orders_day_of_week        0\n",
       "order_hour_of_day         0\n",
       "days_since_prior_order    0\n",
       "dtype: int64"
      ]
     },
     "execution_count": 71,
     "metadata": {},
     "output_type": "execute_result"
    }
   ],
   "source": [
    "df_ords_no_nulls.isnull().sum()"
   ]
  },
  {
   "cell_type": "markdown",
   "id": "a144293a-8644-4319-bc2a-50de25e51947",
   "metadata": {},
   "source": [
    "## Step 7:  Run a check for duplicate values in your df_ords data.\n",
    "\n",
    "    In a markdown cell, report your findings and propose an explanation for any duplicate values you find.\n"
   ]
  },
  {
   "cell_type": "markdown",
   "id": "a50de772-8990-4fbf-89f5-4a3d3d395ef7",
   "metadata": {},
   "source": [
    "### No duplicates found (see below).  Skipping Step 8, accordingly."
   ]
  },
  {
   "cell_type": "code",
   "execution_count": 72,
   "id": "636fb77d-b0a2-4c0b-9185-32f9a5b09660",
   "metadata": {
    "execution": {
     "iopub.execute_input": "2023-04-25T12:39:55.988801Z",
     "iopub.status.busy": "2023-04-25T12:39:55.988488Z",
     "iopub.status.idle": "2023-04-25T12:39:57.141972Z",
     "shell.execute_reply": "2023-04-25T12:39:57.141449Z",
     "shell.execute_reply.started": "2023-04-25T12:39:55.988777Z"
    }
   },
   "outputs": [],
   "source": [
    "df_ords_no_nulls_any_dups = df_ords_no_nulls[df_ords_no_nulls.duplicated()]"
   ]
  },
  {
   "cell_type": "code",
   "execution_count": 73,
   "id": "7f054dba-491c-48a4-9c74-7b0766c5d90a",
   "metadata": {
    "execution": {
     "iopub.execute_input": "2023-04-25T12:39:57.143305Z",
     "iopub.status.busy": "2023-04-25T12:39:57.143019Z",
     "iopub.status.idle": "2023-04-25T12:39:57.148453Z",
     "shell.execute_reply": "2023-04-25T12:39:57.147648Z",
     "shell.execute_reply.started": "2023-04-25T12:39:57.143283Z"
    }
   },
   "outputs": [
    {
     "data": {
      "text/plain": [
       "(0, 6)"
      ]
     },
     "execution_count": 73,
     "metadata": {},
     "output_type": "execute_result"
    }
   ],
   "source": [
    "df_ords_no_nulls_any_dups.shape"
   ]
  },
  {
   "cell_type": "code",
   "execution_count": 74,
   "id": "df2d08e9-6ff1-4549-a179-7413178ccad7",
   "metadata": {
    "execution": {
     "iopub.execute_input": "2023-04-25T12:39:57.150141Z",
     "iopub.status.busy": "2023-04-25T12:39:57.149757Z",
     "iopub.status.idle": "2023-04-25T12:39:57.161576Z",
     "shell.execute_reply": "2023-04-25T12:39:57.160600Z",
     "shell.execute_reply.started": "2023-04-25T12:39:57.150103Z"
    }
   },
   "outputs": [
    {
     "data": {
      "text/html": [
       "<div>\n",
       "<style scoped>\n",
       "    .dataframe tbody tr th:only-of-type {\n",
       "        vertical-align: middle;\n",
       "    }\n",
       "\n",
       "    .dataframe tbody tr th {\n",
       "        vertical-align: top;\n",
       "    }\n",
       "\n",
       "    .dataframe thead th {\n",
       "        text-align: right;\n",
       "    }\n",
       "</style>\n",
       "<table border=\"1\" class=\"dataframe\">\n",
       "  <thead>\n",
       "    <tr style=\"text-align: right;\">\n",
       "      <th></th>\n",
       "      <th>order_id</th>\n",
       "      <th>customer_id</th>\n",
       "      <th>order_number</th>\n",
       "      <th>orders_day_of_week</th>\n",
       "      <th>order_hour_of_day</th>\n",
       "      <th>days_since_prior_order</th>\n",
       "    </tr>\n",
       "  </thead>\n",
       "  <tbody>\n",
       "  </tbody>\n",
       "</table>\n",
       "</div>"
      ],
      "text/plain": [
       "Empty DataFrame\n",
       "Columns: [order_id, customer_id, order_number, orders_day_of_week, order_hour_of_day, days_since_prior_order]\n",
       "Index: []"
      ]
     },
     "execution_count": 74,
     "metadata": {},
     "output_type": "execute_result"
    }
   ],
   "source": [
    "df_ords_no_nulls_any_dups"
   ]
  },
  {
   "cell_type": "markdown",
   "id": "a864b329-f7fd-458b-b6f3-8ab6722d3b01",
   "metadata": {},
   "source": [
    "## Step 9:  Export your final, cleaned df_prods and df_ords data as “.csv” files in your “Prepared Data” folder and give them appropriate, succinct names."
   ]
  },
  {
   "cell_type": "code",
   "execution_count": 75,
   "id": "93f90ffa-3bbd-4bfd-bde8-a1fb1f3dd634",
   "metadata": {
    "execution": {
     "iopub.execute_input": "2023-04-25T12:39:57.164055Z",
     "iopub.status.busy": "2023-04-25T12:39:57.163770Z",
     "iopub.status.idle": "2023-04-25T12:39:57.167598Z",
     "shell.execute_reply": "2023-04-25T12:39:57.166859Z",
     "shell.execute_reply.started": "2023-04-25T12:39:57.164029Z"
    }
   },
   "outputs": [],
   "source": [
    "# I already saved the new \"checked\" products DataFrame to a .CSV file during the Exercise, above:\n",
    "# df_prods_checked.to_csv(os.path.join(path, '02-Data','Prepared-Data', 'products_checked.csv'))"
   ]
  },
  {
   "cell_type": "code",
   "execution_count": 76,
   "id": "6719a9f4-a718-41cc-b282-db99a6b33e10",
   "metadata": {
    "execution": {
     "iopub.execute_input": "2023-04-25T12:39:57.168718Z",
     "iopub.status.busy": "2023-04-25T12:39:57.168524Z",
     "iopub.status.idle": "2023-04-25T12:39:57.173536Z",
     "shell.execute_reply": "2023-04-25T12:39:57.172684Z",
     "shell.execute_reply.started": "2023-04-25T12:39:57.168696Z"
    }
   },
   "outputs": [],
   "source": [
    "# Copy the cleaned orders DataFrame to a new one with \"checked\" in the name (for consistency)."
   ]
  },
  {
   "cell_type": "code",
   "execution_count": 77,
   "id": "8c6f3bbf-8fa1-4a5f-993f-fad07549e28a",
   "metadata": {
    "execution": {
     "iopub.execute_input": "2023-04-25T12:39:57.174966Z",
     "iopub.status.busy": "2023-04-25T12:39:57.174422Z",
     "iopub.status.idle": "2023-04-25T12:39:57.180589Z",
     "shell.execute_reply": "2023-04-25T12:39:57.179807Z",
     "shell.execute_reply.started": "2023-04-25T12:39:57.174942Z"
    }
   },
   "outputs": [],
   "source": [
    "df_ords_checked=df_ords_no_nulls"
   ]
  },
  {
   "cell_type": "code",
   "execution_count": 78,
   "id": "ed2bafad-a5b6-4a64-958f-6d1a1282e50b",
   "metadata": {
    "execution": {
     "iopub.execute_input": "2023-04-25T12:39:57.182583Z",
     "iopub.status.busy": "2023-04-25T12:39:57.181625Z",
     "iopub.status.idle": "2023-04-25T12:39:57.195080Z",
     "shell.execute_reply": "2023-04-25T12:39:57.193678Z",
     "shell.execute_reply.started": "2023-04-25T12:39:57.182515Z"
    }
   },
   "outputs": [
    {
     "data": {
      "text/html": [
       "<div>\n",
       "<style scoped>\n",
       "    .dataframe tbody tr th:only-of-type {\n",
       "        vertical-align: middle;\n",
       "    }\n",
       "\n",
       "    .dataframe tbody tr th {\n",
       "        vertical-align: top;\n",
       "    }\n",
       "\n",
       "    .dataframe thead th {\n",
       "        text-align: right;\n",
       "    }\n",
       "</style>\n",
       "<table border=\"1\" class=\"dataframe\">\n",
       "  <thead>\n",
       "    <tr style=\"text-align: right;\">\n",
       "      <th></th>\n",
       "      <th>order_id</th>\n",
       "      <th>customer_id</th>\n",
       "      <th>order_number</th>\n",
       "      <th>orders_day_of_week</th>\n",
       "      <th>order_hour_of_day</th>\n",
       "      <th>days_since_prior_order</th>\n",
       "    </tr>\n",
       "  </thead>\n",
       "  <tbody>\n",
       "    <tr>\n",
       "      <th>0</th>\n",
       "      <td>2539329</td>\n",
       "      <td>1</td>\n",
       "      <td>1</td>\n",
       "      <td>2</td>\n",
       "      <td>8</td>\n",
       "      <td>0.0</td>\n",
       "    </tr>\n",
       "    <tr>\n",
       "      <th>1</th>\n",
       "      <td>2398795</td>\n",
       "      <td>1</td>\n",
       "      <td>2</td>\n",
       "      <td>3</td>\n",
       "      <td>7</td>\n",
       "      <td>15.0</td>\n",
       "    </tr>\n",
       "    <tr>\n",
       "      <th>2</th>\n",
       "      <td>473747</td>\n",
       "      <td>1</td>\n",
       "      <td>3</td>\n",
       "      <td>3</td>\n",
       "      <td>12</td>\n",
       "      <td>21.0</td>\n",
       "    </tr>\n",
       "    <tr>\n",
       "      <th>3</th>\n",
       "      <td>2254736</td>\n",
       "      <td>1</td>\n",
       "      <td>4</td>\n",
       "      <td>4</td>\n",
       "      <td>7</td>\n",
       "      <td>29.0</td>\n",
       "    </tr>\n",
       "    <tr>\n",
       "      <th>4</th>\n",
       "      <td>431534</td>\n",
       "      <td>1</td>\n",
       "      <td>5</td>\n",
       "      <td>4</td>\n",
       "      <td>15</td>\n",
       "      <td>28.0</td>\n",
       "    </tr>\n",
       "  </tbody>\n",
       "</table>\n",
       "</div>"
      ],
      "text/plain": [
       "   order_id  customer_id  order_number  orders_day_of_week  order_hour_of_day  \\\n",
       "0   2539329            1             1                   2                  8   \n",
       "1   2398795            1             2                   3                  7   \n",
       "2    473747            1             3                   3                 12   \n",
       "3   2254736            1             4                   4                  7   \n",
       "4    431534            1             5                   4                 15   \n",
       "\n",
       "   days_since_prior_order  \n",
       "0                     0.0  \n",
       "1                    15.0  \n",
       "2                    21.0  \n",
       "3                    29.0  \n",
       "4                    28.0  "
      ]
     },
     "execution_count": 78,
     "metadata": {},
     "output_type": "execute_result"
    }
   ],
   "source": [
    "df_ords_checked.head()"
   ]
  },
  {
   "cell_type": "code",
   "execution_count": 79,
   "id": "33bec045-ea7c-44c6-9845-a030ea2ecf23",
   "metadata": {
    "execution": {
     "iopub.execute_input": "2023-04-25T12:39:57.198402Z",
     "iopub.status.busy": "2023-04-25T12:39:57.197164Z",
     "iopub.status.idle": "2023-04-25T12:39:57.202501Z",
     "shell.execute_reply": "2023-04-25T12:39:57.201605Z",
     "shell.execute_reply.started": "2023-04-25T12:39:57.198326Z"
    }
   },
   "outputs": [],
   "source": [
    "# Save the new \"checked\" orders DataFrame to a .CSV file."
   ]
  },
  {
   "cell_type": "code",
   "execution_count": 80,
   "id": "a31ec4e0-fe32-471a-8b74-b3b68bb2de08",
   "metadata": {
    "execution": {
     "iopub.execute_input": "2023-04-25T12:39:57.204323Z",
     "iopub.status.busy": "2023-04-25T12:39:57.203873Z",
     "iopub.status.idle": "2023-04-25T12:40:08.867188Z",
     "shell.execute_reply": "2023-04-25T12:40:08.866573Z",
     "shell.execute_reply.started": "2023-04-25T12:39:57.204284Z"
    },
    "tags": []
   },
   "outputs": [],
   "source": [
    "df_ords_checked.to_csv(os.path.join(path, '02-Data','Prepared-Data', 'orders_checked.csv'))"
   ]
  }
 ],
 "metadata": {
  "kernelspec": {
   "display_name": "Python 3 (ipykernel)",
   "language": "python",
   "name": "python3"
  },
  "language_info": {
   "codemirror_mode": {
    "name": "ipython",
    "version": 3
   },
   "file_extension": ".py",
   "mimetype": "text/x-python",
   "name": "python",
   "nbconvert_exporter": "python",
   "pygments_lexer": "ipython3",
   "version": "3.9.12"
  }
 },
 "nbformat": 4,
 "nbformat_minor": 5
}
