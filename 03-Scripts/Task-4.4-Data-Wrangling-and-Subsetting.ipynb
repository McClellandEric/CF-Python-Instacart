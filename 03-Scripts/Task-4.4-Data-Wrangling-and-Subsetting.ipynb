{
 "cells": [
  {
   "cell_type": "markdown",
   "id": "15dadb85-142a-4914-ba4a-a54754f7c519",
   "metadata": {},
   "source": [
    "## Look for the section, \"BEGINNING TASK 4.4,\" below."
   ]
  },
  {
   "cell_type": "code",
   "execution_count": 1,
   "id": "60f691b1-38e4-4bb1-9e38-a078453e5e9f",
   "metadata": {
    "execution": {
     "iopub.execute_input": "2023-04-25T12:38:34.437254Z",
     "iopub.status.busy": "2023-04-25T12:38:34.436826Z",
     "iopub.status.idle": "2023-04-25T12:38:34.814828Z",
     "shell.execute_reply": "2023-04-25T12:38:34.814172Z",
     "shell.execute_reply.started": "2023-04-25T12:38:34.437182Z"
    },
    "tags": []
   },
   "outputs": [],
   "source": [
    "# Import libraries\n",
    "import pandas as pd\n",
    "import numpy as np\n",
    "import os"
   ]
  },
  {
   "cell_type": "code",
   "execution_count": 2,
   "id": "1fdff119-7839-4bb9-a39f-f5244f65a89b",
   "metadata": {
    "execution": {
     "iopub.execute_input": "2023-04-25T12:38:34.816262Z",
     "iopub.status.busy": "2023-04-25T12:38:34.816071Z",
     "iopub.status.idle": "2023-04-25T12:38:34.820408Z",
     "shell.execute_reply": "2023-04-25T12:38:34.819538Z",
     "shell.execute_reply.started": "2023-04-25T12:38:34.816239Z"
    },
    "tags": []
   },
   "outputs": [],
   "source": [
    "# Set a PATH variable."
   ]
  },
  {
   "cell_type": "code",
   "execution_count": 3,
   "id": "ac2b97b9-2392-4c15-8928-fa3feef4eca6",
   "metadata": {
    "execution": {
     "iopub.execute_input": "2023-04-25T12:38:34.821993Z",
     "iopub.status.busy": "2023-04-25T12:38:34.821429Z",
     "iopub.status.idle": "2023-04-25T12:38:34.826184Z",
     "shell.execute_reply": "2023-04-25T12:38:34.825262Z",
     "shell.execute_reply.started": "2023-04-25T12:38:34.821965Z"
    }
   },
   "outputs": [],
   "source": [
    "path = (r'~/careerfoundry/tasks/data-immersion/Achievement4/Instacart-Basket-Analysis')"
   ]
  },
  {
   "cell_type": "code",
   "execution_count": 4,
   "id": "355da849-8561-4222-914e-ff8d71359f85",
   "metadata": {
    "execution": {
     "iopub.execute_input": "2023-04-25T12:38:34.828840Z",
     "iopub.status.busy": "2023-04-25T12:38:34.828190Z",
     "iopub.status.idle": "2023-04-25T12:38:34.831448Z",
     "shell.execute_reply": "2023-04-25T12:38:34.830959Z",
     "shell.execute_reply.started": "2023-04-25T12:38:34.828813Z"
    }
   },
   "outputs": [],
   "source": [
    "# Set our exclusionary list of columns to import."
   ]
  },
  {
   "cell_type": "code",
   "execution_count": 5,
   "id": "89743fc0-2cef-4f08-9003-aa177b40e2b0",
   "metadata": {
    "execution": {
     "iopub.execute_input": "2023-04-25T12:38:34.832631Z",
     "iopub.status.busy": "2023-04-25T12:38:34.832354Z",
     "iopub.status.idle": "2023-04-25T12:38:34.836323Z",
     "shell.execute_reply": "2023-04-25T12:38:34.835544Z",
     "shell.execute_reply.started": "2023-04-25T12:38:34.832609Z"
    }
   },
   "outputs": [],
   "source": [
    "vars_list = ['order_id','user_id','order_number','order_dow','order_hour_of_day','days_since_prior_order']"
   ]
  },
  {
   "cell_type": "code",
   "execution_count": 6,
   "id": "50f704b6-8ff4-460b-a2fc-bbc9dab66ff6",
   "metadata": {
    "execution": {
     "iopub.execute_input": "2023-04-25T12:38:34.837538Z",
     "iopub.status.busy": "2023-04-25T12:38:34.837334Z",
     "iopub.status.idle": "2023-04-25T12:38:34.841489Z",
     "shell.execute_reply": "2023-04-25T12:38:34.840699Z",
     "shell.execute_reply.started": "2023-04-25T12:38:34.837514Z"
    }
   },
   "outputs": [],
   "source": [
    "# Read the orders.csv and products.csv files into respective dataframes."
   ]
  },
  {
   "cell_type": "code",
   "execution_count": 7,
   "id": "ad7753a4-4214-47ff-abde-c8f4e0bc1849",
   "metadata": {
    "execution": {
     "iopub.execute_input": "2023-04-25T12:38:34.842629Z",
     "iopub.status.busy": "2023-04-25T12:38:34.842446Z",
     "iopub.status.idle": "2023-04-25T12:38:36.607440Z",
     "shell.execute_reply": "2023-04-25T12:38:36.606679Z",
     "shell.execute_reply.started": "2023-04-25T12:38:34.842606Z"
    },
    "tags": []
   },
   "outputs": [],
   "source": [
    "df_ords = pd.read_csv(os.path.join(path, '02-Data', 'Original-Data', 'orders.csv'),  usecols = vars_list, index_col = False)"
   ]
  },
  {
   "cell_type": "code",
   "execution_count": 8,
   "id": "f38b412a-d933-4d6a-9d09-6faa6b639d9a",
   "metadata": {
    "execution": {
     "iopub.execute_input": "2023-04-25T12:38:36.608495Z",
     "iopub.status.busy": "2023-04-25T12:38:36.608316Z",
     "iopub.status.idle": "2023-04-25T12:38:36.692188Z",
     "shell.execute_reply": "2023-04-25T12:38:36.691469Z",
     "shell.execute_reply.started": "2023-04-25T12:38:36.608473Z"
    },
    "tags": []
   },
   "outputs": [],
   "source": [
    "df_prods = pd.read_csv(os.path.join(path, '02-Data', 'Original-Data', 'products.csv'), index_col = False)"
   ]
  },
  {
   "cell_type": "code",
   "execution_count": 9,
   "id": "952fb059-9333-49ac-b7c8-9af5f1f21ec1",
   "metadata": {
    "execution": {
     "iopub.execute_input": "2023-04-25T12:38:36.693695Z",
     "iopub.status.busy": "2023-04-25T12:38:36.693192Z",
     "iopub.status.idle": "2023-04-25T12:38:36.717881Z",
     "shell.execute_reply": "2023-04-25T12:38:36.717075Z",
     "shell.execute_reply.started": "2023-04-25T12:38:36.693670Z"
    }
   },
   "outputs": [
    {
     "data": {
      "text/html": [
       "<div>\n",
       "<style scoped>\n",
       "    .dataframe tbody tr th:only-of-type {\n",
       "        vertical-align: middle;\n",
       "    }\n",
       "\n",
       "    .dataframe tbody tr th {\n",
       "        vertical-align: top;\n",
       "    }\n",
       "\n",
       "    .dataframe thead th {\n",
       "        text-align: right;\n",
       "    }\n",
       "</style>\n",
       "<table border=\"1\" class=\"dataframe\">\n",
       "  <thead>\n",
       "    <tr style=\"text-align: right;\">\n",
       "      <th></th>\n",
       "      <th>product_id</th>\n",
       "      <th>product_name</th>\n",
       "      <th>aisle_id</th>\n",
       "      <th>department_id</th>\n",
       "      <th>prices</th>\n",
       "    </tr>\n",
       "  </thead>\n",
       "  <tbody>\n",
       "    <tr>\n",
       "      <th>0</th>\n",
       "      <td>1</td>\n",
       "      <td>Chocolate Sandwich Cookies</td>\n",
       "      <td>61</td>\n",
       "      <td>19</td>\n",
       "      <td>5.8</td>\n",
       "    </tr>\n",
       "    <tr>\n",
       "      <th>1</th>\n",
       "      <td>2</td>\n",
       "      <td>All-Seasons Salt</td>\n",
       "      <td>104</td>\n",
       "      <td>13</td>\n",
       "      <td>9.3</td>\n",
       "    </tr>\n",
       "    <tr>\n",
       "      <th>2</th>\n",
       "      <td>3</td>\n",
       "      <td>Robust Golden Unsweetened Oolong Tea</td>\n",
       "      <td>94</td>\n",
       "      <td>7</td>\n",
       "      <td>4.5</td>\n",
       "    </tr>\n",
       "    <tr>\n",
       "      <th>3</th>\n",
       "      <td>4</td>\n",
       "      <td>Smart Ones Classic Favorites Mini Rigatoni Wit...</td>\n",
       "      <td>38</td>\n",
       "      <td>1</td>\n",
       "      <td>10.5</td>\n",
       "    </tr>\n",
       "    <tr>\n",
       "      <th>4</th>\n",
       "      <td>5</td>\n",
       "      <td>Green Chile Anytime Sauce</td>\n",
       "      <td>5</td>\n",
       "      <td>13</td>\n",
       "      <td>4.3</td>\n",
       "    </tr>\n",
       "  </tbody>\n",
       "</table>\n",
       "</div>"
      ],
      "text/plain": [
       "   product_id                                       product_name  aisle_id  \\\n",
       "0           1                         Chocolate Sandwich Cookies        61   \n",
       "1           2                                   All-Seasons Salt       104   \n",
       "2           3               Robust Golden Unsweetened Oolong Tea        94   \n",
       "3           4  Smart Ones Classic Favorites Mini Rigatoni Wit...        38   \n",
       "4           5                          Green Chile Anytime Sauce         5   \n",
       "\n",
       "   department_id  prices  \n",
       "0             19     5.8  \n",
       "1             13     9.3  \n",
       "2              7     4.5  \n",
       "3              1    10.5  \n",
       "4             13     4.3  "
      ]
     },
     "execution_count": 9,
     "metadata": {},
     "output_type": "execute_result"
    }
   ],
   "source": [
    "df_prods.head()"
   ]
  },
  {
   "cell_type": "code",
   "execution_count": 10,
   "id": "98fe2bef-52ef-4783-ba1b-b369ed63e41b",
   "metadata": {
    "execution": {
     "iopub.execute_input": "2023-04-25T12:38:36.722576Z",
     "iopub.status.busy": "2023-04-25T12:38:36.721988Z",
     "iopub.status.idle": "2023-04-25T12:38:36.732160Z",
     "shell.execute_reply": "2023-04-25T12:38:36.731319Z",
     "shell.execute_reply.started": "2023-04-25T12:38:36.722528Z"
    },
    "tags": []
   },
   "outputs": [
    {
     "data": {
      "text/plain": [
       "100    1258\n",
       "45     1246\n",
       "37     1091\n",
       "47     1038\n",
       "120    1026\n",
       "       ... \n",
       "113      47\n",
       "82       44\n",
       "32       32\n",
       "68       26\n",
       "18       12\n",
       "Name: aisle_id, Length: 134, dtype: int64"
      ]
     },
     "execution_count": 10,
     "metadata": {},
     "output_type": "execute_result"
    }
   ],
   "source": [
    "df_prods['aisle_id'].value_counts()"
   ]
  },
  {
   "cell_type": "code",
   "execution_count": 11,
   "id": "40fee843-346f-4d00-98bd-e533346bd604",
   "metadata": {
    "execution": {
     "iopub.execute_input": "2023-04-25T12:38:36.733419Z",
     "iopub.status.busy": "2023-04-25T12:38:36.733171Z",
     "iopub.status.idle": "2023-04-25T12:38:36.744364Z",
     "shell.execute_reply": "2023-04-25T12:38:36.743325Z",
     "shell.execute_reply.started": "2023-04-25T12:38:36.733390Z"
    },
    "tags": []
   },
   "outputs": [
    {
     "data": {
      "text/plain": [
       "100    1258\n",
       "45     1246\n",
       "37     1091\n",
       "47     1038\n",
       "120    1026\n",
       "       ... \n",
       "113      47\n",
       "82       44\n",
       "32       32\n",
       "68       26\n",
       "18       12\n",
       "Name: aisle_id, Length: 134, dtype: int64"
      ]
     },
     "execution_count": 11,
     "metadata": {},
     "output_type": "execute_result"
    }
   ],
   "source": [
    "df_prods['aisle_id'].value_counts(dropna=False)"
   ]
  },
  {
   "cell_type": "code",
   "execution_count": 12,
   "id": "b766e975-81ff-4a9a-9fa9-1adba0975377",
   "metadata": {
    "execution": {
     "iopub.execute_input": "2023-04-25T12:38:36.745833Z",
     "iopub.status.busy": "2023-04-25T12:38:36.745584Z",
     "iopub.status.idle": "2023-04-25T12:38:36.805869Z",
     "shell.execute_reply": "2023-04-25T12:38:36.804916Z",
     "shell.execute_reply.started": "2023-04-25T12:38:36.745806Z"
    }
   },
   "outputs": [
    {
     "data": {
      "text/plain": [
       "30.0    369323\n",
       "7.0     320608\n",
       "6.0     240013\n",
       "4.0     221696\n",
       "3.0     217005\n",
       "5.0     214503\n",
       "2.0     193206\n",
       "8.0     181717\n",
       "1.0     145247\n",
       "9.0     118188\n",
       "14.0    100230\n",
       "10.0     95186\n",
       "13.0     83214\n",
       "11.0     80970\n",
       "12.0     76146\n",
       "0.0      67755\n",
       "15.0     66579\n",
       "16.0     46941\n",
       "21.0     45470\n",
       "17.0     39245\n",
       "20.0     38527\n",
       "18.0     35881\n",
       "19.0     34384\n",
       "22.0     32012\n",
       "28.0     26777\n",
       "23.0     23885\n",
       "27.0     22013\n",
       "24.0     20712\n",
       "25.0     19234\n",
       "29.0     19191\n",
       "26.0     19016\n",
       "Name: days_since_prior_order, dtype: int64"
      ]
     },
     "execution_count": 12,
     "metadata": {},
     "output_type": "execute_result"
    }
   ],
   "source": [
    "df_ords['days_since_prior_order'].value_counts()"
   ]
  },
  {
   "cell_type": "code",
   "execution_count": 13,
   "id": "c2433b4c-a071-49a8-b07c-c1357faffd79",
   "metadata": {
    "execution": {
     "iopub.execute_input": "2023-04-25T12:38:36.808246Z",
     "iopub.status.busy": "2023-04-25T12:38:36.807385Z",
     "iopub.status.idle": "2023-04-25T12:38:36.868630Z",
     "shell.execute_reply": "2023-04-25T12:38:36.867727Z",
     "shell.execute_reply.started": "2023-04-25T12:38:36.808191Z"
    }
   },
   "outputs": [
    {
     "data": {
      "text/plain": [
       "30.0    369323\n",
       "7.0     320608\n",
       "6.0     240013\n",
       "4.0     221696\n",
       "3.0     217005\n",
       "5.0     214503\n",
       "NaN     206209\n",
       "2.0     193206\n",
       "8.0     181717\n",
       "1.0     145247\n",
       "9.0     118188\n",
       "14.0    100230\n",
       "10.0     95186\n",
       "13.0     83214\n",
       "11.0     80970\n",
       "12.0     76146\n",
       "0.0      67755\n",
       "15.0     66579\n",
       "16.0     46941\n",
       "21.0     45470\n",
       "17.0     39245\n",
       "20.0     38527\n",
       "18.0     35881\n",
       "19.0     34384\n",
       "22.0     32012\n",
       "28.0     26777\n",
       "23.0     23885\n",
       "27.0     22013\n",
       "24.0     20712\n",
       "25.0     19234\n",
       "29.0     19191\n",
       "26.0     19016\n",
       "Name: days_since_prior_order, dtype: int64"
      ]
     },
     "execution_count": 13,
     "metadata": {},
     "output_type": "execute_result"
    }
   ],
   "source": [
    "df_ords['days_since_prior_order'].value_counts(dropna=False)"
   ]
  },
  {
   "cell_type": "code",
   "execution_count": 14,
   "id": "6df877fb-d856-47e6-9782-c807af738d77",
   "metadata": {
    "execution": {
     "iopub.execute_input": "2023-04-25T12:38:36.871163Z",
     "iopub.status.busy": "2023-04-25T12:38:36.870098Z",
     "iopub.status.idle": "2023-04-25T12:38:36.876930Z",
     "shell.execute_reply": "2023-04-25T12:38:36.876191Z",
     "shell.execute_reply.started": "2023-04-25T12:38:36.871118Z"
    }
   },
   "outputs": [],
   "source": [
    "df_ords.rename(columns = {'order_dow' : 'orders_day_of_week'}, inplace = True)"
   ]
  },
  {
   "cell_type": "code",
   "execution_count": 15,
   "id": "ff5a25cc-6815-4660-bedc-f4b4b2601608",
   "metadata": {
    "execution": {
     "iopub.execute_input": "2023-04-25T12:38:36.878376Z",
     "iopub.status.busy": "2023-04-25T12:38:36.878048Z",
     "iopub.status.idle": "2023-04-25T12:38:36.890344Z",
     "shell.execute_reply": "2023-04-25T12:38:36.889291Z",
     "shell.execute_reply.started": "2023-04-25T12:38:36.878351Z"
    }
   },
   "outputs": [
    {
     "data": {
      "text/html": [
       "<div>\n",
       "<style scoped>\n",
       "    .dataframe tbody tr th:only-of-type {\n",
       "        vertical-align: middle;\n",
       "    }\n",
       "\n",
       "    .dataframe tbody tr th {\n",
       "        vertical-align: top;\n",
       "    }\n",
       "\n",
       "    .dataframe thead th {\n",
       "        text-align: right;\n",
       "    }\n",
       "</style>\n",
       "<table border=\"1\" class=\"dataframe\">\n",
       "  <thead>\n",
       "    <tr style=\"text-align: right;\">\n",
       "      <th></th>\n",
       "      <th>order_id</th>\n",
       "      <th>user_id</th>\n",
       "      <th>order_number</th>\n",
       "      <th>orders_day_of_week</th>\n",
       "      <th>order_hour_of_day</th>\n",
       "      <th>days_since_prior_order</th>\n",
       "    </tr>\n",
       "  </thead>\n",
       "  <tbody>\n",
       "    <tr>\n",
       "      <th>0</th>\n",
       "      <td>2539329</td>\n",
       "      <td>1</td>\n",
       "      <td>1</td>\n",
       "      <td>2</td>\n",
       "      <td>8</td>\n",
       "      <td>NaN</td>\n",
       "    </tr>\n",
       "    <tr>\n",
       "      <th>1</th>\n",
       "      <td>2398795</td>\n",
       "      <td>1</td>\n",
       "      <td>2</td>\n",
       "      <td>3</td>\n",
       "      <td>7</td>\n",
       "      <td>15.0</td>\n",
       "    </tr>\n",
       "    <tr>\n",
       "      <th>2</th>\n",
       "      <td>473747</td>\n",
       "      <td>1</td>\n",
       "      <td>3</td>\n",
       "      <td>3</td>\n",
       "      <td>12</td>\n",
       "      <td>21.0</td>\n",
       "    </tr>\n",
       "    <tr>\n",
       "      <th>3</th>\n",
       "      <td>2254736</td>\n",
       "      <td>1</td>\n",
       "      <td>4</td>\n",
       "      <td>4</td>\n",
       "      <td>7</td>\n",
       "      <td>29.0</td>\n",
       "    </tr>\n",
       "    <tr>\n",
       "      <th>4</th>\n",
       "      <td>431534</td>\n",
       "      <td>1</td>\n",
       "      <td>5</td>\n",
       "      <td>4</td>\n",
       "      <td>15</td>\n",
       "      <td>28.0</td>\n",
       "    </tr>\n",
       "  </tbody>\n",
       "</table>\n",
       "</div>"
      ],
      "text/plain": [
       "   order_id  user_id  order_number  orders_day_of_week  order_hour_of_day  \\\n",
       "0   2539329        1             1                   2                  8   \n",
       "1   2398795        1             2                   3                  7   \n",
       "2    473747        1             3                   3                 12   \n",
       "3   2254736        1             4                   4                  7   \n",
       "4    431534        1             5                   4                 15   \n",
       "\n",
       "   days_since_prior_order  \n",
       "0                     NaN  \n",
       "1                    15.0  \n",
       "2                    21.0  \n",
       "3                    29.0  \n",
       "4                    28.0  "
      ]
     },
     "execution_count": 15,
     "metadata": {},
     "output_type": "execute_result"
    }
   ],
   "source": [
    "df_ords.head()"
   ]
  },
  {
   "cell_type": "code",
   "execution_count": 16,
   "id": "e9aaa6ef-b995-43b1-8805-1b0c67e36eb9",
   "metadata": {
    "execution": {
     "iopub.execute_input": "2023-04-25T12:38:36.892264Z",
     "iopub.status.busy": "2023-04-25T12:38:36.891973Z",
     "iopub.status.idle": "2023-04-25T12:38:36.898437Z",
     "shell.execute_reply": "2023-04-25T12:38:36.897311Z",
     "shell.execute_reply.started": "2023-04-25T12:38:36.892229Z"
    },
    "tags": []
   },
   "outputs": [
    {
     "data": {
      "text/plain": [
       "dtype('int64')"
      ]
     },
     "execution_count": 16,
     "metadata": {},
     "output_type": "execute_result"
    }
   ],
   "source": [
    "df_ords['order_id'].dtype"
   ]
  },
  {
   "cell_type": "code",
   "execution_count": 17,
   "id": "21cf0892-3b53-4852-9b7c-fdf19b004e1c",
   "metadata": {
    "execution": {
     "iopub.execute_input": "2023-04-25T12:38:36.900034Z",
     "iopub.status.busy": "2023-04-25T12:38:36.899333Z",
     "iopub.status.idle": "2023-04-25T12:38:38.680612Z",
     "shell.execute_reply": "2023-04-25T12:38:38.679848Z",
     "shell.execute_reply.started": "2023-04-25T12:38:36.900006Z"
    }
   },
   "outputs": [],
   "source": [
    "df_ords['order_id'] = df_ords['order_id'].astype('str')"
   ]
  },
  {
   "cell_type": "code",
   "execution_count": 18,
   "id": "c2277003-9da7-4f85-b58e-3c32c7779211",
   "metadata": {
    "execution": {
     "iopub.execute_input": "2023-04-25T12:38:38.682010Z",
     "iopub.status.busy": "2023-04-25T12:38:38.681810Z",
     "iopub.status.idle": "2023-04-25T12:38:38.687621Z",
     "shell.execute_reply": "2023-04-25T12:38:38.687099Z",
     "shell.execute_reply.started": "2023-04-25T12:38:38.681986Z"
    },
    "tags": []
   },
   "outputs": [
    {
     "data": {
      "text/plain": [
       "dtype('O')"
      ]
     },
     "execution_count": 18,
     "metadata": {},
     "output_type": "execute_result"
    }
   ],
   "source": [
    "df_ords['order_id'].dtype"
   ]
  },
  {
   "cell_type": "code",
   "execution_count": 19,
   "id": "8f4d4a06-943b-4112-abdb-d1cc31899188",
   "metadata": {
    "execution": {
     "iopub.execute_input": "2023-04-25T12:38:38.689303Z",
     "iopub.status.busy": "2023-04-25T12:38:38.688581Z",
     "iopub.status.idle": "2023-04-25T12:38:38.697284Z",
     "shell.execute_reply": "2023-04-25T12:38:38.696207Z",
     "shell.execute_reply.started": "2023-04-25T12:38:38.689276Z"
    }
   },
   "outputs": [],
   "source": [
    "df_dep = pd.read_csv(os.path.join(path, '02-Data', 'Original-Data', 'departments.csv'), index_col = False)"
   ]
  },
  {
   "cell_type": "code",
   "execution_count": 20,
   "id": "1225d440-778a-451f-b4fd-fdfafb899d74",
   "metadata": {
    "execution": {
     "iopub.execute_input": "2023-04-25T12:38:38.698953Z",
     "iopub.status.busy": "2023-04-25T12:38:38.698374Z",
     "iopub.status.idle": "2023-04-25T12:38:38.721054Z",
     "shell.execute_reply": "2023-04-25T12:38:38.719400Z",
     "shell.execute_reply.started": "2023-04-25T12:38:38.698924Z"
    }
   },
   "outputs": [
    {
     "data": {
      "text/html": [
       "<div>\n",
       "<style scoped>\n",
       "    .dataframe tbody tr th:only-of-type {\n",
       "        vertical-align: middle;\n",
       "    }\n",
       "\n",
       "    .dataframe tbody tr th {\n",
       "        vertical-align: top;\n",
       "    }\n",
       "\n",
       "    .dataframe thead th {\n",
       "        text-align: right;\n",
       "    }\n",
       "</style>\n",
       "<table border=\"1\" class=\"dataframe\">\n",
       "  <thead>\n",
       "    <tr style=\"text-align: right;\">\n",
       "      <th></th>\n",
       "      <th>department_id</th>\n",
       "      <th>1</th>\n",
       "      <th>2</th>\n",
       "      <th>3</th>\n",
       "      <th>4</th>\n",
       "      <th>5</th>\n",
       "      <th>6</th>\n",
       "      <th>7</th>\n",
       "      <th>8</th>\n",
       "      <th>9</th>\n",
       "      <th>...</th>\n",
       "      <th>12</th>\n",
       "      <th>13</th>\n",
       "      <th>14</th>\n",
       "      <th>15</th>\n",
       "      <th>16</th>\n",
       "      <th>17</th>\n",
       "      <th>18</th>\n",
       "      <th>19</th>\n",
       "      <th>20</th>\n",
       "      <th>21</th>\n",
       "    </tr>\n",
       "  </thead>\n",
       "  <tbody>\n",
       "    <tr>\n",
       "      <th>0</th>\n",
       "      <td>department</td>\n",
       "      <td>frozen</td>\n",
       "      <td>other</td>\n",
       "      <td>bakery</td>\n",
       "      <td>produce</td>\n",
       "      <td>alcohol</td>\n",
       "      <td>international</td>\n",
       "      <td>beverages</td>\n",
       "      <td>pets</td>\n",
       "      <td>dry goods pasta</td>\n",
       "      <td>...</td>\n",
       "      <td>meat seafood</td>\n",
       "      <td>pantry</td>\n",
       "      <td>breakfast</td>\n",
       "      <td>canned goods</td>\n",
       "      <td>dairy eggs</td>\n",
       "      <td>household</td>\n",
       "      <td>babies</td>\n",
       "      <td>snacks</td>\n",
       "      <td>deli</td>\n",
       "      <td>missing</td>\n",
       "    </tr>\n",
       "  </tbody>\n",
       "</table>\n",
       "<p>1 rows × 22 columns</p>\n",
       "</div>"
      ],
      "text/plain": [
       "  department_id       1      2       3        4        5              6  \\\n",
       "0    department  frozen  other  bakery  produce  alcohol  international   \n",
       "\n",
       "           7     8                9  ...            12      13         14  \\\n",
       "0  beverages  pets  dry goods pasta  ...  meat seafood  pantry  breakfast   \n",
       "\n",
       "             15          16         17      18      19    20       21  \n",
       "0  canned goods  dairy eggs  household  babies  snacks  deli  missing  \n",
       "\n",
       "[1 rows x 22 columns]"
      ]
     },
     "execution_count": 20,
     "metadata": {},
     "output_type": "execute_result"
    }
   ],
   "source": [
    "df_dep.head()"
   ]
  },
  {
   "cell_type": "code",
   "execution_count": 21,
   "id": "1f7799df-7392-4ca1-9269-578facd652c1",
   "metadata": {
    "execution": {
     "iopub.execute_input": "2023-04-25T12:38:38.723776Z",
     "iopub.status.busy": "2023-04-25T12:38:38.722441Z",
     "iopub.status.idle": "2023-04-25T12:38:38.732810Z",
     "shell.execute_reply": "2023-04-25T12:38:38.731963Z",
     "shell.execute_reply.started": "2023-04-25T12:38:38.723727Z"
    }
   },
   "outputs": [
    {
     "data": {
      "text/html": [
       "<div>\n",
       "<style scoped>\n",
       "    .dataframe tbody tr th:only-of-type {\n",
       "        vertical-align: middle;\n",
       "    }\n",
       "\n",
       "    .dataframe tbody tr th {\n",
       "        vertical-align: top;\n",
       "    }\n",
       "\n",
       "    .dataframe thead th {\n",
       "        text-align: right;\n",
       "    }\n",
       "</style>\n",
       "<table border=\"1\" class=\"dataframe\">\n",
       "  <thead>\n",
       "    <tr style=\"text-align: right;\">\n",
       "      <th></th>\n",
       "      <th>0</th>\n",
       "    </tr>\n",
       "  </thead>\n",
       "  <tbody>\n",
       "    <tr>\n",
       "      <th>department_id</th>\n",
       "      <td>department</td>\n",
       "    </tr>\n",
       "    <tr>\n",
       "      <th>1</th>\n",
       "      <td>frozen</td>\n",
       "    </tr>\n",
       "    <tr>\n",
       "      <th>2</th>\n",
       "      <td>other</td>\n",
       "    </tr>\n",
       "    <tr>\n",
       "      <th>3</th>\n",
       "      <td>bakery</td>\n",
       "    </tr>\n",
       "    <tr>\n",
       "      <th>4</th>\n",
       "      <td>produce</td>\n",
       "    </tr>\n",
       "    <tr>\n",
       "      <th>5</th>\n",
       "      <td>alcohol</td>\n",
       "    </tr>\n",
       "    <tr>\n",
       "      <th>6</th>\n",
       "      <td>international</td>\n",
       "    </tr>\n",
       "    <tr>\n",
       "      <th>7</th>\n",
       "      <td>beverages</td>\n",
       "    </tr>\n",
       "    <tr>\n",
       "      <th>8</th>\n",
       "      <td>pets</td>\n",
       "    </tr>\n",
       "    <tr>\n",
       "      <th>9</th>\n",
       "      <td>dry goods pasta</td>\n",
       "    </tr>\n",
       "    <tr>\n",
       "      <th>10</th>\n",
       "      <td>bulk</td>\n",
       "    </tr>\n",
       "    <tr>\n",
       "      <th>11</th>\n",
       "      <td>personal care</td>\n",
       "    </tr>\n",
       "    <tr>\n",
       "      <th>12</th>\n",
       "      <td>meat seafood</td>\n",
       "    </tr>\n",
       "    <tr>\n",
       "      <th>13</th>\n",
       "      <td>pantry</td>\n",
       "    </tr>\n",
       "    <tr>\n",
       "      <th>14</th>\n",
       "      <td>breakfast</td>\n",
       "    </tr>\n",
       "    <tr>\n",
       "      <th>15</th>\n",
       "      <td>canned goods</td>\n",
       "    </tr>\n",
       "    <tr>\n",
       "      <th>16</th>\n",
       "      <td>dairy eggs</td>\n",
       "    </tr>\n",
       "    <tr>\n",
       "      <th>17</th>\n",
       "      <td>household</td>\n",
       "    </tr>\n",
       "    <tr>\n",
       "      <th>18</th>\n",
       "      <td>babies</td>\n",
       "    </tr>\n",
       "    <tr>\n",
       "      <th>19</th>\n",
       "      <td>snacks</td>\n",
       "    </tr>\n",
       "    <tr>\n",
       "      <th>20</th>\n",
       "      <td>deli</td>\n",
       "    </tr>\n",
       "    <tr>\n",
       "      <th>21</th>\n",
       "      <td>missing</td>\n",
       "    </tr>\n",
       "  </tbody>\n",
       "</table>\n",
       "</div>"
      ],
      "text/plain": [
       "                             0\n",
       "department_id       department\n",
       "1                       frozen\n",
       "2                        other\n",
       "3                       bakery\n",
       "4                      produce\n",
       "5                      alcohol\n",
       "6                international\n",
       "7                    beverages\n",
       "8                         pets\n",
       "9              dry goods pasta\n",
       "10                        bulk\n",
       "11               personal care\n",
       "12                meat seafood\n",
       "13                      pantry\n",
       "14                   breakfast\n",
       "15                canned goods\n",
       "16                  dairy eggs\n",
       "17                   household\n",
       "18                      babies\n",
       "19                      snacks\n",
       "20                        deli\n",
       "21                     missing"
      ]
     },
     "execution_count": 21,
     "metadata": {},
     "output_type": "execute_result"
    }
   ],
   "source": [
    "df_dep.T"
   ]
  },
  {
   "cell_type": "code",
   "execution_count": 22,
   "id": "e51a055a-298e-4489-b5a0-ffd7bb47bbef",
   "metadata": {
    "execution": {
     "iopub.execute_input": "2023-04-25T12:38:38.734026Z",
     "iopub.status.busy": "2023-04-25T12:38:38.733813Z",
     "iopub.status.idle": "2023-04-25T12:38:38.738577Z",
     "shell.execute_reply": "2023-04-25T12:38:38.737740Z",
     "shell.execute_reply.started": "2023-04-25T12:38:38.734002Z"
    }
   },
   "outputs": [],
   "source": [
    "df_dep_t = df_dep.T"
   ]
  },
  {
   "cell_type": "code",
   "execution_count": 23,
   "id": "1961c1b2-b793-430c-ad48-7e36087180b3",
   "metadata": {
    "execution": {
     "iopub.execute_input": "2023-04-25T12:38:38.740831Z",
     "iopub.status.busy": "2023-04-25T12:38:38.739889Z",
     "iopub.status.idle": "2023-04-25T12:38:38.751467Z",
     "shell.execute_reply": "2023-04-25T12:38:38.750463Z",
     "shell.execute_reply.started": "2023-04-25T12:38:38.740789Z"
    }
   },
   "outputs": [
    {
     "data": {
      "text/html": [
       "<div>\n",
       "<style scoped>\n",
       "    .dataframe tbody tr th:only-of-type {\n",
       "        vertical-align: middle;\n",
       "    }\n",
       "\n",
       "    .dataframe tbody tr th {\n",
       "        vertical-align: top;\n",
       "    }\n",
       "\n",
       "    .dataframe thead th {\n",
       "        text-align: right;\n",
       "    }\n",
       "</style>\n",
       "<table border=\"1\" class=\"dataframe\">\n",
       "  <thead>\n",
       "    <tr style=\"text-align: right;\">\n",
       "      <th></th>\n",
       "      <th>0</th>\n",
       "    </tr>\n",
       "  </thead>\n",
       "  <tbody>\n",
       "    <tr>\n",
       "      <th>department_id</th>\n",
       "      <td>department</td>\n",
       "    </tr>\n",
       "    <tr>\n",
       "      <th>1</th>\n",
       "      <td>frozen</td>\n",
       "    </tr>\n",
       "    <tr>\n",
       "      <th>2</th>\n",
       "      <td>other</td>\n",
       "    </tr>\n",
       "    <tr>\n",
       "      <th>3</th>\n",
       "      <td>bakery</td>\n",
       "    </tr>\n",
       "    <tr>\n",
       "      <th>4</th>\n",
       "      <td>produce</td>\n",
       "    </tr>\n",
       "    <tr>\n",
       "      <th>5</th>\n",
       "      <td>alcohol</td>\n",
       "    </tr>\n",
       "    <tr>\n",
       "      <th>6</th>\n",
       "      <td>international</td>\n",
       "    </tr>\n",
       "    <tr>\n",
       "      <th>7</th>\n",
       "      <td>beverages</td>\n",
       "    </tr>\n",
       "    <tr>\n",
       "      <th>8</th>\n",
       "      <td>pets</td>\n",
       "    </tr>\n",
       "    <tr>\n",
       "      <th>9</th>\n",
       "      <td>dry goods pasta</td>\n",
       "    </tr>\n",
       "    <tr>\n",
       "      <th>10</th>\n",
       "      <td>bulk</td>\n",
       "    </tr>\n",
       "    <tr>\n",
       "      <th>11</th>\n",
       "      <td>personal care</td>\n",
       "    </tr>\n",
       "    <tr>\n",
       "      <th>12</th>\n",
       "      <td>meat seafood</td>\n",
       "    </tr>\n",
       "    <tr>\n",
       "      <th>13</th>\n",
       "      <td>pantry</td>\n",
       "    </tr>\n",
       "    <tr>\n",
       "      <th>14</th>\n",
       "      <td>breakfast</td>\n",
       "    </tr>\n",
       "    <tr>\n",
       "      <th>15</th>\n",
       "      <td>canned goods</td>\n",
       "    </tr>\n",
       "    <tr>\n",
       "      <th>16</th>\n",
       "      <td>dairy eggs</td>\n",
       "    </tr>\n",
       "    <tr>\n",
       "      <th>17</th>\n",
       "      <td>household</td>\n",
       "    </tr>\n",
       "    <tr>\n",
       "      <th>18</th>\n",
       "      <td>babies</td>\n",
       "    </tr>\n",
       "    <tr>\n",
       "      <th>19</th>\n",
       "      <td>snacks</td>\n",
       "    </tr>\n",
       "    <tr>\n",
       "      <th>20</th>\n",
       "      <td>deli</td>\n",
       "    </tr>\n",
       "    <tr>\n",
       "      <th>21</th>\n",
       "      <td>missing</td>\n",
       "    </tr>\n",
       "  </tbody>\n",
       "</table>\n",
       "</div>"
      ],
      "text/plain": [
       "                             0\n",
       "department_id       department\n",
       "1                       frozen\n",
       "2                        other\n",
       "3                       bakery\n",
       "4                      produce\n",
       "5                      alcohol\n",
       "6                international\n",
       "7                    beverages\n",
       "8                         pets\n",
       "9              dry goods pasta\n",
       "10                        bulk\n",
       "11               personal care\n",
       "12                meat seafood\n",
       "13                      pantry\n",
       "14                   breakfast\n",
       "15                canned goods\n",
       "16                  dairy eggs\n",
       "17                   household\n",
       "18                      babies\n",
       "19                      snacks\n",
       "20                        deli\n",
       "21                     missing"
      ]
     },
     "execution_count": 23,
     "metadata": {},
     "output_type": "execute_result"
    }
   ],
   "source": [
    "df_dep_t"
   ]
  },
  {
   "cell_type": "code",
   "execution_count": 24,
   "id": "790a78db-9c5c-4a04-8ac4-0c04f65470ae",
   "metadata": {
    "execution": {
     "iopub.execute_input": "2023-04-25T12:38:38.753766Z",
     "iopub.status.busy": "2023-04-25T12:38:38.753337Z",
     "iopub.status.idle": "2023-04-25T12:38:38.766549Z",
     "shell.execute_reply": "2023-04-25T12:38:38.765474Z",
     "shell.execute_reply.started": "2023-04-25T12:38:38.753721Z"
    }
   },
   "outputs": [
    {
     "data": {
      "text/html": [
       "<div>\n",
       "<style scoped>\n",
       "    .dataframe tbody tr th:only-of-type {\n",
       "        vertical-align: middle;\n",
       "    }\n",
       "\n",
       "    .dataframe tbody tr th {\n",
       "        vertical-align: top;\n",
       "    }\n",
       "\n",
       "    .dataframe thead th {\n",
       "        text-align: right;\n",
       "    }\n",
       "</style>\n",
       "<table border=\"1\" class=\"dataframe\">\n",
       "  <thead>\n",
       "    <tr style=\"text-align: right;\">\n",
       "      <th></th>\n",
       "      <th>index</th>\n",
       "      <th>0</th>\n",
       "    </tr>\n",
       "  </thead>\n",
       "  <tbody>\n",
       "    <tr>\n",
       "      <th>0</th>\n",
       "      <td>department_id</td>\n",
       "      <td>department</td>\n",
       "    </tr>\n",
       "    <tr>\n",
       "      <th>1</th>\n",
       "      <td>1</td>\n",
       "      <td>frozen</td>\n",
       "    </tr>\n",
       "    <tr>\n",
       "      <th>2</th>\n",
       "      <td>2</td>\n",
       "      <td>other</td>\n",
       "    </tr>\n",
       "    <tr>\n",
       "      <th>3</th>\n",
       "      <td>3</td>\n",
       "      <td>bakery</td>\n",
       "    </tr>\n",
       "    <tr>\n",
       "      <th>4</th>\n",
       "      <td>4</td>\n",
       "      <td>produce</td>\n",
       "    </tr>\n",
       "    <tr>\n",
       "      <th>5</th>\n",
       "      <td>5</td>\n",
       "      <td>alcohol</td>\n",
       "    </tr>\n",
       "    <tr>\n",
       "      <th>6</th>\n",
       "      <td>6</td>\n",
       "      <td>international</td>\n",
       "    </tr>\n",
       "    <tr>\n",
       "      <th>7</th>\n",
       "      <td>7</td>\n",
       "      <td>beverages</td>\n",
       "    </tr>\n",
       "    <tr>\n",
       "      <th>8</th>\n",
       "      <td>8</td>\n",
       "      <td>pets</td>\n",
       "    </tr>\n",
       "    <tr>\n",
       "      <th>9</th>\n",
       "      <td>9</td>\n",
       "      <td>dry goods pasta</td>\n",
       "    </tr>\n",
       "    <tr>\n",
       "      <th>10</th>\n",
       "      <td>10</td>\n",
       "      <td>bulk</td>\n",
       "    </tr>\n",
       "    <tr>\n",
       "      <th>11</th>\n",
       "      <td>11</td>\n",
       "      <td>personal care</td>\n",
       "    </tr>\n",
       "    <tr>\n",
       "      <th>12</th>\n",
       "      <td>12</td>\n",
       "      <td>meat seafood</td>\n",
       "    </tr>\n",
       "    <tr>\n",
       "      <th>13</th>\n",
       "      <td>13</td>\n",
       "      <td>pantry</td>\n",
       "    </tr>\n",
       "    <tr>\n",
       "      <th>14</th>\n",
       "      <td>14</td>\n",
       "      <td>breakfast</td>\n",
       "    </tr>\n",
       "    <tr>\n",
       "      <th>15</th>\n",
       "      <td>15</td>\n",
       "      <td>canned goods</td>\n",
       "    </tr>\n",
       "    <tr>\n",
       "      <th>16</th>\n",
       "      <td>16</td>\n",
       "      <td>dairy eggs</td>\n",
       "    </tr>\n",
       "    <tr>\n",
       "      <th>17</th>\n",
       "      <td>17</td>\n",
       "      <td>household</td>\n",
       "    </tr>\n",
       "    <tr>\n",
       "      <th>18</th>\n",
       "      <td>18</td>\n",
       "      <td>babies</td>\n",
       "    </tr>\n",
       "    <tr>\n",
       "      <th>19</th>\n",
       "      <td>19</td>\n",
       "      <td>snacks</td>\n",
       "    </tr>\n",
       "    <tr>\n",
       "      <th>20</th>\n",
       "      <td>20</td>\n",
       "      <td>deli</td>\n",
       "    </tr>\n",
       "    <tr>\n",
       "      <th>21</th>\n",
       "      <td>21</td>\n",
       "      <td>missing</td>\n",
       "    </tr>\n",
       "  </tbody>\n",
       "</table>\n",
       "</div>"
      ],
      "text/plain": [
       "            index                0\n",
       "0   department_id       department\n",
       "1               1           frozen\n",
       "2               2            other\n",
       "3               3           bakery\n",
       "4               4          produce\n",
       "5               5          alcohol\n",
       "6               6    international\n",
       "7               7        beverages\n",
       "8               8             pets\n",
       "9               9  dry goods pasta\n",
       "10             10             bulk\n",
       "11             11    personal care\n",
       "12             12     meat seafood\n",
       "13             13           pantry\n",
       "14             14        breakfast\n",
       "15             15     canned goods\n",
       "16             16       dairy eggs\n",
       "17             17        household\n",
       "18             18           babies\n",
       "19             19           snacks\n",
       "20             20             deli\n",
       "21             21          missing"
      ]
     },
     "execution_count": 24,
     "metadata": {},
     "output_type": "execute_result"
    }
   ],
   "source": [
    "df_dep_t.reset_index()"
   ]
  },
  {
   "cell_type": "code",
   "execution_count": 25,
   "id": "c8d3eacf-893a-47c0-829a-29f0bb62b22e",
   "metadata": {
    "execution": {
     "iopub.execute_input": "2023-04-25T12:38:38.769159Z",
     "iopub.status.busy": "2023-04-25T12:38:38.768767Z",
     "iopub.status.idle": "2023-04-25T12:38:38.773611Z",
     "shell.execute_reply": "2023-04-25T12:38:38.773066Z",
     "shell.execute_reply.started": "2023-04-25T12:38:38.769117Z"
    }
   },
   "outputs": [],
   "source": [
    "new_header = df_dep_t.iloc[0]"
   ]
  },
  {
   "cell_type": "code",
   "execution_count": 26,
   "id": "f7eaae85-ba57-4aa5-ae5f-4a81b9036566",
   "metadata": {
    "execution": {
     "iopub.execute_input": "2023-04-25T12:38:38.775168Z",
     "iopub.status.busy": "2023-04-25T12:38:38.774497Z",
     "iopub.status.idle": "2023-04-25T12:38:38.782602Z",
     "shell.execute_reply": "2023-04-25T12:38:38.781966Z",
     "shell.execute_reply.started": "2023-04-25T12:38:38.775141Z"
    }
   },
   "outputs": [
    {
     "data": {
      "text/plain": [
       "0    department\n",
       "Name: department_id, dtype: object"
      ]
     },
     "execution_count": 26,
     "metadata": {},
     "output_type": "execute_result"
    }
   ],
   "source": [
    "new_header"
   ]
  },
  {
   "cell_type": "code",
   "execution_count": 27,
   "id": "9c438ad6-eb1b-4cf0-9846-4fdd2b32621c",
   "metadata": {
    "execution": {
     "iopub.execute_input": "2023-04-25T12:38:38.784282Z",
     "iopub.status.busy": "2023-04-25T12:38:38.783603Z",
     "iopub.status.idle": "2023-04-25T12:38:38.787468Z",
     "shell.execute_reply": "2023-04-25T12:38:38.786941Z",
     "shell.execute_reply.started": "2023-04-25T12:38:38.784253Z"
    }
   },
   "outputs": [],
   "source": [
    "df_dep_t_new = df_dep_t[1:]"
   ]
  },
  {
   "cell_type": "code",
   "execution_count": 28,
   "id": "84a8d41f-ccd8-463f-8376-e744b2ed8179",
   "metadata": {
    "execution": {
     "iopub.execute_input": "2023-04-25T12:38:38.793680Z",
     "iopub.status.busy": "2023-04-25T12:38:38.793323Z",
     "iopub.status.idle": "2023-04-25T12:38:38.802001Z",
     "shell.execute_reply": "2023-04-25T12:38:38.800977Z",
     "shell.execute_reply.started": "2023-04-25T12:38:38.793654Z"
    }
   },
   "outputs": [
    {
     "data": {
      "text/html": [
       "<div>\n",
       "<style scoped>\n",
       "    .dataframe tbody tr th:only-of-type {\n",
       "        vertical-align: middle;\n",
       "    }\n",
       "\n",
       "    .dataframe tbody tr th {\n",
       "        vertical-align: top;\n",
       "    }\n",
       "\n",
       "    .dataframe thead th {\n",
       "        text-align: right;\n",
       "    }\n",
       "</style>\n",
       "<table border=\"1\" class=\"dataframe\">\n",
       "  <thead>\n",
       "    <tr style=\"text-align: right;\">\n",
       "      <th></th>\n",
       "      <th>0</th>\n",
       "    </tr>\n",
       "  </thead>\n",
       "  <tbody>\n",
       "    <tr>\n",
       "      <th>1</th>\n",
       "      <td>frozen</td>\n",
       "    </tr>\n",
       "    <tr>\n",
       "      <th>2</th>\n",
       "      <td>other</td>\n",
       "    </tr>\n",
       "    <tr>\n",
       "      <th>3</th>\n",
       "      <td>bakery</td>\n",
       "    </tr>\n",
       "    <tr>\n",
       "      <th>4</th>\n",
       "      <td>produce</td>\n",
       "    </tr>\n",
       "    <tr>\n",
       "      <th>5</th>\n",
       "      <td>alcohol</td>\n",
       "    </tr>\n",
       "    <tr>\n",
       "      <th>6</th>\n",
       "      <td>international</td>\n",
       "    </tr>\n",
       "    <tr>\n",
       "      <th>7</th>\n",
       "      <td>beverages</td>\n",
       "    </tr>\n",
       "    <tr>\n",
       "      <th>8</th>\n",
       "      <td>pets</td>\n",
       "    </tr>\n",
       "    <tr>\n",
       "      <th>9</th>\n",
       "      <td>dry goods pasta</td>\n",
       "    </tr>\n",
       "    <tr>\n",
       "      <th>10</th>\n",
       "      <td>bulk</td>\n",
       "    </tr>\n",
       "    <tr>\n",
       "      <th>11</th>\n",
       "      <td>personal care</td>\n",
       "    </tr>\n",
       "    <tr>\n",
       "      <th>12</th>\n",
       "      <td>meat seafood</td>\n",
       "    </tr>\n",
       "    <tr>\n",
       "      <th>13</th>\n",
       "      <td>pantry</td>\n",
       "    </tr>\n",
       "    <tr>\n",
       "      <th>14</th>\n",
       "      <td>breakfast</td>\n",
       "    </tr>\n",
       "    <tr>\n",
       "      <th>15</th>\n",
       "      <td>canned goods</td>\n",
       "    </tr>\n",
       "    <tr>\n",
       "      <th>16</th>\n",
       "      <td>dairy eggs</td>\n",
       "    </tr>\n",
       "    <tr>\n",
       "      <th>17</th>\n",
       "      <td>household</td>\n",
       "    </tr>\n",
       "    <tr>\n",
       "      <th>18</th>\n",
       "      <td>babies</td>\n",
       "    </tr>\n",
       "    <tr>\n",
       "      <th>19</th>\n",
       "      <td>snacks</td>\n",
       "    </tr>\n",
       "    <tr>\n",
       "      <th>20</th>\n",
       "      <td>deli</td>\n",
       "    </tr>\n",
       "    <tr>\n",
       "      <th>21</th>\n",
       "      <td>missing</td>\n",
       "    </tr>\n",
       "  </tbody>\n",
       "</table>\n",
       "</div>"
      ],
      "text/plain": [
       "                  0\n",
       "1            frozen\n",
       "2             other\n",
       "3            bakery\n",
       "4           produce\n",
       "5           alcohol\n",
       "6     international\n",
       "7         beverages\n",
       "8              pets\n",
       "9   dry goods pasta\n",
       "10             bulk\n",
       "11    personal care\n",
       "12     meat seafood\n",
       "13           pantry\n",
       "14        breakfast\n",
       "15     canned goods\n",
       "16       dairy eggs\n",
       "17        household\n",
       "18           babies\n",
       "19           snacks\n",
       "20             deli\n",
       "21          missing"
      ]
     },
     "execution_count": 28,
     "metadata": {},
     "output_type": "execute_result"
    }
   ],
   "source": [
    "df_dep_t_new"
   ]
  },
  {
   "cell_type": "code",
   "execution_count": 29,
   "id": "66407885-4c1e-4913-ac75-a92d2dbc44ca",
   "metadata": {
    "execution": {
     "iopub.execute_input": "2023-04-25T12:38:38.804322Z",
     "iopub.status.busy": "2023-04-25T12:38:38.803481Z",
     "iopub.status.idle": "2023-04-25T12:38:38.815591Z",
     "shell.execute_reply": "2023-04-25T12:38:38.814832Z",
     "shell.execute_reply.started": "2023-04-25T12:38:38.804251Z"
    }
   },
   "outputs": [
    {
     "data": {
      "text/html": [
       "<div>\n",
       "<style scoped>\n",
       "    .dataframe tbody tr th:only-of-type {\n",
       "        vertical-align: middle;\n",
       "    }\n",
       "\n",
       "    .dataframe tbody tr th {\n",
       "        vertical-align: top;\n",
       "    }\n",
       "\n",
       "    .dataframe thead th {\n",
       "        text-align: right;\n",
       "    }\n",
       "</style>\n",
       "<table border=\"1\" class=\"dataframe\">\n",
       "  <thead>\n",
       "    <tr style=\"text-align: right;\">\n",
       "      <th></th>\n",
       "      <th>0</th>\n",
       "    </tr>\n",
       "  </thead>\n",
       "  <tbody>\n",
       "    <tr>\n",
       "      <th>department_id</th>\n",
       "      <td>department</td>\n",
       "    </tr>\n",
       "  </tbody>\n",
       "</table>\n",
       "</div>"
      ],
      "text/plain": [
       "                        0\n",
       "department_id  department"
      ]
     },
     "execution_count": 29,
     "metadata": {},
     "output_type": "execute_result"
    }
   ],
   "source": [
    "df_dep_t[0:1]"
   ]
  },
  {
   "cell_type": "code",
   "execution_count": 30,
   "id": "c560bfe5-6d83-4e3c-a19b-c1c4bc8390fd",
   "metadata": {
    "execution": {
     "iopub.execute_input": "2023-04-25T12:38:38.817860Z",
     "iopub.status.busy": "2023-04-25T12:38:38.817245Z",
     "iopub.status.idle": "2023-04-25T12:38:38.822204Z",
     "shell.execute_reply": "2023-04-25T12:38:38.821411Z",
     "shell.execute_reply.started": "2023-04-25T12:38:38.817819Z"
    },
    "tags": []
   },
   "outputs": [],
   "source": [
    "df_dep_t_new.columns = new_header"
   ]
  },
  {
   "cell_type": "code",
   "execution_count": 31,
   "id": "c04380f1-459a-41fd-87e5-ed090f483c77",
   "metadata": {
    "execution": {
     "iopub.execute_input": "2023-04-25T12:38:38.823967Z",
     "iopub.status.busy": "2023-04-25T12:38:38.823698Z",
     "iopub.status.idle": "2023-04-25T12:38:38.832884Z",
     "shell.execute_reply": "2023-04-25T12:38:38.832325Z",
     "shell.execute_reply.started": "2023-04-25T12:38:38.823942Z"
    }
   },
   "outputs": [
    {
     "data": {
      "text/html": [
       "<div>\n",
       "<style scoped>\n",
       "    .dataframe tbody tr th:only-of-type {\n",
       "        vertical-align: middle;\n",
       "    }\n",
       "\n",
       "    .dataframe tbody tr th {\n",
       "        vertical-align: top;\n",
       "    }\n",
       "\n",
       "    .dataframe thead th {\n",
       "        text-align: right;\n",
       "    }\n",
       "</style>\n",
       "<table border=\"1\" class=\"dataframe\">\n",
       "  <thead>\n",
       "    <tr style=\"text-align: right;\">\n",
       "      <th>department_id</th>\n",
       "      <th>department</th>\n",
       "    </tr>\n",
       "  </thead>\n",
       "  <tbody>\n",
       "    <tr>\n",
       "      <th>1</th>\n",
       "      <td>frozen</td>\n",
       "    </tr>\n",
       "    <tr>\n",
       "      <th>2</th>\n",
       "      <td>other</td>\n",
       "    </tr>\n",
       "    <tr>\n",
       "      <th>3</th>\n",
       "      <td>bakery</td>\n",
       "    </tr>\n",
       "    <tr>\n",
       "      <th>4</th>\n",
       "      <td>produce</td>\n",
       "    </tr>\n",
       "    <tr>\n",
       "      <th>5</th>\n",
       "      <td>alcohol</td>\n",
       "    </tr>\n",
       "    <tr>\n",
       "      <th>6</th>\n",
       "      <td>international</td>\n",
       "    </tr>\n",
       "    <tr>\n",
       "      <th>7</th>\n",
       "      <td>beverages</td>\n",
       "    </tr>\n",
       "    <tr>\n",
       "      <th>8</th>\n",
       "      <td>pets</td>\n",
       "    </tr>\n",
       "    <tr>\n",
       "      <th>9</th>\n",
       "      <td>dry goods pasta</td>\n",
       "    </tr>\n",
       "    <tr>\n",
       "      <th>10</th>\n",
       "      <td>bulk</td>\n",
       "    </tr>\n",
       "    <tr>\n",
       "      <th>11</th>\n",
       "      <td>personal care</td>\n",
       "    </tr>\n",
       "    <tr>\n",
       "      <th>12</th>\n",
       "      <td>meat seafood</td>\n",
       "    </tr>\n",
       "    <tr>\n",
       "      <th>13</th>\n",
       "      <td>pantry</td>\n",
       "    </tr>\n",
       "    <tr>\n",
       "      <th>14</th>\n",
       "      <td>breakfast</td>\n",
       "    </tr>\n",
       "    <tr>\n",
       "      <th>15</th>\n",
       "      <td>canned goods</td>\n",
       "    </tr>\n",
       "    <tr>\n",
       "      <th>16</th>\n",
       "      <td>dairy eggs</td>\n",
       "    </tr>\n",
       "    <tr>\n",
       "      <th>17</th>\n",
       "      <td>household</td>\n",
       "    </tr>\n",
       "    <tr>\n",
       "      <th>18</th>\n",
       "      <td>babies</td>\n",
       "    </tr>\n",
       "    <tr>\n",
       "      <th>19</th>\n",
       "      <td>snacks</td>\n",
       "    </tr>\n",
       "    <tr>\n",
       "      <th>20</th>\n",
       "      <td>deli</td>\n",
       "    </tr>\n",
       "    <tr>\n",
       "      <th>21</th>\n",
       "      <td>missing</td>\n",
       "    </tr>\n",
       "  </tbody>\n",
       "</table>\n",
       "</div>"
      ],
      "text/plain": [
       "department_id       department\n",
       "1                       frozen\n",
       "2                        other\n",
       "3                       bakery\n",
       "4                      produce\n",
       "5                      alcohol\n",
       "6                international\n",
       "7                    beverages\n",
       "8                         pets\n",
       "9              dry goods pasta\n",
       "10                        bulk\n",
       "11               personal care\n",
       "12                meat seafood\n",
       "13                      pantry\n",
       "14                   breakfast\n",
       "15                canned goods\n",
       "16                  dairy eggs\n",
       "17                   household\n",
       "18                      babies\n",
       "19                      snacks\n",
       "20                        deli\n",
       "21                     missing"
      ]
     },
     "execution_count": 31,
     "metadata": {},
     "output_type": "execute_result"
    }
   ],
   "source": [
    "df_dep_t_new"
   ]
  },
  {
   "cell_type": "code",
   "execution_count": 32,
   "id": "b160eba4-844d-4203-b37e-a63628aebbaa",
   "metadata": {
    "execution": {
     "iopub.execute_input": "2023-04-25T12:38:38.834609Z",
     "iopub.status.busy": "2023-04-25T12:38:38.834063Z",
     "iopub.status.idle": "2023-04-25T12:38:38.839674Z",
     "shell.execute_reply": "2023-04-25T12:38:38.838359Z",
     "shell.execute_reply.started": "2023-04-25T12:38:38.834569Z"
    }
   },
   "outputs": [],
   "source": [
    "data_dict = df_dep_t_new.to_dict('index')"
   ]
  },
  {
   "cell_type": "code",
   "execution_count": 33,
   "id": "ea8fb984-6781-43a0-b25a-4094e2a889a2",
   "metadata": {
    "execution": {
     "iopub.execute_input": "2023-04-25T12:38:38.841620Z",
     "iopub.status.busy": "2023-04-25T12:38:38.841357Z",
     "iopub.status.idle": "2023-04-25T12:38:38.849222Z",
     "shell.execute_reply": "2023-04-25T12:38:38.848638Z",
     "shell.execute_reply.started": "2023-04-25T12:38:38.841595Z"
    }
   },
   "outputs": [
    {
     "data": {
      "text/plain": [
       "{'1': {'department': 'frozen'},\n",
       " '2': {'department': 'other'},\n",
       " '3': {'department': 'bakery'},\n",
       " '4': {'department': 'produce'},\n",
       " '5': {'department': 'alcohol'},\n",
       " '6': {'department': 'international'},\n",
       " '7': {'department': 'beverages'},\n",
       " '8': {'department': 'pets'},\n",
       " '9': {'department': 'dry goods pasta'},\n",
       " '10': {'department': 'bulk'},\n",
       " '11': {'department': 'personal care'},\n",
       " '12': {'department': 'meat seafood'},\n",
       " '13': {'department': 'pantry'},\n",
       " '14': {'department': 'breakfast'},\n",
       " '15': {'department': 'canned goods'},\n",
       " '16': {'department': 'dairy eggs'},\n",
       " '17': {'department': 'household'},\n",
       " '18': {'department': 'babies'},\n",
       " '19': {'department': 'snacks'},\n",
       " '20': {'department': 'deli'},\n",
       " '21': {'department': 'missing'}}"
      ]
     },
     "execution_count": 33,
     "metadata": {},
     "output_type": "execute_result"
    }
   ],
   "source": [
    "data_dict"
   ]
  },
  {
   "cell_type": "code",
   "execution_count": 34,
   "id": "4f0d53de-22cb-4dd9-bd70-6334b41e2d2e",
   "metadata": {
    "execution": {
     "iopub.execute_input": "2023-04-25T12:38:38.850838Z",
     "iopub.status.busy": "2023-04-25T12:38:38.850209Z",
     "iopub.status.idle": "2023-04-25T12:38:38.861800Z",
     "shell.execute_reply": "2023-04-25T12:38:38.860957Z",
     "shell.execute_reply.started": "2023-04-25T12:38:38.850760Z"
    }
   },
   "outputs": [
    {
     "data": {
      "text/html": [
       "<div>\n",
       "<style scoped>\n",
       "    .dataframe tbody tr th:only-of-type {\n",
       "        vertical-align: middle;\n",
       "    }\n",
       "\n",
       "    .dataframe tbody tr th {\n",
       "        vertical-align: top;\n",
       "    }\n",
       "\n",
       "    .dataframe thead th {\n",
       "        text-align: right;\n",
       "    }\n",
       "</style>\n",
       "<table border=\"1\" class=\"dataframe\">\n",
       "  <thead>\n",
       "    <tr style=\"text-align: right;\">\n",
       "      <th></th>\n",
       "      <th>product_id</th>\n",
       "      <th>product_name</th>\n",
       "      <th>aisle_id</th>\n",
       "      <th>department_id</th>\n",
       "      <th>prices</th>\n",
       "    </tr>\n",
       "  </thead>\n",
       "  <tbody>\n",
       "    <tr>\n",
       "      <th>0</th>\n",
       "      <td>1</td>\n",
       "      <td>Chocolate Sandwich Cookies</td>\n",
       "      <td>61</td>\n",
       "      <td>19</td>\n",
       "      <td>5.8</td>\n",
       "    </tr>\n",
       "    <tr>\n",
       "      <th>1</th>\n",
       "      <td>2</td>\n",
       "      <td>All-Seasons Salt</td>\n",
       "      <td>104</td>\n",
       "      <td>13</td>\n",
       "      <td>9.3</td>\n",
       "    </tr>\n",
       "    <tr>\n",
       "      <th>2</th>\n",
       "      <td>3</td>\n",
       "      <td>Robust Golden Unsweetened Oolong Tea</td>\n",
       "      <td>94</td>\n",
       "      <td>7</td>\n",
       "      <td>4.5</td>\n",
       "    </tr>\n",
       "    <tr>\n",
       "      <th>3</th>\n",
       "      <td>4</td>\n",
       "      <td>Smart Ones Classic Favorites Mini Rigatoni Wit...</td>\n",
       "      <td>38</td>\n",
       "      <td>1</td>\n",
       "      <td>10.5</td>\n",
       "    </tr>\n",
       "    <tr>\n",
       "      <th>4</th>\n",
       "      <td>5</td>\n",
       "      <td>Green Chile Anytime Sauce</td>\n",
       "      <td>5</td>\n",
       "      <td>13</td>\n",
       "      <td>4.3</td>\n",
       "    </tr>\n",
       "  </tbody>\n",
       "</table>\n",
       "</div>"
      ],
      "text/plain": [
       "   product_id                                       product_name  aisle_id  \\\n",
       "0           1                         Chocolate Sandwich Cookies        61   \n",
       "1           2                                   All-Seasons Salt       104   \n",
       "2           3               Robust Golden Unsweetened Oolong Tea        94   \n",
       "3           4  Smart Ones Classic Favorites Mini Rigatoni Wit...        38   \n",
       "4           5                          Green Chile Anytime Sauce         5   \n",
       "\n",
       "   department_id  prices  \n",
       "0             19     5.8  \n",
       "1             13     9.3  \n",
       "2              7     4.5  \n",
       "3              1    10.5  \n",
       "4             13     4.3  "
      ]
     },
     "execution_count": 34,
     "metadata": {},
     "output_type": "execute_result"
    }
   ],
   "source": [
    "df_prods.head()"
   ]
  },
  {
   "cell_type": "code",
   "execution_count": 35,
   "id": "45ea306d-ff3f-47bc-97b3-a441f41db38f",
   "metadata": {
    "execution": {
     "iopub.execute_input": "2023-04-25T12:38:38.863182Z",
     "iopub.status.busy": "2023-04-25T12:38:38.862929Z",
     "iopub.status.idle": "2023-04-25T12:38:38.868442Z",
     "shell.execute_reply": "2023-04-25T12:38:38.867402Z",
     "shell.execute_reply.started": "2023-04-25T12:38:38.863157Z"
    }
   },
   "outputs": [
    {
     "name": "stdout",
     "output_type": "stream",
     "text": [
      "{'department': 'snacks'}\n"
     ]
    }
   ],
   "source": [
    "print(data_dict.get('19'))"
   ]
  },
  {
   "cell_type": "code",
   "execution_count": 36,
   "id": "36654488-f327-4d37-8d31-1ebec8b0f074",
   "metadata": {
    "execution": {
     "iopub.execute_input": "2023-04-25T12:38:38.870193Z",
     "iopub.status.busy": "2023-04-25T12:38:38.869949Z",
     "iopub.status.idle": "2023-04-25T12:38:38.878822Z",
     "shell.execute_reply": "2023-04-25T12:38:38.877956Z",
     "shell.execute_reply.started": "2023-04-25T12:38:38.870170Z"
    }
   },
   "outputs": [],
   "source": [
    "df_snacks =  df_prods[df_prods['department_id']==19]"
   ]
  },
  {
   "cell_type": "code",
   "execution_count": 37,
   "id": "df49a1f0-c2fb-44c6-bfd5-85632f8ed78c",
   "metadata": {
    "execution": {
     "iopub.execute_input": "2023-04-25T12:38:38.881132Z",
     "iopub.status.busy": "2023-04-25T12:38:38.879924Z",
     "iopub.status.idle": "2023-04-25T12:38:38.897377Z",
     "shell.execute_reply": "2023-04-25T12:38:38.896537Z",
     "shell.execute_reply.started": "2023-04-25T12:38:38.881099Z"
    }
   },
   "outputs": [
    {
     "data": {
      "text/html": [
       "<div>\n",
       "<style scoped>\n",
       "    .dataframe tbody tr th:only-of-type {\n",
       "        vertical-align: middle;\n",
       "    }\n",
       "\n",
       "    .dataframe tbody tr th {\n",
       "        vertical-align: top;\n",
       "    }\n",
       "\n",
       "    .dataframe thead th {\n",
       "        text-align: right;\n",
       "    }\n",
       "</style>\n",
       "<table border=\"1\" class=\"dataframe\">\n",
       "  <thead>\n",
       "    <tr style=\"text-align: right;\">\n",
       "      <th></th>\n",
       "      <th>product_id</th>\n",
       "      <th>product_name</th>\n",
       "      <th>aisle_id</th>\n",
       "      <th>department_id</th>\n",
       "      <th>prices</th>\n",
       "    </tr>\n",
       "  </thead>\n",
       "  <tbody>\n",
       "    <tr>\n",
       "      <th>0</th>\n",
       "      <td>1</td>\n",
       "      <td>Chocolate Sandwich Cookies</td>\n",
       "      <td>61</td>\n",
       "      <td>19</td>\n",
       "      <td>5.8</td>\n",
       "    </tr>\n",
       "    <tr>\n",
       "      <th>15</th>\n",
       "      <td>16</td>\n",
       "      <td>Mint Chocolate Flavored Syrup</td>\n",
       "      <td>103</td>\n",
       "      <td>19</td>\n",
       "      <td>5.2</td>\n",
       "    </tr>\n",
       "    <tr>\n",
       "      <th>24</th>\n",
       "      <td>25</td>\n",
       "      <td>Salted Caramel Lean Protein &amp; Fiber Bar</td>\n",
       "      <td>3</td>\n",
       "      <td>19</td>\n",
       "      <td>1.9</td>\n",
       "    </tr>\n",
       "    <tr>\n",
       "      <th>31</th>\n",
       "      <td>32</td>\n",
       "      <td>Nacho Cheese White Bean Chips</td>\n",
       "      <td>107</td>\n",
       "      <td>19</td>\n",
       "      <td>4.9</td>\n",
       "    </tr>\n",
       "    <tr>\n",
       "      <th>40</th>\n",
       "      <td>41</td>\n",
       "      <td>Organic Sourdough Einkorn Crackers Rosemary</td>\n",
       "      <td>78</td>\n",
       "      <td>19</td>\n",
       "      <td>6.5</td>\n",
       "    </tr>\n",
       "    <tr>\n",
       "      <th>...</th>\n",
       "      <td>...</td>\n",
       "      <td>...</td>\n",
       "      <td>...</td>\n",
       "      <td>...</td>\n",
       "      <td>...</td>\n",
       "    </tr>\n",
       "    <tr>\n",
       "      <th>49666</th>\n",
       "      <td>49662</td>\n",
       "      <td>Bacon Cheddar Pretzel Pieces</td>\n",
       "      <td>107</td>\n",
       "      <td>19</td>\n",
       "      <td>3.6</td>\n",
       "    </tr>\n",
       "    <tr>\n",
       "      <th>49669</th>\n",
       "      <td>49665</td>\n",
       "      <td>Super Dark Coconut Ash &amp; Banana Chocolate Bar</td>\n",
       "      <td>45</td>\n",
       "      <td>19</td>\n",
       "      <td>6.9</td>\n",
       "    </tr>\n",
       "    <tr>\n",
       "      <th>49670</th>\n",
       "      <td>49666</td>\n",
       "      <td>Ginger Snaps Snacking Cookies</td>\n",
       "      <td>61</td>\n",
       "      <td>19</td>\n",
       "      <td>5.2</td>\n",
       "    </tr>\n",
       "    <tr>\n",
       "      <th>49675</th>\n",
       "      <td>49671</td>\n",
       "      <td>Milk Chocolate Drops</td>\n",
       "      <td>45</td>\n",
       "      <td>19</td>\n",
       "      <td>3.0</td>\n",
       "    </tr>\n",
       "    <tr>\n",
       "      <th>49683</th>\n",
       "      <td>49679</td>\n",
       "      <td>Famous Chocolate Wafers</td>\n",
       "      <td>61</td>\n",
       "      <td>19</td>\n",
       "      <td>6.0</td>\n",
       "    </tr>\n",
       "  </tbody>\n",
       "</table>\n",
       "<p>6264 rows × 5 columns</p>\n",
       "</div>"
      ],
      "text/plain": [
       "       product_id                                   product_name  aisle_id  \\\n",
       "0               1                     Chocolate Sandwich Cookies        61   \n",
       "15             16                  Mint Chocolate Flavored Syrup       103   \n",
       "24             25        Salted Caramel Lean Protein & Fiber Bar         3   \n",
       "31             32                  Nacho Cheese White Bean Chips       107   \n",
       "40             41    Organic Sourdough Einkorn Crackers Rosemary        78   \n",
       "...           ...                                            ...       ...   \n",
       "49666       49662                   Bacon Cheddar Pretzel Pieces       107   \n",
       "49669       49665  Super Dark Coconut Ash & Banana Chocolate Bar        45   \n",
       "49670       49666                  Ginger Snaps Snacking Cookies        61   \n",
       "49675       49671                           Milk Chocolate Drops        45   \n",
       "49683       49679                        Famous Chocolate Wafers        61   \n",
       "\n",
       "       department_id  prices  \n",
       "0                 19     5.8  \n",
       "15                19     5.2  \n",
       "24                19     1.9  \n",
       "31                19     4.9  \n",
       "40                19     6.5  \n",
       "...              ...     ...  \n",
       "49666             19     3.6  \n",
       "49669             19     6.9  \n",
       "49670             19     5.2  \n",
       "49675             19     3.0  \n",
       "49683             19     6.0  \n",
       "\n",
       "[6264 rows x 5 columns]"
      ]
     },
     "execution_count": 37,
     "metadata": {},
     "output_type": "execute_result"
    }
   ],
   "source": [
    "df_snacks"
   ]
  },
  {
   "cell_type": "code",
   "execution_count": 38,
   "id": "a71cadf5-df10-45eb-ab2f-029fbfd5d474",
   "metadata": {
    "execution": {
     "iopub.execute_input": "2023-04-25T12:38:38.898872Z",
     "iopub.status.busy": "2023-04-25T12:38:38.898415Z",
     "iopub.status.idle": "2023-04-25T12:38:38.905792Z",
     "shell.execute_reply": "2023-04-25T12:38:38.905093Z",
     "shell.execute_reply.started": "2023-04-25T12:38:38.898833Z"
    }
   },
   "outputs": [
    {
     "data": {
      "text/plain": [
       "0         True\n",
       "1        False\n",
       "2        False\n",
       "3        False\n",
       "4        False\n",
       "         ...  \n",
       "49688    False\n",
       "49689    False\n",
       "49690    False\n",
       "49691    False\n",
       "49692    False\n",
       "Name: department_id, Length: 49693, dtype: bool"
      ]
     },
     "execution_count": 38,
     "metadata": {},
     "output_type": "execute_result"
    }
   ],
   "source": [
    "df_prods['department_id']==19"
   ]
  },
  {
   "cell_type": "code",
   "execution_count": 39,
   "id": "986edc4a-aca5-4f8f-8213-4a7137ca705f",
   "metadata": {
    "execution": {
     "iopub.execute_input": "2023-04-25T12:38:38.907442Z",
     "iopub.status.busy": "2023-04-25T12:38:38.907012Z",
     "iopub.status.idle": "2023-04-25T12:38:38.923041Z",
     "shell.execute_reply": "2023-04-25T12:38:38.922367Z",
     "shell.execute_reply.started": "2023-04-25T12:38:38.907415Z"
    }
   },
   "outputs": [
    {
     "data": {
      "text/html": [
       "<div>\n",
       "<style scoped>\n",
       "    .dataframe tbody tr th:only-of-type {\n",
       "        vertical-align: middle;\n",
       "    }\n",
       "\n",
       "    .dataframe tbody tr th {\n",
       "        vertical-align: top;\n",
       "    }\n",
       "\n",
       "    .dataframe thead th {\n",
       "        text-align: right;\n",
       "    }\n",
       "</style>\n",
       "<table border=\"1\" class=\"dataframe\">\n",
       "  <thead>\n",
       "    <tr style=\"text-align: right;\">\n",
       "      <th></th>\n",
       "      <th>product_id</th>\n",
       "      <th>product_name</th>\n",
       "      <th>aisle_id</th>\n",
       "      <th>department_id</th>\n",
       "      <th>prices</th>\n",
       "    </tr>\n",
       "  </thead>\n",
       "  <tbody>\n",
       "    <tr>\n",
       "      <th>0</th>\n",
       "      <td>1</td>\n",
       "      <td>Chocolate Sandwich Cookies</td>\n",
       "      <td>61</td>\n",
       "      <td>19</td>\n",
       "      <td>5.8</td>\n",
       "    </tr>\n",
       "    <tr>\n",
       "      <th>15</th>\n",
       "      <td>16</td>\n",
       "      <td>Mint Chocolate Flavored Syrup</td>\n",
       "      <td>103</td>\n",
       "      <td>19</td>\n",
       "      <td>5.2</td>\n",
       "    </tr>\n",
       "    <tr>\n",
       "      <th>24</th>\n",
       "      <td>25</td>\n",
       "      <td>Salted Caramel Lean Protein &amp; Fiber Bar</td>\n",
       "      <td>3</td>\n",
       "      <td>19</td>\n",
       "      <td>1.9</td>\n",
       "    </tr>\n",
       "    <tr>\n",
       "      <th>31</th>\n",
       "      <td>32</td>\n",
       "      <td>Nacho Cheese White Bean Chips</td>\n",
       "      <td>107</td>\n",
       "      <td>19</td>\n",
       "      <td>4.9</td>\n",
       "    </tr>\n",
       "    <tr>\n",
       "      <th>40</th>\n",
       "      <td>41</td>\n",
       "      <td>Organic Sourdough Einkorn Crackers Rosemary</td>\n",
       "      <td>78</td>\n",
       "      <td>19</td>\n",
       "      <td>6.5</td>\n",
       "    </tr>\n",
       "    <tr>\n",
       "      <th>...</th>\n",
       "      <td>...</td>\n",
       "      <td>...</td>\n",
       "      <td>...</td>\n",
       "      <td>...</td>\n",
       "      <td>...</td>\n",
       "    </tr>\n",
       "    <tr>\n",
       "      <th>49666</th>\n",
       "      <td>49662</td>\n",
       "      <td>Bacon Cheddar Pretzel Pieces</td>\n",
       "      <td>107</td>\n",
       "      <td>19</td>\n",
       "      <td>3.6</td>\n",
       "    </tr>\n",
       "    <tr>\n",
       "      <th>49669</th>\n",
       "      <td>49665</td>\n",
       "      <td>Super Dark Coconut Ash &amp; Banana Chocolate Bar</td>\n",
       "      <td>45</td>\n",
       "      <td>19</td>\n",
       "      <td>6.9</td>\n",
       "    </tr>\n",
       "    <tr>\n",
       "      <th>49670</th>\n",
       "      <td>49666</td>\n",
       "      <td>Ginger Snaps Snacking Cookies</td>\n",
       "      <td>61</td>\n",
       "      <td>19</td>\n",
       "      <td>5.2</td>\n",
       "    </tr>\n",
       "    <tr>\n",
       "      <th>49675</th>\n",
       "      <td>49671</td>\n",
       "      <td>Milk Chocolate Drops</td>\n",
       "      <td>45</td>\n",
       "      <td>19</td>\n",
       "      <td>3.0</td>\n",
       "    </tr>\n",
       "    <tr>\n",
       "      <th>49683</th>\n",
       "      <td>49679</td>\n",
       "      <td>Famous Chocolate Wafers</td>\n",
       "      <td>61</td>\n",
       "      <td>19</td>\n",
       "      <td>6.0</td>\n",
       "    </tr>\n",
       "  </tbody>\n",
       "</table>\n",
       "<p>6264 rows × 5 columns</p>\n",
       "</div>"
      ],
      "text/plain": [
       "       product_id                                   product_name  aisle_id  \\\n",
       "0               1                     Chocolate Sandwich Cookies        61   \n",
       "15             16                  Mint Chocolate Flavored Syrup       103   \n",
       "24             25        Salted Caramel Lean Protein & Fiber Bar         3   \n",
       "31             32                  Nacho Cheese White Bean Chips       107   \n",
       "40             41    Organic Sourdough Einkorn Crackers Rosemary        78   \n",
       "...           ...                                            ...       ...   \n",
       "49666       49662                   Bacon Cheddar Pretzel Pieces       107   \n",
       "49669       49665  Super Dark Coconut Ash & Banana Chocolate Bar        45   \n",
       "49670       49666                  Ginger Snaps Snacking Cookies        61   \n",
       "49675       49671                           Milk Chocolate Drops        45   \n",
       "49683       49679                        Famous Chocolate Wafers        61   \n",
       "\n",
       "       department_id  prices  \n",
       "0                 19     5.8  \n",
       "15                19     5.2  \n",
       "24                19     1.9  \n",
       "31                19     4.9  \n",
       "40                19     6.5  \n",
       "...              ...     ...  \n",
       "49666             19     3.6  \n",
       "49669             19     6.9  \n",
       "49670             19     5.2  \n",
       "49675             19     3.0  \n",
       "49683             19     6.0  \n",
       "\n",
       "[6264 rows x 5 columns]"
      ]
     },
     "execution_count": 39,
     "metadata": {},
     "output_type": "execute_result"
    }
   ],
   "source": [
    "df_prods[df_prods['department_id']==19]"
   ]
  },
  {
   "cell_type": "code",
   "execution_count": 40,
   "id": "2fa9f46b-defe-43b3-9b09-7c30e88a797b",
   "metadata": {
    "execution": {
     "iopub.execute_input": "2023-04-25T12:38:38.924737Z",
     "iopub.status.busy": "2023-04-25T12:38:38.924107Z",
     "iopub.status.idle": "2023-04-25T12:38:38.938505Z",
     "shell.execute_reply": "2023-04-25T12:38:38.937835Z",
     "shell.execute_reply.started": "2023-04-25T12:38:38.924709Z"
    }
   },
   "outputs": [
    {
     "data": {
      "text/html": [
       "<div>\n",
       "<style scoped>\n",
       "    .dataframe tbody tr th:only-of-type {\n",
       "        vertical-align: middle;\n",
       "    }\n",
       "\n",
       "    .dataframe tbody tr th {\n",
       "        vertical-align: top;\n",
       "    }\n",
       "\n",
       "    .dataframe thead th {\n",
       "        text-align: right;\n",
       "    }\n",
       "</style>\n",
       "<table border=\"1\" class=\"dataframe\">\n",
       "  <thead>\n",
       "    <tr style=\"text-align: right;\">\n",
       "      <th></th>\n",
       "      <th>product_id</th>\n",
       "      <th>product_name</th>\n",
       "      <th>aisle_id</th>\n",
       "      <th>department_id</th>\n",
       "      <th>prices</th>\n",
       "    </tr>\n",
       "  </thead>\n",
       "  <tbody>\n",
       "    <tr>\n",
       "      <th>0</th>\n",
       "      <td>1</td>\n",
       "      <td>Chocolate Sandwich Cookies</td>\n",
       "      <td>61</td>\n",
       "      <td>19</td>\n",
       "      <td>5.8</td>\n",
       "    </tr>\n",
       "    <tr>\n",
       "      <th>15</th>\n",
       "      <td>16</td>\n",
       "      <td>Mint Chocolate Flavored Syrup</td>\n",
       "      <td>103</td>\n",
       "      <td>19</td>\n",
       "      <td>5.2</td>\n",
       "    </tr>\n",
       "    <tr>\n",
       "      <th>24</th>\n",
       "      <td>25</td>\n",
       "      <td>Salted Caramel Lean Protein &amp; Fiber Bar</td>\n",
       "      <td>3</td>\n",
       "      <td>19</td>\n",
       "      <td>1.9</td>\n",
       "    </tr>\n",
       "    <tr>\n",
       "      <th>31</th>\n",
       "      <td>32</td>\n",
       "      <td>Nacho Cheese White Bean Chips</td>\n",
       "      <td>107</td>\n",
       "      <td>19</td>\n",
       "      <td>4.9</td>\n",
       "    </tr>\n",
       "    <tr>\n",
       "      <th>40</th>\n",
       "      <td>41</td>\n",
       "      <td>Organic Sourdough Einkorn Crackers Rosemary</td>\n",
       "      <td>78</td>\n",
       "      <td>19</td>\n",
       "      <td>6.5</td>\n",
       "    </tr>\n",
       "    <tr>\n",
       "      <th>...</th>\n",
       "      <td>...</td>\n",
       "      <td>...</td>\n",
       "      <td>...</td>\n",
       "      <td>...</td>\n",
       "      <td>...</td>\n",
       "    </tr>\n",
       "    <tr>\n",
       "      <th>49666</th>\n",
       "      <td>49662</td>\n",
       "      <td>Bacon Cheddar Pretzel Pieces</td>\n",
       "      <td>107</td>\n",
       "      <td>19</td>\n",
       "      <td>3.6</td>\n",
       "    </tr>\n",
       "    <tr>\n",
       "      <th>49669</th>\n",
       "      <td>49665</td>\n",
       "      <td>Super Dark Coconut Ash &amp; Banana Chocolate Bar</td>\n",
       "      <td>45</td>\n",
       "      <td>19</td>\n",
       "      <td>6.9</td>\n",
       "    </tr>\n",
       "    <tr>\n",
       "      <th>49670</th>\n",
       "      <td>49666</td>\n",
       "      <td>Ginger Snaps Snacking Cookies</td>\n",
       "      <td>61</td>\n",
       "      <td>19</td>\n",
       "      <td>5.2</td>\n",
       "    </tr>\n",
       "    <tr>\n",
       "      <th>49675</th>\n",
       "      <td>49671</td>\n",
       "      <td>Milk Chocolate Drops</td>\n",
       "      <td>45</td>\n",
       "      <td>19</td>\n",
       "      <td>3.0</td>\n",
       "    </tr>\n",
       "    <tr>\n",
       "      <th>49683</th>\n",
       "      <td>49679</td>\n",
       "      <td>Famous Chocolate Wafers</td>\n",
       "      <td>61</td>\n",
       "      <td>19</td>\n",
       "      <td>6.0</td>\n",
       "    </tr>\n",
       "  </tbody>\n",
       "</table>\n",
       "<p>6264 rows × 5 columns</p>\n",
       "</div>"
      ],
      "text/plain": [
       "       product_id                                   product_name  aisle_id  \\\n",
       "0               1                     Chocolate Sandwich Cookies        61   \n",
       "15             16                  Mint Chocolate Flavored Syrup       103   \n",
       "24             25        Salted Caramel Lean Protein & Fiber Bar         3   \n",
       "31             32                  Nacho Cheese White Bean Chips       107   \n",
       "40             41    Organic Sourdough Einkorn Crackers Rosemary        78   \n",
       "...           ...                                            ...       ...   \n",
       "49666       49662                   Bacon Cheddar Pretzel Pieces       107   \n",
       "49669       49665  Super Dark Coconut Ash & Banana Chocolate Bar        45   \n",
       "49670       49666                  Ginger Snaps Snacking Cookies        61   \n",
       "49675       49671                           Milk Chocolate Drops        45   \n",
       "49683       49679                        Famous Chocolate Wafers        61   \n",
       "\n",
       "       department_id  prices  \n",
       "0                 19     5.8  \n",
       "15                19     5.2  \n",
       "24                19     1.9  \n",
       "31                19     4.9  \n",
       "40                19     6.5  \n",
       "...              ...     ...  \n",
       "49666             19     3.6  \n",
       "49669             19     6.9  \n",
       "49670             19     5.2  \n",
       "49675             19     3.0  \n",
       "49683             19     6.0  \n",
       "\n",
       "[6264 rows x 5 columns]"
      ]
     },
     "execution_count": 40,
     "metadata": {},
     "output_type": "execute_result"
    }
   ],
   "source": [
    " df_prods.loc[df_prods['department_id'] == 19]"
   ]
  },
  {
   "cell_type": "code",
   "execution_count": 41,
   "id": "bb45d71e-6947-4c74-885b-fb5bb41015c3",
   "metadata": {
    "execution": {
     "iopub.execute_input": "2023-04-25T12:38:38.940141Z",
     "iopub.status.busy": "2023-04-25T12:38:38.939785Z",
     "iopub.status.idle": "2023-04-25T12:38:38.956388Z",
     "shell.execute_reply": "2023-04-25T12:38:38.955364Z",
     "shell.execute_reply.started": "2023-04-25T12:38:38.940111Z"
    }
   },
   "outputs": [
    {
     "data": {
      "text/html": [
       "<div>\n",
       "<style scoped>\n",
       "    .dataframe tbody tr th:only-of-type {\n",
       "        vertical-align: middle;\n",
       "    }\n",
       "\n",
       "    .dataframe tbody tr th {\n",
       "        vertical-align: top;\n",
       "    }\n",
       "\n",
       "    .dataframe thead th {\n",
       "        text-align: right;\n",
       "    }\n",
       "</style>\n",
       "<table border=\"1\" class=\"dataframe\">\n",
       "  <thead>\n",
       "    <tr style=\"text-align: right;\">\n",
       "      <th></th>\n",
       "      <th>product_id</th>\n",
       "      <th>product_name</th>\n",
       "      <th>aisle_id</th>\n",
       "      <th>department_id</th>\n",
       "      <th>prices</th>\n",
       "    </tr>\n",
       "  </thead>\n",
       "  <tbody>\n",
       "    <tr>\n",
       "      <th>0</th>\n",
       "      <td>1</td>\n",
       "      <td>Chocolate Sandwich Cookies</td>\n",
       "      <td>61</td>\n",
       "      <td>19</td>\n",
       "      <td>5.8</td>\n",
       "    </tr>\n",
       "    <tr>\n",
       "      <th>15</th>\n",
       "      <td>16</td>\n",
       "      <td>Mint Chocolate Flavored Syrup</td>\n",
       "      <td>103</td>\n",
       "      <td>19</td>\n",
       "      <td>5.2</td>\n",
       "    </tr>\n",
       "    <tr>\n",
       "      <th>24</th>\n",
       "      <td>25</td>\n",
       "      <td>Salted Caramel Lean Protein &amp; Fiber Bar</td>\n",
       "      <td>3</td>\n",
       "      <td>19</td>\n",
       "      <td>1.9</td>\n",
       "    </tr>\n",
       "    <tr>\n",
       "      <th>31</th>\n",
       "      <td>32</td>\n",
       "      <td>Nacho Cheese White Bean Chips</td>\n",
       "      <td>107</td>\n",
       "      <td>19</td>\n",
       "      <td>4.9</td>\n",
       "    </tr>\n",
       "    <tr>\n",
       "      <th>37</th>\n",
       "      <td>38</td>\n",
       "      <td>Ultra Antibacterial Dish Liquid</td>\n",
       "      <td>100</td>\n",
       "      <td>21</td>\n",
       "      <td>13.4</td>\n",
       "    </tr>\n",
       "    <tr>\n",
       "      <th>...</th>\n",
       "      <td>...</td>\n",
       "      <td>...</td>\n",
       "      <td>...</td>\n",
       "      <td>...</td>\n",
       "      <td>...</td>\n",
       "    </tr>\n",
       "    <tr>\n",
       "      <th>49669</th>\n",
       "      <td>49665</td>\n",
       "      <td>Super Dark Coconut Ash &amp; Banana Chocolate Bar</td>\n",
       "      <td>45</td>\n",
       "      <td>19</td>\n",
       "      <td>6.9</td>\n",
       "    </tr>\n",
       "    <tr>\n",
       "      <th>49670</th>\n",
       "      <td>49666</td>\n",
       "      <td>Ginger Snaps Snacking Cookies</td>\n",
       "      <td>61</td>\n",
       "      <td>19</td>\n",
       "      <td>5.2</td>\n",
       "    </tr>\n",
       "    <tr>\n",
       "      <th>49673</th>\n",
       "      <td>49669</td>\n",
       "      <td>K Cup Dark Blend</td>\n",
       "      <td>100</td>\n",
       "      <td>21</td>\n",
       "      <td>4.7</td>\n",
       "    </tr>\n",
       "    <tr>\n",
       "      <th>49675</th>\n",
       "      <td>49671</td>\n",
       "      <td>Milk Chocolate Drops</td>\n",
       "      <td>45</td>\n",
       "      <td>19</td>\n",
       "      <td>3.0</td>\n",
       "    </tr>\n",
       "    <tr>\n",
       "      <th>49683</th>\n",
       "      <td>49679</td>\n",
       "      <td>Famous Chocolate Wafers</td>\n",
       "      <td>61</td>\n",
       "      <td>19</td>\n",
       "      <td>6.0</td>\n",
       "    </tr>\n",
       "  </tbody>\n",
       "</table>\n",
       "<p>8844 rows × 5 columns</p>\n",
       "</div>"
      ],
      "text/plain": [
       "       product_id                                   product_name  aisle_id  \\\n",
       "0               1                     Chocolate Sandwich Cookies        61   \n",
       "15             16                  Mint Chocolate Flavored Syrup       103   \n",
       "24             25        Salted Caramel Lean Protein & Fiber Bar         3   \n",
       "31             32                  Nacho Cheese White Bean Chips       107   \n",
       "37             38                Ultra Antibacterial Dish Liquid       100   \n",
       "...           ...                                            ...       ...   \n",
       "49669       49665  Super Dark Coconut Ash & Banana Chocolate Bar        45   \n",
       "49670       49666                  Ginger Snaps Snacking Cookies        61   \n",
       "49673       49669                               K Cup Dark Blend       100   \n",
       "49675       49671                           Milk Chocolate Drops        45   \n",
       "49683       49679                        Famous Chocolate Wafers        61   \n",
       "\n",
       "       department_id  prices  \n",
       "0                 19     5.8  \n",
       "15                19     5.2  \n",
       "24                19     1.9  \n",
       "31                19     4.9  \n",
       "37                21    13.4  \n",
       "...              ...     ...  \n",
       "49669             19     6.9  \n",
       "49670             19     5.2  \n",
       "49673             21     4.7  \n",
       "49675             19     3.0  \n",
       "49683             19     6.0  \n",
       "\n",
       "[8844 rows x 5 columns]"
      ]
     },
     "execution_count": 41,
     "metadata": {},
     "output_type": "execute_result"
    }
   ],
   "source": [
    " df_prods.loc[df_prods['department_id'].isin([19,20,21])]"
   ]
  },
  {
   "cell_type": "code",
   "execution_count": 42,
   "id": "718bd50c-9102-4905-93a0-4f0a943af337",
   "metadata": {
    "execution": {
     "iopub.execute_input": "2023-04-25T12:38:38.958129Z",
     "iopub.status.busy": "2023-04-25T12:38:38.957884Z",
     "iopub.status.idle": "2023-04-25T12:38:38.963304Z",
     "shell.execute_reply": "2023-04-25T12:38:38.962435Z",
     "shell.execute_reply.started": "2023-04-25T12:38:38.958106Z"
    }
   },
   "outputs": [],
   "source": [
    "df_snacks_2 = df_prods.loc[df_prods['department_id'] == 19]"
   ]
  },
  {
   "cell_type": "code",
   "execution_count": 43,
   "id": "d369d628-f68f-4ecc-af87-b9a11d8d32bf",
   "metadata": {
    "execution": {
     "iopub.execute_input": "2023-04-25T12:38:38.964646Z",
     "iopub.status.busy": "2023-04-25T12:38:38.964452Z",
     "iopub.status.idle": "2023-04-25T12:38:38.972824Z",
     "shell.execute_reply": "2023-04-25T12:38:38.971660Z",
     "shell.execute_reply.started": "2023-04-25T12:38:38.964622Z"
    }
   },
   "outputs": [],
   "source": [
    "df_snacks_3 = df_prods.loc[df_prods['department_id'].isin([19])]"
   ]
  },
  {
   "cell_type": "code",
   "execution_count": 44,
   "id": "e9642f3b-4c69-4087-a9d5-107fc59db8d5",
   "metadata": {
    "execution": {
     "iopub.execute_input": "2023-04-25T12:38:38.974572Z",
     "iopub.status.busy": "2023-04-25T12:38:38.974265Z",
     "iopub.status.idle": "2023-04-25T12:38:38.989734Z",
     "shell.execute_reply": "2023-04-25T12:38:38.988744Z",
     "shell.execute_reply.started": "2023-04-25T12:38:38.974546Z"
    }
   },
   "outputs": [
    {
     "data": {
      "text/html": [
       "<div>\n",
       "<style scoped>\n",
       "    .dataframe tbody tr th:only-of-type {\n",
       "        vertical-align: middle;\n",
       "    }\n",
       "\n",
       "    .dataframe tbody tr th {\n",
       "        vertical-align: top;\n",
       "    }\n",
       "\n",
       "    .dataframe thead th {\n",
       "        text-align: right;\n",
       "    }\n",
       "</style>\n",
       "<table border=\"1\" class=\"dataframe\">\n",
       "  <thead>\n",
       "    <tr style=\"text-align: right;\">\n",
       "      <th></th>\n",
       "      <th>product_id</th>\n",
       "      <th>product_name</th>\n",
       "      <th>aisle_id</th>\n",
       "      <th>department_id</th>\n",
       "      <th>prices</th>\n",
       "    </tr>\n",
       "  </thead>\n",
       "  <tbody>\n",
       "    <tr>\n",
       "      <th>0</th>\n",
       "      <td>1</td>\n",
       "      <td>Chocolate Sandwich Cookies</td>\n",
       "      <td>61</td>\n",
       "      <td>19</td>\n",
       "      <td>5.8</td>\n",
       "    </tr>\n",
       "    <tr>\n",
       "      <th>15</th>\n",
       "      <td>16</td>\n",
       "      <td>Mint Chocolate Flavored Syrup</td>\n",
       "      <td>103</td>\n",
       "      <td>19</td>\n",
       "      <td>5.2</td>\n",
       "    </tr>\n",
       "    <tr>\n",
       "      <th>24</th>\n",
       "      <td>25</td>\n",
       "      <td>Salted Caramel Lean Protein &amp; Fiber Bar</td>\n",
       "      <td>3</td>\n",
       "      <td>19</td>\n",
       "      <td>1.9</td>\n",
       "    </tr>\n",
       "    <tr>\n",
       "      <th>31</th>\n",
       "      <td>32</td>\n",
       "      <td>Nacho Cheese White Bean Chips</td>\n",
       "      <td>107</td>\n",
       "      <td>19</td>\n",
       "      <td>4.9</td>\n",
       "    </tr>\n",
       "    <tr>\n",
       "      <th>40</th>\n",
       "      <td>41</td>\n",
       "      <td>Organic Sourdough Einkorn Crackers Rosemary</td>\n",
       "      <td>78</td>\n",
       "      <td>19</td>\n",
       "      <td>6.5</td>\n",
       "    </tr>\n",
       "    <tr>\n",
       "      <th>...</th>\n",
       "      <td>...</td>\n",
       "      <td>...</td>\n",
       "      <td>...</td>\n",
       "      <td>...</td>\n",
       "      <td>...</td>\n",
       "    </tr>\n",
       "    <tr>\n",
       "      <th>49666</th>\n",
       "      <td>49662</td>\n",
       "      <td>Bacon Cheddar Pretzel Pieces</td>\n",
       "      <td>107</td>\n",
       "      <td>19</td>\n",
       "      <td>3.6</td>\n",
       "    </tr>\n",
       "    <tr>\n",
       "      <th>49669</th>\n",
       "      <td>49665</td>\n",
       "      <td>Super Dark Coconut Ash &amp; Banana Chocolate Bar</td>\n",
       "      <td>45</td>\n",
       "      <td>19</td>\n",
       "      <td>6.9</td>\n",
       "    </tr>\n",
       "    <tr>\n",
       "      <th>49670</th>\n",
       "      <td>49666</td>\n",
       "      <td>Ginger Snaps Snacking Cookies</td>\n",
       "      <td>61</td>\n",
       "      <td>19</td>\n",
       "      <td>5.2</td>\n",
       "    </tr>\n",
       "    <tr>\n",
       "      <th>49675</th>\n",
       "      <td>49671</td>\n",
       "      <td>Milk Chocolate Drops</td>\n",
       "      <td>45</td>\n",
       "      <td>19</td>\n",
       "      <td>3.0</td>\n",
       "    </tr>\n",
       "    <tr>\n",
       "      <th>49683</th>\n",
       "      <td>49679</td>\n",
       "      <td>Famous Chocolate Wafers</td>\n",
       "      <td>61</td>\n",
       "      <td>19</td>\n",
       "      <td>6.0</td>\n",
       "    </tr>\n",
       "  </tbody>\n",
       "</table>\n",
       "<p>6264 rows × 5 columns</p>\n",
       "</div>"
      ],
      "text/plain": [
       "       product_id                                   product_name  aisle_id  \\\n",
       "0               1                     Chocolate Sandwich Cookies        61   \n",
       "15             16                  Mint Chocolate Flavored Syrup       103   \n",
       "24             25        Salted Caramel Lean Protein & Fiber Bar         3   \n",
       "31             32                  Nacho Cheese White Bean Chips       107   \n",
       "40             41    Organic Sourdough Einkorn Crackers Rosemary        78   \n",
       "...           ...                                            ...       ...   \n",
       "49666       49662                   Bacon Cheddar Pretzel Pieces       107   \n",
       "49669       49665  Super Dark Coconut Ash & Banana Chocolate Bar        45   \n",
       "49670       49666                  Ginger Snaps Snacking Cookies        61   \n",
       "49675       49671                           Milk Chocolate Drops        45   \n",
       "49683       49679                        Famous Chocolate Wafers        61   \n",
       "\n",
       "       department_id  prices  \n",
       "0                 19     5.8  \n",
       "15                19     5.2  \n",
       "24                19     1.9  \n",
       "31                19     4.9  \n",
       "40                19     6.5  \n",
       "...              ...     ...  \n",
       "49666             19     3.6  \n",
       "49669             19     6.9  \n",
       "49670             19     5.2  \n",
       "49675             19     3.0  \n",
       "49683             19     6.0  \n",
       "\n",
       "[6264 rows x 5 columns]"
      ]
     },
     "execution_count": 44,
     "metadata": {},
     "output_type": "execute_result"
    }
   ],
   "source": [
    "df_snacks_2"
   ]
  },
  {
   "cell_type": "code",
   "execution_count": 45,
   "id": "d8e52b83-51fc-4985-a3b3-a77232494f0c",
   "metadata": {
    "execution": {
     "iopub.execute_input": "2023-04-25T12:38:38.991080Z",
     "iopub.status.busy": "2023-04-25T12:38:38.990716Z",
     "iopub.status.idle": "2023-04-25T12:38:39.003612Z",
     "shell.execute_reply": "2023-04-25T12:38:39.003074Z",
     "shell.execute_reply.started": "2023-04-25T12:38:38.991055Z"
    }
   },
   "outputs": [
    {
     "data": {
      "text/html": [
       "<div>\n",
       "<style scoped>\n",
       "    .dataframe tbody tr th:only-of-type {\n",
       "        vertical-align: middle;\n",
       "    }\n",
       "\n",
       "    .dataframe tbody tr th {\n",
       "        vertical-align: top;\n",
       "    }\n",
       "\n",
       "    .dataframe thead th {\n",
       "        text-align: right;\n",
       "    }\n",
       "</style>\n",
       "<table border=\"1\" class=\"dataframe\">\n",
       "  <thead>\n",
       "    <tr style=\"text-align: right;\">\n",
       "      <th></th>\n",
       "      <th>product_id</th>\n",
       "      <th>product_name</th>\n",
       "      <th>aisle_id</th>\n",
       "      <th>department_id</th>\n",
       "      <th>prices</th>\n",
       "    </tr>\n",
       "  </thead>\n",
       "  <tbody>\n",
       "    <tr>\n",
       "      <th>0</th>\n",
       "      <td>1</td>\n",
       "      <td>Chocolate Sandwich Cookies</td>\n",
       "      <td>61</td>\n",
       "      <td>19</td>\n",
       "      <td>5.8</td>\n",
       "    </tr>\n",
       "    <tr>\n",
       "      <th>15</th>\n",
       "      <td>16</td>\n",
       "      <td>Mint Chocolate Flavored Syrup</td>\n",
       "      <td>103</td>\n",
       "      <td>19</td>\n",
       "      <td>5.2</td>\n",
       "    </tr>\n",
       "    <tr>\n",
       "      <th>24</th>\n",
       "      <td>25</td>\n",
       "      <td>Salted Caramel Lean Protein &amp; Fiber Bar</td>\n",
       "      <td>3</td>\n",
       "      <td>19</td>\n",
       "      <td>1.9</td>\n",
       "    </tr>\n",
       "    <tr>\n",
       "      <th>31</th>\n",
       "      <td>32</td>\n",
       "      <td>Nacho Cheese White Bean Chips</td>\n",
       "      <td>107</td>\n",
       "      <td>19</td>\n",
       "      <td>4.9</td>\n",
       "    </tr>\n",
       "    <tr>\n",
       "      <th>40</th>\n",
       "      <td>41</td>\n",
       "      <td>Organic Sourdough Einkorn Crackers Rosemary</td>\n",
       "      <td>78</td>\n",
       "      <td>19</td>\n",
       "      <td>6.5</td>\n",
       "    </tr>\n",
       "    <tr>\n",
       "      <th>...</th>\n",
       "      <td>...</td>\n",
       "      <td>...</td>\n",
       "      <td>...</td>\n",
       "      <td>...</td>\n",
       "      <td>...</td>\n",
       "    </tr>\n",
       "    <tr>\n",
       "      <th>49666</th>\n",
       "      <td>49662</td>\n",
       "      <td>Bacon Cheddar Pretzel Pieces</td>\n",
       "      <td>107</td>\n",
       "      <td>19</td>\n",
       "      <td>3.6</td>\n",
       "    </tr>\n",
       "    <tr>\n",
       "      <th>49669</th>\n",
       "      <td>49665</td>\n",
       "      <td>Super Dark Coconut Ash &amp; Banana Chocolate Bar</td>\n",
       "      <td>45</td>\n",
       "      <td>19</td>\n",
       "      <td>6.9</td>\n",
       "    </tr>\n",
       "    <tr>\n",
       "      <th>49670</th>\n",
       "      <td>49666</td>\n",
       "      <td>Ginger Snaps Snacking Cookies</td>\n",
       "      <td>61</td>\n",
       "      <td>19</td>\n",
       "      <td>5.2</td>\n",
       "    </tr>\n",
       "    <tr>\n",
       "      <th>49675</th>\n",
       "      <td>49671</td>\n",
       "      <td>Milk Chocolate Drops</td>\n",
       "      <td>45</td>\n",
       "      <td>19</td>\n",
       "      <td>3.0</td>\n",
       "    </tr>\n",
       "    <tr>\n",
       "      <th>49683</th>\n",
       "      <td>49679</td>\n",
       "      <td>Famous Chocolate Wafers</td>\n",
       "      <td>61</td>\n",
       "      <td>19</td>\n",
       "      <td>6.0</td>\n",
       "    </tr>\n",
       "  </tbody>\n",
       "</table>\n",
       "<p>6264 rows × 5 columns</p>\n",
       "</div>"
      ],
      "text/plain": [
       "       product_id                                   product_name  aisle_id  \\\n",
       "0               1                     Chocolate Sandwich Cookies        61   \n",
       "15             16                  Mint Chocolate Flavored Syrup       103   \n",
       "24             25        Salted Caramel Lean Protein & Fiber Bar         3   \n",
       "31             32                  Nacho Cheese White Bean Chips       107   \n",
       "40             41    Organic Sourdough Einkorn Crackers Rosemary        78   \n",
       "...           ...                                            ...       ...   \n",
       "49666       49662                   Bacon Cheddar Pretzel Pieces       107   \n",
       "49669       49665  Super Dark Coconut Ash & Banana Chocolate Bar        45   \n",
       "49670       49666                  Ginger Snaps Snacking Cookies        61   \n",
       "49675       49671                           Milk Chocolate Drops        45   \n",
       "49683       49679                        Famous Chocolate Wafers        61   \n",
       "\n",
       "       department_id  prices  \n",
       "0                 19     5.8  \n",
       "15                19     5.2  \n",
       "24                19     1.9  \n",
       "31                19     4.9  \n",
       "40                19     6.5  \n",
       "...              ...     ...  \n",
       "49666             19     3.6  \n",
       "49669             19     6.9  \n",
       "49670             19     5.2  \n",
       "49675             19     3.0  \n",
       "49683             19     6.0  \n",
       "\n",
       "[6264 rows x 5 columns]"
      ]
     },
     "execution_count": 45,
     "metadata": {},
     "output_type": "execute_result"
    }
   ],
   "source": [
    "df_snacks_3"
   ]
  },
  {
   "cell_type": "markdown",
   "id": "f1ebcd24-92a9-485e-b8e2-162f981a07cb",
   "metadata": {},
   "source": [
    "# BEGINNING TASK 4.4."
   ]
  },
  {
   "cell_type": "markdown",
   "id": "090d9c5d-8993-4fe1-b372-e9396250fbfa",
   "metadata": {},
   "source": [
    "## Step 2:  Find another identifier variable in the df_ords dataframe that doesn’t need to be included in your analysis as a numeric variable and change it to a suitable format."
   ]
  },
  {
   "cell_type": "code",
   "execution_count": 46,
   "id": "cc578091-bcc7-4951-9f8e-18fffa71c67e",
   "metadata": {
    "execution": {
     "iopub.execute_input": "2023-04-25T12:38:39.004962Z",
     "iopub.status.busy": "2023-04-25T12:38:39.004649Z",
     "iopub.status.idle": "2023-04-25T12:38:39.010521Z",
     "shell.execute_reply": "2023-04-25T12:38:39.009841Z",
     "shell.execute_reply.started": "2023-04-25T12:38:39.004938Z"
    }
   },
   "outputs": [
    {
     "data": {
      "text/plain": [
       "order_id                   object\n",
       "user_id                     int64\n",
       "order_number                int64\n",
       "orders_day_of_week          int64\n",
       "order_hour_of_day           int64\n",
       "days_since_prior_order    float64\n",
       "dtype: object"
      ]
     },
     "execution_count": 46,
     "metadata": {},
     "output_type": "execute_result"
    }
   ],
   "source": [
    "df_ords.dtypes"
   ]
  },
  {
   "cell_type": "code",
   "execution_count": 47,
   "id": "2e2e4d5d-7b9a-471c-80e3-12f42ef3e2a7",
   "metadata": {
    "execution": {
     "iopub.execute_input": "2023-04-25T12:38:39.014246Z",
     "iopub.status.busy": "2023-04-25T12:38:39.013482Z",
     "iopub.status.idle": "2023-04-25T12:38:39.026708Z",
     "shell.execute_reply": "2023-04-25T12:38:39.025807Z",
     "shell.execute_reply.started": "2023-04-25T12:38:39.014200Z"
    }
   },
   "outputs": [
    {
     "data": {
      "text/html": [
       "<div>\n",
       "<style scoped>\n",
       "    .dataframe tbody tr th:only-of-type {\n",
       "        vertical-align: middle;\n",
       "    }\n",
       "\n",
       "    .dataframe tbody tr th {\n",
       "        vertical-align: top;\n",
       "    }\n",
       "\n",
       "    .dataframe thead th {\n",
       "        text-align: right;\n",
       "    }\n",
       "</style>\n",
       "<table border=\"1\" class=\"dataframe\">\n",
       "  <thead>\n",
       "    <tr style=\"text-align: right;\">\n",
       "      <th></th>\n",
       "      <th>order_id</th>\n",
       "      <th>user_id</th>\n",
       "      <th>order_number</th>\n",
       "      <th>orders_day_of_week</th>\n",
       "      <th>order_hour_of_day</th>\n",
       "      <th>days_since_prior_order</th>\n",
       "    </tr>\n",
       "  </thead>\n",
       "  <tbody>\n",
       "    <tr>\n",
       "      <th>0</th>\n",
       "      <td>2539329</td>\n",
       "      <td>1</td>\n",
       "      <td>1</td>\n",
       "      <td>2</td>\n",
       "      <td>8</td>\n",
       "      <td>NaN</td>\n",
       "    </tr>\n",
       "    <tr>\n",
       "      <th>1</th>\n",
       "      <td>2398795</td>\n",
       "      <td>1</td>\n",
       "      <td>2</td>\n",
       "      <td>3</td>\n",
       "      <td>7</td>\n",
       "      <td>15.0</td>\n",
       "    </tr>\n",
       "    <tr>\n",
       "      <th>2</th>\n",
       "      <td>473747</td>\n",
       "      <td>1</td>\n",
       "      <td>3</td>\n",
       "      <td>3</td>\n",
       "      <td>12</td>\n",
       "      <td>21.0</td>\n",
       "    </tr>\n",
       "    <tr>\n",
       "      <th>3</th>\n",
       "      <td>2254736</td>\n",
       "      <td>1</td>\n",
       "      <td>4</td>\n",
       "      <td>4</td>\n",
       "      <td>7</td>\n",
       "      <td>29.0</td>\n",
       "    </tr>\n",
       "    <tr>\n",
       "      <th>4</th>\n",
       "      <td>431534</td>\n",
       "      <td>1</td>\n",
       "      <td>5</td>\n",
       "      <td>4</td>\n",
       "      <td>15</td>\n",
       "      <td>28.0</td>\n",
       "    </tr>\n",
       "  </tbody>\n",
       "</table>\n",
       "</div>"
      ],
      "text/plain": [
       "  order_id  user_id  order_number  orders_day_of_week  order_hour_of_day  \\\n",
       "0  2539329        1             1                   2                  8   \n",
       "1  2398795        1             2                   3                  7   \n",
       "2   473747        1             3                   3                 12   \n",
       "3  2254736        1             4                   4                  7   \n",
       "4   431534        1             5                   4                 15   \n",
       "\n",
       "   days_since_prior_order  \n",
       "0                     NaN  \n",
       "1                    15.0  \n",
       "2                    21.0  \n",
       "3                    29.0  \n",
       "4                    28.0  "
      ]
     },
     "execution_count": 47,
     "metadata": {},
     "output_type": "execute_result"
    }
   ],
   "source": [
    "df_ords.head()"
   ]
  },
  {
   "cell_type": "code",
   "execution_count": 48,
   "id": "ec24e47a-cbb5-4370-ac6d-8bfc8fe291ad",
   "metadata": {
    "execution": {
     "iopub.execute_input": "2023-04-25T12:38:39.029325Z",
     "iopub.status.busy": "2023-04-25T12:38:39.028494Z",
     "iopub.status.idle": "2023-04-25T12:38:39.034017Z",
     "shell.execute_reply": "2023-04-25T12:38:39.033069Z",
     "shell.execute_reply.started": "2023-04-25T12:38:39.029282Z"
    }
   },
   "outputs": [],
   "source": [
    "# I supposed user_id doesn't HAVE to be a numeric value."
   ]
  },
  {
   "cell_type": "code",
   "execution_count": 49,
   "id": "13d1a89f-03b2-4a0e-b574-ea114948dc59",
   "metadata": {
    "execution": {
     "iopub.execute_input": "2023-04-25T12:38:39.036237Z",
     "iopub.status.busy": "2023-04-25T12:38:39.035450Z",
     "iopub.status.idle": "2023-04-25T12:38:40.752261Z",
     "shell.execute_reply": "2023-04-25T12:38:40.751538Z",
     "shell.execute_reply.started": "2023-04-25T12:38:39.036027Z"
    }
   },
   "outputs": [],
   "source": [
    "df_ords['user_id'] = df_ords['user_id'].astype('str')"
   ]
  },
  {
   "cell_type": "code",
   "execution_count": 50,
   "id": "1cdfb02c-a346-4255-ba12-5945f23b6816",
   "metadata": {
    "execution": {
     "iopub.execute_input": "2023-04-25T12:38:40.753747Z",
     "iopub.status.busy": "2023-04-25T12:38:40.753560Z",
     "iopub.status.idle": "2023-04-25T12:38:40.760632Z",
     "shell.execute_reply": "2023-04-25T12:38:40.759782Z",
     "shell.execute_reply.started": "2023-04-25T12:38:40.753724Z"
    }
   },
   "outputs": [
    {
     "data": {
      "text/plain": [
       "order_id                   object\n",
       "user_id                    object\n",
       "order_number                int64\n",
       "orders_day_of_week          int64\n",
       "order_hour_of_day           int64\n",
       "days_since_prior_order    float64\n",
       "dtype: object"
      ]
     },
     "execution_count": 50,
     "metadata": {},
     "output_type": "execute_result"
    }
   ],
   "source": [
    "df_ords.dtypes"
   ]
  },
  {
   "cell_type": "markdown",
   "id": "9dd3fe1c-2785-494b-8fcd-cd07d0073799",
   "metadata": {},
   "source": [
    "# Step 3:  Look for a variable in your df_ords dataframe with an unintuitive name and change its name without overwriting the data frame."
   ]
  },
  {
   "cell_type": "markdown",
   "id": "054f4dc3-4873-4c76-8e59-3706660c3a5f",
   "metadata": {},
   "source": [
    "### The instruction is a little vague, I think.  Does the phrase, \"without overwriting the data frame,\" mean, \"without altering the original dataframe,\" or does it mean, \"without clobbering the original dataframe in its entirety?\"  Based on the posted example submissions, I think it means the former, i.e. in place (\"inplace = True\")."
   ]
  },
  {
   "cell_type": "code",
   "execution_count": 51,
   "id": "8932b007-0b4d-476f-b5d5-a11a165c0244",
   "metadata": {
    "execution": {
     "iopub.execute_input": "2023-04-25T12:38:40.761692Z",
     "iopub.status.busy": "2023-04-25T12:38:40.761495Z",
     "iopub.status.idle": "2023-04-25T12:38:40.766241Z",
     "shell.execute_reply": "2023-04-25T12:38:40.765337Z",
     "shell.execute_reply.started": "2023-04-25T12:38:40.761668Z"
    }
   },
   "outputs": [],
   "source": [
    "# Presumably users are customers, not employees, but I admit I'm guessing here."
   ]
  },
  {
   "cell_type": "code",
   "execution_count": 52,
   "id": "660340f0-ec76-499d-81d4-afc49da5da7e",
   "metadata": {
    "execution": {
     "iopub.execute_input": "2023-04-25T12:38:40.768170Z",
     "iopub.status.busy": "2023-04-25T12:38:40.767377Z",
     "iopub.status.idle": "2023-04-25T12:38:40.773818Z",
     "shell.execute_reply": "2023-04-25T12:38:40.772852Z",
     "shell.execute_reply.started": "2023-04-25T12:38:40.768144Z"
    }
   },
   "outputs": [],
   "source": [
    "df_ords.rename(columns = {'user_id' : 'customer_id'}, inplace = True)"
   ]
  },
  {
   "cell_type": "code",
   "execution_count": 53,
   "id": "f7e65126-4932-45a0-ac65-0a1a39d59ad4",
   "metadata": {
    "execution": {
     "iopub.execute_input": "2023-04-25T12:38:40.775513Z",
     "iopub.status.busy": "2023-04-25T12:38:40.775228Z",
     "iopub.status.idle": "2023-04-25T12:38:40.788386Z",
     "shell.execute_reply": "2023-04-25T12:38:40.786608Z",
     "shell.execute_reply.started": "2023-04-25T12:38:40.775480Z"
    }
   },
   "outputs": [
    {
     "data": {
      "text/html": [
       "<div>\n",
       "<style scoped>\n",
       "    .dataframe tbody tr th:only-of-type {\n",
       "        vertical-align: middle;\n",
       "    }\n",
       "\n",
       "    .dataframe tbody tr th {\n",
       "        vertical-align: top;\n",
       "    }\n",
       "\n",
       "    .dataframe thead th {\n",
       "        text-align: right;\n",
       "    }\n",
       "</style>\n",
       "<table border=\"1\" class=\"dataframe\">\n",
       "  <thead>\n",
       "    <tr style=\"text-align: right;\">\n",
       "      <th></th>\n",
       "      <th>order_id</th>\n",
       "      <th>customer_id</th>\n",
       "      <th>order_number</th>\n",
       "      <th>orders_day_of_week</th>\n",
       "      <th>order_hour_of_day</th>\n",
       "      <th>days_since_prior_order</th>\n",
       "    </tr>\n",
       "  </thead>\n",
       "  <tbody>\n",
       "    <tr>\n",
       "      <th>0</th>\n",
       "      <td>2539329</td>\n",
       "      <td>1</td>\n",
       "      <td>1</td>\n",
       "      <td>2</td>\n",
       "      <td>8</td>\n",
       "      <td>NaN</td>\n",
       "    </tr>\n",
       "    <tr>\n",
       "      <th>1</th>\n",
       "      <td>2398795</td>\n",
       "      <td>1</td>\n",
       "      <td>2</td>\n",
       "      <td>3</td>\n",
       "      <td>7</td>\n",
       "      <td>15.0</td>\n",
       "    </tr>\n",
       "    <tr>\n",
       "      <th>2</th>\n",
       "      <td>473747</td>\n",
       "      <td>1</td>\n",
       "      <td>3</td>\n",
       "      <td>3</td>\n",
       "      <td>12</td>\n",
       "      <td>21.0</td>\n",
       "    </tr>\n",
       "    <tr>\n",
       "      <th>3</th>\n",
       "      <td>2254736</td>\n",
       "      <td>1</td>\n",
       "      <td>4</td>\n",
       "      <td>4</td>\n",
       "      <td>7</td>\n",
       "      <td>29.0</td>\n",
       "    </tr>\n",
       "    <tr>\n",
       "      <th>4</th>\n",
       "      <td>431534</td>\n",
       "      <td>1</td>\n",
       "      <td>5</td>\n",
       "      <td>4</td>\n",
       "      <td>15</td>\n",
       "      <td>28.0</td>\n",
       "    </tr>\n",
       "  </tbody>\n",
       "</table>\n",
       "</div>"
      ],
      "text/plain": [
       "  order_id customer_id  order_number  orders_day_of_week  order_hour_of_day  \\\n",
       "0  2539329           1             1                   2                  8   \n",
       "1  2398795           1             2                   3                  7   \n",
       "2   473747           1             3                   3                 12   \n",
       "3  2254736           1             4                   4                  7   \n",
       "4   431534           1             5                   4                 15   \n",
       "\n",
       "   days_since_prior_order  \n",
       "0                     NaN  \n",
       "1                    15.0  \n",
       "2                    21.0  \n",
       "3                    29.0  \n",
       "4                    28.0  "
      ]
     },
     "execution_count": 53,
     "metadata": {},
     "output_type": "execute_result"
    }
   ],
   "source": [
    "df_ords.head()"
   ]
  },
  {
   "cell_type": "markdown",
   "id": "dcc367de-b90d-4cad-a56b-d1260bfe1f0a",
   "metadata": {},
   "source": [
    "# Step 4:  Your client wants to know what the busiest hour is for placing orders. Find the frequency of the corresponding variable and share your findings."
   ]
  },
  {
   "cell_type": "code",
   "execution_count": 54,
   "id": "51514315-2ed3-485d-b060-86674e9c4361",
   "metadata": {
    "execution": {
     "iopub.execute_input": "2023-04-25T12:38:40.789639Z",
     "iopub.status.busy": "2023-04-25T12:38:40.789446Z",
     "iopub.status.idle": "2023-04-25T12:38:40.793281Z",
     "shell.execute_reply": "2023-04-25T12:38:40.792377Z",
     "shell.execute_reply.started": "2023-04-25T12:38:40.789616Z"
    }
   },
   "outputs": [],
   "source": [
    "# Hour 10 is the busiest hour of the day, with 288,418 orders."
   ]
  },
  {
   "cell_type": "code",
   "execution_count": 55,
   "id": "a03d5b72-d214-4ce5-8857-0907660109a6",
   "metadata": {
    "execution": {
     "iopub.execute_input": "2023-04-25T12:38:40.794495Z",
     "iopub.status.busy": "2023-04-25T12:38:40.794300Z",
     "iopub.status.idle": "2023-04-25T12:38:40.822216Z",
     "shell.execute_reply": "2023-04-25T12:38:40.821617Z",
     "shell.execute_reply.started": "2023-04-25T12:38:40.794460Z"
    }
   },
   "outputs": [
    {
     "data": {
      "text/plain": [
       "10    288418\n",
       "11    284728\n",
       "15    283639\n",
       "14    283042\n",
       "13    277999\n",
       "12    272841\n",
       "16    272553\n",
       "9     257812\n",
       "17    228795\n",
       "18    182912\n",
       "8     178201\n",
       "19    140569\n",
       "20    104292\n",
       "7      91868\n",
       "21     78109\n",
       "22     61468\n",
       "23     40043\n",
       "6      30529\n",
       "0      22758\n",
       "1      12398\n",
       "5       9569\n",
       "2       7539\n",
       "4       5527\n",
       "3       5474\n",
       "Name: order_hour_of_day, dtype: int64"
      ]
     },
     "execution_count": 55,
     "metadata": {},
     "output_type": "execute_result"
    }
   ],
   "source": [
    "df_ords['order_hour_of_day'].value_counts(dropna = False)"
   ]
  },
  {
   "cell_type": "markdown",
   "id": "8b6ff1c1-0e9e-4c33-9d9e-5b74fc7a302f",
   "metadata": {},
   "source": [
    "# Step 5:  Determine the meaning behind a value of 4 in the \"department_id\" column within the df_prods dataframe using a data dictionary."
   ]
  },
  {
   "cell_type": "code",
   "execution_count": 56,
   "id": "14fb39e7-19d0-455c-8203-9a06de9dbeed",
   "metadata": {
    "execution": {
     "iopub.execute_input": "2023-04-25T12:38:40.823848Z",
     "iopub.status.busy": "2023-04-25T12:38:40.823235Z",
     "iopub.status.idle": "2023-04-25T12:38:40.826895Z",
     "shell.execute_reply": "2023-04-25T12:38:40.826267Z",
     "shell.execute_reply.started": "2023-04-25T12:38:40.823818Z"
    }
   },
   "outputs": [],
   "source": [
    "# It is the 'produce' department."
   ]
  },
  {
   "cell_type": "code",
   "execution_count": 57,
   "id": "fd7e14f6-29c4-4e36-885b-98fdd5db2b45",
   "metadata": {
    "execution": {
     "iopub.execute_input": "2023-04-25T12:38:40.828400Z",
     "iopub.status.busy": "2023-04-25T12:38:40.828086Z",
     "iopub.status.idle": "2023-04-25T12:38:40.838389Z",
     "shell.execute_reply": "2023-04-25T12:38:40.837563Z",
     "shell.execute_reply.started": "2023-04-25T12:38:40.828372Z"
    }
   },
   "outputs": [
    {
     "name": "stdout",
     "output_type": "stream",
     "text": [
      "{'department': 'produce'}\n"
     ]
    }
   ],
   "source": [
    "print(data_dict.get('4'))"
   ]
  },
  {
   "cell_type": "markdown",
   "id": "c632f6ba-c3a3-401f-87ef-189a3c8e7fda",
   "metadata": {},
   "source": [
    "# Step 6:  The sales team in your client’s organization wants to know more about breakfast item sales. Create a subset containing only the required information."
   ]
  },
  {
   "cell_type": "code",
   "execution_count": 58,
   "id": "d42dbddd-1914-49f9-8e3d-e414c258e2a1",
   "metadata": {
    "execution": {
     "iopub.execute_input": "2023-04-25T12:38:40.839587Z",
     "iopub.status.busy": "2023-04-25T12:38:40.839387Z",
     "iopub.status.idle": "2023-04-25T12:38:40.844704Z",
     "shell.execute_reply": "2023-04-25T12:38:40.843983Z",
     "shell.execute_reply.started": "2023-04-25T12:38:40.839563Z"
    }
   },
   "outputs": [],
   "source": [
    "df_breakfast =  df_prods[df_prods['department_id']==14]"
   ]
  },
  {
   "cell_type": "code",
   "execution_count": 59,
   "id": "74c3d024-57a8-4bcb-85d7-b5b0127efdc4",
   "metadata": {
    "execution": {
     "iopub.execute_input": "2023-04-25T12:38:40.845787Z",
     "iopub.status.busy": "2023-04-25T12:38:40.845593Z",
     "iopub.status.idle": "2023-04-25T12:38:40.862842Z",
     "shell.execute_reply": "2023-04-25T12:38:40.862088Z",
     "shell.execute_reply.started": "2023-04-25T12:38:40.845763Z"
    }
   },
   "outputs": [
    {
     "data": {
      "text/html": [
       "<div>\n",
       "<style scoped>\n",
       "    .dataframe tbody tr th:only-of-type {\n",
       "        vertical-align: middle;\n",
       "    }\n",
       "\n",
       "    .dataframe tbody tr th {\n",
       "        vertical-align: top;\n",
       "    }\n",
       "\n",
       "    .dataframe thead th {\n",
       "        text-align: right;\n",
       "    }\n",
       "</style>\n",
       "<table border=\"1\" class=\"dataframe\">\n",
       "  <thead>\n",
       "    <tr style=\"text-align: right;\">\n",
       "      <th></th>\n",
       "      <th>product_id</th>\n",
       "      <th>product_name</th>\n",
       "      <th>aisle_id</th>\n",
       "      <th>department_id</th>\n",
       "      <th>prices</th>\n",
       "    </tr>\n",
       "  </thead>\n",
       "  <tbody>\n",
       "    <tr>\n",
       "      <th>27</th>\n",
       "      <td>28</td>\n",
       "      <td>Wheat Chex Cereal</td>\n",
       "      <td>121</td>\n",
       "      <td>14</td>\n",
       "      <td>10.1</td>\n",
       "    </tr>\n",
       "    <tr>\n",
       "      <th>33</th>\n",
       "      <td>34</td>\n",
       "      <td>NaN</td>\n",
       "      <td>121</td>\n",
       "      <td>14</td>\n",
       "      <td>12.2</td>\n",
       "    </tr>\n",
       "    <tr>\n",
       "      <th>67</th>\n",
       "      <td>68</td>\n",
       "      <td>Pancake Mix, Buttermilk</td>\n",
       "      <td>130</td>\n",
       "      <td>14</td>\n",
       "      <td>13.7</td>\n",
       "    </tr>\n",
       "    <tr>\n",
       "      <th>89</th>\n",
       "      <td>90</td>\n",
       "      <td>Smorz Cereal</td>\n",
       "      <td>121</td>\n",
       "      <td>14</td>\n",
       "      <td>3.9</td>\n",
       "    </tr>\n",
       "    <tr>\n",
       "      <th>210</th>\n",
       "      <td>211</td>\n",
       "      <td>Gluten Free Organic Cereal Coconut Maple Vanilla</td>\n",
       "      <td>130</td>\n",
       "      <td>14</td>\n",
       "      <td>3.6</td>\n",
       "    </tr>\n",
       "    <tr>\n",
       "      <th>...</th>\n",
       "      <td>...</td>\n",
       "      <td>...</td>\n",
       "      <td>...</td>\n",
       "      <td>...</td>\n",
       "      <td>...</td>\n",
       "    </tr>\n",
       "    <tr>\n",
       "      <th>49330</th>\n",
       "      <td>49326</td>\n",
       "      <td>Cereal Variety Fun Pack</td>\n",
       "      <td>121</td>\n",
       "      <td>14</td>\n",
       "      <td>9.1</td>\n",
       "    </tr>\n",
       "    <tr>\n",
       "      <th>49395</th>\n",
       "      <td>49391</td>\n",
       "      <td>Light and Fluffy Buttermilk Pancake Mix</td>\n",
       "      <td>130</td>\n",
       "      <td>14</td>\n",
       "      <td>2.0</td>\n",
       "    </tr>\n",
       "    <tr>\n",
       "      <th>49547</th>\n",
       "      <td>49543</td>\n",
       "      <td>Chocolate Cheerios Cereal</td>\n",
       "      <td>121</td>\n",
       "      <td>14</td>\n",
       "      <td>10.8</td>\n",
       "    </tr>\n",
       "    <tr>\n",
       "      <th>49637</th>\n",
       "      <td>49633</td>\n",
       "      <td>Shake 'N Pour Buttermilk Pancake Mix</td>\n",
       "      <td>130</td>\n",
       "      <td>14</td>\n",
       "      <td>14.2</td>\n",
       "    </tr>\n",
       "    <tr>\n",
       "      <th>49667</th>\n",
       "      <td>49663</td>\n",
       "      <td>Ultra Protein Power Crunch Peanut Butter N' Ho...</td>\n",
       "      <td>57</td>\n",
       "      <td>14</td>\n",
       "      <td>10.2</td>\n",
       "    </tr>\n",
       "  </tbody>\n",
       "</table>\n",
       "<p>1116 rows × 5 columns</p>\n",
       "</div>"
      ],
      "text/plain": [
       "       product_id                                       product_name  \\\n",
       "27             28                                  Wheat Chex Cereal   \n",
       "33             34                                                NaN   \n",
       "67             68                            Pancake Mix, Buttermilk   \n",
       "89             90                                       Smorz Cereal   \n",
       "210           211   Gluten Free Organic Cereal Coconut Maple Vanilla   \n",
       "...           ...                                                ...   \n",
       "49330       49326                            Cereal Variety Fun Pack   \n",
       "49395       49391            Light and Fluffy Buttermilk Pancake Mix   \n",
       "49547       49543                          Chocolate Cheerios Cereal   \n",
       "49637       49633               Shake 'N Pour Buttermilk Pancake Mix   \n",
       "49667       49663  Ultra Protein Power Crunch Peanut Butter N' Ho...   \n",
       "\n",
       "       aisle_id  department_id  prices  \n",
       "27          121             14    10.1  \n",
       "33          121             14    12.2  \n",
       "67          130             14    13.7  \n",
       "89          121             14     3.9  \n",
       "210         130             14     3.6  \n",
       "...         ...            ...     ...  \n",
       "49330       121             14     9.1  \n",
       "49395       130             14     2.0  \n",
       "49547       121             14    10.8  \n",
       "49637       130             14    14.2  \n",
       "49667        57             14    10.2  \n",
       "\n",
       "[1116 rows x 5 columns]"
      ]
     },
     "execution_count": 59,
     "metadata": {},
     "output_type": "execute_result"
    }
   ],
   "source": [
    "df_breakfast"
   ]
  },
  {
   "cell_type": "markdown",
   "id": "c7822793-c0c6-427e-96c1-45cfc601db92",
   "metadata": {},
   "source": [
    "# Step 7:  They’d also like to see details about customers who might be throwing dinner parties. Your task is to find all observations from the entire dataframe that include items from the following departments: alcohol, deli, beverages, and meat/seafood. You’ll need to present this subset to your client."
   ]
  },
  {
   "cell_type": "code",
   "execution_count": 60,
   "id": "72bff112-cd44-49dc-b127-7c9aeda2e21c",
   "metadata": {
    "execution": {
     "iopub.execute_input": "2023-04-25T12:38:40.864199Z",
     "iopub.status.busy": "2023-04-25T12:38:40.863984Z",
     "iopub.status.idle": "2023-04-25T12:38:40.867613Z",
     "shell.execute_reply": "2023-04-25T12:38:40.866883Z",
     "shell.execute_reply.started": "2023-04-25T12:38:40.864175Z"
    }
   },
   "outputs": [],
   "source": [
    "# Look up the departments to get their department IDs."
   ]
  },
  {
   "cell_type": "code",
   "execution_count": 61,
   "id": "bddf3804-ac94-4fec-a7f3-63d1edaf3892",
   "metadata": {
    "execution": {
     "iopub.execute_input": "2023-04-25T12:38:40.869180Z",
     "iopub.status.busy": "2023-04-25T12:38:40.868910Z",
     "iopub.status.idle": "2023-04-25T12:38:40.878668Z",
     "shell.execute_reply": "2023-04-25T12:38:40.877652Z",
     "shell.execute_reply.started": "2023-04-25T12:38:40.869152Z"
    }
   },
   "outputs": [
    {
     "data": {
      "text/html": [
       "<div>\n",
       "<style scoped>\n",
       "    .dataframe tbody tr th:only-of-type {\n",
       "        vertical-align: middle;\n",
       "    }\n",
       "\n",
       "    .dataframe tbody tr th {\n",
       "        vertical-align: top;\n",
       "    }\n",
       "\n",
       "    .dataframe thead th {\n",
       "        text-align: right;\n",
       "    }\n",
       "</style>\n",
       "<table border=\"1\" class=\"dataframe\">\n",
       "  <thead>\n",
       "    <tr style=\"text-align: right;\">\n",
       "      <th>department_id</th>\n",
       "      <th>department</th>\n",
       "    </tr>\n",
       "  </thead>\n",
       "  <tbody>\n",
       "    <tr>\n",
       "      <th>5</th>\n",
       "      <td>alcohol</td>\n",
       "    </tr>\n",
       "    <tr>\n",
       "      <th>7</th>\n",
       "      <td>beverages</td>\n",
       "    </tr>\n",
       "    <tr>\n",
       "      <th>12</th>\n",
       "      <td>meat seafood</td>\n",
       "    </tr>\n",
       "    <tr>\n",
       "      <th>20</th>\n",
       "      <td>deli</td>\n",
       "    </tr>\n",
       "  </tbody>\n",
       "</table>\n",
       "</div>"
      ],
      "text/plain": [
       "department_id    department\n",
       "5                   alcohol\n",
       "7                 beverages\n",
       "12             meat seafood\n",
       "20                     deli"
      ]
     },
     "execution_count": 61,
     "metadata": {},
     "output_type": "execute_result"
    }
   ],
   "source": [
    "df_dep_t_new.loc[df_dep_t_new['department'].isin(['alcohol','deli','beverages','meat seafood'])]"
   ]
  },
  {
   "cell_type": "code",
   "execution_count": 62,
   "id": "409a8a76-42bb-4ebf-a5f9-61b1098fbd5c",
   "metadata": {
    "execution": {
     "iopub.execute_input": "2023-04-25T12:38:40.880717Z",
     "iopub.status.busy": "2023-04-25T12:38:40.879839Z",
     "iopub.status.idle": "2023-04-25T12:38:40.887250Z",
     "shell.execute_reply": "2023-04-25T12:38:40.885939Z",
     "shell.execute_reply.started": "2023-04-25T12:38:40.880685Z"
    }
   },
   "outputs": [],
   "source": [
    "df_soiree = df_prods.loc[df_prods['department_id'].isin([5,7,12,20])]"
   ]
  },
  {
   "cell_type": "code",
   "execution_count": 63,
   "id": "afe01f2c-333b-4ccc-ab9a-17b5dc565e4d",
   "metadata": {
    "execution": {
     "iopub.execute_input": "2023-04-25T12:38:40.888689Z",
     "iopub.status.busy": "2023-04-25T12:38:40.888369Z",
     "iopub.status.idle": "2023-04-25T12:38:40.899939Z",
     "shell.execute_reply": "2023-04-25T12:38:40.899025Z",
     "shell.execute_reply.started": "2023-04-25T12:38:40.888662Z"
    }
   },
   "outputs": [
    {
     "data": {
      "text/html": [
       "<div>\n",
       "<style scoped>\n",
       "    .dataframe tbody tr th:only-of-type {\n",
       "        vertical-align: middle;\n",
       "    }\n",
       "\n",
       "    .dataframe tbody tr th {\n",
       "        vertical-align: top;\n",
       "    }\n",
       "\n",
       "    .dataframe thead th {\n",
       "        text-align: right;\n",
       "    }\n",
       "</style>\n",
       "<table border=\"1\" class=\"dataframe\">\n",
       "  <thead>\n",
       "    <tr style=\"text-align: right;\">\n",
       "      <th></th>\n",
       "      <th>product_id</th>\n",
       "      <th>product_name</th>\n",
       "      <th>aisle_id</th>\n",
       "      <th>department_id</th>\n",
       "      <th>prices</th>\n",
       "    </tr>\n",
       "  </thead>\n",
       "  <tbody>\n",
       "    <tr>\n",
       "      <th>2</th>\n",
       "      <td>3</td>\n",
       "      <td>Robust Golden Unsweetened Oolong Tea</td>\n",
       "      <td>94</td>\n",
       "      <td>7</td>\n",
       "      <td>4.5</td>\n",
       "    </tr>\n",
       "    <tr>\n",
       "      <th>6</th>\n",
       "      <td>7</td>\n",
       "      <td>Pure Coconut Water With Orange</td>\n",
       "      <td>98</td>\n",
       "      <td>7</td>\n",
       "      <td>4.4</td>\n",
       "    </tr>\n",
       "    <tr>\n",
       "      <th>9</th>\n",
       "      <td>10</td>\n",
       "      <td>Sparkling Orange Juice &amp; Prickly Pear Beverage</td>\n",
       "      <td>115</td>\n",
       "      <td>7</td>\n",
       "      <td>8.4</td>\n",
       "    </tr>\n",
       "    <tr>\n",
       "      <th>10</th>\n",
       "      <td>11</td>\n",
       "      <td>Peach Mango Juice</td>\n",
       "      <td>31</td>\n",
       "      <td>7</td>\n",
       "      <td>2.8</td>\n",
       "    </tr>\n",
       "    <tr>\n",
       "      <th>16</th>\n",
       "      <td>17</td>\n",
       "      <td>Rendered Duck Fat</td>\n",
       "      <td>35</td>\n",
       "      <td>12</td>\n",
       "      <td>17.1</td>\n",
       "    </tr>\n",
       "  </tbody>\n",
       "</table>\n",
       "</div>"
      ],
      "text/plain": [
       "    product_id                                    product_name  aisle_id  \\\n",
       "2            3            Robust Golden Unsweetened Oolong Tea        94   \n",
       "6            7                  Pure Coconut Water With Orange        98   \n",
       "9           10  Sparkling Orange Juice & Prickly Pear Beverage       115   \n",
       "10          11                               Peach Mango Juice        31   \n",
       "16          17                               Rendered Duck Fat        35   \n",
       "\n",
       "    department_id  prices  \n",
       "2               7     4.5  \n",
       "6               7     4.4  \n",
       "9               7     8.4  \n",
       "10              7     2.8  \n",
       "16             12    17.1  "
      ]
     },
     "execution_count": 63,
     "metadata": {},
     "output_type": "execute_result"
    }
   ],
   "source": [
    "df_soiree.head()"
   ]
  },
  {
   "cell_type": "markdown",
   "id": "654fe017-f645-4359-8fbf-a6151b97584a",
   "metadata": {},
   "source": [
    "# Step 8:  It’s important that you keep track of total counts in your dataframes. How many rows does the last dataframe you created have?"
   ]
  },
  {
   "cell_type": "code",
   "execution_count": 64,
   "id": "690355f0-a530-45c7-8fcb-532db16265e0",
   "metadata": {
    "execution": {
     "iopub.execute_input": "2023-04-25T12:38:40.901498Z",
     "iopub.status.busy": "2023-04-25T12:38:40.901276Z",
     "iopub.status.idle": "2023-04-25T12:38:40.904981Z",
     "shell.execute_reply": "2023-04-25T12:38:40.904363Z",
     "shell.execute_reply.started": "2023-04-25T12:38:40.901474Z"
    }
   },
   "outputs": [],
   "source": [
    "# df_soiree has 7,650 rows, although some of them lack values for the product_name column."
   ]
  },
  {
   "cell_type": "code",
   "execution_count": 65,
   "id": "8c65dc80-27da-4f8b-8196-794149e749e1",
   "metadata": {
    "execution": {
     "iopub.execute_input": "2023-04-25T12:38:40.906438Z",
     "iopub.status.busy": "2023-04-25T12:38:40.906110Z",
     "iopub.status.idle": "2023-04-25T12:38:40.916965Z",
     "shell.execute_reply": "2023-04-25T12:38:40.916077Z",
     "shell.execute_reply.started": "2023-04-25T12:38:40.906413Z"
    }
   },
   "outputs": [
    {
     "data": {
      "text/plain": [
       "product_id       7650\n",
       "product_name     7647\n",
       "aisle_id         7650\n",
       "department_id    7650\n",
       "prices           7650\n",
       "dtype: int64"
      ]
     },
     "execution_count": 65,
     "metadata": {},
     "output_type": "execute_result"
    }
   ],
   "source": [
    "df_soiree.count()"
   ]
  },
  {
   "cell_type": "markdown",
   "id": "6d0d656a-cbc1-43a6-8108-4cd77a7934ca",
   "metadata": {},
   "source": [
    "# Step 9:  Someone from the data engineers team in Instacart thinks they’ve spotted something strange about the customer with a \"user_id\" of “1.” Extract all the information you can about this user."
   ]
  },
  {
   "cell_type": "code",
   "execution_count": 66,
   "id": "9d5e6bd8-1d26-44f1-a0c3-e2b65a4f2caf",
   "metadata": {
    "execution": {
     "iopub.execute_input": "2023-04-25T12:38:40.919660Z",
     "iopub.status.busy": "2023-04-25T12:38:40.918813Z",
     "iopub.status.idle": "2023-04-25T12:38:41.355146Z",
     "shell.execute_reply": "2023-04-25T12:38:41.354370Z",
     "shell.execute_reply.started": "2023-04-25T12:38:40.919616Z"
    }
   },
   "outputs": [],
   "source": [
    "df_cust_one = df_ords[df_ords['customer_id']=='1']"
   ]
  },
  {
   "cell_type": "code",
   "execution_count": 67,
   "id": "f44e23b6-afd1-41e4-96df-e97dd65ac71c",
   "metadata": {
    "execution": {
     "iopub.execute_input": "2023-04-25T12:38:41.356399Z",
     "iopub.status.busy": "2023-04-25T12:38:41.356068Z",
     "iopub.status.idle": "2023-04-25T12:38:41.368524Z",
     "shell.execute_reply": "2023-04-25T12:38:41.367570Z",
     "shell.execute_reply.started": "2023-04-25T12:38:41.356374Z"
    }
   },
   "outputs": [
    {
     "data": {
      "text/html": [
       "<div>\n",
       "<style scoped>\n",
       "    .dataframe tbody tr th:only-of-type {\n",
       "        vertical-align: middle;\n",
       "    }\n",
       "\n",
       "    .dataframe tbody tr th {\n",
       "        vertical-align: top;\n",
       "    }\n",
       "\n",
       "    .dataframe thead th {\n",
       "        text-align: right;\n",
       "    }\n",
       "</style>\n",
       "<table border=\"1\" class=\"dataframe\">\n",
       "  <thead>\n",
       "    <tr style=\"text-align: right;\">\n",
       "      <th></th>\n",
       "      <th>order_id</th>\n",
       "      <th>customer_id</th>\n",
       "      <th>order_number</th>\n",
       "      <th>orders_day_of_week</th>\n",
       "      <th>order_hour_of_day</th>\n",
       "      <th>days_since_prior_order</th>\n",
       "    </tr>\n",
       "  </thead>\n",
       "  <tbody>\n",
       "    <tr>\n",
       "      <th>0</th>\n",
       "      <td>2539329</td>\n",
       "      <td>1</td>\n",
       "      <td>1</td>\n",
       "      <td>2</td>\n",
       "      <td>8</td>\n",
       "      <td>NaN</td>\n",
       "    </tr>\n",
       "    <tr>\n",
       "      <th>1</th>\n",
       "      <td>2398795</td>\n",
       "      <td>1</td>\n",
       "      <td>2</td>\n",
       "      <td>3</td>\n",
       "      <td>7</td>\n",
       "      <td>15.0</td>\n",
       "    </tr>\n",
       "    <tr>\n",
       "      <th>2</th>\n",
       "      <td>473747</td>\n",
       "      <td>1</td>\n",
       "      <td>3</td>\n",
       "      <td>3</td>\n",
       "      <td>12</td>\n",
       "      <td>21.0</td>\n",
       "    </tr>\n",
       "    <tr>\n",
       "      <th>3</th>\n",
       "      <td>2254736</td>\n",
       "      <td>1</td>\n",
       "      <td>4</td>\n",
       "      <td>4</td>\n",
       "      <td>7</td>\n",
       "      <td>29.0</td>\n",
       "    </tr>\n",
       "    <tr>\n",
       "      <th>4</th>\n",
       "      <td>431534</td>\n",
       "      <td>1</td>\n",
       "      <td>5</td>\n",
       "      <td>4</td>\n",
       "      <td>15</td>\n",
       "      <td>28.0</td>\n",
       "    </tr>\n",
       "    <tr>\n",
       "      <th>5</th>\n",
       "      <td>3367565</td>\n",
       "      <td>1</td>\n",
       "      <td>6</td>\n",
       "      <td>2</td>\n",
       "      <td>7</td>\n",
       "      <td>19.0</td>\n",
       "    </tr>\n",
       "    <tr>\n",
       "      <th>6</th>\n",
       "      <td>550135</td>\n",
       "      <td>1</td>\n",
       "      <td>7</td>\n",
       "      <td>1</td>\n",
       "      <td>9</td>\n",
       "      <td>20.0</td>\n",
       "    </tr>\n",
       "    <tr>\n",
       "      <th>7</th>\n",
       "      <td>3108588</td>\n",
       "      <td>1</td>\n",
       "      <td>8</td>\n",
       "      <td>1</td>\n",
       "      <td>14</td>\n",
       "      <td>14.0</td>\n",
       "    </tr>\n",
       "    <tr>\n",
       "      <th>8</th>\n",
       "      <td>2295261</td>\n",
       "      <td>1</td>\n",
       "      <td>9</td>\n",
       "      <td>1</td>\n",
       "      <td>16</td>\n",
       "      <td>0.0</td>\n",
       "    </tr>\n",
       "    <tr>\n",
       "      <th>9</th>\n",
       "      <td>2550362</td>\n",
       "      <td>1</td>\n",
       "      <td>10</td>\n",
       "      <td>4</td>\n",
       "      <td>8</td>\n",
       "      <td>30.0</td>\n",
       "    </tr>\n",
       "    <tr>\n",
       "      <th>10</th>\n",
       "      <td>1187899</td>\n",
       "      <td>1</td>\n",
       "      <td>11</td>\n",
       "      <td>4</td>\n",
       "      <td>8</td>\n",
       "      <td>14.0</td>\n",
       "    </tr>\n",
       "  </tbody>\n",
       "</table>\n",
       "</div>"
      ],
      "text/plain": [
       "   order_id customer_id  order_number  orders_day_of_week  order_hour_of_day  \\\n",
       "0   2539329           1             1                   2                  8   \n",
       "1   2398795           1             2                   3                  7   \n",
       "2    473747           1             3                   3                 12   \n",
       "3   2254736           1             4                   4                  7   \n",
       "4    431534           1             5                   4                 15   \n",
       "5   3367565           1             6                   2                  7   \n",
       "6    550135           1             7                   1                  9   \n",
       "7   3108588           1             8                   1                 14   \n",
       "8   2295261           1             9                   1                 16   \n",
       "9   2550362           1            10                   4                  8   \n",
       "10  1187899           1            11                   4                  8   \n",
       "\n",
       "    days_since_prior_order  \n",
       "0                      NaN  \n",
       "1                     15.0  \n",
       "2                     21.0  \n",
       "3                     29.0  \n",
       "4                     28.0  \n",
       "5                     19.0  \n",
       "6                     20.0  \n",
       "7                     14.0  \n",
       "8                      0.0  \n",
       "9                     30.0  \n",
       "10                    14.0  "
      ]
     },
     "execution_count": 67,
     "metadata": {},
     "output_type": "execute_result"
    }
   ],
   "source": [
    "df_cust_one"
   ]
  },
  {
   "cell_type": "markdown",
   "id": "29069854-97b5-43b9-9fb2-49c66bb756c0",
   "metadata": {},
   "source": [
    "# Step 10:  You also need to provide some details about this user’s behavior. What basic stats can you provide based on the information you have?"
   ]
  },
  {
   "cell_type": "code",
   "execution_count": 68,
   "id": "d20e31b0-4d1d-429e-8fe6-cedbf1eb213c",
   "metadata": {
    "execution": {
     "iopub.execute_input": "2023-04-25T12:38:41.370036Z",
     "iopub.status.busy": "2023-04-25T12:38:41.369727Z",
     "iopub.status.idle": "2023-04-25T12:38:41.390657Z",
     "shell.execute_reply": "2023-04-25T12:38:41.390054Z",
     "shell.execute_reply.started": "2023-04-25T12:38:41.370000Z"
    }
   },
   "outputs": [
    {
     "data": {
      "text/html": [
       "<div>\n",
       "<style scoped>\n",
       "    .dataframe tbody tr th:only-of-type {\n",
       "        vertical-align: middle;\n",
       "    }\n",
       "\n",
       "    .dataframe tbody tr th {\n",
       "        vertical-align: top;\n",
       "    }\n",
       "\n",
       "    .dataframe thead th {\n",
       "        text-align: right;\n",
       "    }\n",
       "</style>\n",
       "<table border=\"1\" class=\"dataframe\">\n",
       "  <thead>\n",
       "    <tr style=\"text-align: right;\">\n",
       "      <th></th>\n",
       "      <th>order_number</th>\n",
       "      <th>orders_day_of_week</th>\n",
       "      <th>order_hour_of_day</th>\n",
       "      <th>days_since_prior_order</th>\n",
       "    </tr>\n",
       "  </thead>\n",
       "  <tbody>\n",
       "    <tr>\n",
       "      <th>count</th>\n",
       "      <td>11.000000</td>\n",
       "      <td>11.000000</td>\n",
       "      <td>11.000000</td>\n",
       "      <td>10.000000</td>\n",
       "    </tr>\n",
       "    <tr>\n",
       "      <th>mean</th>\n",
       "      <td>6.000000</td>\n",
       "      <td>2.636364</td>\n",
       "      <td>10.090909</td>\n",
       "      <td>19.000000</td>\n",
       "    </tr>\n",
       "    <tr>\n",
       "      <th>std</th>\n",
       "      <td>3.316625</td>\n",
       "      <td>1.286291</td>\n",
       "      <td>3.477198</td>\n",
       "      <td>9.030811</td>\n",
       "    </tr>\n",
       "    <tr>\n",
       "      <th>min</th>\n",
       "      <td>1.000000</td>\n",
       "      <td>1.000000</td>\n",
       "      <td>7.000000</td>\n",
       "      <td>0.000000</td>\n",
       "    </tr>\n",
       "    <tr>\n",
       "      <th>25%</th>\n",
       "      <td>3.500000</td>\n",
       "      <td>1.500000</td>\n",
       "      <td>7.500000</td>\n",
       "      <td>14.250000</td>\n",
       "    </tr>\n",
       "    <tr>\n",
       "      <th>50%</th>\n",
       "      <td>6.000000</td>\n",
       "      <td>3.000000</td>\n",
       "      <td>8.000000</td>\n",
       "      <td>19.500000</td>\n",
       "    </tr>\n",
       "    <tr>\n",
       "      <th>75%</th>\n",
       "      <td>8.500000</td>\n",
       "      <td>4.000000</td>\n",
       "      <td>13.000000</td>\n",
       "      <td>26.250000</td>\n",
       "    </tr>\n",
       "    <tr>\n",
       "      <th>max</th>\n",
       "      <td>11.000000</td>\n",
       "      <td>4.000000</td>\n",
       "      <td>16.000000</td>\n",
       "      <td>30.000000</td>\n",
       "    </tr>\n",
       "  </tbody>\n",
       "</table>\n",
       "</div>"
      ],
      "text/plain": [
       "       order_number  orders_day_of_week  order_hour_of_day  \\\n",
       "count     11.000000           11.000000          11.000000   \n",
       "mean       6.000000            2.636364          10.090909   \n",
       "std        3.316625            1.286291           3.477198   \n",
       "min        1.000000            1.000000           7.000000   \n",
       "25%        3.500000            1.500000           7.500000   \n",
       "50%        6.000000            3.000000           8.000000   \n",
       "75%        8.500000            4.000000          13.000000   \n",
       "max       11.000000            4.000000          16.000000   \n",
       "\n",
       "       days_since_prior_order  \n",
       "count               10.000000  \n",
       "mean                19.000000  \n",
       "std                  9.030811  \n",
       "min                  0.000000  \n",
       "25%                 14.250000  \n",
       "50%                 19.500000  \n",
       "75%                 26.250000  \n",
       "max                 30.000000  "
      ]
     },
     "execution_count": 68,
     "metadata": {},
     "output_type": "execute_result"
    }
   ],
   "source": [
    "df_cust_one.describe()"
   ]
  },
  {
   "cell_type": "markdown",
   "id": "83ffa746-eed5-41d1-8a56-2aab202cb529",
   "metadata": {},
   "source": [
    "# Step 12:  Export your df_ords dataframe as “orders_wrangled.csv” in your “Prepared Data” folder."
   ]
  },
  {
   "cell_type": "code",
   "execution_count": 69,
   "id": "ac414158-a2c6-43e8-9674-cb985db98b0b",
   "metadata": {
    "execution": {
     "iopub.execute_input": "2023-04-25T12:38:41.391933Z",
     "iopub.status.busy": "2023-04-25T12:38:41.391750Z",
     "iopub.status.idle": "2023-04-25T12:38:53.389301Z",
     "shell.execute_reply": "2023-04-25T12:38:53.388726Z",
     "shell.execute_reply.started": "2023-04-25T12:38:41.391910Z"
    }
   },
   "outputs": [],
   "source": [
    "df_ords.to_csv(os.path.join(path, '02-Data','Prepared-Data', 'orders_wrangled.csv'))"
   ]
  },
  {
   "cell_type": "markdown",
   "id": "97bd4875-7b27-4f63-a088-87c947106a68",
   "metadata": {},
   "source": [
    "# Step 13:  Export the df_dep_t_new dataframe as “departments_wrangled.csv” in your “Prepared Data” folder so that you have a “.csv” file of your departments data in the correct format."
   ]
  },
  {
   "cell_type": "code",
   "execution_count": 70,
   "id": "b4f10718-0ec9-46d7-a463-bfd8e8b52d62",
   "metadata": {
    "execution": {
     "iopub.execute_input": "2023-04-25T12:38:53.390400Z",
     "iopub.status.busy": "2023-04-25T12:38:53.390126Z",
     "iopub.status.idle": "2023-04-25T12:38:53.394739Z",
     "shell.execute_reply": "2023-04-25T12:38:53.394235Z",
     "shell.execute_reply.started": "2023-04-25T12:38:53.390376Z"
    }
   },
   "outputs": [],
   "source": [
    "df_dep_t_new.to_csv(os.path.join(path, '02-Data','Prepared-Data', 'departments_wrangled.csv'))"
   ]
  },
  {
   "cell_type": "markdown",
   "id": "76e787a4-a416-48e9-9089-e9e1862ca271",
   "metadata": {
    "tags": []
   },
   "source": [
    "# I'm curious about the df_dep_t_new dataframe:  does it have both a 'department' column and a 'department_id' column, or just a 'department' column?  If I try to select based on department_id, Python throws a Key Error as if the column did not exist, and my exported departments_wrangled.csv file has, \",department\" as the first line."
   ]
  },
  {
   "cell_type": "code",
   "execution_count": 71,
   "id": "5aee0547-cc90-4c6a-8562-f3155f840759",
   "metadata": {
    "execution": {
     "iopub.execute_input": "2023-04-25T12:38:53.395914Z",
     "iopub.status.busy": "2023-04-25T12:38:53.395641Z",
     "iopub.status.idle": "2023-04-25T12:38:53.407499Z",
     "shell.execute_reply": "2023-04-25T12:38:53.406894Z",
     "shell.execute_reply.started": "2023-04-25T12:38:53.395891Z"
    }
   },
   "outputs": [
    {
     "data": {
      "text/html": [
       "<div>\n",
       "<style scoped>\n",
       "    .dataframe tbody tr th:only-of-type {\n",
       "        vertical-align: middle;\n",
       "    }\n",
       "\n",
       "    .dataframe tbody tr th {\n",
       "        vertical-align: top;\n",
       "    }\n",
       "\n",
       "    .dataframe thead th {\n",
       "        text-align: right;\n",
       "    }\n",
       "</style>\n",
       "<table border=\"1\" class=\"dataframe\">\n",
       "  <thead>\n",
       "    <tr style=\"text-align: right;\">\n",
       "      <th>department_id</th>\n",
       "      <th>department</th>\n",
       "    </tr>\n",
       "  </thead>\n",
       "  <tbody>\n",
       "    <tr>\n",
       "      <th>1</th>\n",
       "      <td>frozen</td>\n",
       "    </tr>\n",
       "    <tr>\n",
       "      <th>2</th>\n",
       "      <td>other</td>\n",
       "    </tr>\n",
       "    <tr>\n",
       "      <th>3</th>\n",
       "      <td>bakery</td>\n",
       "    </tr>\n",
       "    <tr>\n",
       "      <th>4</th>\n",
       "      <td>produce</td>\n",
       "    </tr>\n",
       "    <tr>\n",
       "      <th>5</th>\n",
       "      <td>alcohol</td>\n",
       "    </tr>\n",
       "    <tr>\n",
       "      <th>6</th>\n",
       "      <td>international</td>\n",
       "    </tr>\n",
       "    <tr>\n",
       "      <th>7</th>\n",
       "      <td>beverages</td>\n",
       "    </tr>\n",
       "    <tr>\n",
       "      <th>8</th>\n",
       "      <td>pets</td>\n",
       "    </tr>\n",
       "    <tr>\n",
       "      <th>9</th>\n",
       "      <td>dry goods pasta</td>\n",
       "    </tr>\n",
       "    <tr>\n",
       "      <th>10</th>\n",
       "      <td>bulk</td>\n",
       "    </tr>\n",
       "    <tr>\n",
       "      <th>11</th>\n",
       "      <td>personal care</td>\n",
       "    </tr>\n",
       "    <tr>\n",
       "      <th>12</th>\n",
       "      <td>meat seafood</td>\n",
       "    </tr>\n",
       "    <tr>\n",
       "      <th>13</th>\n",
       "      <td>pantry</td>\n",
       "    </tr>\n",
       "    <tr>\n",
       "      <th>14</th>\n",
       "      <td>breakfast</td>\n",
       "    </tr>\n",
       "    <tr>\n",
       "      <th>15</th>\n",
       "      <td>canned goods</td>\n",
       "    </tr>\n",
       "    <tr>\n",
       "      <th>16</th>\n",
       "      <td>dairy eggs</td>\n",
       "    </tr>\n",
       "    <tr>\n",
       "      <th>17</th>\n",
       "      <td>household</td>\n",
       "    </tr>\n",
       "    <tr>\n",
       "      <th>18</th>\n",
       "      <td>babies</td>\n",
       "    </tr>\n",
       "    <tr>\n",
       "      <th>19</th>\n",
       "      <td>snacks</td>\n",
       "    </tr>\n",
       "    <tr>\n",
       "      <th>20</th>\n",
       "      <td>deli</td>\n",
       "    </tr>\n",
       "    <tr>\n",
       "      <th>21</th>\n",
       "      <td>missing</td>\n",
       "    </tr>\n",
       "  </tbody>\n",
       "</table>\n",
       "</div>"
      ],
      "text/plain": [
       "department_id       department\n",
       "1                       frozen\n",
       "2                        other\n",
       "3                       bakery\n",
       "4                      produce\n",
       "5                      alcohol\n",
       "6                international\n",
       "7                    beverages\n",
       "8                         pets\n",
       "9              dry goods pasta\n",
       "10                        bulk\n",
       "11               personal care\n",
       "12                meat seafood\n",
       "13                      pantry\n",
       "14                   breakfast\n",
       "15                canned goods\n",
       "16                  dairy eggs\n",
       "17                   household\n",
       "18                      babies\n",
       "19                      snacks\n",
       "20                        deli\n",
       "21                     missing"
      ]
     },
     "execution_count": 71,
     "metadata": {},
     "output_type": "execute_result"
    }
   ],
   "source": [
    "df_dep_t_new"
   ]
  },
  {
   "cell_type": "code",
   "execution_count": 72,
   "id": "b3421a4b-ce06-4372-8e9d-c7616ed55890",
   "metadata": {
    "execution": {
     "iopub.execute_input": "2023-04-25T12:38:53.409073Z",
     "iopub.status.busy": "2023-04-25T12:38:53.408677Z",
     "iopub.status.idle": "2023-04-25T12:38:53.413784Z",
     "shell.execute_reply": "2023-04-25T12:38:53.413228Z",
     "shell.execute_reply.started": "2023-04-25T12:38:53.409046Z"
    }
   },
   "outputs": [
    {
     "data": {
      "text/plain": [
       "Index(['department'], dtype='object', name='department_id')"
      ]
     },
     "execution_count": 72,
     "metadata": {},
     "output_type": "execute_result"
    }
   ],
   "source": [
    "df_dep_t_new.columns"
   ]
  },
  {
   "cell_type": "code",
   "execution_count": 73,
   "id": "1dfcfa96-45e0-466b-b344-2309475d5885",
   "metadata": {
    "execution": {
     "iopub.execute_input": "2023-04-25T12:38:53.414860Z",
     "iopub.status.busy": "2023-04-25T12:38:53.414651Z",
     "iopub.status.idle": "2023-04-25T12:38:53.422592Z",
     "shell.execute_reply": "2023-04-25T12:38:53.421966Z",
     "shell.execute_reply.started": "2023-04-25T12:38:53.414836Z"
    }
   },
   "outputs": [
    {
     "data": {
      "text/plain": [
       "department_id\n",
       "department    21\n",
       "dtype: int64"
      ]
     },
     "execution_count": 73,
     "metadata": {},
     "output_type": "execute_result"
    }
   ],
   "source": [
    "df_dep_t_new.count()"
   ]
  },
  {
   "cell_type": "code",
   "execution_count": 74,
   "id": "f7cbeba9-a9e8-4ebf-959f-5866f5847399",
   "metadata": {
    "execution": {
     "iopub.execute_input": "2023-04-25T12:38:53.424083Z",
     "iopub.status.busy": "2023-04-25T12:38:53.423554Z",
     "iopub.status.idle": "2023-04-25T12:38:53.427352Z",
     "shell.execute_reply": "2023-04-25T12:38:53.426628Z",
     "shell.execute_reply.started": "2023-04-25T12:38:53.424058Z"
    }
   },
   "outputs": [],
   "source": [
    "# I can select based on 'department'..."
   ]
  },
  {
   "cell_type": "code",
   "execution_count": 75,
   "id": "64317d5c-33b9-4048-8e26-1b1d0cfe581f",
   "metadata": {
    "execution": {
     "iopub.execute_input": "2023-04-25T12:38:53.428365Z",
     "iopub.status.busy": "2023-04-25T12:38:53.428184Z",
     "iopub.status.idle": "2023-04-25T12:38:53.438302Z",
     "shell.execute_reply": "2023-04-25T12:38:53.437336Z",
     "shell.execute_reply.started": "2023-04-25T12:38:53.428343Z"
    }
   },
   "outputs": [
    {
     "data": {
      "text/html": [
       "<div>\n",
       "<style scoped>\n",
       "    .dataframe tbody tr th:only-of-type {\n",
       "        vertical-align: middle;\n",
       "    }\n",
       "\n",
       "    .dataframe tbody tr th {\n",
       "        vertical-align: top;\n",
       "    }\n",
       "\n",
       "    .dataframe thead th {\n",
       "        text-align: right;\n",
       "    }\n",
       "</style>\n",
       "<table border=\"1\" class=\"dataframe\">\n",
       "  <thead>\n",
       "    <tr style=\"text-align: right;\">\n",
       "      <th>department_id</th>\n",
       "      <th>department</th>\n",
       "    </tr>\n",
       "  </thead>\n",
       "  <tbody>\n",
       "    <tr>\n",
       "      <th>5</th>\n",
       "      <td>alcohol</td>\n",
       "    </tr>\n",
       "    <tr>\n",
       "      <th>7</th>\n",
       "      <td>beverages</td>\n",
       "    </tr>\n",
       "    <tr>\n",
       "      <th>12</th>\n",
       "      <td>meat seafood</td>\n",
       "    </tr>\n",
       "    <tr>\n",
       "      <th>20</th>\n",
       "      <td>deli</td>\n",
       "    </tr>\n",
       "  </tbody>\n",
       "</table>\n",
       "</div>"
      ],
      "text/plain": [
       "department_id    department\n",
       "5                   alcohol\n",
       "7                 beverages\n",
       "12             meat seafood\n",
       "20                     deli"
      ]
     },
     "execution_count": 75,
     "metadata": {},
     "output_type": "execute_result"
    }
   ],
   "source": [
    "df_dep_t_new.loc[df_dep_t_new['department'].isin(['alcohol','deli','beverages','meat seafood'])]"
   ]
  },
  {
   "cell_type": "code",
   "execution_count": 76,
   "id": "cc221def-4009-41e0-8f46-e7c20521cc38",
   "metadata": {
    "execution": {
     "iopub.execute_input": "2023-04-25T12:38:53.440188Z",
     "iopub.status.busy": "2023-04-25T12:38:53.439368Z",
     "iopub.status.idle": "2023-04-25T12:38:53.443242Z",
     "shell.execute_reply": "2023-04-25T12:38:53.442584Z",
     "shell.execute_reply.started": "2023-04-25T12:38:53.440149Z"
    }
   },
   "outputs": [],
   "source": [
    "# ...but I cannot select based on 'department_id'."
   ]
  },
  {
   "cell_type": "code",
   "execution_count": 77,
   "id": "3ab98640-f67a-4e64-a7b8-43537bcc27da",
   "metadata": {
    "execution": {
     "iopub.execute_input": "2023-04-25T12:38:53.444832Z",
     "iopub.status.busy": "2023-04-25T12:38:53.444410Z",
     "iopub.status.idle": "2023-04-25T12:38:56.517998Z",
     "shell.execute_reply": "2023-04-25T12:38:56.516916Z",
     "shell.execute_reply.started": "2023-04-25T12:38:53.444806Z"
    }
   },
   "outputs": [
    {
     "ename": "KeyError",
     "evalue": "'department_id'",
     "output_type": "error",
     "traceback": [
      "\u001b[0;31m---------------------------------------------------------------------------\u001b[0m",
      "\u001b[0;31mKeyError\u001b[0m                                  Traceback (most recent call last)",
      "File \u001b[0;32m~/anaconda3/lib/python3.9/site-packages/pandas/core/indexes/base.py:3621\u001b[0m, in \u001b[0;36mIndex.get_loc\u001b[0;34m(self, key, method, tolerance)\u001b[0m\n\u001b[1;32m   3620\u001b[0m \u001b[38;5;28;01mtry\u001b[39;00m:\n\u001b[0;32m-> 3621\u001b[0m     \u001b[38;5;28;01mreturn\u001b[39;00m \u001b[38;5;28;43mself\u001b[39;49m\u001b[38;5;241;43m.\u001b[39;49m\u001b[43m_engine\u001b[49m\u001b[38;5;241;43m.\u001b[39;49m\u001b[43mget_loc\u001b[49m\u001b[43m(\u001b[49m\u001b[43mcasted_key\u001b[49m\u001b[43m)\u001b[49m\n\u001b[1;32m   3622\u001b[0m \u001b[38;5;28;01mexcept\u001b[39;00m \u001b[38;5;167;01mKeyError\u001b[39;00m \u001b[38;5;28;01mas\u001b[39;00m err:\n",
      "File \u001b[0;32m~/anaconda3/lib/python3.9/site-packages/pandas/_libs/index.pyx:136\u001b[0m, in \u001b[0;36mpandas._libs.index.IndexEngine.get_loc\u001b[0;34m()\u001b[0m\n",
      "File \u001b[0;32m~/anaconda3/lib/python3.9/site-packages/pandas/_libs/index.pyx:163\u001b[0m, in \u001b[0;36mpandas._libs.index.IndexEngine.get_loc\u001b[0;34m()\u001b[0m\n",
      "File \u001b[0;32mpandas/_libs/hashtable_class_helper.pxi:5198\u001b[0m, in \u001b[0;36mpandas._libs.hashtable.PyObjectHashTable.get_item\u001b[0;34m()\u001b[0m\n",
      "File \u001b[0;32mpandas/_libs/hashtable_class_helper.pxi:5206\u001b[0m, in \u001b[0;36mpandas._libs.hashtable.PyObjectHashTable.get_item\u001b[0;34m()\u001b[0m\n",
      "\u001b[0;31mKeyError\u001b[0m: 'department_id'",
      "\nThe above exception was the direct cause of the following exception:\n",
      "\u001b[0;31mKeyError\u001b[0m                                  Traceback (most recent call last)",
      "Input \u001b[0;32mIn [77]\u001b[0m, in \u001b[0;36m<cell line: 1>\u001b[0;34m()\u001b[0m\n\u001b[0;32m----> 1\u001b[0m df_dep_t_new\u001b[38;5;241m.\u001b[39mloc[\u001b[43mdf_dep_t_new\u001b[49m\u001b[43m[\u001b[49m\u001b[38;5;124;43m'\u001b[39;49m\u001b[38;5;124;43mdepartment_id\u001b[39;49m\u001b[38;5;124;43m'\u001b[39;49m\u001b[43m]\u001b[49m\u001b[38;5;241m.\u001b[39misin([\u001b[38;5;241m5\u001b[39m,\u001b[38;5;241m7\u001b[39m,\u001b[38;5;241m12\u001b[39m,\u001b[38;5;241m20\u001b[39m])]\n",
      "File \u001b[0;32m~/anaconda3/lib/python3.9/site-packages/pandas/core/frame.py:3505\u001b[0m, in \u001b[0;36mDataFrame.__getitem__\u001b[0;34m(self, key)\u001b[0m\n\u001b[1;32m   3503\u001b[0m \u001b[38;5;28;01mif\u001b[39;00m \u001b[38;5;28mself\u001b[39m\u001b[38;5;241m.\u001b[39mcolumns\u001b[38;5;241m.\u001b[39mnlevels \u001b[38;5;241m>\u001b[39m \u001b[38;5;241m1\u001b[39m:\n\u001b[1;32m   3504\u001b[0m     \u001b[38;5;28;01mreturn\u001b[39;00m \u001b[38;5;28mself\u001b[39m\u001b[38;5;241m.\u001b[39m_getitem_multilevel(key)\n\u001b[0;32m-> 3505\u001b[0m indexer \u001b[38;5;241m=\u001b[39m \u001b[38;5;28;43mself\u001b[39;49m\u001b[38;5;241;43m.\u001b[39;49m\u001b[43mcolumns\u001b[49m\u001b[38;5;241;43m.\u001b[39;49m\u001b[43mget_loc\u001b[49m\u001b[43m(\u001b[49m\u001b[43mkey\u001b[49m\u001b[43m)\u001b[49m\n\u001b[1;32m   3506\u001b[0m \u001b[38;5;28;01mif\u001b[39;00m is_integer(indexer):\n\u001b[1;32m   3507\u001b[0m     indexer \u001b[38;5;241m=\u001b[39m [indexer]\n",
      "File \u001b[0;32m~/anaconda3/lib/python3.9/site-packages/pandas/core/indexes/base.py:3623\u001b[0m, in \u001b[0;36mIndex.get_loc\u001b[0;34m(self, key, method, tolerance)\u001b[0m\n\u001b[1;32m   3621\u001b[0m     \u001b[38;5;28;01mreturn\u001b[39;00m \u001b[38;5;28mself\u001b[39m\u001b[38;5;241m.\u001b[39m_engine\u001b[38;5;241m.\u001b[39mget_loc(casted_key)\n\u001b[1;32m   3622\u001b[0m \u001b[38;5;28;01mexcept\u001b[39;00m \u001b[38;5;167;01mKeyError\u001b[39;00m \u001b[38;5;28;01mas\u001b[39;00m err:\n\u001b[0;32m-> 3623\u001b[0m     \u001b[38;5;28;01mraise\u001b[39;00m \u001b[38;5;167;01mKeyError\u001b[39;00m(key) \u001b[38;5;28;01mfrom\u001b[39;00m \u001b[38;5;21;01merr\u001b[39;00m\n\u001b[1;32m   3624\u001b[0m \u001b[38;5;28;01mexcept\u001b[39;00m \u001b[38;5;167;01mTypeError\u001b[39;00m:\n\u001b[1;32m   3625\u001b[0m     \u001b[38;5;66;03m# If we have a listlike key, _check_indexing_error will raise\u001b[39;00m\n\u001b[1;32m   3626\u001b[0m     \u001b[38;5;66;03m#  InvalidIndexError. Otherwise we fall through and re-raise\u001b[39;00m\n\u001b[1;32m   3627\u001b[0m     \u001b[38;5;66;03m#  the TypeError.\u001b[39;00m\n\u001b[1;32m   3628\u001b[0m     \u001b[38;5;28mself\u001b[39m\u001b[38;5;241m.\u001b[39m_check_indexing_error(key)\n",
      "\u001b[0;31mKeyError\u001b[0m: 'department_id'"
     ]
    }
   ],
   "source": [
    "df_dep_t_new.loc[df_dep_t_new['department_id'].isin([5,7,12,20])]"
   ]
  },
  {
   "cell_type": "code",
   "execution_count": null,
   "id": "91663b36-35ef-4ca6-a016-19d1c7acc904",
   "metadata": {
    "execution": {
     "iopub.status.busy": "2023-04-25T12:38:56.519060Z",
     "iopub.status.idle": "2023-04-25T12:38:56.519536Z",
     "shell.execute_reply": "2023-04-25T12:38:56.519385Z",
     "shell.execute_reply.started": "2023-04-25T12:38:56.519367Z"
    }
   },
   "outputs": [],
   "source": [
    "df_dep_t_new.reset_index()"
   ]
  },
  {
   "cell_type": "code",
   "execution_count": null,
   "id": "c1ee8e2d-878d-4f19-bc0d-1d5c577f7cab",
   "metadata": {
    "execution": {
     "iopub.status.busy": "2023-04-25T12:38:56.520445Z",
     "iopub.status.idle": "2023-04-25T12:38:56.520908Z",
     "shell.execute_reply": "2023-04-25T12:38:56.520762Z",
     "shell.execute_reply.started": "2023-04-25T12:38:56.520744Z"
    }
   },
   "outputs": [],
   "source": [
    "df_dep_t_new.columns"
   ]
  },
  {
   "cell_type": "code",
   "execution_count": null,
   "id": "4c7af9f4-92db-438c-acc4-37576958ef8a",
   "metadata": {
    "execution": {
     "iopub.status.busy": "2023-04-25T12:38:56.521951Z",
     "iopub.status.idle": "2023-04-25T12:38:56.522392Z",
     "shell.execute_reply": "2023-04-25T12:38:56.522251Z",
     "shell.execute_reply.started": "2023-04-25T12:38:56.522234Z"
    }
   },
   "outputs": [],
   "source": [
    "df_dep_t_new.index"
   ]
  },
  {
   "cell_type": "code",
   "execution_count": null,
   "id": "f18613f8-8818-4447-a89f-861d3b13bf1b",
   "metadata": {
    "execution": {
     "iopub.status.busy": "2023-04-25T12:38:56.523175Z",
     "iopub.status.idle": "2023-04-25T12:38:56.523857Z",
     "shell.execute_reply": "2023-04-25T12:38:56.523716Z",
     "shell.execute_reply.started": "2023-04-25T12:38:56.523698Z"
    }
   },
   "outputs": [],
   "source": [
    "df_dep_t_new.count()"
   ]
  },
  {
   "cell_type": "code",
   "execution_count": null,
   "id": "fe12e083-810a-4f82-9a7a-8334ff24bdc3",
   "metadata": {
    "execution": {
     "iopub.status.busy": "2023-04-25T12:38:56.524585Z",
     "iopub.status.idle": "2023-04-25T12:38:56.524865Z",
     "shell.execute_reply": "2023-04-25T12:38:56.524733Z",
     "shell.execute_reply.started": "2023-04-25T12:38:56.524717Z"
    },
    "tags": []
   },
   "outputs": [],
   "source": [
    "df_dep_t_new"
   ]
  }
 ],
 "metadata": {
  "kernelspec": {
   "display_name": "Python 3 (ipykernel)",
   "language": "python",
   "name": "python3"
  },
  "language_info": {
   "codemirror_mode": {
    "name": "ipython",
    "version": 3
   },
   "file_extension": ".py",
   "mimetype": "text/x-python",
   "name": "python",
   "nbconvert_exporter": "python",
   "pygments_lexer": "ipython3",
   "version": "3.9.12"
  }
 },
 "nbformat": 4,
 "nbformat_minor": 5
}
