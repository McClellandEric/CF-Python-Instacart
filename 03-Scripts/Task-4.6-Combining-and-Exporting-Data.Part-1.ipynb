{
 "cells": [
  {
   "cell_type": "markdown",
   "id": "9b45d6d3",
   "metadata": {},
   "source": [
    "# Task 4.6, Steps #1-2."
   ]
  },
  {
   "cell_type": "markdown",
   "id": "a26c4d2b-19e0-4539-ac58-cf33b56e81c1",
   "metadata": {},
   "source": [
    "## This task builds upon the import of order_products_prior.csv and its subsequent merger with the df_ords that we initially read in Task/Exercise 4.5, so much of this notebook is reused code.  Please skip to the line, \"BEGINNING TASK 4.6.\""
   ]
  },
  {
   "cell_type": "markdown",
   "id": "f2f16b3c-5383-469c-bf64-9669063a7053",
   "metadata": {},
   "source": [
    "### I've included the commands from noteboook Task-4.5-Data-Consistency-Checks.ipynb here, first, as we need to combine the new DF with df_ords."
   ]
  },
  {
   "cell_type": "code",
   "execution_count": 1,
   "id": "598737de-227b-4a9d-b125-ede16be6f252",
   "metadata": {
    "execution": {
     "iopub.execute_input": "2023-04-25T12:42:34.985880Z",
     "iopub.status.busy": "2023-04-25T12:42:34.985526Z",
     "iopub.status.idle": "2023-04-25T12:42:35.345056Z",
     "shell.execute_reply": "2023-04-25T12:42:35.344199Z",
     "shell.execute_reply.started": "2023-04-25T12:42:34.985789Z"
    },
    "tags": []
   },
   "outputs": [],
   "source": [
    "# Import libraries\n",
    "import pandas as pd\n",
    "import numpy as np\n",
    "import os"
   ]
  },
  {
   "cell_type": "code",
   "execution_count": 2,
   "id": "be9e9b2b-9129-4e31-83d7-d022b108d3eb",
   "metadata": {
    "execution": {
     "iopub.execute_input": "2023-04-25T12:42:35.346707Z",
     "iopub.status.busy": "2023-04-25T12:42:35.346470Z",
     "iopub.status.idle": "2023-04-25T12:42:35.350202Z",
     "shell.execute_reply": "2023-04-25T12:42:35.349645Z",
     "shell.execute_reply.started": "2023-04-25T12:42:35.346681Z"
    },
    "tags": []
   },
   "outputs": [],
   "source": [
    "# Set a PATH variable."
   ]
  },
  {
   "cell_type": "code",
   "execution_count": 3,
   "id": "0e079448",
   "metadata": {
    "execution": {
     "iopub.execute_input": "2023-04-25T12:42:35.351659Z",
     "iopub.status.busy": "2023-04-25T12:42:35.351416Z",
     "iopub.status.idle": "2023-04-25T12:42:35.356320Z",
     "shell.execute_reply": "2023-04-25T12:42:35.355453Z",
     "shell.execute_reply.started": "2023-04-25T12:42:35.351634Z"
    }
   },
   "outputs": [],
   "source": [
    "# Linux PATH - Sadly, my Linux system with 8GB of total RAM could not import the new df_ords_prior DataFrame.\n",
    "# BUT, now I have moved again, to an AWS EC2 instance that should be able to handle this."
   ]
  },
  {
   "cell_type": "code",
   "execution_count": 4,
   "id": "9429a53c-17ce-46cf-b5df-ba5b2f5eed19",
   "metadata": {
    "execution": {
     "iopub.execute_input": "2023-04-25T12:42:35.358351Z",
     "iopub.status.busy": "2023-04-25T12:42:35.357991Z",
     "iopub.status.idle": "2023-04-25T12:42:35.362657Z",
     "shell.execute_reply": "2023-04-25T12:42:35.361322Z",
     "shell.execute_reply.started": "2023-04-25T12:42:35.358319Z"
    }
   },
   "outputs": [],
   "source": [
    "path = (r'~/careerfoundry/tasks/data-immersion/Achievement4/Instacart-Basket-Analysis')"
   ]
  },
  {
   "cell_type": "code",
   "execution_count": 5,
   "id": "2e5453af",
   "metadata": {
    "execution": {
     "iopub.execute_input": "2023-04-25T12:42:35.364307Z",
     "iopub.status.busy": "2023-04-25T12:42:35.364058Z",
     "iopub.status.idle": "2023-04-25T12:42:35.367487Z",
     "shell.execute_reply": "2023-04-25T12:42:35.366885Z",
     "shell.execute_reply.started": "2023-04-25T12:42:35.364285Z"
    }
   },
   "outputs": [],
   "source": [
    "# windoze PATH - The windoze laptop I bought for Excel and Tableau also has 16GB of RAM, so I migrated there."
   ]
  },
  {
   "cell_type": "code",
   "execution_count": 6,
   "id": "e05839f6",
   "metadata": {
    "execution": {
     "iopub.execute_input": "2023-04-25T12:42:35.368881Z",
     "iopub.status.busy": "2023-04-25T12:42:35.368514Z",
     "iopub.status.idle": "2023-04-25T12:42:35.372671Z",
     "shell.execute_reply": "2023-04-25T12:42:35.372118Z",
     "shell.execute_reply.started": "2023-04-25T12:42:35.368846Z"
    }
   },
   "outputs": [],
   "source": [
    "## path = (r'C:\\Users\\emccc\\OneDrive\\Documents\\CareerFoundry\\Achievement-4\\Instacart-Basket-Analysis')"
   ]
  },
  {
   "cell_type": "code",
   "execution_count": 7,
   "id": "897c52e3-cdcc-465e-8214-566191a7c991",
   "metadata": {
    "execution": {
     "iopub.execute_input": "2023-04-25T12:42:35.374174Z",
     "iopub.status.busy": "2023-04-25T12:42:35.373619Z",
     "iopub.status.idle": "2023-04-25T12:42:35.378220Z",
     "shell.execute_reply": "2023-04-25T12:42:35.377486Z",
     "shell.execute_reply.started": "2023-04-25T12:42:35.374129Z"
    }
   },
   "outputs": [],
   "source": [
    "# Set our exclusionary list of columns to import."
   ]
  },
  {
   "cell_type": "code",
   "execution_count": 8,
   "id": "5b5049d5-4f45-476d-b0ab-77f8828a1311",
   "metadata": {
    "execution": {
     "iopub.execute_input": "2023-04-25T12:42:35.380180Z",
     "iopub.status.busy": "2023-04-25T12:42:35.379410Z",
     "iopub.status.idle": "2023-04-25T12:42:35.384902Z",
     "shell.execute_reply": "2023-04-25T12:42:35.384127Z",
     "shell.execute_reply.started": "2023-04-25T12:42:35.380137Z"
    }
   },
   "outputs": [],
   "source": [
    "vars_list = ['order_id','customer_id','order_number','orders_day_of_week','order_hour_of_day','days_since_prior_order']"
   ]
  },
  {
   "cell_type": "code",
   "execution_count": 9,
   "id": "737ed325-9dd1-4052-b703-9fb969e73815",
   "metadata": {
    "execution": {
     "iopub.execute_input": "2023-04-25T12:42:35.386374Z",
     "iopub.status.busy": "2023-04-25T12:42:35.385823Z",
     "iopub.status.idle": "2023-04-25T12:42:35.390592Z",
     "shell.execute_reply": "2023-04-25T12:42:35.390050Z",
     "shell.execute_reply.started": "2023-04-25T12:42:35.386345Z"
    }
   },
   "outputs": [],
   "source": [
    "# Read the orders.csv and products.csv files into respective dataframes.\n",
    "# CORRECTION:  We need to read the orders_wrangled.csv file that we prepared in a previous Task."
   ]
  },
  {
   "cell_type": "code",
   "execution_count": 10,
   "id": "c984374a-a60c-4c93-a10d-3e629464b0ab",
   "metadata": {
    "execution": {
     "iopub.execute_input": "2023-04-25T12:42:35.394333Z",
     "iopub.status.busy": "2023-04-25T12:42:35.393592Z",
     "iopub.status.idle": "2023-04-25T12:42:35.398231Z",
     "shell.execute_reply": "2023-04-25T12:42:35.397339Z",
     "shell.execute_reply.started": "2023-04-25T12:42:35.394296Z"
    },
    "tags": []
   },
   "outputs": [],
   "source": [
    "#df_ords = pd.read_csv(os.path.join(path, '02-Data', 'Original-Data', 'orders.csv'),  usecols = vars_list, index_col = False)"
   ]
  },
  {
   "cell_type": "code",
   "execution_count": 11,
   "id": "a04001fe-01da-4d58-9b65-e75dc49bd486",
   "metadata": {
    "execution": {
     "iopub.execute_input": "2023-04-25T12:42:35.400161Z",
     "iopub.status.busy": "2023-04-25T12:42:35.399494Z",
     "iopub.status.idle": "2023-04-25T12:42:36.729989Z",
     "shell.execute_reply": "2023-04-25T12:42:36.729142Z",
     "shell.execute_reply.started": "2023-04-25T12:42:35.400116Z"
    },
    "tags": []
   },
   "outputs": [],
   "source": [
    "df_ords = pd.read_csv(os.path.join(path, '02-Data','Prepared-Data', 'orders_wrangled.csv'),  usecols = vars_list, index_col = False)"
   ]
  },
  {
   "cell_type": "code",
   "execution_count": 12,
   "id": "08dcef51-58c5-40e0-9854-6f49684c4e4d",
   "metadata": {
    "execution": {
     "iopub.execute_input": "2023-04-25T12:42:36.731546Z",
     "iopub.status.busy": "2023-04-25T12:42:36.731010Z",
     "iopub.status.idle": "2023-04-25T12:42:36.794635Z",
     "shell.execute_reply": "2023-04-25T12:42:36.794057Z",
     "shell.execute_reply.started": "2023-04-25T12:42:36.731518Z"
    },
    "tags": []
   },
   "outputs": [],
   "source": [
    "df_prods = pd.read_csv(os.path.join(path, '02-Data', 'Original-Data', 'products.csv'), index_col = False)"
   ]
  },
  {
   "cell_type": "code",
   "execution_count": 13,
   "id": "cdc4fccd-d8fe-4ef7-a8b2-562fa14b0697",
   "metadata": {
    "execution": {
     "iopub.execute_input": "2023-04-25T12:42:36.796168Z",
     "iopub.status.busy": "2023-04-25T12:42:36.795635Z",
     "iopub.status.idle": "2023-04-25T12:42:36.819255Z",
     "shell.execute_reply": "2023-04-25T12:42:36.818482Z",
     "shell.execute_reply.started": "2023-04-25T12:42:36.796143Z"
    }
   },
   "outputs": [
    {
     "data": {
      "text/html": [
       "<div>\n",
       "<style scoped>\n",
       "    .dataframe tbody tr th:only-of-type {\n",
       "        vertical-align: middle;\n",
       "    }\n",
       "\n",
       "    .dataframe tbody tr th {\n",
       "        vertical-align: top;\n",
       "    }\n",
       "\n",
       "    .dataframe thead th {\n",
       "        text-align: right;\n",
       "    }\n",
       "</style>\n",
       "<table border=\"1\" class=\"dataframe\">\n",
       "  <thead>\n",
       "    <tr style=\"text-align: right;\">\n",
       "      <th></th>\n",
       "      <th>order_id</th>\n",
       "      <th>customer_id</th>\n",
       "      <th>order_number</th>\n",
       "      <th>orders_day_of_week</th>\n",
       "      <th>order_hour_of_day</th>\n",
       "      <th>days_since_prior_order</th>\n",
       "    </tr>\n",
       "  </thead>\n",
       "  <tbody>\n",
       "    <tr>\n",
       "      <th>0</th>\n",
       "      <td>2539329</td>\n",
       "      <td>1</td>\n",
       "      <td>1</td>\n",
       "      <td>2</td>\n",
       "      <td>8</td>\n",
       "      <td>NaN</td>\n",
       "    </tr>\n",
       "    <tr>\n",
       "      <th>1</th>\n",
       "      <td>2398795</td>\n",
       "      <td>1</td>\n",
       "      <td>2</td>\n",
       "      <td>3</td>\n",
       "      <td>7</td>\n",
       "      <td>15.0</td>\n",
       "    </tr>\n",
       "    <tr>\n",
       "      <th>2</th>\n",
       "      <td>473747</td>\n",
       "      <td>1</td>\n",
       "      <td>3</td>\n",
       "      <td>3</td>\n",
       "      <td>12</td>\n",
       "      <td>21.0</td>\n",
       "    </tr>\n",
       "    <tr>\n",
       "      <th>3</th>\n",
       "      <td>2254736</td>\n",
       "      <td>1</td>\n",
       "      <td>4</td>\n",
       "      <td>4</td>\n",
       "      <td>7</td>\n",
       "      <td>29.0</td>\n",
       "    </tr>\n",
       "    <tr>\n",
       "      <th>4</th>\n",
       "      <td>431534</td>\n",
       "      <td>1</td>\n",
       "      <td>5</td>\n",
       "      <td>4</td>\n",
       "      <td>15</td>\n",
       "      <td>28.0</td>\n",
       "    </tr>\n",
       "  </tbody>\n",
       "</table>\n",
       "</div>"
      ],
      "text/plain": [
       "   order_id  customer_id  order_number  orders_day_of_week  order_hour_of_day  \\\n",
       "0   2539329            1             1                   2                  8   \n",
       "1   2398795            1             2                   3                  7   \n",
       "2    473747            1             3                   3                 12   \n",
       "3   2254736            1             4                   4                  7   \n",
       "4    431534            1             5                   4                 15   \n",
       "\n",
       "   days_since_prior_order  \n",
       "0                     NaN  \n",
       "1                    15.0  \n",
       "2                    21.0  \n",
       "3                    29.0  \n",
       "4                    28.0  "
      ]
     },
     "execution_count": 13,
     "metadata": {},
     "output_type": "execute_result"
    }
   ],
   "source": [
    "df_ords.head()"
   ]
  },
  {
   "cell_type": "code",
   "execution_count": 14,
   "id": "14672e33-34a7-43ca-872e-c85e7fb66587",
   "metadata": {
    "execution": {
     "iopub.execute_input": "2023-04-25T12:42:36.820907Z",
     "iopub.status.busy": "2023-04-25T12:42:36.820522Z",
     "iopub.status.idle": "2023-04-25T12:42:36.831313Z",
     "shell.execute_reply": "2023-04-25T12:42:36.830394Z",
     "shell.execute_reply.started": "2023-04-25T12:42:36.820882Z"
    },
    "tags": []
   },
   "outputs": [
    {
     "data": {
      "text/html": [
       "<div>\n",
       "<style scoped>\n",
       "    .dataframe tbody tr th:only-of-type {\n",
       "        vertical-align: middle;\n",
       "    }\n",
       "\n",
       "    .dataframe tbody tr th {\n",
       "        vertical-align: top;\n",
       "    }\n",
       "\n",
       "    .dataframe thead th {\n",
       "        text-align: right;\n",
       "    }\n",
       "</style>\n",
       "<table border=\"1\" class=\"dataframe\">\n",
       "  <thead>\n",
       "    <tr style=\"text-align: right;\">\n",
       "      <th></th>\n",
       "      <th>product_id</th>\n",
       "      <th>product_name</th>\n",
       "      <th>aisle_id</th>\n",
       "      <th>department_id</th>\n",
       "      <th>prices</th>\n",
       "    </tr>\n",
       "  </thead>\n",
       "  <tbody>\n",
       "    <tr>\n",
       "      <th>0</th>\n",
       "      <td>1</td>\n",
       "      <td>Chocolate Sandwich Cookies</td>\n",
       "      <td>61</td>\n",
       "      <td>19</td>\n",
       "      <td>5.8</td>\n",
       "    </tr>\n",
       "    <tr>\n",
       "      <th>1</th>\n",
       "      <td>2</td>\n",
       "      <td>All-Seasons Salt</td>\n",
       "      <td>104</td>\n",
       "      <td>13</td>\n",
       "      <td>9.3</td>\n",
       "    </tr>\n",
       "    <tr>\n",
       "      <th>2</th>\n",
       "      <td>3</td>\n",
       "      <td>Robust Golden Unsweetened Oolong Tea</td>\n",
       "      <td>94</td>\n",
       "      <td>7</td>\n",
       "      <td>4.5</td>\n",
       "    </tr>\n",
       "    <tr>\n",
       "      <th>3</th>\n",
       "      <td>4</td>\n",
       "      <td>Smart Ones Classic Favorites Mini Rigatoni Wit...</td>\n",
       "      <td>38</td>\n",
       "      <td>1</td>\n",
       "      <td>10.5</td>\n",
       "    </tr>\n",
       "    <tr>\n",
       "      <th>4</th>\n",
       "      <td>5</td>\n",
       "      <td>Green Chile Anytime Sauce</td>\n",
       "      <td>5</td>\n",
       "      <td>13</td>\n",
       "      <td>4.3</td>\n",
       "    </tr>\n",
       "  </tbody>\n",
       "</table>\n",
       "</div>"
      ],
      "text/plain": [
       "   product_id                                       product_name  aisle_id  \\\n",
       "0           1                         Chocolate Sandwich Cookies        61   \n",
       "1           2                                   All-Seasons Salt       104   \n",
       "2           3               Robust Golden Unsweetened Oolong Tea        94   \n",
       "3           4  Smart Ones Classic Favorites Mini Rigatoni Wit...        38   \n",
       "4           5                          Green Chile Anytime Sauce         5   \n",
       "\n",
       "   department_id  prices  \n",
       "0             19     5.8  \n",
       "1             13     9.3  \n",
       "2              7     4.5  \n",
       "3              1    10.5  \n",
       "4             13     4.3  "
      ]
     },
     "execution_count": 14,
     "metadata": {},
     "output_type": "execute_result"
    }
   ],
   "source": [
    "df_prods.head()"
   ]
  },
  {
   "cell_type": "code",
   "execution_count": 15,
   "id": "0d5c5406-abde-4a20-8db1-34f6495898aa",
   "metadata": {
    "execution": {
     "iopub.execute_input": "2023-04-25T12:42:36.833122Z",
     "iopub.status.busy": "2023-04-25T12:42:36.832678Z",
     "iopub.status.idle": "2023-04-25T12:42:37.400846Z",
     "shell.execute_reply": "2023-04-25T12:42:37.400024Z",
     "shell.execute_reply.started": "2023-04-25T12:42:36.833068Z"
    }
   },
   "outputs": [
    {
     "data": {
      "text/html": [
       "<div>\n",
       "<style scoped>\n",
       "    .dataframe tbody tr th:only-of-type {\n",
       "        vertical-align: middle;\n",
       "    }\n",
       "\n",
       "    .dataframe tbody tr th {\n",
       "        vertical-align: top;\n",
       "    }\n",
       "\n",
       "    .dataframe thead th {\n",
       "        text-align: right;\n",
       "    }\n",
       "</style>\n",
       "<table border=\"1\" class=\"dataframe\">\n",
       "  <thead>\n",
       "    <tr style=\"text-align: right;\">\n",
       "      <th></th>\n",
       "      <th>order_id</th>\n",
       "      <th>customer_id</th>\n",
       "      <th>order_number</th>\n",
       "      <th>orders_day_of_week</th>\n",
       "      <th>order_hour_of_day</th>\n",
       "      <th>days_since_prior_order</th>\n",
       "    </tr>\n",
       "  </thead>\n",
       "  <tbody>\n",
       "    <tr>\n",
       "      <th>count</th>\n",
       "      <td>3.421083e+06</td>\n",
       "      <td>3.421083e+06</td>\n",
       "      <td>3.421083e+06</td>\n",
       "      <td>3.421083e+06</td>\n",
       "      <td>3.421083e+06</td>\n",
       "      <td>3.214874e+06</td>\n",
       "    </tr>\n",
       "    <tr>\n",
       "      <th>mean</th>\n",
       "      <td>1.710542e+06</td>\n",
       "      <td>1.029782e+05</td>\n",
       "      <td>1.715486e+01</td>\n",
       "      <td>2.776219e+00</td>\n",
       "      <td>1.345202e+01</td>\n",
       "      <td>1.111484e+01</td>\n",
       "    </tr>\n",
       "    <tr>\n",
       "      <th>std</th>\n",
       "      <td>9.875817e+05</td>\n",
       "      <td>5.953372e+04</td>\n",
       "      <td>1.773316e+01</td>\n",
       "      <td>2.046829e+00</td>\n",
       "      <td>4.226088e+00</td>\n",
       "      <td>9.206737e+00</td>\n",
       "    </tr>\n",
       "    <tr>\n",
       "      <th>min</th>\n",
       "      <td>1.000000e+00</td>\n",
       "      <td>1.000000e+00</td>\n",
       "      <td>1.000000e+00</td>\n",
       "      <td>0.000000e+00</td>\n",
       "      <td>0.000000e+00</td>\n",
       "      <td>0.000000e+00</td>\n",
       "    </tr>\n",
       "    <tr>\n",
       "      <th>25%</th>\n",
       "      <td>8.552715e+05</td>\n",
       "      <td>5.139400e+04</td>\n",
       "      <td>5.000000e+00</td>\n",
       "      <td>1.000000e+00</td>\n",
       "      <td>1.000000e+01</td>\n",
       "      <td>4.000000e+00</td>\n",
       "    </tr>\n",
       "    <tr>\n",
       "      <th>50%</th>\n",
       "      <td>1.710542e+06</td>\n",
       "      <td>1.026890e+05</td>\n",
       "      <td>1.100000e+01</td>\n",
       "      <td>3.000000e+00</td>\n",
       "      <td>1.300000e+01</td>\n",
       "      <td>7.000000e+00</td>\n",
       "    </tr>\n",
       "    <tr>\n",
       "      <th>75%</th>\n",
       "      <td>2.565812e+06</td>\n",
       "      <td>1.543850e+05</td>\n",
       "      <td>2.300000e+01</td>\n",
       "      <td>5.000000e+00</td>\n",
       "      <td>1.600000e+01</td>\n",
       "      <td>1.500000e+01</td>\n",
       "    </tr>\n",
       "    <tr>\n",
       "      <th>max</th>\n",
       "      <td>3.421083e+06</td>\n",
       "      <td>2.062090e+05</td>\n",
       "      <td>1.000000e+02</td>\n",
       "      <td>6.000000e+00</td>\n",
       "      <td>2.300000e+01</td>\n",
       "      <td>3.000000e+01</td>\n",
       "    </tr>\n",
       "  </tbody>\n",
       "</table>\n",
       "</div>"
      ],
      "text/plain": [
       "           order_id   customer_id  order_number  orders_day_of_week  \\\n",
       "count  3.421083e+06  3.421083e+06  3.421083e+06        3.421083e+06   \n",
       "mean   1.710542e+06  1.029782e+05  1.715486e+01        2.776219e+00   \n",
       "std    9.875817e+05  5.953372e+04  1.773316e+01        2.046829e+00   \n",
       "min    1.000000e+00  1.000000e+00  1.000000e+00        0.000000e+00   \n",
       "25%    8.552715e+05  5.139400e+04  5.000000e+00        1.000000e+00   \n",
       "50%    1.710542e+06  1.026890e+05  1.100000e+01        3.000000e+00   \n",
       "75%    2.565812e+06  1.543850e+05  2.300000e+01        5.000000e+00   \n",
       "max    3.421083e+06  2.062090e+05  1.000000e+02        6.000000e+00   \n",
       "\n",
       "       order_hour_of_day  days_since_prior_order  \n",
       "count       3.421083e+06            3.214874e+06  \n",
       "mean        1.345202e+01            1.111484e+01  \n",
       "std         4.226088e+00            9.206737e+00  \n",
       "min         0.000000e+00            0.000000e+00  \n",
       "25%         1.000000e+01            4.000000e+00  \n",
       "50%         1.300000e+01            7.000000e+00  \n",
       "75%         1.600000e+01            1.500000e+01  \n",
       "max         2.300000e+01            3.000000e+01  "
      ]
     },
     "execution_count": 15,
     "metadata": {},
     "output_type": "execute_result"
    }
   ],
   "source": [
    "df_ords.describe()"
   ]
  },
  {
   "cell_type": "code",
   "execution_count": 16,
   "id": "89c5181c-4a9c-4c33-92f2-4f6f84299ae4",
   "metadata": {
    "execution": {
     "iopub.execute_input": "2023-04-25T12:42:37.403038Z",
     "iopub.status.busy": "2023-04-25T12:42:37.402445Z",
     "iopub.status.idle": "2023-04-25T12:42:37.427461Z",
     "shell.execute_reply": "2023-04-25T12:42:37.426971Z",
     "shell.execute_reply.started": "2023-04-25T12:42:37.403001Z"
    }
   },
   "outputs": [
    {
     "data": {
      "text/html": [
       "<div>\n",
       "<style scoped>\n",
       "    .dataframe tbody tr th:only-of-type {\n",
       "        vertical-align: middle;\n",
       "    }\n",
       "\n",
       "    .dataframe tbody tr th {\n",
       "        vertical-align: top;\n",
       "    }\n",
       "\n",
       "    .dataframe thead th {\n",
       "        text-align: right;\n",
       "    }\n",
       "</style>\n",
       "<table border=\"1\" class=\"dataframe\">\n",
       "  <thead>\n",
       "    <tr style=\"text-align: right;\">\n",
       "      <th></th>\n",
       "      <th>product_id</th>\n",
       "      <th>aisle_id</th>\n",
       "      <th>department_id</th>\n",
       "      <th>prices</th>\n",
       "    </tr>\n",
       "  </thead>\n",
       "  <tbody>\n",
       "    <tr>\n",
       "      <th>count</th>\n",
       "      <td>49693.000000</td>\n",
       "      <td>49693.000000</td>\n",
       "      <td>49693.000000</td>\n",
       "      <td>49693.000000</td>\n",
       "    </tr>\n",
       "    <tr>\n",
       "      <th>mean</th>\n",
       "      <td>24844.345139</td>\n",
       "      <td>67.770249</td>\n",
       "      <td>11.728433</td>\n",
       "      <td>9.994136</td>\n",
       "    </tr>\n",
       "    <tr>\n",
       "      <th>std</th>\n",
       "      <td>14343.717401</td>\n",
       "      <td>38.316774</td>\n",
       "      <td>5.850282</td>\n",
       "      <td>453.519686</td>\n",
       "    </tr>\n",
       "    <tr>\n",
       "      <th>min</th>\n",
       "      <td>1.000000</td>\n",
       "      <td>1.000000</td>\n",
       "      <td>1.000000</td>\n",
       "      <td>1.000000</td>\n",
       "    </tr>\n",
       "    <tr>\n",
       "      <th>25%</th>\n",
       "      <td>12423.000000</td>\n",
       "      <td>35.000000</td>\n",
       "      <td>7.000000</td>\n",
       "      <td>4.100000</td>\n",
       "    </tr>\n",
       "    <tr>\n",
       "      <th>50%</th>\n",
       "      <td>24845.000000</td>\n",
       "      <td>69.000000</td>\n",
       "      <td>13.000000</td>\n",
       "      <td>7.100000</td>\n",
       "    </tr>\n",
       "    <tr>\n",
       "      <th>75%</th>\n",
       "      <td>37265.000000</td>\n",
       "      <td>100.000000</td>\n",
       "      <td>17.000000</td>\n",
       "      <td>11.200000</td>\n",
       "    </tr>\n",
       "    <tr>\n",
       "      <th>max</th>\n",
       "      <td>49688.000000</td>\n",
       "      <td>134.000000</td>\n",
       "      <td>21.000000</td>\n",
       "      <td>99999.000000</td>\n",
       "    </tr>\n",
       "  </tbody>\n",
       "</table>\n",
       "</div>"
      ],
      "text/plain": [
       "         product_id      aisle_id  department_id        prices\n",
       "count  49693.000000  49693.000000   49693.000000  49693.000000\n",
       "mean   24844.345139     67.770249      11.728433      9.994136\n",
       "std    14343.717401     38.316774       5.850282    453.519686\n",
       "min        1.000000      1.000000       1.000000      1.000000\n",
       "25%    12423.000000     35.000000       7.000000      4.100000\n",
       "50%    24845.000000     69.000000      13.000000      7.100000\n",
       "75%    37265.000000    100.000000      17.000000     11.200000\n",
       "max    49688.000000    134.000000      21.000000  99999.000000"
      ]
     },
     "execution_count": 16,
     "metadata": {},
     "output_type": "execute_result"
    }
   ],
   "source": [
    "df_prods.describe()"
   ]
  },
  {
   "cell_type": "code",
   "execution_count": 17,
   "id": "c4f5a0e1-3c82-4e02-8e3f-5955d804235e",
   "metadata": {
    "execution": {
     "iopub.execute_input": "2023-04-25T12:42:37.428909Z",
     "iopub.status.busy": "2023-04-25T12:42:37.428267Z",
     "iopub.status.idle": "2023-04-25T12:42:37.432903Z",
     "shell.execute_reply": "2023-04-25T12:42:37.432077Z",
     "shell.execute_reply.started": "2023-04-25T12:42:37.428882Z"
    }
   },
   "outputs": [],
   "source": [
    "df_test = pd.DataFrame()"
   ]
  },
  {
   "cell_type": "code",
   "execution_count": 18,
   "id": "7fb88819-9c19-4860-88d5-0d498f646313",
   "metadata": {
    "execution": {
     "iopub.execute_input": "2023-04-25T12:42:37.434684Z",
     "iopub.status.busy": "2023-04-25T12:42:37.434049Z",
     "iopub.status.idle": "2023-04-25T12:42:37.439713Z",
     "shell.execute_reply": "2023-04-25T12:42:37.439112Z",
     "shell.execute_reply.started": "2023-04-25T12:42:37.434657Z"
    }
   },
   "outputs": [],
   "source": [
    "df_test['mix'] = ['a', 'b', 1, True]"
   ]
  },
  {
   "cell_type": "code",
   "execution_count": 19,
   "id": "9b58b64a-81a5-4baa-989b-990d3479de33",
   "metadata": {
    "execution": {
     "iopub.execute_input": "2023-04-25T12:42:37.441010Z",
     "iopub.status.busy": "2023-04-25T12:42:37.440564Z",
     "iopub.status.idle": "2023-04-25T12:42:37.449043Z",
     "shell.execute_reply": "2023-04-25T12:42:37.448315Z",
     "shell.execute_reply.started": "2023-04-25T12:42:37.440982Z"
    }
   },
   "outputs": [
    {
     "data": {
      "text/html": [
       "<div>\n",
       "<style scoped>\n",
       "    .dataframe tbody tr th:only-of-type {\n",
       "        vertical-align: middle;\n",
       "    }\n",
       "\n",
       "    .dataframe tbody tr th {\n",
       "        vertical-align: top;\n",
       "    }\n",
       "\n",
       "    .dataframe thead th {\n",
       "        text-align: right;\n",
       "    }\n",
       "</style>\n",
       "<table border=\"1\" class=\"dataframe\">\n",
       "  <thead>\n",
       "    <tr style=\"text-align: right;\">\n",
       "      <th></th>\n",
       "      <th>mix</th>\n",
       "    </tr>\n",
       "  </thead>\n",
       "  <tbody>\n",
       "    <tr>\n",
       "      <th>0</th>\n",
       "      <td>a</td>\n",
       "    </tr>\n",
       "    <tr>\n",
       "      <th>1</th>\n",
       "      <td>b</td>\n",
       "    </tr>\n",
       "    <tr>\n",
       "      <th>2</th>\n",
       "      <td>1</td>\n",
       "    </tr>\n",
       "    <tr>\n",
       "      <th>3</th>\n",
       "      <td>True</td>\n",
       "    </tr>\n",
       "  </tbody>\n",
       "</table>\n",
       "</div>"
      ],
      "text/plain": [
       "    mix\n",
       "0     a\n",
       "1     b\n",
       "2     1\n",
       "3  True"
      ]
     },
     "execution_count": 19,
     "metadata": {},
     "output_type": "execute_result"
    }
   ],
   "source": [
    "df_test"
   ]
  },
  {
   "cell_type": "code",
   "execution_count": 20,
   "id": "52924f82-aed2-4459-a2ec-9c601a065437",
   "metadata": {
    "execution": {
     "iopub.execute_input": "2023-04-25T12:42:37.450277Z",
     "iopub.status.busy": "2023-04-25T12:42:37.450079Z",
     "iopub.status.idle": "2023-04-25T12:42:37.454445Z",
     "shell.execute_reply": "2023-04-25T12:42:37.453437Z",
     "shell.execute_reply.started": "2023-04-25T12:42:37.450255Z"
    }
   },
   "outputs": [],
   "source": [
    "# Function for looping through columns to look for mixed data types.  Copy pasta - I need to understand the 'type'\n",
    "# function and this extended df.iloc.apply.any syntax!"
   ]
  },
  {
   "cell_type": "code",
   "execution_count": 21,
   "id": "f4efa788-cd93-4f88-8a6b-13e0d19b9ebf",
   "metadata": {
    "execution": {
     "iopub.execute_input": "2023-04-25T12:42:37.455771Z",
     "iopub.status.busy": "2023-04-25T12:42:37.455564Z",
     "iopub.status.idle": "2023-04-25T12:42:37.467363Z",
     "shell.execute_reply": "2023-04-25T12:42:37.466523Z",
     "shell.execute_reply.started": "2023-04-25T12:42:37.455748Z"
    }
   },
   "outputs": [
    {
     "name": "stdout",
     "output_type": "stream",
     "text": [
      "mix\n"
     ]
    }
   ],
   "source": [
    "for col in df_test.columns.tolist():\n",
    "  weird = (df_test[[col]].applymap(type) != df_test[[col]].iloc[0].apply(type)).any(axis = 1)\n",
    "  if len (df_test[weird]) > 0:\n",
    "    print (col)"
   ]
  },
  {
   "cell_type": "code",
   "execution_count": 22,
   "id": "1f5098e0-95c1-4279-a2b2-e5a73afcb05a",
   "metadata": {
    "execution": {
     "iopub.execute_input": "2023-04-25T12:42:37.468926Z",
     "iopub.status.busy": "2023-04-25T12:42:37.468370Z",
     "iopub.status.idle": "2023-04-25T12:42:37.472587Z",
     "shell.execute_reply": "2023-04-25T12:42:37.472038Z",
     "shell.execute_reply.started": "2023-04-25T12:42:37.468899Z"
    }
   },
   "outputs": [],
   "source": [
    "# Make the 'mix' column all strings."
   ]
  },
  {
   "cell_type": "code",
   "execution_count": 23,
   "id": "d58d2778-f70e-4c25-a476-20f37f26cd24",
   "metadata": {
    "execution": {
     "iopub.execute_input": "2023-04-25T12:42:37.473861Z",
     "iopub.status.busy": "2023-04-25T12:42:37.473570Z",
     "iopub.status.idle": "2023-04-25T12:42:37.480684Z",
     "shell.execute_reply": "2023-04-25T12:42:37.480142Z",
     "shell.execute_reply.started": "2023-04-25T12:42:37.473838Z"
    }
   },
   "outputs": [],
   "source": [
    "df_test['mix'] = df_test['mix'].astype('str')"
   ]
  },
  {
   "cell_type": "code",
   "execution_count": 24,
   "id": "f362e429-e6a2-4e6d-b672-e63a0ab54717",
   "metadata": {
    "execution": {
     "iopub.execute_input": "2023-04-25T12:42:37.482171Z",
     "iopub.status.busy": "2023-04-25T12:42:37.481839Z",
     "iopub.status.idle": "2023-04-25T12:42:37.488951Z",
     "shell.execute_reply": "2023-04-25T12:42:37.488129Z",
     "shell.execute_reply.started": "2023-04-25T12:42:37.482147Z"
    }
   },
   "outputs": [
    {
     "data": {
      "text/plain": [
       "mix    object\n",
       "dtype: object"
      ]
     },
     "execution_count": 24,
     "metadata": {},
     "output_type": "execute_result"
    }
   ],
   "source": [
    "df_test.dtypes"
   ]
  },
  {
   "cell_type": "code",
   "execution_count": 25,
   "id": "67c04c18-fb2f-4b86-89bd-6392f693f0f8",
   "metadata": {
    "execution": {
     "iopub.execute_input": "2023-04-25T12:42:37.490520Z",
     "iopub.status.busy": "2023-04-25T12:42:37.490316Z",
     "iopub.status.idle": "2023-04-25T12:42:37.494181Z",
     "shell.execute_reply": "2023-04-25T12:42:37.493335Z",
     "shell.execute_reply.started": "2023-04-25T12:42:37.490497Z"
    }
   },
   "outputs": [],
   "source": [
    "# Look for nulls in df_prods."
   ]
  },
  {
   "cell_type": "code",
   "execution_count": 26,
   "id": "def0a163-8227-4eeb-a992-6c87f1a5ca98",
   "metadata": {
    "execution": {
     "iopub.execute_input": "2023-04-25T12:42:37.496191Z",
     "iopub.status.busy": "2023-04-25T12:42:37.495457Z",
     "iopub.status.idle": "2023-04-25T12:42:37.513622Z",
     "shell.execute_reply": "2023-04-25T12:42:37.512650Z",
     "shell.execute_reply.started": "2023-04-25T12:42:37.496162Z"
    }
   },
   "outputs": [
    {
     "data": {
      "text/plain": [
       "product_id        0\n",
       "product_name     16\n",
       "aisle_id          0\n",
       "department_id     0\n",
       "prices            0\n",
       "dtype: int64"
      ]
     },
     "execution_count": 26,
     "metadata": {},
     "output_type": "execute_result"
    }
   ],
   "source": [
    "df_prods.isnull().sum()"
   ]
  },
  {
   "cell_type": "code",
   "execution_count": 27,
   "id": "52574334-4ba8-48f0-af47-f4e4ce6467c6",
   "metadata": {
    "execution": {
     "iopub.execute_input": "2023-04-25T12:42:37.514966Z",
     "iopub.status.busy": "2023-04-25T12:42:37.514719Z",
     "iopub.status.idle": "2023-04-25T12:42:37.518633Z",
     "shell.execute_reply": "2023-04-25T12:42:37.517923Z",
     "shell.execute_reply.started": "2023-04-25T12:42:37.514942Z"
    }
   },
   "outputs": [],
   "source": [
    "# The nulls in df_prods['product_name'] ."
   ]
  },
  {
   "cell_type": "code",
   "execution_count": 28,
   "id": "87659be3-d4bc-4fde-87fb-37bd7936b837",
   "metadata": {
    "execution": {
     "iopub.execute_input": "2023-04-25T12:42:37.524924Z",
     "iopub.status.busy": "2023-04-25T12:42:37.524660Z",
     "iopub.status.idle": "2023-04-25T12:42:37.533885Z",
     "shell.execute_reply": "2023-04-25T12:42:37.532948Z",
     "shell.execute_reply.started": "2023-04-25T12:42:37.524899Z"
    },
    "tags": []
   },
   "outputs": [],
   "source": [
    "df_nan=df_prods[df_prods['product_name'].isnull()==True]"
   ]
  },
  {
   "cell_type": "code",
   "execution_count": 29,
   "id": "d52710ea-34d5-4589-a60c-ee92b4c17423",
   "metadata": {
    "execution": {
     "iopub.execute_input": "2023-04-25T12:42:37.535219Z",
     "iopub.status.busy": "2023-04-25T12:42:37.534963Z",
     "iopub.status.idle": "2023-04-25T12:42:37.552639Z",
     "shell.execute_reply": "2023-04-25T12:42:37.551766Z",
     "shell.execute_reply.started": "2023-04-25T12:42:37.535193Z"
    }
   },
   "outputs": [
    {
     "data": {
      "text/html": [
       "<div>\n",
       "<style scoped>\n",
       "    .dataframe tbody tr th:only-of-type {\n",
       "        vertical-align: middle;\n",
       "    }\n",
       "\n",
       "    .dataframe tbody tr th {\n",
       "        vertical-align: top;\n",
       "    }\n",
       "\n",
       "    .dataframe thead th {\n",
       "        text-align: right;\n",
       "    }\n",
       "</style>\n",
       "<table border=\"1\" class=\"dataframe\">\n",
       "  <thead>\n",
       "    <tr style=\"text-align: right;\">\n",
       "      <th></th>\n",
       "      <th>product_id</th>\n",
       "      <th>product_name</th>\n",
       "      <th>aisle_id</th>\n",
       "      <th>department_id</th>\n",
       "      <th>prices</th>\n",
       "    </tr>\n",
       "  </thead>\n",
       "  <tbody>\n",
       "    <tr>\n",
       "      <th>33</th>\n",
       "      <td>34</td>\n",
       "      <td>NaN</td>\n",
       "      <td>121</td>\n",
       "      <td>14</td>\n",
       "      <td>12.2</td>\n",
       "    </tr>\n",
       "    <tr>\n",
       "      <th>68</th>\n",
       "      <td>69</td>\n",
       "      <td>NaN</td>\n",
       "      <td>26</td>\n",
       "      <td>7</td>\n",
       "      <td>11.8</td>\n",
       "    </tr>\n",
       "    <tr>\n",
       "      <th>115</th>\n",
       "      <td>116</td>\n",
       "      <td>NaN</td>\n",
       "      <td>93</td>\n",
       "      <td>3</td>\n",
       "      <td>10.8</td>\n",
       "    </tr>\n",
       "    <tr>\n",
       "      <th>261</th>\n",
       "      <td>262</td>\n",
       "      <td>NaN</td>\n",
       "      <td>110</td>\n",
       "      <td>13</td>\n",
       "      <td>12.1</td>\n",
       "    </tr>\n",
       "    <tr>\n",
       "      <th>525</th>\n",
       "      <td>525</td>\n",
       "      <td>NaN</td>\n",
       "      <td>109</td>\n",
       "      <td>11</td>\n",
       "      <td>1.2</td>\n",
       "    </tr>\n",
       "    <tr>\n",
       "      <th>1511</th>\n",
       "      <td>1511</td>\n",
       "      <td>NaN</td>\n",
       "      <td>84</td>\n",
       "      <td>16</td>\n",
       "      <td>14.3</td>\n",
       "    </tr>\n",
       "    <tr>\n",
       "      <th>1780</th>\n",
       "      <td>1780</td>\n",
       "      <td>NaN</td>\n",
       "      <td>126</td>\n",
       "      <td>11</td>\n",
       "      <td>12.3</td>\n",
       "    </tr>\n",
       "    <tr>\n",
       "      <th>2240</th>\n",
       "      <td>2240</td>\n",
       "      <td>NaN</td>\n",
       "      <td>52</td>\n",
       "      <td>1</td>\n",
       "      <td>14.2</td>\n",
       "    </tr>\n",
       "    <tr>\n",
       "      <th>2586</th>\n",
       "      <td>2586</td>\n",
       "      <td>NaN</td>\n",
       "      <td>104</td>\n",
       "      <td>13</td>\n",
       "      <td>12.4</td>\n",
       "    </tr>\n",
       "    <tr>\n",
       "      <th>3159</th>\n",
       "      <td>3159</td>\n",
       "      <td>NaN</td>\n",
       "      <td>126</td>\n",
       "      <td>11</td>\n",
       "      <td>13.1</td>\n",
       "    </tr>\n",
       "    <tr>\n",
       "      <th>3230</th>\n",
       "      <td>3230</td>\n",
       "      <td>NaN</td>\n",
       "      <td>120</td>\n",
       "      <td>16</td>\n",
       "      <td>14.4</td>\n",
       "    </tr>\n",
       "    <tr>\n",
       "      <th>3736</th>\n",
       "      <td>3736</td>\n",
       "      <td>NaN</td>\n",
       "      <td>41</td>\n",
       "      <td>8</td>\n",
       "      <td>14.8</td>\n",
       "    </tr>\n",
       "    <tr>\n",
       "      <th>4283</th>\n",
       "      <td>4283</td>\n",
       "      <td>NaN</td>\n",
       "      <td>77</td>\n",
       "      <td>7</td>\n",
       "      <td>14.4</td>\n",
       "    </tr>\n",
       "    <tr>\n",
       "      <th>4790</th>\n",
       "      <td>4790</td>\n",
       "      <td>NaN</td>\n",
       "      <td>91</td>\n",
       "      <td>16</td>\n",
       "      <td>14.5</td>\n",
       "    </tr>\n",
       "    <tr>\n",
       "      <th>38187</th>\n",
       "      <td>38183</td>\n",
       "      <td>NaN</td>\n",
       "      <td>39</td>\n",
       "      <td>12</td>\n",
       "      <td>20.9</td>\n",
       "    </tr>\n",
       "    <tr>\n",
       "      <th>40444</th>\n",
       "      <td>40440</td>\n",
       "      <td>NaN</td>\n",
       "      <td>120</td>\n",
       "      <td>16</td>\n",
       "      <td>14.8</td>\n",
       "    </tr>\n",
       "  </tbody>\n",
       "</table>\n",
       "</div>"
      ],
      "text/plain": [
       "       product_id product_name  aisle_id  department_id  prices\n",
       "33             34          NaN       121             14    12.2\n",
       "68             69          NaN        26              7    11.8\n",
       "115           116          NaN        93              3    10.8\n",
       "261           262          NaN       110             13    12.1\n",
       "525           525          NaN       109             11     1.2\n",
       "1511         1511          NaN        84             16    14.3\n",
       "1780         1780          NaN       126             11    12.3\n",
       "2240         2240          NaN        52              1    14.2\n",
       "2586         2586          NaN       104             13    12.4\n",
       "3159         3159          NaN       126             11    13.1\n",
       "3230         3230          NaN       120             16    14.4\n",
       "3736         3736          NaN        41              8    14.8\n",
       "4283         4283          NaN        77              7    14.4\n",
       "4790         4790          NaN        91             16    14.5\n",
       "38187       38183          NaN        39             12    20.9\n",
       "40444       40440          NaN       120             16    14.8"
      ]
     },
     "execution_count": 29,
     "metadata": {},
     "output_type": "execute_result"
    }
   ],
   "source": [
    "df_nan"
   ]
  },
  {
   "cell_type": "code",
   "execution_count": 30,
   "id": "29a78b49-cc0a-435c-a4ef-060e2e67e7c3",
   "metadata": {
    "execution": {
     "iopub.execute_input": "2023-04-25T12:42:37.554761Z",
     "iopub.status.busy": "2023-04-25T12:42:37.553973Z",
     "iopub.status.idle": "2023-04-25T12:42:37.712056Z",
     "shell.execute_reply": "2023-04-25T12:42:37.710988Z",
     "shell.execute_reply.started": "2023-04-25T12:42:37.554718Z"
    }
   },
   "outputs": [
    {
     "name": "stderr",
     "output_type": "stream",
     "text": [
      "/tmp/ipykernel_2746/3387230063.py:1: FutureWarning: Dropping of nuisance columns in DataFrame reductions (with 'numeric_only=None') is deprecated; in a future version this will raise TypeError.  Select only valid columns before calling the reduction.\n",
      "  df_prods.median()\n"
     ]
    },
    {
     "data": {
      "text/plain": [
       "product_id       24845.0\n",
       "aisle_id            69.0\n",
       "department_id       13.0\n",
       "prices               7.1\n",
       "dtype: float64"
      ]
     },
     "execution_count": 30,
     "metadata": {},
     "output_type": "execute_result"
    }
   ],
   "source": [
    "df_prods.median()"
   ]
  },
  {
   "cell_type": "code",
   "execution_count": 31,
   "id": "5d0fe75e-9f70-4163-8a43-ce25dede1b3f",
   "metadata": {
    "execution": {
     "iopub.execute_input": "2023-04-25T12:42:37.716411Z",
     "iopub.status.busy": "2023-04-25T12:42:37.714582Z",
     "iopub.status.idle": "2023-04-25T12:42:37.744683Z",
     "shell.execute_reply": "2023-04-25T12:42:37.744142Z",
     "shell.execute_reply.started": "2023-04-25T12:42:37.716376Z"
    }
   },
   "outputs": [
    {
     "name": "stderr",
     "output_type": "stream",
     "text": [
      "/tmp/ipykernel_2746/730692063.py:1: FutureWarning: Dropping of nuisance columns in DataFrame reductions (with 'numeric_only=None') is deprecated; in a future version this will raise TypeError.  Select only valid columns before calling the reduction.\n",
      "  df_prods.mean()\n"
     ]
    },
    {
     "data": {
      "text/plain": [
       "product_id       24844.345139\n",
       "aisle_id            67.770249\n",
       "department_id       11.728433\n",
       "prices               9.994136\n",
       "dtype: float64"
      ]
     },
     "execution_count": 31,
     "metadata": {},
     "output_type": "execute_result"
    }
   ],
   "source": [
    "df_prods.mean()"
   ]
  },
  {
   "cell_type": "code",
   "execution_count": 32,
   "id": "5643565b-e2b0-4030-ac57-137ee204877a",
   "metadata": {
    "execution": {
     "iopub.execute_input": "2023-04-25T12:42:37.746342Z",
     "iopub.status.busy": "2023-04-25T12:42:37.745749Z",
     "iopub.status.idle": "2023-04-25T12:42:37.772801Z",
     "shell.execute_reply": "2023-04-25T12:42:37.771938Z",
     "shell.execute_reply.started": "2023-04-25T12:42:37.746316Z"
    }
   },
   "outputs": [
    {
     "data": {
      "text/html": [
       "<div>\n",
       "<style scoped>\n",
       "    .dataframe tbody tr th:only-of-type {\n",
       "        vertical-align: middle;\n",
       "    }\n",
       "\n",
       "    .dataframe tbody tr th {\n",
       "        vertical-align: top;\n",
       "    }\n",
       "\n",
       "    .dataframe thead th {\n",
       "        text-align: right;\n",
       "    }\n",
       "</style>\n",
       "<table border=\"1\" class=\"dataframe\">\n",
       "  <thead>\n",
       "    <tr style=\"text-align: right;\">\n",
       "      <th></th>\n",
       "      <th>product_id</th>\n",
       "      <th>aisle_id</th>\n",
       "      <th>department_id</th>\n",
       "      <th>prices</th>\n",
       "    </tr>\n",
       "  </thead>\n",
       "  <tbody>\n",
       "    <tr>\n",
       "      <th>count</th>\n",
       "      <td>49693.000000</td>\n",
       "      <td>49693.000000</td>\n",
       "      <td>49693.000000</td>\n",
       "      <td>49693.000000</td>\n",
       "    </tr>\n",
       "    <tr>\n",
       "      <th>mean</th>\n",
       "      <td>24844.345139</td>\n",
       "      <td>67.770249</td>\n",
       "      <td>11.728433</td>\n",
       "      <td>9.994136</td>\n",
       "    </tr>\n",
       "    <tr>\n",
       "      <th>std</th>\n",
       "      <td>14343.717401</td>\n",
       "      <td>38.316774</td>\n",
       "      <td>5.850282</td>\n",
       "      <td>453.519686</td>\n",
       "    </tr>\n",
       "    <tr>\n",
       "      <th>min</th>\n",
       "      <td>1.000000</td>\n",
       "      <td>1.000000</td>\n",
       "      <td>1.000000</td>\n",
       "      <td>1.000000</td>\n",
       "    </tr>\n",
       "    <tr>\n",
       "      <th>25%</th>\n",
       "      <td>12423.000000</td>\n",
       "      <td>35.000000</td>\n",
       "      <td>7.000000</td>\n",
       "      <td>4.100000</td>\n",
       "    </tr>\n",
       "    <tr>\n",
       "      <th>50%</th>\n",
       "      <td>24845.000000</td>\n",
       "      <td>69.000000</td>\n",
       "      <td>13.000000</td>\n",
       "      <td>7.100000</td>\n",
       "    </tr>\n",
       "    <tr>\n",
       "      <th>75%</th>\n",
       "      <td>37265.000000</td>\n",
       "      <td>100.000000</td>\n",
       "      <td>17.000000</td>\n",
       "      <td>11.200000</td>\n",
       "    </tr>\n",
       "    <tr>\n",
       "      <th>max</th>\n",
       "      <td>49688.000000</td>\n",
       "      <td>134.000000</td>\n",
       "      <td>21.000000</td>\n",
       "      <td>99999.000000</td>\n",
       "    </tr>\n",
       "  </tbody>\n",
       "</table>\n",
       "</div>"
      ],
      "text/plain": [
       "         product_id      aisle_id  department_id        prices\n",
       "count  49693.000000  49693.000000   49693.000000  49693.000000\n",
       "mean   24844.345139     67.770249      11.728433      9.994136\n",
       "std    14343.717401     38.316774       5.850282    453.519686\n",
       "min        1.000000      1.000000       1.000000      1.000000\n",
       "25%    12423.000000     35.000000       7.000000      4.100000\n",
       "50%    24845.000000     69.000000      13.000000      7.100000\n",
       "75%    37265.000000    100.000000      17.000000     11.200000\n",
       "max    49688.000000    134.000000      21.000000  99999.000000"
      ]
     },
     "execution_count": 32,
     "metadata": {},
     "output_type": "execute_result"
    }
   ],
   "source": [
    "df_prods.describe()"
   ]
  },
  {
   "cell_type": "code",
   "execution_count": 33,
   "id": "c862d2d0-cbd2-42cd-b46b-0b7fd6c3f0ad",
   "metadata": {
    "execution": {
     "iopub.execute_input": "2023-04-25T12:42:37.774579Z",
     "iopub.status.busy": "2023-04-25T12:42:37.774283Z",
     "iopub.status.idle": "2023-04-25T12:42:37.779252Z",
     "shell.execute_reply": "2023-04-25T12:42:37.778668Z",
     "shell.execute_reply.started": "2023-04-25T12:42:37.774556Z"
    }
   },
   "outputs": [
    {
     "data": {
      "text/plain": [
       "(49693, 5)"
      ]
     },
     "execution_count": 33,
     "metadata": {},
     "output_type": "execute_result"
    }
   ],
   "source": [
    "df_prods.shape"
   ]
  },
  {
   "cell_type": "code",
   "execution_count": 34,
   "id": "c5b39931-b97e-45d9-9e33-454828026640",
   "metadata": {
    "execution": {
     "iopub.execute_input": "2023-04-25T12:42:37.780946Z",
     "iopub.status.busy": "2023-04-25T12:42:37.780253Z",
     "iopub.status.idle": "2023-04-25T12:42:37.784511Z",
     "shell.execute_reply": "2023-04-25T12:42:37.783711Z",
     "shell.execute_reply.started": "2023-04-25T12:42:37.780914Z"
    }
   },
   "outputs": [],
   "source": [
    "# New DF of products without missing product names."
   ]
  },
  {
   "cell_type": "code",
   "execution_count": 35,
   "id": "0ba08d6c-8a2b-4680-b21e-e97e23f8b3f6",
   "metadata": {
    "execution": {
     "iopub.execute_input": "2023-04-25T12:42:37.785931Z",
     "iopub.status.busy": "2023-04-25T12:42:37.785640Z",
     "iopub.status.idle": "2023-04-25T12:42:37.795766Z",
     "shell.execute_reply": "2023-04-25T12:42:37.795213Z",
     "shell.execute_reply.started": "2023-04-25T12:42:37.785903Z"
    }
   },
   "outputs": [],
   "source": [
    "df_prods_clean=df_prods[df_prods['product_name'].isnull()==False]"
   ]
  },
  {
   "cell_type": "code",
   "execution_count": 36,
   "id": "6ab6f4f8-d8b0-45ba-ad08-c1cd2230adca",
   "metadata": {
    "execution": {
     "iopub.execute_input": "2023-04-25T12:42:37.796975Z",
     "iopub.status.busy": "2023-04-25T12:42:37.796600Z",
     "iopub.status.idle": "2023-04-25T12:42:37.807630Z",
     "shell.execute_reply": "2023-04-25T12:42:37.807032Z",
     "shell.execute_reply.started": "2023-04-25T12:42:37.796940Z"
    }
   },
   "outputs": [
    {
     "data": {
      "text/html": [
       "<div>\n",
       "<style scoped>\n",
       "    .dataframe tbody tr th:only-of-type {\n",
       "        vertical-align: middle;\n",
       "    }\n",
       "\n",
       "    .dataframe tbody tr th {\n",
       "        vertical-align: top;\n",
       "    }\n",
       "\n",
       "    .dataframe thead th {\n",
       "        text-align: right;\n",
       "    }\n",
       "</style>\n",
       "<table border=\"1\" class=\"dataframe\">\n",
       "  <thead>\n",
       "    <tr style=\"text-align: right;\">\n",
       "      <th></th>\n",
       "      <th>product_id</th>\n",
       "      <th>product_name</th>\n",
       "      <th>aisle_id</th>\n",
       "      <th>department_id</th>\n",
       "      <th>prices</th>\n",
       "    </tr>\n",
       "  </thead>\n",
       "  <tbody>\n",
       "    <tr>\n",
       "      <th>0</th>\n",
       "      <td>1</td>\n",
       "      <td>Chocolate Sandwich Cookies</td>\n",
       "      <td>61</td>\n",
       "      <td>19</td>\n",
       "      <td>5.8</td>\n",
       "    </tr>\n",
       "    <tr>\n",
       "      <th>1</th>\n",
       "      <td>2</td>\n",
       "      <td>All-Seasons Salt</td>\n",
       "      <td>104</td>\n",
       "      <td>13</td>\n",
       "      <td>9.3</td>\n",
       "    </tr>\n",
       "    <tr>\n",
       "      <th>2</th>\n",
       "      <td>3</td>\n",
       "      <td>Robust Golden Unsweetened Oolong Tea</td>\n",
       "      <td>94</td>\n",
       "      <td>7</td>\n",
       "      <td>4.5</td>\n",
       "    </tr>\n",
       "    <tr>\n",
       "      <th>3</th>\n",
       "      <td>4</td>\n",
       "      <td>Smart Ones Classic Favorites Mini Rigatoni Wit...</td>\n",
       "      <td>38</td>\n",
       "      <td>1</td>\n",
       "      <td>10.5</td>\n",
       "    </tr>\n",
       "    <tr>\n",
       "      <th>4</th>\n",
       "      <td>5</td>\n",
       "      <td>Green Chile Anytime Sauce</td>\n",
       "      <td>5</td>\n",
       "      <td>13</td>\n",
       "      <td>4.3</td>\n",
       "    </tr>\n",
       "  </tbody>\n",
       "</table>\n",
       "</div>"
      ],
      "text/plain": [
       "   product_id                                       product_name  aisle_id  \\\n",
       "0           1                         Chocolate Sandwich Cookies        61   \n",
       "1           2                                   All-Seasons Salt       104   \n",
       "2           3               Robust Golden Unsweetened Oolong Tea        94   \n",
       "3           4  Smart Ones Classic Favorites Mini Rigatoni Wit...        38   \n",
       "4           5                          Green Chile Anytime Sauce         5   \n",
       "\n",
       "   department_id  prices  \n",
       "0             19     5.8  \n",
       "1             13     9.3  \n",
       "2              7     4.5  \n",
       "3              1    10.5  \n",
       "4             13     4.3  "
      ]
     },
     "execution_count": 36,
     "metadata": {},
     "output_type": "execute_result"
    }
   ],
   "source": [
    "df_prods_clean.head()"
   ]
  },
  {
   "cell_type": "code",
   "execution_count": 37,
   "id": "e0fb41e0-0928-4da4-8136-7f71aa73b588",
   "metadata": {
    "execution": {
     "iopub.execute_input": "2023-04-25T12:42:37.809655Z",
     "iopub.status.busy": "2023-04-25T12:42:37.808612Z",
     "iopub.status.idle": "2023-04-25T12:42:37.815594Z",
     "shell.execute_reply": "2023-04-25T12:42:37.814694Z",
     "shell.execute_reply.started": "2023-04-25T12:42:37.809613Z"
    }
   },
   "outputs": [
    {
     "data": {
      "text/plain": [
       "(49677, 5)"
      ]
     },
     "execution_count": 37,
     "metadata": {},
     "output_type": "execute_result"
    }
   ],
   "source": [
    "df_prods_clean.shape"
   ]
  },
  {
   "cell_type": "code",
   "execution_count": 38,
   "id": "f8a0f030-89cd-46a8-9664-717b0b4d3779",
   "metadata": {
    "execution": {
     "iopub.execute_input": "2023-04-25T12:42:37.818178Z",
     "iopub.status.busy": "2023-04-25T12:42:37.817611Z",
     "iopub.status.idle": "2023-04-25T12:42:37.824973Z",
     "shell.execute_reply": "2023-04-25T12:42:37.823917Z",
     "shell.execute_reply.started": "2023-04-25T12:42:37.818126Z"
    }
   },
   "outputs": [
    {
     "data": {
      "text/plain": [
       "(16, 5)"
      ]
     },
     "execution_count": 38,
     "metadata": {},
     "output_type": "execute_result"
    }
   ],
   "source": [
    "df_nan.shape"
   ]
  },
  {
   "cell_type": "code",
   "execution_count": 39,
   "id": "0120aa30-099f-4348-b52f-5f665d8357b0",
   "metadata": {
    "execution": {
     "iopub.execute_input": "2023-04-25T12:42:37.827183Z",
     "iopub.status.busy": "2023-04-25T12:42:37.826649Z",
     "iopub.status.idle": "2023-04-25T12:42:37.831856Z",
     "shell.execute_reply": "2023-04-25T12:42:37.830730Z",
     "shell.execute_reply.started": "2023-04-25T12:42:37.827144Z"
    }
   },
   "outputs": [],
   "source": [
    "# Look for duplicate rows."
   ]
  },
  {
   "cell_type": "code",
   "execution_count": 40,
   "id": "c007fa22-bdee-4c93-ba52-ad657ab8c552",
   "metadata": {
    "execution": {
     "iopub.execute_input": "2023-04-25T12:42:37.833810Z",
     "iopub.status.busy": "2023-04-25T12:42:37.833466Z",
     "iopub.status.idle": "2023-04-25T12:42:37.870013Z",
     "shell.execute_reply": "2023-04-25T12:42:37.869005Z",
     "shell.execute_reply.started": "2023-04-25T12:42:37.833771Z"
    }
   },
   "outputs": [],
   "source": [
    "df_dups = df_prods_clean[df_prods_clean.duplicated()]"
   ]
  },
  {
   "cell_type": "code",
   "execution_count": 41,
   "id": "5d068f1f-56a1-45a8-b2ce-b3154fec4f0e",
   "metadata": {
    "execution": {
     "iopub.execute_input": "2023-04-25T12:42:37.871987Z",
     "iopub.status.busy": "2023-04-25T12:42:37.871206Z",
     "iopub.status.idle": "2023-04-25T12:42:37.877851Z",
     "shell.execute_reply": "2023-04-25T12:42:37.876742Z",
     "shell.execute_reply.started": "2023-04-25T12:42:37.871943Z"
    }
   },
   "outputs": [
    {
     "data": {
      "text/plain": [
       "(5, 5)"
      ]
     },
     "execution_count": 41,
     "metadata": {},
     "output_type": "execute_result"
    }
   ],
   "source": [
    "df_dups.shape"
   ]
  },
  {
   "cell_type": "code",
   "execution_count": 42,
   "id": "c612f7e9-2012-4399-82fe-edcd2561d7f7",
   "metadata": {
    "execution": {
     "iopub.execute_input": "2023-04-25T12:42:37.879092Z",
     "iopub.status.busy": "2023-04-25T12:42:37.878891Z",
     "iopub.status.idle": "2023-04-25T12:42:37.891599Z",
     "shell.execute_reply": "2023-04-25T12:42:37.890506Z",
     "shell.execute_reply.started": "2023-04-25T12:42:37.879069Z"
    }
   },
   "outputs": [
    {
     "data": {
      "text/html": [
       "<div>\n",
       "<style scoped>\n",
       "    .dataframe tbody tr th:only-of-type {\n",
       "        vertical-align: middle;\n",
       "    }\n",
       "\n",
       "    .dataframe tbody tr th {\n",
       "        vertical-align: top;\n",
       "    }\n",
       "\n",
       "    .dataframe thead th {\n",
       "        text-align: right;\n",
       "    }\n",
       "</style>\n",
       "<table border=\"1\" class=\"dataframe\">\n",
       "  <thead>\n",
       "    <tr style=\"text-align: right;\">\n",
       "      <th></th>\n",
       "      <th>product_id</th>\n",
       "      <th>product_name</th>\n",
       "      <th>aisle_id</th>\n",
       "      <th>department_id</th>\n",
       "      <th>prices</th>\n",
       "    </tr>\n",
       "  </thead>\n",
       "  <tbody>\n",
       "    <tr>\n",
       "      <th>462</th>\n",
       "      <td>462</td>\n",
       "      <td>Fiber 4g Gummy Dietary Supplement</td>\n",
       "      <td>70</td>\n",
       "      <td>11</td>\n",
       "      <td>4.8</td>\n",
       "    </tr>\n",
       "    <tr>\n",
       "      <th>18459</th>\n",
       "      <td>18458</td>\n",
       "      <td>Ranger IPA</td>\n",
       "      <td>27</td>\n",
       "      <td>5</td>\n",
       "      <td>9.2</td>\n",
       "    </tr>\n",
       "    <tr>\n",
       "      <th>26810</th>\n",
       "      <td>26808</td>\n",
       "      <td>Black House Coffee Roasty Stout Beer</td>\n",
       "      <td>27</td>\n",
       "      <td>5</td>\n",
       "      <td>13.4</td>\n",
       "    </tr>\n",
       "    <tr>\n",
       "      <th>35309</th>\n",
       "      <td>35306</td>\n",
       "      <td>Gluten Free Organic Peanut Butter &amp; Chocolate ...</td>\n",
       "      <td>121</td>\n",
       "      <td>14</td>\n",
       "      <td>6.8</td>\n",
       "    </tr>\n",
       "    <tr>\n",
       "      <th>35495</th>\n",
       "      <td>35491</td>\n",
       "      <td>Adore Forever Body Wash</td>\n",
       "      <td>127</td>\n",
       "      <td>11</td>\n",
       "      <td>9.9</td>\n",
       "    </tr>\n",
       "  </tbody>\n",
       "</table>\n",
       "</div>"
      ],
      "text/plain": [
       "       product_id                                       product_name  \\\n",
       "462           462                  Fiber 4g Gummy Dietary Supplement   \n",
       "18459       18458                                         Ranger IPA   \n",
       "26810       26808               Black House Coffee Roasty Stout Beer   \n",
       "35309       35306  Gluten Free Organic Peanut Butter & Chocolate ...   \n",
       "35495       35491                            Adore Forever Body Wash   \n",
       "\n",
       "       aisle_id  department_id  prices  \n",
       "462          70             11     4.8  \n",
       "18459        27              5     9.2  \n",
       "26810        27              5    13.4  \n",
       "35309       121             14     6.8  \n",
       "35495       127             11     9.9  "
      ]
     },
     "execution_count": 42,
     "metadata": {},
     "output_type": "execute_result"
    }
   ],
   "source": [
    "df_dups"
   ]
  },
  {
   "cell_type": "code",
   "execution_count": 43,
   "id": "43ea90a8-0102-4458-893f-41c143b58285",
   "metadata": {
    "execution": {
     "iopub.execute_input": "2023-04-25T12:42:37.892561Z",
     "iopub.status.busy": "2023-04-25T12:42:37.892364Z",
     "iopub.status.idle": "2023-04-25T12:42:37.896762Z",
     "shell.execute_reply": "2023-04-25T12:42:37.896082Z",
     "shell.execute_reply.started": "2023-04-25T12:42:37.892539Z"
    }
   },
   "outputs": [],
   "source": [
    "# Form a new DataFrame by dropping the duplicates."
   ]
  },
  {
   "cell_type": "code",
   "execution_count": 44,
   "id": "4e59d293-4eb2-4156-b4e5-6e1a074c3991",
   "metadata": {
    "execution": {
     "iopub.execute_input": "2023-04-25T12:42:37.898333Z",
     "iopub.status.busy": "2023-04-25T12:42:37.897662Z",
     "iopub.status.idle": "2023-04-25T12:42:37.923245Z",
     "shell.execute_reply": "2023-04-25T12:42:37.922486Z",
     "shell.execute_reply.started": "2023-04-25T12:42:37.898292Z"
    }
   },
   "outputs": [],
   "source": [
    "df_prods_clean_no_dups = df_prods_clean.drop_duplicates()"
   ]
  },
  {
   "cell_type": "code",
   "execution_count": 45,
   "id": "d940bc40-5022-4b6d-966e-65cba4de1be8",
   "metadata": {
    "execution": {
     "iopub.execute_input": "2023-04-25T12:42:37.924474Z",
     "iopub.status.busy": "2023-04-25T12:42:37.924281Z",
     "iopub.status.idle": "2023-04-25T12:42:37.934370Z",
     "shell.execute_reply": "2023-04-25T12:42:37.933537Z",
     "shell.execute_reply.started": "2023-04-25T12:42:37.924452Z"
    }
   },
   "outputs": [
    {
     "data": {
      "text/plain": [
       "(49672, 5)"
      ]
     },
     "execution_count": 45,
     "metadata": {},
     "output_type": "execute_result"
    }
   ],
   "source": [
    "df_prods_clean_no_dups.shape"
   ]
  },
  {
   "cell_type": "code",
   "execution_count": 46,
   "id": "9fe69fe7-e913-4a0d-9374-caf040ab241b",
   "metadata": {
    "execution": {
     "iopub.execute_input": "2023-04-25T12:42:37.936697Z",
     "iopub.status.busy": "2023-04-25T12:42:37.935597Z",
     "iopub.status.idle": "2023-04-25T12:42:37.939890Z",
     "shell.execute_reply": "2023-04-25T12:42:37.939293Z",
     "shell.execute_reply.started": "2023-04-25T12:42:37.936665Z"
    }
   },
   "outputs": [],
   "source": [
    "# Name the new DF something nicer."
   ]
  },
  {
   "cell_type": "code",
   "execution_count": 47,
   "id": "6b843ee0-1737-429d-a8a1-727837e4f6b9",
   "metadata": {
    "execution": {
     "iopub.execute_input": "2023-04-25T12:42:37.941060Z",
     "iopub.status.busy": "2023-04-25T12:42:37.940841Z",
     "iopub.status.idle": "2023-04-25T12:42:37.945455Z",
     "shell.execute_reply": "2023-04-25T12:42:37.944915Z",
     "shell.execute_reply.started": "2023-04-25T12:42:37.941035Z"
    }
   },
   "outputs": [],
   "source": [
    "df_prods_checked=df_prods_clean_no_dups"
   ]
  },
  {
   "cell_type": "code",
   "execution_count": 48,
   "id": "ec7f8d89-4008-45f6-88f0-b90a60ecf50b",
   "metadata": {
    "execution": {
     "iopub.execute_input": "2023-04-25T12:42:37.947015Z",
     "iopub.status.busy": "2023-04-25T12:42:37.946325Z",
     "iopub.status.idle": "2023-04-25T12:42:37.952613Z",
     "shell.execute_reply": "2023-04-25T12:42:37.951866Z",
     "shell.execute_reply.started": "2023-04-25T12:42:37.946984Z"
    }
   },
   "outputs": [
    {
     "data": {
      "text/plain": [
       "(49672, 5)"
      ]
     },
     "execution_count": 48,
     "metadata": {},
     "output_type": "execute_result"
    }
   ],
   "source": [
    "df_prods_checked.shape"
   ]
  },
  {
   "cell_type": "code",
   "execution_count": 49,
   "id": "37a834f8-7358-44ea-8ffc-b0c1af4de51c",
   "metadata": {
    "execution": {
     "iopub.execute_input": "2023-04-25T12:42:37.953764Z",
     "iopub.status.busy": "2023-04-25T12:42:37.953503Z",
     "iopub.status.idle": "2023-04-25T12:42:37.958169Z",
     "shell.execute_reply": "2023-04-25T12:42:37.957073Z",
     "shell.execute_reply.started": "2023-04-25T12:42:37.953733Z"
    }
   },
   "outputs": [],
   "source": [
    "# Save the new \"checked\" products DataFrame to a .CSV file."
   ]
  },
  {
   "cell_type": "code",
   "execution_count": 50,
   "id": "ef89bdc8-65cc-469f-b8c0-194088cc3810",
   "metadata": {
    "execution": {
     "iopub.execute_input": "2023-04-25T12:42:37.960347Z",
     "iopub.status.busy": "2023-04-25T12:42:37.959563Z",
     "iopub.status.idle": "2023-04-25T12:42:38.167338Z",
     "shell.execute_reply": "2023-04-25T12:42:38.166456Z",
     "shell.execute_reply.started": "2023-04-25T12:42:37.960297Z"
    }
   },
   "outputs": [],
   "source": [
    "df_prods_checked.to_csv(os.path.join(path, '02-Data','Prepared-Data', 'products_checked.csv'))"
   ]
  },
  {
   "cell_type": "markdown",
   "id": "a43d3e0f-ba2b-4ba2-a052-45b3da4ae8b9",
   "metadata": {},
   "source": [
    "# BEGINNING TASK 4.5."
   ]
  },
  {
   "cell_type": "markdown",
   "id": "7dcf47f4-6b69-4d8e-96b6-239c8127805c",
   "metadata": {},
   "source": [
    "## Step 2:  Run the df.describe() function on your df_prods dataframe. Using your new knowledge about how to interpret the output of this function, share in a markdown cell whether anything about the data looks off or should be investigated further.\n",
    "    \n",
    "    Tip: Keep an eye on min and max values!"
   ]
  },
  {
   "cell_type": "markdown",
   "id": "ccfb637d-38fd-48e2-9721-a9ec01531cc7",
   "metadata": {
    "tags": []
   },
   "source": [
    "### I imagine the cleaned and de-duplicated version of the df_prods DataFrame is the intended DF here, but it looks like the results are nearly identical.\n",
    "### The maximum price of 99999 looks like it could be a placeholder, but the minimum price of 1 could be legitimate, since we're discussing grocery items."
   ]
  },
  {
   "cell_type": "code",
   "execution_count": 51,
   "id": "66ccf2be-872d-49b6-8418-0eaf4bd35230",
   "metadata": {
    "execution": {
     "iopub.execute_input": "2023-04-25T12:42:38.168751Z",
     "iopub.status.busy": "2023-04-25T12:42:38.168542Z",
     "iopub.status.idle": "2023-04-25T12:42:38.194677Z",
     "shell.execute_reply": "2023-04-25T12:42:38.193830Z",
     "shell.execute_reply.started": "2023-04-25T12:42:38.168729Z"
    }
   },
   "outputs": [
    {
     "data": {
      "text/html": [
       "<div>\n",
       "<style scoped>\n",
       "    .dataframe tbody tr th:only-of-type {\n",
       "        vertical-align: middle;\n",
       "    }\n",
       "\n",
       "    .dataframe tbody tr th {\n",
       "        vertical-align: top;\n",
       "    }\n",
       "\n",
       "    .dataframe thead th {\n",
       "        text-align: right;\n",
       "    }\n",
       "</style>\n",
       "<table border=\"1\" class=\"dataframe\">\n",
       "  <thead>\n",
       "    <tr style=\"text-align: right;\">\n",
       "      <th></th>\n",
       "      <th>product_id</th>\n",
       "      <th>aisle_id</th>\n",
       "      <th>department_id</th>\n",
       "      <th>prices</th>\n",
       "    </tr>\n",
       "  </thead>\n",
       "  <tbody>\n",
       "    <tr>\n",
       "      <th>count</th>\n",
       "      <td>49693.000000</td>\n",
       "      <td>49693.000000</td>\n",
       "      <td>49693.000000</td>\n",
       "      <td>49693.000000</td>\n",
       "    </tr>\n",
       "    <tr>\n",
       "      <th>mean</th>\n",
       "      <td>24844.345139</td>\n",
       "      <td>67.770249</td>\n",
       "      <td>11.728433</td>\n",
       "      <td>9.994136</td>\n",
       "    </tr>\n",
       "    <tr>\n",
       "      <th>std</th>\n",
       "      <td>14343.717401</td>\n",
       "      <td>38.316774</td>\n",
       "      <td>5.850282</td>\n",
       "      <td>453.519686</td>\n",
       "    </tr>\n",
       "    <tr>\n",
       "      <th>min</th>\n",
       "      <td>1.000000</td>\n",
       "      <td>1.000000</td>\n",
       "      <td>1.000000</td>\n",
       "      <td>1.000000</td>\n",
       "    </tr>\n",
       "    <tr>\n",
       "      <th>25%</th>\n",
       "      <td>12423.000000</td>\n",
       "      <td>35.000000</td>\n",
       "      <td>7.000000</td>\n",
       "      <td>4.100000</td>\n",
       "    </tr>\n",
       "    <tr>\n",
       "      <th>50%</th>\n",
       "      <td>24845.000000</td>\n",
       "      <td>69.000000</td>\n",
       "      <td>13.000000</td>\n",
       "      <td>7.100000</td>\n",
       "    </tr>\n",
       "    <tr>\n",
       "      <th>75%</th>\n",
       "      <td>37265.000000</td>\n",
       "      <td>100.000000</td>\n",
       "      <td>17.000000</td>\n",
       "      <td>11.200000</td>\n",
       "    </tr>\n",
       "    <tr>\n",
       "      <th>max</th>\n",
       "      <td>49688.000000</td>\n",
       "      <td>134.000000</td>\n",
       "      <td>21.000000</td>\n",
       "      <td>99999.000000</td>\n",
       "    </tr>\n",
       "  </tbody>\n",
       "</table>\n",
       "</div>"
      ],
      "text/plain": [
       "         product_id      aisle_id  department_id        prices\n",
       "count  49693.000000  49693.000000   49693.000000  49693.000000\n",
       "mean   24844.345139     67.770249      11.728433      9.994136\n",
       "std    14343.717401     38.316774       5.850282    453.519686\n",
       "min        1.000000      1.000000       1.000000      1.000000\n",
       "25%    12423.000000     35.000000       7.000000      4.100000\n",
       "50%    24845.000000     69.000000      13.000000      7.100000\n",
       "75%    37265.000000    100.000000      17.000000     11.200000\n",
       "max    49688.000000    134.000000      21.000000  99999.000000"
      ]
     },
     "execution_count": 51,
     "metadata": {},
     "output_type": "execute_result"
    }
   ],
   "source": [
    "df_prods.describe()"
   ]
  },
  {
   "cell_type": "code",
   "execution_count": 52,
   "id": "f4c51aa8-7331-4ed1-be02-0995efe87498",
   "metadata": {
    "execution": {
     "iopub.execute_input": "2023-04-25T12:42:38.196501Z",
     "iopub.status.busy": "2023-04-25T12:42:38.195832Z",
     "iopub.status.idle": "2023-04-25T12:42:38.220108Z",
     "shell.execute_reply": "2023-04-25T12:42:38.219437Z",
     "shell.execute_reply.started": "2023-04-25T12:42:38.196464Z"
    }
   },
   "outputs": [
    {
     "data": {
      "text/html": [
       "<div>\n",
       "<style scoped>\n",
       "    .dataframe tbody tr th:only-of-type {\n",
       "        vertical-align: middle;\n",
       "    }\n",
       "\n",
       "    .dataframe tbody tr th {\n",
       "        vertical-align: top;\n",
       "    }\n",
       "\n",
       "    .dataframe thead th {\n",
       "        text-align: right;\n",
       "    }\n",
       "</style>\n",
       "<table border=\"1\" class=\"dataframe\">\n",
       "  <thead>\n",
       "    <tr style=\"text-align: right;\">\n",
       "      <th></th>\n",
       "      <th>product_id</th>\n",
       "      <th>aisle_id</th>\n",
       "      <th>department_id</th>\n",
       "      <th>prices</th>\n",
       "    </tr>\n",
       "  </thead>\n",
       "  <tbody>\n",
       "    <tr>\n",
       "      <th>count</th>\n",
       "      <td>49672.000000</td>\n",
       "      <td>49672.000000</td>\n",
       "      <td>49672.000000</td>\n",
       "      <td>49672.000000</td>\n",
       "    </tr>\n",
       "    <tr>\n",
       "      <th>mean</th>\n",
       "      <td>24850.349775</td>\n",
       "      <td>67.762442</td>\n",
       "      <td>11.728942</td>\n",
       "      <td>9.993282</td>\n",
       "    </tr>\n",
       "    <tr>\n",
       "      <th>std</th>\n",
       "      <td>14340.705287</td>\n",
       "      <td>38.315784</td>\n",
       "      <td>5.850779</td>\n",
       "      <td>453.615536</td>\n",
       "    </tr>\n",
       "    <tr>\n",
       "      <th>min</th>\n",
       "      <td>1.000000</td>\n",
       "      <td>1.000000</td>\n",
       "      <td>1.000000</td>\n",
       "      <td>1.000000</td>\n",
       "    </tr>\n",
       "    <tr>\n",
       "      <th>25%</th>\n",
       "      <td>12432.750000</td>\n",
       "      <td>35.000000</td>\n",
       "      <td>7.000000</td>\n",
       "      <td>4.100000</td>\n",
       "    </tr>\n",
       "    <tr>\n",
       "      <th>50%</th>\n",
       "      <td>24850.500000</td>\n",
       "      <td>69.000000</td>\n",
       "      <td>13.000000</td>\n",
       "      <td>7.100000</td>\n",
       "    </tr>\n",
       "    <tr>\n",
       "      <th>75%</th>\n",
       "      <td>37268.250000</td>\n",
       "      <td>100.000000</td>\n",
       "      <td>17.000000</td>\n",
       "      <td>11.100000</td>\n",
       "    </tr>\n",
       "    <tr>\n",
       "      <th>max</th>\n",
       "      <td>49688.000000</td>\n",
       "      <td>134.000000</td>\n",
       "      <td>21.000000</td>\n",
       "      <td>99999.000000</td>\n",
       "    </tr>\n",
       "  </tbody>\n",
       "</table>\n",
       "</div>"
      ],
      "text/plain": [
       "         product_id      aisle_id  department_id        prices\n",
       "count  49672.000000  49672.000000   49672.000000  49672.000000\n",
       "mean   24850.349775     67.762442      11.728942      9.993282\n",
       "std    14340.705287     38.315784       5.850779    453.615536\n",
       "min        1.000000      1.000000       1.000000      1.000000\n",
       "25%    12432.750000     35.000000       7.000000      4.100000\n",
       "50%    24850.500000     69.000000      13.000000      7.100000\n",
       "75%    37268.250000    100.000000      17.000000     11.100000\n",
       "max    49688.000000    134.000000      21.000000  99999.000000"
      ]
     },
     "execution_count": 52,
     "metadata": {},
     "output_type": "execute_result"
    }
   ],
   "source": [
    "df_prods_checked.describe()"
   ]
  },
  {
   "cell_type": "markdown",
   "id": "fed938da-5581-4e8a-aa41-88705ff16a66",
   "metadata": {},
   "source": [
    "## Step 3:  Check for mixed-type data in your df_ords dataframe."
   ]
  },
  {
   "cell_type": "code",
   "execution_count": 53,
   "id": "404e1890-30ff-4ac5-823e-41eb4da2c797",
   "metadata": {
    "execution": {
     "iopub.execute_input": "2023-04-25T12:42:38.221584Z",
     "iopub.status.busy": "2023-04-25T12:42:38.221220Z",
     "iopub.status.idle": "2023-04-25T12:42:38.224731Z",
     "shell.execute_reply": "2023-04-25T12:42:38.224206Z",
     "shell.execute_reply.started": "2023-04-25T12:42:38.221552Z"
    }
   },
   "outputs": [],
   "source": [
    "# The voodoo function returns no output, so it would seem there is no mixed-type data in the df_ords DataFrame.\n",
    "# Hence, I will skip Step 4."
   ]
  },
  {
   "cell_type": "code",
   "execution_count": 54,
   "id": "f2237a65-b38a-487c-84b6-a468284d1a85",
   "metadata": {
    "execution": {
     "iopub.execute_input": "2023-04-25T12:42:38.226089Z",
     "iopub.status.busy": "2023-04-25T12:42:38.225779Z",
     "iopub.status.idle": "2023-04-25T12:42:42.311345Z",
     "shell.execute_reply": "2023-04-25T12:42:42.310473Z",
     "shell.execute_reply.started": "2023-04-25T12:42:38.226066Z"
    }
   },
   "outputs": [],
   "source": [
    "for col in df_ords.columns.tolist():\n",
    "  weird = (df_ords[[col]].applymap(type) != df_ords[[col]].iloc[0].apply(type)).any(axis = 1)\n",
    "  if len (df_ords[weird]) > 0:\n",
    "    print (col)"
   ]
  },
  {
   "cell_type": "markdown",
   "id": "68150545-a144-43da-9cce-eee8524f3a37",
   "metadata": {},
   "source": [
    "## Step 5:  Run a check for missing values in your df_ords dataframe.\n",
    "\n",
    "    In a markdown cell, report your findings and propose an explanation for any missing values you find.\n"
   ]
  },
  {
   "cell_type": "markdown",
   "id": "9c692766-4b5a-4b5b-853b-4f89d81ded2a",
   "metadata": {},
   "source": [
    "### The only NULLs (or NaNs) are in the 'days_since_prior_order' column."
   ]
  },
  {
   "cell_type": "code",
   "execution_count": 55,
   "id": "77593994-ec92-4486-b719-e235aaff0e4f",
   "metadata": {
    "execution": {
     "iopub.execute_input": "2023-04-25T12:42:42.312436Z",
     "iopub.status.busy": "2023-04-25T12:42:42.312253Z",
     "iopub.status.idle": "2023-04-25T12:42:42.315884Z",
     "shell.execute_reply": "2023-04-25T12:42:42.315155Z",
     "shell.execute_reply.started": "2023-04-25T12:42:42.312414Z"
    }
   },
   "outputs": [],
   "source": [
    "# Look for nulls in df_ords."
   ]
  },
  {
   "cell_type": "code",
   "execution_count": 56,
   "id": "074c0307-73e1-4c86-8ebe-78b89ed19f9f",
   "metadata": {
    "execution": {
     "iopub.execute_input": "2023-04-25T12:42:42.317023Z",
     "iopub.status.busy": "2023-04-25T12:42:42.316817Z",
     "iopub.status.idle": "2023-04-25T12:42:42.352389Z",
     "shell.execute_reply": "2023-04-25T12:42:42.351239Z",
     "shell.execute_reply.started": "2023-04-25T12:42:42.316999Z"
    }
   },
   "outputs": [
    {
     "data": {
      "text/plain": [
       "order_id                       0\n",
       "customer_id                    0\n",
       "order_number                   0\n",
       "orders_day_of_week             0\n",
       "order_hour_of_day              0\n",
       "days_since_prior_order    206209\n",
       "dtype: int64"
      ]
     },
     "execution_count": 56,
     "metadata": {},
     "output_type": "execute_result"
    }
   ],
   "source": [
    "df_ords.isnull().sum()"
   ]
  },
  {
   "cell_type": "code",
   "execution_count": 57,
   "id": "211acbaa-e72a-470b-a419-2747eabd9ca2",
   "metadata": {
    "execution": {
     "iopub.execute_input": "2023-04-25T12:42:42.354005Z",
     "iopub.status.busy": "2023-04-25T12:42:42.353753Z",
     "iopub.status.idle": "2023-04-25T12:42:42.357411Z",
     "shell.execute_reply": "2023-04-25T12:42:42.356623Z",
     "shell.execute_reply.started": "2023-04-25T12:42:42.353978Z"
    }
   },
   "outputs": [],
   "source": [
    "# The nulls in df_ords['days_since_prior_order'] , just for giggles.  There are too many to display."
   ]
  },
  {
   "cell_type": "code",
   "execution_count": 58,
   "id": "beed4b3f-2d39-43b4-adda-91729a987dbb",
   "metadata": {
    "execution": {
     "iopub.execute_input": "2023-04-25T12:42:42.359183Z",
     "iopub.status.busy": "2023-04-25T12:42:42.358515Z",
     "iopub.status.idle": "2023-04-25T12:42:42.387547Z",
     "shell.execute_reply": "2023-04-25T12:42:42.386725Z",
     "shell.execute_reply.started": "2023-04-25T12:42:42.359153Z"
    },
    "tags": []
   },
   "outputs": [],
   "source": [
    "df_ords_nan=df_ords[df_ords['days_since_prior_order'].isnull()==True]"
   ]
  },
  {
   "cell_type": "code",
   "execution_count": 59,
   "id": "aa509d09-17be-4dd0-962d-8cf23ede90b9",
   "metadata": {
    "execution": {
     "iopub.execute_input": "2023-04-25T12:42:42.388678Z",
     "iopub.status.busy": "2023-04-25T12:42:42.388480Z",
     "iopub.status.idle": "2023-04-25T12:42:42.398005Z",
     "shell.execute_reply": "2023-04-25T12:42:42.397345Z",
     "shell.execute_reply.started": "2023-04-25T12:42:42.388654Z"
    }
   },
   "outputs": [
    {
     "data": {
      "text/html": [
       "<div>\n",
       "<style scoped>\n",
       "    .dataframe tbody tr th:only-of-type {\n",
       "        vertical-align: middle;\n",
       "    }\n",
       "\n",
       "    .dataframe tbody tr th {\n",
       "        vertical-align: top;\n",
       "    }\n",
       "\n",
       "    .dataframe thead th {\n",
       "        text-align: right;\n",
       "    }\n",
       "</style>\n",
       "<table border=\"1\" class=\"dataframe\">\n",
       "  <thead>\n",
       "    <tr style=\"text-align: right;\">\n",
       "      <th></th>\n",
       "      <th>order_id</th>\n",
       "      <th>customer_id</th>\n",
       "      <th>order_number</th>\n",
       "      <th>orders_day_of_week</th>\n",
       "      <th>order_hour_of_day</th>\n",
       "      <th>days_since_prior_order</th>\n",
       "    </tr>\n",
       "  </thead>\n",
       "  <tbody>\n",
       "    <tr>\n",
       "      <th>0</th>\n",
       "      <td>2539329</td>\n",
       "      <td>1</td>\n",
       "      <td>1</td>\n",
       "      <td>2</td>\n",
       "      <td>8</td>\n",
       "      <td>NaN</td>\n",
       "    </tr>\n",
       "    <tr>\n",
       "      <th>11</th>\n",
       "      <td>2168274</td>\n",
       "      <td>2</td>\n",
       "      <td>1</td>\n",
       "      <td>2</td>\n",
       "      <td>11</td>\n",
       "      <td>NaN</td>\n",
       "    </tr>\n",
       "    <tr>\n",
       "      <th>26</th>\n",
       "      <td>1374495</td>\n",
       "      <td>3</td>\n",
       "      <td>1</td>\n",
       "      <td>1</td>\n",
       "      <td>14</td>\n",
       "      <td>NaN</td>\n",
       "    </tr>\n",
       "    <tr>\n",
       "      <th>39</th>\n",
       "      <td>3343014</td>\n",
       "      <td>4</td>\n",
       "      <td>1</td>\n",
       "      <td>6</td>\n",
       "      <td>11</td>\n",
       "      <td>NaN</td>\n",
       "    </tr>\n",
       "    <tr>\n",
       "      <th>45</th>\n",
       "      <td>2717275</td>\n",
       "      <td>5</td>\n",
       "      <td>1</td>\n",
       "      <td>3</td>\n",
       "      <td>12</td>\n",
       "      <td>NaN</td>\n",
       "    </tr>\n",
       "  </tbody>\n",
       "</table>\n",
       "</div>"
      ],
      "text/plain": [
       "    order_id  customer_id  order_number  orders_day_of_week  \\\n",
       "0    2539329            1             1                   2   \n",
       "11   2168274            2             1                   2   \n",
       "26   1374495            3             1                   1   \n",
       "39   3343014            4             1                   6   \n",
       "45   2717275            5             1                   3   \n",
       "\n",
       "    order_hour_of_day  days_since_prior_order  \n",
       "0                   8                     NaN  \n",
       "11                 11                     NaN  \n",
       "26                 14                     NaN  \n",
       "39                 11                     NaN  \n",
       "45                 12                     NaN  "
      ]
     },
     "execution_count": 59,
     "metadata": {},
     "output_type": "execute_result"
    }
   ],
   "source": [
    "df_ords_nan.head()"
   ]
  },
  {
   "cell_type": "code",
   "execution_count": 60,
   "id": "80d455f5-f8cb-4874-af40-830ee55758f4",
   "metadata": {
    "execution": {
     "iopub.execute_input": "2023-04-25T12:42:42.399583Z",
     "iopub.status.busy": "2023-04-25T12:42:42.398990Z",
     "iopub.status.idle": "2023-04-25T12:42:42.402750Z",
     "shell.execute_reply": "2023-04-25T12:42:42.402106Z",
     "shell.execute_reply.started": "2023-04-25T12:42:42.399559Z"
    }
   },
   "outputs": [],
   "source": [
    "# I suspect that missing values for the 'days_since_prior_order' will all correspond to a user's first order, i.e. 'order_number' will be '1'."
   ]
  },
  {
   "cell_type": "code",
   "execution_count": 61,
   "id": "1e75857d-8409-4a89-a991-d571a3ee5d99",
   "metadata": {
    "execution": {
     "iopub.execute_input": "2023-04-25T12:42:42.403877Z",
     "iopub.status.busy": "2023-04-25T12:42:42.403576Z",
     "iopub.status.idle": "2023-04-25T12:42:42.456936Z",
     "shell.execute_reply": "2023-04-25T12:42:42.456217Z",
     "shell.execute_reply.started": "2023-04-25T12:42:42.403848Z"
    }
   },
   "outputs": [
    {
     "data": {
      "text/html": [
       "<div>\n",
       "<style scoped>\n",
       "    .dataframe tbody tr th:only-of-type {\n",
       "        vertical-align: middle;\n",
       "    }\n",
       "\n",
       "    .dataframe tbody tr th {\n",
       "        vertical-align: top;\n",
       "    }\n",
       "\n",
       "    .dataframe thead th {\n",
       "        text-align: right;\n",
       "    }\n",
       "</style>\n",
       "<table border=\"1\" class=\"dataframe\">\n",
       "  <thead>\n",
       "    <tr style=\"text-align: right;\">\n",
       "      <th></th>\n",
       "      <th>order_id</th>\n",
       "      <th>customer_id</th>\n",
       "      <th>order_number</th>\n",
       "      <th>orders_day_of_week</th>\n",
       "      <th>order_hour_of_day</th>\n",
       "      <th>days_since_prior_order</th>\n",
       "    </tr>\n",
       "  </thead>\n",
       "  <tbody>\n",
       "    <tr>\n",
       "      <th>count</th>\n",
       "      <td>2.062090e+05</td>\n",
       "      <td>206209.000000</td>\n",
       "      <td>206209.0</td>\n",
       "      <td>206209.000000</td>\n",
       "      <td>206209.000000</td>\n",
       "      <td>0.0</td>\n",
       "    </tr>\n",
       "    <tr>\n",
       "      <th>mean</th>\n",
       "      <td>1.708462e+06</td>\n",
       "      <td>103105.000000</td>\n",
       "      <td>1.0</td>\n",
       "      <td>2.754118</td>\n",
       "      <td>13.626597</td>\n",
       "      <td>NaN</td>\n",
       "    </tr>\n",
       "    <tr>\n",
       "      <th>std</th>\n",
       "      <td>9.881299e+05</td>\n",
       "      <td>59527.555167</td>\n",
       "      <td>0.0</td>\n",
       "      <td>2.076205</td>\n",
       "      <td>4.223769</td>\n",
       "      <td>NaN</td>\n",
       "    </tr>\n",
       "    <tr>\n",
       "      <th>min</th>\n",
       "      <td>2.000000e+01</td>\n",
       "      <td>1.000000</td>\n",
       "      <td>1.0</td>\n",
       "      <td>0.000000</td>\n",
       "      <td>0.000000</td>\n",
       "      <td>NaN</td>\n",
       "    </tr>\n",
       "    <tr>\n",
       "      <th>25%</th>\n",
       "      <td>8.507300e+05</td>\n",
       "      <td>51553.000000</td>\n",
       "      <td>1.0</td>\n",
       "      <td>1.000000</td>\n",
       "      <td>11.000000</td>\n",
       "      <td>NaN</td>\n",
       "    </tr>\n",
       "    <tr>\n",
       "      <th>50%</th>\n",
       "      <td>1.706246e+06</td>\n",
       "      <td>103105.000000</td>\n",
       "      <td>1.0</td>\n",
       "      <td>3.000000</td>\n",
       "      <td>14.000000</td>\n",
       "      <td>NaN</td>\n",
       "    </tr>\n",
       "    <tr>\n",
       "      <th>75%</th>\n",
       "      <td>2.564292e+06</td>\n",
       "      <td>154657.000000</td>\n",
       "      <td>1.0</td>\n",
       "      <td>5.000000</td>\n",
       "      <td>17.000000</td>\n",
       "      <td>NaN</td>\n",
       "    </tr>\n",
       "    <tr>\n",
       "      <th>max</th>\n",
       "      <td>3.421081e+06</td>\n",
       "      <td>206209.000000</td>\n",
       "      <td>1.0</td>\n",
       "      <td>6.000000</td>\n",
       "      <td>23.000000</td>\n",
       "      <td>NaN</td>\n",
       "    </tr>\n",
       "  </tbody>\n",
       "</table>\n",
       "</div>"
      ],
      "text/plain": [
       "           order_id    customer_id  order_number  orders_day_of_week  \\\n",
       "count  2.062090e+05  206209.000000      206209.0       206209.000000   \n",
       "mean   1.708462e+06  103105.000000           1.0            2.754118   \n",
       "std    9.881299e+05   59527.555167           0.0            2.076205   \n",
       "min    2.000000e+01       1.000000           1.0            0.000000   \n",
       "25%    8.507300e+05   51553.000000           1.0            1.000000   \n",
       "50%    1.706246e+06  103105.000000           1.0            3.000000   \n",
       "75%    2.564292e+06  154657.000000           1.0            5.000000   \n",
       "max    3.421081e+06  206209.000000           1.0            6.000000   \n",
       "\n",
       "       order_hour_of_day  days_since_prior_order  \n",
       "count      206209.000000                     0.0  \n",
       "mean           13.626597                     NaN  \n",
       "std             4.223769                     NaN  \n",
       "min             0.000000                     NaN  \n",
       "25%            11.000000                     NaN  \n",
       "50%            14.000000                     NaN  \n",
       "75%            17.000000                     NaN  \n",
       "max            23.000000                     NaN  "
      ]
     },
     "execution_count": 61,
     "metadata": {},
     "output_type": "execute_result"
    }
   ],
   "source": [
    "df_ords_nan.describe()"
   ]
  },
  {
   "cell_type": "markdown",
   "id": "c136ea80-5f1d-49b3-9b08-4a69039663d9",
   "metadata": {},
   "source": [
    "## Step 6:  Address the missing values using an appropriate method.\n",
    "\n",
    "    In a markdown cell, explain why you used your method of choice.\n"
   ]
  },
  {
   "cell_type": "markdown",
   "id": "bd5ebe6c-c8bb-4782-9bc9-bc3fca926730",
   "metadata": {},
   "source": [
    "### The output of 'df_ords_nan.describe()' confirms that only rows where order_number = 1 are affected, meaning there is no prior order for comparison.  The most appropriate solution is to replace the missing values in the 'days_since_prior_order' column with zeros."
   ]
  },
  {
   "cell_type": "code",
   "execution_count": 62,
   "id": "b55a09d6-0212-418b-82fa-2b9933d7d590",
   "metadata": {
    "execution": {
     "iopub.execute_input": "2023-04-25T12:42:42.458536Z",
     "iopub.status.busy": "2023-04-25T12:42:42.457937Z",
     "iopub.status.idle": "2023-04-25T12:42:42.462312Z",
     "shell.execute_reply": "2023-04-25T12:42:42.461530Z",
     "shell.execute_reply.started": "2023-04-25T12:42:42.458511Z"
    }
   },
   "outputs": [],
   "source": [
    "# Replace NaNs with 0s in the 'days_since_prior_order' column of df_ords.  Let's create a new DF for this."
   ]
  },
  {
   "cell_type": "code",
   "execution_count": 63,
   "id": "8c716ae3-cd82-424b-ae67-456804539e5f",
   "metadata": {
    "execution": {
     "iopub.execute_input": "2023-04-25T12:42:42.464330Z",
     "iopub.status.busy": "2023-04-25T12:42:42.463492Z",
     "iopub.status.idle": "2023-04-25T12:42:42.484324Z",
     "shell.execute_reply": "2023-04-25T12:42:42.483770Z",
     "shell.execute_reply.started": "2023-04-25T12:42:42.464289Z"
    }
   },
   "outputs": [],
   "source": [
    "df_ords_no_nulls=df_ords['days_since_prior_order'].fillna(0,inplace=False)"
   ]
  },
  {
   "cell_type": "code",
   "execution_count": 64,
   "id": "dc9d937f-6aa1-44d7-be58-1bdadefd940d",
   "metadata": {
    "execution": {
     "iopub.execute_input": "2023-04-25T12:42:42.485836Z",
     "iopub.status.busy": "2023-04-25T12:42:42.485227Z",
     "iopub.status.idle": "2023-04-25T12:42:42.489440Z",
     "shell.execute_reply": "2023-04-25T12:42:42.488452Z",
     "shell.execute_reply.started": "2023-04-25T12:42:42.485809Z"
    }
   },
   "outputs": [],
   "source": [
    "# Checking the results:df_ords_no_nulls"
   ]
  },
  {
   "cell_type": "code",
   "execution_count": 65,
   "id": "a520bb8e-4040-43f6-8b7c-4010f88926fa",
   "metadata": {
    "execution": {
     "iopub.execute_input": "2023-04-25T12:42:42.490714Z",
     "iopub.status.busy": "2023-04-25T12:42:42.490497Z",
     "iopub.status.idle": "2023-04-25T12:42:42.499804Z",
     "shell.execute_reply": "2023-04-25T12:42:42.498633Z",
     "shell.execute_reply.started": "2023-04-25T12:42:42.490691Z"
    }
   },
   "outputs": [
    {
     "data": {
      "text/plain": [
       "0     0.0\n",
       "1    15.0\n",
       "2    21.0\n",
       "3    29.0\n",
       "4    28.0\n",
       "Name: days_since_prior_order, dtype: float64"
      ]
     },
     "execution_count": 65,
     "metadata": {},
     "output_type": "execute_result"
    }
   ],
   "source": [
    "df_ords_no_nulls.head()"
   ]
  },
  {
   "cell_type": "code",
   "execution_count": 66,
   "id": "464e4b48-b3ea-4e2f-bed1-a54f38864c6c",
   "metadata": {
    "execution": {
     "iopub.execute_input": "2023-04-25T12:42:42.501640Z",
     "iopub.status.busy": "2023-04-25T12:42:42.501312Z",
     "iopub.status.idle": "2023-04-25T12:42:42.507064Z",
     "shell.execute_reply": "2023-04-25T12:42:42.505891Z",
     "shell.execute_reply.started": "2023-04-25T12:42:42.501606Z"
    }
   },
   "outputs": [],
   "source": [
    "# AHHH!  Good to know:  That 'df_ords['days_since_prior_order'].fillna(0,inplace=False)' only returns the modified column,\n",
    "# NOT the entire modified DataFrame.  I guess we'll have to use two operations rather than just one.  Kind of inefficient. :-("
   ]
  },
  {
   "cell_type": "code",
   "execution_count": 67,
   "id": "f3d50ed4-8557-4cc4-b9f5-c79134b0881a",
   "metadata": {
    "execution": {
     "iopub.execute_input": "2023-04-25T12:42:42.509509Z",
     "iopub.status.busy": "2023-04-25T12:42:42.508486Z",
     "iopub.status.idle": "2023-04-25T12:42:42.518430Z",
     "shell.execute_reply": "2023-04-25T12:42:42.517202Z",
     "shell.execute_reply.started": "2023-04-25T12:42:42.509465Z"
    }
   },
   "outputs": [],
   "source": [
    "df_ords_no_nulls=df_ords # Create the new DF as a straight copy of the original."
   ]
  },
  {
   "cell_type": "code",
   "execution_count": 68,
   "id": "92a284a3-8ea3-4455-b7ec-eedf881d651a",
   "metadata": {
    "execution": {
     "iopub.execute_input": "2023-04-25T12:42:42.520057Z",
     "iopub.status.busy": "2023-04-25T12:42:42.519834Z",
     "iopub.status.idle": "2023-04-25T12:42:42.531923Z",
     "shell.execute_reply": "2023-04-25T12:42:42.530887Z",
     "shell.execute_reply.started": "2023-04-25T12:42:42.520034Z"
    }
   },
   "outputs": [
    {
     "data": {
      "text/html": [
       "<div>\n",
       "<style scoped>\n",
       "    .dataframe tbody tr th:only-of-type {\n",
       "        vertical-align: middle;\n",
       "    }\n",
       "\n",
       "    .dataframe tbody tr th {\n",
       "        vertical-align: top;\n",
       "    }\n",
       "\n",
       "    .dataframe thead th {\n",
       "        text-align: right;\n",
       "    }\n",
       "</style>\n",
       "<table border=\"1\" class=\"dataframe\">\n",
       "  <thead>\n",
       "    <tr style=\"text-align: right;\">\n",
       "      <th></th>\n",
       "      <th>order_id</th>\n",
       "      <th>customer_id</th>\n",
       "      <th>order_number</th>\n",
       "      <th>orders_day_of_week</th>\n",
       "      <th>order_hour_of_day</th>\n",
       "      <th>days_since_prior_order</th>\n",
       "    </tr>\n",
       "  </thead>\n",
       "  <tbody>\n",
       "    <tr>\n",
       "      <th>0</th>\n",
       "      <td>2539329</td>\n",
       "      <td>1</td>\n",
       "      <td>1</td>\n",
       "      <td>2</td>\n",
       "      <td>8</td>\n",
       "      <td>NaN</td>\n",
       "    </tr>\n",
       "    <tr>\n",
       "      <th>1</th>\n",
       "      <td>2398795</td>\n",
       "      <td>1</td>\n",
       "      <td>2</td>\n",
       "      <td>3</td>\n",
       "      <td>7</td>\n",
       "      <td>15.0</td>\n",
       "    </tr>\n",
       "    <tr>\n",
       "      <th>2</th>\n",
       "      <td>473747</td>\n",
       "      <td>1</td>\n",
       "      <td>3</td>\n",
       "      <td>3</td>\n",
       "      <td>12</td>\n",
       "      <td>21.0</td>\n",
       "    </tr>\n",
       "    <tr>\n",
       "      <th>3</th>\n",
       "      <td>2254736</td>\n",
       "      <td>1</td>\n",
       "      <td>4</td>\n",
       "      <td>4</td>\n",
       "      <td>7</td>\n",
       "      <td>29.0</td>\n",
       "    </tr>\n",
       "    <tr>\n",
       "      <th>4</th>\n",
       "      <td>431534</td>\n",
       "      <td>1</td>\n",
       "      <td>5</td>\n",
       "      <td>4</td>\n",
       "      <td>15</td>\n",
       "      <td>28.0</td>\n",
       "    </tr>\n",
       "  </tbody>\n",
       "</table>\n",
       "</div>"
      ],
      "text/plain": [
       "   order_id  customer_id  order_number  orders_day_of_week  order_hour_of_day  \\\n",
       "0   2539329            1             1                   2                  8   \n",
       "1   2398795            1             2                   3                  7   \n",
       "2    473747            1             3                   3                 12   \n",
       "3   2254736            1             4                   4                  7   \n",
       "4    431534            1             5                   4                 15   \n",
       "\n",
       "   days_since_prior_order  \n",
       "0                     NaN  \n",
       "1                    15.0  \n",
       "2                    21.0  \n",
       "3                    29.0  \n",
       "4                    28.0  "
      ]
     },
     "execution_count": 68,
     "metadata": {},
     "output_type": "execute_result"
    }
   ],
   "source": [
    "df_ords_no_nulls.head()"
   ]
  },
  {
   "cell_type": "code",
   "execution_count": 69,
   "id": "29cbd643-99e8-4af3-a7e6-8446c553015d",
   "metadata": {
    "execution": {
     "iopub.execute_input": "2023-04-25T12:42:42.533623Z",
     "iopub.status.busy": "2023-04-25T12:42:42.533363Z",
     "iopub.status.idle": "2023-04-25T12:42:42.537634Z",
     "shell.execute_reply": "2023-04-25T12:42:42.536775Z",
     "shell.execute_reply.started": "2023-04-25T12:42:42.533598Z"
    }
   },
   "outputs": [],
   "source": [
    "# df_ords_no_nulls=df_ords_no_nulls['days_since_prior_order'].fillna(0, inplace=True)  # Modify the copied DF in place."
   ]
  },
  {
   "cell_type": "code",
   "execution_count": 70,
   "id": "23cc1edc-75fe-467d-ba05-182cb2969d42",
   "metadata": {
    "execution": {
     "iopub.execute_input": "2023-04-25T12:42:42.539244Z",
     "iopub.status.busy": "2023-04-25T12:42:42.538822Z",
     "iopub.status.idle": "2023-04-25T12:42:42.557200Z",
     "shell.execute_reply": "2023-04-25T12:42:42.556203Z",
     "shell.execute_reply.started": "2023-04-25T12:42:42.539215Z"
    }
   },
   "outputs": [],
   "source": [
    "df_ords_no_nulls['days_since_prior_order'].fillna(0, inplace=True)  # Modify the copied DF in place."
   ]
  },
  {
   "cell_type": "code",
   "execution_count": 71,
   "id": "cbc206cf-49f7-4963-9fbe-730335402886",
   "metadata": {
    "execution": {
     "iopub.execute_input": "2023-04-25T12:42:42.558959Z",
     "iopub.status.busy": "2023-04-25T12:42:42.558102Z",
     "iopub.status.idle": "2023-04-25T12:42:42.565638Z",
     "shell.execute_reply": "2023-04-25T12:42:42.564360Z",
     "shell.execute_reply.started": "2023-04-25T12:42:42.558913Z"
    }
   },
   "outputs": [],
   "source": [
    "# Check our results again."
   ]
  },
  {
   "cell_type": "code",
   "execution_count": 72,
   "id": "8c188c86-69b0-469d-9347-e65bd1d4541c",
   "metadata": {
    "execution": {
     "iopub.execute_input": "2023-04-25T12:42:42.567386Z",
     "iopub.status.busy": "2023-04-25T12:42:42.566932Z",
     "iopub.status.idle": "2023-04-25T12:42:42.579810Z",
     "shell.execute_reply": "2023-04-25T12:42:42.578693Z",
     "shell.execute_reply.started": "2023-04-25T12:42:42.567360Z"
    }
   },
   "outputs": [
    {
     "data": {
      "text/html": [
       "<div>\n",
       "<style scoped>\n",
       "    .dataframe tbody tr th:only-of-type {\n",
       "        vertical-align: middle;\n",
       "    }\n",
       "\n",
       "    .dataframe tbody tr th {\n",
       "        vertical-align: top;\n",
       "    }\n",
       "\n",
       "    .dataframe thead th {\n",
       "        text-align: right;\n",
       "    }\n",
       "</style>\n",
       "<table border=\"1\" class=\"dataframe\">\n",
       "  <thead>\n",
       "    <tr style=\"text-align: right;\">\n",
       "      <th></th>\n",
       "      <th>order_id</th>\n",
       "      <th>customer_id</th>\n",
       "      <th>order_number</th>\n",
       "      <th>orders_day_of_week</th>\n",
       "      <th>order_hour_of_day</th>\n",
       "      <th>days_since_prior_order</th>\n",
       "    </tr>\n",
       "  </thead>\n",
       "  <tbody>\n",
       "    <tr>\n",
       "      <th>0</th>\n",
       "      <td>2539329</td>\n",
       "      <td>1</td>\n",
       "      <td>1</td>\n",
       "      <td>2</td>\n",
       "      <td>8</td>\n",
       "      <td>0.0</td>\n",
       "    </tr>\n",
       "    <tr>\n",
       "      <th>1</th>\n",
       "      <td>2398795</td>\n",
       "      <td>1</td>\n",
       "      <td>2</td>\n",
       "      <td>3</td>\n",
       "      <td>7</td>\n",
       "      <td>15.0</td>\n",
       "    </tr>\n",
       "    <tr>\n",
       "      <th>2</th>\n",
       "      <td>473747</td>\n",
       "      <td>1</td>\n",
       "      <td>3</td>\n",
       "      <td>3</td>\n",
       "      <td>12</td>\n",
       "      <td>21.0</td>\n",
       "    </tr>\n",
       "    <tr>\n",
       "      <th>3</th>\n",
       "      <td>2254736</td>\n",
       "      <td>1</td>\n",
       "      <td>4</td>\n",
       "      <td>4</td>\n",
       "      <td>7</td>\n",
       "      <td>29.0</td>\n",
       "    </tr>\n",
       "    <tr>\n",
       "      <th>4</th>\n",
       "      <td>431534</td>\n",
       "      <td>1</td>\n",
       "      <td>5</td>\n",
       "      <td>4</td>\n",
       "      <td>15</td>\n",
       "      <td>28.0</td>\n",
       "    </tr>\n",
       "  </tbody>\n",
       "</table>\n",
       "</div>"
      ],
      "text/plain": [
       "   order_id  customer_id  order_number  orders_day_of_week  order_hour_of_day  \\\n",
       "0   2539329            1             1                   2                  8   \n",
       "1   2398795            1             2                   3                  7   \n",
       "2    473747            1             3                   3                 12   \n",
       "3   2254736            1             4                   4                  7   \n",
       "4    431534            1             5                   4                 15   \n",
       "\n",
       "   days_since_prior_order  \n",
       "0                     0.0  \n",
       "1                    15.0  \n",
       "2                    21.0  \n",
       "3                    29.0  \n",
       "4                    28.0  "
      ]
     },
     "execution_count": 72,
     "metadata": {},
     "output_type": "execute_result"
    }
   ],
   "source": [
    "df_ords_no_nulls.head()"
   ]
  },
  {
   "cell_type": "code",
   "execution_count": 73,
   "id": "d7338b9c-4b29-4fd6-9874-0b7ea7af30a0",
   "metadata": {
    "execution": {
     "iopub.execute_input": "2023-04-25T12:42:42.582208Z",
     "iopub.status.busy": "2023-04-25T12:42:42.581230Z",
     "iopub.status.idle": "2023-04-25T12:42:43.146655Z",
     "shell.execute_reply": "2023-04-25T12:42:43.145934Z",
     "shell.execute_reply.started": "2023-04-25T12:42:42.582148Z"
    }
   },
   "outputs": [
    {
     "data": {
      "text/html": [
       "<div>\n",
       "<style scoped>\n",
       "    .dataframe tbody tr th:only-of-type {\n",
       "        vertical-align: middle;\n",
       "    }\n",
       "\n",
       "    .dataframe tbody tr th {\n",
       "        vertical-align: top;\n",
       "    }\n",
       "\n",
       "    .dataframe thead th {\n",
       "        text-align: right;\n",
       "    }\n",
       "</style>\n",
       "<table border=\"1\" class=\"dataframe\">\n",
       "  <thead>\n",
       "    <tr style=\"text-align: right;\">\n",
       "      <th></th>\n",
       "      <th>order_id</th>\n",
       "      <th>customer_id</th>\n",
       "      <th>order_number</th>\n",
       "      <th>orders_day_of_week</th>\n",
       "      <th>order_hour_of_day</th>\n",
       "      <th>days_since_prior_order</th>\n",
       "    </tr>\n",
       "  </thead>\n",
       "  <tbody>\n",
       "    <tr>\n",
       "      <th>count</th>\n",
       "      <td>3.421083e+06</td>\n",
       "      <td>3.421083e+06</td>\n",
       "      <td>3.421083e+06</td>\n",
       "      <td>3.421083e+06</td>\n",
       "      <td>3.421083e+06</td>\n",
       "      <td>3.421083e+06</td>\n",
       "    </tr>\n",
       "    <tr>\n",
       "      <th>mean</th>\n",
       "      <td>1.710542e+06</td>\n",
       "      <td>1.029782e+05</td>\n",
       "      <td>1.715486e+01</td>\n",
       "      <td>2.776219e+00</td>\n",
       "      <td>1.345202e+01</td>\n",
       "      <td>1.044488e+01</td>\n",
       "    </tr>\n",
       "    <tr>\n",
       "      <th>std</th>\n",
       "      <td>9.875817e+05</td>\n",
       "      <td>5.953372e+04</td>\n",
       "      <td>1.773316e+01</td>\n",
       "      <td>2.046829e+00</td>\n",
       "      <td>4.226088e+00</td>\n",
       "      <td>9.308727e+00</td>\n",
       "    </tr>\n",
       "    <tr>\n",
       "      <th>min</th>\n",
       "      <td>1.000000e+00</td>\n",
       "      <td>1.000000e+00</td>\n",
       "      <td>1.000000e+00</td>\n",
       "      <td>0.000000e+00</td>\n",
       "      <td>0.000000e+00</td>\n",
       "      <td>0.000000e+00</td>\n",
       "    </tr>\n",
       "    <tr>\n",
       "      <th>25%</th>\n",
       "      <td>8.552715e+05</td>\n",
       "      <td>5.139400e+04</td>\n",
       "      <td>5.000000e+00</td>\n",
       "      <td>1.000000e+00</td>\n",
       "      <td>1.000000e+01</td>\n",
       "      <td>4.000000e+00</td>\n",
       "    </tr>\n",
       "    <tr>\n",
       "      <th>50%</th>\n",
       "      <td>1.710542e+06</td>\n",
       "      <td>1.026890e+05</td>\n",
       "      <td>1.100000e+01</td>\n",
       "      <td>3.000000e+00</td>\n",
       "      <td>1.300000e+01</td>\n",
       "      <td>7.000000e+00</td>\n",
       "    </tr>\n",
       "    <tr>\n",
       "      <th>75%</th>\n",
       "      <td>2.565812e+06</td>\n",
       "      <td>1.543850e+05</td>\n",
       "      <td>2.300000e+01</td>\n",
       "      <td>5.000000e+00</td>\n",
       "      <td>1.600000e+01</td>\n",
       "      <td>1.500000e+01</td>\n",
       "    </tr>\n",
       "    <tr>\n",
       "      <th>max</th>\n",
       "      <td>3.421083e+06</td>\n",
       "      <td>2.062090e+05</td>\n",
       "      <td>1.000000e+02</td>\n",
       "      <td>6.000000e+00</td>\n",
       "      <td>2.300000e+01</td>\n",
       "      <td>3.000000e+01</td>\n",
       "    </tr>\n",
       "  </tbody>\n",
       "</table>\n",
       "</div>"
      ],
      "text/plain": [
       "           order_id   customer_id  order_number  orders_day_of_week  \\\n",
       "count  3.421083e+06  3.421083e+06  3.421083e+06        3.421083e+06   \n",
       "mean   1.710542e+06  1.029782e+05  1.715486e+01        2.776219e+00   \n",
       "std    9.875817e+05  5.953372e+04  1.773316e+01        2.046829e+00   \n",
       "min    1.000000e+00  1.000000e+00  1.000000e+00        0.000000e+00   \n",
       "25%    8.552715e+05  5.139400e+04  5.000000e+00        1.000000e+00   \n",
       "50%    1.710542e+06  1.026890e+05  1.100000e+01        3.000000e+00   \n",
       "75%    2.565812e+06  1.543850e+05  2.300000e+01        5.000000e+00   \n",
       "max    3.421083e+06  2.062090e+05  1.000000e+02        6.000000e+00   \n",
       "\n",
       "       order_hour_of_day  days_since_prior_order  \n",
       "count       3.421083e+06            3.421083e+06  \n",
       "mean        1.345202e+01            1.044488e+01  \n",
       "std         4.226088e+00            9.308727e+00  \n",
       "min         0.000000e+00            0.000000e+00  \n",
       "25%         1.000000e+01            4.000000e+00  \n",
       "50%         1.300000e+01            7.000000e+00  \n",
       "75%         1.600000e+01            1.500000e+01  \n",
       "max         2.300000e+01            3.000000e+01  "
      ]
     },
     "execution_count": 73,
     "metadata": {},
     "output_type": "execute_result"
    }
   ],
   "source": [
    "df_ords_no_nulls.describe()"
   ]
  },
  {
   "cell_type": "code",
   "execution_count": 74,
   "id": "b176dfc5-5bfb-43ca-9eb3-b579f273bcce",
   "metadata": {
    "execution": {
     "iopub.execute_input": "2023-04-25T12:42:43.147921Z",
     "iopub.status.busy": "2023-04-25T12:42:43.147700Z",
     "iopub.status.idle": "2023-04-25T12:42:43.179037Z",
     "shell.execute_reply": "2023-04-25T12:42:43.178194Z",
     "shell.execute_reply.started": "2023-04-25T12:42:43.147895Z"
    }
   },
   "outputs": [
    {
     "data": {
      "text/plain": [
       "order_id                  0\n",
       "customer_id               0\n",
       "order_number              0\n",
       "orders_day_of_week        0\n",
       "order_hour_of_day         0\n",
       "days_since_prior_order    0\n",
       "dtype: int64"
      ]
     },
     "execution_count": 74,
     "metadata": {},
     "output_type": "execute_result"
    }
   ],
   "source": [
    "df_ords_no_nulls.isnull().sum()"
   ]
  },
  {
   "cell_type": "markdown",
   "id": "cb7a8952-bcc4-4901-84bf-546f5512b006",
   "metadata": {},
   "source": [
    "## Step 7:  Run a check for duplicate values in your df_ords data.\n",
    "\n",
    "    In a markdown cell, report your findings and propose an explanation for any duplicate values you find.\n"
   ]
  },
  {
   "cell_type": "markdown",
   "id": "21a1cfd2-e1fa-4d3a-885a-74b37ed44eaa",
   "metadata": {},
   "source": [
    "### No duplicates found (see below).  Skipping Step 8, accordingly."
   ]
  },
  {
   "cell_type": "code",
   "execution_count": 75,
   "id": "f01e341a-7d64-4bc7-b274-cb86c6a06ad1",
   "metadata": {
    "execution": {
     "iopub.execute_input": "2023-04-25T12:42:43.180481Z",
     "iopub.status.busy": "2023-04-25T12:42:43.180126Z",
     "iopub.status.idle": "2023-04-25T12:42:44.252717Z",
     "shell.execute_reply": "2023-04-25T12:42:44.252190Z",
     "shell.execute_reply.started": "2023-04-25T12:42:43.180456Z"
    }
   },
   "outputs": [],
   "source": [
    "df_ords_no_nulls_any_dups = df_ords_no_nulls[df_ords_no_nulls.duplicated()]"
   ]
  },
  {
   "cell_type": "code",
   "execution_count": 76,
   "id": "d55afc2a-5db3-426b-b93e-fc70d9d2882f",
   "metadata": {
    "execution": {
     "iopub.execute_input": "2023-04-25T12:42:44.253946Z",
     "iopub.status.busy": "2023-04-25T12:42:44.253669Z",
     "iopub.status.idle": "2023-04-25T12:42:44.257952Z",
     "shell.execute_reply": "2023-04-25T12:42:44.257426Z",
     "shell.execute_reply.started": "2023-04-25T12:42:44.253923Z"
    }
   },
   "outputs": [
    {
     "data": {
      "text/plain": [
       "(0, 6)"
      ]
     },
     "execution_count": 76,
     "metadata": {},
     "output_type": "execute_result"
    }
   ],
   "source": [
    "df_ords_no_nulls_any_dups.shape"
   ]
  },
  {
   "cell_type": "code",
   "execution_count": 77,
   "id": "676d4a2f-35bb-4846-a261-ff923c276e56",
   "metadata": {
    "execution": {
     "iopub.execute_input": "2023-04-25T12:42:44.259258Z",
     "iopub.status.busy": "2023-04-25T12:42:44.258933Z",
     "iopub.status.idle": "2023-04-25T12:42:44.267834Z",
     "shell.execute_reply": "2023-04-25T12:42:44.266528Z",
     "shell.execute_reply.started": "2023-04-25T12:42:44.259235Z"
    }
   },
   "outputs": [
    {
     "data": {
      "text/html": [
       "<div>\n",
       "<style scoped>\n",
       "    .dataframe tbody tr th:only-of-type {\n",
       "        vertical-align: middle;\n",
       "    }\n",
       "\n",
       "    .dataframe tbody tr th {\n",
       "        vertical-align: top;\n",
       "    }\n",
       "\n",
       "    .dataframe thead th {\n",
       "        text-align: right;\n",
       "    }\n",
       "</style>\n",
       "<table border=\"1\" class=\"dataframe\">\n",
       "  <thead>\n",
       "    <tr style=\"text-align: right;\">\n",
       "      <th></th>\n",
       "      <th>order_id</th>\n",
       "      <th>customer_id</th>\n",
       "      <th>order_number</th>\n",
       "      <th>orders_day_of_week</th>\n",
       "      <th>order_hour_of_day</th>\n",
       "      <th>days_since_prior_order</th>\n",
       "    </tr>\n",
       "  </thead>\n",
       "  <tbody>\n",
       "  </tbody>\n",
       "</table>\n",
       "</div>"
      ],
      "text/plain": [
       "Empty DataFrame\n",
       "Columns: [order_id, customer_id, order_number, orders_day_of_week, order_hour_of_day, days_since_prior_order]\n",
       "Index: []"
      ]
     },
     "execution_count": 77,
     "metadata": {},
     "output_type": "execute_result"
    }
   ],
   "source": [
    "df_ords_no_nulls_any_dups"
   ]
  },
  {
   "cell_type": "markdown",
   "id": "bfc23162-0ed6-445d-8d29-f97e4a6cc762",
   "metadata": {},
   "source": [
    "## Step 9:  Export your final, cleaned df_prods and df_ords data as “.csv” files in your “Prepared Data” folder and give them appropriate, succinct names."
   ]
  },
  {
   "cell_type": "code",
   "execution_count": 78,
   "id": "4d9e51b2-c372-42e4-bb7c-dcaf3d6f5309",
   "metadata": {
    "execution": {
     "iopub.execute_input": "2023-04-25T12:42:44.270276Z",
     "iopub.status.busy": "2023-04-25T12:42:44.269477Z",
     "iopub.status.idle": "2023-04-25T12:42:44.275109Z",
     "shell.execute_reply": "2023-04-25T12:42:44.274186Z",
     "shell.execute_reply.started": "2023-04-25T12:42:44.270238Z"
    }
   },
   "outputs": [],
   "source": [
    "# I already saved the new \"checked\" products DataFrame to a .CSV file during the Exercise, above:\n",
    "# df_prods_checked.to_csv(os.path.join(path, '02-Data','Prepared-Data', 'products_checked.csv'))"
   ]
  },
  {
   "cell_type": "code",
   "execution_count": 79,
   "id": "ea8c3a83-d68e-4529-8a0a-b566c826f53f",
   "metadata": {
    "execution": {
     "iopub.execute_input": "2023-04-25T12:42:44.277020Z",
     "iopub.status.busy": "2023-04-25T12:42:44.276729Z",
     "iopub.status.idle": "2023-04-25T12:42:44.281391Z",
     "shell.execute_reply": "2023-04-25T12:42:44.280444Z",
     "shell.execute_reply.started": "2023-04-25T12:42:44.276989Z"
    }
   },
   "outputs": [],
   "source": [
    "# Copy the cleaned orders DataFrame to a new one with \"checked\" in the name (for consistency)."
   ]
  },
  {
   "cell_type": "code",
   "execution_count": 80,
   "id": "1bdac735-4ee1-4a3d-8d2c-499c5ffbab36",
   "metadata": {
    "execution": {
     "iopub.execute_input": "2023-04-25T12:42:44.283036Z",
     "iopub.status.busy": "2023-04-25T12:42:44.282702Z",
     "iopub.status.idle": "2023-04-25T12:42:44.291358Z",
     "shell.execute_reply": "2023-04-25T12:42:44.290352Z",
     "shell.execute_reply.started": "2023-04-25T12:42:44.283000Z"
    }
   },
   "outputs": [],
   "source": [
    "df_ords_checked=df_ords_no_nulls"
   ]
  },
  {
   "cell_type": "code",
   "execution_count": 81,
   "id": "625ca279-d51e-439e-9fce-e7dde1d25289",
   "metadata": {
    "execution": {
     "iopub.execute_input": "2023-04-25T12:42:44.294745Z",
     "iopub.status.busy": "2023-04-25T12:42:44.293741Z",
     "iopub.status.idle": "2023-04-25T12:42:44.305372Z",
     "shell.execute_reply": "2023-04-25T12:42:44.304768Z",
     "shell.execute_reply.started": "2023-04-25T12:42:44.294703Z"
    }
   },
   "outputs": [
    {
     "data": {
      "text/html": [
       "<div>\n",
       "<style scoped>\n",
       "    .dataframe tbody tr th:only-of-type {\n",
       "        vertical-align: middle;\n",
       "    }\n",
       "\n",
       "    .dataframe tbody tr th {\n",
       "        vertical-align: top;\n",
       "    }\n",
       "\n",
       "    .dataframe thead th {\n",
       "        text-align: right;\n",
       "    }\n",
       "</style>\n",
       "<table border=\"1\" class=\"dataframe\">\n",
       "  <thead>\n",
       "    <tr style=\"text-align: right;\">\n",
       "      <th></th>\n",
       "      <th>order_id</th>\n",
       "      <th>customer_id</th>\n",
       "      <th>order_number</th>\n",
       "      <th>orders_day_of_week</th>\n",
       "      <th>order_hour_of_day</th>\n",
       "      <th>days_since_prior_order</th>\n",
       "    </tr>\n",
       "  </thead>\n",
       "  <tbody>\n",
       "    <tr>\n",
       "      <th>0</th>\n",
       "      <td>2539329</td>\n",
       "      <td>1</td>\n",
       "      <td>1</td>\n",
       "      <td>2</td>\n",
       "      <td>8</td>\n",
       "      <td>0.0</td>\n",
       "    </tr>\n",
       "    <tr>\n",
       "      <th>1</th>\n",
       "      <td>2398795</td>\n",
       "      <td>1</td>\n",
       "      <td>2</td>\n",
       "      <td>3</td>\n",
       "      <td>7</td>\n",
       "      <td>15.0</td>\n",
       "    </tr>\n",
       "    <tr>\n",
       "      <th>2</th>\n",
       "      <td>473747</td>\n",
       "      <td>1</td>\n",
       "      <td>3</td>\n",
       "      <td>3</td>\n",
       "      <td>12</td>\n",
       "      <td>21.0</td>\n",
       "    </tr>\n",
       "    <tr>\n",
       "      <th>3</th>\n",
       "      <td>2254736</td>\n",
       "      <td>1</td>\n",
       "      <td>4</td>\n",
       "      <td>4</td>\n",
       "      <td>7</td>\n",
       "      <td>29.0</td>\n",
       "    </tr>\n",
       "    <tr>\n",
       "      <th>4</th>\n",
       "      <td>431534</td>\n",
       "      <td>1</td>\n",
       "      <td>5</td>\n",
       "      <td>4</td>\n",
       "      <td>15</td>\n",
       "      <td>28.0</td>\n",
       "    </tr>\n",
       "  </tbody>\n",
       "</table>\n",
       "</div>"
      ],
      "text/plain": [
       "   order_id  customer_id  order_number  orders_day_of_week  order_hour_of_day  \\\n",
       "0   2539329            1             1                   2                  8   \n",
       "1   2398795            1             2                   3                  7   \n",
       "2    473747            1             3                   3                 12   \n",
       "3   2254736            1             4                   4                  7   \n",
       "4    431534            1             5                   4                 15   \n",
       "\n",
       "   days_since_prior_order  \n",
       "0                     0.0  \n",
       "1                    15.0  \n",
       "2                    21.0  \n",
       "3                    29.0  \n",
       "4                    28.0  "
      ]
     },
     "execution_count": 81,
     "metadata": {},
     "output_type": "execute_result"
    }
   ],
   "source": [
    "df_ords_checked.head()"
   ]
  },
  {
   "cell_type": "code",
   "execution_count": 82,
   "id": "d8399061-ecda-4b00-a35a-380b1bd243df",
   "metadata": {
    "execution": {
     "iopub.execute_input": "2023-04-25T12:42:44.312957Z",
     "iopub.status.busy": "2023-04-25T12:42:44.312087Z",
     "iopub.status.idle": "2023-04-25T12:42:44.317591Z",
     "shell.execute_reply": "2023-04-25T12:42:44.316505Z",
     "shell.execute_reply.started": "2023-04-25T12:42:44.312917Z"
    }
   },
   "outputs": [],
   "source": [
    "# Save the new \"checked\" orders DataFrame to a .CSV file."
   ]
  },
  {
   "cell_type": "code",
   "execution_count": 83,
   "id": "9cdad7ee-147c-4240-b198-63fdb930af37",
   "metadata": {
    "execution": {
     "iopub.execute_input": "2023-04-25T12:42:44.318691Z",
     "iopub.status.busy": "2023-04-25T12:42:44.318494Z",
     "iopub.status.idle": "2023-04-25T12:42:56.106541Z",
     "shell.execute_reply": "2023-04-25T12:42:56.105771Z",
     "shell.execute_reply.started": "2023-04-25T12:42:44.318669Z"
    }
   },
   "outputs": [],
   "source": [
    "df_ords_checked.to_csv(os.path.join(path, '02-Data','Prepared-Data', 'orders_checked.csv'))"
   ]
  },
  {
   "cell_type": "markdown",
   "id": "bf230093",
   "metadata": {},
   "source": [
    "## Beginning of commands for Exercise 4.6."
   ]
  },
  {
   "cell_type": "code",
   "execution_count": 84,
   "id": "370114e2-72aa-4076-9549-8f95f3101b54",
   "metadata": {
    "execution": {
     "iopub.execute_input": "2023-04-25T12:42:56.107941Z",
     "iopub.status.busy": "2023-04-25T12:42:56.107738Z",
     "iopub.status.idle": "2023-04-25T12:42:56.111644Z",
     "shell.execute_reply": "2023-04-25T12:42:56.110836Z",
     "shell.execute_reply.started": "2023-04-25T12:42:56.107918Z"
    }
   },
   "outputs": [],
   "source": [
    "# Read the order_products__prior.csv.csv file into a dataframes."
   ]
  },
  {
   "cell_type": "code",
   "execution_count": 85,
   "id": "83c12f3e-84f3-406a-8839-9b20620b1d97",
   "metadata": {
    "execution": {
     "iopub.execute_input": "2023-04-25T12:42:56.112812Z",
     "iopub.status.busy": "2023-04-25T12:42:56.112632Z",
     "iopub.status.idle": "2023-04-25T12:43:06.916534Z",
     "shell.execute_reply": "2023-04-25T12:43:06.915827Z",
     "shell.execute_reply.started": "2023-04-25T12:42:56.112790Z"
    },
    "tags": []
   },
   "outputs": [],
   "source": [
    "df_ords_prior = pd.read_csv(os.path.join(path, '02-Data', 'Original-Data', 'order_products__prior.csv'), index_col = False)"
   ]
  },
  {
   "cell_type": "code",
   "execution_count": 86,
   "id": "9cec0015-f226-48ed-96b8-64e82406feaa",
   "metadata": {
    "execution": {
     "iopub.execute_input": "2023-04-25T12:43:06.917569Z",
     "iopub.status.busy": "2023-04-25T12:43:06.917388Z",
     "iopub.status.idle": "2023-04-25T12:43:09.551394Z",
     "shell.execute_reply": "2023-04-25T12:43:09.550566Z",
     "shell.execute_reply.started": "2023-04-25T12:43:06.917548Z"
    }
   },
   "outputs": [
    {
     "data": {
      "text/html": [
       "<div>\n",
       "<style scoped>\n",
       "    .dataframe tbody tr th:only-of-type {\n",
       "        vertical-align: middle;\n",
       "    }\n",
       "\n",
       "    .dataframe tbody tr th {\n",
       "        vertical-align: top;\n",
       "    }\n",
       "\n",
       "    .dataframe thead th {\n",
       "        text-align: right;\n",
       "    }\n",
       "</style>\n",
       "<table border=\"1\" class=\"dataframe\">\n",
       "  <thead>\n",
       "    <tr style=\"text-align: right;\">\n",
       "      <th></th>\n",
       "      <th>order_id</th>\n",
       "      <th>product_id</th>\n",
       "      <th>add_to_cart_order</th>\n",
       "      <th>reordered</th>\n",
       "    </tr>\n",
       "  </thead>\n",
       "  <tbody>\n",
       "    <tr>\n",
       "      <th>count</th>\n",
       "      <td>3.243449e+07</td>\n",
       "      <td>3.243449e+07</td>\n",
       "      <td>3.243449e+07</td>\n",
       "      <td>3.243449e+07</td>\n",
       "    </tr>\n",
       "    <tr>\n",
       "      <th>mean</th>\n",
       "      <td>1.710749e+06</td>\n",
       "      <td>2.557634e+04</td>\n",
       "      <td>8.351076e+00</td>\n",
       "      <td>5.896975e-01</td>\n",
       "    </tr>\n",
       "    <tr>\n",
       "      <th>std</th>\n",
       "      <td>9.873007e+05</td>\n",
       "      <td>1.409669e+04</td>\n",
       "      <td>7.126671e+00</td>\n",
       "      <td>4.918886e-01</td>\n",
       "    </tr>\n",
       "    <tr>\n",
       "      <th>min</th>\n",
       "      <td>2.000000e+00</td>\n",
       "      <td>1.000000e+00</td>\n",
       "      <td>1.000000e+00</td>\n",
       "      <td>0.000000e+00</td>\n",
       "    </tr>\n",
       "    <tr>\n",
       "      <th>25%</th>\n",
       "      <td>8.559430e+05</td>\n",
       "      <td>1.353000e+04</td>\n",
       "      <td>3.000000e+00</td>\n",
       "      <td>0.000000e+00</td>\n",
       "    </tr>\n",
       "    <tr>\n",
       "      <th>50%</th>\n",
       "      <td>1.711048e+06</td>\n",
       "      <td>2.525600e+04</td>\n",
       "      <td>6.000000e+00</td>\n",
       "      <td>1.000000e+00</td>\n",
       "    </tr>\n",
       "    <tr>\n",
       "      <th>75%</th>\n",
       "      <td>2.565514e+06</td>\n",
       "      <td>3.793500e+04</td>\n",
       "      <td>1.100000e+01</td>\n",
       "      <td>1.000000e+00</td>\n",
       "    </tr>\n",
       "    <tr>\n",
       "      <th>max</th>\n",
       "      <td>3.421083e+06</td>\n",
       "      <td>4.968800e+04</td>\n",
       "      <td>1.450000e+02</td>\n",
       "      <td>1.000000e+00</td>\n",
       "    </tr>\n",
       "  </tbody>\n",
       "</table>\n",
       "</div>"
      ],
      "text/plain": [
       "           order_id    product_id  add_to_cart_order     reordered\n",
       "count  3.243449e+07  3.243449e+07       3.243449e+07  3.243449e+07\n",
       "mean   1.710749e+06  2.557634e+04       8.351076e+00  5.896975e-01\n",
       "std    9.873007e+05  1.409669e+04       7.126671e+00  4.918886e-01\n",
       "min    2.000000e+00  1.000000e+00       1.000000e+00  0.000000e+00\n",
       "25%    8.559430e+05  1.353000e+04       3.000000e+00  0.000000e+00\n",
       "50%    1.711048e+06  2.525600e+04       6.000000e+00  1.000000e+00\n",
       "75%    2.565514e+06  3.793500e+04       1.100000e+01  1.000000e+00\n",
       "max    3.421083e+06  4.968800e+04       1.450000e+02  1.000000e+00"
      ]
     },
     "execution_count": 86,
     "metadata": {},
     "output_type": "execute_result"
    }
   ],
   "source": [
    "df_ords_prior.describe()"
   ]
  },
  {
   "cell_type": "code",
   "execution_count": 87,
   "id": "b0037d5f-4372-42b4-babd-9d2a5f99bdc3",
   "metadata": {
    "execution": {
     "iopub.execute_input": "2023-04-25T12:43:09.552819Z",
     "iopub.status.busy": "2023-04-25T12:43:09.552335Z",
     "iopub.status.idle": "2023-04-25T12:43:09.560807Z",
     "shell.execute_reply": "2023-04-25T12:43:09.560278Z",
     "shell.execute_reply.started": "2023-04-25T12:43:09.552794Z"
    }
   },
   "outputs": [
    {
     "data": {
      "text/html": [
       "<div>\n",
       "<style scoped>\n",
       "    .dataframe tbody tr th:only-of-type {\n",
       "        vertical-align: middle;\n",
       "    }\n",
       "\n",
       "    .dataframe tbody tr th {\n",
       "        vertical-align: top;\n",
       "    }\n",
       "\n",
       "    .dataframe thead th {\n",
       "        text-align: right;\n",
       "    }\n",
       "</style>\n",
       "<table border=\"1\" class=\"dataframe\">\n",
       "  <thead>\n",
       "    <tr style=\"text-align: right;\">\n",
       "      <th></th>\n",
       "      <th>order_id</th>\n",
       "      <th>product_id</th>\n",
       "      <th>add_to_cart_order</th>\n",
       "      <th>reordered</th>\n",
       "    </tr>\n",
       "  </thead>\n",
       "  <tbody>\n",
       "    <tr>\n",
       "      <th>0</th>\n",
       "      <td>2</td>\n",
       "      <td>33120</td>\n",
       "      <td>1</td>\n",
       "      <td>1</td>\n",
       "    </tr>\n",
       "    <tr>\n",
       "      <th>1</th>\n",
       "      <td>2</td>\n",
       "      <td>28985</td>\n",
       "      <td>2</td>\n",
       "      <td>1</td>\n",
       "    </tr>\n",
       "    <tr>\n",
       "      <th>2</th>\n",
       "      <td>2</td>\n",
       "      <td>9327</td>\n",
       "      <td>3</td>\n",
       "      <td>0</td>\n",
       "    </tr>\n",
       "    <tr>\n",
       "      <th>3</th>\n",
       "      <td>2</td>\n",
       "      <td>45918</td>\n",
       "      <td>4</td>\n",
       "      <td>1</td>\n",
       "    </tr>\n",
       "    <tr>\n",
       "      <th>4</th>\n",
       "      <td>2</td>\n",
       "      <td>30035</td>\n",
       "      <td>5</td>\n",
       "      <td>0</td>\n",
       "    </tr>\n",
       "  </tbody>\n",
       "</table>\n",
       "</div>"
      ],
      "text/plain": [
       "   order_id  product_id  add_to_cart_order  reordered\n",
       "0         2       33120                  1          1\n",
       "1         2       28985                  2          1\n",
       "2         2        9327                  3          0\n",
       "3         2       45918                  4          1\n",
       "4         2       30035                  5          0"
      ]
     },
     "execution_count": 87,
     "metadata": {},
     "output_type": "execute_result"
    }
   ],
   "source": [
    "df_ords_prior.head()"
   ]
  },
  {
   "cell_type": "code",
   "execution_count": 88,
   "id": "40e1a957-9d4e-42ee-959c-a3b8b6558a1a",
   "metadata": {
    "execution": {
     "iopub.execute_input": "2023-04-25T12:43:09.562096Z",
     "iopub.status.busy": "2023-04-25T12:43:09.561782Z",
     "iopub.status.idle": "2023-04-25T12:43:09.568382Z",
     "shell.execute_reply": "2023-04-25T12:43:09.567568Z",
     "shell.execute_reply.started": "2023-04-25T12:43:09.562073Z"
    }
   },
   "outputs": [
    {
     "data": {
      "text/plain": [
       "(32434489, 4)"
      ]
     },
     "execution_count": 88,
     "metadata": {},
     "output_type": "execute_result"
    }
   ],
   "source": [
    "df_ords_prior.shape"
   ]
  },
  {
   "cell_type": "code",
   "execution_count": 89,
   "id": "53a2a94e-c087-4b9a-82cf-3a760905db30",
   "metadata": {
    "execution": {
     "iopub.execute_input": "2023-04-25T12:43:09.569956Z",
     "iopub.status.busy": "2023-04-25T12:43:09.569539Z",
     "iopub.status.idle": "2023-04-25T12:43:09.581413Z",
     "shell.execute_reply": "2023-04-25T12:43:09.580397Z",
     "shell.execute_reply.started": "2023-04-25T12:43:09.569922Z"
    }
   },
   "outputs": [
    {
     "data": {
      "text/html": [
       "<div>\n",
       "<style scoped>\n",
       "    .dataframe tbody tr th:only-of-type {\n",
       "        vertical-align: middle;\n",
       "    }\n",
       "\n",
       "    .dataframe tbody tr th {\n",
       "        vertical-align: top;\n",
       "    }\n",
       "\n",
       "    .dataframe thead th {\n",
       "        text-align: right;\n",
       "    }\n",
       "</style>\n",
       "<table border=\"1\" class=\"dataframe\">\n",
       "  <thead>\n",
       "    <tr style=\"text-align: right;\">\n",
       "      <th></th>\n",
       "      <th>order_id</th>\n",
       "      <th>customer_id</th>\n",
       "      <th>order_number</th>\n",
       "      <th>orders_day_of_week</th>\n",
       "      <th>order_hour_of_day</th>\n",
       "      <th>days_since_prior_order</th>\n",
       "    </tr>\n",
       "  </thead>\n",
       "  <tbody>\n",
       "    <tr>\n",
       "      <th>0</th>\n",
       "      <td>2539329</td>\n",
       "      <td>1</td>\n",
       "      <td>1</td>\n",
       "      <td>2</td>\n",
       "      <td>8</td>\n",
       "      <td>0.0</td>\n",
       "    </tr>\n",
       "    <tr>\n",
       "      <th>1</th>\n",
       "      <td>2398795</td>\n",
       "      <td>1</td>\n",
       "      <td>2</td>\n",
       "      <td>3</td>\n",
       "      <td>7</td>\n",
       "      <td>15.0</td>\n",
       "    </tr>\n",
       "    <tr>\n",
       "      <th>2</th>\n",
       "      <td>473747</td>\n",
       "      <td>1</td>\n",
       "      <td>3</td>\n",
       "      <td>3</td>\n",
       "      <td>12</td>\n",
       "      <td>21.0</td>\n",
       "    </tr>\n",
       "    <tr>\n",
       "      <th>3</th>\n",
       "      <td>2254736</td>\n",
       "      <td>1</td>\n",
       "      <td>4</td>\n",
       "      <td>4</td>\n",
       "      <td>7</td>\n",
       "      <td>29.0</td>\n",
       "    </tr>\n",
       "    <tr>\n",
       "      <th>4</th>\n",
       "      <td>431534</td>\n",
       "      <td>1</td>\n",
       "      <td>5</td>\n",
       "      <td>4</td>\n",
       "      <td>15</td>\n",
       "      <td>28.0</td>\n",
       "    </tr>\n",
       "  </tbody>\n",
       "</table>\n",
       "</div>"
      ],
      "text/plain": [
       "   order_id  customer_id  order_number  orders_day_of_week  order_hour_of_day  \\\n",
       "0   2539329            1             1                   2                  8   \n",
       "1   2398795            1             2                   3                  7   \n",
       "2    473747            1             3                   3                 12   \n",
       "3   2254736            1             4                   4                  7   \n",
       "4    431534            1             5                   4                 15   \n",
       "\n",
       "   days_since_prior_order  \n",
       "0                     0.0  \n",
       "1                    15.0  \n",
       "2                    21.0  \n",
       "3                    29.0  \n",
       "4                    28.0  "
      ]
     },
     "execution_count": 89,
     "metadata": {},
     "output_type": "execute_result"
    }
   ],
   "source": [
    "df_ords.head()"
   ]
  },
  {
   "cell_type": "code",
   "execution_count": 90,
   "id": "4fbcfb51-4c89-4c7c-9ed8-a81dd27d1279",
   "metadata": {
    "execution": {
     "iopub.execute_input": "2023-04-25T12:43:09.582975Z",
     "iopub.status.busy": "2023-04-25T12:43:09.582593Z",
     "iopub.status.idle": "2023-04-25T12:43:09.587677Z",
     "shell.execute_reply": "2023-04-25T12:43:09.586862Z",
     "shell.execute_reply.started": "2023-04-25T12:43:09.582947Z"
    }
   },
   "outputs": [
    {
     "data": {
      "text/plain": [
       "(3421083, 6)"
      ]
     },
     "execution_count": 90,
     "metadata": {},
     "output_type": "execute_result"
    }
   ],
   "source": [
    "df_ords.shape"
   ]
  },
  {
   "cell_type": "code",
   "execution_count": 91,
   "id": "8cb50e46-c097-4583-a933-ed748a9d9a94",
   "metadata": {
    "execution": {
     "iopub.execute_input": "2023-04-25T12:43:09.588916Z",
     "iopub.status.busy": "2023-04-25T12:43:09.588637Z",
     "iopub.status.idle": "2023-04-25T12:43:16.926411Z",
     "shell.execute_reply": "2023-04-25T12:43:16.925863Z",
     "shell.execute_reply.started": "2023-04-25T12:43:09.588883Z"
    }
   },
   "outputs": [],
   "source": [
    "df_merged_large = df_ords.merge(df_ords_prior, on = 'order_id', indicator = True)"
   ]
  },
  {
   "cell_type": "code",
   "execution_count": 92,
   "id": "8aa279c6",
   "metadata": {
    "execution": {
     "iopub.execute_input": "2023-04-25T12:43:16.927743Z",
     "iopub.status.busy": "2023-04-25T12:43:16.927274Z",
     "iopub.status.idle": "2023-04-25T12:43:16.932627Z",
     "shell.execute_reply": "2023-04-25T12:43:16.931946Z",
     "shell.execute_reply.started": "2023-04-25T12:43:16.927719Z"
    }
   },
   "outputs": [
    {
     "data": {
      "text/plain": [
       "(32434489, 10)"
      ]
     },
     "execution_count": 92,
     "metadata": {},
     "output_type": "execute_result"
    }
   ],
   "source": [
    "df_merged_large.shape"
   ]
  },
  {
   "cell_type": "code",
   "execution_count": 93,
   "id": "f70921b6",
   "metadata": {
    "execution": {
     "iopub.execute_input": "2023-04-25T12:43:16.933909Z",
     "iopub.status.busy": "2023-04-25T12:43:16.933698Z",
     "iopub.status.idle": "2023-04-25T12:43:16.948747Z",
     "shell.execute_reply": "2023-04-25T12:43:16.947698Z",
     "shell.execute_reply.started": "2023-04-25T12:43:16.933887Z"
    }
   },
   "outputs": [
    {
     "data": {
      "text/html": [
       "<div>\n",
       "<style scoped>\n",
       "    .dataframe tbody tr th:only-of-type {\n",
       "        vertical-align: middle;\n",
       "    }\n",
       "\n",
       "    .dataframe tbody tr th {\n",
       "        vertical-align: top;\n",
       "    }\n",
       "\n",
       "    .dataframe thead th {\n",
       "        text-align: right;\n",
       "    }\n",
       "</style>\n",
       "<table border=\"1\" class=\"dataframe\">\n",
       "  <thead>\n",
       "    <tr style=\"text-align: right;\">\n",
       "      <th></th>\n",
       "      <th>order_id</th>\n",
       "      <th>customer_id</th>\n",
       "      <th>order_number</th>\n",
       "      <th>orders_day_of_week</th>\n",
       "      <th>order_hour_of_day</th>\n",
       "      <th>days_since_prior_order</th>\n",
       "      <th>product_id</th>\n",
       "      <th>add_to_cart_order</th>\n",
       "      <th>reordered</th>\n",
       "      <th>_merge</th>\n",
       "    </tr>\n",
       "  </thead>\n",
       "  <tbody>\n",
       "    <tr>\n",
       "      <th>0</th>\n",
       "      <td>2539329</td>\n",
       "      <td>1</td>\n",
       "      <td>1</td>\n",
       "      <td>2</td>\n",
       "      <td>8</td>\n",
       "      <td>0.0</td>\n",
       "      <td>196</td>\n",
       "      <td>1</td>\n",
       "      <td>0</td>\n",
       "      <td>both</td>\n",
       "    </tr>\n",
       "    <tr>\n",
       "      <th>1</th>\n",
       "      <td>2539329</td>\n",
       "      <td>1</td>\n",
       "      <td>1</td>\n",
       "      <td>2</td>\n",
       "      <td>8</td>\n",
       "      <td>0.0</td>\n",
       "      <td>14084</td>\n",
       "      <td>2</td>\n",
       "      <td>0</td>\n",
       "      <td>both</td>\n",
       "    </tr>\n",
       "    <tr>\n",
       "      <th>2</th>\n",
       "      <td>2539329</td>\n",
       "      <td>1</td>\n",
       "      <td>1</td>\n",
       "      <td>2</td>\n",
       "      <td>8</td>\n",
       "      <td>0.0</td>\n",
       "      <td>12427</td>\n",
       "      <td>3</td>\n",
       "      <td>0</td>\n",
       "      <td>both</td>\n",
       "    </tr>\n",
       "    <tr>\n",
       "      <th>3</th>\n",
       "      <td>2539329</td>\n",
       "      <td>1</td>\n",
       "      <td>1</td>\n",
       "      <td>2</td>\n",
       "      <td>8</td>\n",
       "      <td>0.0</td>\n",
       "      <td>26088</td>\n",
       "      <td>4</td>\n",
       "      <td>0</td>\n",
       "      <td>both</td>\n",
       "    </tr>\n",
       "    <tr>\n",
       "      <th>4</th>\n",
       "      <td>2539329</td>\n",
       "      <td>1</td>\n",
       "      <td>1</td>\n",
       "      <td>2</td>\n",
       "      <td>8</td>\n",
       "      <td>0.0</td>\n",
       "      <td>26405</td>\n",
       "      <td>5</td>\n",
       "      <td>0</td>\n",
       "      <td>both</td>\n",
       "    </tr>\n",
       "  </tbody>\n",
       "</table>\n",
       "</div>"
      ],
      "text/plain": [
       "   order_id  customer_id  order_number  orders_day_of_week  order_hour_of_day  \\\n",
       "0   2539329            1             1                   2                  8   \n",
       "1   2539329            1             1                   2                  8   \n",
       "2   2539329            1             1                   2                  8   \n",
       "3   2539329            1             1                   2                  8   \n",
       "4   2539329            1             1                   2                  8   \n",
       "\n",
       "   days_since_prior_order  product_id  add_to_cart_order  reordered _merge  \n",
       "0                     0.0         196                  1          0   both  \n",
       "1                     0.0       14084                  2          0   both  \n",
       "2                     0.0       12427                  3          0   both  \n",
       "3                     0.0       26088                  4          0   both  \n",
       "4                     0.0       26405                  5          0   both  "
      ]
     },
     "execution_count": 93,
     "metadata": {},
     "output_type": "execute_result"
    }
   ],
   "source": [
    "df_merged_large.head()"
   ]
  },
  {
   "cell_type": "code",
   "execution_count": 94,
   "id": "d68d934b",
   "metadata": {
    "execution": {
     "iopub.execute_input": "2023-04-25T12:43:16.950108Z",
     "iopub.status.busy": "2023-04-25T12:43:16.949831Z",
     "iopub.status.idle": "2023-04-25T12:43:17.148776Z",
     "shell.execute_reply": "2023-04-25T12:43:17.147754Z",
     "shell.execute_reply.started": "2023-04-25T12:43:16.950081Z"
    }
   },
   "outputs": [
    {
     "data": {
      "text/plain": [
       "both          32434489\n",
       "left_only            0\n",
       "right_only           0\n",
       "Name: _merge, dtype: int64"
      ]
     },
     "execution_count": 94,
     "metadata": {},
     "output_type": "execute_result"
    }
   ],
   "source": [
    "df_merged_large['_merge'].value_counts()"
   ]
  },
  {
   "cell_type": "markdown",
   "id": "02f35b51",
   "metadata": {},
   "source": [
    "# BEGINNING TASK 4.6."
   ]
  },
  {
   "cell_type": "markdown",
   "id": "d63a65ee",
   "metadata": {},
   "source": [
    "## Step 1:  If you haven’t merged your prepared Instacart orders data with the new orders_products_prior dataframe per the instructions in this Exercise, do so now."
   ]
  },
  {
   "cell_type": "markdown",
   "id": "85f46c87",
   "metadata": {},
   "source": [
    "### Done just above, as part of the Exercise."
   ]
  },
  {
   "cell_type": "markdown",
   "id": "662ba609",
   "metadata": {},
   "source": [
    "## Step 2:  Export the merged file in pickle format as “orders_products_combined.pkl”."
   ]
  },
  {
   "cell_type": "code",
   "execution_count": 95,
   "id": "dbccc393",
   "metadata": {
    "execution": {
     "iopub.execute_input": "2023-04-25T12:43:17.150429Z",
     "iopub.status.busy": "2023-04-25T12:43:17.150136Z",
     "iopub.status.idle": "2023-04-25T12:43:37.848047Z",
     "shell.execute_reply": "2023-04-25T12:43:37.847513Z",
     "shell.execute_reply.started": "2023-04-25T12:43:17.150396Z"
    }
   },
   "outputs": [],
   "source": [
    "df_merged_large.to_pickle(os.path.join(path, '02-Data','Prepared-Data', 'orders_products_combined.pkl'))"
   ]
  },
  {
   "cell_type": "markdown",
   "id": "4e4fc322",
   "metadata": {},
   "source": [
    "## Step 3:  In a new notebook, import the orders_products_combined dataframe from the pickle file you just saved."
   ]
  },
  {
   "cell_type": "markdown",
   "id": "65e5109f",
   "metadata": {},
   "source": [
    "### As instructed, Steps 3 and beyond will be conducted in a new notebook, named:  Task-4.6-Combining-and-Exporting-Data.Part-2.ipynb"
   ]
  },
  {
   "cell_type": "markdown",
   "id": "b59b36f2",
   "metadata": {},
   "source": [
    "### "
   ]
  }
 ],
 "metadata": {
  "kernelspec": {
   "display_name": "Python 3 (ipykernel)",
   "language": "python",
   "name": "python3"
  },
  "language_info": {
   "codemirror_mode": {
    "name": "ipython",
    "version": 3
   },
   "file_extension": ".py",
   "mimetype": "text/x-python",
   "name": "python",
   "nbconvert_exporter": "python",
   "pygments_lexer": "ipython3",
   "version": "3.9.12"
  }
 },
 "nbformat": 4,
 "nbformat_minor": 5
}
