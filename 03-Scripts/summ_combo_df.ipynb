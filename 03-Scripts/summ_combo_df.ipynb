{
 "cells": [
  {
   "cell_type": "markdown",
   "id": "cf7153e1-707f-4752-b810-c7d7fb1e0ce0",
   "metadata": {
    "tags": []
   },
   "source": [
    "# THIS NOTEBOOK SHOULD NOT BE RUN.  THIS NOTEBOOK SHOULD NOT BE RUN.\n",
    "# Task 4.10: Coding Etiquette & Excel Reporting:\n",
    "# Special code to generate a new DataFrame that summarizes the orders from each department, for each of the several thousand combinations of eight chosen demographic variables.\n",
    "# THIS TOOK THIRTY-THREE (33) HOURS TO RUN, BUT THE RESULTING DATAFRAME IS ONLY 3,253 LINES LONG, because some demographic combinations had no orders.\n",
    "# The main code was run as part of another Notebook.  I have moved the code here so as to avoid re-running it accidentally.\n",
    "# SO, THIS NOTEBOOK SHOULD NOT BE RUN."
   ]
  },
  {
   "cell_type": "markdown",
   "id": "68aced68-8e75-4b6f-be50-355958157f1f",
   "metadata": {
    "tags": []
   },
   "source": [
    "## Standard prerequisites.  Now with additional libraries seaborn, matplotlib, and scipy."
   ]
  },
  {
   "cell_type": "code",
   "execution_count": 1,
   "id": "8a042b79-9951-4c98-898e-40534be78293",
   "metadata": {
    "ExecuteTime": {
     "end_time": "2023-03-16T05:13:58.104429Z",
     "start_time": "2023-03-16T05:13:55.458556Z"
    },
    "execution": {
     "iopub.execute_input": "2023-04-30T00:21:46.759693Z",
     "iopub.status.busy": "2023-04-30T00:21:46.759396Z",
     "iopub.status.idle": "2023-04-30T00:21:48.345258Z",
     "shell.execute_reply": "2023-04-30T00:21:48.344381Z",
     "shell.execute_reply.started": "2023-04-30T00:21:46.759616Z"
    },
    "tags": []
   },
   "outputs": [],
   "source": [
    "# Import libraries\n",
    "import pandas as pd\n",
    "# I'm trying modin as a drop-in replace-- er, enhancement to pandas; supposedly it will help use more than one CPU core.\n",
    "# Nope.  I'm having too much trouble getting modin installed, so it's back to plain old Pandas for now. :-(\n",
    "# import modin.pandas as pd\n",
    "import numpy as np\n",
    "import os\n",
    "import matplotlib.pyplot as plt\n",
    "import seaborn as sns\n",
    "import scipy"
   ]
  },
  {
   "cell_type": "code",
   "execution_count": 2,
   "id": "39a33cb1-a286-4333-9ba5-f2e066c541d2",
   "metadata": {
    "ExecuteTime": {
     "end_time": "2023-03-16T05:13:58.110007Z",
     "start_time": "2023-03-16T05:13:58.106940Z"
    },
    "execution": {
     "iopub.execute_input": "2023-04-30T00:21:48.346942Z",
     "iopub.status.busy": "2023-04-30T00:21:48.346436Z",
     "iopub.status.idle": "2023-04-30T00:21:48.350569Z",
     "shell.execute_reply": "2023-04-30T00:21:48.349870Z",
     "shell.execute_reply.started": "2023-04-30T00:21:48.346917Z"
    }
   },
   "outputs": [],
   "source": [
    "# Starting with Exercise 4.7, import additional libraries I've discovered thanks to Lubov, especially the time library.\n",
    "import time\n",
    "import string\n",
    "import random"
   ]
  },
  {
   "cell_type": "code",
   "execution_count": 3,
   "id": "66bc9aab-3955-4448-93d5-103524f2d0cb",
   "metadata": {
    "execution": {
     "iopub.execute_input": "2023-04-30T00:21:48.352164Z",
     "iopub.status.busy": "2023-04-30T00:21:48.351462Z",
     "iopub.status.idle": "2023-04-30T00:21:48.355770Z",
     "shell.execute_reply": "2023-04-30T00:21:48.355231Z",
     "shell.execute_reply.started": "2023-04-30T00:21:48.352141Z"
    },
    "tags": []
   },
   "outputs": [],
   "source": [
    "# Import itertools to help loop through lots of things.\n",
    "import itertools"
   ]
  },
  {
   "cell_type": "code",
   "execution_count": 4,
   "id": "f49f3e78-d4c3-4e51-a282-c8be87c95cc3",
   "metadata": {
    "ExecuteTime": {
     "end_time": "2023-03-16T05:13:58.116676Z",
     "start_time": "2023-03-16T05:13:58.111662Z"
    },
    "execution": {
     "iopub.execute_input": "2023-04-30T00:21:48.358222Z",
     "iopub.status.busy": "2023-04-30T00:21:48.357831Z",
     "iopub.status.idle": "2023-04-30T00:21:48.361948Z",
     "shell.execute_reply": "2023-04-30T00:21:48.361310Z",
     "shell.execute_reply.started": "2023-04-30T00:21:48.358195Z"
    }
   },
   "outputs": [],
   "source": [
    "# Set a PATH variable."
   ]
  },
  {
   "cell_type": "code",
   "execution_count": 5,
   "id": "8778016b-4ae1-426d-b6e5-0597dfeafdc0",
   "metadata": {
    "ExecuteTime": {
     "end_time": "2023-03-16T05:13:58.122247Z",
     "start_time": "2023-03-16T05:13:58.119034Z"
    },
    "execution": {
     "iopub.execute_input": "2023-04-30T00:21:48.363235Z",
     "iopub.status.busy": "2023-04-30T00:21:48.363038Z",
     "iopub.status.idle": "2023-04-30T00:21:48.367425Z",
     "shell.execute_reply": "2023-04-30T00:21:48.366759Z",
     "shell.execute_reply.started": "2023-04-30T00:21:48.363213Z"
    }
   },
   "outputs": [],
   "source": [
    "# Linux PATH - Sadly, my Linux system with 8GB of total RAM could not import the new df_ords_prior DataFrame.\n",
    "# BUT, now I have moved again, to an AWS EC2 instance that should be able to handle this."
   ]
  },
  {
   "cell_type": "code",
   "execution_count": 6,
   "id": "9e214c7b-7881-4e56-9acb-34840bd4453a",
   "metadata": {
    "ExecuteTime": {
     "end_time": "2023-03-16T05:13:58.129043Z",
     "start_time": "2023-03-16T05:13:58.124442Z"
    },
    "execution": {
     "iopub.execute_input": "2023-04-30T00:21:48.368913Z",
     "iopub.status.busy": "2023-04-30T00:21:48.368383Z",
     "iopub.status.idle": "2023-04-30T00:21:48.372590Z",
     "shell.execute_reply": "2023-04-30T00:21:48.371855Z",
     "shell.execute_reply.started": "2023-04-30T00:21:48.368888Z"
    }
   },
   "outputs": [],
   "source": [
    "## path = (r'~/careerfoundry/tasks/data-immersion/Achievement4/Instacart-Basket-Analysis')"
   ]
  },
  {
   "cell_type": "markdown",
   "id": "b69a6fd0-0a2a-4c02-a5e4-ce882c4d2cc5",
   "metadata": {},
   "source": [
    "### # Oh, wow, matplotlib.pyplot.savefig function does not expand the tilde (~) reference in directory paths.  LAME. :("
   ]
  },
  {
   "cell_type": "code",
   "execution_count": 7,
   "id": "a863a2fc-a76b-46b6-ba43-5100fe9b0f84",
   "metadata": {
    "ExecuteTime": {
     "end_time": "2023-03-16T05:13:58.133903Z",
     "start_time": "2023-03-16T05:13:58.130743Z"
    },
    "execution": {
     "iopub.execute_input": "2023-04-30T00:21:48.373876Z",
     "iopub.status.busy": "2023-04-30T00:21:48.373611Z",
     "iopub.status.idle": "2023-04-30T00:21:48.378176Z",
     "shell.execute_reply": "2023-04-30T00:21:48.377360Z",
     "shell.execute_reply.started": "2023-04-30T00:21:48.373843Z"
    }
   },
   "outputs": [],
   "source": [
    "path = (r'/home/ubuntu/careerfoundry/tasks/data-immersion/Achievement4/Instacart-Basket-Analysis')"
   ]
  },
  {
   "cell_type": "code",
   "execution_count": 8,
   "id": "00b34895-65cb-4a3b-b1d3-784984d75d9c",
   "metadata": {
    "ExecuteTime": {
     "end_time": "2023-03-16T05:13:58.140204Z",
     "start_time": "2023-03-16T05:13:58.135602Z"
    },
    "execution": {
     "iopub.execute_input": "2023-04-30T00:21:48.379182Z",
     "iopub.status.busy": "2023-04-30T00:21:48.378983Z",
     "iopub.status.idle": "2023-04-30T00:21:48.382781Z",
     "shell.execute_reply": "2023-04-30T00:21:48.382083Z",
     "shell.execute_reply.started": "2023-04-30T00:21:48.379159Z"
    }
   },
   "outputs": [],
   "source": [
    "# windoze PATH - The windoze laptop I bought for Excel and Tableau also has 16GB of RAM, so I migrated there."
   ]
  },
  {
   "cell_type": "code",
   "execution_count": 9,
   "id": "09bff6f2-aa45-4fc3-bc1d-08b0a4ade1fe",
   "metadata": {
    "ExecuteTime": {
     "end_time": "2023-03-16T05:13:58.144930Z",
     "start_time": "2023-03-16T05:13:58.142052Z"
    },
    "execution": {
     "iopub.execute_input": "2023-04-30T00:21:48.384483Z",
     "iopub.status.busy": "2023-04-30T00:21:48.383788Z",
     "iopub.status.idle": "2023-04-30T00:21:48.387380Z",
     "shell.execute_reply": "2023-04-30T00:21:48.386847Z",
     "shell.execute_reply.started": "2023-04-30T00:21:48.384453Z"
    }
   },
   "outputs": [],
   "source": [
    "## path = (r'C:\\Users\\emccc\\OneDrive\\Documents\\CareerFoundry\\Achievement-4\\Instacart-Basket-Analysis')"
   ]
  },
  {
   "cell_type": "markdown",
   "id": "f7475c59-0b8b-45ed-af69-235363ce4298",
   "metadata": {
    "tags": []
   },
   "source": [
    "### Start by reloading our high_cust_df_three_more_columns from its pickle file and checking it for sanity."
   ]
  },
  {
   "cell_type": "code",
   "execution_count": 10,
   "id": "4fa87f94-0d17-466a-a917-053273450fc1",
   "metadata": {
    "ExecuteTime": {
     "end_time": "2023-03-16T05:20:57.066622Z",
     "start_time": "2023-03-16T05:20:02.050175Z"
    },
    "execution": {
     "iopub.execute_input": "2023-04-30T00:21:48.390047Z",
     "iopub.status.busy": "2023-04-30T00:21:48.389171Z",
     "iopub.status.idle": "2023-04-30T00:22:09.889739Z",
     "shell.execute_reply": "2023-04-30T00:22:09.888949Z",
     "shell.execute_reply.started": "2023-04-30T00:21:48.390005Z"
    }
   },
   "outputs": [],
   "source": [
    "high_cust_df_three_more_columns = pd.read_pickle(os.path.join(path, '02-Data', 'Prepared-Data', 'high_cust_df_three_more_columns.pkl'))"
   ]
  },
  {
   "cell_type": "code",
   "execution_count": 11,
   "id": "911dcb0b-60d7-4311-b13a-456ded4d6f17",
   "metadata": {
    "execution": {
     "iopub.execute_input": "2023-04-30T00:22:09.891142Z",
     "iopub.status.busy": "2023-04-30T00:22:09.890864Z",
     "iopub.status.idle": "2023-04-30T00:22:10.630367Z",
     "shell.execute_reply": "2023-04-30T00:22:10.628958Z",
     "shell.execute_reply.started": "2023-04-30T00:22:09.891110Z"
    }
   },
   "outputs": [
    {
     "ename": "KeyboardInterrupt",
     "evalue": "Stop execution here",
     "output_type": "error",
     "traceback": [
      "\u001b[0;31m---------------------------------------------------------------------------\u001b[0m",
      "\u001b[0;31mKeyboardInterrupt\u001b[0m                         Traceback (most recent call last)",
      "Input \u001b[0;32mIn [11]\u001b[0m, in \u001b[0;36m<cell line: 2>\u001b[0;34m()\u001b[0m\n\u001b[1;32m      1\u001b[0m \u001b[38;5;66;03m# MAKE SURE WE STOP, BY PRETENDING THE USER HIT CTRL-C.\u001b[39;00m\n\u001b[0;32m----> 2\u001b[0m \u001b[38;5;28;01mraise\u001b[39;00m \u001b[38;5;167;01mKeyboardInterrupt\u001b[39;00m(\u001b[38;5;124m\"\u001b[39m\u001b[38;5;124mStop execution here\u001b[39m\u001b[38;5;124m\"\u001b[39m)\n",
      "\u001b[0;31mKeyboardInterrupt\u001b[0m: Stop execution here"
     ]
    }
   ],
   "source": [
    "# MAKE SURE WE STOP, BY PRETENDING THE USER HIT CTRL-C.\n",
    "raise KeyboardInterrupt(\"Stop execution here\")"
   ]
  },
  {
   "cell_type": "code",
   "execution_count": null,
   "id": "f63e23c7-a7e1-4f9b-b513-a812e66768d4",
   "metadata": {
    "execution": {
     "iopub.status.busy": "2023-04-30T00:22:10.631401Z",
     "iopub.status.idle": "2023-04-30T00:22:10.631766Z",
     "shell.execute_reply": "2023-04-30T00:22:10.631599Z",
     "shell.execute_reply.started": "2023-04-30T00:22:10.631582Z"
    }
   },
   "outputs": [],
   "source": [
    "# Test to make sure this interruption code really works!\n",
    "print (\"Oh crap, we're still going!\""
   ]
  },
  {
   "cell_type": "markdown",
   "id": "03a67ebe-f49e-4cb2-bbfb-d5ea0bb160f8",
   "metadata": {},
   "source": [
    "# STOP.  DO NOT EXECUTE ANY CELLS BELOW THIS ONE."
   ]
  },
  {
   "cell_type": "code",
   "execution_count": 104,
   "id": "5e52604c-d1bd-448c-b06a-ac67e8e6e63c",
   "metadata": {
    "execution": {
     "iopub.execute_input": "2023-04-02T02:46:55.548111Z",
     "iopub.status.busy": "2023-04-02T02:46:55.547414Z",
     "iopub.status.idle": "2023-04-03T11:47:42.526095Z",
     "shell.execute_reply": "2023-04-03T11:47:42.525394Z",
     "shell.execute_reply.started": "2023-04-02T02:46:55.548073Z"
    },
    "tags": []
   },
   "outputs": [
    {
     "name": "stdout",
     "output_type": "stream",
     "text": [
      "(3253, 51)\n",
      "      total_order_count  count_snacks  prcnt_snacks  count_meat seafood  \\\n",
      "0                 14526        2632.0          18.0                92.0   \n",
      "1                 53274        3865.0           7.0              1332.0   \n",
      "2                 18091        1519.0           8.0               416.0   \n",
      "3                 54127        4079.0           8.0              1546.0   \n",
      "4                 22078        3874.0          18.0               186.0   \n",
      "...                 ...           ...           ...                 ...   \n",
      "3248                425          47.0          11.0                27.0   \n",
      "3249               1138          89.0           8.0                35.0   \n",
      "3250               1192          83.0           7.0                15.0   \n",
      "3251               2539         326.0          13.0                12.0   \n",
      "3252                836          43.0           5.0                11.0   \n",
      "\n",
      "      prcnt_meat seafood  count_bulk  prcnt_bulk  count_produce  \\\n",
      "0                    1.0         6.0         0.0         3272.0   \n",
      "1                    3.0        96.0         0.0        17315.0   \n",
      "2                    2.0        15.0         0.0         5229.0   \n",
      "3                    3.0        25.0         0.0        17004.0   \n",
      "4                    1.0        18.0         0.0         4197.0   \n",
      "...                  ...         ...         ...            ...   \n",
      "3248                 6.0         NaN         NaN          186.0   \n",
      "3249                 3.0         NaN         NaN          164.0   \n",
      "3250                 1.0         NaN         NaN          196.0   \n",
      "3251                 0.0         NaN         NaN          616.0   \n",
      "3252                 1.0         NaN         NaN          306.0   \n",
      "\n",
      "      prcnt_produce  count_breakfast  prcnt_breakfast  count_pantry  \\\n",
      "0              23.0            468.0              3.0         664.0   \n",
      "1              33.0            995.0              2.0        2982.0   \n",
      "2              29.0            426.0              2.0        1055.0   \n",
      "3              31.0           1192.0              2.0        3258.0   \n",
      "4              19.0            633.0              3.0        1133.0   \n",
      "...             ...              ...              ...           ...   \n",
      "3248           44.0              8.0              2.0          21.0   \n",
      "3249           14.0             24.0              2.0          54.0   \n",
      "3250           16.0             95.0              8.0         122.0   \n",
      "3251           24.0             86.0              3.0         153.0   \n",
      "3252           37.0             29.0              3.0          29.0   \n",
      "\n",
      "      prcnt_pantry  count_dairy eggs  prcnt_dairy eggs  count_frozen  \\\n",
      "0              5.0            2209.0              15.0         807.0   \n",
      "1              6.0            8751.0              16.0        3529.0   \n",
      "2              6.0            3161.0              17.0        1176.0   \n",
      "3              6.0            8778.0              16.0        3683.0   \n",
      "4              5.0            3656.0              17.0        1671.0   \n",
      "...            ...               ...               ...           ...   \n",
      "3248           5.0              56.0              13.0           NaN   \n",
      "3249           5.0             227.0              20.0          35.0   \n",
      "3250          10.0             157.0              13.0         101.0   \n",
      "3251           6.0             463.0              18.0         227.0   \n",
      "3252           3.0             165.0              20.0          67.0   \n",
      "\n",
      "      prcnt_frozen  count_beverages  prcnt_beverages  count_deli  prcnt_deli  \\\n",
      "0              6.0           2140.0             15.0       413.0         3.0   \n",
      "1              7.0           4082.0              8.0      1663.0         3.0   \n",
      "2              7.0           1326.0              7.0       525.0         3.0   \n",
      "3              7.0           4288.0              8.0      1453.0         3.0   \n",
      "4              8.0           2256.0             10.0       613.0         3.0   \n",
      "...            ...              ...              ...         ...         ...   \n",
      "3248           NaN             11.0              3.0        13.0         3.0   \n",
      "3249           3.0            144.0             13.0        59.0         5.0   \n",
      "3250           8.0            264.0             22.0        14.0         1.0   \n",
      "3251           9.0            237.0              9.0        74.0         3.0   \n",
      "3252           8.0             63.0              8.0        12.0         1.0   \n",
      "\n",
      "      count_household  prcnt_household  count_personal care  \\\n",
      "0               322.0              2.0                238.0   \n",
      "1               991.0              2.0                642.0   \n",
      "2               401.0              2.0                233.0   \n",
      "3              1199.0              2.0                772.0   \n",
      "4               609.0              3.0                407.0   \n",
      "...               ...              ...                  ...   \n",
      "3248              2.0              0.0                  NaN   \n",
      "3249             84.0              7.0                 36.0   \n",
      "3250              3.0              0.0                  1.0   \n",
      "3251              8.0              0.0                 30.0   \n",
      "3252             42.0              5.0                  NaN   \n",
      "\n",
      "      prcnt_personal care  count_bakery  prcnt_bakery  count_international  \\\n",
      "0                     2.0         449.0           3.0                 92.0   \n",
      "1                     1.0        1768.0           3.0                504.0   \n",
      "2                     1.0         664.0           4.0                118.0   \n",
      "3                     1.0        1705.0           3.0                523.0   \n",
      "4                     2.0         852.0           4.0                177.0   \n",
      "...                   ...           ...           ...                  ...   \n",
      "3248                  NaN          29.0           7.0                  NaN   \n",
      "3249                  3.0          85.0           7.0                  7.0   \n",
      "3250                  0.0         122.0          10.0                  2.0   \n",
      "3251                  1.0         119.0           5.0                 12.0   \n",
      "3252                  NaN          19.0           2.0                  1.0   \n",
      "\n",
      "      prcnt_international  count_other  prcnt_other  count_missing  \\\n",
      "0                     1.0          6.0          0.0           29.0   \n",
      "1                     1.0         43.0          0.0          111.0   \n",
      "2                     1.0         21.0          0.0           27.0   \n",
      "3                     1.0         47.0          0.0          197.0   \n",
      "4                     1.0          8.0          0.0           84.0   \n",
      "...                   ...          ...          ...            ...   \n",
      "3248                  NaN          NaN          NaN            NaN   \n",
      "3249                  1.0          4.0          0.0            NaN   \n",
      "3250                  0.0          3.0          0.0            NaN   \n",
      "3251                  0.0          1.0          0.0            9.0   \n",
      "3252                  0.0          NaN          NaN            NaN   \n",
      "\n",
      "      prcnt_missing  count_canned goods  prcnt_canned goods  \\\n",
      "0               0.0               287.0                 2.0   \n",
      "1               0.0              1645.0                 3.0   \n",
      "2               0.0               652.0                 4.0   \n",
      "3               0.0              1855.0                 3.0   \n",
      "4               0.0               635.0                 3.0   \n",
      "...             ...                 ...                 ...   \n",
      "3248            NaN                 3.0                 1.0   \n",
      "3249            NaN                18.0                 2.0   \n",
      "3250            NaN                 5.0                 0.0   \n",
      "3251            0.0                58.0                 2.0   \n",
      "3252            NaN                 3.0                 0.0   \n",
      "\n",
      "      count_dry goods pasta  prcnt_dry goods pasta  count_babies  \\\n",
      "0                     235.0                    2.0          93.0   \n",
      "1                    1295.0                    2.0        1251.0   \n",
      "2                     412.0                    2.0         379.0   \n",
      "3                    1477.0                    3.0         565.0   \n",
      "4                     556.0                    3.0         336.0   \n",
      "...                     ...                    ...           ...   \n",
      "3248                   22.0                    5.0           NaN   \n",
      "3249                   39.0                    3.0          24.0   \n",
      "3250                    9.0                    1.0           NaN   \n",
      "3251                   62.0                    2.0          46.0   \n",
      "3252                   26.0                    3.0           NaN   \n",
      "\n",
      "      prcnt_babies  count_alcohol  prcnt_alcohol  count_pets  prcnt_pets  \\\n",
      "0              1.0           47.0            0.0        25.0         0.0   \n",
      "1              2.0          296.0            1.0       118.0         0.0   \n",
      "2              2.0          192.0            1.0       144.0         1.0   \n",
      "3              1.0          329.0            1.0       152.0         0.0   \n",
      "4              2.0          123.0            1.0        54.0         0.0   \n",
      "...            ...            ...            ...         ...         ...   \n",
      "3248           NaN            NaN            NaN         NaN         NaN   \n",
      "3249           2.0            7.0            1.0         3.0         0.0   \n",
      "3250           NaN            NaN            NaN         NaN         NaN   \n",
      "3251           2.0            NaN            NaN         NaN         NaN   \n",
      "3252           NaN           20.0            2.0         NaN         NaN   \n",
      "\n",
      "          loyalty_flag spending_flag     frequency_flag  gender fam_status  \\\n",
      "0     Regular customer   Low spender  Frequent customer    Male    married   \n",
      "1     Regular customer   Low spender  Frequent customer    Male    married   \n",
      "2     Regular customer   Low spender  Frequent customer    Male    married   \n",
      "3     Regular customer   Low spender  Frequent customer    Male    married   \n",
      "4     Regular customer   Low spender  Frequent customer    Male    married   \n",
      "...                ...           ...                ...     ...        ...   \n",
      "3248    Loyal customer  High spender  Frequent customer  Female     single   \n",
      "3249    Loyal customer  High spender  Frequent customer  Female     single   \n",
      "3250    Loyal customer  High spender  Frequent customer  Female     single   \n",
      "3251    Loyal customer  High spender  Frequent customer  Female     single   \n",
      "3252    Loyal customer  High spender   Regular customer  Female    married   \n",
      "\n",
      "         region age_category income_category  \n",
      "0       Midwest        Older           Lower  \n",
      "1       Midwest        Older          Higher  \n",
      "2       Midwest        Older         Low-mid  \n",
      "3       Midwest        Older        Mid-high  \n",
      "4       Midwest     Late-mid           Lower  \n",
      "...         ...          ...             ...  \n",
      "3248       West    Early-mid        Mid-high  \n",
      "3249      South      Younger          Higher  \n",
      "3250      South    Early-mid           Lower  \n",
      "3251      South    Early-mid          Higher  \n",
      "3252  Northeast     Late-mid          Higher  \n",
      "\n",
      "[3253 rows x 51 columns]\n"
     ]
    }
   ],
   "source": [
    "# STOP.  DO NOT EXECUTE ANY MORE CODE, UNLESS YOU HAVE THIRTY-THREE HOURS TO SPARE.\n",
    "# MAKE SURE WE STOP, BY PRETENDING THE USER HIT CTRL-C.\n",
    "raise KeyboardInterrupt(\"Stop execution here\")\n",
    "\n",
    "# Loop through each unique combination of our demographic columns, and generate an array (well, a dictionary) of\n",
    "# total orders, total orders from each department, and percentage orders from each department compared to the overall total.\n",
    "\n",
    "# I am going to use a new dataframe - summ_combo_df - to hold the order summary output for the various demographic combinations.\n",
    "# Let's make sure it exists, but is empty, as we develop and debug our code.\n",
    "if 'summ_combo_df' in globals():\n",
    "    del summ_combo_df\n",
    "\n",
    "summ_combo_df = pd.DataFrame()\n",
    "\n",
    "\n",
    "# Uncomment the next line for the full list of demographic columns once testing has been satisfactory.\n",
    "demo_columns = ['loyalty_flag', 'spending_flag', 'frequency_flag', 'gender', 'fam_status', 'region', 'age_category', 'income_category']\n",
    "# Shorter demo_columns for testing:\n",
    "#demo_columns = ['loyalty_flag', 'spending_flag']\n",
    "#demo_columns = ['spending_flag']\n",
    "#demo_columns = ['gender']\n",
    "#demo_columns = ['loyalty_flag', 'spending_flag', 'frequency_flag']\n",
    "\n",
    "# Get the unique values for each column in 'demo_columns'.\n",
    "col_values = [high_cust_df_three_more_columns[col].unique() for col in demo_columns]\n",
    "\n",
    "# Create a list of lists with all combinations of values\n",
    "# This is the line we SHOULD USE:\n",
    "combos = list(itertools.product(*col_values))\n",
    "# This is what the line above basically gives us:\n",
    "#combos = [('Regular customer',), ('New customer',), ('Loyal customer',)]\n",
    "# Trying 'New customer' first STILL GIVES US \"KeyError: 0\".\n",
    "#combos = [('New customer',), ('Loyal customer',), ('Regular customer',)]\n",
    "#print (\"combos is:\\n\", combos, \"\\n\")\n",
    "\n",
    "#combo = pd.DataFrame()\n",
    "#combo = high_cust_df_three_more_columns.head(20)\n",
    "#print (\"combo is:\\n\", combo)\n",
    "#print (\"combo.shape is:\\n\", combo.shape)\n",
    "\n",
    "for combo in combos:\n",
    "    # Create a dictionary with column name and value pairs.\n",
    "    filter_dict = dict(zip(demo_columns, combo))\n",
    "    ##print (\"filter_dict:  \", filter_dict)\n",
    "    ##print ()\n",
    "    \n",
    "    # Filter the dataframe by the dictionary of column name and value pairs\n",
    "    #combo_df = pd.DataFrame(columns=high_cust_df_three_more_columns.columns)\n",
    "    combo_df = high_cust_df_three_more_columns\n",
    "    for key, value in filter_dict.items():\n",
    "        ##print (\"key, value are:  \", key, value)\n",
    "        ##print ()\n",
    "        \n",
    "        combo_df = combo_df[combo_df[key] == value].reset_index(drop=True)\n",
    "        #combo_df = combo_df[high_cust_df_three_more_columns[key] == value]\n",
    "        # The following may be more sophisticated or safer, instead.\n",
    "        #combo_df = combo_df[combo_df[key] == value] if not combo_df.empty else high_cust_df_three_more_columns[high_cust_df_three_more_columns[key] == value]    \n",
    "    try:\n",
    "        # select matching rows and display\n",
    "        #print(combo_df)\n",
    "        ##print (\"combo_df.columns.tolist() is:  \", combo_df.columns.tolist())\n",
    "        ##print (\"combo_df.shape is:  \", combo_df.shape)\n",
    "        ##print (combo_df.head(2))\n",
    "        ##print ()\n",
    "\n",
    "        sum_combo_cols = {'total_order_count': combo_df['order_id'].dropna().count()}\n",
    "\n",
    "        for dept in enumerate(combo_df['department'].unique()):\n",
    "            # Comment out the following line after testing!\n",
    "            #dept = 'snacks'\n",
    "            count_column = f'count_{dept[1]}'\n",
    "            prct_column = f'prcnt_{dept[1]}'\n",
    "            sum_combo_cols.update({count_column: combo_df.groupby('department').get_group(dept[1])['department'].count()})\n",
    "            percent_dept = round((sum_combo_cols[count_column] / sum_combo_cols['total_order_count']) * 100, 0)\n",
    "            sum_combo_cols.update({prct_column: percent_dept})\n",
    "\n",
    "        for col in demo_columns:\n",
    "            #print (col, \": \", combo_df.loc[0,col])\n",
    "            ##print (\"col is:  \", col)\n",
    "            ##print (\"combo_df.loc[0,col] is:  \", combo_df.loc[0,col])\n",
    "            sum_combo_cols.update({col: combo_df.loc[0,col]})\n",
    "\n",
    "    except KeyError:\n",
    "        # Skip this combination if there are no matching results.\n",
    "        continue\n",
    "        \n",
    "    # Print the result\n",
    "    #print(sum_b)\n",
    "    #print (\"sum_combo_cols is:\\n\", sum_combo_cols)\n",
    "    #print (\"The type of sum_combo_cols is:  \", type(sum_combo_cols))\n",
    "    #print (sum_combo_cols.shape)\n",
    "    # sum_combo_cols is a dictionary.  Add it as a row to our new summary dataframe.\n",
    "    # The first method is arguably more flexible should we need to change things, but may be slower.\n",
    "    new_row = pd.DataFrame([sum_combo_cols], columns=sum_combo_cols.keys())\n",
    "    summ_combo_df = pd.concat([summ_combo_df, new_row], ignore_index=True)\n",
    "    # Let's save our updated dataframe after each iteration, in case we crash.\n",
    "    # For the record, it took 5m10.65s to generate a 16-row DF from the first three demo columns.\n",
    "    # Writing to disk on each loop might be a performance sink.\n",
    "    # ...except that it had no impact on my 16-row, 3-demo-column test!  It took even less time, 5m9.19s!\n",
    "    summ_combo_df.to_pickle(os.path.join(path, '02-Data','Prepared-Data', 'summ_combo_df.pkl'))\n",
    "\n",
    "print (summ_combo_df.shape)\n",
    "print (summ_combo_df)\n",
    "\n",
    "    # Clean up\n",
    "    #del combo\n",
    "    #del sum_combo_cols\n",
    "\n",
    "#print (\"sum_combo_cols is:\\n\", sum_combo_cols)\n"
   ]
  }
 ],
 "metadata": {
  "kernelspec": {
   "display_name": "Python 3 (ipykernel)",
   "language": "python",
   "name": "python3"
  },
  "language_info": {
   "codemirror_mode": {
    "name": "ipython",
    "version": 3
   },
   "file_extension": ".py",
   "mimetype": "text/x-python",
   "name": "python",
   "nbconvert_exporter": "python",
   "pygments_lexer": "ipython3",
   "version": "3.9.12"
  }
 },
 "nbformat": 4,
 "nbformat_minor": 5
}
